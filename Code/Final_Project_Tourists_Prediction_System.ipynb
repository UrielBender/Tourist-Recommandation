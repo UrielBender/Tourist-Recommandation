{
  "nbformat": 4,
  "nbformat_minor": 0,
  "metadata": {
    "colab": {
      "name": "Final Project  - Tourists Prediction System.ipynb",
      "provenance": [],
      "collapsed_sections": []
    },
    "kernelspec": {
      "name": "python3",
      "display_name": "Python 3"
    },
    "language_info": {
      "name": "python"
    }
  },
  "cells": [
    {
      "cell_type": "markdown",
      "metadata": {
        "id": "3YD3-mgUEbnw"
      },
      "source": [
        "#**Data & Transportation Final Project**\n",
        "##Tourists Recommendation System\n",
        "###*Computer Science - Ruppin Academic Center*\n",
        "\n",
        "####Shai Shmuel, Rony Marshall, Uriel Bender"
      ]
    },
    {
      "cell_type": "markdown",
      "metadata": {
        "id": "-tJBndiMGcqZ"
      },
      "source": [
        "#####**Main NoteBook - Neural Network**"
      ]
    },
    {
      "cell_type": "code",
      "metadata": {
        "id": "cYC_IzL_RJfo"
      },
      "source": [
        "#Import All The Library we Need for the Data Prep ans Visualization\n",
        "import pandas as pd\n",
        "import io\n",
        "import numpy as np\n",
        "import matplotlib.pyplot as plt\n",
        "from google.colab import files"
      ],
      "execution_count": null,
      "outputs": []
    },
    {
      "cell_type": "markdown",
      "metadata": {
        "id": "7jiKSA-50Qkk"
      },
      "source": [
        "#####Upload The CSV File"
      ]
    },
    {
      "cell_type": "code",
      "metadata": {
        "colab": {
          "resources": {
            "http://localhost:8080/nbextensions/google.colab/files.js": {
              "data": "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",
              "ok": true,
              "headers": [
                [
                  "content-type",
                  "application/javascript"
                ]
              ],
              "status": 200,
              "status_text": ""
            }
          },
          "base_uri": "https://localhost:8080/",
          "height": 72
        },
        "id": "s7jxKTqORL1D",
        "outputId": "839b087d-580a-4f82-a8ed-71c962becb03"
      },
      "source": [
        "uploaded = files.upload()"
      ],
      "execution_count": null,
      "outputs": [
        {
          "output_type": "display_data",
          "data": {
            "text/html": [
              "\n",
              "     <input type=\"file\" id=\"files-3771b3f9-f6e7-4065-be2b-089bded59194\" name=\"files[]\" multiple disabled\n",
              "        style=\"border:none\" />\n",
              "     <output id=\"result-3771b3f9-f6e7-4065-be2b-089bded59194\">\n",
              "      Upload widget is only available when the cell has been executed in the\n",
              "      current browser session. Please rerun this cell to enable.\n",
              "      </output>\n",
              "      <script src=\"/nbextensions/google.colab/files.js\"></script> "
            ],
            "text/plain": [
              "<IPython.core.display.HTML object>"
            ]
          },
          "metadata": {
            "tags": []
          }
        },
        {
          "output_type": "stream",
          "text": [
            "Saving activitiesWithAccomodation2.csv to activitiesWithAccomodation2.csv\n"
          ],
          "name": "stdout"
        }
      ]
    },
    {
      "cell_type": "code",
      "metadata": {
        "colab": {
          "base_uri": "https://localhost:8080/",
          "height": 434
        },
        "id": "IsEum09FRM9P",
        "outputId": "1741b0f5-b095-4dcc-dd5e-5a61d0399c04"
      },
      "source": [
        "activities = pd.read_csv(io.BytesIO(uploaded['activities.csv']))\n",
        "activities.head(3)"
      ],
      "execution_count": null,
      "outputs": [
        {
          "output_type": "execute_result",
          "data": {
            "text/html": [
              "<div>\n",
              "<style scoped>\n",
              "    .dataframe tbody tr th:only-of-type {\n",
              "        vertical-align: middle;\n",
              "    }\n",
              "\n",
              "    .dataframe tbody tr th {\n",
              "        vertical-align: top;\n",
              "    }\n",
              "\n",
              "    .dataframe thead th {\n",
              "        text-align: right;\n",
              "    }\n",
              "</style>\n",
              "<table border=\"1\" class=\"dataframe\">\n",
              "  <thead>\n",
              "    <tr style=\"text-align: right;\">\n",
              "      <th></th>\n",
              "      <th>Unnamed: 0</th>\n",
              "      <th>Record ID</th>\n",
              "      <th>Activity ID</th>\n",
              "      <th>Travel Date</th>\n",
              "      <th>Activity Name</th>\n",
              "      <th>visit purpose category</th>\n",
              "      <th>religious affiliation category</th>\n",
              "      <th>first visit</th>\n",
              "      <th>country of origin</th>\n",
              "      <th>length of visit</th>\n",
              "      <th>arrival season</th>\n",
              "      <th>first activity of the day</th>\n",
              "      <th>last activity of the day</th>\n",
              "      <th>activity during the day</th>\n",
              "      <th>arrival date</th>\n",
              "      <th>total number of days</th>\n",
              "      <th>number of activity days</th>\n",
              "      <th>number of activities throughout the trip</th>\n",
              "      <th>number of activities per day for analysis</th>\n",
              "      <th>activity weekday</th>\n",
              "      <th>activity month</th>\n",
              "      <th>year</th>\n",
              "      <th>total minutes of activity</th>\n",
              "      <th>Arriving Time hour</th>\n",
              "      <th>tourist final aria</th>\n",
              "      <th>organized day trip</th>\n",
              "      <th>precentage organized transportation excluding walking</th>\n",
              "      <th>precentage taxi excluding walking</th>\n",
              "      <th>precentage private vehicle excluding walking</th>\n",
              "      <th>precentage public transportation excluding walking</th>\n",
              "      <th>day category</th>\n",
              "      <th>Jerusalem visiting category</th>\n",
              "      <th>Morning accommodation\\nlocation</th>\n",
              "      <th>Evening accommodation\\nlocation</th>\n",
              "      <th>activity purpose</th>\n",
              "      <th>Tourist in organized group</th>\n",
              "    </tr>\n",
              "  </thead>\n",
              "  <tbody>\n",
              "    <tr>\n",
              "      <th>0</th>\n",
              "      <td>23</td>\n",
              "      <td>17545</td>\n",
              "      <td>57602</td>\n",
              "      <td>12/2/2015</td>\n",
              "      <td>פארק גשר הצבים, נחל אלכסנדר</td>\n",
              "      <td>family &amp; friends</td>\n",
              "      <td>Jewish</td>\n",
              "      <td>no</td>\n",
              "      <td>North America</td>\n",
              "      <td>long visit</td>\n",
              "      <td>Christmas</td>\n",
              "      <td>0</td>\n",
              "      <td>0</td>\n",
              "      <td>1</td>\n",
              "      <td>12/1/2015</td>\n",
              "      <td>9</td>\n",
              "      <td>8</td>\n",
              "      <td>12</td>\n",
              "      <td>3</td>\n",
              "      <td>Wednesday</td>\n",
              "      <td>12</td>\n",
              "      <td>2015</td>\n",
              "      <td>87</td>\n",
              "      <td>11</td>\n",
              "      <td>עמק חפר</td>\n",
              "      <td>No</td>\n",
              "      <td>0%</td>\n",
              "      <td>0%</td>\n",
              "      <td>100%</td>\n",
              "      <td>0%</td>\n",
              "      <td>Normal day</td>\n",
              "      <td>0</td>\n",
              "      <td>בורגתה</td>\n",
              "      <td>בורגתה</td>\n",
              "      <td>Tourism / leisure / religious services / sport...</td>\n",
              "      <td>0</td>\n",
              "    </tr>\n",
              "    <tr>\n",
              "      <th>1</th>\n",
              "      <td>45</td>\n",
              "      <td>17545</td>\n",
              "      <td>68933</td>\n",
              "      <td>12/7/2015</td>\n",
              "      <td>פארק עם הכלב</td>\n",
              "      <td>family &amp; friends</td>\n",
              "      <td>Jewish</td>\n",
              "      <td>no</td>\n",
              "      <td>North America</td>\n",
              "      <td>long visit</td>\n",
              "      <td>Christmas</td>\n",
              "      <td>0</td>\n",
              "      <td>0</td>\n",
              "      <td>1</td>\n",
              "      <td>12/1/2015</td>\n",
              "      <td>9</td>\n",
              "      <td>8</td>\n",
              "      <td>12</td>\n",
              "      <td>2</td>\n",
              "      <td>Monday</td>\n",
              "      <td>12</td>\n",
              "      <td>2015</td>\n",
              "      <td>25</td>\n",
              "      <td>13</td>\n",
              "      <td>בורגתה</td>\n",
              "      <td>No</td>\n",
              "      <td>0%</td>\n",
              "      <td>0%</td>\n",
              "      <td>0%</td>\n",
              "      <td>0%</td>\n",
              "      <td>Normal day</td>\n",
              "      <td>0</td>\n",
              "      <td>בורגתה</td>\n",
              "      <td>בורגתה</td>\n",
              "      <td>Tourism / leisure / religious services / sport...</td>\n",
              "      <td>0</td>\n",
              "    </tr>\n",
              "    <tr>\n",
              "      <th>2</th>\n",
              "      <td>47</td>\n",
              "      <td>17545</td>\n",
              "      <td>68935</td>\n",
              "      <td>12/7/2015</td>\n",
              "      <td>אזור המושב</td>\n",
              "      <td>family &amp; friends</td>\n",
              "      <td>Jewish</td>\n",
              "      <td>no</td>\n",
              "      <td>North America</td>\n",
              "      <td>long visit</td>\n",
              "      <td>Christmas</td>\n",
              "      <td>0</td>\n",
              "      <td>0</td>\n",
              "      <td>1</td>\n",
              "      <td>12/1/2015</td>\n",
              "      <td>9</td>\n",
              "      <td>8</td>\n",
              "      <td>12</td>\n",
              "      <td>2</td>\n",
              "      <td>Monday</td>\n",
              "      <td>12</td>\n",
              "      <td>2015</td>\n",
              "      <td>2</td>\n",
              "      <td>20</td>\n",
              "      <td>בורגתה</td>\n",
              "      <td>No</td>\n",
              "      <td>0%</td>\n",
              "      <td>0%</td>\n",
              "      <td>0%</td>\n",
              "      <td>0%</td>\n",
              "      <td>Normal day</td>\n",
              "      <td>0</td>\n",
              "      <td>בורגתה</td>\n",
              "      <td>בורגתה</td>\n",
              "      <td>Tourism / leisure / religious services / sport...</td>\n",
              "      <td>0</td>\n",
              "    </tr>\n",
              "  </tbody>\n",
              "</table>\n",
              "</div>"
            ],
            "text/plain": [
              "   Unnamed: 0  ...  Tourist in organized group\n",
              "0          23  ...                           0\n",
              "1          45  ...                           0\n",
              "2          47  ...                           0\n",
              "\n",
              "[3 rows x 36 columns]"
            ]
          },
          "metadata": {
            "tags": []
          },
          "execution_count": 49
        }
      ]
    },
    {
      "cell_type": "code",
      "metadata": {
        "id": "vrogGav2RU3M"
      },
      "source": [
        "activities=activities[['Record ID','Activity ID','Travel Date','Activity Name','visit purpose category','religious affiliation category','first visit','country of origin','length of visit',\n",
        "                       'arrival season', 'first activity of the day','last activity of the day', 'activity during the day', 'arrival date','total number of days', 'number of activity days',\n",
        "                       'number of activities throughout the trip','number of activities per day for analysis', 'activity weekday','activity month','year','total minutes of activity','Arriving Time hour',\n",
        "                       'tourist final aria','organized day trip','precentage organized transportation excluding walking','precentage taxi excluding walking','precentage private vehicle excluding walking',\n",
        "                       'precentage public transportation excluding walking','day category','Jerusalem visiting category','Morning accommodation\\nlocation']]"
      ],
      "execution_count": null,
      "outputs": []
    },
    {
      "cell_type": "code",
      "metadata": {
        "id": "L5Gl9YoOfw7J"
      },
      "source": [
        "activities=activities.rename(columns={'Record ID':'tourist_id','Activity ID':'act_id','Travel Date':'act_date','Activity Name':'act_name','visit purpose category':'visit_purpose','religious affiliation category':'religion','first visit':'is_first_visit',\n",
        "                                      'country of origin':'origin','length of visit':'is_long_visit','arrival season':'arrival_season','first activity of the day':'is_first_act_of_day','last activity of the day':'is_last_act_of_day',\n",
        "                                      'activity during the day':'is_act_during_day','arrival date':'arrival_date','total number of days':'total_visit_days','number of activity days':'total_act_days','number of activities throughout the trip':'total_act',\n",
        "                                      'number of activities per day for analysis':'act_per_day','activity weekday':'act_weekday','activity month':'act_month','year':'act_year','total minutes of activity':'act_duration','Arriving Time hour':'act_start_hour',\n",
        "                                      'tourist final aria':'act_place','organized day trip':'is_organized_day_trip','precentage organized transportation excluding walking':'organized_transportation_precent',\n",
        "                                      'precentage taxi excluding walking':'taxi_precent','precentage private vehicle excluding walking':'private_vehicle_precent','precentage public transportation excluding walking':'public_tranport_precent',\n",
        "                                      'day category':'day_category','Jerusalem visiting category':'jerusalem_visiting_category','Morning accommodation\\nlocation':'accomodation_place'})"
      ],
      "execution_count": null,
      "outputs": []
    },
    {
      "cell_type": "code",
      "metadata": {
        "id": "1efbE_CKWt68",
        "colab": {
          "base_uri": "https://localhost:8080/"
        },
        "outputId": "4c1e4387-8d10-4446-e99b-36238b43674f"
      },
      "source": [
        "#Print the shape of the data frame\n",
        "activities.shape"
      ],
      "execution_count": null,
      "outputs": [
        {
          "output_type": "execute_result",
          "data": {
            "text/plain": [
              "(31644, 32)"
            ]
          },
          "metadata": {
            "tags": []
          },
          "execution_count": 52
        }
      ]
    },
    {
      "cell_type": "code",
      "metadata": {
        "id": "X1xlwjmMXaJ9",
        "colab": {
          "base_uri": "https://localhost:8080/"
        },
        "outputId": "c9d9e2e9-0f68-4391-d25d-bf58be81ce72"
      },
      "source": [
        "activities.columns"
      ],
      "execution_count": null,
      "outputs": [
        {
          "output_type": "execute_result",
          "data": {
            "text/plain": [
              "Index(['tourist_id', 'act_id', 'act_date', 'act_name', 'visit_purpose',\n",
              "       'religion', 'is_first_visit', 'origin', 'is_long_visit',\n",
              "       'arrival_season', 'is_first_act_of_day', 'is_last_act_of_day',\n",
              "       'is_act_during_day', 'arrival_date', 'total_visit_days',\n",
              "       'total_act_days', 'total_act', 'act_per_day', 'act_weekday',\n",
              "       'act_month', 'act_year', 'act_duration', 'act_start_hour', 'act_place',\n",
              "       'is_organized_day_trip', 'organized_transportation_precent',\n",
              "       'taxi_precent', 'private_vehicle_precent', 'public_tranport_precent',\n",
              "       'day_category', 'jerusalem_visiting_category', 'accomodation_place'],\n",
              "      dtype='object')"
            ]
          },
          "metadata": {
            "tags": []
          },
          "execution_count": 53
        }
      ]
    },
    {
      "cell_type": "code",
      "metadata": {
        "id": "0Hw5i2JH4AyK",
        "colab": {
          "base_uri": "https://localhost:8080/"
        },
        "outputId": "ca701ab9-37ec-44b4-98e9-7eb07b9f0b09"
      },
      "source": [
        "activities.act_start_hour = activities.act_start_hour.mod(24)\n",
        "print(activities['act_start_hour'].max())\n",
        "print(activities['act_start_hour'].min())"
      ],
      "execution_count": null,
      "outputs": [
        {
          "output_type": "stream",
          "text": [
            "23\n",
            "0\n"
          ],
          "name": "stdout"
        }
      ]
    },
    {
      "cell_type": "code",
      "metadata": {
        "id": "hYhTRdH3pQ80"
      },
      "source": [
        "#Add columns and dummy var columns to the data frame \n",
        "activities.loc[activities['visit_purpose']=='family & friends','visit_purpose']='Family&Friends'\n",
        "activities.loc[activities['visit_purpose']=='traveling and religion','visit_purpose']='Travel&Religion'\n",
        "activities.loc[activities['religion']=='Jewish - Religious','religion']='JewishReligious'\n",
        "activities.loc[activities['religion']=='No affiliation + Other','religion']='Other'\n",
        "activities.loc[activities['is_first_visit']=='no','is_first_visit']=0\n",
        "activities.loc[activities['is_first_visit']=='yes','is_first_visit']=1\n",
        "activities.loc[activities['origin']=='North America','origin']='North_America'\n",
        "activities.loc[activities['origin']=='East Asia','origin']='East_Asia'\n",
        "activities.loc[activities['origin']=='South and Central America','origin']='South_Central_America'\n",
        "activities.loc[activities['is_long_visit']=='long visit','is_long_visit']=1\n",
        "activities.loc[activities['is_long_visit']=='short visit','is_long_visit']=0\n",
        "activities.loc[activities['arrival_season']==\"Tishrei 'Holidays\",'arrival_season']='Tishrei_Holidays'\n",
        "activities.loc[activities['is_organized_day_trip']=='No','is_organized_day_trip']=0\n",
        "activities.loc[activities['is_organized_day_trip']=='-1','is_organized_day_trip']=0\n",
        "activities.loc[activities['is_organized_day_trip']=='Yes','is_organized_day_trip']=1\n",
        "activities.loc[activities['day_category']=='Normal day','day_category']='Normal_Day'\n",
        "activities.loc[activities['day_category']=='First day','day_category']='First_Day'\n",
        "activities.loc[activities['day_category']=='Last day','day_category']='Last_Day'\n",
        "activities.loc[activities['jerusalem_visiting_category']=='0','jerusalem_visiting_category']='0'\n",
        "activities.loc[activities['jerusalem_visiting_category']=='One day','jerusalem_visiting_category']='1'\n",
        "activities.loc[activities['jerusalem_visiting_category']=='More than one day','jerusalem_visiting_category']='More_than_one'"
      ],
      "execution_count": null,
      "outputs": []
    },
    {
      "cell_type": "code",
      "metadata": {
        "id": "r3rRobIZqINR",
        "colab": {
          "base_uri": "https://localhost:8080/"
        },
        "outputId": "e3524e2d-4c28-4091-ff49-06f9d5596e35"
      },
      "source": [
        "activities.nunique()"
      ],
      "execution_count": null,
      "outputs": [
        {
          "output_type": "execute_result",
          "data": {
            "text/plain": [
              "tourist_id                           2218\n",
              "act_id                              31644\n",
              "act_date                              730\n",
              "act_name                             3752\n",
              "visit_purpose                           3\n",
              "religion                                4\n",
              "is_first_visit                          2\n",
              "origin                                  7\n",
              "is_long_visit                           2\n",
              "arrival_season                          5\n",
              "is_first_act_of_day                     2\n",
              "is_last_act_of_day                      2\n",
              "is_act_during_day                       2\n",
              "arrival_date                          496\n",
              "total_visit_days                       17\n",
              "total_act_days                         16\n",
              "total_act                             102\n",
              "act_per_day                            23\n",
              "act_weekday                             7\n",
              "act_month                              12\n",
              "act_year                                3\n",
              "act_duration                          486\n",
              "act_start_hour                         24\n",
              "act_place                             460\n",
              "is_organized_day_trip                   2\n",
              "organized_transportation_precent       94\n",
              "taxi_precent                          101\n",
              "private_vehicle_precent               101\n",
              "public_tranport_precent               101\n",
              "day_category                            3\n",
              "jerusalem_visiting_category             3\n",
              "accomodation_place                    284\n",
              "dtype: int64"
            ]
          },
          "metadata": {
            "tags": []
          },
          "execution_count": 56
        }
      ]
    },
    {
      "cell_type": "code",
      "metadata": {
        "id": "pT2MRBRiixhH",
        "colab": {
          "base_uri": "https://localhost:8080/",
          "height": 390
        },
        "outputId": "3e16dc04-f372-47bf-ac62-0d37868ad519"
      },
      "source": [
        "df=pd.crosstab(activities.act_name,columns=\"count\")\n",
        "df.sort_values(\"count\",ascending=False).head(10)"
      ],
      "execution_count": null,
      "outputs": [
        {
          "output_type": "execute_result",
          "data": {
            "text/html": [
              "<div>\n",
              "<style scoped>\n",
              "    .dataframe tbody tr th:only-of-type {\n",
              "        vertical-align: middle;\n",
              "    }\n",
              "\n",
              "    .dataframe tbody tr th {\n",
              "        vertical-align: top;\n",
              "    }\n",
              "\n",
              "    .dataframe thead th {\n",
              "        text-align: right;\n",
              "    }\n",
              "</style>\n",
              "<table border=\"1\" class=\"dataframe\">\n",
              "  <thead>\n",
              "    <tr style=\"text-align: right;\">\n",
              "      <th>col_0</th>\n",
              "      <th>count</th>\n",
              "    </tr>\n",
              "    <tr>\n",
              "      <th>act_name</th>\n",
              "      <th></th>\n",
              "    </tr>\n",
              "  </thead>\n",
              "  <tbody>\n",
              "    <tr>\n",
              "      <th>חוף הים</th>\n",
              "      <td>3256</td>\n",
              "    </tr>\n",
              "    <tr>\n",
              "      <th>הרובע היהודי</th>\n",
              "      <td>1575</td>\n",
              "    </tr>\n",
              "    <tr>\n",
              "      <th>תצפית</th>\n",
              "      <td>1526</td>\n",
              "    </tr>\n",
              "    <tr>\n",
              "      <th>פאב</th>\n",
              "      <td>1128</td>\n",
              "    </tr>\n",
              "    <tr>\n",
              "      <th>הרובע הנוצרי</th>\n",
              "      <td>1096</td>\n",
              "    </tr>\n",
              "    <tr>\n",
              "      <th>בית כנסת</th>\n",
              "      <td>1053</td>\n",
              "    </tr>\n",
              "    <tr>\n",
              "      <th>טיול רגלי</th>\n",
              "      <td>938</td>\n",
              "    </tr>\n",
              "    <tr>\n",
              "      <th>כנסיית הקבר</th>\n",
              "      <td>802</td>\n",
              "    </tr>\n",
              "    <tr>\n",
              "      <th>הכותל המערבי</th>\n",
              "      <td>791</td>\n",
              "    </tr>\n",
              "    <tr>\n",
              "      <th>טיול</th>\n",
              "      <td>748</td>\n",
              "    </tr>\n",
              "  </tbody>\n",
              "</table>\n",
              "</div>"
            ],
            "text/plain": [
              "col_0         count\n",
              "act_name           \n",
              "חוף הים        3256\n",
              "הרובע היהודי   1575\n",
              "תצפית          1526\n",
              "פאב            1128\n",
              "הרובע הנוצרי   1096\n",
              "בית כנסת       1053\n",
              "טיול רגלי       938\n",
              "כנסיית הקבר     802\n",
              "הכותל המערבי    791\n",
              "טיול            748"
            ]
          },
          "metadata": {
            "tags": []
          },
          "execution_count": 57
        }
      ]
    },
    {
      "cell_type": "code",
      "metadata": {
        "id": "di1eNx0faUcm",
        "colab": {
          "base_uri": "https://localhost:8080/",
          "height": 545
        },
        "outputId": "05378589-33e9-431b-bd34-f1a113e0fc5f"
      },
      "source": [
        "#add the top 15 places to a new df\n",
        "df=pd.crosstab(activities.act_place,columns=\"count\")\n",
        "df=df.sort_values(\"count\",ascending=True).tail(15)\n",
        "df"
      ],
      "execution_count": null,
      "outputs": [
        {
          "output_type": "execute_result",
          "data": {
            "text/html": [
              "<div>\n",
              "<style scoped>\n",
              "    .dataframe tbody tr th:only-of-type {\n",
              "        vertical-align: middle;\n",
              "    }\n",
              "\n",
              "    .dataframe tbody tr th {\n",
              "        vertical-align: top;\n",
              "    }\n",
              "\n",
              "    .dataframe thead th {\n",
              "        text-align: right;\n",
              "    }\n",
              "</style>\n",
              "<table border=\"1\" class=\"dataframe\">\n",
              "  <thead>\n",
              "    <tr style=\"text-align: right;\">\n",
              "      <th>col_0</th>\n",
              "      <th>count</th>\n",
              "    </tr>\n",
              "    <tr>\n",
              "      <th>act_place</th>\n",
              "      <th></th>\n",
              "    </tr>\n",
              "  </thead>\n",
              "  <tbody>\n",
              "    <tr>\n",
              "      <th>מצפה רמון</th>\n",
              "      <td>165</td>\n",
              "    </tr>\n",
              "    <tr>\n",
              "      <th>חופי ים סוף</th>\n",
              "      <td>173</td>\n",
              "    </tr>\n",
              "    <tr>\n",
              "      <th>צפת</th>\n",
              "      <td>222</td>\n",
              "    </tr>\n",
              "    <tr>\n",
              "      <th>נתניה</th>\n",
              "      <td>247</td>\n",
              "    </tr>\n",
              "    <tr>\n",
              "      <th>קיסריה</th>\n",
              "      <td>287</td>\n",
              "    </tr>\n",
              "    <tr>\n",
              "      <th>נצרת והסביבה</th>\n",
              "      <td>291</td>\n",
              "    </tr>\n",
              "    <tr>\n",
              "      <th>עכו</th>\n",
              "      <td>299</td>\n",
              "    </tr>\n",
              "    <tr>\n",
              "      <th>אילת</th>\n",
              "      <td>342</td>\n",
              "    </tr>\n",
              "    <tr>\n",
              "      <th>בית לחם</th>\n",
              "      <td>353</td>\n",
              "    </tr>\n",
              "    <tr>\n",
              "      <th>חיפה והסביבה</th>\n",
              "      <td>700</td>\n",
              "    </tr>\n",
              "    <tr>\n",
              "      <th>הכינרת והסביבה</th>\n",
              "      <td>979</td>\n",
              "    </tr>\n",
              "    <tr>\n",
              "      <th>ים המלח והסביבה</th>\n",
              "      <td>1647</td>\n",
              "    </tr>\n",
              "    <tr>\n",
              "      <th>חופי הים התיכון</th>\n",
              "      <td>3466</td>\n",
              "    </tr>\n",
              "    <tr>\n",
              "      <th>תל אביב יפו</th>\n",
              "      <td>6104</td>\n",
              "    </tr>\n",
              "    <tr>\n",
              "      <th>ירושלים</th>\n",
              "      <td>12141</td>\n",
              "    </tr>\n",
              "  </tbody>\n",
              "</table>\n",
              "</div>"
            ],
            "text/plain": [
              "col_0            count\n",
              "act_place             \n",
              "מצפה רמון          165\n",
              "חופי ים סוף        173\n",
              "צפת                222\n",
              "נתניה              247\n",
              "קיסריה             287\n",
              "נצרת והסביבה       291\n",
              "עכו                299\n",
              "אילת               342\n",
              "בית לחם            353\n",
              "חיפה והסביבה       700\n",
              "הכינרת והסביבה     979\n",
              "ים המלח והסביבה   1647\n",
              "חופי הים התיכון   3466\n",
              "תל אביב יפו       6104\n",
              "ירושלים          12141"
            ]
          },
          "metadata": {
            "tags": []
          },
          "execution_count": 58
        }
      ]
    },
    {
      "cell_type": "markdown",
      "metadata": {
        "id": "KZhotSwBPpI5"
      },
      "source": [
        "- above 90% of the places are in the tail 100 of the data according to act_place column\n",
        "- jerusalem is more than 30% of the records"
      ]
    },
    {
      "cell_type": "code",
      "metadata": {
        "id": "kIPozCG-TYn9",
        "colab": {
          "base_uri": "https://localhost:8080/"
        },
        "outputId": "e87cb0f5-74de-4162-cfef-ab91c30b0494"
      },
      "source": [
        "df.index"
      ],
      "execution_count": null,
      "outputs": [
        {
          "output_type": "execute_result",
          "data": {
            "text/plain": [
              "Index(['מצפה רמון', 'חופי ים סוף', 'צפת', 'נתניה', 'קיסריה', 'נצרת והסביבה',\n",
              "       'עכו', 'אילת', 'בית לחם', 'חיפה והסביבה', 'הכינרת והסביבה',\n",
              "       'ים המלח והסביבה', 'חופי הים התיכון', 'תל אביב יפו', 'ירושלים'],\n",
              "      dtype='object', name='act_place')"
            ]
          },
          "metadata": {
            "tags": []
          },
          "execution_count": 59
        }
      ]
    },
    {
      "cell_type": "code",
      "metadata": {
        "id": "9uYaD91YTYh4",
        "colab": {
          "base_uri": "https://localhost:8080/"
        },
        "outputId": "96335507-765a-434c-c7b2-c714a7e1cc19"
      },
      "source": [
        "ls=[]\n",
        "for i in df.index:\n",
        "  ls.append(i)\n",
        "print(ls)\n",
        "\n",
        "activities=activities.loc[activities['act_place'].isin(ls)]"
      ],
      "execution_count": null,
      "outputs": [
        {
          "output_type": "stream",
          "text": [
            "['מצפה רמון', 'חופי ים סוף', 'צפת', 'נתניה', 'קיסריה', 'נצרת והסביבה', 'עכו', 'אילת', 'בית לחם', 'חיפה והסביבה', 'הכינרת והסביבה', 'ים המלח והסביבה', 'חופי הים התיכון', 'תל אביב יפו', 'ירושלים']\n"
          ],
          "name": "stdout"
        }
      ]
    },
    {
      "cell_type": "code",
      "metadata": {
        "id": "E_7I-qyD3-Kq",
        "colab": {
          "base_uri": "https://localhost:8080/"
        },
        "outputId": "b446483e-9eaa-476e-f0e9-6fe0d793007f"
      },
      "source": [
        "#replace the place name to a number as prep for the neural network\n",
        "activities.loc[activities['act_place']=='מצפה רמון','act_place']=0\n",
        "activities.loc[activities['act_place']=='חופי ים סוף','act_place']=1\n",
        "activities.loc[activities['act_place']=='צפת','act_place']=2\n",
        "activities.loc[activities['act_place']=='נתניה','act_place']=3\n",
        "activities.loc[activities['act_place']=='בית לחם','act_place']=4\n",
        "activities.loc[activities['act_place']=='קיסריה','act_place']=5\n",
        "activities.loc[activities['act_place']=='עכו','act_place']=6\n",
        "activities.loc[activities['act_place']=='נצרת והסביבה','act_place']=7\n",
        "activities.loc[activities['act_place']=='אילת','act_place']=8\n",
        "activities.loc[activities['act_place']=='חיפה והסביבה','act_place']=9\n",
        "activities.loc[activities['act_place']=='הכינרת והסביבה','act_place']=10\n",
        "activities.loc[activities['act_place']=='ים המלח והסביבה','act_place']=11\n",
        "activities.loc[activities['act_place']=='חופי הים התיכון','act_place']=12\n",
        "activities.loc[activities['act_place']=='תל אביב יפו','act_place']=13\n",
        "activities.loc[activities['act_place']=='ירושלים','act_place']=14\n",
        "\n",
        "print(activities.shape)"
      ],
      "execution_count": null,
      "outputs": [
        {
          "output_type": "stream",
          "text": [
            "(27416, 32)\n"
          ],
          "name": "stdout"
        }
      ]
    },
    {
      "cell_type": "code",
      "metadata": {
        "id": "dv7qQlfKtVK0",
        "colab": {
          "base_uri": "https://localhost:8080/",
          "height": 419
        },
        "outputId": "c51cccaa-28be-44d8-adab-88a8037bf934"
      },
      "source": [
        "#find how much activities have very low duration \n",
        "df=activities[['act_name','act_duration']]\n",
        "df.sort_values(by='act_duration').head(3000)"
      ],
      "execution_count": null,
      "outputs": [
        {
          "output_type": "execute_result",
          "data": {
            "text/html": [
              "<div>\n",
              "<style scoped>\n",
              "    .dataframe tbody tr th:only-of-type {\n",
              "        vertical-align: middle;\n",
              "    }\n",
              "\n",
              "    .dataframe tbody tr th {\n",
              "        vertical-align: top;\n",
              "    }\n",
              "\n",
              "    .dataframe thead th {\n",
              "        text-align: right;\n",
              "    }\n",
              "</style>\n",
              "<table border=\"1\" class=\"dataframe\">\n",
              "  <thead>\n",
              "    <tr style=\"text-align: right;\">\n",
              "      <th></th>\n",
              "      <th>act_name</th>\n",
              "      <th>act_duration</th>\n",
              "    </tr>\n",
              "  </thead>\n",
              "  <tbody>\n",
              "    <tr>\n",
              "      <th>18123</th>\n",
              "      <td>ישיבה</td>\n",
              "      <td>0</td>\n",
              "    </tr>\n",
              "    <tr>\n",
              "      <th>31404</th>\n",
              "      <td>פאב</td>\n",
              "      <td>0</td>\n",
              "    </tr>\n",
              "    <tr>\n",
              "      <th>12290</th>\n",
              "      <td>מועדון</td>\n",
              "      <td>0</td>\n",
              "    </tr>\n",
              "    <tr>\n",
              "      <th>17956</th>\n",
              "      <td>ישיבה</td>\n",
              "      <td>0</td>\n",
              "    </tr>\n",
              "    <tr>\n",
              "      <th>30406</th>\n",
              "      <td>תצפית</td>\n",
              "      <td>0</td>\n",
              "    </tr>\n",
              "    <tr>\n",
              "      <th>...</th>\n",
              "      <td>...</td>\n",
              "      <td>...</td>\n",
              "    </tr>\n",
              "    <tr>\n",
              "      <th>7749</th>\n",
              "      <td>הרובע הארמני</td>\n",
              "      <td>5</td>\n",
              "    </tr>\n",
              "    <tr>\n",
              "      <th>5602</th>\n",
              "      <td>העיר העתיקה</td>\n",
              "      <td>5</td>\n",
              "    </tr>\n",
              "    <tr>\n",
              "      <th>20743</th>\n",
              "      <td>מגדל דוד</td>\n",
              "      <td>5</td>\n",
              "    </tr>\n",
              "    <tr>\n",
              "      <th>16157</th>\n",
              "      <td>העיר העתיקה</td>\n",
              "      <td>5</td>\n",
              "    </tr>\n",
              "    <tr>\n",
              "      <th>22358</th>\n",
              "      <td>חוף הים</td>\n",
              "      <td>5</td>\n",
              "    </tr>\n",
              "  </tbody>\n",
              "</table>\n",
              "<p>3000 rows × 2 columns</p>\n",
              "</div>"
            ],
            "text/plain": [
              "           act_name  act_duration\n",
              "18123         ישיבה             0\n",
              "31404           פאב             0\n",
              "12290        מועדון             0\n",
              "17956         ישיבה             0\n",
              "30406         תצפית             0\n",
              "...             ...           ...\n",
              "7749   הרובע הארמני             5\n",
              "5602    העיר העתיקה             5\n",
              "20743      מגדל דוד             5\n",
              "16157   העיר העתיקה             5\n",
              "22358       חוף הים             5\n",
              "\n",
              "[3000 rows x 2 columns]"
            ]
          },
          "metadata": {
            "tags": []
          },
          "execution_count": 62
        }
      ]
    },
    {
      "cell_type": "code",
      "metadata": {
        "id": "YabNboLn0AGu",
        "colab": {
          "base_uri": "https://localhost:8080/"
        },
        "outputId": "9946aa15-fc58-4988-a852-0b492875c1cb"
      },
      "source": [
        "#take only duration between 10-500 min (act_duration)\n",
        "activities=activities.loc[(activities['act_duration'] > 10) & (activities['act_duration']<500)]\n",
        "activities.shape"
      ],
      "execution_count": null,
      "outputs": [
        {
          "output_type": "execute_result",
          "data": {
            "text/plain": [
              "(21287, 32)"
            ]
          },
          "metadata": {
            "tags": []
          },
          "execution_count": 63
        }
      ]
    },
    {
      "cell_type": "markdown",
      "metadata": {
        "id": "nftlIMmXN4Is"
      },
      "source": [
        "####Understanding the data"
      ]
    },
    {
      "cell_type": "code",
      "metadata": {
        "id": "Y71i95YsEyBM"
      },
      "source": [
        "#check how much row there is for each religion\n",
        "df_relig =pd.crosstab(activities.religion,columns=\"count\")\n",
        "df_relig = df_relig.sort_values(\"count\",ascending=True)"
      ],
      "execution_count": null,
      "outputs": []
    },
    {
      "cell_type": "code",
      "metadata": {
        "colab": {
          "base_uri": "https://localhost:8080/",
          "height": 321
        },
        "id": "abJQiTAEKgl6",
        "outputId": "2474cad9-3862-4564-d9d2-a1c322601d5c"
      },
      "source": [
        "# religionPlot = df.plot.pie(subplots=True, figsize=(11, 11))\n",
        "Releg_labels = 'JewishReligious','Jewish','Other', 'Christian'\n",
        "plt.pie(df_relig,labels=Releg_labels ,autopct='%1.1f%%')\n",
        "plt.axis('equal')\n",
        "plt.show()"
      ],
      "execution_count": null,
      "outputs": [
        {
          "output_type": "stream",
          "text": [
            "/usr/local/lib/python3.7/dist-packages/ipykernel_launcher.py:3: MatplotlibDeprecationWarning:\n",
            "\n",
            "Non-1D inputs to pie() are currently squeeze()d, but this behavior is deprecated since 3.1 and will be removed in 3.3; pass a 1D array instead.\n",
            "\n"
          ],
          "name": "stderr"
        },
        {
          "output_type": "display_data",
          "data": {
            "image/png": "[encoded data removed]",
            "text/plain": [
              "<Figure size 432x288 with 1 Axes>"
            ]
          },
          "metadata": {
            "tags": []
          }
        }
      ]
    },
    {
      "cell_type": "code",
      "metadata": {
        "id": "9hBCsv-5E3UH"
      },
      "source": [
        "df_Origin =pd.crosstab(activities.origin,columns=\"count\")\n",
        "df_Origin = df_Origin.sort_values(\"count\",ascending=True)\n"
      ],
      "execution_count": null,
      "outputs": []
    },
    {
      "cell_type": "code",
      "metadata": {
        "colab": {
          "base_uri": "https://localhost:8080/",
          "height": 318
        },
        "id": "APt6MwTIM6qg",
        "outputId": "185ae523-db3d-4189-c610-1f667e71c4d6"
      },
      "source": [
        "Orig_labels = 'Other','Africa','East_Asia', 'Oceania', 'South_Central_America', 'North_America', 'Europe'\n",
        "plt.pie(df_Origin,labels=Orig_labels ,autopct='%2.1f%%')\n",
        "plt.axis('equal')\n",
        "plt.show()"
      ],
      "execution_count": null,
      "outputs": [
        {
          "output_type": "stream",
          "text": [
            "/usr/local/lib/python3.7/dist-packages/ipykernel_launcher.py:2: MatplotlibDeprecationWarning:\n",
            "\n",
            "Non-1D inputs to pie() are currently squeeze()d, but this behavior is deprecated since 3.1 and will be removed in 3.3; pass a 1D array instead.\n",
            "\n"
          ],
          "name": "stderr"
        },
        {
          "output_type": "display_data",
          "data": {
            "image/png": "[encoded data removed]",
            "text/plain": [
              "<Figure size 432x288 with 1 Axes>"
            ]
          },
          "metadata": {
            "tags": []
          }
        }
      ]
    },
    {
      "cell_type": "code",
      "metadata": {
        "id": "rt_z15k2Xm4B",
        "colab": {
          "base_uri": "https://localhost:8080/",
          "height": 179
        },
        "outputId": "70f0092e-d89c-4bba-8bad-b41679758568"
      },
      "source": [
        "#dropped act_place from dummies for NN\n",
        "activities=pd.get_dummies(activities, \n",
        "                          columns=[\"visit_purpose\", \"religion\", \"origin\", \"arrival_season\",\"act_weekday\",\"act_month\",\"act_year\",\"day_category\",\"jerusalem_visiting_category\"],\n",
        "                          prefix=[\"visit_purpose\", \"religion\", \"origin\", \"arrival_season\",\"act_weekday\",\"act_month\",\"act_year\",\"day_category\",\"jerusalem_visiting_category\"])\n",
        "activities.head(3)"
      ],
      "execution_count": null,
      "outputs": [
        {
          "output_type": "execute_result",
          "data": {
            "text/html": [
              "<div>\n",
              "<style scoped>\n",
              "    .dataframe tbody tr th:only-of-type {\n",
              "        vertical-align: middle;\n",
              "    }\n",
              "\n",
              "    .dataframe tbody tr th {\n",
              "        vertical-align: top;\n",
              "    }\n",
              "\n",
              "    .dataframe thead th {\n",
              "        text-align: right;\n",
              "    }\n",
              "</style>\n",
              "<table border=\"1\" class=\"dataframe\">\n",
              "  <thead>\n",
              "    <tr style=\"text-align: right;\">\n",
              "      <th></th>\n",
              "      <th>tourist_id</th>\n",
              "      <th>act_id</th>\n",
              "      <th>act_date</th>\n",
              "      <th>act_name</th>\n",
              "      <th>is_first_visit</th>\n",
              "      <th>is_long_visit</th>\n",
              "      <th>is_first_act_of_day</th>\n",
              "      <th>is_last_act_of_day</th>\n",
              "      <th>is_act_during_day</th>\n",
              "      <th>arrival_date</th>\n",
              "      <th>total_visit_days</th>\n",
              "      <th>total_act_days</th>\n",
              "      <th>total_act</th>\n",
              "      <th>act_per_day</th>\n",
              "      <th>act_duration</th>\n",
              "      <th>act_start_hour</th>\n",
              "      <th>act_place</th>\n",
              "      <th>is_organized_day_trip</th>\n",
              "      <th>organized_transportation_precent</th>\n",
              "      <th>taxi_precent</th>\n",
              "      <th>private_vehicle_precent</th>\n",
              "      <th>public_tranport_precent</th>\n",
              "      <th>accomodation_place</th>\n",
              "      <th>visit_purpose_Family&amp;Friends</th>\n",
              "      <th>visit_purpose_Travel&amp;Religion</th>\n",
              "      <th>visit_purpose_business</th>\n",
              "      <th>religion_Christian</th>\n",
              "      <th>religion_Jewish</th>\n",
              "      <th>religion_JewishReligious</th>\n",
              "      <th>religion_Other</th>\n",
              "      <th>origin_Africa</th>\n",
              "      <th>origin_East_Asia</th>\n",
              "      <th>origin_Europe</th>\n",
              "      <th>origin_North_America</th>\n",
              "      <th>origin_Oceania</th>\n",
              "      <th>origin_Other</th>\n",
              "      <th>origin_South_Central_America</th>\n",
              "      <th>arrival_season_Christmas</th>\n",
              "      <th>arrival_season_Spring</th>\n",
              "      <th>arrival_season_Summer</th>\n",
              "      <th>arrival_season_Tishrei_Holidays</th>\n",
              "      <th>arrival_season_Winter</th>\n",
              "      <th>act_weekday_Friday</th>\n",
              "      <th>act_weekday_Monday</th>\n",
              "      <th>act_weekday_Saturday</th>\n",
              "      <th>act_weekday_Sunday</th>\n",
              "      <th>act_weekday_Thursday</th>\n",
              "      <th>act_weekday_Tuesday</th>\n",
              "      <th>act_weekday_Wednesday</th>\n",
              "      <th>act_month_1</th>\n",
              "      <th>act_month_2</th>\n",
              "      <th>act_month_3</th>\n",
              "      <th>act_month_4</th>\n",
              "      <th>act_month_5</th>\n",
              "      <th>act_month_6</th>\n",
              "      <th>act_month_7</th>\n",
              "      <th>act_month_8</th>\n",
              "      <th>act_month_9</th>\n",
              "      <th>act_month_10</th>\n",
              "      <th>act_month_11</th>\n",
              "      <th>act_month_12</th>\n",
              "      <th>act_year_2015</th>\n",
              "      <th>act_year_2016</th>\n",
              "      <th>act_year_2017</th>\n",
              "      <th>day_category_First_Day</th>\n",
              "      <th>day_category_Last_Day</th>\n",
              "      <th>day_category_Normal_Day</th>\n",
              "      <th>jerusalem_visiting_category_0</th>\n",
              "      <th>jerusalem_visiting_category_1</th>\n",
              "      <th>jerusalem_visiting_category_More_than_one</th>\n",
              "    </tr>\n",
              "  </thead>\n",
              "  <tbody>\n",
              "    <tr>\n",
              "      <th>3</th>\n",
              "      <td>17556</td>\n",
              "      <td>59463</td>\n",
              "      <td>12/2/2015</td>\n",
              "      <td>חוף הים</td>\n",
              "      <td>0</td>\n",
              "      <td>1</td>\n",
              "      <td>0</td>\n",
              "      <td>0</td>\n",
              "      <td>1</td>\n",
              "      <td>12/2/2015</td>\n",
              "      <td>5</td>\n",
              "      <td>5</td>\n",
              "      <td>28</td>\n",
              "      <td>4</td>\n",
              "      <td>54</td>\n",
              "      <td>13</td>\n",
              "      <td>12</td>\n",
              "      <td>0</td>\n",
              "      <td>0%</td>\n",
              "      <td>57%</td>\n",
              "      <td>0%</td>\n",
              "      <td>0%</td>\n",
              "      <td>NaN</td>\n",
              "      <td>0</td>\n",
              "      <td>1</td>\n",
              "      <td>0</td>\n",
              "      <td>0</td>\n",
              "      <td>1</td>\n",
              "      <td>0</td>\n",
              "      <td>0</td>\n",
              "      <td>0</td>\n",
              "      <td>0</td>\n",
              "      <td>1</td>\n",
              "      <td>0</td>\n",
              "      <td>0</td>\n",
              "      <td>0</td>\n",
              "      <td>0</td>\n",
              "      <td>1</td>\n",
              "      <td>0</td>\n",
              "      <td>0</td>\n",
              "      <td>0</td>\n",
              "      <td>0</td>\n",
              "      <td>0</td>\n",
              "      <td>0</td>\n",
              "      <td>0</td>\n",
              "      <td>0</td>\n",
              "      <td>0</td>\n",
              "      <td>0</td>\n",
              "      <td>1</td>\n",
              "      <td>0</td>\n",
              "      <td>0</td>\n",
              "      <td>0</td>\n",
              "      <td>0</td>\n",
              "      <td>0</td>\n",
              "      <td>0</td>\n",
              "      <td>0</td>\n",
              "      <td>0</td>\n",
              "      <td>0</td>\n",
              "      <td>0</td>\n",
              "      <td>0</td>\n",
              "      <td>1</td>\n",
              "      <td>1</td>\n",
              "      <td>0</td>\n",
              "      <td>0</td>\n",
              "      <td>1</td>\n",
              "      <td>0</td>\n",
              "      <td>0</td>\n",
              "      <td>0</td>\n",
              "      <td>0</td>\n",
              "      <td>1</td>\n",
              "    </tr>\n",
              "    <tr>\n",
              "      <th>4</th>\n",
              "      <td>92435</td>\n",
              "      <td>846034</td>\n",
              "      <td>4/26/2017</td>\n",
              "      <td>אודיטוריום</td>\n",
              "      <td>0</td>\n",
              "      <td>1</td>\n",
              "      <td>0</td>\n",
              "      <td>0</td>\n",
              "      <td>1</td>\n",
              "      <td>4/23/2017</td>\n",
              "      <td>8</td>\n",
              "      <td>7</td>\n",
              "      <td>44</td>\n",
              "      <td>6</td>\n",
              "      <td>103</td>\n",
              "      <td>13</td>\n",
              "      <td>14</td>\n",
              "      <td>0</td>\n",
              "      <td>0%</td>\n",
              "      <td>0%</td>\n",
              "      <td>0%</td>\n",
              "      <td>100%</td>\n",
              "      <td>ירושלים</td>\n",
              "      <td>0</td>\n",
              "      <td>1</td>\n",
              "      <td>0</td>\n",
              "      <td>1</td>\n",
              "      <td>0</td>\n",
              "      <td>0</td>\n",
              "      <td>0</td>\n",
              "      <td>0</td>\n",
              "      <td>0</td>\n",
              "      <td>1</td>\n",
              "      <td>0</td>\n",
              "      <td>0</td>\n",
              "      <td>0</td>\n",
              "      <td>0</td>\n",
              "      <td>0</td>\n",
              "      <td>1</td>\n",
              "      <td>0</td>\n",
              "      <td>0</td>\n",
              "      <td>0</td>\n",
              "      <td>0</td>\n",
              "      <td>0</td>\n",
              "      <td>0</td>\n",
              "      <td>0</td>\n",
              "      <td>0</td>\n",
              "      <td>0</td>\n",
              "      <td>1</td>\n",
              "      <td>0</td>\n",
              "      <td>0</td>\n",
              "      <td>0</td>\n",
              "      <td>1</td>\n",
              "      <td>0</td>\n",
              "      <td>0</td>\n",
              "      <td>0</td>\n",
              "      <td>0</td>\n",
              "      <td>0</td>\n",
              "      <td>0</td>\n",
              "      <td>0</td>\n",
              "      <td>0</td>\n",
              "      <td>0</td>\n",
              "      <td>0</td>\n",
              "      <td>1</td>\n",
              "      <td>0</td>\n",
              "      <td>0</td>\n",
              "      <td>1</td>\n",
              "      <td>0</td>\n",
              "      <td>0</td>\n",
              "      <td>1</td>\n",
              "    </tr>\n",
              "    <tr>\n",
              "      <th>5</th>\n",
              "      <td>20726</td>\n",
              "      <td>266821</td>\n",
              "      <td>4/28/2016</td>\n",
              "      <td>אולם אירועים</td>\n",
              "      <td>0</td>\n",
              "      <td>1</td>\n",
              "      <td>0</td>\n",
              "      <td>0</td>\n",
              "      <td>1</td>\n",
              "      <td>4/27/2016</td>\n",
              "      <td>9</td>\n",
              "      <td>8</td>\n",
              "      <td>37</td>\n",
              "      <td>6</td>\n",
              "      <td>127</td>\n",
              "      <td>19</td>\n",
              "      <td>14</td>\n",
              "      <td>0</td>\n",
              "      <td>0%</td>\n",
              "      <td>100%</td>\n",
              "      <td>0%</td>\n",
              "      <td>0%</td>\n",
              "      <td>ירושלים</td>\n",
              "      <td>1</td>\n",
              "      <td>0</td>\n",
              "      <td>0</td>\n",
              "      <td>0</td>\n",
              "      <td>1</td>\n",
              "      <td>0</td>\n",
              "      <td>0</td>\n",
              "      <td>0</td>\n",
              "      <td>0</td>\n",
              "      <td>1</td>\n",
              "      <td>0</td>\n",
              "      <td>0</td>\n",
              "      <td>0</td>\n",
              "      <td>0</td>\n",
              "      <td>0</td>\n",
              "      <td>1</td>\n",
              "      <td>0</td>\n",
              "      <td>0</td>\n",
              "      <td>0</td>\n",
              "      <td>0</td>\n",
              "      <td>0</td>\n",
              "      <td>0</td>\n",
              "      <td>0</td>\n",
              "      <td>1</td>\n",
              "      <td>0</td>\n",
              "      <td>0</td>\n",
              "      <td>0</td>\n",
              "      <td>0</td>\n",
              "      <td>0</td>\n",
              "      <td>1</td>\n",
              "      <td>0</td>\n",
              "      <td>0</td>\n",
              "      <td>0</td>\n",
              "      <td>0</td>\n",
              "      <td>0</td>\n",
              "      <td>0</td>\n",
              "      <td>0</td>\n",
              "      <td>0</td>\n",
              "      <td>0</td>\n",
              "      <td>1</td>\n",
              "      <td>0</td>\n",
              "      <td>0</td>\n",
              "      <td>0</td>\n",
              "      <td>1</td>\n",
              "      <td>0</td>\n",
              "      <td>0</td>\n",
              "      <td>1</td>\n",
              "    </tr>\n",
              "  </tbody>\n",
              "</table>\n",
              "</div>"
            ],
            "text/plain": [
              "   tourist_id  ...  jerusalem_visiting_category_More_than_one\n",
              "3       17556  ...                                          1\n",
              "4       92435  ...                                          1\n",
              "5       20726  ...                                          1\n",
              "\n",
              "[3 rows x 70 columns]"
            ]
          },
          "metadata": {
            "tags": []
          },
          "execution_count": 68
        }
      ]
    },
    {
      "cell_type": "code",
      "metadata": {
        "id": "UUFErtV1vKdt",
        "colab": {
          "base_uri": "https://localhost:8080/",
          "height": 419
        },
        "outputId": "b1635b0c-f951-4e07-8590-aa3d782cfc2f"
      },
      "source": [
        "df=activities[['act_name','act_duration']]\n",
        "df.sort_values(by='act_duration',ascending=True).head(2000)"
      ],
      "execution_count": null,
      "outputs": [
        {
          "output_type": "execute_result",
          "data": {
            "text/html": [
              "<div>\n",
              "<style scoped>\n",
              "    .dataframe tbody tr th:only-of-type {\n",
              "        vertical-align: middle;\n",
              "    }\n",
              "\n",
              "    .dataframe tbody tr th {\n",
              "        vertical-align: top;\n",
              "    }\n",
              "\n",
              "    .dataframe thead th {\n",
              "        text-align: right;\n",
              "    }\n",
              "</style>\n",
              "<table border=\"1\" class=\"dataframe\">\n",
              "  <thead>\n",
              "    <tr style=\"text-align: right;\">\n",
              "      <th></th>\n",
              "      <th>act_name</th>\n",
              "      <th>act_duration</th>\n",
              "    </tr>\n",
              "  </thead>\n",
              "  <tbody>\n",
              "    <tr>\n",
              "      <th>26307</th>\n",
              "      <td>הרובע הארמני</td>\n",
              "      <td>11</td>\n",
              "    </tr>\n",
              "    <tr>\n",
              "      <th>13556</th>\n",
              "      <td>הרובע הנוצרי</td>\n",
              "      <td>11</td>\n",
              "    </tr>\n",
              "    <tr>\n",
              "      <th>10875</th>\n",
              "      <td>הרובע היהודי</td>\n",
              "      <td>11</td>\n",
              "    </tr>\n",
              "    <tr>\n",
              "      <th>14731</th>\n",
              "      <td>תצפית</td>\n",
              "      <td>11</td>\n",
              "    </tr>\n",
              "    <tr>\n",
              "      <th>14735</th>\n",
              "      <td>קבר רבי מאיר בעל הנס</td>\n",
              "      <td>11</td>\n",
              "    </tr>\n",
              "    <tr>\n",
              "      <th>...</th>\n",
              "      <td>...</td>\n",
              "      <td>...</td>\n",
              "    </tr>\n",
              "    <tr>\n",
              "      <th>16638</th>\n",
              "      <td>טיול רגלי</td>\n",
              "      <td>15</td>\n",
              "    </tr>\n",
              "    <tr>\n",
              "      <th>28959</th>\n",
              "      <td>שער האשפות</td>\n",
              "      <td>15</td>\n",
              "    </tr>\n",
              "    <tr>\n",
              "      <th>29341</th>\n",
              "      <td>טיול רגלי בעיר</td>\n",
              "      <td>15</td>\n",
              "    </tr>\n",
              "    <tr>\n",
              "      <th>2754</th>\n",
              "      <td>תצפית</td>\n",
              "      <td>15</td>\n",
              "    </tr>\n",
              "    <tr>\n",
              "      <th>1216</th>\n",
              "      <td>ישיבה על ספסל בשדרות רוטשילד</td>\n",
              "      <td>15</td>\n",
              "    </tr>\n",
              "  </tbody>\n",
              "</table>\n",
              "<p>2000 rows × 2 columns</p>\n",
              "</div>"
            ],
            "text/plain": [
              "                           act_name  act_duration\n",
              "26307                  הרובע הארמני            11\n",
              "13556                  הרובע הנוצרי            11\n",
              "10875                  הרובע היהודי            11\n",
              "14731                         תצפית            11\n",
              "14735          קבר רבי מאיר בעל הנס            11\n",
              "...                             ...           ...\n",
              "16638                     טיול רגלי            15\n",
              "28959                    שער האשפות            15\n",
              "29341                טיול רגלי בעיר            15\n",
              "2754                          תצפית            15\n",
              "1216   ישיבה על ספסל בשדרות רוטשילד            15\n",
              "\n",
              "[2000 rows x 2 columns]"
            ]
          },
          "metadata": {
            "tags": []
          },
          "execution_count": 69
        }
      ]
    },
    {
      "cell_type": "code",
      "metadata": {
        "id": "1RxYjUFq8EqY",
        "colab": {
          "base_uri": "https://localhost:8080/",
          "height": 390
        },
        "outputId": "6893cd3f-eaf3-47cb-8edb-ed1d92851961"
      },
      "source": [
        "df=pd.crosstab(activities.act_name,columns=\"count\")\n",
        "df.sort_values(\"count\",ascending=False).head(10)"
      ],
      "execution_count": null,
      "outputs": [
        {
          "output_type": "execute_result",
          "data": {
            "text/html": [
              "<div>\n",
              "<style scoped>\n",
              "    .dataframe tbody tr th:only-of-type {\n",
              "        vertical-align: middle;\n",
              "    }\n",
              "\n",
              "    .dataframe tbody tr th {\n",
              "        vertical-align: top;\n",
              "    }\n",
              "\n",
              "    .dataframe thead th {\n",
              "        text-align: right;\n",
              "    }\n",
              "</style>\n",
              "<table border=\"1\" class=\"dataframe\">\n",
              "  <thead>\n",
              "    <tr style=\"text-align: right;\">\n",
              "      <th>col_0</th>\n",
              "      <th>count</th>\n",
              "    </tr>\n",
              "    <tr>\n",
              "      <th>act_name</th>\n",
              "      <th></th>\n",
              "    </tr>\n",
              "  </thead>\n",
              "  <tbody>\n",
              "    <tr>\n",
              "      <th>חוף הים</th>\n",
              "      <td>2891</td>\n",
              "    </tr>\n",
              "    <tr>\n",
              "      <th>הרובע היהודי</th>\n",
              "      <td>1385</td>\n",
              "    </tr>\n",
              "    <tr>\n",
              "      <th>הרובע הנוצרי</th>\n",
              "      <td>951</td>\n",
              "    </tr>\n",
              "    <tr>\n",
              "      <th>פאב</th>\n",
              "      <td>723</td>\n",
              "    </tr>\n",
              "    <tr>\n",
              "      <th>הכותל המערבי</th>\n",
              "      <td>649</td>\n",
              "    </tr>\n",
              "    <tr>\n",
              "      <th>בית כנסת</th>\n",
              "      <td>646</td>\n",
              "    </tr>\n",
              "    <tr>\n",
              "      <th>כנסיית הקבר</th>\n",
              "      <td>604</td>\n",
              "    </tr>\n",
              "    <tr>\n",
              "      <th>טיול רגלי</th>\n",
              "      <td>562</td>\n",
              "    </tr>\n",
              "    <tr>\n",
              "      <th>הרובע המוסלמי</th>\n",
              "      <td>497</td>\n",
              "    </tr>\n",
              "    <tr>\n",
              "      <th>העיר העתיקה</th>\n",
              "      <td>470</td>\n",
              "    </tr>\n",
              "  </tbody>\n",
              "</table>\n",
              "</div>"
            ],
            "text/plain": [
              "col_0          count\n",
              "act_name            \n",
              "חוף הים         2891\n",
              "הרובע היהודי    1385\n",
              "הרובע הנוצרי     951\n",
              "פאב              723\n",
              "הכותל המערבי     649\n",
              "בית כנסת         646\n",
              "כנסיית הקבר      604\n",
              "טיול רגלי        562\n",
              "הרובע המוסלמי    497\n",
              "העיר העתיקה      470"
            ]
          },
          "metadata": {
            "tags": []
          },
          "execution_count": 70
        }
      ]
    },
    {
      "cell_type": "markdown",
      "metadata": {
        "id": "oHWsa-ODWUdx"
      },
      "source": [
        "####leave only data that each turist came for more then 4 days and had at least 5 activities during the visit \n"
      ]
    },
    {
      "cell_type": "code",
      "metadata": {
        "colab": {
          "base_uri": "https://localhost:8080/"
        },
        "id": "yKqehKb8zTrS",
        "outputId": "ef96f20c-4ace-4b5e-8e78-314925a023fe"
      },
      "source": [
        "activities = activities.loc[activities['total_visit_days'] >= 4]\n",
        "activities = activities.loc[activities['total_act'] >= 5]\n",
        "activities.shape"
      ],
      "execution_count": null,
      "outputs": [
        {
          "output_type": "execute_result",
          "data": {
            "text/plain": [
              "(21002, 70)"
            ]
          },
          "metadata": {
            "tags": []
          },
          "execution_count": 71
        }
      ]
    },
    {
      "cell_type": "markdown",
      "metadata": {
        "id": "1jOymKJ36aCp"
      },
      "source": [
        "##Outliers check and removal"
      ]
    },
    {
      "cell_type": "code",
      "metadata": {
        "id": "x_r-LVBWXmw5"
      },
      "source": [
        "import matplotlib.pyplot as plt\n",
        "import plotly.graph_objects as go\n",
        "import seaborn as sns"
      ],
      "execution_count": null,
      "outputs": []
    },
    {
      "cell_type": "code",
      "metadata": {
        "id": "3CSZe5NCXmpT"
      },
      "source": [
        "corr_df = activities.corr()\n",
        "#print(corr_df)\n",
        " \n",
        "# cols = corr_df.columns.to_list()\n",
        "# for i in range(len(cols)):\n",
        "#   print(cols[i], ': ', end=' ')\n",
        "#   for j in range(len(cols)):\n",
        "#     if abs(corr_df.iloc[i,j]) >= abs(0.2) and cols[i] is not cols[j] :\n",
        "#       print(cols[j],round(corr_df.iloc[i,j],2), end=', ')\n",
        "#   print()"
      ],
      "execution_count": null,
      "outputs": []
    },
    {
      "cell_type": "code",
      "metadata": {
        "id": "kDOv_sLagJVy",
        "colab": {
          "base_uri": "https://localhost:8080/",
          "height": 1000
        },
        "outputId": "adc8399b-13b7-4caa-a44d-c6d12563ff90"
      },
      "source": [
        "#check for outliers \n",
        "fig = go.Figure()\n",
        "fig.add_trace(go.Box(name='total_visit_days', y = activities.total_visit_days , boxmean='sd'))\n",
        "\n",
        "fig.update_traces(\n",
        "    marker=dict(\n",
        "        color='rgb(8,81,156)',\n",
        "        outliercolor='rgba(219, 64, 82, 0.6)',\n",
        "        line=dict(\n",
        "            outliercolor='rgba(219, 64, 82, 0.6)',\n",
        "            outlierwidth=2)),\n",
        "    line_color='rgb(8,81,156)'\n",
        ")\n",
        "fig.show()\n",
        "\n",
        "fig = go.Figure()\n",
        "fig.add_trace(go.Box(name='total_act_days', y = activities.total_act_days , boxmean='sd'))\n",
        "\n",
        "fig.update_traces(\n",
        "    marker=dict(\n",
        "        color='rgb(8,81,156)',\n",
        "        outliercolor='rgba(219, 64, 82, 0.6)',\n",
        "        line=dict(\n",
        "            outliercolor='rgba(219, 64, 82, 0.6)',\n",
        "            outlierwidth=2)),\n",
        "    line_color='rgb(8,81,156)'\n",
        ")\n",
        "fig.show()\n",
        "\n",
        "fig = go.Figure()\n",
        "fig.add_trace(go.Box(name='total_act', y = activities.total_act , boxmean='sd'))\n",
        "\n",
        "fig.update_traces(\n",
        "    marker=dict(\n",
        "        color='rgb(8,81,156)',\n",
        "        outliercolor='rgba(219, 64, 82, 0.6)',\n",
        "        line=dict(\n",
        "            outliercolor='rgba(219, 64, 82, 0.6)',\n",
        "            outlierwidth=2)),\n",
        "    line_color='rgb(8,81,156)'\n",
        ")\n",
        "fig.show()\n",
        "\n",
        "\n",
        "fig = go.Figure()\n",
        "fig.add_trace(go.Box(name='act_per_day', y = activities.act_per_day , boxmean='sd'))\n",
        "\n",
        "fig.update_traces(\n",
        "    marker=dict(\n",
        "        color='rgb(8,81,156)',\n",
        "        outliercolor='rgba(219, 64, 82, 0.6)',\n",
        "        line=dict(\n",
        "            outliercolor='rgba(219, 64, 82, 0.6)',\n",
        "            outlierwidth=2)),\n",
        "    line_color='rgb(8,81,156)'\n",
        ")\n",
        "fig.show()\n",
        "\n",
        "fig = go.Figure()\n",
        "fig.add_trace(go.Box(name='act_duration', y = activities.act_duration , boxmean='sd'))\n",
        "\n",
        "fig.update_traces(\n",
        "    marker=dict(\n",
        "        color='rgb(8,81,156)',\n",
        "        outliercolor='rgba(219, 64, 82, 0.6)',\n",
        "        line=dict(\n",
        "            outliercolor='rgba(219, 64, 82, 0.6)',\n",
        "            outlierwidth=2)),\n",
        "    line_color='rgb(8,81,156)'\n",
        ")\n",
        "fig.show()"
      ],
      "execution_count": null,
      "outputs": [
        {
          "output_type": "display_data",
          "data": {
            "text/html": [
              "<html>\n",
              "<head><meta charset=\"utf-8\" /></head>\n",
              "<body>\n",
              "    <div>\n",
              "            <script src=\"https://cdnjs.cloudflare.com/ajax/libs/mathjax/2.7.5/MathJax.js?config=TeX-AMS-MML_SVG\"></script><script type=\"text/javascript\">if (window.MathJax) {MathJax.Hub.Config({SVG: {font: \"STIX-Web\"}});}</script>\n",
              "                <script type=\"text/javascript\">window.PlotlyConfig = {MathJaxConfig: 'local'};</script>\n",
              "        <script src=\"https://cdn.plot.ly/plotly-latest.min.js\"></script>    \n",
              "            <div id=\"e9326beb-895e-4b9b-b0f4-d2128504f339\" class=\"plotly-graph-div\" style=\"height:525px; width:100%;\"></div>\n",
              "            <script type=\"text/javascript\">\n",
              "                \n",
              "                    window.PLOTLYENV=window.PLOTLYENV || {};\n",
              "                    \n",
              "                if (document.getElementById(\"e9326beb-895e-4b9b-b0f4-d2128504f339\")) {\n",
              "                    Plotly.newPlot(\n",
              "                        'e9326beb-895e-4b9b-b0f4-d2128504f339',\n",
              "                        [{\"boxmean\": \"sd\", \"line\": {\"color\": \"rgb(8,81,156)\"}, \"marker\": {\"color\": \"rgb(8,81,156)\", \"line\": {\"outliercolor\": \"rgba(219, 64, 82, 0.6)\", \"outlierwidth\": 2}, \"outliercolor\": \"rgba(219, 64, 82, 0.6)\"}, \"name\": \"total_visit_days\", \"type\": \"box\", \"y\": [5, 8, 9, 8, 9, 14, 14, 5, 5, 5, 5, 6, 5, 4, 5, 11, 14, 11, 5, 10, 5, 5, 5, 5, 9, 9, 9, 9, 15, 6, 11, 11, 7, 11, 10, 9, 9, 9, 9, 9, 9, 9, 9, 9, 9, 9, 9, 9, 9, 11, 15, 9, 13, 9, 5, 7, 8, 8, 16, 7, 7, 7, 7, 7, 7, 7, 7, 7, 7, 6, 8, 9, 4, 13, 12, 11, 11, 7, 4, 5, 8, 5, 12, 8, 15, 8, 14, 8, 14, 14, 14, 13, 9, 9, 14, 14, 5, 5, 9, 9, 9, 9, 9, 9, 9, 9, 9, 9, 9, 9, 12, 12, 4, 10, 9, 9, 12, 14, 11, 10, 11, 8, 13, 6, 6, 9, 7, 12, 9, 9, 10, 11, 11, 11, 11, 11, 11, 11, 11, 11, 9, 6, 9, 12, 9, 12, 11, 12, 12, 12, 12, 12, 12, 11, 16, 12, 14, 14, 11, 11, 11, 11, 9, 9, 14, 9, 9, 9, 10, 15, 11, 11, 11, 14, 10, 13, 11, 11, 12, 4, 12, 15, 11, 6, 13, 12, 8, 11, 6, 11, 12, 9, 8, 4, 8, 8, 8, 8, 8, 8, 8, 8, 8, 8, 6, 12, 12, 6, 6, 6, 6, 6, 12, 12, 12, 9, 5, 13, 13, 13, 12, 8, 8, 7, 7, 7, 10, 5, 5, 14, 10, 10, 8, 8, 6, 6, 8, 4, 4, 11, 6, 11, 8, 8, 8, 8, 8, 14, 14, 14, 14, 14, 9, 4, 4, 4, 7, 7, 5, 7, 4, 4, 6, 13, 13, 13, 13, 13, 13, 13, 5, 5, 5, 11, 11, 13, 7, 7, 11, 13, 7, 7, 14, 11, 11, 11, 11, 11, 7, 7, 7, 7, 7, 7, 7, 7, 7, 14, 15, 15, 7, 7, 7, 15, 15, 15, 15, 15, 15, 12, 8, 8, 13, 13, 14, 14, 14, 6, 11, 12, 12, 12, 9, 12, 12, 12, 12, 15, 11, 9, 9, 11, 12, 8, 11, 8, 6, 6, 6, 6, 14, 14, 14, 14, 14, 6, 14, 14, 14, 14, 4, 4, 13, 13, 13, 14, 14, 14, 14, 14, 14, 14, 14, 14, 13, 13, 13, 13, 13, 14, 14, 14, 9, 9, 9, 9, 9, 9, 9, 9, 9, 9, 9, 9, 9, 15, 10, 11, 11, 11, 10, 10, 8, 11, 11, 11, 11, 11, 11, 11, 8, 8, 12, 15, 10, 5, 5, 11, 5, 5, 12, 12, 12, 12, 12, 12, 12, 12, 12, 12, 12, 12, 12, 12, 12, 12, 12, 12, 12, 12, 12, 12, 12, 12, 12, 11, 11, 11, 11, 11, 11, 11, 11, 11, 11, 11, 11, 11, 11, 11, 7, 7, 7, 10, 10, 10, 15, 15, 11, 15, 15, 13, 13, 12, 12, 12, 12, 12, 8, 8, 8, 8, 4, 4, 12, 12, 12, 8, 8, 8, 8, 8, 11, 11, 11, 11, 4, 11, 11, 11, 11, 11, 11, 11, 11, 11, 11, 11, 11, 9, 16, 16, 16, 16, 13, 13, 13, 13, 9, 9, 9, 9, 9, 9, 9, 9, 9, 9, 9, 9, 9, 9, 9, 9, 9, 9, 9, 9, 9, 9, 9, 9, 9, 7, 7, 7, 7, 14, 14, 14, 14, 13, 14, 12, 12, 12, 12, 9, 12, 15, 15, 12, 12, 12, 12, 13, 13, 13, 13, 13, 13, 13, 13, 13, 15, 15, 15, 15, 5, 13, 13, 13, 13, 5, 5, 8, 11, 5, 11, 11, 11, 11, 13, 13, 13, 5, 8, 8, 5, 5, 5, 5, 6, 6, 6, 6, 6, 6, 8, 8, 8, 8, 12, 8, 11, 11, 6, 6, 11, 8, 9, 11, 12, 12, 12, 12, 12, 12, 12, 12, 12, 12, 12, 12, 12, 8, 11, 11, 5, 4, 4, 13, 13, 13, 13, 4, 8, 8, 4, 11, 11, 11, 9, 9, 9, 9, 9, 9, 9, 9, 9, 10, 10, 10, 10, 10, 10, 10, 10, 10, 10, 10, 6, 8, 8, 8, 8, 8, 8, 8, 8, 5, 5, 5, 5, 5, 5, 5, 7, 7, 7, 7, 7, 5, 12, 12, 12, 12, 12, 9, 9, 9, 9, 9, 9, 9, 9, 9, 9, 9, 9, 9, 9, 9, 9, 9, 9, 9, 9, 9, 9, 9, 9, 9, 7, 6, 6, 6, 6, 5, 10, 13, 13, 14, 14, 11, 6, 13, 13, 13, 10, 10, 6, 7, 7, 7, 9, 9, 9, 11, 11, 13, 13, 13, 8, 5, 5, 11, 13, 13, 13, 13, 13, 13, 13, 13, 13, 13, 13, 13, 11, 11, 11, 11, 8, 8, 8, 8, 11, 11, 15, 12, 12, 12, 12, 12, 7, 7, 12, 7, 11, 11, 11, 11, 11, 11, 11, 11, 11, 8, 8, 10, 10, 8, 8, 8, 8, 8, 10, 10, 10, 10, 10, 10, 10, 10, 10, 10, 12, 14, 14, 14, 14, 10, 14, 10, 10, 10, 10, 15, 15, 10, 13, 15, 15, 15, 15, 12, 12, 12, 12, 11, 13, 13, 13, 13, 13, 13, 13, 13, 13, 6, 11, 6, 6, 6, 6, 6, 8, 12, 12, 12, 12, 12, 12, 12, 12, 4, 4, 4, 4, 4, 4, 8, 8, 8, 8, 8, 9, 9, 9, 9, 9, 9, 9, 5, 9, 9, 9, 9, 9, 9, 5, 5, 5, 5, 7, 7, 7, 7, 7, 13, 13, 10, 10, 13, 13, 13, 13, 10, 10, 10, 10, 7, 7, 11, 11, 11, 10, 10, 10, 10, 11, 11, 8, 8, 8, 8, 8, 8, 8, 11, 11, 11, 11, 8, 8, 8, 8, 8, 8, 6, 11, 11, 11, 8, 8, 8, 8, 11, 11, 11, 8, 12, 8, 8, 13, 13, 13, 13, 10, 10, 10, 10, 10, 10, 10, 13, 13, 13, 13, 11, 11, 11, 13, 13, 13, 13, 13, 13, 13, 13, 13, 13, 13, 13, 13, 15, 15, 13, 6, 6, 10, 10, 10, 10, 15, 15, 8, 8, 15, 15, 12, 12, 15, 15, 10, 9, 9, 13, 13, 15, 16, 16, 16, 16, 13, 13, 13, 5, 5, 5, 5, 5, 5, 13, 13, 13, 12, 9, 12, 12, 12, 9, 8, 8, 8, 8, 8, 8, 8, 8, 8, 8, 8, 8, 6, 6, 6, 6, 7, 7, 6, 6, 6, 6, 8, 15, 15, 15, 15, 6, 6, 15, 15, 15, 15, 15, 15, 6, 6, 13, 13, 13, 13, 13, 13, 13, 13, 13, 13, 13, 13, 13, 15, 15, 13, 13, 13, 13, 13, 13, 13, 13, 13, 13, 13, 16, 16, 8, 8, 16, 16, 16, 16, 16, 16, 8, 16, 16, 14, 14, 12, 8, 13, 13, 13, 11, 13, 13, 9, 9, 9, 9, 9, 12, 12, 8, 8, 7, 7, 7, 7, 7, 7, 7, 7, 7, 7, 7, 7, 8, 8, 8, 10, 10, 10, 11, 8, 7, 7, 7, 7, 5, 6, 9, 9, 11, 5, 7, 9, 11, 8, 8, 8, 8, 8, 8, 8, 8, 8, 8, 8, 8, 8, 13, 14, 4, 15, 12, 8, 8, 12, 10, 13, 8, 11, 5, 6, 6, 6, 6, 6, 6, 8, 9, 6, 7, 13, 7, 8, 8, 8, 6, 12, 6, 10, 7, 8, 8, 8, 8, 11, 8, 5, 4, 8, 7, 14, 13, 13, 12, 7, 5, 5, 8, 8, 8, 7, 12, 15, 12, 8, 9, 8, 8, 8, 13, 5, 12, 8, 8, 8, 7, 8, 8, 8, 8, 8, 8, 8, 11, 11, 12, 11, 11, 11, 11, 7, 7, 7, 7, 7, 7, 7, 6, 6, 6, 4, 12, 12, 12, 12, 12, 12, 12, 12, 12, 12, 6, 6, 10, 7, 6, 12, 12, 13, 11, 11, 11, 11, 11, 11, 11, 11, 11, 11, 11, 11, 11, 11, 11, 11, 11, 11, 15, 12, 6, 7, 13, 13, 13, 13, 13, 13, 13, 6, 10, 13, 13, 4, 4, 4, 8, 8, 4, 4, 10, 10, 10, 10, 10, 10, 10, 8, 11, 10, 6, 14, 6, 6, 6, 6, 6, 6, 17, 11, 14, 14, 10, 5, 5, 8, 8, 8, 14, 14, 8, 8, 11, 8, 8, 11, 7, 7, 11, 13, 16, 10, 10, 10, 10, 10, 10, 10, 10, 10, 10, 10, 10, 14, 14, 16, 6, 6, 6, 11, 8, 5, 11, 6, 11, 14, 6, 6, 6, 9, 7, 7, 9, 9, 9, 9, 11, 11, 10, 8, 15, 8, 8, 15, 6, 4, 4, 4, 5, 4, 4, 4, 4, 9, 7, 7, 7, 12, 12, 12, 14, 14, 14, 14, 14, 14, 14, 12, 4, 8, 7, 7, 12, 9, 7, 10, 15, 7, 6, 8, 8, 8, 12, 13, 8, 15, 8, 14, 10, 7, 11, 14, 17, 15, 15, 15, 11, 10, 10, 10, 10, 4, 4, 4, 4, 4, 4, 7, 5, 10, 11, 14, 8, 13, 11, 5, 10, 14, 7, 14, 14, 14, 5, 11, 9, 14, 12, 11, 14, 14, 13, 13, 13, 13, 13, 13, 13, 13, 13, 13, 13, 13, 14, 7, 14, 12, 12, 12, 14, 14, 5, 5, 5, 4, 9, 8, 9, 5, 15, 9, 5, 5, 12, 12, 12, 12, 14, 12, 5, 5, 11, 15, 14, 6, 8, 8, 14, 14, 14, 14, 14, 14, 14, 14, 14, 14, 14, 14, 10, 12, 6, 5, 14, 15, 7, 7, 7, 9, 16, 8, 8, 7, 7, 7, 15, 8, 7, 12, 9, 11, 14, 4, 8, 11, 9, 11, 4, 4, 5, 5, 5, 5, 5, 10, 11, 15, 9, 5, 6, 6, 6, 6, 6, 7, 16, 16, 14, 14, 11, 11, 11, 11, 5, 12, 13, 4, 6, 6, 14, 12, 12, 13, 9, 9, 4, 11, 11, 11, 11, 11, 11, 11, 11, 11, 11, 11, 11, 11, 11, 11, 11, 11, 8, 14, 8, 6, 9, 8, 8, 8, 8, 8, 12, 7, 7, 7, 14, 11, 6, 6, 6, 6, 6, 6, 6, 6, 6, 6, 6, 11, 6, 5, 6, 6, 8, 10, 10, 8, 11, 11, 11, 11, 11, 11, 11, 11, 11, 14, 14, 14, 14, 14, 14, 14, 14, 14, 14, 14, 14, 14, 14, 11, 12, 15, 10, 7, 6, 10, 14, 14, 14, 14, 14, 14, 14, 14, 14, 14, 14, 13, 13, 9, 12, 11, 8, 8, 10, 6, 8, 8, 11, 11, 11, 11, 11, 11, 11, 11, 6, 8, 8, 8, 8, 5, 13, 6, 11, 11, 11, 11, 11, 11, 11, 11, 11, 11, 7, 7, 7, 7, 9, 9, 9, 9, 9, 9, 9, 9, 9, 9, 9, 9, 9, 9, 9, 7, 7, 7, 14, 14, 14, 11, 13, 5, 10, 8, 11, 9, 9, 7, 7, 7, 12, 17, 8, 8, 8, 8, 8, 8, 8, 8, 8, 8, 8, 8, 8, 10, 10, 7, 8, 15, 8, 5, 8, 8, 8, 8, 8, 8, 4, 8, 6, 5, 6, 14, 12, 5, 6, 8, 8, 14, 13, 11, 11, 11, 11, 11, 11, 11, 11, 11, 11, 11, 12, 11, 11, 8, 11, 4, 8, 8, 7, 11, 11, 15, 13, 12, 7, 5, 8, 12, 13, 11, 11, 11, 15, 7, 7, 11, 15, 10, 10, 8, 10, 6, 14, 5, 5, 6, 6, 6, 6, 5, 6, 13, 11, 5, 8, 8, 8, 8, 8, 8, 8, 8, 14, 9, 11, 7, 8, 8, 8, 8, 8, 5, 5, 4, 4, 6, 10, 10, 12, 5, 5, 5, 5, 5, 5, 5, 16, 14, 12, 9, 9, 6, 14, 9, 9, 9, 10, 12, 14, 4, 7, 13, 14, 8, 7, 15, 10, 14, 14, 12, 9, 14, 9, 9, 11, 11, 11, 11, 11, 8, 8, 15, 11, 11, 5, 5, 5, 5, 11, 8, 8, 12, 7, 10, 6, 5, 13, 9, 6, 6, 6, 6, 6, 6, 6, 6, 6, 6, 6, 5, 5, 5, 6, 12, 12, 12, 10, 11, 13, 11, 10, 14, 13, 12, 12, 12, 12, 12, 12, 12, 12, 9, 9, 9, 9, 9, 11, 10, 9, 9, 9, 4, 4, 4, 4, 12, 15, 11, 11, 9, 5, 8, 8, 12, 7, 6, 8, 9, 9, 9, 9, 10, 14, 16, 10, 10, 10, 10, 15, 5, 11, 9, 9, 9, 11, 11, 11, 10, 6, 11, 8, 8, 7, 14, 10, 11, 11, 11, 11, 11, 11, 11, 11, 11, 11, 11, 11, 11, 8, 9, 10, 11, 11, 11, 11, 11, 11, 11, 9, 11, 9, 9, 9, 4, 6, 6, 6, 6, 6, 17, 4, 7, 7, 6, 6, 7, 8, 15, 8, 6, 14, 11, 6, 8, 5, 8, 8, 8, 14, 14, 5, 14, 10, 7, 6, 7, 6, 14, 14, 10, 10, 10, 10, 10, 10, 10, 10, 14, 6, 6, 6, 14, 14, 14, 14, 14, 14, 14, 14, 14, 14, 14, 14, 14, 14, 13, 5, 15, 6, 7, 11, 11, 11, 11, 11, 11, 11, 9, 8, 13, 13, 13, 13, 13, 13, 13, 13, 8, 6, 14, 10, 13, 13, 13, 13, 14, 13, 13, 6, 6, 6, 6, 8, 8, 8, 8, 8, 8, 8, 12, 8, 17, 8, 6, 8, 8, 8, 8, 8, 8, 8, 8, 8, 8, 8, 10, 14, 8, 11, 13, 7, 11, 9, 8, 13, 12, 4, 7, 7, 7, 11, 15, 8, 11, 11, 8, 12, 9, 14, 14, 12, 8, 9, 5, 6, 15, 10, 9, 9, 11, 11, 14, 9, 10, 17, 15, 10, 10, 10, 10, 10, 10, 10, 10, 10, 10, 9, 11, 11, 14, 9, 7, 12, 9, 7, 8, 8, 7, 8, 12, 12, 6, 8, 11, 10, 5, 8, 8, 8, 8, 8, 8, 8, 8, 9, 14, 5, 14, 14, 14, 14, 14, 14, 14, 14, 14, 14, 14, 8, 8, 8, 14, 5, 11, 12, 12, 14, 14, 8, 8, 8, 8, 8, 9, 9, 7, 8, 8, 8, 8, 15, 15, 10, 7, 8, 5, 5, 5, 5, 5, 5, 9, 9, 9, 9, 9, 9, 5, 5, 5, 5, 5, 5, 5, 5, 5, 5, 5, 6, 6, 6, 6, 6, 15, 15, 13, 13, 5, 5, 15, 15, 15, 15, 6, 7, 15, 8, 8, 8, 8, 15, 8, 8, 8, 8, 8, 12, 8, 8, 8, 8, 8, 8, 8, 8, 11, 11, 11, 11, 11, 11, 11, 11, 11, 11, 7, 10, 10, 12, 6, 6, 6, 6, 6, 6, 6, 6, 6, 6, 6, 6, 6, 6, 7, 8, 5, 6, 4, 10, 10, 10, 10, 10, 13, 10, 10, 10, 10, 10, 10, 10, 14, 10, 13, 13, 8, 8, 8, 8, 8, 8, 8, 8, 8, 8, 8, 12, 12, 12, 12, 12, 12, 12, 12, 12, 12, 12, 13, 13, 7, 12, 7, 7, 7, 7, 12, 12, 12, 8, 6, 6, 6, 6, 7, 7, 7, 6, 6, 8, 7, 4, 4, 8, 8, 4, 4, 6, 6, 6, 7, 8, 8, 8, 8, 7, 8, 8, 8, 8, 8, 11, 11, 11, 11, 11, 11, 11, 7, 5, 11, 11, 12, 12, 11, 4, 8, 11, 11, 8, 8, 8, 8, 6, 11, 4, 13, 13, 11, 9, 12, 6, 11, 12, 4, 4, 13, 13, 13, 13, 8, 8, 9, 13, 13, 8, 7, 8, 10, 10, 10, 10, 10, 10, 8, 7, 8, 8, 10, 8, 8, 5, 7, 7, 10, 7, 8, 10, 10, 6, 8, 13, 8, 8, 8, 8, 11, 12, 4, 11, 8, 8, 8, 11, 7, 6, 7, 11, 9, 11, 11, 14, 10, 8, 8, 10, 11, 8, 8, 8, 12, 14, 13, 12, 8, 5, 5, 7, 6, 7, 6, 6, 6, 14, 8, 8, 11, 11, 6, 6, 9, 8, 9, 10, 6, 6, 11, 13, 6, 6, 11, 11, 11, 8, 8, 5, 4, 5, 11, 6, 8, 8, 8, 8, 8, 8, 7, 7, 7, 7, 7, 6, 6, 11, 6, 6, 7, 12, 7, 8, 9, 9, 9, 9, 9, 9, 9, 9, 9, 9, 9, 9, 5, 5, 7, 7, 7, 7, 7, 7, 7, 7, 7, 7, 5, 5, 5, 5, 5, 5, 11, 7, 14, 14, 14, 5, 7, 11, 13, 6, 16, 6, 6, 16, 9, 10, 10, 10, 10, 10, 10, 10, 10, 10, 10, 10, 10, 10, 10, 10, 10, 10, 10, 10, 10, 10, 10, 10, 10, 10, 15, 15, 15, 14, 9, 8, 6, 10, 6, 5, 15, 15, 9, 9, 9, 9, 9, 9, 9, 9, 9, 12, 12, 12, 12, 10, 10, 6, 7, 9, 11, 8, 11, 12, 12, 8, 4, 15, 6, 10, 10, 7, 11, 7, 7, 7, 7, 7, 7, 7, 7, 7, 8, 8, 8, 8, 11, 11, 11, 12, 11, 12, 14, 9, 4, 4, 4, 10, 10, 10, 10, 10, 8, 8, 8, 12, 9, 6, 14, 14, 14, 15, 14, 10, 7, 14, 14, 8, 8, 8, 8, 8, 10, 10, 10, 10, 10, 10, 10, 10, 10, 10, 14, 12, 10, 10, 10, 6, 7, 7, 7, 9, 15, 15, 10, 4, 10, 12, 6, 8, 10, 10, 8, 8, 8, 6, 11, 11, 11, 11, 11, 11, 11, 8, 14, 8, 11, 11, 11, 11, 7, 7, 9, 6, 10, 7, 6, 8, 5, 14, 8, 8, 12, 11, 8, 11, 11, 9, 8, 8, 6, 8, 6, 6, 12, 12, 11, 11, 14, 12, 11, 12, 5, 5, 5, 10, 12, 7, 7, 7, 7, 12, 13, 12, 8, 11, 5, 5, 5, 5, 5, 5, 5, 5, 5, 11, 8, 8, 8, 8, 8, 8, 11, 7, 12, 7, 7, 8, 4, 7, 8, 10, 6, 13, 14, 4, 4, 4, 12, 10, 4, 13, 13, 15, 14, 15, 15, 10, 5, 10, 9, 12, 12, 12, 12, 12, 12, 9, 9, 6, 5, 10, 8, 10, 10, 9, 9, 9, 9, 9, 6, 9, 9, 9, 9, 5, 5, 5, 6, 8, 8, 8, 6, 14, 12, 8, 8, 8, 8, 7, 7, 6, 6, 11, 11, 11, 11, 11, 11, 11, 11, 11, 4, 10, 10, 15, 15, 15, 11, 11, 11, 8, 8, 8, 8, 8, 8, 11, 11, 11, 11, 11, 11, 11, 11, 11, 11, 11, 11, 11, 15, 11, 11, 5, 11, 5, 7, 11, 10, 9, 13, 13, 13, 13, 13, 13, 13, 11, 13, 7, 4, 4, 4, 4, 11, 13, 13, 13, 13, 13, 8, 7, 7, 7, 7, 7, 7, 7, 9, 8, 8, 9, 7, 14, 7, 7, 12, 12, 12, 12, 12, 12, 12, 12, 12, 12, 12, 12, 12, 8, 8, 8, 8, 8, 8, 8, 8, 8, 8, 8, 8, 8, 8, 8, 8, 7, 5, 6, 6, 6, 8, 8, 6, 16, 12, 12, 12, 11, 14, 6, 6, 6, 9, 8, 8, 8, 10, 8, 8, 8, 11, 8, 8, 7, 7, 7, 7, 5, 8, 8, 6, 5, 5, 8, 11, 8, 12, 12, 12, 11, 11, 12, 5, 5, 5, 5, 4, 8, 10, 5, 6, 13, 14, 10, 10, 10, 10, 10, 10, 6, 10, 10, 11, 6, 6, 6, 6, 6, 5, 9, 9, 8, 7, 5, 5, 5, 5, 15, 8, 15, 11, 11, 11, 8, 8, 5, 5, 5, 6, 6, 6, 6, 6, 6, 8, 8, 5, 8, 8, 11, 11, 11, 11, 11, 11, 6, 11, 9, 5, 11, 11, 11, 11, 11, 11, 5, 5, 6, 6, 6, 6, 6, 6, 6, 6, 6, 14, 9, 14, 8, 8, 15, 6, 6, 6, 6, 4, 4, 4, 4, 11, 11, 12, 4, 4, 10, 10, 10, 10, 10, 10, 10, 10, 6, 8, 13, 6, 6, 6, 6, 6, 6, 7, 5, 8, 7, 11, 7, 7, 7, 7, 7, 7, 10, 11, 9, 11, 14, 4, 7, 7, 7, 10, 8, 12, 7, 9, 9, 11, 8, 12, 9, 9, 9, 9, 8, 11, 14, 10, 9, 8, 13, 14, 12, 12, 14, 14, 14, 14, 14, 14, 9, 6, 6, 6, 12, 12, 12, 12, 12, 12, 14, 6, 8, 7, 7, 7, 12, 12, 11, 12, 11, 7, 14, 10, 12, 7, 8, 10, 10, 10, 10, 10, 10, 10, 10, 10, 10, 10, 10, 10, 6, 6, 9, 9, 9, 9, 9, 9, 9, 9, 9, 9, 15, 15, 15, 15, 15, 15, 15, 15, 15, 15, 11, 11, 11, 11, 11, 11, 12, 8, 11, 11, 11, 11, 11, 11, 11, 11, 11, 11, 11, 11, 11, 11, 11, 11, 11, 11, 11, 8, 13, 5, 13, 11, 11, 10, 10, 10, 10, 10, 10, 10, 10, 6, 9, 9, 8, 15, 15, 8, 10, 7, 7, 7, 7, 7, 7, 7, 7, 6, 6, 10, 10, 12, 11, 11, 10, 9, 9, 12, 12, 13, 7, 9, 9, 9, 9, 9, 10, 8, 10, 10, 10, 6, 10, 6, 8, 9, 11, 10, 8, 7, 8, 10, 8, 8, 5, 13, 8, 11, 13, 8, 6, 5, 5, 5, 5, 5, 7, 7, 7, 7, 7, 7, 7, 10, 7, 8, 8, 7, 6, 16, 16, 11, 16, 16, 16, 5, 16, 9, 9, 9, 15, 10, 7, 9, 12, 12, 12, 10, 14, 10, 10, 4, 8, 5, 6, 13, 9, 9, 15, 13, 13, 6, 6, 6, 14, 14, 4, 4, 11, 11, 11, 8, 7, 6, 10, 10, 12, 12, 7, 15, 12, 11, 14, 14, 14, 14, 14, 14, 14, 14, 14, 14, 14, 14, 14, 14, 14, 10, 11, 14, 14, 8, 8, 10, 10, 8, 10, 10, 10, 10, 10, 10, 8, 11, 11, 11, 11, 11, 11, 11, 11, 11, 11, 7, 7, 7, 7, 7, 7, 7, 14, 7, 7, 8, 8, 9, 9, 9, 9, 8, 9, 14, 15, 15, 10, 10, 15, 9, 8, 8, 11, 11, 15, 8, 15, 15, 15, 15, 7, 10, 15, 8, 6, 13, 7, 4, 4, 4, 8, 12, 10, 12, 12, 12, 12, 12, 7, 9, 9, 9, 5, 14, 13, 13, 15, 12, 12, 12, 12, 15, 10, 10, 14, 5, 5, 5, 5, 8, 7, 12, 12, 7, 10, 9, 8, 8, 10, 4, 11, 10, 10, 10, 10, 10, 10, 10, 10, 10, 10, 5, 10, 6, 5, 7, 7, 5, 13, 13, 13, 13, 13, 13, 11, 9, 14, 12, 12, 8, 5, 8, 12, 12, 12, 12, 12, 12, 9, 9, 9, 11, 13, 13, 8, 5, 8, 6, 6, 6, 7, 9, 8, 8, 8, 14, 8, 8, 6, 9, 9, 9, 9, 9, 9, 7, 7, 7, 7, 7, 7, 7, 7, 10, 9, 9, 9, 6, 6, 6, 6, 8, 11, 8, 6, 5, 11, 10, 6, 6, 8, 8, 8, 8, 8, 8, 8, 6, 6, 6, 8, 8, 8, 8, 8, 8, 8, 8, 8, 9, 6, 6, 6, 6, 6, 6, 6, 6, 6, 9, 12, 11, 5, 6, 6, 5, 5, 5, 5, 15, 15, 15, 15, 15, 15, 11, 8, 6, 11, 11, 12, 12, 15, 15, 15, 15, 15, 15, 15, 15, 15, 15, 6, 6, 6, 6, 6, 10, 10, 10, 10, 10, 10, 10, 15, 13, 4, 15, 7, 10, 13, 10, 10, 10, 8, 9, 9, 9, 9, 9, 9, 9, 9, 5, 5, 5, 5, 5, 11, 16, 16, 16, 16, 9, 7, 5, 11, 11, 6, 6, 6, 6, 6, 5, 8, 14, 15, 10, 12, 9, 9, 9, 5, 5, 5, 12, 5, 6, 14, 14, 14, 14, 14, 7, 7, 7, 7, 7, 5, 5, 8, 8, 11, 13, 10, 10, 8, 8, 5, 14, 15, 15, 8, 12, 10, 10, 11, 15, 9, 15, 11, 13, 14, 8, 7, 8, 6, 10, 13, 8, 5, 5, 12, 4, 6, 13, 12, 7, 11, 10, 10, 6, 6, 6, 6, 6, 6, 6, 6, 12, 13, 12, 9, 8, 9, 6, 5, 5, 13, 13, 13, 13, 13, 13, 13, 13, 13, 10, 8, 9, 5, 9, 12, 8, 13, 13, 13, 13, 13, 7, 7, 7, 7, 7, 7, 8, 11, 13, 14, 8, 8, 8, 14, 14, 6, 6, 9, 10, 12, 10, 10, 9, 6, 13, 13, 13, 13, 13, 13, 13, 13, 13, 13, 13, 13, 13, 13, 13, 13, 13, 13, 13, 13, 13, 13, 13, 13, 13, 13, 13, 13, 13, 13, 11, 8, 15, 5, 14, 13, 8, 8, 8, 10, 12, 12, 7, 11, 8, 12, 15, 5, 11, 10, 10, 8, 8, 13, 14, 9, 4, 12, 6, 6, 6, 13, 13, 6, 7, 10, 6, 7, 15, 8, 10, 5, 8, 6, 14, 5, 14, 13, 7, 5, 6, 9, 13, 12, 13, 13, 13, 13, 13, 13, 13, 13, 13, 13, 13, 13, 13, 13, 13, 13, 13, 13, 14, 14, 14, 14, 14, 14, 11, 6, 11, 5, 14, 14, 14, 13, 9, 7, 6, 5, 5, 7, 8, 6, 15, 13, 13, 8, 13, 11, 13, 13, 13, 13, 13, 13, 13, 13, 13, 13, 13, 13, 13, 16, 16, 16, 16, 16, 8, 8, 12, 13, 7, 6, 8, 16, 16, 16, 16, 16, 16, 14, 14, 8, 5, 14, 14, 10, 14, 14, 14, 14, 14, 14, 14, 12, 14, 14, 7, 8, 12, 9, 5, 5, 10, 12, 10, 6, 8, 8, 10, 10, 7, 8, 14, 14, 8, 5, 8, 8, 8, 12, 13, 6, 8, 8, 12, 10, 8, 8, 8, 8, 8, 8, 8, 8, 8, 8, 10, 8, 14, 16, 8, 11, 10, 6, 12, 9, 8, 10, 14, 14, 14, 14, 10, 7, 7, 7, 7, 7, 7, 7, 8, 8, 8, 8, 8, 9, 9, 11, 9, 9, 9, 9, 9, 9, 9, 11, 7, 8, 8, 8, 7, 8, 9, 11, 11, 11, 11, 13, 14, 10, 8, 6, 12, 9, 6, 17, 8, 4, 11, 7, 11, 9, 8, 11, 11, 11, 11, 11, 11, 11, 11, 16, 16, 16, 16, 16, 16, 16, 16, 16, 16, 16, 16, 16, 16, 11, 5, 4, 11, 11, 11, 11, 11, 11, 8, 10, 15, 8, 7, 7, 8, 6, 7, 7, 8, 8, 8, 8, 8, 8, 8, 8, 14, 8, 14, 14, 14, 5, 7, 8, 8, 8, 13, 13, 8, 9, 10, 8, 14, 8, 15, 10, 13, 13, 13, 13, 13, 13, 13, 13, 13, 13, 13, 13, 13, 13, 13, 13, 5, 7, 7, 7, 7, 7, 9, 14, 4, 15, 6, 8, 9, 8, 4, 14, 15, 8, 8, 8, 8, 11, 11, 11, 11, 11, 11, 11, 11, 8, 7, 4, 15, 15, 15, 15, 15, 15, 15, 15, 15, 15, 15, 15, 15, 15, 15, 15, 15, 15, 15, 15, 15, 15, 15, 15, 15, 15, 15, 15, 7, 6, 5, 6, 8, 5, 12, 8, 5, 4, 12, 11, 10, 10, 10, 10, 10, 10, 10, 10, 10, 10, 6, 6, 6, 6, 6, 8, 13, 5, 7, 6, 6, 6, 6, 6, 8, 8, 8, 8, 8, 8, 8, 8, 8, 8, 8, 11, 12, 8, 14, 13, 14, 14, 10, 14, 11, 11, 11, 11, 11, 11, 11, 14, 14, 14, 14, 14, 14, 14, 14, 15, 9, 7, 14, 14, 14, 14, 14, 14, 11, 11, 11, 11, 11, 11, 11, 11, 11, 11, 11, 11, 11, 11, 11, 11, 11, 14, 10, 8, 8, 8, 7, 10, 14, 14, 12, 17, 4, 4, 5, 5, 5, 5, 5, 5, 12, 12, 12, 12, 12, 12, 12, 12, 14, 8, 8, 9, 11, 14, 9, 9, 9, 9, 9, 9, 9, 9, 9, 9, 9, 9, 12, 15, 10, 7, 8, 9, 9, 7, 10, 12, 11, 6, 6, 12, 10, 9, 9, 9, 9, 4, 4, 4, 5, 5, 5, 5, 8, 6, 12, 5, 10, 8, 8, 7, 10, 9, 9, 8, 5, 5, 5, 5, 6, 9, 9, 9, 9, 9, 9, 9, 9, 9, 9, 11, 7, 14, 9, 6, 9, 9, 9, 15, 15, 15, 15, 15, 15, 15, 15, 15, 11, 16, 6, 11, 9, 15, 15, 10, 10, 11, 11, 10, 4, 10, 10, 10, 10, 5, 9, 9, 6, 10, 6, 13, 8, 10, 6, 6, 6, 6, 6, 6, 6, 6, 6, 6, 5, 5, 5, 5, 10, 6, 8, 7, 7, 11, 6, 8, 8, 5, 5, 5, 12, 12, 12, 12, 12, 12, 12, 12, 12, 12, 12, 12, 12, 12, 12, 12, 12, 12, 12, 12, 12, 12, 8, 8, 7, 6, 12, 12, 12, 5, 8, 7, 7, 12, 10, 10, 13, 13, 12, 16, 8, 5, 5, 7, 7, 7, 8, 8, 8, 8, 4, 4, 4, 4, 4, 4, 11, 10, 7, 9, 8, 4, 8, 15, 13, 14, 14, 4, 11, 11, 11, 11, 11, 11, 8, 8, 8, 8, 8, 8, 8, 14, 8, 10, 11, 11, 14, 11, 7, 5, 5, 11, 6, 5, 5, 5, 14, 6, 12, 9, 9, 9, 8, 8, 9, 9, 6, 11, 11, 6, 6, 7, 7, 7, 4, 16, 4, 7, 7, 7, 11, 8, 8, 15, 8, 8, 7, 7, 7, 7, 7, 7, 7, 7, 7, 7, 7, 7, 7, 6, 7, 7, 7, 7, 7, 7, 7, 7, 7, 7, 7, 7, 8, 8, 8, 8, 8, 8, 8, 8, 12, 6, 8, 15, 15, 15, 5, 8, 8, 15, 6, 14, 13, 11, 10, 6, 6, 6, 13, 13, 4, 14, 14, 13, 13, 13, 8, 7, 12, 13, 13, 13, 13, 13, 13, 13, 13, 13, 4, 4, 12, 12, 12, 12, 12, 9, 10, 8, 11, 11, 12, 12, 12, 12, 12, 12, 5, 5, 5, 7, 9, 8, 8, 12, 7, 12, 5, 5, 5, 5, 10, 15, 7, 12, 12, 12, 12, 12, 5, 5, 5, 5, 5, 5, 5, 11, 9, 9, 11, 8, 10, 15, 15, 10, 8, 6, 6, 6, 6, 6, 9, 6, 5, 11, 11, 11, 14, 9, 14, 16, 12, 12, 12, 12, 12, 9, 9, 9, 6, 14, 12, 6, 8, 12, 12, 7, 10, 13, 13, 13, 8, 4, 12, 13, 9, 12, 12, 12, 12, 12, 12, 12, 12, 12, 12, 12, 12, 7, 7, 5, 7, 7, 7, 7, 5, 5, 5, 5, 5, 5, 5, 6, 6, 6, 6, 8, 8, 8, 8, 8, 8, 8, 11, 11, 11, 11, 11, 11, 11, 11, 8, 8, 10, 7, 7, 14, 14, 11, 7, 8, 11, 11, 11, 11, 11, 11, 11, 11, 11, 11, 11, 11, 11, 11, 11, 11, 11, 11, 11, 11, 11, 11, 4, 4, 4, 4, 4, 4, 4, 4, 4, 4, 11, 6, 6, 12, 5, 9, 4, 4, 4, 4, 11, 12, 8, 9, 9, 6, 5, 8, 11, 6, 4, 8, 11, 11, 11, 11, 11, 11, 7, 12, 12, 12, 7, 7, 8, 8, 6, 9, 7, 4, 4, 4, 8, 7, 5, 12, 12, 12, 5, 5, 5, 12, 14, 14, 14, 14, 6, 6, 5, 11, 6, 7, 10, 14, 14, 4, 4, 4, 4, 7, 7, 7, 7, 7, 7, 7, 7, 8, 8, 8, 8, 8, 8, 8, 8, 11, 15, 8, 6, 8, 8, 8, 8, 8, 8, 8, 8, 8, 8, 11, 11, 13, 7, 11, 9, 9, 9, 9, 9, 9, 13, 13, 13, 6, 13, 13, 8, 11, 11, 9, 9, 9, 9, 9, 9, 8, 9, 10, 10, 10, 12, 12, 7, 12, 12, 12, 12, 7, 4, 6, 6, 12, 12, 12, 4, 7, 8, 13, 12, 5, 5, 12, 10, 10, 10, 10, 11, 11, 5, 5, 5, 5, 5, 4, 12, 12, 6, 6, 11, 11, 8, 8, 8, 11, 7, 8, 11, 14, 9, 15, 15, 15, 7, 14, 14, 14, 14, 8, 14, 8, 11, 11, 6, 11, 8, 6, 10, 8, 6, 8, 8, 8, 5, 11, 11, 8, 6, 10, 10, 8, 8, 7, 5, 14, 12, 7, 15, 15, 15, 15, 15, 15, 15, 15, 15, 11, 11, 11, 9, 9, 8, 15, 11, 14, 11, 11, 12, 12, 12, 4, 4, 4, 4, 12, 13, 12, 8, 7, 8, 14, 11, 7, 7, 10, 10, 10, 10, 14, 14, 7, 7, 7, 4, 11, 8, 5, 9, 13, 6, 10, 7, 9, 9, 9, 9, 11, 11, 11, 11, 11, 8, 15, 15, 15, 15, 15, 15, 9, 11, 7, 7, 7, 7, 7, 7, 10, 6, 10, 8, 6, 13, 5, 7, 7, 7, 7, 5, 9, 5, 7, 16, 15, 14, 13, 15, 9, 6, 7, 7, 7, 14, 14, 14, 14, 14, 14, 14, 5, 5, 10, 10, 10, 6, 6, 6, 11, 6, 12, 8, 10, 11, 14, 14, 10, 10, 10, 10, 14, 6, 12, 15, 15, 15, 11, 14, 14, 14, 14, 14, 14, 14, 14, 14, 14, 12, 12, 12, 12, 12, 12, 12, 12, 12, 12, 12, 12, 12, 4, 4, 4, 4, 7, 7, 8, 5, 8, 8, 8, 13, 10, 10, 13, 14, 14, 14, 14, 14, 14, 14, 14, 14, 14, 14, 14, 13, 13, 13, 14, 13, 13, 7, 7, 8, 4, 12, 12, 12, 12, 12, 12, 12, 12, 12, 12, 8, 12, 8, 8, 12, 12, 12, 5, 5, 5, 7, 14, 14, 14, 14, 14, 7, 12, 14, 14, 14, 14, 14, 14, 14, 14, 4, 4, 8, 8, 8, 8, 8, 8, 8, 8, 4, 4, 4, 4, 8, 5, 5, 5, 8, 12, 12, 12, 13, 8, 6, 6, 8, 12, 12, 12, 11, 11, 11, 11, 11, 12, 11, 11, 11, 11, 8, 8, 11, 11, 8, 8, 8, 12, 10, 10, 10, 12, 12, 6, 10, 10, 12, 12, 12, 15, 13, 6, 11, 11, 11, 6, 6, 13, 11, 11, 14, 14, 13, 8, 12, 12, 12, 6, 6, 6, 10, 10, 10, 10, 10, 8, 8, 7, 16, 5, 8, 5, 8, 8, 8, 8, 8, 8, 6, 5, 8, 12, 11, 10, 10, 6, 11, 10, 8, 7, 7, 8, 8, 7, 5, 5, 5, 5, 8, 12, 15, 15, 15, 15, 15, 15, 15, 15, 15, 15, 15, 15, 12, 11, 11, 8, 9, 9, 11, 7, 7, 7, 11, 11, 11, 9, 9, 9, 9, 9, 9, 6, 8, 8, 8, 8, 8, 7, 9, 9, 7, 7, 5, 4, 5, 9, 8, 8, 8, 5, 5, 7, 7, 7, 7, 7, 7, 7, 7, 7, 7, 7, 7, 7, 4, 4, 4, 4, 5, 5, 11, 11, 4, 4, 4, 8, 8, 8, 8, 8, 8, 8, 8, 8, 8, 5, 5, 5, 5, 5, 5, 9, 9, 9, 9, 9, 5, 5, 5, 15, 7, 7, 8, 10, 9, 15, 15, 15, 15, 15, 15, 15, 15, 15, 15, 7, 7, 7, 7, 14, 14, 14, 14, 14, 14, 14, 7, 7, 14, 14, 5, 11, 14, 10, 10, 10, 10, 10, 4, 8, 5, 13, 10, 10, 10, 10, 10, 10, 10, 10, 10, 9, 9, 9, 9, 9, 9, 9, 9, 9, 9, 9, 9, 9, 9, 9, 13, 14, 14, 5, 8, 8, 8, 4, 4, 4, 4, 8, 8, 11, 6, 8, 5, 14, 14, 10, 11, 8, 6, 10, 10, 11, 11, 4, 7, 15, 15, 15, 15, 10, 8, 6, 5, 4, 7, 14, 14, 7, 6, 6, 7, 11, 11, 5, 7, 7, 14, 10, 4, 8, 9, 4, 10, 10, 9, 8, 10, 10, 13, 13, 13, 10, 10, 10, 10, 10, 10, 10, 8, 8, 8, 8, 8, 5, 8, 8, 8, 8, 12, 12, 12, 12, 12, 12, 12, 11, 11, 7, 7, 6, 7, 7, 7, 7, 7, 12, 12, 11, 11, 11, 11, 5, 5, 5, 15, 15, 10, 10, 11, 11, 11, 5, 5, 5, 11, 5, 14, 14, 11, 11, 11, 11, 11, 11, 11, 11, 10, 12, 17, 17, 17, 8, 8, 8, 8, 8, 8, 8, 8, 8, 8, 4, 12, 12, 12, 12, 12, 12, 12, 12, 12, 12, 12, 12, 10, 12, 10, 10, 12, 12, 12, 12, 8, 10, 8, 8, 8, 8, 8, 8, 5, 5, 5, 6, 6, 6, 6, 6, 6, 6, 6, 6, 6, 6, 9, 9, 9, 9, 9, 5, 5, 5, 5, 6, 10, 6, 6, 6, 6, 13, 10, 10, 10, 10, 8, 5, 13, 11, 11, 11, 11, 11, 11, 11, 11, 5, 14, 14, 14, 10, 10, 10, 10, 10, 11, 11, 11, 11, 11, 11, 11, 10, 6, 6, 9, 12, 13, 8, 8, 12, 4, 4, 4, 5, 5, 5, 8, 8, 8, 8, 8, 8, 6, 8, 11, 11, 9, 9, 12, 12, 9, 8, 8, 8, 8, 8, 11, 8, 8, 8, 4, 4, 8, 8, 8, 8, 8, 8, 8, 8, 7, 7, 15, 11, 12, 12, 9, 5, 6, 6, 6, 8, 9, 11, 13, 13, 13, 6, 4, 12, 8, 6, 8, 8, 8, 8, 4, 4, 4, 4, 4, 17, 8, 10, 4, 13, 13, 13, 13, 13, 13, 6, 10, 4, 8, 12, 6, 9, 7, 12, 6, 8, 6, 6, 9, 5, 8, 4, 8, 5, 6, 5, 5, 6, 6, 5, 4, 4, 11, 11, 4, 10, 10, 8, 8, 8, 8, 16, 15, 15, 15, 15, 15, 15, 8, 8, 8, 8, 8, 8, 8, 4, 14, 14, 14, 14, 14, 14, 11, 9, 9, 9, 9, 9, 4, 4, 6, 5, 11, 11, 10, 10, 7, 11, 11, 4, 7, 7, 7, 7, 7, 7, 7, 7, 7, 7, 15, 7, 7, 8, 9, 9, 9, 9, 12, 12, 12, 12, 6, 15, 11, 11, 11, 11, 11, 5, 11, 8, 5, 5, 5, 5, 5, 12, 12, 6, 5, 11, 11, 11, 11, 8, 8, 15, 15, 11, 11, 5, 5, 8, 11, 8, 8, 8, 15, 8, 11, 8, 8, 10, 5, 5, 9, 9, 9, 8, 8, 8, 8, 8, 8, 8, 8, 10, 10, 10, 10, 10, 10, 10, 10, 10, 10, 10, 10, 10, 10, 8, 6, 14, 14, 14, 14, 14, 14, 14, 10, 10, 14, 14, 8, 10, 9, 15, 15, 15, 15, 15, 8, 8, 8, 8, 8, 8, 8, 8, 8, 14, 14, 14, 15, 4, 4, 8, 8, 14, 14, 14, 6, 6, 15, 10, 6, 14, 14, 10, 13, 12, 11, 10, 10, 8, 5, 5, 7, 7, 5, 7, 8, 8, 8, 8, 8, 8, 8, 11, 11, 11, 10, 10, 4, 5, 4, 4, 14, 14, 14, 14, 14, 8, 4, 5, 7, 7, 8, 15, 7, 5, 8, 8, 12, 12, 12, 12, 12, 12, 8, 8, 8, 8, 8, 8, 8, 8, 12, 12, 8, 13, 8, 8, 5, 5, 5, 5, 5, 5, 5, 5, 5, 5, 13, 11, 5, 9, 9, 10, 8, 8, 8, 8, 8, 8, 8, 8, 14, 8, 14, 14, 14, 11, 11, 11, 14, 14, 14, 14, 14, 14, 14, 14, 14, 14, 14, 12, 5, 11, 6, 14, 14, 8, 8, 12, 12, 8, 8, 8, 7, 7, 7, 7, 7, 7, 7, 7, 7, 7, 7, 7, 7, 10, 9, 9, 8, 7, 7, 11, 11, 11, 11, 13, 8, 7, 11, 11, 11, 11, 11, 7, 8, 8, 8, 10, 13, 7, 7, 8, 8, 11, 14, 14, 7, 6, 4, 11, 11, 11, 10, 10, 14, 14, 14, 14, 14, 14, 14, 14, 14, 14, 14, 14, 14, 14, 14, 14, 14, 14, 14, 9, 9, 10, 10, 10, 9, 13, 13, 13, 13, 13, 13, 13, 13, 13, 13, 10, 16, 8, 6, 14, 14, 14, 14, 14, 14, 14, 14, 14, 14, 13, 13, 13, 13, 13, 13, 13, 9, 9, 9, 9, 9, 14, 14, 5, 10, 12, 12, 5, 10, 10, 10, 10, 11, 9, 9, 9, 8, 8, 8, 8, 8, 8, 8, 12, 8, 8, 8, 8, 7, 8, 14, 14, 14, 8, 13, 8, 8, 8, 8, 8, 8, 8, 8, 8, 8, 13, 12, 13, 16, 12, 12, 12, 12, 12, 10, 13, 8, 8, 8, 8, 8, 8, 8, 8, 8, 11, 13, 15, 15, 13, 13, 11, 11, 11, 11, 11, 11, 11, 11, 11, 11, 11, 11, 11, 11, 11, 11, 4, 4, 4, 4, 4, 4, 4, 4, 4, 4, 4, 13, 10, 10, 15, 15, 15, 15, 15, 13, 13, 14, 14, 14, 11, 12, 5, 6, 6, 6, 6, 6, 6, 6, 11, 11, 11, 11, 11, 11, 11, 11, 11, 10, 10, 7, 11, 11, 11, 11, 11, 11, 11, 11, 11, 11, 11, 11, 11, 11, 11, 11, 11, 11, 11, 11, 11, 11, 10, 10, 10, 10, 10, 10, 10, 10, 10, 10, 10, 10, 13, 13, 7, 11, 11, 7, 7, 7, 7, 10, 10, 10, 10, 10, 10, 10, 7, 7, 7, 7, 7, 11, 15, 15, 11, 11, 9, 10, 10, 10, 14, 14, 14, 14, 14, 14, 14, 14, 14, 14, 14, 12, 12, 12, 12, 12, 12, 12, 12, 12, 12, 12, 9, 9, 8, 8, 11, 11, 11, 15, 15, 12, 12, 12, 12, 12, 12, 12, 12, 12, 5, 5, 5, 5, 5, 5, 8, 8, 8, 11, 8, 8, 10, 10, 10, 10, 10, 11, 15, 5, 5, 10, 10, 10, 10, 10, 10, 10, 10, 10, 10, 10, 10, 10, 10, 5, 5, 5, 15, 15, 10, 9, 12, 15, 13, 13, 13, 9, 9, 12, 12, 12, 12, 12, 12, 12, 12, 12, 12, 12, 12, 12, 12, 12, 12, 12, 12, 12, 12, 10, 10, 10, 10, 10, 10, 10, 10, 10, 15, 8, 8, 5, 5, 11, 11, 10, 10, 10, 11, 4, 8, 8, 10, 12, 14, 10, 9, 15, 7, 8, 11, 11, 8, 8, 8, 8, 8, 14, 14, 12, 12, 12, 12, 14, 15, 4, 5, 11, 6, 6, 15, 8, 8, 8, 8, 8, 7, 14, 7, 10, 6, 15, 15, 10, 8, 14, 5, 14, 14, 14, 14, 14, 14, 14, 5, 8, 9, 9, 9, 9, 9, 9, 9, 9, 12, 12, 8, 6, 12, 12, 12, 12, 5, 13, 13, 13, 13, 13, 13, 13, 6, 13, 6, 6, 6, 6, 14, 8, 11, 11, 8, 8, 8, 12, 12, 12, 8, 8, 7, 12, 12, 12, 7, 8, 7, 13, 9, 12, 12, 12, 9, 9, 6, 12, 7, 7, 7, 7, 6, 15, 15, 15, 15, 10, 10, 10, 10, 10, 10, 10, 10, 10, 10, 10, 10, 10, 10, 10, 10, 5, 5, 5, 5, 5, 8, 8, 8, 13, 13, 9, 9, 9, 9, 14, 8, 8, 8, 8, 14, 14, 14, 13, 13, 6, 6, 6, 6, 6, 8, 8, 8, 8, 8, 6, 8, 8, 8, 8, 8, 8, 6, 6, 6, 6, 6, 6, 11, 11, 11, 14, 15, 13, 13, 13, 9, 9, 9, 9, 9, 4, 14, 14, 14, 4, 4, 16, 8, 12, 12, 12, 16, 14, 14, 14, 14, 14, 14, 14, 14, 14, 14, 16, 14, 7, 12, 12, 11, 11, 11, 11, 11, 11, 13, 11, 12, 12, 12, 4, 13, 12, 12, 12, 12, 12, 12, 12, 12, 12, 12, 12, 12, 12, 12, 7, 7, 7, 7, 12, 12, 7, 7, 7, 5, 9, 6, 9, 8, 8, 10, 9, 9, 9, 9, 7, 8, 7, 7, 7, 7, 7, 7, 7, 7, 7, 7, 4, 4, 6, 6, 5, 8, 8, 8, 8, 8, 10, 10, 10, 10, 10, 6, 6, 6, 7, 7, 7, 8, 5, 14, 5, 7, 6, 6, 10, 12, 12, 6, 10, 7, 7, 12, 12, 12, 12, 5, 7, 7, 4, 12, 12, 12, 12, 8, 8, 8, 9, 9, 7, 7, 9, 9, 9, 9, 9, 7, 7, 7, 7, 5, 5, 5, 9, 9, 9, 9, 9, 9, 9, 9, 9, 9, 9, 9, 9, 9, 9, 9, 10, 5, 7, 7, 6, 10, 4, 7, 7, 7, 7, 7, 7, 7, 12, 8, 8, 8, 4, 5, 8, 6, 5, 5, 7, 7, 7, 7, 7, 11, 11, 11, 10, 10, 6, 11, 11, 11, 8, 7, 7, 7, 7, 6, 6, 6, 6, 12, 12, 12, 12, 12, 12, 12, 12, 12, 12, 12, 6, 12, 12, 12, 12, 12, 6, 6, 6, 6, 6, 8, 8, 6, 8, 8, 8, 8, 8, 8, 8, 8, 8, 8, 8, 8, 8, 5, 8, 8, 7, 8, 11, 4, 7, 5, 11, 6, 4, 11, 7, 5, 5, 5, 4, 5, 12, 10, 9, 9, 9, 9, 9, 9, 9, 9, 9, 13, 13, 13, 13, 13, 13, 13, 13, 13, 13, 13, 13, 13, 13, 13, 13, 13, 13, 13, 13, 13, 13, 13, 13, 13, 13, 15, 15, 13, 13, 13, 9, 4, 13, 5, 5, 5, 7, 5, 7, 7, 7, 8, 8, 7, 7, 7, 7, 7, 7, 9, 8, 11, 4, 4, 4, 4, 4, 4, 4, 4, 4, 15, 15, 10, 11, 6, 4, 4, 4, 5, 5, 5, 8, 8, 8, 8, 8, 8, 8, 8, 8, 8, 8, 8, 8, 8, 5, 11, 11, 7, 7, 7, 7, 7, 7, 7, 7, 7, 7, 9, 9, 9, 9, 9, 13, 13, 13, 13, 13, 13, 13, 13, 13, 13, 13, 13, 6, 8, 5, 14, 12, 11, 8, 8, 8, 10, 10, 12, 10, 9, 12, 8, 7, 10, 10, 10, 7, 10, 10, 10, 10, 10, 5, 5, 5, 13, 13, 13, 13, 13, 13, 13, 13, 13, 13, 13, 13, 13, 13, 7, 7, 7, 4, 11, 7, 13, 13, 5, 5, 12, 10, 10, 14, 15, 5, 15, 15, 5, 5, 15, 15, 15, 6, 6, 6, 6, 7, 6, 12, 12, 15, 15, 15, 15, 15, 15, 15, 15, 15, 8, 8, 8, 8, 8, 8, 6, 8, 8, 4, 7, 7, 7, 7, 8, 8, 13, 7, 7, 7, 7, 7, 7, 8, 8, 8, 8, 8, 8, 14, 7, 7, 5, 5, 5, 8, 8, 8, 12, 12, 7, 8, 9, 9, 9, 9, 9, 9, 6, 6, 10, 12, 12, 11, 9, 10, 10, 10, 10, 10, 12, 12, 7, 7, 7, 7, 7, 7, 7, 7, 7, 15, 13, 6, 13, 13, 7, 7, 7, 8, 8, 13, 13, 13, 8, 8, 8, 8, 8, 8, 14, 14, 12, 10, 10, 14, 14, 14, 14, 14, 8, 8, 8, 7, 11, 10, 7, 7, 7, 8, 9, 7, 8, 8, 8, 8, 5, 10, 10, 10, 10, 11, 11, 8, 5, 13, 8, 8, 13, 8, 8, 14, 14, 14, 14, 8, 8, 14, 10, 8, 6, 16, 16, 16, 16, 11, 15, 15, 15, 15, 15, 15, 4, 14, 14, 6, 6, 6, 6, 6, 6, 6, 6, 7, 7, 14, 9, 13, 6, 5, 8, 7, 7, 7, 6, 6, 6, 5, 7, 7, 7, 7, 7, 7, 7, 7, 10, 10, 10, 10, 10, 10, 10, 10, 10, 10, 10, 10, 10, 10, 10, 10, 10, 10, 10, 10, 5, 14, 10, 10, 10, 6, 6, 6, 6, 6, 10, 13, 8, 8, 10, 10, 10, 10, 10, 9, 9, 9, 9, 9, 9, 9, 9, 15, 15, 15, 15, 15, 15, 15, 15, 15, 15, 15, 15, 15, 15, 15, 11, 10, 10, 6, 13, 13, 13, 13, 13, 6, 6, 9, 9, 8, 8, 8, 8, 8, 8, 8, 8, 9, 12, 8, 8, 8, 7, 7, 7, 7, 8, 7, 7, 7, 7, 7, 14, 14, 14, 14, 14, 14, 14, 14, 14, 12, 8, 11, 11, 11, 9, 9, 9, 14, 14, 14, 13, 13, 13, 13, 13, 13, 13, 13, 11, 8, 15, 12, 6, 12, 8, 6, 17, 17, 8, 4, 10, 9, 9, 9, 9, 10, 6, 9, 8, 8, 5, 4, 11, 11, 11, 11, 11, 11, 11, 11, 11, 11, 11, 11, 11, 11, 16, 16, 15, 4, 4, 4, 11, 11, 11, 6, 6, 6, 6, 6, 6, 11, 10, 10, 10, 6, 6, 6, 6, 6, 7, 7, 6, 6, 6, 6, 5, 11, 7, 7, 7, 7, 7, 6, 6, 6, 6, 6, 6, 6, 6, 6, 6, 6, 7, 7, 7, 8, 5, 8, 8, 7, 7, 7, 7, 7, 7, 7, 4, 8, 4, 8, 5, 9, 8, 8, 8, 8, 8, 10, 10, 4, 4, 4, 4, 4, 9, 15, 8, 8, 15, 15, 8, 8, 8, 14, 11, 8, 8, 8, 8, 8, 8, 8, 8, 8, 8, 8, 12, 12, 12, 12, 12, 12, 5, 5, 14, 14, 11, 11, 11, 11, 11, 11, 11, 11, 11, 14, 5, 11, 11, 11, 6, 6, 6, 6, 7, 8, 6, 6, 6, 6, 6, 9, 9, 10, 10, 10, 8, 8, 8, 6, 9, 8, 8, 4, 8, 8, 5, 13, 13, 13, 13, 13, 13, 13, 13, 13, 13, 13, 13, 13, 4, 13, 6, 10, 10, 12, 13, 13, 13, 15, 13, 13, 15, 10, 12, 8, 14, 14, 13, 13, 13, 5, 5, 5, 5, 5, 5, 5, 13, 13, 13, 12, 5, 6, 6, 6, 6, 6, 6, 6, 5, 7, 7, 5, 7, 11, 9, 12, 12, 12, 12, 12, 12, 12, 12, 12, 12, 12, 12, 12, 12, 12, 12, 9, 12, 12, 12, 12, 12, 12, 11, 11, 11, 11, 10, 10, 10, 11, 10, 10, 15, 10, 10, 10, 10, 8, 8, 8, 8, 8, 8, 12, 12, 12, 12, 12, 12, 12, 12, 11, 12, 12, 12, 12, 12, 12, 12, 12, 12, 12, 11, 12, 11, 14, 15, 10, 10, 12, 5, 5, 12, 12, 12, 12, 12, 12, 12, 12, 12, 12, 12, 9, 8, 8, 9, 9, 9, 9, 9, 9, 9, 9, 9, 9, 7, 8, 5, 7, 6, 6, 6, 14, 6, 7, 7, 7, 9, 9, 9, 9, 9, 9, 9, 9, 9, 9, 6, 11, 11, 8, 12, 7, 9, 9, 9, 9, 10, 10, 10, 10, 10, 8, 7, 7, 9, 6, 9, 9, 10, 10, 10, 10, 4, 4, 4, 4, 4, 4, 4, 4, 4, 4, 4, 8, 8, 8, 8, 8, 8, 10, 10, 10, 10, 10, 13, 6, 14, 14, 10, 14, 14, 14, 16, 16, 8, 4, 8, 8, 5, 9, 9, 9, 4, 4, 5, 5, 5, 9, 6, 8, 9, 7, 6, 6, 11, 11, 11, 11, 7, 5, 4, 4, 5, 6, 10, 10, 5, 4, 5, 8, 8, 7, 7, 7, 7, 7, 7, 8, 8, 8, 5, 12, 12, 12, 12, 12, 12, 8, 8, 8, 8, 8, 8, 8, 8, 8, 8, 8, 8, 8, 8, 6, 6, 6, 5, 10, 13, 13, 13, 13, 13, 13, 13, 13, 13, 6, 13, 13, 13, 13, 5, 4, 4, 5, 7, 6, 16, 9, 5, 8, 12, 9, 9, 11, 9, 13, 8, 13, 13, 6, 13, 13, 13, 4, 15, 8, 11, 15, 7, 7, 7, 7, 7, 8, 4, 4, 4, 11, 7, 15, 8, 5, 5, 5, 11, 11, 6, 5, 9, 10, 6, 6, 14, 6, 13, 6, 13, 6, 13, 9, 9, 8, 8, 8, 11, 9, 9, 9, 9, 15, 10, 10, 12, 12, 12, 12, 7, 4, 4, 8, 5, 15, 15, 15, 15, 15, 15, 5, 11, 8, 15, 7, 14, 14, 8, 8, 8, 11, 6, 15, 8, 8, 8, 8, 8, 8, 8, 6, 6, 9, 12, 9, 8, 8, 15, 11, 6, 8, 8, 8, 6, 6, 6, 6, 14, 14, 14, 11, 14, 10, 10, 10, 11, 6, 6, 8, 8, 8, 8, 7, 12, 7, 11, 9, 10, 10, 10, 10, 10, 10, 10, 11, 11, 11, 11, 11, 11, 11, 14, 8, 8, 8, 8, 11, 12, 5, 5, 5, 5, 5, 5, 5, 5, 5, 5, 5, 5, 11, 11, 10, 12, 12, 12, 12, 10, 10, 10, 10, 10, 10, 10, 10, 10, 10, 10, 10, 10, 12, 10, 9, 9, 12, 12, 8, 8, 9, 9, 9, 9, 9, 9, 9, 9, 9, 9, 9, 9, 7, 7, 9, 9, 4, 4, 12, 7, 7, 7, 9, 13, 5, 4, 8, 14, 13, 9, 9, 9, 9, 9, 7, 7, 9, 6, 6, 6, 9, 9, 9, 9, 6, 7, 13, 5, 12, 6, 9, 9, 9, 9, 9, 9, 9, 9, 9, 9, 9, 9, 9, 9, 9, 10, 4, 7, 10, 5, 5, 5, 5, 5, 10, 8, 10, 10, 6, 6, 14, 12, 12, 8, 10, 6, 6, 8, 8, 5, 5, 5, 5, 9, 8, 8, 8, 11, 5, 5, 5, 11, 5, 10, 7, 5, 5, 10, 8, 9, 8, 8, 8, 9, 10, 9, 7, 7, 14, 14, 7, 12, 5, 5, 5, 5, 5, 5, 4, 5, 5, 8, 12, 12, 12, 13, 9, 9, 9, 9, 9, 9, 9, 4, 4, 4, 4, 14, 14, 14, 14, 14, 8, 6, 6, 8, 13, 13, 13, 13, 13, 13, 13, 13, 13, 13, 8, 8, 8, 8, 8, 8, 8, 12, 12, 12, 12, 8, 8, 8, 8, 8, 8, 8, 8, 8, 8, 8, 8, 8, 8, 8, 8, 8, 8, 6, 6, 6, 6, 4, 4, 4, 4, 4, 4, 4, 4, 10, 10, 9, 10, 10, 10, 10, 10, 12, 12, 12, 15, 10, 10, 10, 10, 10, 10, 4, 4, 4, 9, 9, 15, 13, 9, 9, 9, 8, 8, 8, 8, 6, 6, 6, 13, 8, 8, 11, 8, 8, 8, 8, 8, 8, 4, 4, 4, 14, 14, 14, 14, 14, 14, 8, 14, 12, 14, 9, 12, 10, 10, 6, 6, 6, 6, 6, 7, 16, 5, 5, 5, 8, 5, 8, 10, 5, 5, 6, 6, 6, 6, 10, 8, 6, 6, 6, 6, 6, 6, 6, 6, 7, 7, 7, 7, 7, 7, 7, 8, 8, 7, 8, 8, 8, 7, 7, 8, 8, 8, 8, 14, 14, 14, 10, 10, 10, 10, 10, 10, 7, 5, 5, 11, 11, 7, 7, 7, 10, 10, 8, 12, 6, 6, 9, 15, 5, 11, 8, 5, 6, 6, 6, 6, 6, 14, 14, 14, 13, 13, 13, 13, 14, 14, 14, 14, 14, 14, 14, 14, 14, 14, 14, 14, 14, 14, 14, 14, 14, 14, 14, 12, 12, 12, 12, 12, 12, 12, 12, 12, 8, 8, 8, 6, 8, 12, 12, 12, 12, 12, 12, 12, 12, 12, 12, 5, 5, 5, 14, 10, 8, 6, 16, 11, 11, 4, 6, 12, 12, 12, 12, 12, 12, 12, 12, 12, 12, 12, 5, 5, 5, 5, 7, 4, 14, 14, 7, 7, 6, 8, 8, 9, 9, 9, 9, 9, 9, 9, 7, 14, 8, 9, 8, 13, 13, 13, 8, 8, 8, 13, 5, 8, 8, 8, 8, 11, 7, 7, 7, 8, 8, 10, 10, 7, 7, 5, 14, 14, 14, 15, 15, 15, 10, 5, 5, 5, 5, 4, 14, 10, 12, 17, 8, 8, 8, 8, 8, 10, 12, 10, 10, 10, 10, 11, 11, 11, 11, 11, 11, 8, 8, 5, 13, 11, 11, 11, 6, 6, 6, 6, 6, 6, 9, 9, 9, 9, 9, 10, 10, 10, 10, 14, 14, 14, 14, 14, 9, 9, 9, 9, 9, 12, 8, 12, 8, 11, 11, 9, 9, 9, 11, 9, 7, 4, 11, 12, 5, 6, 6, 8, 13, 6, 12, 12, 8, 6, 6, 17, 8, 8, 8, 8, 4, 10, 6, 6, 6, 9, 8, 8, 5, 16, 16, 16, 16, 16, 15, 15, 11, 4, 4, 4, 6, 15, 11, 11, 5, 10, 10, 10, 4, 4, 4, 4, 10, 10, 10, 10, 10, 10, 10, 10, 10, 10, 10, 11, 11, 15, 15, 15, 7, 11, 6, 6, 6, 6, 6, 6, 6, 6, 6, 7, 7, 7, 7, 7, 7, 9, 9, 8, 6, 5, 6, 6, 11, 11, 11, 11, 11, 8, 11, 11, 11, 11, 11, 5, 5, 5, 9, 12, 12, 8, 8, 5, 5, 5, 5, 5, 8, 8, 8, 8, 10, 10, 10, 9, 9, 9, 15, 15, 14, 8, 8, 8, 8, 8, 8, 8, 8, 14, 6, 14, 14, 13, 12, 5, 5, 5, 5, 11, 11, 8, 8, 8, 5, 11, 11, 11, 4, 4, 4, 4, 8, 8, 14, 14, 11, 14, 14, 5, 7, 7, 7, 4, 4, 5, 8, 10, 10, 8, 13, 10, 10, 10, 10, 10, 12, 12, 12, 12, 12, 12, 12, 12, 12, 12, 12, 12, 12, 12, 12, 12, 12, 12, 12, 12, 12, 12, 12, 11, 11, 11, 11, 11, 11, 9, 9, 11, 11, 11, 11, 11, 6, 6, 6, 6, 6, 6, 9, 6, 6, 6, 6, 6, 5, 10, 10, 5, 10, 5, 5, 5, 8, 8, 8, 5, 5, 5, 5, 5, 5, 5, 5, 8, 11, 11, 6, 11, 11, 10, 10, 10, 10, 10, 10, 10, 10, 10, 10, 10, 11, 11, 6, 14, 14, 7, 7, 7, 7, 7, 10, 9, 8, 10, 10, 10, 8, 8, 8, 10, 5, 5, 5, 5, 5, 5, 5, 5, 8, 8, 7, 6, 4, 4, 4, 4, 7, 7, 7, 7, 6, 5, 7, 7, 7, 9, 9, 10, 10, 12, 15, 10, 12, 8, 8, 7, 7, 14, 14, 12, 13, 12, 12, 5, 13, 10, 10, 5, 5, 15, 11, 12, 12, 8, 5, 5, 13, 13, 13, 13, 7, 7, 7, 7, 8, 8, 8, 8, 8, 8, 8, 10, 10, 10, 10, 10, 10, 10, 10, 10, 10, 7, 7, 15, 11, 8, 11, 11, 11, 11, 11, 9, 9, 8, 8, 12, 4, 6, 4, 4, 4, 4, 13, 13, 13, 13, 11, 11, 15, 7, 12, 15, 9, 11, 10, 10, 10, 10, 10, 10, 10, 10, 10, 11, 11, 11, 11, 10, 10, 11, 10, 10, 10, 10, 10, 4, 7, 8, 8, 10, 10, 9, 15, 11, 11, 10, 10, 15, 11, 14, 11, 11, 15, 15, 10, 6, 15, 8, 10, 10, 10, 10, 10, 10, 8, 12, 5, 7, 7, 8, 13, 13, 8, 5, 5, 7, 7, 6, 13, 6, 6, 6, 14, 6, 8, 8, 8, 8, 8, 8, 8, 12, 12, 8, 7, 7, 9, 9, 6, 6, 7, 7, 7, 10, 10, 10, 10, 9, 9, 14, 14, 14, 14, 10, 10, 10, 10, 10, 10, 10, 10, 10, 10, 8, 8, 8, 8, 8, 8, 14, 13, 13, 13, 6, 6, 10, 14, 15, 9, 9, 9, 9, 9, 4, 14, 4, 5, 5, 15, 16, 5, 5, 5, 5, 6, 6, 9, 9, 9, 9, 16, 9, 16, 8, 8, 9, 8, 8, 8, 8, 8, 8, 8, 12, 10, 10, 4, 13, 12, 12, 5, 9, 8, 8, 8, 5, 5, 5, 5, 9, 9, 9, 9, 6, 9, 8, 8, 8, 4, 8, 8, 6, 6, 7, 5, 9, 9, 9, 9, 5, 14, 5, 11, 9, 9, 9, 11, 6, 6, 10, 5, 8, 8, 8, 8, 8, 8, 8, 8, 8, 8, 8, 8, 8, 8, 8, 8, 8, 8, 5, 7, 6, 8, 8, 4, 8, 9, 9, 9, 9, 9, 9, 9, 9, 9, 7, 7, 7, 7, 6, 6, 6, 5, 10, 10, 7, 7, 7, 14, 14, 14, 14, 14, 14, 14, 14, 14, 14, 14, 14, 14, 14, 14, 6, 6, 4, 14, 14, 8, 8, 8, 14, 8, 14, 14, 14, 14, 14, 14, 14, 14, 14, 14, 14, 14, 14, 14, 14, 14, 14, 14, 14, 14, 14, 14, 14, 14, 14, 12, 7, 11, 14, 14, 11, 12, 6, 13, 14, 14, 14, 14, 14, 5, 5, 8, 8, 8, 8, 8, 8, 8, 8, 8, 8, 8, 8, 8, 8, 8, 8, 8, 8, 8, 8, 8, 8, 8, 8, 8, 8, 5, 5, 5, 12, 12, 6, 8, 5, 5, 8, 10, 10, 7, 9, 8, 7, 7, 7, 7, 7, 7, 7, 7, 7, 7, 7, 7, 7, 9, 5, 7, 7, 12, 12, 12, 12, 12, 12, 12, 12, 12, 9, 12, 7, 5, 8, 7, 9, 12, 13, 5, 12, 7, 8, 5, 17, 13, 11, 13, 7, 8, 8, 8, 8, 8, 11, 9, 4, 8, 13, 9, 8, 5, 8, 5, 9, 8, 12, 12, 5, 8, 8, 5, 5, 5, 5, 5, 5, 5, 8, 7, 7, 7, 7, 7, 7, 7, 14, 9, 10, 5, 9, 12, 6, 4, 4, 14, 6, 10, 5, 15, 11, 5, 5, 5, 5, 5, 5, 5, 8, 10, 6, 14, 14, 8, 8, 8, 8, 6, 9, 9, 8, 8, 8, 15, 11, 6, 15, 13, 7, 7, 15, 11, 6, 8, 12, 11, 4, 9, 14, 14, 12, 12, 12, 12, 12, 12, 12, 12, 12, 12, 12, 12, 12, 12, 13, 6, 13, 13, 13, 13, 5, 5, 5, 10, 8, 5, 11, 8, 8, 8, 8, 8, 8, 8, 8, 8, 8, 8, 8, 6, 6, 7, 8, 8, 8, 8, 8, 8, 8, 8, 6, 6, 6, 6, 6, 6, 6, 6, 6, 6, 6, 8, 8, 10, 11, 6, 9, 9, 12, 10, 10, 16, 16, 16, 14, 16, 16, 16, 16, 16, 16, 16, 16, 16, 16, 16, 16, 16, 16, 16, 16, 8, 8, 15, 15, 15, 8, 8, 8, 8, 8, 5, 5, 5, 10, 7, 14, 14, 14, 14, 5, 5, 12, 12, 12, 12, 12, 12, 12, 12, 12, 11, 8, 10, 12, 12, 5, 5, 5, 9, 7, 14, 11, 11, 12, 8, 9, 7, 8, 6, 15, 11, 12, 12, 11, 6, 8, 11, 11, 6, 6, 6, 6, 6, 6, 6, 8, 12, 10, 12, 12, 12, 12, 12, 9, 11, 11, 7, 5, 7, 7, 7, 7, 15, 9, 9, 9, 9, 9, 14, 10, 9, 9, 9, 9, 13, 13, 9, 9, 4, 4, 4, 14, 11, 6, 10, 15, 10, 10, 10, 10, 15, 10, 10, 10, 10, 14, 14, 13, 7, 7, 5, 10, 10, 10, 11, 11, 13, 8, 8, 5, 5, 14, 11, 8, 9, 9, 9, 9, 9, 9, 9, 9, 9, 9, 6, 11, 6, 6, 11, 11, 10, 6, 6, 6, 6, 15, 10, 10, 8, 9, 4, 10, 10, 11, 8, 11, 15, 12, 5, 5, 6, 8, 13, 13, 13, 13, 13, 5, 5, 9, 11, 12, 7, 7, 7, 7, 5, 5, 5, 5, 13, 13, 13, 13, 13, 15, 15, 6, 13, 15, 15, 15, 15, 15, 15, 15, 15, 15, 15, 15, 15, 15, 13, 13, 13, 13, 13, 13, 13, 13, 13, 13, 13, 10, 9, 10, 11, 9, 11, 12, 4, 8, 10, 7, 11, 12, 4, 12, 7, 13, 7, 14, 11, 13, 8, 12, 11, 10, 10, 11, 9, 7, 13, 13, 7, 11, 11, 8, 8, 11, 11, 13, 13, 13, 13, 13, 13, 13, 13, 13, 10, 12, 8, 8, 8, 8, 11, 11, 11, 11, 11, 9, 7, 5, 12, 11, 11, 11, 11, 11, 14, 14, 14, 14, 12, 12, 10, 8, 5, 14, 14, 8, 9, 8, 12, 6, 13, 13, 13, 13, 13, 13, 13, 13, 13, 8, 8, 8, 8, 8, 8, 8, 9, 7, 7, 8, 13, 16, 8, 12, 12, 12, 12, 12, 12, 14, 14, 11, 5, 14, 12, 12, 12, 12, 12, 12, 12, 9, 6, 9, 9, 9, 9, 9, 9, 9, 10, 10, 10, 10, 10, 10, 10, 10, 15, 9, 4, 8, 10, 14, 10, 9, 10, 7, 12, 12, 12, 12, 12, 12, 7, 14, 11, 12, 12, 6, 9, 9, 9, 10, 10, 10, 10, 10, 10, 10, 10, 10, 10, 10, 10, 10, 5, 10, 10, 10, 8, 8, 6, 11, 11, 11, 11, 11, 11, 11, 11, 7, 7, 7, 7, 7, 7, 7, 7, 7, 7, 7, 9, 7, 7, 7, 7, 7, 7, 7, 7, 7, 7, 7, 7, 7, 7, 7, 7, 7, 7, 10, 10, 10, 10, 10, 10, 7, 9, 11, 10, 10, 9, 9, 13, 10, 10, 10, 8, 8, 11, 11, 8, 8, 12, 8, 8, 8, 8, 8, 8, 10, 10, 6, 9, 15, 14, 12, 6, 6, 13, 14, 14, 8, 8, 8, 8, 7, 7, 7, 7, 11, 10, 7, 7, 7, 7, 7, 7, 7, 10, 10, 10, 10, 11, 11, 14, 14, 14, 14, 14, 14, 14, 14, 14, 14, 14, 11, 14, 8, 11, 10, 10, 5, 10, 10, 10, 12, 11, 12, 16, 16, 16, 16, 16, 16, 11, 7, 7, 12, 16, 16, 16, 16, 13, 13, 13, 13, 13, 13, 5, 5, 6, 8, 6, 5, 5, 5, 5, 9, 9, 9, 8, 8, 10, 15, 15, 11, 11, 11, 11, 11, 11, 11, 11, 11, 11, 11, 5, 9, 5, 10, 5, 5, 5, 14, 14, 9, 5, 5, 5, 5, 5, 5, 5, 5, 5, 5, 8, 8, 11, 8, 11, 14, 14, 8, 14, 13, 8, 5, 5, 5, 5, 5, 5, 5, 5, 6, 11, 8, 8, 8, 7, 7, 7, 7, 7, 7, 7, 7, 7, 7, 7, 7, 15, 15, 15, 15, 15, 15, 15, 15, 15, 15, 15, 15, 15, 4, 4, 4, 4, 4, 4, 11, 9, 15, 15, 12, 14, 10, 6, 9, 10, 9, 5, 9, 11, 6, 6, 6, 6, 12, 12, 8, 6, 6, 9, 13, 13, 11, 6, 7, 13, 11, 9, 14, 14, 14, 11, 5, 5, 5, 5, 8, 10, 6, 5, 8, 8, 8, 8, 8, 8, 8, 8, 8, 10, 14, 10, 8, 8, 8, 8, 8, 8, 8, 14, 10, 14, 5, 8, 8, 8, 12, 12, 12, 12, 12, 12, 12, 13, 16, 15, 9, 5, 4, 4, 4, 4, 4, 4, 4, 4, 4, 4, 4, 4, 4, 4, 4, 4, 11, 11, 11, 11, 11, 11, 11, 11, 11, 11, 5, 8, 7, 8, 5, 7, 11, 11, 11, 11, 6, 12, 10, 10, 11, 10, 10, 10, 10, 10, 10, 10, 13, 11, 15, 10, 10, 10, 10, 10, 10, 10, 10, 10, 7, 8, 14, 10, 4, 6, 6, 6, 6, 6, 11, 11, 11, 11, 11, 9, 13, 4, 5, 10, 13, 12, 12, 11, 5, 9, 11, 10, 10, 8, 8, 8, 8, 8, 8, 8, 5, 14, 9, 8, 12, 7, 14, 11, 7, 7, 7, 8, 8, 8, 16, 12, 11, 7, 8, 8, 8, 8, 8, 8, 8, 8, 8, 8, 8, 8, 8, 8, 5, 4, 8, 8, 8, 8, 8, 8, 6, 13, 13, 9, 14, 6, 6, 8, 10, 11, 5, 5, 5, 5, 5, 5, 5, 5, 5, 5, 5, 5, 11, 11, 9, 8, 8, 5, 8, 8, 12, 5, 8, 8, 12, 6, 6, 11, 11, 11, 11, 11, 11, 11, 11, 11, 11, 11, 11, 11, 8, 8, 13, 12, 12, 8, 8, 8, 12, 12, 12, 5, 8, 8, 6, 8, 6, 8, 11, 11, 11, 8, 8, 8, 8, 8, 8, 8, 8, 8, 5, 8, 8, 8, 8, 8, 5, 4, 10, 10, 8, 8, 7, 5, 4, 4, 4, 5, 13, 9, 9, 9, 9, 9, 9, 13, 14, 14, 9, 9, 9, 16, 16, 16, 16, 14, 10, 11, 11, 7, 6, 7, 7, 7, 14, 14, 7, 7, 14, 8, 8, 8, 7, 7, 7, 7, 7, 8, 15, 15, 7, 6, 10, 6, 5, 8, 10, 12, 11, 11, 11, 11, 8, 8, 14, 6, 6, 8, 8, 8, 8, 8, 8, 14, 10, 8, 10, 10, 8, 8, 8, 8, 8, 8, 8, 8, 8, 8, 8, 9, 13, 8, 8, 8, 8, 8, 8, 8, 8, 13, 8, 8, 8, 13, 8, 8, 8, 8, 8, 8, 8, 8, 6, 11, 7, 12, 8, 8, 8, 9, 9, 6, 9, 12, 11, 8, 8, 8, 8, 6, 6, 6, 6, 6, 6, 6, 6, 6, 6, 6, 6, 6, 6, 10, 12, 6, 8, 8, 7, 7, 5, 15, 15, 15, 10, 10, 4, 9, 5, 5, 5, 5, 9, 11, 5, 5, 5, 5, 11, 15, 15, 8, 15, 15, 5, 5, 5, 9, 5, 5, 5, 5, 14, 14, 8, 13, 4, 8, 6, 11, 6, 7, 8, 5, 5, 5, 10, 12, 11, 11, 5, 11, 11, 11, 11, 11, 13, 12, 11, 11, 11, 11, 16, 12, 13, 5, 5, 12, 8, 15, 8, 5, 5, 4, 8, 8, 6, 5, 13, 5, 5, 5, 7, 7, 7, 7, 7, 13, 12, 7, 8, 7, 7, 7, 7, 9, 13, 14, 14, 10, 10, 7, 7, 7, 7, 7, 7, 11, 11, 6, 8, 8, 8, 8, 8, 8, 8, 8, 8, 8, 16, 14, 4, 4, 10, 10, 10, 10, 10, 10, 10, 10, 10, 10, 10, 10, 10, 10, 10, 12, 13, 13, 8, 8, 13, 8, 10, 8, 8, 6, 7, 12, 5, 10, 4, 10, 8, 8, 8, 8, 8, 8, 8, 8, 8, 8, 8, 8, 8, 6, 11, 5, 15, 5, 12, 6, 7, 7, 7, 6, 6, 8, 8, 9, 9, 9, 9, 9, 9, 9, 9, 9, 9, 9, 10, 13, 9, 9, 15, 15, 15, 10, 9, 4, 8, 15, 15, 13, 12, 16, 10, 6, 7, 8, 8, 9, 8, 8, 8, 8, 8, 8, 8, 8, 8, 8, 8, 8, 8, 8, 8, 8, 8, 10, 5, 8, 8, 8, 8, 14, 14, 5, 5, 5, 5, 5, 5, 5, 5, 5, 4, 4, 4, 8, 11, 11, 11, 8, 14, 13, 7, 7, 14, 14, 7, 12, 12, 14, 10, 10, 11, 12, 11, 5, 8, 8, 8, 8, 8, 8, 8, 8, 8, 8, 4, 8, 15, 7, 8, 8, 8, 8, 10, 5, 8, 11, 5, 5, 5, 9, 14, 8, 9, 12, 11, 8, 11, 13, 5, 15, 14, 11, 7, 13, 8, 5, 8, 13, 13, 13, 13, 13, 13, 13, 13, 14, 14, 14, 14, 14, 14, 14, 14, 14, 14, 14, 14, 14, 14, 14, 14, 14, 14, 14, 14, 9, 9, 6, 6, 8, 8, 12, 14, 8, 7, 8, 11, 14, 8, 8, 9, 8, 12, 8, 12, 5, 4, 7, 12, 12, 7, 13, 14, 14, 7, 11, 10, 6, 8, 11, 11, 5, 10, 5, 7, 13, 12, 11, 9, 12, 14, 14, 14, 8, 8, 8, 6, 8, 11, 8, 13, 12, 10, 9, 14, 7, 7, 10, 11, 6, 4, 8, 8, 10, 8, 8, 8, 12, 5, 6, 6, 7, 12, 5, 5, 9, 8, 7, 12, 8, 8, 10, 7, 10, 7, 8, 8, 8, 14, 14, 5, 7, 9, 12, 14, 13, 6, 10, 8, 8, 8, 8, 8, 8, 8, 8, 8, 6, 8, 8, 14, 8, 6, 6, 8, 9, 15, 4, 4, 4, 4, 4, 13, 4, 8, 8, 8, 8, 8, 8, 8, 8, 8, 8, 8, 8, 10, 10, 10, 8, 8, 11, 11, 9, 11, 9, 5, 5, 5, 5, 5, 8, 7, 17, 5, 5, 5, 14, 14, 14, 16, 11, 9, 5, 14, 14, 14, 10, 10, 10, 10, 10, 10, 12, 8, 10, 4, 9, 7, 14, 10, 11, 8, 11, 10, 10, 6, 9, 12, 14, 5, 8, 11, 11, 8, 8, 8, 8, 8, 8, 8, 8, 8, 12, 8, 6, 6, 6, 6, 6, 13, 12, 15, 10, 10, 10, 10, 10, 10, 16, 16, 16, 16, 12, 10, 13, 16, 13, 15, 15, 7, 11, 15, 8, 12, 11, 15, 15, 5, 14, 15, 7, 14, 6, 9, 9, 13, 15, 14, 15, 10, 8, 7, 12, 12, 11, 9, 14, 4, 10, 5, 5, 11, 8, 15, 6, 5, 5, 11, 8, 9, 4, 4, 4, 13, 10, 7, 14, 10, 10, 8, 8, 8, 8, 6, 6, 6, 6, 6, 6, 6, 6, 12, 12, 10, 9, 5, 6, 6, 8, 9, 14, 8, 8, 4, 13, 7, 7, 4, 4, 5, 14, 8, 14, 4, 8, 14, 14, 7, 5, 11, 4, 4, 4, 4, 4, 11, 9, 11, 8, 8, 8, 14, 13, 11, 11, 12, 12, 10, 8, 7, 7, 14, 14, 14, 14, 14, 11, 11, 11, 11, 8, 8, 8, 8, 11, 8, 11, 11, 11, 11, 5, 14, 5, 5, 5, 5, 5, 4, 4, 4, 7, 7, 7, 7, 7, 14, 14, 14, 14, 14, 7, 7, 14, 14, 6, 6, 6, 6, 6, 6, 6, 6, 14, 6, 6, 14, 14, 14, 14, 14, 7, 14, 14, 4, 4, 4, 6, 4, 4, 4, 4, 4, 11, 11, 11, 11, 11, 11, 11, 11, 11, 11, 11, 11, 11, 4, 4, 8, 8, 8, 8, 8, 8, 8, 8, 8, 8, 8, 8, 8, 4, 15, 8, 8, 8, 15, 15, 12, 12, 14, 14, 11, 11, 11, 10, 13, 6, 6, 15, 16, 13, 15, 15, 16, 7, 9, 9, 9, 9, 9, 9, 9, 9, 16, 5, 16, 16, 8, 16, 16, 16, 8, 8, 8, 8, 8, 8, 8, 8, 8, 7, 7, 7, 7, 7, 16, 7, 4, 4, 14, 14, 16, 16, 8, 8, 8, 8, 6, 8, 5, 10, 11, 4, 14, 7, 7, 7, 15, 6, 6, 10, 14, 7, 9, 9, 9, 9, 9, 9, 9, 9, 9, 9, 9, 9, 9, 9, 15, 15, 15, 15, 15, 15, 15, 15, 15, 15, 15, 15, 15, 15, 15, 11, 12, 12, 12, 12, 9, 11, 12, 12, 12, 8, 10, 15, 15, 15, 15, 8, 8, 10, 4, 7, 9, 8, 6, 8, 8, 8, 8, 8, 8, 8, 8, 8, 8, 8, 8, 8, 8, 8, 7, 10, 8, 8, 11, 9, 8, 14, 6, 7, 6, 11, 13, 13, 13, 13, 13, 13, 13, 13, 13, 13, 13, 13, 13, 13, 8, 8, 11, 8, 13, 13, 13, 13, 13, 13, 13, 13, 13, 13, 13, 13, 8, 8, 8, 12, 7, 7, 7, 7, 7, 5, 5, 5, 5, 5, 5, 5, 15, 10, 11, 14, 7, 8, 8, 7, 5, 5, 13, 10, 9, 9, 8, 8, 8, 10, 14, 13, 8, 8, 12, 14, 10, 11, 11, 11, 11, 11, 11, 11, 11, 11, 11, 11, 11, 11, 11, 11, 11, 11, 11, 11, 11, 11, 11, 11, 10, 7, 14, 9, 8, 7, 15, 6, 8, 8, 8, 8, 8, 8, 8, 8, 8, 8, 8, 8, 8, 10, 5, 13, 9, 8, 8, 8, 8, 8, 8, 7, 7, 7, 7, 7, 7, 7, 7, 7, 7, 7, 7, 7, 7, 7, 11, 11, 11, 11, 11, 11, 11, 11, 5, 4, 5, 11, 10, 10, 7, 5, 15, 11, 11, 8, 14, 11, 12, 5, 6, 5, 11, 7, 15, 7, 7, 7, 7, 7, 5, 15, 7, 7, 7, 12, 7, 9, 8, 8, 15, 5, 5, 5, 11, 10, 10, 10, 10, 10, 12, 12, 10, 8, 7, 10, 10, 8, 6, 6, 6, 4, 13, 14, 14, 5, 5, 7, 7, 7, 7, 7, 7, 7, 7, 7, 10, 10, 10, 10, 10, 10, 8, 9, 7, 10, 8, 11, 6, 10, 6, 15, 7, 5, 5, 5, 5, 5, 5, 6, 11, 11, 11, 10, 9, 6, 5, 14, 10, 8, 10, 8, 9, 8, 14, 14, 14, 14, 14, 14, 14, 14, 14, 8, 11, 12, 8, 8, 8, 8, 10, 10, 8, 8, 8, 8, 8, 8, 8, 8, 8, 8, 8, 8, 8, 8, 8, 8, 8, 15, 6, 6, 6, 6, 6, 6, 6, 6, 6, 6, 6, 6, 6, 6, 15, 7, 5, 5, 5, 5, 5, 5, 5, 7, 8, 4, 7, 15, 8, 7, 8, 10, 6, 15, 12, 9, 15, 10, 12, 10, 10, 14, 10, 12, 6, 9, 9, 9, 9, 9, 9, 9, 9, 7, 7, 9, 9, 4, 6, 9, 4, 4, 4, 4, 4, 4, 9, 6, 6, 5, 7, 7, 9, 11, 6, 6, 6, 6, 11, 5, 5, 5, 5, 5, 11, 9, 8, 8, 6, 6, 15, 15, 15, 15, 15, 15, 15, 15, 15, 15, 15, 15, 15, 15, 15, 15, 15, 15, 15, 15, 6, 6, 6, 6, 6, 11, 11, 11, 11, 11, 11, 11, 11, 11, 11, 8, 11, 9, 10, 11, 8, 8, 8, 8, 8, 8, 8, 5, 5, 6, 10, 10, 10, 6, 14, 9, 7, 7, 10, 10, 10, 10, 10, 10, 5, 5, 5, 5, 5, 5, 5, 8, 10, 4, 4, 4, 11, 11, 11, 11, 11, 11, 11, 6, 11, 14, 11, 11, 11, 11, 11, 13, 13, 13, 13, 13, 13, 13, 14, 11, 5, 14, 6, 6, 4, 12, 12, 8, 8, 8, 14, 14, 14, 14, 14, 14, 7, 10, 9, 5, 8, 9, 12, 6, 10, 10, 10, 10, 10, 10, 10, 10, 10, 10, 10, 10, 10, 12, 12, 12, 12, 12, 12, 12, 8, 5, 8, 10, 10, 14, 14, 8, 12, 12, 12, 12, 12, 12, 12, 11, 11, 7, 12, 12, 12, 12, 12, 12, 12, 12, 7, 8, 15, 5, 17, 17, 17, 17, 17, 17, 17, 17, 17, 17, 17, 11, 11, 17, 11, 11, 8, 11, 7, 12, 12, 15, 17, 17, 17, 17, 17, 8, 8, 8, 8, 8, 8, 8, 15, 8, 6, 6, 6, 6, 6, 6, 6, 6, 14, 11, 11, 5, 5, 8, 11, 13, 11, 12, 12, 4, 5, 6, 6, 9, 6, 14, 14, 10, 10, 15, 15, 10, 13, 13, 13, 13, 13, 13, 13, 7, 7, 5, 12, 10, 7, 5, 7, 13, 5, 5, 5, 5, 5, 5, 5, 5, 10, 10, 10, 10, 10, 10, 11, 6, 7, 5, 5, 11, 5, 7, 11, 5, 6, 12, 12, 12, 12, 12, 12, 12, 12, 12, 12, 8, 8, 11, 11, 12, 6, 12, 15, 15, 15, 15, 15, 15, 8, 8, 8, 10, 8, 8, 8, 8, 8, 14, 14, 14, 14, 14, 14, 14, 14, 14, 14, 14, 14, 13, 13, 13, 13, 13, 13, 13, 13, 13, 13, 13, 13, 13, 13, 8, 8, 8, 5, 8, 14, 8, 14, 8, 8, 9, 11, 11, 8, 11, 8, 12, 10, 10, 10, 10, 10, 10, 10, 10, 10, 5, 5, 15, 15, 10, 6, 13, 14, 6, 6, 7, 13, 14, 14, 14, 14, 14, 14, 13, 13, 13, 13, 13, 13, 13, 13, 13, 13, 13, 13, 13, 13, 6, 13, 13, 11, 11, 11, 11, 11, 11, 11, 11, 11, 11, 11, 11, 11, 11, 9, 9, 9, 4, 4, 4, 10, 10, 10, 10, 10, 10, 10, 10, 10, 10, 10, 12, 12, 5, 6, 6, 6, 6, 6, 6, 5, 9, 9, 9, 9, 11, 13, 13, 13, 8, 7, 10, 7, 6, 5, 12, 10, 11, 11, 11, 11, 8, 8, 8, 8, 8, 12, 12, 8, 8, 10, 10, 10, 10, 10, 10, 10, 5, 5, 5, 5, 5, 5, 5, 5, 5, 5, 5, 10, 10, 8, 7, 13, 13, 13, 13, 13, 13, 13, 13, 13, 6, 10, 13, 8, 6, 6, 8, 10, 10, 10, 8, 8, 8, 14, 14, 7, 9, 14, 10, 10, 6, 11, 11, 9, 11, 11, 11, 11, 11, 11, 11, 10, 10, 10, 5, 5, 11, 9, 14, 14, 14, 14, 16, 7, 7, 7, 8, 8, 15, 11, 11, 9, 12, 15, 5, 14, 14, 6, 6, 14, 14, 14, 14, 5, 5, 5, 5, 7, 8, 11, 11, 6, 6, 6, 6, 6, 6, 5, 5, 9, 6, 8, 5, 9, 8, 6, 4, 5, 8, 10, 15, 5, 5, 14, 6, 8, 8, 11, 6, 8, 11, 9, 9, 12, 14, 9, 8, 5, 11, 9, 12, 4, 7, 9, 5, 7, 6, 9, 9, 9, 9, 9, 9, 9, 9, 9, 9, 9, 9, 9, 9, 9, 12, 12, 12, 12, 12, 12, 8, 6, 6, 11, 9, 6, 12, 12, 12, 12, 12, 12, 12, 13, 11, 11, 9, 5, 12, 6, 6, 10, 10, 13, 13, 13, 13, 13, 13, 8, 8, 13, 8, 8, 8, 8, 8, 8, 9, 8, 8, 13, 5, 8, 4, 7, 8, 14, 5, 12, 12, 12, 12, 12, 12, 14, 4, 6, 12, 12, 12, 12, 12, 12, 12, 12, 9, 10, 8, 7, 6, 6, 10, 8, 8, 8, 8, 8, 8, 8, 15, 15, 10, 6, 12, 12, 12, 12, 11, 11, 11, 11, 11, 11, 11, 11, 11, 11, 14, 14, 14, 9, 9, 11, 11, 11, 8, 6, 13, 5, 11, 11, 11, 11, 11, 11, 11, 14, 11, 11, 11, 6, 5, 8, 9, 7, 10, 14, 15, 15, 5, 5, 10, 9, 10, 9, 10, 11, 11, 10, 11, 11, 4, 11, 11, 11, 11, 11, 5, 5, 5, 5, 5, 5, 5, 7, 7, 9, 9, 9, 9, 9, 9, 9, 9, 9, 8, 8, 15, 8, 8, 8, 9, 9, 9, 8, 9, 11, 13, 12, 11, 9, 9, 9, 9, 9, 9, 9, 6, 6, 6, 6, 8, 4, 6, 5, 11, 10, 15, 5, 10, 13, 6, 6, 6, 6, 8, 8, 8, 8, 8, 8, 8, 8, 9, 8, 8, 8, 4, 12, 7, 12, 12, 11, 13, 4, 6, 10, 11, 15, 15, 11, 11, 11, 11, 11, 11, 11, 11, 11, 11, 11, 12, 12, 15, 15, 5, 11, 11, 12, 12, 12, 12, 12, 12, 11, 7, 7, 7, 8, 12, 9, 9, 9, 9, 9, 9, 9, 9, 5, 9, 8, 14, 14, 10, 4, 12, 9, 9, 9, 9, 9, 9, 9, 9, 9, 9, 9, 9, 12, 12, 12, 12, 12, 12, 9, 9, 11, 11, 11, 11, 11, 11, 11, 11, 11, 11, 11, 11, 11, 11, 11, 11, 9, 5, 12, 11, 8, 10, 14, 7, 12, 5, 5, 11, 9, 9, 9, 9, 9, 9, 9, 9, 9, 9, 6, 9, 9, 9, 11, 4, 5, 7, 8, 7, 9, 6, 10, 8, 8, 8, 8, 8, 8, 6, 5, 12, 12, 12, 12, 12, 12, 12, 12, 12, 7, 7, 7, 7, 7, 9, 9, 6, 9, 9, 9, 6, 8, 8, 8, 8, 8, 8, 8, 8, 15, 8, 10, 13, 9, 8, 15, 15, 15, 15, 16, 16, 4, 4, 4, 8, 10, 11, 11, 11, 11, 11, 4, 6, 6, 11, 8, 6, 6, 14, 5, 6, 11, 11, 11, 11, 11, 11, 11, 12, 12, 12, 12, 12, 12, 12, 12, 12, 12, 12, 12, 12, 12, 12, 12, 12, 12, 12, 5, 9, 10, 8, 11, 10, 13, 10, 8, 5, 9, 9, 9, 9, 9, 9, 9, 9, 9, 9, 9, 9, 9, 9, 9, 9, 9, 9, 15, 7, 9, 14, 11, 8, 6, 6, 6, 5, 5, 5, 5, 6, 6, 6, 6, 12, 12, 13, 8, 4, 5, 4, 6, 6, 6, 6, 6, 6, 14, 7, 6, 6, 6, 15, 15, 15, 15, 15, 15, 15, 15, 15, 8, 8, 5, 5, 9, 9, 8, 8, 8, 8, 8, 8, 4, 12, 6, 7, 8, 8, 5, 11, 6, 6, 7, 6, 10, 9, 10, 13, 13, 13, 13, 13, 13, 13, 13, 13, 13, 5, 5, 5, 5, 5, 5, 5, 5, 5, 5, 5, 12, 12, 15, 6, 5, 10, 6, 6, 6, 13, 11, 11, 11, 11, 11, 11, 11, 11, 11, 5, 5, 9, 10, 13, 13, 13, 13, 7, 13, 13, 13, 13, 13, 8, 6, 12, 10, 12, 8, 8, 8, 8, 8, 8, 8, 8, 8, 8, 8, 8, 8, 8, 8, 10, 10, 10, 10, 10, 10, 10, 10, 10, 10, 10, 10, 10, 10, 10, 10, 10, 10, 10, 10, 10, 10, 10, 10, 10, 14, 14, 14, 12, 8, 15, 6, 4, 4, 4, 4, 4, 10, 6, 9, 9, 11, 8, 8, 8, 11, 13, 9, 11, 10, 9, 9, 9, 9, 9, 9, 9, 7, 7, 7, 7, 7, 7, 7, 7, 7, 7, 7, 7, 7, 5, 5, 14, 11, 5, 5, 5, 5, 5, 4, 4, 4, 4, 6, 6, 6, 4, 8, 8, 8, 8, 8, 8, 8, 8, 8, 8, 8, 8, 8, 8, 8, 8, 8, 8, 8, 14, 8, 8, 8, 8, 4, 4, 10, 8, 13, 9, 7, 13, 4, 4, 12, 12, 12, 12, 12, 12, 12, 12, 12, 12, 12, 12, 12, 12, 12, 7, 12, 8, 14, 6, 6, 10, 8, 8, 8, 8, 8, 9, 8, 8, 12, 13, 8, 8, 8, 9, 9, 9, 7, 10, 9, 10, 6, 6, 12, 12, 10, 8, 14, 6, 6, 6, 6, 5, 10, 15, 5, 6, 6, 6, 6, 14, 6, 6, 14, 8, 8, 11, 11, 9, 5, 5, 4, 7, 6, 5, 9, 9, 9, 9, 9, 9, 9, 4, 4, 4, 4, 4, 4, 5, 8, 7, 17, 17, 17, 17, 17, 17, 17, 11, 11, 11, 9, 13, 4, 4, 15, 8, 8, 15, 5, 5, 5, 5, 5, 5, 5, 5, 5, 5, 5, 5, 8, 8, 8, 12, 9, 13, 13, 7, 7, 8, 8, 10, 10, 13, 7, 10, 10, 10, 8, 8, 8, 8, 8, 8, 8, 8, 8, 8, 8, 8, 12, 13, 8, 11, 4, 10, 10, 10, 10, 8, 10, 5, 8, 10, 7, 8, 8, 8, 14, 14, 10, 10, 12, 4, 12, 7, 8, 8, 8, 5, 12, 12, 12, 12, 12, 6, 6, 6, 4, 11, 7, 9, 6, 6, 6, 5, 5, 5, 5, 5, 5, 5, 13, 8, 8, 11, 8, 11, 13, 7, 16, 10, 12, 8, 14, 11, 8, 14, 13, 15, 8, 11, 15, 7, 12, 5, 7, 6, 6, 6, 6, 6, 6, 10, 6, 6, 6, 6, 8, 8, 8, 8, 8, 8, 6, 9, 4, 8, 6, 7, 14, 8, 8, 7, 7, 7, 7, 7, 7, 7, 7, 7, 7, 7, 9, 9, 4, 9, 9, 9, 9, 9, 9, 9, 9, 9, 9, 9, 9, 9, 9, 9, 9, 9, 9, 5, 5, 12, 8, 14, 12, 6, 8, 8, 8, 8, 8, 8, 8, 8, 8, 5, 10, 13, 8, 8, 8, 8, 8, 8, 8, 8, 8, 8, 8, 11, 13, 12, 8, 4, 8, 8, 9, 12, 14, 14, 8, 6, 8, 8, 8, 12, 8, 8, 8, 8, 8, 14, 5, 15, 5, 8, 11, 13, 13, 14, 10, 8, 8, 15, 12, 5, 5, 5, 5, 5, 5, 5, 5, 10, 6, 5, 9, 12, 12, 5, 14, 14, 12, 16, 12, 13, 4, 9, 14, 4, 11, 8, 9, 11, 11, 11, 11, 11, 11, 9, 11, 7, 7, 4, 4, 4, 11, 6, 11, 8, 9, 9, 7, 8, 10, 7, 11, 16, 16, 16, 16, 16, 16, 16, 13, 11, 13, 8, 16, 16, 9, 16, 16, 16, 16, 16, 16, 16, 16, 16, 16, 16, 16, 4, 12, 8, 6, 5, 7, 5, 6, 13, 9, 13, 16, 16, 8, 13, 8, 6, 6, 6, 6, 6, 15, 15, 15, 15, 15, 15, 15, 15, 15, 15, 9, 6, 9, 11, 11, 12, 7, 10, 9, 6, 9, 10, 12, 12, 11, 5, 10, 5, 13, 15, 15, 9, 12, 13, 13, 14, 11, 10, 15, 15, 15, 15, 15, 15, 11, 11, 11, 11, 11, 11, 11, 11, 11, 11, 11, 11, 10, 4, 12, 7, 7, 6, 10, 9, 9, 12, 5, 14, 14, 14, 8, 6, 8, 4, 4, 4, 4, 6, 6, 6, 11, 10, 11, 9, 8, 5, 8, 8, 10, 12, 12, 9, 12, 7, 10, 7, 8, 11, 6, 10, 9, 14, 9, 6, 9, 14, 8, 10, 11, 11, 11, 11, 11, 11, 11, 11, 11, 11, 8, 7, 8, 5, 5, 5, 5, 5, 11, 12, 10, 11, 13, 6, 5, 7, 5, 13, 13, 7, 14, 15, 14, 15, 4, 7, 7, 7, 7, 7, 7, 7, 12, 12, 12, 12, 12, 12, 12, 10, 11, 10, 10, 6, 11, 12, 11, 8, 9, 9, 15, 11, 11, 11, 10, 5, 5, 10, 8, 8, 5, 9, 11, 10, 10, 7, 7, 8, 8, 7, 14, 5, 10, 7, 7, 7, 7, 7, 7, 12, 8, 7, 11, 12, 15, 15, 8, 11, 8, 6, 8, 13, 14, 14, 11, 11, 11, 11, 11, 11, 11, 11, 11, 11, 11, 11, 11, 16, 10, 9, 7, 6, 12, 9, 9, 8, 4, 11, 6, 10, 11, 14, 8, 8, 10, 8, 11, 13, 5, 6, 15, 15, 15, 15, 15, 15, 15, 15, 15, 15, 9, 8, 11, 11, 6, 8, 7, 10, 6, 15, 15, 15, 15, 13, 7, 7, 13, 13, 13, 13, 13, 15, 15, 13, 13, 16, 8, 5, 5, 6, 10, 11, 12, 12, 8, 15, 11, 6, 6, 9, 7, 7, 7, 8, 9, 9, 9, 9, 9, 9, 9, 9, 9, 5, 5, 11, 11, 13, 9, 9, 9, 9, 9, 9, 9, 9, 8, 8, 8, 8, 8, 8, 8, 8, 8, 8, 11, 8, 8, 8, 8, 8, 9, 9, 9, 9, 9, 9, 9, 14, 7, 7, 8, 9, 9, 9, 9, 9, 9, 9, 9, 9, 9, 7, 11, 11, 13, 9, 8, 8, 10, 16, 14, 9, 9, 9, 9, 9, 15, 14, 14, 15, 15, 14, 13, 12, 12, 10, 7, 4, 10, 8, 10, 10, 10, 12, 12, 12, 12, 6, 6, 11, 8, 11, 11, 10, 10, 5, 11, 8, 8, 8, 9, 9, 8, 11, 11, 11, 11, 11, 11, 11, 11, 11, 11, 11, 14, 4, 12, 12, 5, 15, 5, 5, 7, 7, 12, 12, 6, 5, 5, 5, 5, 5, 5, 5, 5, 8, 12, 12, 12, 12, 8, 8, 8, 8, 8, 8, 8, 8, 8, 8, 8, 5, 8, 6, 6, 8, 11, 11, 10, 11, 12, 8, 8, 6, 6, 6, 6, 14, 10, 10, 6, 6, 6, 6, 6, 6, 10, 6, 7, 7, 5, 5, 5, 5, 5, 5, 5, 7, 7, 12, 12, 12, 12, 12, 12, 12, 12, 12, 12, 12, 4, 4, 4, 4, 14, 11, 14, 9, 12, 13, 13, 17, 12, 7, 4, 4, 4, 4, 4, 4, 4, 11, 11, 11, 11, 11, 11, 11, 11, 11, 11, 11, 11, 11, 11, 11, 11, 11, 11, 11, 11, 11, 11, 11, 11, 11, 5, 15, 15, 11, 11, 9, 10, 11, 11, 11, 11, 11, 11, 11, 11, 11, 8, 16, 7, 8, 5, 13, 6, 13, 14, 14, 6, 12, 8, 9, 8, 8, 8, 8, 8, 8, 8, 8, 13, 5, 15, 15, 15, 15, 15, 15, 6, 8, 12, 11, 11, 11, 13, 11, 13, 11, 12, 12, 11, 14, 8, 13, 6, 9, 5, 11, 10, 10, 8, 13, 5, 5, 5, 8, 4, 8, 12, 10, 10, 10, 10, 8, 8, 8, 8, 8, 15, 15, 15, 15, 15, 15, 14, 6, 5, 10, 10, 10, 10, 8, 8, 7, 8, 4, 4, 10, 6, 12, 6, 8, 8, 8, 6, 8, 10, 10, 10, 10, 10, 10, 10, 10, 5, 10, 10, 5, 5, 5, 5, 5, 11, 10, 13, 13, 5, 5, 5, 5, 5, 5, 13, 8, 5, 5, 5, 5, 5, 5, 5, 6, 6, 6, 6, 6, 6, 6, 9, 5, 12, 8, 16, 9, 9, 9, 9, 9, 9, 9, 9, 9, 9, 12, 12, 12, 12, 12, 9, 12, 7, 12, 12, 12, 12, 12, 12, 12, 12, 12, 12, 12, 10, 10, 10, 10, 10, 10, 10, 10, 10, 10, 10, 10, 10, 8, 8, 12, 5, 4, 10, 10, 6, 6, 6, 6, 6, 4, 14, 5, 5, 5, 8, 8, 8, 8, 8, 14, 5, 7, 8, 8, 11, 6, 8, 8, 12, 5, 9, 13, 12, 12, 9, 7, 7, 7, 10, 10, 10, 10, 10, 10, 10, 8, 8, 8, 8, 5, 8, 8, 15, 15, 7, 8, 8, 8, 8, 8, 8, 4, 4, 4, 4, 4, 4, 4, 4, 4, 4, 10, 10, 10, 10, 10, 10, 10, 10, 10, 7, 9, 11, 11, 12, 12, 11, 10, 10, 10, 13, 13, 13, 13, 13, 13, 13, 13, 13, 13, 13, 10, 10, 10, 10, 10, 10, 10, 10, 10, 10, 10, 10, 10, 10, 10, 10, 8, 8, 8, 15, 10, 11, 10, 14, 14, 14, 14, 11, 10, 10, 10, 10, 10, 10, 11, 11, 4, 4, 4, 4, 9, 9, 15, 6, 8, 13, 9, 9, 9, 13, 7, 9, 9, 9, 9, 9, 9, 9, 9, 9, 11, 11, 11, 11, 11, 15, 15, 15, 15, 15, 15, 15, 15, 15, 15, 15, 15, 15, 15, 15, 15, 15, 15, 8, 8, 11, 16, 8, 13, 14, 14, 14, 4, 10, 12, 12, 8, 8, 13, 10, 12, 12, 13, 15, 10, 12, 13, 7, 15, 13, 13, 13, 13, 12, 5, 15, 15, 7, 13, 13, 13, 13, 13, 13, 13, 13, 13, 13, 13, 13, 13, 9, 9, 13, 7, 4, 4, 4, 7, 7, 7, 7, 7, 13, 10, 10, 14, 15, 5, 15, 8, 6, 6, 5, 5, 7, 9, 7, 7, 7, 7, 7, 7, 7, 7, 7, 7, 7, 12, 7, 5, 8, 8, 5, 8, 7, 7, 15, 9, 9, 14, 12, 14, 14, 14, 14, 12, 5, 11, 9, 6, 10, 11, 14, 14, 4, 13, 12, 12, 11, 11, 6, 14, 14, 14, 14, 14, 14, 14, 14, 14, 14, 14, 14, 6, 6, 11, 11, 8, 11, 14, 6, 6, 14, 11, 10, 8, 10, 10, 10, 10, 10, 10, 10, 10, 10, 10, 10, 10, 10, 10, 10, 7, 13, 7, 10, 10, 10, 10, 10, 10, 6, 6, 6, 6, 6, 12, 8, 5, 8, 8, 14, 14, 6, 6, 6, 6, 6, 6, 6, 6, 6, 6, 14, 14, 14, 14, 14, 14, 14, 14, 14, 14, 14, 6, 14, 14, 10, 13, 13, 14, 14, 14, 14, 8, 11, 4, 14, 14, 14, 14, 14, 14, 14, 8, 14, 12, 8, 8, 8, 4, 11, 4, 10, 10, 10, 10, 10, 10, 10, 13, 9, 12, 11, 11, 6, 14, 10, 10, 10, 10, 10, 10, 10, 10, 10, 10, 10, 10, 10, 10, 10, 10, 10, 9, 10, 10, 10, 10, 10, 10, 10, 10, 10, 5, 14, 6, 7, 6, 13, 13, 13, 13, 13, 13, 13, 13, 13, 13, 13, 13, 13, 13, 13, 13, 13, 13, 13, 13, 8, 8, 8, 8, 10, 12, 10, 9, 12, 12, 12, 12, 9, 9, 10, 11, 12, 4, 13, 9, 6, 6, 15, 8, 14, 11, 11, 11, 11, 11, 11, 11, 11, 11, 11, 11, 11, 11, 11, 11, 11, 11, 11, 14, 6, 10, 12, 13, 10, 10, 10, 13, 7, 8, 8, 8, 8, 8, 8, 8, 8, 8, 8, 8, 8, 8, 8, 8, 8, 8, 8, 8, 13, 15, 4, 8, 7, 8, 11, 5, 8, 6, 6, 6, 6, 6, 6, 6, 6, 6, 5, 5, 5, 5, 7, 15, 11, 13, 13, 13, 11, 5, 5, 5, 5, 5, 5, 11, 11, 11, 11, 11, 11, 9, 14, 9, 8, 8, 6, 11, 11, 11, 11, 11, 11, 11, 11, 11, 11, 11, 11, 11, 11, 11, 11, 11, 11, 5, 5, 5, 5, 5, 9, 7, 12, 11, 4, 11, 11, 17, 13, 11, 11, 11, 11, 11, 11, 11, 4, 4, 4, 4, 4, 4, 10, 10, 10, 10, 16, 14, 13, 8, 7, 9, 8, 12, 12, 7, 6, 11, 7, 9, 12, 6, 12, 4, 10, 15, 4, 4, 4, 4, 4, 4, 5, 8, 5, 5, 5, 8, 8, 12, 14, 4, 4, 4, 4, 14, 11, 4, 4, 4, 4, 4, 4, 4, 13, 8, 6, 4, 8, 8, 8, 8, 8, 8, 12, 14, 10, 12, 10, 4, 7, 8, 8, 8, 8, 8, 8, 8, 8, 8, 8, 9, 9, 9, 16, 10, 11, 6, 11, 9, 9, 9, 9, 9, 13, 8, 13, 13, 11, 6, 8, 9, 9, 9, 9, 9, 9, 9, 9, 9, 9, 9, 6, 11, 11, 11, 11, 7, 11, 6, 14, 14, 14, 7, 7, 14, 9, 11, 12, 14, 14, 7, 8, 6, 8, 8, 11, 13, 14, 7, 14, 14, 14, 8, 8, 8, 8, 8, 8, 8, 10, 12, 9, 7, 16, 10, 12, 8, 8, 8, 8, 8, 6, 6, 6, 6, 6, 6, 6, 12, 12, 6, 14, 9, 4, 10, 5, 8, 11, 10, 5, 9, 10, 10, 10, 6, 12, 7, 12, 12, 5, 7, 14, 14, 14, 6, 9, 7, 7, 9, 11, 11, 15, 14, 14, 14, 14, 14, 14, 14, 14, 14, 14, 14, 14, 14, 14, 14, 12, 11, 11, 14, 15, 13, 13, 11, 11, 14, 14, 10, 7, 7, 7, 7, 7, 7, 7, 7, 7, 7, 7, 7, 12, 12, 12, 12, 13, 13, 10, 14, 14, 7, 7, 7, 8, 6, 7, 5, 8, 15, 7, 13, 14, 7, 11, 10, 4, 12, 4, 11, 12, 10, 11, 8, 7, 7, 7, 10, 7, 7, 7, 7, 7, 7, 7, 6, 6, 6, 6, 6, 8, 9, 8, 12, 9, 15, 10, 12, 7, 8, 12, 7, 14, 5, 14, 11, 11, 14, 10, 13, 15, 9, 6, 13, 14, 8, 8, 14, 11, 8, 8, 8, 8, 8, 12, 5, 14, 13, 13, 13, 13, 13, 13, 13, 13, 6, 4, 5, 7, 8, 8, 8, 8, 10, 8, 8, 8, 8, 5, 8, 8, 8, 11, 8, 6, 8, 12, 10, 8, 8, 8, 8, 13, 6, 14, 11, 9, 8, 13, 13, 13, 12, 8, 11, 10, 7, 11, 11, 8, 4, 6, 8, 9, 5, 5, 5, 5, 5, 5, 5, 5, 5, 5, 4, 11, 4, 4, 4, 4, 8, 10, 6, 6, 4, 4, 4, 4, 9, 9, 9, 9, 9, 13, 7, 11, 8, 12, 14, 8, 13, 9, 10, 10, 9, 11, 11, 6, 6, 9, 9, 9, 6, 5, 12, 6, 6, 9, 10, 10, 10, 10, 8, 12, 13, 13, 6, 6, 8, 8, 6, 8, 13, 9, 8, 8, 4, 14, 11, 5, 6, 4, 8, 5, 14, 8, 8, 14, 11, 8, 8, 8, 8, 8, 8, 8, 8, 8, 8, 8, 8, 8, 8, 8, 8, 8, 8, 11, 11, 11, 9, 8, 8, 10, 10, 12, 6, 9, 9, 7, 10, 10, 5, 5, 12, 9, 4, 6, 6, 5, 15, 8, 8, 8, 7, 15, 7, 10, 14, 14, 14, 14, 14, 14, 14, 6, 6, 12, 8, 8, 6, 6, 9, 4, 10, 13, 9, 10, 6, 4, 6, 10, 11, 11, 11, 13, 11, 10, 7, 6, 5, 8, 8, 7, 14, 6, 7, 7, 11, 11, 11, 11, 11, 11, 11, 7, 8, 9, 7, 13, 7, 11, 11, 6, 5, 5, 7, 10, 9, 11, 14, 14, 13, 5, 7, 14, 8, 8, 11, 10, 7, 12, 7, 7, 7, 7, 7, 9, 8, 11, 6, 7, 7, 7, 5, 5, 5, 5, 5, 5, 8, 8, 8, 7, 8, 8, 8, 8, 8, 8, 8, 15, 15, 15, 15, 15, 15, 15, 15, 15, 15, 15, 15, 15, 15, 15, 15, 8, 8, 7, 4, 8, 4, 6, 8, 9, 10, 10, 8, 9, 10, 11, 13, 11, 8, 12, 8, 5, 5, 5, 5, 10, 10, 10, 10, 4, 12, 6, 8, 14, 12, 10, 10, 10, 10, 10, 10, 11, 11, 7, 9, 6, 4, 14, 8, 6, 9, 9, 9, 9, 5, 9, 7, 13, 14, 9, 8, 6, 15, 10, 15, 11, 15, 12, 8, 16, 11, 5, 14, 12, 10, 9, 9, 5, 5, 5, 5, 5, 5, 5, 5, 5, 5, 5, 5, 5, 5, 7, 7, 7, 7, 8, 5, 8, 8, 7, 7, 8, 8, 13, 13, 13, 13, 13, 13, 13, 13, 5, 9, 10, 9, 7, 6, 6, 7, 6, 6, 6, 8, 8, 7, 14, 11, 9, 12, 10, 15, 8, 8, 8, 12, 12, 12, 12, 12, 12, 12, 12, 12, 12, 12, 12, 12, 12, 12, 11, 12, 11, 5, 5, 9, 5, 14, 12, 11, 10, 12, 10, 11, 17, 11, 6, 8, 15, 15, 8, 8, 8, 8, 8, 8, 8, 8, 14, 10, 8, 9, 11, 13, 13, 7, 8, 5, 14, 15, 9, 6, 12, 12, 12, 7, 9, 9, 10, 10, 10, 10, 10, 7, 8, 7, 13, 8, 14, 10, 10, 10, 10, 10, 10, 10, 10, 10, 10, 10, 14, 13, 13, 13, 13, 14, 11, 13, 13, 13, 13, 13, 13, 10, 15, 8, 6, 12, 8, 8, 13, 9, 4, 4, 9, 8, 5, 8, 8, 8, 8, 8, 8, 8, 11, 6, 15, 8, 9, 8, 8, 8, 8, 15, 15, 14, 14, 14, 14, 14, 14, 14, 14, 14, 14, 14, 11, 5, 5, 14, 14, 9, 15, 8, 8, 7, 14, 8, 14, 14, 14, 7, 7, 7, 7, 11, 7, 11, 11, 7, 7, 7, 7, 7, 6, 6, 6, 6, 6, 6, 6, 8, 11, 15, 8, 10, 10, 10, 6, 9, 9, 9, 9, 11, 9, 5, 14, 8, 12, 8, 6, 4, 12, 12, 12, 12, 4, 4, 4, 4, 8, 8, 7, 7, 7, 7, 12, 7, 11, 10, 8, 11, 10, 10, 7, 6, 8, 7, 7, 10, 13, 13, 6, 6, 8, 14, 11, 8, 8, 10, 14, 8, 8, 8, 8, 8, 8, 8, 8, 8, 16, 16, 16, 16, 16, 16, 16, 16, 16, 16, 16, 16, 16, 15, 5, 5, 5, 5, 8, 7, 8, 8, 8, 6, 8, 8, 7, 11, 6, 6, 6, 15, 12, 6, 6, 6, 6, 6, 6, 6, 6, 6, 10, 7, 8, 7, 11, 10, 13, 7, 13, 13, 5, 5, 5, 14, 14, 14, 14, 14, 14, 12, 8, 5, 10, 8, 8, 14, 14, 14, 14, 7, 14, 5, 17, 11, 14, 14, 11, 11, 11, 6, 11, 8, 8, 8, 16, 16, 16, 14, 14, 14, 14, 14, 14, 14, 14, 14, 14, 14, 14, 14, 14, 11, 11, 12, 11, 11, 11, 15, 15, 6, 6, 6, 6, 6, 14, 4, 12, 10, 8, 6, 6, 6, 6, 5, 5, 5, 5, 5, 5, 15, 5, 7, 5, 5, 5, 5, 5, 10, 10, 10, 10, 10, 10, 10, 10, 10, 10, 14, 12, 11, 15, 10, 10, 10, 9, 8, 5, 5, 5, 5, 5, 5, 5, 4, 4, 4, 4, 4, 4, 16, 16, 16, 6, 6, 12, 12, 12, 12, 12, 12, 12, 12, 12, 12, 12, 8, 12, 13, 15, 15, 15, 15, 15, 15, 15, 15, 15, 15, 15, 15, 15, 15, 15, 10, 14, 10, 16, 16, 15, 10, 12, 13, 13, 15, 15, 15, 15, 15, 15, 15, 5, 5, 5, 5, 5, 10, 10, 13, 4, 12, 6, 7, 7, 11, 10, 12, 10, 17, 10, 10, 10, 10, 10, 10, 10, 10, 10, 10, 10, 14, 10, 12, 11, 13, 6, 9, 5, 13, 8, 13, 12, 17, 11, 12, 7, 14, 11, 11, 12, 15, 11, 10, 8, 8, 7, 5, 12, 12, 12, 12, 12, 12, 12, 12, 12, 12, 12, 10, 11, 12, 13, 14, 11, 14, 10, 9, 14, 7, 8, 12, 12, 12, 12, 12, 12, 12, 12, 12, 8, 15, 9, 12, 12, 12, 12, 12, 12, 11, 11, 11, 11, 11, 11, 11, 11, 11, 11, 11, 11, 11, 11, 11, 11, 8, 14, 10, 11, 11, 11, 11, 11, 11, 11, 11, 11, 11, 11, 6, 6, 6, 6, 6, 6, 6, 6, 6, 6, 6, 6, 8, 8, 8, 8, 8, 8, 7, 14, 12, 10, 14, 8, 8, 8, 8, 5, 5, 5, 8, 8, 8, 8, 10, 8, 6, 8, 8, 8, 8, 8, 8, 8, 8, 8, 8, 8, 8, 8, 8, 14, 6, 6, 10, 7, 7, 7, 7, 7, 5, 11, 8, 10, 7, 8, 7, 7, 7, 7, 7, 8, 5, 11, 5, 5, 8, 8, 8, 8, 14, 14, 14, 14, 14, 14, 14, 14, 14, 14, 8, 8, 14, 8, 14, 14, 8, 4, 14, 10, 14, 14, 14, 14, 8, 14, 14, 5, 10, 9, 11, 7, 6, 14, 8, 8, 5, 8, 15, 5, 15, 15, 15, 15, 15, 15, 15, 15, 15, 15, 15, 15, 10, 15, 15, 15, 15, 15, 15, 12, 9, 12, 12, 14, 5, 12, 12, 12, 12, 12, 12, 13, 13, 13, 7, 6, 6, 10, 10, 6, 6, 14, 11, 9, 6, 6, 15, 14, 6, 5, 13, 13, 5, 10, 9, 7, 13, 13, 13, 13, 13, 13, 10, 10, 10, 10, 10, 10, 10, 10, 10, 10, 10, 10, 10, 14, 12, 10, 10, 8, 14, 5, 8, 8, 8, 8, 8, 8, 8, 5, 5, 5, 11, 11, 11, 11, 11, 11, 11, 11, 11, 11, 11, 11, 11, 6, 11, 7, 6, 6, 6, 6, 6, 6, 6, 8, 4, 10, 12, 13, 11, 9, 10, 8, 11, 10, 6, 9, 11, 15, 12, 12, 12, 12, 6, 8, 13, 13, 17, 8, 9, 13, 16, 15, 7, 8, 14, 7, 7, 7, 7, 7, 7, 7, 15, 9, 14, 6, 11, 6, 11, 4, 4, 4, 4, 4, 10, 14, 13, 4, 4, 7, 10, 16, 16, 16, 13, 9, 11, 8, 9, 16, 16, 16, 16, 16, 16, 16, 16, 16, 16, 16, 16, 16, 16, 16, 16, 16, 16, 16, 16, 16, 16, 16, 16, 12, 12, 12, 12, 12, 12, 6, 12, 12, 12, 8, 8, 8, 8, 6, 6, 14, 12, 9, 6, 7, 5, 8, 8, 11, 14, 12, 12, 12, 8, 13, 12, 7, 10, 14, 14, 6, 10, 5, 11, 10, 8, 5, 10, 13, 13, 6, 8, 12, 11, 8, 9, 11, 11, 15, 9, 13, 8, 8, 15, 15, 15, 15, 15, 15, 6, 9, 7, 9, 9, 15, 9, 15, 12, 12, 15, 10, 12, 11, 13, 9, 13, 7, 6, 13, 5, 5, 13, 11, 12, 8, 12, 7, 14, 13, 13, 13, 13, 13, 13, 13, 11, 6, 12, 9, 6, 4, 6, 9, 10, 10, 10, 10, 10, 7, 9, 8, 11, 10, 10, 10, 10, 10, 6, 6, 6, 6, 5, 10, 5, 5, 5, 5, 5, 5, 6, 7, 11, 14, 7, 5, 6, 11, 11, 8, 8, 7, 12, 15, 15, 15, 15, 15, 15, 15, 15, 15, 8, 7, 15, 8, 10, 12, 10, 11, 7, 13, 5, 7, 7, 11, 11, 11, 11, 11, 11, 11, 11, 11, 11, 11, 11, 11, 11, 6, 14, 10, 5, 12, 7, 10, 5, 11, 11, 11, 8, 6, 6, 6, 8, 5, 12, 12, 12, 12, 12, 12, 12, 12, 12, 12, 12, 12, 12, 12, 12, 12, 12, 12, 11, 12, 15, 12, 12, 12, 12, 12, 12, 12, 12, 12, 12, 12, 12, 12, 12, 12, 12, 12, 12, 12, 8, 8, 9, 14, 8, 8, 5, 5, 14, 6, 12, 6, 10, 5, 5, 5, 5, 5, 5, 4, 8, 6, 15, 15, 15, 15, 15, 15, 15, 15, 15, 15, 15, 5, 8, 9, 10, 7, 15, 15, 15, 15, 15, 15, 15, 15, 15, 15, 15, 15, 15, 15, 15, 15, 15, 15, 16, 16, 16, 16, 16, 16, 16, 16, 6, 6, 6, 6, 6, 6, 6, 6, 6, 6, 6, 6, 4, 4, 5, 5, 8, 7, 14, 10, 10, 10, 10, 10, 10, 11, 10, 12, 7, 10, 10, 6, 6, 4, 9, 12, 10, 12, 12, 12, 12, 12, 14, 12, 12, 12, 12, 13, 6, 15, 13, 7, 7, 7, 7, 7, 7, 7, 10, 10, 10, 10, 10, 10, 14, 8, 13, 13, 5, 15, 6, 12, 14, 14, 14, 8, 9, 10, 10, 10, 10, 10, 10, 10, 10, 10, 10, 10, 10, 8, 8, 8, 8, 8, 8, 8, 8, 8, 8, 8, 8, 15, 15, 15, 15, 15, 15, 15, 15, 15, 15, 15, 15, 15, 15, 15, 15, 15, 15, 15, 15, 15, 15, 15, 15, 15, 12, 6, 8, 8, 8, 8, 12, 13, 13, 13, 13, 13, 13, 9, 12, 13, 13, 14, 7, 11, 11, 13, 7, 7, 11, 11, 7, 6, 8, 6, 8, 8, 7, 8, 14, 13, 13, 5, 5, 5, 9, 7, 7, 5, 4, 12, 8, 8, 10, 10, 11, 6, 15, 11, 5, 11, 12, 10, 5, 8, 8, 8, 9, 5, 5, 5, 11, 11, 11, 11, 11, 6, 12, 12, 12, 12, 12, 10, 10, 7, 14, 6, 5, 8, 4, 5, 5, 12, 5, 4, 11, 5, 15, 15, 15, 15, 12, 15, 15, 15, 11, 7, 7, 7, 11, 11, 12, 7, 11, 11, 11, 11, 11, 11, 11, 9, 11, 11, 11, 9, 8, 4, 4, 7, 8, 4, 15, 13, 15, 13, 5, 9, 9, 9, 9, 9, 9, 9, 9, 9, 9, 9, 9, 9, 9, 9, 9, 9, 6, 6, 6, 6, 6, 6, 6, 5, 7, 10, 8, 9, 8, 12, 4, 10, 15, 13, 12, 7, 7, 8, 9, 6, 13, 14, 14, 11, 11, 11, 11, 11, 11, 11, 11, 6, 6, 12, 11, 9, 12, 9, 11, 8, 8, 8, 8, 8, 7, 4, 13, 13, 13, 10, 7, 7, 9, 9, 15, 9, 9, 9, 9, 15, 9, 9, 9, 9, 8, 8, 8, 8, 8, 8, 8, 8, 8, 8, 8, 8, 15, 15, 5, 14, 6, 7, 7, 8, 8, 5, 7, 4, 8, 6, 11, 11, 11, 9, 11, 11, 14, 14, 4, 15, 14, 9, 13, 13, 12, 12, 12, 12, 12, 12, 12, 12, 12, 12, 12, 12, 9, 9, 9, 6, 7, 12, 5, 9, 11, 11, 11, 11, 11, 5, 5, 5, 5, 5, 10, 10, 5, 9, 7, 14, 10, 7, 12, 13, 12, 12, 12, 12, 12, 12, 12, 12, 12, 12, 12, 12, 12, 12, 12, 12, 12, 15, 15, 15, 15, 15, 15, 13, 4, 5, 15, 15, 16, 6, 11, 12, 15, 11, 11, 7, 7, 15, 8, 11, 11, 11, 11, 11, 11, 11, 11, 11, 11, 11, 11, 11, 10, 10, 12, 11, 5, 15, 15, 15, 15, 9, 6, 10, 5, 11, 8, 5, 8, 15, 8, 15, 15, 15, 15, 15, 13, 12, 8, 15, 7, 5, 15, 15, 15, 15, 15, 15, 15, 15, 15, 7, 10, 10, 11, 6, 7, 6, 13, 15, 15, 15, 15, 15, 15, 15, 15, 15, 15, 15, 15, 15, 15, 15, 16, 14, 8, 15, 15, 15, 13, 8, 11, 11, 12, 8, 11, 5, 10, 5, 11, 8, 9, 10, 10, 10, 10, 10, 7, 7, 7, 7, 10, 7, 7, 14, 7, 7, 7, 7, 7, 7, 7, 15, 15, 15, 15, 15, 15, 8, 10, 11, 11, 11, 11, 11, 11, 6, 6, 6, 5, 9, 9, 8, 5, 9, 12, 12, 10, 10, 7, 8, 5, 5, 5, 6, 6, 15, 15, 14, 5, 8, 14, 15, 15, 15, 15, 15, 15, 15, 15, 15, 15, 11, 12, 10, 10, 6, 9, 6, 5, 9, 8, 4, 9, 8, 14, 5, 4, 4, 4, 4, 4, 9, 9, 9, 9, 9, 9, 9, 8, 10, 15, 15, 14, 6, 6, 9, 9, 9, 8, 9, 9, 9, 9, 4, 4, 4, 6, 9, 14, 14, 15, 9, 10, 10, 7, 13, 11, 7, 7, 10, 5, 5, 5, 7, 5, 7, 7, 5, 6, 8, 10, 8, 8, 12, 7, 8, 11, 8, 11, 11, 4, 7, 14, 14, 12, 10, 7, 11, 15, 11, 11, 11, 11, 11, 11, 11, 11, 11, 11, 9, 9, 9, 9, 9, 9, 9, 9, 12, 6, 15, 15, 5, 16, 13, 13, 16, 16, 14, 8, 13, 10, 8, 6, 8, 8, 8, 8, 8, 8, 8, 8, 5, 6, 4, 4, 4, 4, 4, 5, 12, 13, 12, 12, 7, 12, 4, 7, 4, 8, 8, 8, 8, 8, 8, 11, 8, 5, 12, 12, 11, 8, 11, 8, 8, 11, 13, 10, 8, 10, 10, 10, 7, 8, 6, 6, 6, 6, 6, 6, 10, 7, 6, 6, 8, 8, 8, 7, 9, 10, 8, 14, 4, 10, 9, 11, 6, 5, 8, 11, 5, 5, 12, 10, 5, 8, 9, 14, 14, 14, 10, 10, 10, 10, 10, 10, 7, 5, 5, 5, 12, 7, 6, 8, 10, 10, 10, 10, 10, 10, 10, 10, 10, 10, 10, 9, 9, 9, 9, 9, 9, 9, 9, 9, 9, 9, 9, 9, 9, 9, 9, 9, 9, 9, 9, 8, 7, 14, 14, 4, 5, 9, 9, 9, 9, 9, 9, 7, 15, 15, 15, 12, 12, 15, 15, 11, 11, 6, 9, 9, 15, 15, 15, 5, 5, 8, 11, 15, 15, 15, 15, 15, 15, 15, 15, 15, 15, 15, 15, 15, 15, 15, 15, 15, 15, 15, 15, 8, 6, 13, 13, 7, 10, 9, 9, 4, 10, 13, 12, 12, 8, 11, 11, 11, 11, 11, 11, 11, 11, 11, 6, 14, 4, 12, 12, 12, 8, 6, 7, 4, 8, 15, 9, 15, 5, 6, 7, 7, 4, 8, 8, 6, 6, 14, 14, 14, 14, 14, 14, 14, 14, 14, 14, 14, 9, 6, 9, 9, 14, 14, 14, 14, 14, 9, 9, 9, 13, 8, 8, 8, 8, 11, 11, 11, 12, 5, 11, 11, 11, 11, 11, 11, 12, 5, 5, 7, 10, 11, 11, 9, 6, 10, 11, 11, 14, 6, 15, 15, 15, 15, 15, 15, 11, 8, 12, 8, 15, 12, 15, 15, 15, 15, 15, 15, 15, 15, 15, 15, 4, 4, 6, 6, 6, 6, 6, 6, 9, 6, 6, 6, 6, 6, 6, 10, 5, 5, 4, 7, 12, 6, 6, 7, 7, 7, 7, 7, 7, 7, 7, 7, 7, 6, 6, 6, 6, 5, 7, 7, 7, 7, 7, 7, 4, 7, 14, 11, 11, 7, 7, 8, 10, 10, 10, 10, 10, 8, 5, 5, 5, 5, 5, 11, 6, 12, 12, 12, 9, 9, 9, 9, 9, 9, 6, 10, 8, 11, 11, 10, 11, 13, 10, 10, 10, 10, 5, 5, 5, 5, 5, 5, 5, 5, 14, 8, 6, 6, 6, 6, 6, 6, 6, 15, 15, 15, 15, 5, 15, 15, 14, 14, 10, 12, 6, 6, 15, 15, 15, 15, 15, 15, 8, 8, 8, 8, 8, 8, 10, 12, 8, 8, 6, 6, 8, 5, 15, 8, 8, 8, 8, 7, 6, 6, 6, 6, 6, 10, 10, 10, 4, 10, 10, 4, 9, 10, 10, 10, 10, 10, 10, 10, 10, 10, 10, 10, 10, 10, 10, 8, 8, 8, 8, 8, 8, 7, 11, 8, 13, 13, 8, 8, 8, 5, 8, 7, 5, 12, 12, 9, 10, 8, 12, 12, 14, 13, 4, 4, 4, 4, 4, 4, 5, 8, 14, 4, 11, 5, 5, 5, 5, 5, 5, 6, 6, 6, 6, 6, 6, 6, 6, 6, 6, 6, 16, 15, 14, 13, 7, 7, 7, 7, 7, 7, 8, 8, 13, 8, 8, 8, 8, 8, 8, 8, 7, 7, 7, 7, 7, 7, 7, 7, 8, 8, 6, 6, 6, 6, 6, 6, 6, 13, 5, 9, 5, 12, 5, 8, 8, 5, 12, 11, 8, 8, 6, 8, 8, 8, 7, 5, 4, 5, 5, 14, 10, 10, 10, 10, 8, 8, 8, 8, 8, 8, 8, 8, 7, 7, 5, 8, 5, 5, 5, 11, 7, 10, 5, 4, 5, 5, 5, 5, 5, 5, 5, 11, 10, 12, 7, 7, 5, 8, 8, 9, 11, 11, 6, 11, 8, 8, 8, 8, 8, 10, 10, 14, 15, 15, 10, 10, 14, 14, 14, 13, 7, 13, 7, 7, 7, 7, 6, 13, 13, 9, 8, 8, 8, 11, 11, 5, 7, 6, 6, 6, 6, 6, 7, 7, 6, 7, 14, 8, 8, 14, 4, 4, 10, 6, 15, 15, 10, 8, 6, 6, 6, 12, 6, 14, 14, 14, 14, 14, 12, 12, 16, 16, 12, 13, 13, 15, 14, 14, 14, 14, 14, 14, 14, 14, 14, 14, 14, 14, 6, 6, 6, 6, 6, 6, 4, 12, 10, 7, 6, 6, 11, 12, 10, 6, 6, 6, 13, 13, 5, 14, 4, 4, 4, 4, 8, 8, 8, 8, 8, 8, 8, 14, 14, 14, 10, 8, 8, 8, 8, 8, 8, 8, 8, 8, 8, 8, 5, 5, 5, 5, 8, 8, 8, 8, 8, 8, 8, 8, 8, 8, 8, 8, 8, 8, 6, 6, 6, 6, 6, 6, 6, 6, 6, 8, 8, 8, 8, 15, 6, 6, 6, 11, 11, 11, 6, 6, 6, 15, 8, 11, 11, 11, 11, 8, 8, 8, 8, 8, 8, 8, 8, 8, 9, 13, 13, 13, 13, 8, 8, 8, 8, 8, 8, 8, 8, 8, 8, 8, 8, 8, 8, 8, 8, 13, 13, 13, 13, 13, 16, 12, 7, 6, 6, 7, 8, 8, 8, 8, 4, 12, 12, 12, 12, 12, 6, 12, 8, 8, 8, 8, 8, 15, 8, 6, 8, 13, 13, 10, 12, 15, 7, 6, 7, 7, 7, 7, 11, 5, 5, 5, 5, 5, 5, 8, 8, 8, 8, 8, 8, 8, 8, 7, 7, 7, 7, 7, 7, 7, 7, 7, 7, 7, 7, 7, 7, 7, 12, 12, 12, 12, 12, 6, 8, 10, 9, 8, 4, 13, 13, 13, 13, 13, 13, 13, 13, 13, 13, 16, 13, 14, 14, 14, 14, 14, 14, 14, 14, 14, 14, 14, 14, 14, 14, 14, 12, 9, 9, 9, 9, 9, 9, 9, 9, 9, 9, 9, 9, 9, 9, 9, 9, 9, 8, 8, 6, 8, 6, 6, 6, 6, 10, 9, 6, 6, 6, 4, 12, 6, 12, 8, 6, 6, 15, 14, 14, 7, 13, 8, 12, 8, 8, 8, 8, 8, 8, 10, 15, 15, 15, 15, 15, 15, 15, 11, 6, 6, 8, 15, 15, 15, 9, 10, 5, 5, 5, 5, 4, 4, 4, 6, 13, 13, 13, 13, 13, 13, 8, 11, 13, 13, 13, 13, 13, 8, 8, 8, 8, 8, 8, 8, 8, 8, 8, 4, 4, 14, 14, 14, 14, 14, 14, 14, 14, 14, 14, 14, 14, 14, 14, 14, 14, 14, 14, 14, 14, 14, 14, 14, 14, 14, 9, 9, 9, 9, 9, 9, 9, 9, 14, 6, 9, 10, 7, 6, 12, 9, 9, 6, 10, 13, 12, 14, 14, 14, 14, 14, 14, 14, 14, 11, 15, 14, 14, 14, 14, 14, 14, 5, 5, 5, 13, 13, 13, 13, 8, 8, 10, 13, 13, 13, 12, 8, 7, 13, 13, 6, 13, 13, 13, 13, 13, 13, 13, 13, 13, 6, 9, 10, 5, 5, 7, 14, 13, 15, 6, 6, 6, 8, 10, 10, 10, 10, 10, 10, 9, 9, 9, 9, 9, 9, 9, 9, 9, 9, 9, 9, 9, 9, 9, 9, 5, 9, 9, 9, 9, 7, 8, 12, 9, 10, 14, 14, 14, 14, 14, 14, 14, 14, 10, 14, 14, 14, 14, 14, 14, 10, 7, 8, 7, 7, 8, 14, 14, 14, 14, 14, 14, 14, 14, 14, 14, 14, 14, 14, 14, 8, 8, 8, 8, 8, 8, 8, 8, 8, 8, 8, 8, 8, 8, 8, 8, 8, 15, 15, 15, 15, 15, 15, 15, 6, 15, 13, 8, 15, 15, 15, 15, 15, 15, 15, 15, 15, 15, 15, 15, 15, 15, 5, 5, 5, 5, 5, 5, 8, 10, 14, 10, 10, 14, 10, 10, 10, 10, 10, 10, 10, 10, 10, 10, 10, 10, 10, 10, 10, 6, 8, 11, 11, 11, 11, 13, 12, 5, 6, 9, 8, 11, 11, 9, 9, 9, 9, 9, 9, 9, 9, 6, 11, 7, 7, 7, 9, 9, 9, 9, 9, 9, 9, 9, 9, 9, 9, 9, 9, 9, 9, 9, 9, 9, 9, 9, 4, 4, 4, 4, 4, 6, 5, 6, 6, 6, 6, 6, 6, 6, 14, 14, 14, 14, 14, 14, 14, 14, 14, 14, 14, 14, 8, 10, 14, 11, 8, 13, 14, 14, 14, 14, 14, 14, 14, 4, 4, 4, 8, 14, 4, 15, 15, 15, 15, 15, 15, 15, 15, 15, 15, 15, 15, 15, 15, 8, 14, 10, 10, 14, 15, 15, 15, 15, 15, 15, 15, 11, 11, 11, 11, 11, 11, 11, 11, 9, 9, 9, 9, 9, 9, 9, 9, 9, 9, 9, 16, 16, 16, 16, 16, 16, 16, 13, 13, 15, 15, 16, 16, 16, 16, 16, 16, 16, 16, 9, 11, 16, 16, 8, 10, 8, 8, 8, 8, 8, 8, 8, 8, 8, 14, 9, 14, 9, 9, 12, 12, 12, 6, 6, 6, 6, 6, 7, 7, 5, 11, 10, 8, 11, 6, 13, 6, 9, 7, 9, 16, 9, 9, 9, 9, 9, 9, 4, 14, 14, 14, 14, 14, 14, 8, 7, 7, 7, 8, 10, 10, 10, 10, 10, 10, 10, 10, 13, 13, 13, 13, 13, 13, 14, 14, 14, 14, 14, 11, 12, 8, 9, 10, 12, 12, 11, 8, 8, 7, 12, 8, 12, 11, 11, 8, 8, 12, 10, 8, 14, 12, 14, 4, 4, 4, 13, 13, 13, 13, 9, 4, 14, 13, 13, 13, 13, 13, 13, 13, 13, 13, 13, 12, 12, 12, 12, 12, 10, 10, 8, 11, 12, 12, 12, 12, 12, 6, 5, 5, 5, 5, 5, 6, 9, 9, 9, 9, 9, 9, 9, 4, 5, 11, 9, 13, 9, 8, 11, 5, 11, 11, 11, 11, 11, 11, 11, 6, 11, 6, 6, 6, 6, 6, 6, 6, 6, 6, 9, 9, 10, 9, 9, 7, 5, 9, 9, 5, 5, 8, 8, 9, 5, 12, 8, 8, 8, 8, 4, 14, 7, 5, 5, 13, 16, 4, 9, 10, 12, 8, 9, 7, 4, 8, 8, 15, 12, 11, 12, 8, 10, 7, 12, 9, 9, 10, 9, 9, 12, 10, 10, 7, 11, 11, 6, 6, 12, 13, 9, 4, 5, 6, 10, 10, 6, 6, 7, 7, 7, 7, 7, 7, 7, 7, 7, 7, 7, 7, 8, 8, 8, 8, 8, 8, 8, 7, 6, 6, 4, 4, 6, 6, 6, 13, 13, 6, 10, 11, 6, 8, 6, 9, 5, 12, 7, 7, 7, 7, 7, 7, 7, 9, 4, 14, 14, 8, 7, 7, 7, 11, 7, 7, 11, 11, 8, 6, 7, 7, 7, 7, 7, 7, 7, 7, 7, 5, 5, 5, 5, 5, 4, 4, 4, 7, 7, 7, 7, 7, 9, 9, 7, 9, 12, 8, 10, 12, 12, 8, 8, 8, 8, 8, 8, 8, 8, 8, 5, 5, 5, 5, 5, 5, 5, 5, 4, 4, 4, 4, 7, 8, 13, 14, 8, 10, 6, 9, 5, 5, 6, 5, 5, 5, 9, 10, 10, 4, 7, 7, 8, 6, 11, 11, 11, 11, 11, 11, 11, 11, 11, 11, 11, 11, 11, 11, 11, 11, 11, 11, 11, 14, 14, 14, 14, 14, 14, 14, 14, 14, 14, 14, 14, 14, 14, 14, 12, 8, 8, 8, 8, 8, 8, 8, 8, 8, 8, 8, 8, 8, 8, 8, 8, 8, 8, 8, 8, 8, 8, 8, 12, 12, 12, 12, 8, 7, 12, 12, 12, 12, 12, 12, 12, 12, 12, 5, 6, 10, 5, 5, 10, 7, 13, 6, 11, 11, 11, 11, 5, 11, 11, 11, 11, 11, 11, 11, 11, 11, 11, 11, 11, 11, 11, 11, 6, 6, 6, 8, 10, 8, 8, 9, 8, 4, 4, 7, 7, 8, 8, 10, 10, 10, 10, 10, 14, 8, 8, 8, 8, 8, 8, 8, 8, 8, 8, 8, 8, 8, 8, 8, 8, 8, 8, 12, 12, 5, 10, 12, 12, 12, 12, 12, 12, 12, 12, 12, 12, 12, 12, 12, 12, 12, 12, 12, 12, 12, 12, 12, 12, 12, 12, 12, 5, 8, 8, 14, 12, 6, 10, 12, 12, 5, 5, 10, 6, 11, 7, 11, 12, 5, 8, 6, 8, 6, 6, 6, 6, 6, 6, 6, 6, 6, 10, 10, 10, 10, 10, 10, 10, 10, 10, 10, 5, 8, 8, 8, 8, 4, 10, 10, 10, 10, 10, 10, 10, 10, 10, 10, 10, 10, 10, 5, 5, 16, 16, 10, 10, 11, 5, 5, 5, 5, 6, 6, 6, 6, 5, 5, 5, 5, 5, 4, 11, 5, 5, 8, 8, 7, 7, 7, 5, 5, 5, 8, 8, 8, 8, 8, 8, 8, 8, 8, 8, 8, 8, 8, 6, 4, 12, 8, 8, 9, 9, 9, 9, 9, 9, 9, 6, 6, 9, 10, 5, 5, 5, 5, 8, 5, 5, 5, 5, 9, 9, 8, 8, 7, 4, 7, 7, 6, 6, 6, 6, 6, 14, 6, 6, 9, 9, 9, 9, 9, 9, 9, 9, 9, 9, 9, 9, 9, 9, 9, 9, 9, 9, 6, 6, 6, 7, 11, 11, 11, 13, 5, 5, 6, 10, 10, 10, 10, 10, 10, 10, 10, 8, 10, 10, 10, 12, 12, 12, 10, 10, 11, 11, 12, 12, 12, 12, 6, 6, 6, 6, 6, 6, 6, 6, 6, 11, 8, 8, 8, 8, 8, 8, 8, 8, 8, 8, 8, 8, 8, 8, 8, 8, 8, 8, 4, 4, 4, 4, 4, 4, 8, 8, 12, 8, 8, 8, 8, 8, 8, 8, 8, 11, 15, 15, 4, 4, 4, 4, 4, 4, 4, 8, 8, 8, 8, 8, 8, 8, 8, 8, 8, 8, 8, 8, 8, 8, 8, 8, 5, 5, 5, 5, 8, 5, 5, 5, 8, 8, 8, 8, 6, 6, 6, 6, 6, 6, 6, 8, 6, 6, 6, 8, 6, 6, 6, 14, 10, 10, 5, 5, 5, 5, 5, 5, 5, 5, 10, 14, 16, 16, 16, 7, 10, 9, 8, 10, 9, 10, 10, 6, 6, 6, 6, 6, 6, 6, 8, 6, 6, 6, 8, 8, 8, 8, 8, 8, 8, 12, 6, 8, 8, 8, 8, 8, 8, 8, 8, 8, 8, 8, 8, 8, 10, 5, 8, 7, 6, 8, 4, 6, 8, 8, 6, 8, 5, 6, 6, 6, 6, 10, 9, 7, 5, 9, 9, 15, 8, 8, 6, 9, 14, 12, 9, 8, 8, 8, 7, 10, 11, 4, 4, 4, 6, 9, 11, 11, 9]}],\n",
              "                        {\"template\": {\"data\": {\"bar\": [{\"error_x\": {\"color\": \"#2a3f5f\"}, \"error_y\": {\"color\": \"#2a3f5f\"}, \"marker\": {\"line\": {\"color\": \"#E5ECF6\", \"width\": 0.5}}, \"type\": \"bar\"}], \"barpolar\": [{\"marker\": {\"line\": {\"color\": \"#E5ECF6\", \"width\": 0.5}}, \"type\": \"barpolar\"}], \"carpet\": [{\"aaxis\": {\"endlinecolor\": \"#2a3f5f\", \"gridcolor\": \"white\", \"linecolor\": \"white\", \"minorgridcolor\": \"white\", \"startlinecolor\": \"#2a3f5f\"}, \"baxis\": {\"endlinecolor\": \"#2a3f5f\", \"gridcolor\": \"white\", \"linecolor\": \"white\", \"minorgridcolor\": \"white\", \"startlinecolor\": \"#2a3f5f\"}, \"type\": \"carpet\"}], \"choropleth\": [{\"colorbar\": {\"outlinewidth\": 0, \"ticks\": \"\"}, \"type\": \"choropleth\"}], \"contour\": [{\"colorbar\": {\"outlinewidth\": 0, \"ticks\": \"\"}, \"colorscale\": [[0.0, \"#0d0887\"], [0.1111111111111111, \"#46039f\"], [0.2222222222222222, \"#7201a8\"], [0.3333333333333333, \"#9c179e\"], [0.4444444444444444, \"#bd3786\"], [0.5555555555555556, \"#d8576b\"], [0.6666666666666666, \"#ed7953\"], [0.7777777777777778, \"#fb9f3a\"], [0.8888888888888888, \"#fdca26\"], [1.0, \"#f0f921\"]], \"type\": \"contour\"}], \"contourcarpet\": [{\"colorbar\": {\"outlinewidth\": 0, \"ticks\": \"\"}, \"type\": \"contourcarpet\"}], \"heatmap\": [{\"colorbar\": {\"outlinewidth\": 0, \"ticks\": \"\"}, \"colorscale\": [[0.0, \"#0d0887\"], [0.1111111111111111, \"#46039f\"], [0.2222222222222222, \"#7201a8\"], [0.3333333333333333, \"#9c179e\"], [0.4444444444444444, \"#bd3786\"], [0.5555555555555556, \"#d8576b\"], [0.6666666666666666, \"#ed7953\"], [0.7777777777777778, \"#fb9f3a\"], [0.8888888888888888, \"#fdca26\"], [1.0, \"#f0f921\"]], \"type\": \"heatmap\"}], \"heatmapgl\": [{\"colorbar\": {\"outlinewidth\": 0, \"ticks\": \"\"}, \"colorscale\": [[0.0, \"#0d0887\"], [0.1111111111111111, \"#46039f\"], [0.2222222222222222, \"#7201a8\"], [0.3333333333333333, \"#9c179e\"], [0.4444444444444444, \"#bd3786\"], [0.5555555555555556, \"#d8576b\"], [0.6666666666666666, \"#ed7953\"], [0.7777777777777778, \"#fb9f3a\"], [0.8888888888888888, \"#fdca26\"], [1.0, \"#f0f921\"]], \"type\": \"heatmapgl\"}], \"histogram\": [{\"marker\": {\"colorbar\": {\"outlinewidth\": 0, \"ticks\": \"\"}}, \"type\": \"histogram\"}], \"histogram2d\": [{\"colorbar\": {\"outlinewidth\": 0, \"ticks\": \"\"}, \"colorscale\": [[0.0, \"#0d0887\"], [0.1111111111111111, \"#46039f\"], [0.2222222222222222, \"#7201a8\"], [0.3333333333333333, \"#9c179e\"], [0.4444444444444444, \"#bd3786\"], [0.5555555555555556, \"#d8576b\"], [0.6666666666666666, \"#ed7953\"], [0.7777777777777778, \"#fb9f3a\"], [0.8888888888888888, \"#fdca26\"], [1.0, \"#f0f921\"]], \"type\": \"histogram2d\"}], \"histogram2dcontour\": [{\"colorbar\": {\"outlinewidth\": 0, \"ticks\": \"\"}, \"colorscale\": [[0.0, \"#0d0887\"], [0.1111111111111111, \"#46039f\"], [0.2222222222222222, \"#7201a8\"], [0.3333333333333333, \"#9c179e\"], [0.4444444444444444, \"#bd3786\"], [0.5555555555555556, \"#d8576b\"], [0.6666666666666666, \"#ed7953\"], [0.7777777777777778, \"#fb9f3a\"], [0.8888888888888888, \"#fdca26\"], [1.0, \"#f0f921\"]], \"type\": \"histogram2dcontour\"}], \"mesh3d\": [{\"colorbar\": {\"outlinewidth\": 0, \"ticks\": \"\"}, \"type\": \"mesh3d\"}], \"parcoords\": [{\"line\": {\"colorbar\": {\"outlinewidth\": 0, \"ticks\": \"\"}}, \"type\": \"parcoords\"}], \"pie\": [{\"automargin\": true, \"type\": \"pie\"}], \"scatter\": [{\"marker\": {\"colorbar\": {\"outlinewidth\": 0, \"ticks\": \"\"}}, \"type\": \"scatter\"}], \"scatter3d\": [{\"line\": {\"colorbar\": {\"outlinewidth\": 0, \"ticks\": \"\"}}, \"marker\": {\"colorbar\": {\"outlinewidth\": 0, \"ticks\": \"\"}}, \"type\": \"scatter3d\"}], \"scattercarpet\": [{\"marker\": {\"colorbar\": {\"outlinewidth\": 0, \"ticks\": \"\"}}, \"type\": \"scattercarpet\"}], \"scattergeo\": [{\"marker\": {\"colorbar\": {\"outlinewidth\": 0, \"ticks\": \"\"}}, \"type\": \"scattergeo\"}], \"scattergl\": [{\"marker\": {\"colorbar\": {\"outlinewidth\": 0, \"ticks\": \"\"}}, \"type\": \"scattergl\"}], \"scattermapbox\": [{\"marker\": {\"colorbar\": {\"outlinewidth\": 0, \"ticks\": \"\"}}, \"type\": \"scattermapbox\"}], \"scatterpolar\": [{\"marker\": {\"colorbar\": {\"outlinewidth\": 0, \"ticks\": \"\"}}, \"type\": \"scatterpolar\"}], \"scatterpolargl\": [{\"marker\": {\"colorbar\": {\"outlinewidth\": 0, \"ticks\": \"\"}}, \"type\": \"scatterpolargl\"}], \"scatterternary\": [{\"marker\": {\"colorbar\": {\"outlinewidth\": 0, \"ticks\": \"\"}}, \"type\": \"scatterternary\"}], \"surface\": [{\"colorbar\": {\"outlinewidth\": 0, \"ticks\": \"\"}, \"colorscale\": [[0.0, \"#0d0887\"], [0.1111111111111111, \"#46039f\"], [0.2222222222222222, \"#7201a8\"], [0.3333333333333333, \"#9c179e\"], [0.4444444444444444, \"#bd3786\"], [0.5555555555555556, \"#d8576b\"], [0.6666666666666666, \"#ed7953\"], [0.7777777777777778, \"#fb9f3a\"], [0.8888888888888888, \"#fdca26\"], [1.0, \"#f0f921\"]], \"type\": \"surface\"}], \"table\": [{\"cells\": {\"fill\": {\"color\": \"#EBF0F8\"}, \"line\": {\"color\": \"white\"}}, \"header\": {\"fill\": {\"color\": \"#C8D4E3\"}, \"line\": {\"color\": \"white\"}}, \"type\": \"table\"}]}, \"layout\": {\"annotationdefaults\": {\"arrowcolor\": \"#2a3f5f\", \"arrowhead\": 0, \"arrowwidth\": 1}, \"coloraxis\": {\"colorbar\": {\"outlinewidth\": 0, \"ticks\": \"\"}}, \"colorscale\": {\"diverging\": [[0, \"#8e0152\"], [0.1, \"#c51b7d\"], [0.2, \"#de77ae\"], [0.3, \"#f1b6da\"], [0.4, \"#fde0ef\"], [0.5, \"#f7f7f7\"], [0.6, \"#e6f5d0\"], [0.7, \"#b8e186\"], [0.8, \"#7fbc41\"], [0.9, \"#4d9221\"], [1, \"#276419\"]], \"sequential\": [[0.0, \"#0d0887\"], [0.1111111111111111, \"#46039f\"], [0.2222222222222222, \"#7201a8\"], [0.3333333333333333, \"#9c179e\"], [0.4444444444444444, \"#bd3786\"], [0.5555555555555556, \"#d8576b\"], [0.6666666666666666, \"#ed7953\"], [0.7777777777777778, \"#fb9f3a\"], [0.8888888888888888, \"#fdca26\"], [1.0, \"#f0f921\"]], \"sequentialminus\": [[0.0, \"#0d0887\"], [0.1111111111111111, \"#46039f\"], [0.2222222222222222, \"#7201a8\"], [0.3333333333333333, \"#9c179e\"], [0.4444444444444444, \"#bd3786\"], [0.5555555555555556, \"#d8576b\"], [0.6666666666666666, \"#ed7953\"], [0.7777777777777778, \"#fb9f3a\"], [0.8888888888888888, \"#fdca26\"], [1.0, \"#f0f921\"]]}, \"colorway\": [\"#636efa\", \"#EF553B\", \"#00cc96\", \"#ab63fa\", \"#FFA15A\", \"#19d3f3\", \"#FF6692\", \"#B6E880\", \"#FF97FF\", \"#FECB52\"], \"font\": {\"color\": \"#2a3f5f\"}, \"geo\": {\"bgcolor\": \"white\", \"lakecolor\": \"white\", \"landcolor\": \"#E5ECF6\", \"showlakes\": true, \"showland\": true, \"subunitcolor\": \"white\"}, \"hoverlabel\": {\"align\": \"left\"}, \"hovermode\": \"closest\", \"mapbox\": {\"style\": \"light\"}, \"paper_bgcolor\": \"white\", \"plot_bgcolor\": \"#E5ECF6\", \"polar\": {\"angularaxis\": {\"gridcolor\": \"white\", \"linecolor\": \"white\", \"ticks\": \"\"}, \"bgcolor\": \"#E5ECF6\", \"radialaxis\": {\"gridcolor\": \"white\", \"linecolor\": \"white\", \"ticks\": \"\"}}, \"scene\": {\"xaxis\": {\"backgroundcolor\": \"#E5ECF6\", \"gridcolor\": \"white\", \"gridwidth\": 2, \"linecolor\": \"white\", \"showbackground\": true, \"ticks\": \"\", \"zerolinecolor\": \"white\"}, \"yaxis\": {\"backgroundcolor\": \"#E5ECF6\", \"gridcolor\": \"white\", \"gridwidth\": 2, \"linecolor\": \"white\", \"showbackground\": true, \"ticks\": \"\", \"zerolinecolor\": \"white\"}, \"zaxis\": {\"backgroundcolor\": \"#E5ECF6\", \"gridcolor\": \"white\", \"gridwidth\": 2, \"linecolor\": \"white\", \"showbackground\": true, \"ticks\": \"\", \"zerolinecolor\": \"white\"}}, \"shapedefaults\": {\"line\": {\"color\": \"#2a3f5f\"}}, \"ternary\": {\"aaxis\": {\"gridcolor\": \"white\", \"linecolor\": \"white\", \"ticks\": \"\"}, \"baxis\": {\"gridcolor\": \"white\", \"linecolor\": \"white\", \"ticks\": \"\"}, \"bgcolor\": \"#E5ECF6\", \"caxis\": {\"gridcolor\": \"white\", \"linecolor\": \"white\", \"ticks\": \"\"}}, \"title\": {\"x\": 0.05}, \"xaxis\": {\"automargin\": true, \"gridcolor\": \"white\", \"linecolor\": \"white\", \"ticks\": \"\", \"title\": {\"standoff\": 15}, \"zerolinecolor\": \"white\", \"zerolinewidth\": 2}, \"yaxis\": {\"automargin\": true, \"gridcolor\": \"white\", \"linecolor\": \"white\", \"ticks\": \"\", \"title\": {\"standoff\": 15}, \"zerolinecolor\": \"white\", \"zerolinewidth\": 2}}}},\n",
              "                        {\"responsive\": true}\n",
              "                    ).then(function(){\n",
              "                            \n",
              "var gd = document.getElementById('e9326beb-895e-4b9b-b0f4-d2128504f339');\n",
              "var x = new MutationObserver(function (mutations, observer) {{\n",
              "        var display = window.getComputedStyle(gd).display;\n",
              "        if (!display || display === 'none') {{\n",
              "            console.log([gd, 'removed!']);\n",
              "            Plotly.purge(gd);\n",
              "            observer.disconnect();\n",
              "        }}\n",
              "}});\n",
              "\n",
              "// Listen for the removal of the full notebook cells\n",
              "var notebookContainer = gd.closest('#notebook-container');\n",
              "if (notebookContainer) {{\n",
              "    x.observe(notebookContainer, {childList: true});\n",
              "}}\n",
              "\n",
              "// Listen for the clearing of the current output cell\n",
              "var outputEl = gd.closest('.output');\n",
              "if (outputEl) {{\n",
              "    x.observe(outputEl, {childList: true});\n",
              "}}\n",
              "\n",
              "                        })\n",
              "                };\n",
              "                \n",
              "            </script>\n",
              "        </div>\n",
              "</body>\n",
              "</html>"
            ]
          },
          "metadata": {
            "tags": []
          }
        },
        {
          "output_type": "display_data",
          "data": {
            "text/html": [
              "<html>\n",
              "<head><meta charset=\"utf-8\" /></head>\n",
              "<body>\n",
              "    <div>\n",
              "            <script src=\"https://cdnjs.cloudflare.com/ajax/libs/mathjax/2.7.5/MathJax.js?config=TeX-AMS-MML_SVG\"></script><script type=\"text/javascript\">if (window.MathJax) {MathJax.Hub.Config({SVG: {font: \"STIX-Web\"}});}</script>\n",
              "                <script type=\"text/javascript\">window.PlotlyConfig = {MathJaxConfig: 'local'};</script>\n",
              "        <script src=\"https://cdn.plot.ly/plotly-latest.min.js\"></script>    \n",
              "            <div id=\"8e053bae-6c97-4e4d-9b80-a6d4baf5de1a\" class=\"plotly-graph-div\" style=\"height:525px; width:100%;\"></div>\n",
              "            <script type=\"text/javascript\">\n",
              "                \n",
              "                    window.PLOTLYENV=window.PLOTLYENV || {};\n",
              "                    \n",
              "                if (document.getElementById(\"8e053bae-6c97-4e4d-9b80-a6d4baf5de1a\")) {\n",
              "                    Plotly.newPlot(\n",
              "                        '8e053bae-6c97-4e4d-9b80-a6d4baf5de1a',\n",
              "                        [{\"boxmean\": \"sd\", \"line\": {\"color\": \"rgb(8,81,156)\"}, \"marker\": {\"color\": \"rgb(8,81,156)\", \"line\": {\"outliercolor\": \"rgba(219, 64, 82, 0.6)\", \"outlierwidth\": 2}, \"outliercolor\": \"rgba(219, 64, 82, 0.6)\"}, \"name\": \"total_act_days\", \"type\": \"box\", \"y\": [5, 7, 8, 7, 8, 14, 14, 4, 5, 5, 5, 6, 5, 4, 4, 11, 12, 11, 4, 10, 5, 5, 5, 5, 8, 8, 8, 8, 12, 5, 11, 11, 6, 10, 9, 8, 8, 9, 9, 9, 9, 9, 9, 9, 9, 9, 9, 9, 9, 11, 14, 8, 12, 9, 5, 7, 7, 7, 14, 7, 7, 7, 7, 7, 7, 7, 7, 7, 7, 6, 7, 8, 3, 11, 12, 9, 11, 7, 4, 5, 8, 5, 12, 6, 15, 7, 14, 8, 14, 14, 14, 13, 8, 8, 14, 14, 3, 3, 8, 8, 8, 8, 8, 8, 8, 8, 8, 8, 8, 8, 11, 11, 4, 9, 8, 9, 11, 13, 11, 7, 10, 7, 11, 5, 5, 7, 7, 11, 8, 7, 10, 11, 11, 11, 11, 11, 11, 11, 11, 11, 7, 5, 7, 11, 7, 11, 10, 12, 12, 12, 12, 12, 12, 8, 16, 10, 13, 13, 11, 11, 10, 9, 7, 7, 14, 7, 7, 7, 7, 14, 10, 10, 10, 12, 10, 13, 10, 10, 12, 4, 12, 14, 11, 5, 12, 10, 8, 11, 6, 11, 12, 8, 7, 4, 7, 7, 7, 7, 7, 7, 7, 7, 7, 7, 6, 12, 12, 6, 6, 6, 6, 6, 12, 12, 12, 8, 5, 12, 13, 13, 12, 8, 8, 7, 7, 6, 9, 5, 5, 12, 9, 9, 8, 8, 4, 4, 8, 4, 4, 10, 5, 11, 8, 8, 8, 8, 8, 13, 13, 13, 13, 13, 9, 4, 4, 4, 6, 6, 5, 6, 3, 3, 6, 12, 12, 12, 12, 12, 12, 12, 4, 4, 4, 10, 10, 12, 7, 7, 11, 13, 7, 7, 10, 10, 10, 10, 10, 10, 7, 7, 7, 7, 7, 7, 7, 7, 7, 10, 15, 15, 7, 7, 7, 15, 15, 15, 15, 15, 15, 12, 8, 8, 13, 13, 14, 14, 14, 5, 11, 12, 12, 12, 9, 12, 12, 12, 12, 10, 10, 8, 8, 10, 10, 8, 10, 8, 5, 5, 5, 6, 14, 14, 14, 14, 14, 5, 14, 14, 14, 14, 3, 3, 12, 12, 12, 14, 14, 14, 14, 14, 14, 14, 13, 14, 12, 12, 12, 12, 12, 14, 14, 14, 8, 8, 8, 8, 8, 8, 8, 8, 8, 8, 9, 9, 9, 15, 9, 11, 11, 11, 9, 9, 8, 11, 11, 11, 11, 11, 11, 11, 8, 8, 11, 14, 8, 5, 5, 10, 4, 4, 11, 11, 11, 11, 11, 11, 11, 11, 11, 11, 11, 11, 11, 11, 11, 11, 11, 11, 11, 11, 11, 11, 11, 11, 11, 10, 10, 10, 10, 10, 10, 11, 11, 11, 11, 11, 11, 11, 11, 11, 7, 7, 7, 9, 9, 9, 15, 15, 11, 15, 15, 13, 12, 11, 11, 11, 11, 11, 6, 6, 6, 6, 3, 4, 11, 11, 11, 8, 8, 8, 8, 8, 11, 11, 11, 11, 4, 8, 8, 8, 8, 8, 8, 8, 8, 11, 11, 11, 11, 9, 16, 16, 16, 16, 12, 12, 12, 12, 9, 9, 9, 9, 9, 9, 9, 9, 9, 9, 9, 8, 8, 8, 8, 8, 8, 8, 8, 8, 8, 8, 8, 8, 8, 7, 7, 7, 7, 14, 14, 14, 14, 12, 10, 11, 11, 11, 11, 8, 11, 14, 14, 11, 11, 11, 11, 12, 12, 12, 12, 12, 12, 12, 12, 12, 14, 14, 14, 14, 5, 12, 12, 12, 12, 5, 5, 7, 11, 5, 10, 10, 10, 10, 13, 13, 12, 5, 7, 7, 4, 4, 4, 4, 5, 5, 5, 5, 5, 5, 8, 8, 8, 8, 12, 7, 9, 9, 5, 5, 9, 8, 9, 11, 12, 12, 12, 12, 12, 12, 12, 12, 12, 12, 12, 12, 12, 7, 11, 11, 5, 4, 4, 11, 11, 11, 11, 4, 7, 7, 4, 9, 9, 9, 9, 9, 9, 9, 9, 9, 9, 9, 9, 10, 10, 10, 10, 10, 10, 10, 10, 10, 10, 10, 5, 7, 7, 7, 7, 7, 7, 7, 7, 3, 3, 3, 3, 3, 3, 3, 7, 7, 7, 7, 7, 5, 11, 11, 11, 11, 11, 9, 9, 9, 9, 9, 9, 9, 9, 9, 9, 9, 9, 9, 9, 9, 9, 8, 9, 9, 9, 9, 8, 8, 8, 9, 6, 4, 4, 4, 4, 4, 7, 13, 13, 14, 14, 11, 5, 13, 13, 13, 9, 9, 6, 6, 6, 6, 9, 9, 9, 9, 9, 13, 13, 13, 8, 5, 5, 11, 13, 13, 13, 13, 13, 13, 13, 13, 13, 13, 13, 13, 11, 11, 11, 11, 8, 8, 8, 8, 11, 11, 14, 12, 12, 12, 12, 12, 7, 7, 12, 7, 10, 10, 10, 11, 9, 9, 9, 9, 9, 8, 6, 9, 9, 8, 8, 8, 8, 8, 9, 9, 9, 9, 9, 9, 9, 9, 9, 9, 10, 14, 14, 14, 14, 9, 14, 9, 9, 9, 9, 13, 13, 9, 12, 13, 13, 13, 13, 11, 11, 11, 11, 11, 12, 12, 12, 12, 12, 12, 12, 12, 12, 6, 11, 6, 6, 6, 6, 6, 7, 12, 12, 12, 12, 12, 12, 12, 12, 4, 4, 4, 4, 4, 4, 7, 7, 7, 7, 7, 9, 9, 9, 9, 9, 9, 7, 5, 7, 7, 7, 7, 7, 7, 5, 5, 5, 5, 7, 7, 7, 7, 7, 13, 13, 10, 10, 13, 13, 13, 13, 8, 8, 8, 8, 5, 5, 10, 10, 10, 9, 9, 9, 9, 10, 10, 8, 8, 8, 8, 8, 8, 8, 11, 11, 11, 11, 8, 8, 8, 8, 8, 8, 6, 11, 11, 11, 8, 8, 8, 8, 11, 11, 11, 8, 12, 8, 8, 13, 13, 13, 13, 10, 10, 10, 10, 10, 10, 10, 12, 13, 13, 13, 9, 9, 9, 13, 13, 13, 13, 13, 13, 13, 13, 13, 13, 13, 13, 13, 15, 15, 12, 6, 6, 10, 10, 10, 10, 15, 15, 8, 8, 15, 15, 11, 11, 14, 14, 10, 9, 9, 11, 11, 14, 16, 16, 16, 16, 13, 13, 13, 4, 4, 4, 4, 5, 5, 13, 13, 13, 12, 9, 12, 12, 12, 9, 8, 8, 8, 8, 8, 8, 8, 8, 8, 8, 8, 8, 5, 5, 5, 5, 6, 6, 6, 6, 6, 6, 8, 15, 15, 15, 15, 6, 6, 15, 15, 15, 15, 15, 15, 6, 6, 12, 12, 12, 12, 12, 12, 12, 12, 12, 12, 12, 12, 12, 15, 15, 12, 12, 12, 12, 12, 12, 12, 12, 12, 12, 12, 14, 14, 7, 7, 14, 14, 14, 14, 14, 14, 7, 14, 14, 14, 14, 12, 7, 12, 12, 12, 11, 12, 12, 8, 8, 8, 8, 8, 12, 12, 7, 7, 6, 6, 6, 6, 6, 6, 6, 6, 6, 6, 6, 6, 7, 7, 7, 10, 10, 10, 10, 7, 6, 6, 6, 6, 5, 6, 8, 8, 8, 5, 7, 8, 10, 8, 8, 8, 8, 8, 8, 8, 8, 8, 8, 8, 8, 8, 12, 12, 4, 14, 11, 8, 8, 12, 9, 12, 8, 9, 5, 6, 6, 6, 6, 6, 6, 7, 9, 6, 4, 13, 7, 7, 7, 7, 6, 11, 4, 9, 7, 7, 7, 7, 7, 9, 8, 5, 4, 7, 7, 10, 13, 13, 12, 7, 5, 5, 7, 8, 7, 6, 12, 14, 11, 8, 9, 7, 7, 7, 13, 4, 12, 8, 7, 7, 7, 7, 7, 7, 7, 7, 7, 7, 11, 11, 12, 11, 11, 11, 11, 7, 7, 7, 7, 7, 7, 7, 6, 6, 6, 4, 12, 12, 12, 12, 12, 12, 12, 12, 12, 12, 5, 5, 10, 4, 6, 12, 12, 10, 9, 10, 10, 10, 10, 10, 10, 10, 10, 10, 10, 10, 10, 10, 10, 11, 11, 11, 14, 10, 6, 6, 11, 11, 11, 11, 11, 11, 11, 6, 10, 11, 11, 3, 3, 3, 8, 8, 3, 3, 9, 9, 9, 9, 9, 9, 9, 8, 10, 9, 5, 13, 4, 4, 4, 4, 4, 4, 13, 10, 13, 13, 9, 4, 4, 8, 8, 8, 14, 14, 7, 7, 11, 8, 7, 10, 7, 7, 11, 13, 15, 10, 10, 10, 10, 10, 10, 10, 10, 10, 10, 10, 10, 14, 14, 15, 5, 5, 5, 11, 8, 4, 11, 5, 10, 9, 6, 6, 6, 8, 6, 6, 9, 9, 9, 9, 10, 10, 8, 8, 15, 6, 6, 15, 3, 4, 4, 4, 5, 4, 4, 4, 4, 9, 7, 7, 7, 12, 12, 12, 12, 12, 12, 12, 12, 12, 12, 12, 2, 8, 3, 3, 11, 8, 6, 9, 14, 7, 5, 8, 8, 8, 12, 13, 8, 15, 7, 14, 6, 7, 11, 13, 16, 15, 14, 15, 11, 10, 10, 10, 10, 3, 3, 3, 3, 3, 3, 7, 4, 10, 10, 14, 8, 12, 9, 5, 8, 14, 7, 13, 13, 13, 5, 11, 9, 13, 12, 10, 14, 14, 12, 12, 12, 12, 12, 12, 12, 12, 12, 12, 12, 12, 14, 7, 14, 12, 12, 12, 14, 14, 4, 4, 4, 3, 9, 8, 7, 5, 15, 8, 5, 5, 12, 12, 12, 12, 13, 12, 2, 2, 10, 14, 14, 5, 6, 6, 13, 13, 13, 13, 13, 13, 13, 13, 13, 13, 13, 13, 10, 12, 4, 5, 14, 14, 6, 6, 6, 8, 16, 8, 7, 6, 6, 6, 15, 8, 7, 12, 9, 11, 13, 4, 6, 8, 8, 11, 4, 4, 5, 5, 5, 5, 5, 10, 11, 15, 9, 5, 5, 5, 5, 5, 6, 6, 14, 14, 14, 14, 10, 10, 10, 10, 5, 12, 12, 4, 5, 5, 14, 12, 12, 13, 8, 8, 4, 10, 10, 10, 10, 10, 10, 10, 10, 10, 10, 10, 10, 10, 10, 10, 10, 10, 7, 13, 7, 4, 8, 7, 7, 7, 7, 7, 12, 6, 6, 6, 12, 10, 6, 6, 6, 6, 6, 6, 6, 6, 6, 6, 6, 10, 6, 4, 6, 6, 7, 9, 10, 8, 11, 11, 10, 10, 10, 10, 10, 10, 10, 14, 14, 14, 14, 14, 14, 14, 14, 14, 14, 14, 14, 14, 14, 10, 12, 14, 8, 7, 6, 10, 14, 14, 14, 14, 14, 14, 14, 14, 14, 14, 14, 13, 13, 6, 10, 11, 7, 7, 9, 4, 8, 8, 10, 10, 10, 10, 10, 10, 10, 10, 5, 6, 6, 6, 6, 5, 12, 5, 10, 10, 10, 10, 10, 10, 10, 10, 10, 10, 6, 6, 6, 6, 9, 9, 9, 9, 9, 9, 9, 9, 9, 9, 9, 9, 9, 9, 9, 6, 6, 6, 14, 14, 14, 10, 13, 5, 9, 6, 11, 9, 9, 6, 6, 6, 12, 16, 7, 7, 8, 7, 7, 7, 7, 7, 7, 7, 7, 7, 7, 8, 8, 7, 7, 14, 8, 5, 8, 8, 8, 8, 8, 8, 4, 8, 5, 5, 6, 14, 12, 3, 6, 7, 8, 14, 12, 10, 10, 10, 10, 10, 10, 10, 10, 9, 9, 9, 12, 11, 11, 7, 10, 3, 6, 7, 5, 10, 11, 14, 11, 12, 6, 4, 8, 11, 12, 9, 9, 9, 14, 7, 7, 11, 14, 9, 9, 8, 10, 6, 14, 4, 4, 5, 5, 5, 5, 4, 5, 13, 11, 4, 7, 7, 7, 7, 7, 7, 7, 7, 14, 9, 9, 5, 7, 7, 7, 7, 7, 4, 4, 4, 4, 6, 10, 10, 12, 5, 5, 5, 5, 5, 5, 5, 14, 10, 12, 9, 9, 6, 13, 9, 9, 9, 10, 9, 14, 4, 6, 11, 13, 7, 7, 14, 10, 13, 12, 12, 9, 14, 9, 9, 11, 11, 11, 11, 11, 8, 8, 14, 10, 10, 3, 3, 3, 3, 11, 8, 8, 11, 7, 9, 6, 4, 12, 8, 6, 6, 6, 6, 6, 6, 6, 6, 6, 6, 6, 4, 4, 4, 5, 11, 11, 11, 9, 10, 12, 10, 10, 14, 11, 10, 10, 10, 10, 10, 10, 10, 10, 7, 7, 7, 7, 7, 10, 10, 7, 7, 7, 3, 3, 3, 4, 11, 13, 10, 10, 9, 5, 7, 8, 11, 6, 5, 8, 9, 9, 9, 9, 9, 14, 14, 9, 9, 9, 9, 13, 3, 11, 7, 7, 7, 11, 11, 11, 10, 5, 11, 7, 7, 6, 14, 10, 11, 11, 11, 11, 11, 11, 11, 11, 11, 11, 11, 11, 11, 6, 8, 10, 11, 11, 11, 11, 11, 11, 11, 8, 11, 9, 9, 7, 4, 6, 6, 6, 6, 6, 16, 4, 7, 7, 6, 6, 7, 7, 14, 8, 5, 14, 11, 6, 8, 5, 8, 8, 8, 13, 13, 3, 9, 10, 7, 5, 6, 6, 13, 13, 10, 10, 10, 10, 10, 10, 10, 10, 13, 5, 5, 5, 14, 14, 14, 14, 14, 14, 14, 14, 14, 14, 14, 14, 14, 14, 12, 5, 15, 5, 7, 11, 11, 11, 11, 11, 11, 11, 8, 7, 12, 12, 12, 12, 12, 12, 12, 12, 8, 5, 13, 9, 12, 12, 12, 12, 13, 12, 12, 6, 6, 6, 6, 8, 8, 8, 8, 8, 8, 8, 11, 7, 13, 7, 6, 8, 8, 8, 8, 8, 8, 8, 8, 8, 8, 8, 10, 14, 7, 9, 12, 7, 10, 7, 7, 13, 11, 3, 7, 7, 7, 11, 14, 8, 11, 9, 7, 12, 7, 10, 14, 11, 8, 8, 4, 6, 14, 9, 8, 8, 11, 11, 13, 9, 9, 16, 14, 10, 10, 10, 10, 10, 10, 10, 10, 10, 10, 9, 11, 11, 14, 9, 7, 12, 7, 7, 8, 8, 7, 7, 12, 12, 5, 8, 11, 10, 5, 8, 8, 8, 8, 8, 8, 8, 8, 8, 14, 4, 14, 14, 14, 14, 14, 14, 14, 14, 14, 14, 14, 5, 6, 6, 12, 5, 10, 11, 11, 14, 14, 7, 7, 7, 7, 7, 8, 8, 7, 7, 7, 7, 7, 13, 13, 7, 6, 7, 5, 5, 5, 5, 5, 5, 7, 7, 7, 7, 7, 7, 5, 5, 5, 5, 5, 5, 5, 5, 5, 5, 5, 6, 6, 6, 6, 6, 14, 14, 11, 11, 5, 5, 14, 14, 14, 15, 5, 7, 14, 7, 7, 7, 7, 14, 6, 7, 7, 7, 7, 12, 7, 7, 7, 7, 7, 7, 7, 7, 10, 11, 11, 10, 10, 10, 10, 10, 10, 10, 7, 9, 9, 11, 6, 6, 6, 4, 4, 4, 4, 5, 5, 5, 5, 5, 5, 5, 7, 6, 4, 6, 4, 10, 10, 10, 10, 10, 12, 10, 10, 10, 10, 10, 10, 10, 13, 9, 9, 9, 8, 8, 8, 8, 8, 8, 8, 8, 8, 8, 8, 11, 11, 11, 11, 11, 11, 11, 11, 11, 11, 11, 13, 13, 6, 11, 6, 6, 6, 6, 12, 12, 12, 7, 4, 4, 4, 4, 6, 6, 6, 6, 6, 8, 6, 3, 3, 8, 8, 3, 3, 5, 5, 5, 7, 7, 7, 7, 8, 7, 7, 7, 7, 7, 7, 10, 10, 10, 10, 10, 10, 10, 7, 5, 11, 11, 12, 12, 10, 4, 7, 10, 10, 7, 7, 7, 7, 4, 10, 4, 12, 12, 11, 9, 11, 5, 11, 11, 3, 3, 12, 12, 12, 12, 7, 7, 9, 13, 13, 8, 7, 7, 10, 10, 10, 10, 10, 10, 6, 6, 8, 8, 8, 8, 8, 4, 6, 6, 10, 6, 7, 10, 10, 6, 7, 11, 7, 8, 7, 7, 11, 12, 4, 11, 8, 8, 8, 10, 6, 3, 7, 11, 8, 11, 11, 12, 9, 8, 8, 10, 9, 7, 7, 7, 12, 13, 12, 12, 8, 5, 5, 5, 5, 6, 6, 6, 6, 14, 8, 7, 9, 9, 5, 5, 9, 6, 7, 10, 6, 5, 11, 12, 6, 6, 11, 11, 11, 8, 7, 3, 4, 5, 10, 6, 8, 8, 8, 8, 8, 8, 7, 7, 7, 7, 7, 6, 6, 10, 5, 5, 6, 12, 6, 8, 9, 9, 9, 9, 9, 9, 9, 9, 9, 9, 9, 9, 5, 5, 6, 6, 6, 6, 6, 6, 6, 6, 6, 6, 3, 3, 3, 3, 3, 3, 11, 5, 14, 13, 13, 4, 6, 9, 10, 6, 14, 6, 6, 14, 9, 10, 10, 10, 10, 10, 10, 10, 10, 10, 10, 10, 10, 10, 10, 10, 10, 10, 10, 10, 10, 10, 10, 10, 10, 10, 15, 15, 14, 14, 8, 8, 6, 9, 6, 5, 14, 14, 8, 8, 8, 8, 8, 8, 8, 8, 8, 11, 11, 11, 11, 9, 9, 5, 5, 7, 11, 8, 11, 10, 10, 7, 3, 10, 5, 10, 10, 7, 10, 7, 7, 7, 7, 7, 7, 7, 7, 7, 7, 7, 7, 7, 10, 10, 10, 10, 11, 12, 12, 9, 3, 3, 3, 10, 10, 10, 10, 10, 8, 8, 8, 12, 7, 6, 14, 14, 14, 13, 13, 10, 5, 12, 14, 8, 8, 8, 8, 8, 10, 10, 10, 10, 10, 10, 10, 10, 10, 10, 14, 11, 10, 10, 10, 6, 7, 7, 7, 9, 14, 15, 9, 3, 10, 10, 6, 7, 10, 10, 6, 7, 8, 5, 10, 10, 10, 10, 10, 10, 10, 7, 13, 6, 10, 10, 10, 11, 7, 7, 8, 4, 8, 4, 5, 7, 4, 14, 4, 4, 12, 11, 6, 11, 11, 9, 6, 6, 6, 7, 5, 5, 12, 12, 10, 10, 14, 12, 11, 11, 5, 5, 5, 10, 11, 6, 6, 6, 6, 11, 13, 11, 8, 10, 5, 5, 5, 5, 5, 5, 5, 5, 5, 10, 8, 8, 8, 8, 8, 8, 10, 7, 11, 7, 7, 8, 4, 6, 8, 10, 5, 12, 14, 3, 4, 4, 12, 8, 3, 12, 12, 14, 14, 14, 14, 10, 4, 10, 8, 12, 12, 12, 12, 12, 12, 8, 9, 6, 4, 10, 7, 10, 9, 7, 7, 7, 7, 7, 5, 7, 7, 7, 7, 4, 4, 4, 6, 7, 7, 7, 5, 13, 10, 7, 7, 7, 7, 6, 6, 5, 5, 11, 11, 11, 11, 11, 11, 11, 11, 11, 4, 9, 9, 14, 14, 14, 11, 11, 11, 8, 8, 8, 8, 8, 8, 9, 9, 9, 9, 9, 9, 9, 9, 9, 9, 9, 9, 9, 14, 11, 10, 5, 10, 5, 6, 9, 9, 8, 13, 13, 13, 13, 13, 13, 13, 10, 12, 6, 3, 3, 3, 3, 11, 12, 12, 12, 12, 12, 8, 7, 7, 7, 7, 7, 7, 7, 9, 8, 7, 7, 7, 13, 7, 7, 12, 12, 12, 12, 12, 12, 12, 12, 12, 12, 12, 12, 11, 8, 8, 8, 8, 8, 8, 8, 8, 8, 8, 7, 8, 8, 8, 8, 8, 7, 4, 6, 6, 6, 8, 7, 5, 15, 11, 12, 12, 10, 12, 5, 5, 5, 8, 8, 8, 8, 10, 8, 8, 8, 9, 8, 8, 6, 6, 6, 6, 4, 7, 7, 6, 3, 5, 8, 10, 7, 12, 12, 12, 9, 9, 10, 5, 5, 5, 5, 4, 8, 7, 5, 4, 13, 14, 9, 9, 9, 9, 9, 9, 6, 9, 9, 11, 6, 6, 6, 6, 6, 5, 9, 9, 7, 7, 5, 5, 5, 5, 13, 8, 13, 9, 9, 9, 8, 8, 4, 4, 4, 6, 6, 6, 6, 6, 6, 7, 7, 5, 7, 7, 11, 11, 11, 11, 11, 11, 5, 10, 9, 5, 11, 11, 11, 11, 11, 11, 5, 5, 6, 6, 6, 6, 6, 6, 6, 6, 6, 9, 9, 13, 8, 7, 15, 6, 5, 5, 5, 4, 4, 4, 4, 11, 11, 12, 4, 4, 9, 9, 9, 9, 9, 9, 9, 9, 5, 8, 13, 5, 5, 5, 5, 5, 5, 5, 5, 8, 6, 11, 6, 7, 6, 6, 6, 5, 10, 11, 7, 10, 12, 4, 6, 6, 7, 9, 8, 11, 5, 8, 8, 10, 8, 12, 8, 8, 8, 8, 8, 11, 11, 8, 8, 8, 11, 13, 12, 11, 11, 11, 11, 11, 11, 11, 8, 6, 6, 6, 8, 8, 8, 8, 8, 8, 14, 6, 7, 6, 6, 6, 8, 8, 11, 8, 11, 7, 14, 10, 12, 5, 6, 10, 10, 10, 10, 10, 10, 10, 10, 10, 10, 10, 10, 10, 6, 6, 9, 9, 9, 9, 9, 9, 9, 9, 9, 9, 14, 14, 14, 14, 14, 14, 14, 14, 14, 14, 11, 11, 11, 11, 11, 11, 11, 8, 11, 11, 11, 11, 11, 9, 9, 9, 9, 9, 9, 9, 9, 9, 9, 9, 9, 9, 9, 8, 13, 5, 13, 9, 9, 10, 10, 10, 10, 10, 10, 10, 10, 6, 8, 8, 8, 14, 14, 6, 10, 7, 7, 7, 7, 7, 7, 7, 7, 5, 5, 10, 10, 11, 11, 11, 9, 9, 9, 12, 12, 13, 7, 9, 9, 9, 9, 9, 8, 8, 10, 10, 10, 6, 10, 5, 7, 7, 11, 10, 8, 7, 7, 10, 7, 4, 4, 10, 7, 11, 13, 8, 5, 4, 4, 4, 4, 4, 7, 7, 7, 7, 7, 7, 7, 9, 5, 7, 7, 5, 6, 14, 14, 11, 14, 14, 14, 4, 14, 9, 9, 9, 14, 10, 7, 8, 11, 11, 11, 10, 10, 10, 10, 3, 7, 5, 5, 13, 9, 9, 15, 13, 13, 5, 5, 5, 12, 12, 4, 4, 9, 9, 11, 7, 7, 5, 10, 10, 12, 12, 6, 14, 11, 11, 14, 14, 14, 14, 14, 14, 14, 14, 14, 14, 14, 14, 11, 14, 14, 10, 11, 14, 14, 7, 7, 10, 10, 7, 10, 10, 10, 10, 10, 10, 7, 11, 11, 11, 11, 11, 11, 11, 11, 11, 11, 7, 7, 7, 7, 7, 7, 7, 14, 7, 7, 7, 7, 8, 8, 8, 8, 8, 8, 14, 11, 11, 10, 10, 11, 8, 8, 8, 10, 10, 11, 8, 11, 11, 11, 11, 6, 10, 14, 7, 5, 12, 6, 4, 3, 3, 8, 11, 8, 12, 12, 12, 12, 12, 6, 9, 9, 9, 3, 14, 12, 12, 14, 11, 11, 11, 11, 14, 10, 10, 10, 4, 4, 4, 4, 8, 7, 11, 11, 7, 10, 8, 8, 8, 10, 4, 10, 10, 10, 10, 10, 10, 10, 10, 10, 10, 10, 5, 10, 6, 5, 6, 6, 5, 13, 13, 13, 13, 13, 13, 11, 8, 13, 11, 11, 7, 5, 8, 12, 12, 10, 10, 10, 10, 8, 8, 8, 10, 12, 12, 8, 4, 7, 5, 5, 5, 6, 8, 8, 8, 8, 10, 7, 8, 5, 9, 9, 9, 9, 9, 9, 6, 6, 6, 6, 6, 6, 6, 6, 10, 8, 8, 8, 6, 6, 6, 6, 8, 10, 8, 5, 5, 10, 8, 6, 6, 8, 8, 8, 8, 8, 8, 8, 5, 5, 5, 7, 7, 7, 6, 7, 7, 7, 7, 7, 8, 6, 6, 6, 6, 6, 6, 6, 6, 6, 8, 11, 10, 5, 6, 6, 3, 3, 3, 3, 14, 14, 14, 14, 14, 14, 11, 8, 6, 10, 10, 12, 12, 14, 14, 14, 14, 14, 14, 14, 14, 14, 14, 4, 4, 4, 4, 4, 9, 9, 9, 9, 9, 9, 9, 15, 12, 2, 15, 5, 9, 13, 9, 9, 9, 7, 7, 7, 7, 7, 7, 7, 7, 7, 5, 5, 5, 5, 5, 11, 15, 15, 15, 15, 9, 7, 4, 11, 11, 6, 6, 6, 6, 6, 4, 8, 14, 13, 9, 12, 8, 8, 9, 5, 5, 5, 11, 5, 5, 14, 14, 14, 14, 14, 6, 6, 6, 6, 6, 5, 5, 6, 8, 10, 11, 10, 10, 4, 8, 4, 14, 14, 14, 8, 12, 9, 9, 10, 14, 7, 14, 11, 13, 14, 8, 4, 8, 6, 9, 13, 8, 5, 5, 10, 4, 5, 12, 12, 6, 11, 9, 10, 6, 5, 5, 5, 5, 5, 5, 5, 11, 12, 12, 8, 8, 8, 5, 4, 4, 10, 10, 10, 10, 10, 10, 10, 10, 10, 9, 8, 7, 5, 9, 10, 7, 10, 10, 10, 10, 10, 6, 6, 6, 6, 6, 6, 8, 10, 11, 14, 7, 8, 8, 13, 13, 5, 5, 8, 8, 11, 9, 9, 8, 5, 12, 12, 12, 12, 12, 12, 12, 12, 12, 12, 12, 13, 13, 13, 13, 13, 13, 13, 13, 13, 13, 13, 13, 13, 13, 13, 13, 13, 13, 13, 11, 8, 14, 5, 11, 11, 7, 8, 8, 10, 12, 12, 7, 11, 8, 12, 14, 4, 10, 8, 8, 7, 8, 12, 14, 9, 3, 12, 5, 5, 5, 11, 11, 6, 7, 10, 5, 6, 14, 7, 9, 4, 7, 6, 13, 5, 14, 13, 6, 3, 5, 9, 13, 10, 13, 13, 13, 13, 13, 13, 13, 13, 13, 13, 13, 13, 13, 13, 13, 13, 13, 13, 13, 13, 13, 13, 13, 13, 11, 6, 10, 4, 13, 13, 14, 13, 9, 7, 5, 5, 5, 6, 8, 6, 14, 13, 13, 7, 13, 11, 13, 13, 13, 13, 13, 13, 13, 13, 13, 13, 13, 13, 13, 15, 15, 15, 15, 15, 8, 8, 11, 12, 6, 5, 7, 15, 15, 15, 15, 15, 15, 12, 12, 8, 5, 12, 12, 8, 12, 12, 12, 12, 12, 12, 12, 12, 12, 12, 6, 8, 9, 8, 4, 4, 9, 11, 10, 6, 8, 7, 9, 8, 7, 7, 13, 12, 7, 5, 7, 7, 7, 10, 12, 5, 8, 8, 11, 8, 7, 7, 7, 7, 7, 7, 7, 7, 7, 7, 10, 8, 14, 14, 8, 10, 9, 5, 10, 8, 8, 9, 14, 14, 14, 14, 10, 5, 5, 5, 5, 5, 5, 5, 8, 8, 8, 8, 8, 7, 7, 10, 7, 7, 7, 7, 7, 7, 7, 10, 6, 7, 8, 8, 6, 8, 7, 10, 10, 10, 10, 12, 14, 10, 6, 5, 11, 9, 6, 16, 7, 4, 11, 7, 9, 9, 7, 11, 11, 11, 11, 11, 11, 11, 11, 14, 14, 14, 14, 14, 14, 14, 14, 14, 14, 14, 14, 14, 14, 10, 3, 3, 10, 10, 10, 10, 10, 10, 7, 10, 14, 8, 5, 5, 8, 5, 5, 5, 8, 8, 8, 8, 8, 8, 8, 8, 14, 7, 14, 14, 14, 3, 6, 8, 8, 8, 13, 13, 8, 5, 8, 7, 9, 7, 13, 10, 13, 13, 13, 13, 13, 13, 13, 13, 13, 13, 13, 13, 13, 13, 13, 13, 5, 7, 7, 7, 6, 6, 9, 13, 3, 13, 5, 8, 7, 7, 4, 13, 14, 8, 8, 8, 8, 11, 11, 11, 11, 11, 11, 11, 11, 8, 7, 4, 14, 14, 14, 14, 14, 14, 14, 14, 14, 14, 14, 14, 14, 14, 14, 14, 14, 14, 14, 14, 14, 14, 14, 14, 14, 14, 14, 14, 7, 6, 4, 6, 8, 5, 12, 8, 3, 2, 10, 10, 9, 9, 9, 9, 9, 9, 9, 9, 9, 9, 5, 5, 5, 5, 5, 7, 10, 3, 6, 5, 5, 5, 5, 5, 8, 8, 8, 8, 8, 8, 8, 8, 8, 8, 8, 11, 12, 4, 13, 13, 13, 13, 10, 12, 9, 9, 9, 9, 9, 9, 9, 12, 12, 12, 12, 12, 12, 12, 12, 14, 8, 6, 12, 12, 12, 12, 12, 12, 11, 11, 11, 11, 11, 11, 11, 11, 11, 11, 11, 11, 11, 11, 11, 11, 11, 12, 8, 8, 8, 8, 7, 10, 13, 13, 12, 16, 4, 3, 4, 4, 4, 4, 4, 4, 12, 12, 12, 12, 12, 12, 12, 12, 14, 6, 7, 5, 10, 14, 9, 9, 9, 9, 9, 9, 9, 9, 9, 9, 9, 9, 12, 13, 10, 6, 8, 7, 7, 5, 8, 8, 11, 4, 5, 10, 10, 9, 9, 9, 9, 4, 4, 4, 5, 5, 5, 5, 8, 6, 11, 5, 9, 7, 7, 7, 9, 7, 7, 8, 5, 5, 5, 5, 6, 9, 9, 9, 9, 9, 9, 9, 9, 9, 9, 11, 6, 12, 8, 5, 9, 9, 9, 14, 14, 14, 14, 14, 14, 14, 14, 14, 11, 16, 6, 9, 7, 14, 14, 9, 9, 11, 10, 9, 3, 10, 10, 10, 10, 5, 9, 7, 6, 10, 6, 13, 8, 9, 6, 6, 6, 6, 6, 6, 6, 6, 6, 6, 4, 4, 4, 4, 10, 6, 8, 5, 5, 10, 6, 6, 7, 5, 5, 5, 10, 10, 10, 10, 10, 10, 10, 10, 10, 10, 10, 10, 10, 10, 10, 10, 10, 10, 10, 10, 10, 10, 7, 8, 6, 5, 10, 10, 10, 5, 7, 7, 7, 12, 9, 9, 12, 12, 11, 14, 7, 5, 5, 7, 7, 7, 6, 6, 6, 6, 4, 4, 4, 4, 4, 4, 10, 9, 7, 9, 7, 2, 7, 13, 11, 14, 14, 4, 10, 10, 10, 10, 10, 10, 7, 7, 7, 7, 7, 7, 7, 14, 7, 10, 10, 10, 13, 10, 6, 5, 5, 10, 6, 5, 5, 4, 14, 6, 12, 8, 8, 9, 7, 7, 6, 6, 4, 10, 11, 5, 6, 7, 7, 7, 2, 15, 4, 7, 7, 7, 10, 7, 7, 14, 7, 7, 6, 6, 6, 6, 6, 6, 6, 6, 6, 6, 6, 6, 6, 6, 7, 7, 7, 7, 7, 7, 7, 7, 7, 7, 7, 7, 7, 7, 7, 7, 7, 7, 7, 7, 12, 6, 7, 10, 10, 15, 5, 8, 8, 14, 5, 14, 11, 11, 9, 5, 5, 5, 12, 12, 4, 14, 14, 12, 12, 12, 7, 7, 11, 12, 12, 12, 12, 12, 12, 12, 12, 12, 2, 2, 12, 12, 12, 12, 12, 9, 8, 8, 10, 10, 12, 12, 12, 12, 12, 12, 5, 5, 5, 6, 7, 7, 7, 12, 6, 12, 5, 5, 5, 5, 9, 15, 7, 12, 12, 12, 12, 12, 4, 4, 4, 4, 4, 4, 4, 11, 8, 8, 10, 8, 10, 15, 15, 8, 7, 5, 5, 5, 5, 6, 9, 5, 4, 10, 10, 10, 13, 9, 13, 16, 12, 12, 12, 12, 12, 9, 9, 8, 6, 12, 12, 6, 8, 12, 12, 5, 8, 12, 11, 12, 6, 3, 12, 12, 7, 10, 10, 10, 10, 10, 10, 10, 10, 10, 10, 10, 10, 5, 5, 4, 6, 6, 6, 6, 5, 5, 5, 5, 5, 5, 5, 6, 6, 6, 6, 8, 8, 8, 8, 8, 8, 8, 9, 9, 9, 9, 9, 9, 9, 9, 7, 7, 9, 5, 5, 14, 14, 10, 6, 7, 10, 10, 10, 10, 10, 10, 10, 10, 10, 10, 10, 9, 9, 10, 10, 10, 10, 10, 10, 10, 10, 10, 3, 3, 3, 3, 3, 3, 3, 3, 3, 3, 9, 6, 6, 12, 5, 9, 4, 4, 4, 4, 11, 11, 7, 7, 7, 6, 3, 7, 10, 5, 3, 7, 10, 10, 10, 10, 10, 10, 4, 12, 12, 12, 4, 6, 7, 7, 6, 9, 7, 3, 3, 3, 7, 6, 4, 12, 12, 12, 5, 5, 5, 12, 12, 12, 12, 12, 6, 6, 5, 11, 6, 5, 10, 12, 12, 3, 3, 3, 3, 5, 5, 5, 5, 5, 5, 5, 5, 8, 8, 8, 8, 8, 8, 8, 8, 9, 15, 8, 6, 8, 8, 8, 8, 8, 8, 8, 8, 8, 8, 11, 11, 10, 6, 11, 9, 9, 9, 9, 9, 9, 13, 13, 13, 5, 13, 13, 8, 11, 11, 9, 9, 9, 9, 9, 9, 8, 9, 9, 10, 10, 10, 10, 7, 12, 12, 12, 12, 7, 4, 6, 6, 12, 12, 12, 4, 7, 7, 12, 12, 5, 5, 12, 10, 10, 10, 10, 10, 10, 4, 4, 4, 4, 4, 4, 12, 12, 6, 6, 10, 10, 8, 8, 8, 10, 7, 7, 11, 12, 7, 13, 13, 15, 6, 12, 12, 13, 13, 8, 14, 8, 10, 10, 6, 10, 8, 6, 10, 8, 6, 7, 7, 6, 5, 11, 11, 6, 4, 8, 8, 7, 7, 4, 4, 14, 12, 6, 13, 13, 13, 13, 13, 13, 13, 13, 13, 11, 11, 11, 8, 8, 8, 13, 11, 14, 10, 11, 11, 11, 11, 4, 4, 4, 4, 11, 13, 11, 8, 6, 8, 13, 10, 6, 6, 10, 10, 10, 10, 13, 13, 7, 7, 7, 3, 10, 7, 4, 8, 12, 6, 9, 6, 8, 8, 8, 8, 11, 11, 11, 11, 11, 8, 15, 15, 15, 15, 15, 15, 8, 11, 6, 6, 6, 6, 6, 6, 10, 5, 9, 6, 5, 13, 5, 6, 6, 6, 6, 5, 8, 4, 5, 16, 14, 14, 12, 14, 8, 6, 5, 5, 5, 12, 12, 12, 12, 12, 12, 12, 4, 4, 10, 10, 9, 5, 5, 6, 11, 6, 10, 8, 10, 11, 14, 14, 9, 9, 9, 9, 14, 4, 11, 14, 14, 14, 10, 14, 14, 14, 14, 14, 14, 14, 14, 14, 14, 12, 12, 12, 12, 12, 12, 12, 12, 12, 12, 12, 12, 12, 2, 2, 2, 2, 7, 7, 8, 5, 8, 7, 7, 12, 9, 8, 12, 13, 13, 13, 13, 13, 13, 13, 13, 13, 13, 13, 13, 12, 12, 12, 14, 12, 12, 7, 7, 8, 4, 11, 11, 11, 11, 11, 11, 11, 11, 11, 11, 8, 11, 8, 6, 11, 11, 11, 3, 3, 3, 7, 13, 13, 13, 13, 12, 6, 11, 13, 13, 13, 13, 13, 13, 13, 13, 4, 4, 6, 6, 6, 6, 6, 6, 6, 6, 4, 4, 4, 4, 7, 5, 5, 4, 8, 12, 12, 12, 11, 8, 5, 5, 7, 11, 11, 11, 10, 10, 10, 10, 10, 11, 11, 11, 10, 10, 8, 8, 11, 11, 8, 8, 8, 12, 9, 9, 9, 12, 12, 6, 10, 10, 10, 10, 10, 15, 12, 5, 11, 11, 11, 5, 5, 12, 10, 10, 12, 12, 12, 8, 11, 11, 12, 6, 6, 6, 9, 9, 9, 8, 8, 8, 8, 5, 14, 4, 7, 5, 7, 7, 8, 8, 8, 8, 5, 5, 8, 12, 10, 9, 9, 5, 10, 8, 8, 7, 7, 7, 7, 6, 4, 4, 4, 4, 8, 10, 14, 14, 14, 14, 14, 14, 14, 14, 14, 14, 14, 14, 10, 10, 10, 7, 9, 9, 11, 6, 6, 6, 10, 10, 10, 9, 9, 9, 9, 9, 9, 6, 7, 8, 8, 8, 5, 7, 9, 9, 7, 7, 4, 4, 5, 9, 8, 8, 8, 5, 5, 7, 7, 7, 7, 7, 7, 7, 7, 7, 7, 7, 7, 7, 4, 4, 4, 4, 5, 5, 10, 10, 4, 4, 2, 8, 8, 8, 8, 8, 8, 8, 8, 8, 8, 5, 5, 5, 5, 5, 5, 9, 9, 9, 9, 9, 4, 4, 4, 14, 6, 7, 7, 9, 8, 13, 14, 14, 14, 14, 14, 14, 14, 14, 14, 6, 6, 6, 6, 13, 13, 13, 13, 13, 13, 13, 6, 6, 13, 13, 4, 10, 12, 9, 9, 9, 9, 9, 2, 8, 3, 11, 9, 9, 9, 9, 9, 9, 9, 9, 9, 8, 8, 8, 8, 8, 8, 8, 8, 8, 8, 8, 8, 8, 8, 8, 11, 14, 14, 5, 7, 7, 7, 4, 4, 4, 4, 7, 7, 9, 5, 7, 4, 12, 12, 10, 9, 6, 6, 10, 10, 10, 10, 4, 7, 15, 15, 15, 15, 9, 6, 5, 4, 3, 7, 13, 13, 6, 4, 4, 5, 11, 11, 4, 6, 6, 10, 9, 3, 7, 8, 3, 10, 10, 8, 7, 10, 10, 13, 13, 13, 10, 10, 10, 10, 10, 10, 10, 6, 6, 6, 6, 6, 4, 6, 8, 8, 8, 10, 10, 10, 10, 10, 10, 10, 10, 10, 7, 7, 4, 6, 6, 6, 6, 6, 10, 10, 10, 10, 10, 10, 4, 4, 4, 14, 14, 7, 7, 10, 10, 10, 5, 5, 5, 10, 4, 14, 14, 10, 10, 10, 10, 10, 10, 10, 10, 10, 11, 13, 13, 13, 7, 7, 7, 7, 7, 7, 7, 7, 7, 7, 3, 11, 11, 11, 11, 11, 11, 11, 11, 11, 11, 11, 11, 9, 11, 9, 9, 11, 11, 11, 12, 6, 10, 8, 8, 8, 8, 8, 8, 4, 4, 4, 6, 6, 6, 6, 6, 6, 6, 6, 6, 6, 6, 9, 9, 9, 9, 9, 5, 5, 5, 5, 6, 10, 6, 6, 6, 6, 13, 9, 9, 9, 9, 7, 5, 13, 11, 11, 11, 11, 11, 11, 11, 11, 4, 14, 14, 14, 9, 9, 9, 9, 9, 11, 11, 11, 11, 11, 11, 11, 9, 6, 6, 8, 11, 11, 7, 7, 11, 4, 4, 4, 5, 5, 5, 8, 8, 8, 8, 8, 8, 6, 7, 11, 11, 9, 9, 12, 12, 9, 6, 6, 6, 6, 6, 11, 7, 6, 6, 4, 4, 8, 8, 8, 8, 8, 8, 8, 7, 6, 6, 14, 10, 12, 12, 9, 5, 6, 6, 6, 8, 9, 11, 13, 13, 13, 5, 3, 12, 7, 6, 8, 8, 8, 8, 4, 4, 4, 4, 4, 16, 7, 10, 2, 12, 12, 12, 12, 12, 12, 5, 9, 4, 8, 11, 5, 8, 7, 10, 6, 8, 6, 6, 9, 5, 8, 4, 8, 4, 6, 5, 5, 6, 6, 5, 4, 4, 11, 11, 4, 10, 10, 7, 7, 7, 7, 15, 14, 14, 14, 14, 14, 14, 7, 7, 7, 7, 7, 7, 7, 2, 13, 13, 13, 13, 13, 13, 10, 9, 9, 9, 9, 9, 4, 4, 5, 4, 11, 11, 10, 10, 7, 9, 9, 3, 6, 6, 6, 6, 6, 6, 7, 7, 7, 7, 14, 7, 7, 6, 9, 8, 9, 9, 10, 10, 10, 10, 5, 14, 10, 10, 10, 10, 10, 5, 10, 7, 5, 5, 5, 5, 5, 12, 12, 6, 4, 10, 10, 10, 11, 7, 7, 15, 15, 9, 9, 5, 5, 8, 11, 8, 8, 8, 14, 7, 10, 8, 8, 9, 4, 4, 8, 8, 8, 8, 6, 6, 6, 6, 6, 6, 6, 10, 10, 10, 10, 10, 10, 10, 10, 10, 10, 10, 10, 10, 10, 8, 5, 12, 12, 12, 12, 12, 12, 12, 9, 9, 12, 12, 7, 10, 9, 14, 14, 14, 14, 14, 7, 7, 7, 7, 7, 7, 7, 7, 7, 12, 12, 12, 14, 4, 4, 8, 8, 11, 11, 11, 4, 4, 14, 10, 5, 14, 14, 10, 11, 11, 11, 10, 10, 7, 5, 5, 6, 6, 5, 6, 7, 7, 7, 7, 7, 7, 7, 10, 11, 11, 9, 9, 4, 5, 3, 3, 14, 14, 14, 14, 14, 7, 4, 3, 7, 7, 6, 13, 6, 5, 7, 7, 11, 11, 11, 11, 11, 11, 7, 7, 7, 7, 7, 7, 7, 7, 11, 11, 8, 11, 8, 8, 4, 4, 4, 4, 4, 4, 4, 4, 4, 4, 12, 11, 5, 9, 5, 8, 8, 7, 8, 8, 8, 8, 8, 8, 12, 7, 14, 14, 14, 10, 10, 10, 14, 14, 14, 14, 14, 14, 14, 14, 14, 14, 14, 12, 4, 10, 5, 9, 9, 7, 7, 12, 12, 7, 7, 7, 6, 6, 6, 6, 6, 6, 6, 6, 6, 6, 6, 6, 6, 10, 7, 7, 8, 6, 6, 11, 11, 11, 11, 12, 8, 7, 11, 11, 11, 11, 11, 7, 7, 7, 7, 10, 13, 6, 6, 8, 8, 11, 14, 14, 7, 6, 4, 11, 11, 11, 10, 10, 13, 13, 13, 13, 13, 13, 13, 13, 13, 13, 13, 13, 13, 13, 13, 13, 13, 13, 13, 9, 9, 10, 10, 10, 9, 13, 13, 13, 13, 13, 13, 13, 13, 13, 13, 10, 16, 7, 6, 13, 13, 13, 13, 13, 13, 13, 13, 13, 13, 13, 13, 13, 13, 13, 13, 13, 8, 8, 8, 8, 8, 13, 13, 5, 10, 12, 12, 5, 10, 10, 10, 10, 11, 8, 8, 8, 7, 7, 7, 7, 7, 7, 7, 12, 7, 7, 7, 7, 6, 8, 13, 13, 13, 7, 11, 7, 8, 8, 8, 8, 8, 8, 8, 8, 8, 11, 12, 13, 16, 12, 11, 11, 11, 11, 10, 12, 8, 8, 8, 8, 8, 8, 8, 8, 8, 11, 12, 14, 14, 13, 13, 11, 11, 11, 11, 11, 11, 11, 11, 11, 11, 11, 11, 11, 11, 11, 11, 3, 3, 3, 3, 3, 3, 3, 3, 3, 3, 3, 13, 9, 9, 15, 15, 15, 15, 15, 12, 12, 14, 14, 14, 11, 12, 5, 5, 5, 5, 5, 5, 5, 5, 10, 10, 10, 10, 10, 10, 10, 10, 10, 10, 10, 5, 10, 10, 10, 10, 10, 11, 11, 11, 11, 11, 11, 11, 11, 11, 11, 11, 11, 11, 11, 11, 11, 11, 9, 9, 9, 9, 9, 9, 9, 9, 9, 9, 9, 9, 13, 13, 7, 11, 11, 7, 7, 7, 7, 10, 10, 10, 10, 10, 10, 10, 7, 7, 7, 7, 7, 11, 15, 15, 11, 11, 8, 10, 10, 10, 12, 12, 12, 12, 12, 12, 12, 12, 12, 12, 12, 11, 11, 11, 11, 11, 11, 11, 11, 11, 11, 11, 8, 8, 8, 8, 8, 8, 8, 14, 14, 11, 11, 11, 11, 11, 11, 11, 11, 11, 5, 5, 5, 5, 5, 5, 8, 8, 8, 10, 8, 8, 10, 10, 10, 10, 10, 10, 15, 4, 4, 10, 10, 10, 10, 10, 10, 10, 10, 10, 10, 10, 10, 10, 10, 4, 4, 4, 14, 15, 10, 9, 12, 13, 11, 11, 11, 9, 9, 11, 11, 11, 11, 11, 11, 11, 11, 11, 11, 11, 11, 11, 11, 11, 11, 11, 11, 11, 11, 10, 10, 10, 10, 10, 10, 10, 10, 10, 14, 7, 7, 5, 5, 10, 10, 10, 10, 10, 10, 3, 8, 8, 10, 11, 14, 10, 9, 15, 4, 7, 10, 10, 8, 8, 8, 8, 8, 14, 14, 11, 11, 11, 11, 14, 15, 3, 4, 11, 5, 5, 15, 8, 8, 8, 6, 6, 7, 12, 7, 8, 4, 15, 15, 8, 8, 12, 4, 12, 12, 12, 12, 12, 12, 12, 5, 7, 8, 8, 8, 8, 8, 8, 8, 8, 11, 11, 7, 6, 11, 11, 11, 11, 3, 13, 13, 13, 13, 13, 13, 13, 6, 13, 6, 6, 6, 5, 14, 8, 11, 11, 7, 7, 7, 11, 11, 12, 7, 7, 7, 11, 11, 11, 7, 7, 6, 13, 9, 11, 11, 11, 9, 9, 5, 11, 7, 7, 7, 7, 6, 15, 15, 15, 15, 9, 9, 9, 9, 9, 9, 9, 9, 9, 9, 9, 9, 9, 9, 9, 8, 4, 4, 4, 4, 4, 8, 8, 8, 12, 12, 9, 9, 9, 9, 13, 8, 8, 8, 8, 13, 13, 13, 12, 12, 6, 6, 6, 6, 6, 8, 8, 8, 8, 8, 6, 8, 8, 8, 8, 8, 8, 4, 4, 4, 4, 4, 4, 10, 10, 10, 14, 15, 12, 12, 12, 9, 9, 9, 9, 9, 4, 13, 13, 13, 3, 3, 16, 7, 12, 12, 12, 14, 13, 13, 13, 13, 13, 13, 13, 13, 13, 13, 14, 13, 6, 12, 12, 10, 10, 10, 10, 10, 10, 12, 9, 12, 12, 12, 2, 12, 10, 12, 12, 12, 12, 10, 10, 10, 10, 10, 10, 10, 10, 10, 6, 6, 6, 6, 12, 12, 6, 6, 6, 4, 9, 5, 8, 7, 8, 8, 7, 7, 7, 7, 6, 8, 7, 7, 7, 7, 7, 7, 7, 7, 7, 7, 3, 4, 6, 6, 4, 7, 7, 7, 7, 7, 9, 9, 9, 9, 9, 5, 5, 5, 7, 7, 7, 8, 3, 12, 4, 7, 6, 6, 10, 11, 11, 4, 10, 7, 7, 11, 11, 11, 11, 5, 3, 3, 3, 11, 11, 11, 11, 8, 8, 8, 7, 7, 6, 6, 7, 7, 7, 7, 7, 5, 5, 5, 5, 5, 5, 5, 8, 8, 8, 8, 8, 8, 8, 8, 8, 8, 8, 8, 8, 8, 8, 8, 9, 5, 6, 5, 5, 9, 3, 7, 7, 7, 7, 7, 7, 7, 11, 7, 7, 7, 4, 4, 7, 5, 5, 5, 7, 7, 7, 7, 7, 10, 10, 10, 8, 8, 5, 10, 10, 10, 7, 6, 6, 6, 6, 6, 6, 5, 6, 11, 11, 11, 11, 11, 11, 11, 11, 11, 11, 11, 6, 11, 11, 11, 11, 11, 6, 6, 6, 6, 6, 8, 8, 6, 8, 8, 8, 8, 8, 8, 8, 8, 8, 8, 8, 8, 8, 5, 7, 7, 7, 8, 11, 2, 6, 5, 11, 5, 3, 10, 4, 5, 5, 5, 3, 4, 8, 10, 8, 8, 8, 8, 8, 8, 8, 8, 8, 12, 12, 12, 12, 12, 12, 12, 12, 12, 12, 12, 12, 12, 12, 12, 12, 12, 12, 12, 12, 12, 12, 12, 12, 12, 12, 11, 11, 10, 13, 13, 9, 4, 12, 2, 2, 2, 7, 5, 6, 6, 6, 8, 8, 6, 6, 6, 6, 6, 6, 9, 8, 11, 4, 4, 4, 4, 4, 4, 4, 4, 4, 14, 14, 10, 10, 6, 4, 4, 4, 3, 3, 3, 7, 7, 7, 7, 7, 7, 7, 7, 7, 7, 7, 7, 7, 7, 5, 11, 11, 6, 6, 6, 6, 6, 6, 6, 6, 6, 6, 9, 9, 9, 9, 9, 11, 11, 11, 11, 11, 11, 11, 11, 11, 11, 11, 11, 4, 7, 4, 14, 12, 11, 7, 7, 8, 10, 10, 11, 10, 8, 11, 8, 6, 10, 10, 10, 6, 10, 10, 10, 10, 10, 3, 3, 3, 12, 12, 12, 12, 12, 12, 12, 12, 12, 12, 12, 12, 12, 12, 7, 6, 7, 4, 10, 6, 13, 13, 5, 5, 12, 10, 10, 12, 14, 4, 14, 14, 4, 4, 14, 14, 14, 5, 5, 5, 6, 7, 5, 10, 11, 14, 14, 14, 14, 14, 14, 14, 14, 14, 8, 8, 8, 8, 8, 8, 4, 5, 5, 3, 7, 7, 7, 7, 7, 7, 12, 7, 7, 7, 7, 7, 7, 7, 8, 8, 7, 7, 7, 13, 7, 7, 5, 5, 4, 7, 7, 8, 12, 12, 6, 8, 9, 9, 9, 9, 9, 9, 5, 5, 9, 11, 11, 11, 9, 9, 9, 9, 9, 9, 12, 10, 6, 6, 6, 6, 6, 6, 6, 6, 6, 15, 12, 5, 12, 12, 6, 6, 6, 8, 8, 12, 12, 12, 8, 8, 8, 8, 8, 8, 11, 12, 11, 9, 8, 11, 11, 11, 11, 11, 8, 8, 8, 5, 10, 9, 7, 6, 6, 7, 8, 6, 7, 8, 8, 5, 4, 9, 9, 9, 9, 11, 11, 7, 4, 11, 8, 8, 11, 8, 8, 14, 14, 14, 14, 7, 7, 12, 10, 6, 6, 16, 16, 16, 16, 10, 15, 15, 15, 15, 15, 15, 3, 13, 13, 5, 5, 5, 5, 5, 5, 5, 5, 5, 6, 10, 8, 13, 5, 4, 8, 7, 6, 6, 5, 5, 5, 4, 6, 6, 6, 6, 6, 6, 6, 6, 9, 9, 9, 9, 9, 9, 9, 9, 9, 9, 9, 9, 9, 9, 9, 9, 9, 9, 9, 9, 4, 13, 7, 10, 9, 6, 6, 6, 6, 6, 9, 13, 8, 8, 9, 9, 9, 10, 10, 8, 8, 8, 8, 8, 8, 8, 8, 15, 15, 15, 15, 15, 15, 15, 15, 15, 15, 15, 15, 15, 15, 15, 11, 9, 9, 6, 12, 12, 12, 12, 12, 6, 6, 8, 8, 8, 8, 8, 8, 8, 8, 8, 8, 8, 11, 8, 8, 8, 7, 7, 7, 7, 7, 7, 7, 7, 7, 7, 14, 14, 14, 14, 14, 14, 14, 14, 14, 11, 7, 11, 11, 11, 9, 9, 9, 14, 14, 14, 12, 12, 12, 12, 12, 12, 12, 12, 11, 7, 14, 12, 6, 12, 7, 6, 16, 16, 7, 2, 9, 9, 9, 9, 9, 9, 5, 9, 7, 8, 4, 4, 10, 10, 10, 10, 10, 10, 10, 10, 10, 10, 10, 10, 10, 10, 15, 15, 14, 4, 4, 4, 10, 10, 10, 6, 6, 6, 6, 6, 6, 11, 10, 10, 10, 6, 5, 5, 5, 5, 7, 7, 5, 5, 5, 5, 4, 9, 7, 7, 5, 5, 7, 5, 5, 5, 5, 5, 5, 5, 5, 5, 5, 5, 6, 6, 7, 7, 4, 7, 7, 6, 6, 6, 6, 6, 6, 6, 4, 7, 4, 8, 4, 8, 8, 8, 8, 8, 8, 9, 10, 4, 4, 4, 4, 4, 9, 14, 7, 7, 14, 14, 7, 7, 8, 11, 11, 7, 7, 7, 7, 7, 7, 7, 7, 7, 7, 7, 11, 11, 11, 11, 11, 11, 5, 5, 14, 14, 11, 11, 11, 11, 11, 11, 11, 11, 11, 14, 3, 11, 11, 11, 6, 6, 6, 6, 7, 8, 6, 6, 6, 6, 6, 9, 5, 8, 8, 8, 8, 8, 8, 5, 7, 7, 7, 4, 8, 8, 4, 13, 13, 13, 13, 13, 13, 13, 13, 13, 13, 13, 13, 13, 4, 13, 6, 10, 10, 12, 13, 13, 13, 13, 13, 13, 13, 10, 10, 7, 13, 13, 13, 13, 13, 5, 5, 5, 5, 5, 5, 5, 11, 11, 11, 11, 5, 6, 6, 6, 6, 6, 6, 6, 5, 7, 7, 5, 7, 11, 8, 11, 11, 11, 11, 11, 11, 11, 11, 11, 11, 11, 11, 11, 11, 11, 11, 8, 11, 11, 11, 11, 11, 11, 10, 10, 10, 10, 8, 8, 8, 10, 8, 10, 15, 8, 8, 8, 8, 8, 8, 8, 8, 8, 8, 12, 12, 12, 12, 12, 12, 12, 12, 10, 12, 12, 12, 12, 12, 12, 12, 12, 12, 12, 10, 12, 10, 14, 15, 8, 8, 11, 5, 5, 12, 12, 12, 12, 12, 12, 12, 12, 12, 12, 12, 8, 7, 7, 8, 8, 8, 8, 8, 8, 8, 8, 8, 8, 6, 7, 3, 6, 6, 6, 6, 14, 5, 6, 6, 6, 7, 7, 7, 7, 7, 7, 7, 7, 7, 7, 5, 11, 11, 7, 12, 7, 7, 7, 7, 7, 9, 9, 9, 9, 9, 7, 6, 6, 9, 6, 9, 9, 9, 9, 9, 9, 4, 4, 4, 4, 4, 4, 4, 4, 4, 4, 4, 7, 7, 7, 7, 7, 7, 10, 10, 10, 10, 10, 12, 6, 13, 13, 10, 13, 13, 13, 16, 16, 7, 2, 5, 5, 4, 9, 9, 9, 2, 2, 4, 4, 4, 9, 5, 8, 7, 6, 6, 6, 8, 8, 8, 8, 7, 3, 3, 3, 4, 6, 10, 10, 5, 3, 5, 8, 8, 6, 6, 6, 6, 6, 6, 8, 8, 7, 4, 11, 11, 11, 11, 11, 11, 8, 8, 8, 8, 8, 8, 8, 8, 8, 8, 8, 8, 8, 8, 5, 5, 5, 5, 8, 12, 12, 12, 12, 12, 12, 12, 12, 12, 5, 12, 12, 12, 12, 5, 3, 3, 4, 7, 5, 16, 7, 4, 7, 12, 9, 9, 11, 7, 12, 7, 12, 12, 5, 12, 12, 12, 3, 14, 7, 10, 14, 4, 4, 6, 6, 6, 7, 3, 3, 3, 10, 6, 14, 8, 4, 4, 4, 11, 11, 6, 5, 9, 9, 6, 6, 14, 5, 10, 5, 13, 5, 13, 7, 7, 8, 8, 8, 11, 9, 9, 9, 9, 14, 9, 10, 10, 10, 10, 10, 7, 4, 4, 7, 5, 14, 14, 14, 14, 14, 14, 5, 10, 8, 13, 5, 12, 13, 8, 8, 8, 11, 6, 14, 7, 7, 7, 7, 7, 7, 7, 6, 6, 9, 9, 9, 8, 8, 14, 10, 6, 6, 8, 8, 5, 5, 5, 6, 13, 13, 13, 11, 13, 10, 10, 10, 11, 4, 4, 7, 7, 7, 7, 4, 12, 6, 11, 8, 10, 10, 10, 10, 10, 10, 10, 10, 10, 10, 10, 10, 10, 10, 10, 7, 8, 8, 8, 11, 12, 5, 5, 5, 5, 5, 5, 5, 5, 5, 5, 5, 5, 11, 10, 10, 11, 11, 11, 11, 10, 10, 10, 10, 10, 10, 10, 10, 10, 10, 10, 10, 10, 11, 10, 8, 8, 11, 11, 8, 8, 8, 8, 8, 8, 8, 8, 8, 8, 8, 8, 8, 8, 6, 7, 8, 8, 3, 3, 11, 6, 7, 6, 8, 12, 4, 4, 7, 12, 12, 9, 9, 9, 9, 9, 6, 6, 9, 5, 5, 5, 9, 9, 9, 9, 5, 6, 13, 5, 12, 6, 8, 8, 8, 8, 8, 8, 8, 8, 8, 8, 8, 8, 8, 8, 8, 10, 3, 6, 10, 4, 4, 4, 4, 4, 10, 7, 9, 9, 5, 5, 13, 10, 11, 8, 10, 4, 5, 8, 5, 4, 4, 4, 4, 8, 7, 7, 7, 10, 4, 4, 4, 11, 4, 8, 7, 4, 4, 9, 8, 9, 8, 7, 6, 7, 10, 7, 7, 7, 13, 12, 6, 11, 5, 5, 5, 5, 5, 5, 4, 4, 4, 8, 12, 12, 12, 11, 7, 7, 7, 7, 7, 7, 7, 3, 3, 3, 3, 14, 14, 14, 14, 14, 8, 5, 5, 7, 11, 11, 11, 11, 11, 11, 11, 11, 11, 11, 7, 7, 7, 7, 7, 7, 7, 11, 11, 11, 11, 7, 7, 7, 7, 7, 7, 7, 7, 7, 7, 7, 7, 7, 7, 7, 7, 7, 7, 5, 5, 5, 5, 4, 4, 4, 4, 4, 4, 4, 4, 9, 9, 9, 9, 9, 9, 9, 9, 10, 10, 10, 15, 9, 9, 9, 9, 9, 9, 2, 2, 2, 7, 7, 15, 12, 7, 7, 7, 8, 8, 8, 8, 5, 5, 5, 12, 8, 8, 10, 8, 8, 8, 8, 8, 8, 3, 3, 3, 13, 13, 13, 13, 13, 12, 8, 13, 11, 13, 8, 11, 9, 8, 5, 5, 5, 5, 5, 5, 14, 4, 5, 5, 7, 5, 8, 9, 4, 4, 6, 6, 5, 5, 8, 8, 6, 6, 6, 6, 6, 6, 6, 6, 7, 7, 7, 7, 7, 6, 6, 7, 7, 6, 7, 8, 8, 7, 7, 8, 8, 8, 5, 11, 11, 11, 9, 9, 9, 9, 9, 9, 7, 4, 5, 10, 10, 6, 7, 7, 9, 9, 7, 12, 5, 5, 8, 13, 4, 10, 8, 3, 5, 5, 5, 5, 5, 13, 13, 13, 11, 11, 11, 11, 14, 14, 14, 14, 13, 13, 13, 13, 13, 13, 13, 13, 13, 13, 13, 13, 13, 13, 13, 10, 10, 10, 10, 10, 10, 10, 10, 10, 7, 7, 7, 5, 7, 10, 10, 10, 10, 10, 10, 10, 10, 10, 10, 4, 4, 4, 12, 10, 6, 6, 16, 10, 10, 4, 5, 11, 11, 11, 11, 11, 11, 11, 11, 11, 11, 11, 4, 4, 4, 4, 7, 3, 13, 13, 6, 6, 4, 8, 8, 8, 8, 8, 8, 8, 8, 8, 6, 10, 7, 8, 7, 13, 13, 13, 8, 8, 8, 13, 4, 6, 6, 8, 8, 10, 7, 7, 7, 8, 8, 10, 10, 7, 6, 4, 13, 13, 13, 14, 14, 14, 7, 5, 5, 5, 4, 4, 14, 10, 11, 13, 8, 8, 8, 8, 8, 9, 12, 10, 10, 10, 9, 11, 11, 11, 11, 11, 11, 7, 7, 5, 13, 11, 11, 11, 5, 5, 5, 6, 6, 6, 8, 8, 8, 8, 8, 9, 9, 9, 9, 14, 14, 14, 14, 14, 8, 8, 8, 8, 8, 11, 7, 11, 7, 11, 11, 9, 9, 9, 11, 8, 6, 4, 10, 12, 5, 4, 6, 6, 13, 5, 12, 12, 7, 6, 6, 16, 7, 7, 7, 7, 2, 9, 5, 5, 6, 9, 7, 8, 4, 15, 15, 15, 15, 15, 14, 14, 10, 4, 4, 4, 5, 14, 10, 10, 4, 10, 10, 10, 4, 4, 4, 4, 10, 10, 10, 10, 10, 10, 10, 10, 10, 10, 10, 9, 9, 14, 14, 14, 7, 11, 6, 6, 6, 6, 6, 6, 6, 6, 6, 7, 7, 7, 7, 7, 7, 9, 9, 7, 6, 4, 6, 6, 10, 10, 10, 10, 10, 7, 10, 10, 10, 10, 10, 5, 5, 4, 8, 12, 12, 8, 8, 3, 3, 3, 3, 3, 8, 8, 8, 8, 9, 9, 10, 9, 9, 9, 14, 14, 11, 8, 8, 8, 8, 8, 8, 8, 5, 11, 5, 14, 14, 11, 11, 5, 5, 5, 5, 11, 11, 7, 8, 8, 5, 10, 11, 11, 4, 3, 3, 3, 8, 8, 14, 14, 10, 14, 14, 3, 7, 7, 6, 3, 3, 5, 8, 9, 9, 8, 12, 9, 9, 9, 9, 9, 11, 11, 11, 11, 11, 11, 11, 11, 11, 11, 11, 11, 11, 11, 11, 11, 11, 11, 11, 11, 11, 11, 11, 11, 11, 11, 11, 11, 11, 9, 9, 11, 11, 11, 11, 11, 6, 6, 6, 6, 6, 6, 5, 6, 6, 6, 6, 6, 5, 8, 8, 5, 8, 5, 5, 5, 7, 8, 8, 4, 4, 4, 4, 4, 4, 4, 4, 8, 9, 9, 4, 10, 10, 10, 10, 10, 10, 10, 10, 10, 10, 10, 10, 10, 10, 10, 5, 9, 9, 6, 6, 6, 6, 6, 10, 7, 8, 9, 9, 9, 7, 7, 7, 10, 5, 5, 5, 5, 5, 5, 5, 5, 8, 8, 7, 6, 4, 4, 4, 4, 5, 5, 5, 5, 6, 5, 5, 5, 5, 8, 8, 10, 10, 12, 13, 10, 12, 8, 7, 6, 6, 13, 13, 11, 11, 11, 11, 4, 11, 9, 9, 5, 5, 15, 11, 12, 12, 8, 5, 5, 13, 13, 13, 13, 7, 7, 7, 7, 7, 7, 7, 7, 7, 7, 7, 10, 10, 10, 10, 10, 10, 10, 10, 10, 10, 7, 7, 15, 11, 7, 10, 10, 10, 10, 11, 8, 8, 8, 8, 12, 3, 5, 3, 3, 3, 3, 12, 12, 12, 12, 10, 10, 15, 7, 12, 13, 9, 10, 9, 9, 9, 9, 9, 9, 9, 9, 9, 10, 10, 10, 10, 9, 9, 10, 9, 9, 9, 9, 9, 3, 6, 8, 8, 10, 10, 9, 15, 11, 11, 8, 8, 15, 10, 14, 11, 11, 15, 15, 8, 4, 15, 6, 8, 8, 8, 8, 8, 8, 7, 11, 5, 7, 7, 7, 12, 12, 7, 3, 3, 6, 6, 6, 12, 6, 6, 5, 14, 5, 8, 7, 7, 7, 7, 7, 7, 12, 12, 7, 6, 6, 9, 9, 5, 6, 7, 7, 7, 9, 9, 9, 9, 9, 9, 13, 13, 13, 13, 9, 9, 9, 9, 9, 9, 9, 9, 9, 9, 8, 8, 8, 8, 8, 8, 13, 12, 12, 12, 6, 6, 10, 14, 15, 9, 9, 9, 9, 9, 4, 13, 3, 5, 5, 13, 16, 5, 5, 5, 5, 5, 5, 9, 9, 9, 9, 16, 9, 16, 7, 7, 9, 8, 8, 8, 8, 8, 8, 7, 12, 9, 9, 2, 12, 12, 12, 4, 9, 8, 8, 8, 5, 5, 5, 5, 9, 9, 9, 9, 5, 8, 8, 8, 7, 4, 7, 7, 6, 6, 7, 3, 8, 8, 8, 8, 3, 12, 4, 10, 8, 8, 8, 10, 6, 6, 10, 5, 8, 6, 6, 6, 6, 6, 6, 6, 8, 8, 6, 6, 6, 6, 6, 6, 6, 6, 5, 5, 5, 6, 7, 4, 7, 7, 7, 7, 7, 7, 7, 7, 7, 7, 7, 7, 7, 7, 5, 5, 5, 5, 8, 8, 7, 7, 7, 13, 13, 13, 13, 13, 13, 13, 13, 13, 13, 13, 13, 13, 13, 13, 5, 5, 3, 13, 13, 8, 8, 7, 14, 8, 13, 13, 13, 13, 13, 13, 13, 13, 13, 13, 13, 13, 12, 12, 12, 12, 12, 12, 12, 12, 12, 12, 12, 12, 12, 11, 5, 10, 12, 12, 11, 10, 6, 12, 12, 12, 12, 12, 12, 4, 4, 7, 7, 7, 7, 7, 7, 7, 7, 7, 7, 6, 6, 6, 6, 6, 6, 6, 6, 6, 6, 6, 6, 6, 6, 6, 6, 3, 3, 3, 11, 11, 4, 8, 5, 5, 7, 9, 7, 7, 9, 7, 7, 7, 7, 7, 7, 7, 7, 7, 6, 6, 6, 6, 6, 9, 5, 6, 6, 11, 11, 11, 11, 11, 11, 11, 11, 11, 8, 11, 7, 5, 7, 6, 8, 10, 12, 5, 12, 6, 7, 5, 13, 11, 11, 13, 7, 7, 7, 7, 7, 7, 11, 8, 4, 8, 13, 9, 8, 5, 8, 4, 9, 8, 11, 12, 5, 7, 7, 5, 5, 5, 5, 5, 5, 5, 8, 7, 7, 7, 7, 7, 7, 7, 14, 8, 10, 5, 8, 11, 5, 4, 4, 12, 5, 9, 5, 14, 10, 4, 4, 4, 4, 4, 4, 4, 8, 9, 6, 10, 12, 8, 8, 8, 8, 5, 8, 8, 8, 8, 8, 14, 11, 6, 15, 12, 7, 7, 15, 10, 6, 8, 11, 10, 3, 9, 14, 14, 12, 12, 12, 12, 12, 12, 12, 12, 12, 12, 12, 12, 12, 12, 11, 5, 11, 11, 11, 11, 5, 5, 5, 8, 8, 5, 11, 8, 7, 7, 7, 6, 6, 6, 6, 8, 8, 8, 8, 5, 5, 7, 7, 8, 8, 8, 8, 8, 8, 8, 5, 5, 5, 5, 5, 5, 5, 5, 5, 5, 5, 7, 7, 10, 11, 5, 8, 8, 12, 10, 10, 15, 15, 15, 10, 15, 15, 15, 15, 15, 15, 15, 15, 15, 15, 15, 15, 15, 15, 15, 15, 7, 7, 15, 14, 14, 7, 7, 7, 7, 7, 4, 4, 4, 9, 6, 12, 12, 12, 12, 4, 4, 11, 11, 11, 11, 11, 11, 11, 11, 11, 11, 7, 10, 11, 11, 5, 5, 5, 8, 7, 14, 11, 11, 11, 8, 9, 7, 7, 5, 14, 9, 10, 10, 10, 5, 7, 11, 11, 5, 5, 5, 5, 5, 5, 5, 7, 12, 10, 11, 12, 12, 11, 11, 8, 10, 10, 7, 4, 6, 6, 6, 6, 14, 9, 9, 9, 9, 9, 11, 10, 9, 9, 9, 9, 12, 12, 9, 9, 4, 4, 4, 14, 10, 6, 9, 14, 9, 9, 9, 9, 14, 9, 9, 9, 9, 13, 13, 12, 7, 7, 4, 9, 9, 9, 10, 10, 12, 7, 7, 5, 3, 13, 11, 6, 9, 9, 9, 9, 9, 9, 9, 9, 9, 9, 6, 10, 6, 6, 10, 10, 9, 6, 6, 6, 6, 14, 10, 10, 8, 9, 3, 7, 8, 11, 6, 11, 15, 12, 4, 4, 5, 8, 13, 13, 11, 11, 11, 3, 3, 7, 10, 11, 6, 6, 6, 6, 4, 4, 4, 4, 13, 13, 13, 13, 13, 15, 14, 6, 12, 15, 15, 15, 15, 15, 15, 15, 15, 15, 15, 15, 15, 15, 12, 12, 12, 12, 12, 12, 12, 12, 12, 12, 12, 10, 8, 10, 11, 8, 11, 11, 4, 7, 10, 4, 11, 12, 4, 12, 6, 12, 6, 14, 10, 12, 7, 11, 11, 10, 9, 10, 7, 7, 12, 12, 6, 11, 11, 7, 7, 11, 11, 12, 12, 12, 12, 12, 12, 12, 12, 12, 10, 11, 8, 8, 8, 8, 10, 10, 10, 10, 10, 8, 6, 5, 10, 10, 10, 10, 10, 10, 12, 12, 12, 12, 10, 10, 7, 8, 5, 12, 12, 8, 9, 7, 11, 5, 12, 12, 12, 12, 12, 12, 12, 12, 12, 8, 8, 8, 8, 8, 8, 8, 8, 7, 5, 8, 10, 14, 8, 11, 11, 11, 11, 11, 11, 14, 14, 11, 5, 14, 11, 11, 11, 11, 11, 11, 11, 8, 4, 8, 8, 8, 8, 8, 8, 8, 10, 10, 10, 10, 10, 10, 10, 8, 14, 9, 4, 7, 10, 14, 10, 9, 10, 7, 12, 12, 12, 12, 12, 12, 7, 13, 11, 11, 11, 4, 9, 9, 9, 8, 8, 8, 8, 8, 8, 8, 8, 8, 8, 8, 8, 8, 5, 8, 8, 8, 8, 8, 4, 10, 10, 10, 10, 10, 10, 10, 10, 6, 6, 6, 6, 6, 6, 6, 6, 6, 6, 6, 9, 7, 7, 7, 7, 7, 7, 7, 7, 7, 7, 7, 7, 7, 7, 7, 7, 7, 7, 10, 10, 10, 10, 10, 10, 7, 9, 11, 9, 9, 7, 9, 12, 10, 10, 10, 8, 8, 9, 9, 7, 7, 12, 8, 8, 8, 8, 8, 8, 10, 10, 5, 8, 15, 14, 11, 5, 5, 13, 13, 12, 8, 8, 8, 8, 5, 5, 5, 5, 11, 9, 5, 5, 5, 5, 5, 5, 5, 10, 10, 10, 10, 9, 9, 14, 14, 14, 14, 14, 14, 14, 14, 14, 14, 14, 10, 14, 7, 10, 10, 10, 5, 8, 10, 10, 11, 9, 11, 14, 14, 14, 14, 14, 14, 10, 7, 7, 11, 14, 14, 14, 14, 12, 12, 12, 12, 12, 12, 4, 4, 5, 8, 6, 4, 4, 4, 4, 9, 9, 9, 7, 8, 10, 14, 14, 11, 11, 11, 11, 11, 11, 11, 11, 11, 11, 11, 4, 8, 4, 10, 5, 5, 5, 13, 13, 9, 5, 5, 5, 5, 5, 4, 4, 4, 4, 4, 7, 7, 10, 7, 10, 14, 14, 8, 13, 12, 7, 5, 5, 5, 5, 5, 5, 5, 5, 5, 11, 6, 6, 6, 7, 7, 5, 5, 5, 5, 5, 5, 5, 5, 5, 5, 14, 14, 14, 14, 14, 14, 14, 14, 14, 14, 14, 14, 14, 3, 3, 3, 3, 3, 3, 10, 9, 13, 15, 12, 12, 10, 6, 7, 10, 8, 4, 8, 10, 5, 5, 5, 5, 12, 12, 6, 5, 5, 7, 13, 12, 11, 5, 7, 12, 11, 7, 12, 13, 13, 11, 5, 5, 5, 5, 8, 10, 6, 5, 8, 8, 8, 8, 8, 8, 8, 8, 8, 10, 12, 9, 8, 8, 8, 8, 8, 8, 8, 13, 10, 14, 5, 8, 8, 8, 12, 12, 12, 12, 12, 12, 11, 11, 16, 14, 8, 4, 3, 3, 3, 3, 3, 3, 3, 3, 3, 3, 3, 3, 3, 3, 3, 3, 10, 10, 10, 10, 10, 10, 10, 10, 10, 10, 5, 8, 4, 7, 4, 7, 10, 10, 10, 11, 5, 12, 10, 10, 9, 9, 9, 9, 9, 9, 9, 9, 12, 10, 14, 10, 10, 10, 9, 9, 9, 9, 9, 9, 7, 7, 13, 10, 3, 5, 5, 5, 5, 5, 10, 10, 10, 10, 10, 7, 12, 3, 4, 8, 12, 12, 10, 11, 5, 8, 11, 8, 8, 8, 8, 8, 8, 8, 8, 8, 5, 13, 9, 8, 12, 7, 12, 11, 7, 7, 7, 7, 7, 7, 15, 11, 10, 6, 8, 7, 7, 7, 7, 7, 7, 7, 7, 7, 7, 7, 7, 7, 4, 4, 7, 7, 7, 7, 7, 7, 6, 13, 13, 8, 14, 6, 5, 8, 10, 9, 4, 4, 5, 5, 5, 5, 5, 5, 5, 5, 5, 5, 10, 10, 8, 7, 8, 5, 8, 8, 11, 5, 8, 8, 12, 5, 5, 10, 10, 10, 10, 10, 10, 10, 10, 10, 10, 10, 10, 10, 8, 8, 12, 12, 12, 8, 8, 8, 10, 10, 10, 5, 8, 8, 5, 8, 5, 7, 9, 9, 9, 8, 8, 8, 7, 8, 7, 7, 7, 8, 5, 8, 8, 8, 8, 8, 5, 4, 9, 10, 7, 8, 6, 5, 4, 4, 4, 3, 11, 9, 9, 9, 9, 9, 9, 11, 14, 14, 9, 9, 9, 13, 13, 13, 13, 14, 9, 10, 10, 7, 5, 7, 7, 7, 13, 13, 6, 6, 10, 7, 7, 7, 6, 6, 6, 6, 6, 8, 14, 14, 6, 6, 7, 6, 4, 7, 10, 11, 10, 10, 10, 10, 7, 7, 13, 5, 5, 7, 7, 7, 7, 8, 8, 14, 9, 8, 9, 9, 8, 8, 8, 8, 8, 8, 8, 8, 8, 8, 8, 8, 11, 8, 8, 8, 8, 8, 8, 8, 8, 11, 8, 8, 8, 11, 7, 8, 8, 8, 8, 8, 8, 7, 6, 10, 6, 12, 5, 5, 5, 9, 9, 6, 9, 12, 9, 5, 5, 5, 5, 6, 6, 6, 6, 6, 6, 6, 6, 6, 6, 6, 6, 6, 6, 10, 10, 6, 8, 8, 7, 7, 5, 14, 14, 14, 10, 10, 3, 8, 4, 4, 4, 4, 9, 10, 4, 4, 4, 4, 10, 15, 15, 7, 14, 14, 5, 5, 5, 9, 5, 5, 5, 5, 14, 14, 8, 12, 3, 8, 5, 10, 6, 6, 8, 5, 5, 5, 10, 12, 11, 11, 5, 10, 10, 10, 10, 10, 11, 12, 10, 10, 10, 10, 16, 11, 13, 5, 5, 12, 8, 15, 7, 4, 4, 2, 8, 8, 6, 4, 13, 4, 4, 4, 6, 6, 6, 6, 6, 13, 12, 6, 8, 7, 7, 7, 7, 9, 12, 14, 14, 10, 10, 7, 7, 7, 7, 7, 7, 9, 9, 5, 7, 7, 7, 7, 7, 7, 7, 7, 7, 7, 14, 14, 4, 2, 9, 9, 9, 9, 9, 9, 9, 9, 9, 9, 9, 9, 9, 9, 9, 12, 13, 12, 7, 6, 11, 8, 9, 8, 8, 6, 6, 11, 5, 9, 4, 9, 7, 7, 7, 7, 7, 7, 7, 7, 7, 7, 7, 7, 7, 5, 9, 5, 14, 5, 11, 5, 7, 7, 7, 6, 6, 8, 7, 8, 8, 8, 8, 8, 8, 8, 8, 8, 8, 8, 10, 12, 8, 8, 13, 13, 13, 9, 9, 3, 7, 13, 13, 13, 10, 16, 10, 4, 6, 7, 7, 9, 7, 7, 7, 7, 7, 7, 7, 7, 7, 7, 7, 7, 7, 7, 7, 7, 7, 10, 5, 8, 8, 8, 8, 14, 14, 4, 4, 4, 4, 4, 4, 4, 4, 4, 4, 4, 4, 8, 10, 10, 10, 8, 13, 11, 6, 6, 12, 12, 6, 11, 11, 12, 9, 9, 10, 12, 9, 5, 8, 8, 8, 8, 8, 8, 8, 8, 8, 7, 3, 7, 14, 6, 8, 8, 8, 8, 9, 4, 8, 11, 3, 3, 3, 9, 14, 6, 9, 11, 9, 8, 9, 13, 5, 14, 9, 11, 5, 12, 7, 5, 7, 11, 11, 11, 11, 11, 11, 11, 11, 14, 14, 14, 14, 14, 14, 14, 14, 14, 14, 14, 14, 14, 14, 14, 14, 14, 14, 14, 14, 8, 9, 5, 6, 7, 8, 12, 13, 7, 6, 7, 11, 14, 7, 7, 8, 7, 12, 8, 12, 4, 4, 5, 12, 11, 6, 13, 13, 12, 5, 11, 9, 5, 4, 9, 11, 5, 10, 5, 7, 12, 12, 10, 9, 12, 14, 14, 13, 8, 8, 7, 6, 7, 11, 7, 13, 11, 10, 8, 13, 6, 7, 9, 10, 6, 4, 8, 8, 9, 8, 7, 8, 12, 4, 5, 6, 7, 10, 5, 5, 8, 8, 6, 11, 8, 8, 9, 6, 9, 6, 7, 7, 7, 13, 12, 5, 6, 9, 12, 12, 12, 5, 8, 8, 8, 7, 7, 7, 7, 7, 7, 7, 5, 8, 7, 14, 7, 5, 6, 7, 8, 12, 4, 4, 4, 4, 4, 13, 4, 7, 7, 7, 7, 7, 7, 7, 7, 7, 7, 7, 6, 9, 9, 9, 7, 7, 11, 11, 9, 11, 8, 4, 4, 4, 4, 4, 7, 6, 16, 4, 4, 4, 12, 12, 12, 15, 9, 9, 4, 12, 12, 12, 10, 10, 10, 10, 10, 10, 12, 8, 10, 4, 9, 6, 11, 10, 11, 7, 11, 10, 10, 5, 9, 10, 14, 5, 7, 10, 10, 6, 6, 6, 6, 6, 6, 6, 6, 6, 11, 8, 6, 6, 6, 6, 6, 13, 12, 13, 10, 10, 10, 10, 10, 10, 16, 16, 16, 16, 12, 10, 12, 16, 12, 14, 15, 7, 11, 15, 8, 12, 10, 15, 14, 5, 14, 15, 6, 14, 5, 9, 9, 12, 15, 13, 13, 9, 8, 7, 11, 11, 10, 9, 14, 4, 9, 5, 5, 11, 8, 15, 5, 5, 5, 11, 7, 9, 4, 4, 4, 12, 10, 7, 13, 9, 9, 6, 6, 6, 6, 5, 5, 5, 5, 5, 5, 5, 5, 12, 12, 9, 7, 4, 6, 6, 7, 9, 12, 8, 7, 3, 12, 7, 7, 3, 3, 5, 10, 8, 14, 3, 8, 14, 14, 6, 4, 10, 3, 4, 4, 4, 4, 10, 8, 11, 6, 6, 6, 14, 12, 11, 11, 12, 12, 10, 8, 7, 7, 13, 13, 13, 13, 13, 10, 10, 10, 10, 7, 7, 7, 7, 9, 8, 11, 11, 11, 11, 5, 13, 5, 5, 5, 5, 5, 4, 4, 4, 7, 7, 7, 7, 6, 13, 13, 13, 13, 13, 6, 6, 13, 13, 4, 4, 4, 4, 4, 4, 4, 4, 13, 4, 4, 13, 13, 13, 13, 13, 5, 13, 13, 4, 4, 4, 6, 4, 4, 4, 4, 4, 11, 11, 11, 11, 11, 11, 11, 11, 11, 11, 11, 11, 11, 4, 4, 8, 8, 8, 8, 8, 8, 8, 8, 8, 8, 8, 8, 8, 4, 14, 8, 8, 8, 13, 13, 11, 11, 13, 13, 11, 11, 11, 10, 13, 6, 6, 15, 16, 13, 15, 15, 14, 6, 8, 8, 8, 8, 8, 8, 8, 8, 14, 5, 14, 14, 8, 14, 14, 14, 8, 8, 6, 6, 6, 6, 6, 6, 6, 6, 6, 6, 6, 6, 14, 6, 2, 2, 10, 10, 14, 14, 7, 7, 7, 8, 6, 8, 5, 10, 11, 4, 10, 7, 7, 7, 15, 5, 6, 9, 14, 7, 8, 8, 8, 8, 8, 8, 8, 8, 8, 8, 8, 8, 8, 8, 12, 12, 12, 12, 12, 12, 12, 12, 12, 12, 12, 12, 12, 12, 12, 11, 12, 12, 12, 12, 9, 11, 12, 12, 11, 8, 9, 12, 12, 12, 12, 7, 7, 9, 4, 6, 8, 8, 6, 7, 7, 7, 7, 7, 7, 7, 7, 7, 7, 7, 7, 7, 7, 7, 7, 9, 8, 8, 10, 9, 8, 13, 5, 6, 6, 10, 13, 13, 13, 13, 13, 13, 13, 13, 13, 13, 13, 13, 13, 13, 8, 8, 11, 6, 13, 13, 13, 13, 13, 13, 13, 13, 13, 13, 13, 13, 7, 7, 7, 12, 7, 7, 5, 5, 5, 4, 4, 4, 4, 4, 4, 4, 14, 9, 10, 13, 6, 7, 7, 7, 4, 4, 12, 9, 8, 8, 8, 8, 6, 8, 14, 12, 6, 6, 9, 10, 10, 10, 10, 10, 10, 10, 10, 10, 10, 10, 10, 10, 10, 10, 10, 10, 10, 10, 10, 10, 10, 10, 10, 10, 10, 7, 13, 8, 8, 6, 14, 6, 8, 8, 8, 8, 8, 8, 8, 8, 8, 8, 8, 8, 7, 10, 5, 12, 8, 8, 8, 8, 8, 8, 8, 5, 5, 5, 5, 5, 5, 5, 5, 5, 5, 5, 5, 5, 5, 5, 10, 10, 10, 10, 10, 10, 10, 10, 5, 4, 5, 10, 9, 9, 7, 5, 12, 10, 10, 6, 13, 10, 12, 5, 5, 5, 11, 7, 14, 7, 7, 7, 7, 7, 5, 15, 7, 7, 7, 11, 6, 8, 7, 8, 14, 3, 3, 3, 11, 10, 10, 10, 10, 10, 12, 12, 9, 8, 7, 10, 10, 7, 5, 5, 6, 4, 13, 14, 14, 3, 3, 6, 6, 6, 6, 6, 6, 6, 6, 6, 9, 9, 9, 9, 9, 10, 8, 9, 7, 10, 8, 11, 5, 10, 6, 14, 7, 4, 4, 4, 4, 4, 4, 4, 11, 11, 11, 8, 8, 6, 4, 11, 8, 7, 9, 7, 8, 7, 13, 13, 13, 13, 13, 13, 13, 13, 13, 7, 9, 11, 8, 8, 8, 8, 10, 10, 8, 8, 8, 8, 8, 8, 8, 8, 8, 7, 7, 7, 7, 7, 7, 7, 7, 14, 5, 5, 5, 5, 5, 5, 5, 5, 5, 5, 5, 5, 5, 5, 14, 5, 5, 5, 5, 5, 5, 5, 5, 7, 8, 4, 6, 14, 8, 7, 8, 9, 5, 14, 11, 7, 14, 8, 12, 7, 7, 11, 7, 12, 6, 8, 8, 8, 8, 8, 8, 8, 8, 5, 6, 8, 8, 4, 6, 9, 4, 4, 4, 4, 4, 4, 7, 6, 6, 4, 7, 7, 8, 10, 4, 4, 4, 4, 11, 5, 5, 5, 5, 5, 11, 9, 7, 7, 4, 4, 15, 15, 15, 15, 15, 15, 15, 15, 15, 15, 15, 15, 15, 15, 15, 15, 15, 15, 15, 15, 5, 5, 5, 5, 5, 10, 10, 10, 10, 10, 10, 10, 10, 10, 10, 7, 10, 7, 8, 9, 8, 8, 8, 8, 8, 8, 8, 5, 5, 6, 8, 8, 8, 6, 14, 8, 7, 7, 8, 8, 8, 8, 8, 8, 4, 4, 4, 4, 4, 4, 4, 7, 10, 4, 4, 4, 10, 10, 10, 10, 10, 10, 10, 5, 10, 12, 10, 10, 10, 10, 10, 12, 12, 12, 12, 12, 12, 12, 12, 10, 5, 14, 5, 5, 4, 10, 10, 7, 8, 8, 14, 14, 14, 14, 14, 14, 7, 8, 7, 4, 8, 9, 11, 6, 10, 10, 10, 10, 10, 10, 10, 10, 10, 10, 10, 10, 10, 11, 11, 11, 11, 11, 11, 11, 8, 5, 7, 9, 9, 14, 14, 7, 11, 11, 11, 11, 11, 11, 11, 10, 10, 6, 11, 11, 11, 11, 11, 11, 11, 11, 6, 8, 14, 5, 13, 13, 13, 13, 13, 13, 13, 13, 13, 13, 13, 11, 11, 13, 11, 11, 7, 10, 7, 12, 12, 14, 13, 13, 13, 13, 13, 7, 7, 7, 7, 7, 7, 7, 14, 8, 5, 5, 5, 5, 5, 5, 5, 5, 14, 11, 11, 5, 5, 8, 10, 11, 10, 12, 12, 3, 4, 6, 6, 9, 5, 13, 14, 10, 10, 13, 13, 9, 12, 11, 11, 11, 11, 11, 11, 6, 7, 3, 11, 10, 3, 5, 6, 12, 4, 4, 4, 4, 4, 4, 4, 4, 9, 9, 9, 9, 9, 9, 9, 6, 6, 5, 5, 10, 5, 7, 11, 5, 5, 11, 11, 11, 11, 11, 11, 11, 11, 11, 11, 8, 8, 11, 11, 11, 5, 12, 15, 15, 15, 15, 15, 15, 6, 6, 6, 9, 8, 6, 6, 6, 6, 13, 13, 13, 13, 13, 13, 13, 13, 13, 13, 13, 13, 13, 13, 13, 13, 13, 13, 13, 13, 13, 13, 13, 13, 13, 13, 8, 8, 8, 4, 7, 13, 7, 14, 8, 8, 7, 11, 11, 8, 11, 7, 12, 10, 10, 10, 10, 10, 10, 10, 10, 10, 4, 4, 15, 11, 10, 6, 13, 12, 6, 6, 7, 12, 14, 14, 14, 14, 14, 14, 13, 13, 13, 13, 13, 13, 13, 13, 13, 13, 13, 13, 13, 13, 5, 13, 13, 11, 11, 11, 11, 11, 11, 11, 11, 11, 11, 11, 11, 11, 11, 9, 9, 9, 3, 3, 3, 9, 9, 9, 9, 9, 9, 9, 9, 9, 9, 9, 10, 11, 4, 5, 5, 5, 5, 5, 5, 5, 8, 8, 8, 8, 11, 12, 12, 12, 8, 7, 10, 6, 6, 5, 12, 10, 11, 11, 11, 11, 7, 7, 7, 7, 7, 9, 11, 7, 7, 9, 9, 9, 9, 9, 9, 9, 5, 5, 5, 5, 5, 5, 5, 5, 5, 5, 5, 8, 9, 7, 7, 13, 13, 13, 13, 13, 13, 13, 13, 11, 5, 9, 13, 6, 5, 5, 7, 9, 9, 9, 7, 7, 8, 14, 14, 6, 8, 14, 9, 9, 6, 11, 11, 9, 11, 11, 11, 11, 11, 11, 11, 9, 9, 9, 3, 3, 10, 9, 14, 14, 14, 14, 15, 7, 7, 7, 8, 8, 15, 11, 11, 8, 12, 13, 5, 14, 14, 6, 6, 14, 14, 14, 14, 3, 3, 3, 3, 3, 8, 10, 11, 6, 6, 6, 6, 6, 6, 5, 5, 8, 6, 8, 5, 9, 7, 5, 4, 4, 7, 10, 15, 5, 4, 13, 5, 8, 8, 11, 5, 8, 9, 7, 8, 12, 13, 8, 6, 5, 11, 8, 10, 4, 7, 8, 5, 7, 6, 8, 8, 8, 8, 8, 8, 8, 8, 8, 8, 8, 8, 8, 8, 8, 11, 11, 11, 11, 11, 11, 7, 4, 4, 10, 8, 5, 11, 11, 11, 11, 11, 11, 11, 12, 11, 11, 9, 5, 11, 5, 5, 8, 8, 11, 11, 11, 11, 11, 11, 8, 8, 11, 7, 7, 7, 7, 7, 7, 9, 7, 7, 11, 5, 8, 3, 6, 7, 14, 4, 11, 11, 11, 11, 11, 11, 14, 3, 5, 11, 11, 11, 11, 11, 11, 11, 11, 9, 10, 7, 6, 6, 6, 10, 7, 7, 7, 7, 7, 7, 7, 11, 11, 9, 5, 11, 11, 11, 11, 11, 11, 11, 11, 11, 11, 11, 11, 11, 11, 13, 13, 12, 9, 9, 11, 11, 11, 7, 5, 12, 5, 11, 11, 11, 11, 11, 11, 11, 12, 11, 11, 11, 6, 5, 7, 8, 7, 10, 12, 14, 14, 4, 5, 10, 8, 10, 8, 10, 11, 11, 10, 10, 10, 2, 11, 11, 11, 11, 11, 5, 5, 5, 5, 5, 5, 5, 7, 7, 9, 9, 9, 9, 9, 9, 9, 9, 9, 8, 8, 12, 6, 8, 8, 9, 9, 9, 8, 8, 10, 12, 11, 10, 9, 9, 9, 9, 9, 9, 9, 6, 6, 6, 6, 7, 3, 5, 5, 10, 9, 14, 5, 10, 11, 6, 6, 6, 6, 8, 7, 7, 7, 7, 7, 7, 7, 9, 8, 7, 7, 3, 11, 6, 10, 10, 11, 11, 2, 5, 9, 11, 15, 15, 10, 10, 10, 10, 10, 10, 10, 10, 10, 10, 10, 12, 12, 15, 14, 4, 10, 10, 12, 12, 12, 12, 12, 12, 11, 7, 7, 7, 7, 12, 9, 9, 9, 9, 9, 9, 9, 9, 4, 9, 8, 14, 14, 10, 4, 12, 9, 9, 9, 9, 9, 9, 9, 9, 9, 9, 9, 9, 12, 12, 12, 12, 12, 12, 9, 9, 10, 10, 10, 11, 11, 11, 11, 11, 11, 11, 11, 11, 11, 11, 11, 11, 9, 3, 11, 11, 7, 9, 13, 7, 12, 5, 4, 11, 8, 9, 9, 9, 9, 9, 9, 9, 9, 9, 5, 8, 8, 8, 11, 3, 5, 7, 7, 7, 8, 6, 10, 7, 7, 7, 7, 7, 7, 5, 5, 12, 12, 12, 12, 12, 12, 12, 12, 12, 6, 6, 6, 6, 6, 8, 7, 6, 9, 9, 9, 6, 8, 8, 8, 8, 8, 8, 8, 8, 14, 8, 9, 12, 7, 8, 14, 14, 14, 14, 15, 15, 4, 4, 4, 8, 8, 10, 10, 10, 10, 10, 4, 5, 5, 11, 8, 5, 6, 14, 5, 5, 10, 10, 10, 10, 10, 10, 10, 12, 12, 12, 12, 12, 12, 12, 12, 12, 12, 12, 12, 12, 12, 12, 12, 12, 12, 12, 5, 8, 8, 6, 8, 8, 13, 10, 7, 4, 9, 9, 9, 9, 9, 9, 9, 9, 9, 9, 9, 9, 9, 9, 9, 9, 9, 9, 14, 7, 7, 14, 11, 7, 4, 4, 6, 5, 5, 5, 5, 6, 6, 6, 6, 11, 11, 13, 7, 4, 5, 3, 6, 6, 6, 6, 6, 6, 13, 6, 6, 6, 6, 15, 15, 15, 15, 15, 15, 15, 15, 15, 8, 8, 3, 5, 7, 7, 7, 8, 8, 8, 6, 6, 4, 12, 5, 7, 6, 6, 4, 9, 6, 6, 5, 6, 10, 9, 10, 13, 13, 13, 13, 13, 13, 13, 13, 13, 13, 5, 5, 5, 5, 5, 5, 5, 5, 5, 5, 5, 11, 11, 14, 6, 5, 9, 5, 5, 5, 13, 11, 11, 11, 11, 11, 11, 11, 11, 11, 5, 5, 9, 9, 13, 13, 13, 13, 7, 13, 13, 13, 13, 13, 7, 5, 12, 10, 12, 7, 7, 7, 7, 7, 7, 7, 7, 7, 7, 7, 7, 7, 7, 7, 10, 10, 10, 10, 10, 10, 10, 10, 10, 10, 10, 10, 10, 10, 10, 10, 10, 10, 10, 10, 10, 10, 10, 10, 10, 12, 12, 14, 11, 8, 14, 5, 4, 4, 4, 4, 4, 10, 6, 9, 9, 11, 7, 7, 7, 11, 13, 8, 10, 9, 9, 9, 9, 9, 9, 9, 9, 6, 6, 6, 6, 6, 6, 6, 6, 6, 6, 6, 6, 6, 5, 5, 13, 10, 5, 5, 5, 5, 5, 3, 3, 3, 3, 5, 5, 6, 3, 7, 7, 7, 7, 7, 7, 7, 7, 7, 7, 7, 7, 7, 7, 7, 7, 7, 7, 7, 11, 8, 7, 7, 7, 3, 3, 9, 8, 13, 8, 6, 12, 3, 3, 12, 12, 12, 12, 12, 12, 12, 12, 12, 12, 12, 12, 12, 12, 9, 7, 10, 8, 14, 4, 4, 10, 7, 7, 7, 7, 7, 8, 8, 7, 12, 11, 7, 7, 7, 6, 6, 6, 6, 9, 6, 9, 6, 6, 11, 12, 10, 8, 14, 6, 5, 5, 5, 5, 9, 13, 3, 6, 6, 6, 6, 14, 6, 6, 14, 7, 7, 10, 10, 8, 5, 5, 3, 6, 4, 5, 8, 8, 8, 8, 8, 8, 8, 4, 4, 4, 4, 4, 4, 4, 6, 6, 16, 16, 16, 16, 16, 16, 16, 10, 11, 10, 9, 13, 3, 4, 14, 8, 8, 14, 5, 5, 5, 5, 5, 5, 5, 5, 5, 5, 5, 5, 7, 7, 7, 11, 9, 12, 12, 6, 6, 7, 7, 10, 10, 12, 7, 10, 10, 10, 7, 7, 7, 7, 7, 7, 7, 7, 7, 7, 7, 7, 12, 11, 7, 10, 2, 9, 9, 9, 9, 8, 9, 4, 7, 9, 6, 8, 7, 7, 14, 14, 9, 9, 12, 3, 12, 7, 8, 8, 8, 4, 11, 11, 11, 11, 11, 5, 5, 5, 3, 9, 7, 7, 5, 5, 5, 5, 5, 5, 5, 5, 5, 5, 12, 7, 8, 11, 7, 11, 12, 5, 16, 10, 11, 8, 14, 10, 6, 14, 13, 14, 8, 11, 15, 7, 9, 5, 7, 6, 6, 6, 6, 6, 6, 10, 6, 6, 6, 6, 8, 8, 8, 8, 8, 8, 5, 9, 4, 8, 5, 6, 14, 8, 8, 6, 6, 6, 6, 6, 6, 6, 6, 6, 6, 6, 9, 9, 3, 8, 9, 9, 9, 9, 9, 9, 9, 9, 9, 9, 9, 9, 9, 9, 9, 9, 9, 5, 5, 12, 8, 13, 10, 5, 7, 7, 7, 7, 7, 7, 7, 7, 7, 4, 9, 12, 8, 7, 7, 7, 7, 8, 8, 8, 8, 8, 8, 9, 12, 12, 7, 4, 7, 7, 8, 10, 12, 12, 8, 6, 8, 8, 8, 11, 8, 8, 8, 8, 8, 14, 5, 14, 5, 8, 10, 12, 12, 12, 9, 8, 7, 14, 11, 4, 4, 4, 4, 4, 4, 4, 4, 9, 6, 5, 9, 10, 10, 5, 14, 14, 12, 16, 11, 12, 4, 9, 14, 4, 11, 8, 9, 10, 11, 11, 11, 11, 11, 7, 11, 7, 7, 4, 4, 4, 11, 6, 11, 7, 8, 9, 7, 7, 10, 6, 11, 15, 15, 15, 15, 15, 15, 15, 12, 10, 12, 8, 15, 15, 7, 15, 15, 15, 15, 15, 15, 15, 15, 15, 15, 15, 15, 3, 11, 8, 5, 5, 7, 5, 5, 13, 7, 12, 15, 15, 8, 13, 8, 5, 5, 5, 5, 5, 14, 14, 14, 14, 14, 14, 14, 14, 14, 14, 8, 5, 9, 11, 11, 12, 6, 10, 8, 6, 8, 10, 12, 12, 11, 4, 10, 4, 10, 15, 15, 8, 11, 13, 13, 12, 11, 9, 14, 14, 14, 14, 14, 14, 10, 10, 10, 10, 10, 10, 10, 10, 10, 10, 10, 11, 10, 4, 10, 7, 7, 5, 10, 9, 9, 12, 5, 12, 14, 13, 8, 6, 8, 4, 4, 4, 4, 6, 6, 6, 10, 10, 11, 9, 6, 5, 8, 7, 10, 11, 11, 8, 11, 6, 10, 6, 8, 10, 6, 10, 8, 12, 9, 6, 8, 14, 7, 10, 10, 10, 10, 10, 10, 10, 10, 10, 10, 10, 8, 7, 8, 4, 4, 4, 4, 4, 11, 12, 9, 10, 12, 5, 5, 6, 4, 11, 11, 6, 10, 12, 13, 14, 3, 6, 6, 6, 6, 6, 6, 6, 11, 11, 11, 11, 11, 11, 11, 8, 10, 10, 10, 5, 11, 12, 11, 7, 8, 9, 14, 10, 9, 10, 9, 5, 5, 10, 7, 8, 4, 7, 11, 10, 10, 7, 7, 7, 7, 7, 13, 3, 10, 7, 7, 7, 7, 7, 7, 10, 8, 7, 11, 12, 15, 15, 7, 10, 8, 4, 7, 12, 14, 13, 9, 9, 9, 9, 9, 9, 9, 9, 9, 9, 9, 9, 9, 16, 9, 7, 7, 6, 11, 7, 9, 8, 3, 11, 5, 10, 11, 14, 8, 8, 10, 7, 10, 11, 5, 6, 14, 14, 14, 14, 14, 14, 14, 14, 14, 14, 9, 8, 9, 9, 6, 8, 7, 10, 6, 14, 14, 14, 14, 10, 7, 7, 10, 10, 10, 10, 13, 14, 14, 13, 13, 15, 7, 5, 5, 5, 10, 10, 12, 12, 8, 15, 11, 6, 6, 9, 7, 7, 7, 8, 9, 9, 9, 9, 9, 9, 9, 9, 9, 5, 5, 11, 11, 13, 9, 9, 9, 9, 9, 9, 9, 9, 7, 7, 7, 7, 7, 7, 7, 7, 7, 7, 11, 7, 7, 7, 7, 7, 8, 8, 8, 8, 8, 8, 8, 12, 7, 6, 8, 8, 8, 8, 8, 8, 8, 9, 9, 9, 9, 6, 11, 11, 12, 9, 7, 8, 10, 16, 14, 9, 9, 9, 9, 9, 14, 14, 14, 14, 14, 14, 12, 9, 9, 10, 6, 2, 10, 7, 9, 9, 9, 11, 11, 11, 11, 6, 6, 10, 8, 9, 9, 9, 9, 5, 11, 8, 8, 7, 8, 8, 6, 10, 10, 10, 10, 10, 10, 10, 10, 10, 10, 10, 13, 4, 11, 11, 5, 14, 5, 4, 6, 6, 12, 12, 6, 4, 4, 4, 4, 4, 4, 4, 4, 7, 10, 10, 10, 10, 7, 7, 7, 7, 7, 7, 7, 7, 7, 7, 7, 3, 8, 6, 6, 8, 10, 10, 8, 9, 12, 8, 8, 6, 6, 6, 6, 14, 9, 9, 6, 6, 6, 6, 6, 6, 9, 5, 6, 6, 4, 4, 4, 4, 4, 4, 4, 6, 6, 11, 11, 11, 11, 11, 11, 11, 11, 11, 11, 11, 3, 3, 3, 3, 13, 10, 14, 8, 12, 13, 13, 16, 11, 7, 4, 4, 4, 4, 4, 4, 4, 10, 10, 10, 10, 10, 10, 10, 10, 10, 10, 10, 10, 10, 10, 10, 10, 10, 10, 10, 10, 10, 10, 10, 10, 10, 5, 14, 14, 10, 10, 9, 10, 10, 10, 10, 10, 10, 10, 10, 10, 11, 7, 15, 7, 8, 4, 13, 6, 13, 14, 14, 6, 12, 7, 9, 7, 7, 7, 7, 7, 7, 7, 7, 13, 3, 15, 15, 15, 15, 15, 15, 6, 7, 12, 11, 11, 11, 13, 11, 13, 9, 11, 11, 10, 13, 8, 12, 5, 8, 5, 11, 10, 10, 8, 12, 5, 5, 5, 6, 3, 8, 12, 9, 9, 10, 10, 8, 8, 8, 8, 8, 14, 14, 14, 14, 14, 14, 12, 6, 4, 10, 10, 10, 10, 7, 8, 7, 8, 3, 3, 9, 4, 11, 6, 8, 8, 8, 4, 8, 9, 9, 9, 9, 9, 9, 9, 9, 5, 9, 9, 4, 4, 4, 4, 4, 11, 8, 12, 12, 4, 4, 4, 4, 4, 4, 12, 8, 5, 5, 5, 4, 4, 4, 4, 6, 6, 6, 6, 6, 6, 6, 8, 5, 12, 7, 15, 8, 8, 8, 8, 8, 8, 8, 8, 8, 8, 12, 12, 12, 12, 12, 9, 12, 7, 12, 12, 12, 12, 12, 12, 12, 12, 12, 12, 12, 9, 9, 9, 9, 9, 9, 9, 9, 9, 9, 9, 9, 9, 8, 7, 10, 5, 4, 9, 9, 5, 5, 5, 5, 5, 4, 12, 5, 5, 5, 8, 8, 8, 8, 8, 14, 5, 5, 8, 8, 10, 6, 7, 7, 12, 5, 9, 13, 12, 12, 8, 7, 7, 7, 8, 8, 8, 8, 8, 8, 8, 8, 8, 8, 8, 5, 8, 8, 14, 14, 7, 8, 8, 8, 8, 8, 8, 4, 4, 4, 4, 4, 4, 4, 4, 4, 4, 9, 9, 9, 9, 9, 9, 9, 9, 9, 7, 9, 10, 10, 12, 12, 10, 9, 9, 9, 12, 12, 12, 12, 12, 12, 12, 12, 12, 12, 12, 10, 10, 10, 10, 10, 10, 10, 10, 10, 10, 10, 10, 10, 10, 10, 10, 8, 7, 8, 14, 10, 11, 10, 14, 14, 14, 14, 11, 10, 10, 10, 10, 10, 10, 11, 11, 4, 4, 4, 4, 9, 9, 15, 5, 7, 12, 9, 9, 9, 13, 6, 9, 9, 9, 9, 9, 9, 9, 9, 9, 11, 11, 11, 11, 11, 14, 14, 14, 14, 14, 14, 14, 14, 14, 14, 14, 14, 14, 14, 14, 14, 14, 14, 8, 8, 11, 16, 7, 13, 13, 13, 13, 4, 10, 12, 12, 8, 7, 11, 9, 12, 12, 12, 15, 10, 12, 13, 7, 15, 12, 12, 12, 12, 11, 4, 15, 15, 7, 12, 12, 12, 12, 12, 12, 12, 12, 12, 12, 12, 12, 12, 9, 9, 11, 7, 4, 4, 4, 7, 7, 7, 7, 7, 11, 10, 10, 14, 15, 4, 15, 7, 6, 6, 5, 5, 7, 9, 6, 6, 6, 6, 6, 6, 6, 6, 6, 6, 6, 12, 7, 4, 7, 7, 5, 7, 6, 6, 14, 8, 8, 14, 12, 11, 11, 11, 13, 12, 4, 10, 9, 6, 9, 11, 13, 12, 4, 11, 12, 12, 11, 11, 5, 11, 11, 11, 11, 11, 11, 11, 11, 11, 11, 11, 12, 5, 6, 10, 10, 7, 11, 12, 5, 5, 13, 10, 9, 8, 10, 10, 10, 10, 10, 10, 10, 10, 10, 10, 10, 10, 10, 10, 10, 6, 13, 6, 10, 10, 10, 10, 10, 10, 5, 5, 5, 5, 5, 12, 8, 5, 7, 7, 14, 14, 5, 5, 5, 5, 5, 5, 5, 5, 5, 5, 14, 14, 14, 14, 14, 14, 14, 14, 14, 14, 14, 6, 14, 14, 10, 12, 11, 14, 14, 14, 14, 7, 11, 4, 14, 14, 14, 14, 14, 14, 14, 7, 10, 10, 6, 6, 6, 4, 9, 4, 10, 10, 10, 10, 10, 10, 10, 13, 9, 12, 11, 11, 6, 14, 10, 10, 10, 10, 10, 10, 10, 10, 10, 10, 10, 9, 9, 9, 9, 9, 9, 9, 9, 9, 9, 9, 9, 9, 9, 9, 9, 3, 14, 6, 3, 6, 11, 11, 11, 11, 11, 11, 11, 11, 11, 11, 11, 11, 11, 11, 11, 11, 11, 11, 11, 11, 8, 8, 8, 8, 10, 12, 10, 8, 11, 11, 11, 11, 9, 9, 10, 9, 11, 4, 13, 9, 6, 6, 15, 8, 12, 11, 11, 11, 11, 11, 11, 11, 11, 11, 11, 11, 11, 11, 11, 11, 11, 11, 11, 14, 4, 10, 11, 13, 10, 10, 10, 13, 7, 7, 7, 7, 7, 7, 7, 7, 7, 7, 7, 7, 7, 7, 7, 7, 7, 7, 8, 8, 12, 14, 2, 7, 7, 8, 9, 5, 8, 6, 6, 6, 6, 6, 6, 6, 6, 6, 5, 5, 5, 5, 6, 13, 11, 12, 11, 11, 10, 5, 5, 5, 5, 5, 5, 10, 10, 10, 10, 10, 10, 9, 13, 9, 7, 8, 6, 10, 10, 10, 10, 10, 10, 10, 10, 10, 10, 10, 10, 10, 10, 10, 10, 10, 10, 5, 5, 5, 5, 5, 9, 6, 12, 10, 4, 11, 11, 16, 12, 11, 11, 11, 11, 11, 11, 11, 4, 4, 4, 4, 4, 4, 9, 9, 9, 9, 16, 14, 12, 8, 7, 9, 7, 12, 11, 6, 6, 11, 6, 7, 12, 4, 12, 4, 10, 14, 4, 4, 4, 4, 4, 4, 4, 7, 5, 5, 5, 6, 6, 11, 13, 3, 3, 3, 3, 13, 11, 3, 3, 3, 3, 3, 3, 3, 12, 7, 6, 3, 8, 8, 8, 8, 8, 8, 10, 14, 9, 12, 8, 3, 7, 8, 8, 8, 8, 8, 8, 8, 8, 8, 8, 9, 9, 9, 16, 10, 11, 6, 10, 9, 9, 9, 9, 9, 12, 6, 12, 12, 11, 5, 8, 9, 9, 9, 9, 9, 9, 9, 9, 9, 9, 8, 6, 11, 11, 11, 11, 6, 11, 6, 14, 14, 14, 6, 6, 14, 8, 11, 12, 14, 14, 6, 8, 6, 7, 7, 10, 13, 14, 7, 14, 14, 14, 7, 7, 7, 7, 7, 7, 7, 8, 12, 8, 7, 15, 10, 12, 7, 7, 7, 7, 7, 6, 6, 6, 6, 6, 6, 6, 12, 12, 6, 13, 9, 3, 10, 4, 6, 11, 9, 4, 8, 10, 10, 9, 6, 12, 6, 12, 10, 5, 6, 12, 14, 14, 6, 9, 7, 7, 9, 10, 10, 14, 14, 14, 14, 14, 14, 14, 14, 14, 14, 14, 14, 14, 14, 14, 14, 12, 10, 10, 11, 14, 12, 12, 10, 10, 14, 13, 10, 7, 7, 7, 7, 7, 7, 7, 7, 7, 7, 7, 7, 12, 11, 11, 11, 12, 11, 10, 14, 14, 7, 7, 7, 6, 4, 7, 5, 6, 13, 7, 13, 14, 7, 10, 9, 4, 12, 4, 11, 12, 7, 11, 7, 6, 6, 6, 7, 6, 6, 6, 6, 6, 6, 6, 6, 6, 6, 6, 6, 7, 9, 7, 11, 9, 14, 10, 12, 6, 8, 10, 6, 14, 5, 13, 11, 10, 14, 10, 13, 15, 7, 6, 12, 14, 8, 8, 14, 11, 8, 8, 8, 8, 8, 12, 4, 13, 11, 11, 11, 11, 11, 11, 11, 11, 6, 4, 5, 6, 8, 8, 8, 8, 10, 8, 8, 8, 8, 5, 8, 6, 6, 9, 6, 6, 7, 11, 9, 8, 8, 8, 8, 13, 5, 13, 9, 9, 7, 12, 12, 12, 12, 8, 11, 9, 6, 11, 11, 8, 3, 5, 8, 8, 5, 5, 5, 5, 5, 5, 5, 5, 5, 5, 4, 11, 3, 3, 3, 3, 8, 9, 6, 6, 3, 3, 3, 3, 9, 9, 9, 9, 9, 13, 6, 11, 7, 12, 14, 7, 13, 9, 10, 10, 8, 11, 10, 6, 4, 5, 5, 5, 6, 5, 11, 5, 5, 5, 8, 8, 8, 8, 7, 12, 13, 12, 6, 6, 8, 8, 6, 8, 11, 8, 8, 8, 4, 12, 9, 5, 5, 4, 7, 4, 14, 7, 7, 14, 11, 7, 7, 7, 7, 7, 7, 7, 7, 7, 7, 7, 7, 7, 7, 7, 8, 8, 8, 11, 11, 11, 9, 8, 6, 10, 10, 12, 5, 8, 8, 7, 10, 10, 5, 5, 12, 7, 3, 5, 5, 5, 13, 8, 8, 8, 5, 15, 5, 10, 12, 12, 12, 12, 12, 12, 12, 5, 5, 12, 8, 8, 5, 5, 7, 4, 9, 12, 8, 9, 6, 3, 5, 9, 10, 10, 10, 13, 10, 10, 6, 6, 3, 8, 7, 6, 12, 6, 5, 5, 10, 10, 10, 10, 10, 10, 10, 7, 7, 8, 7, 13, 6, 10, 10, 5, 3, 3, 5, 9, 8, 10, 9, 9, 13, 3, 6, 12, 6, 7, 10, 10, 7, 12, 6, 6, 6, 6, 6, 7, 8, 9, 5, 6, 6, 6, 5, 5, 5, 5, 5, 5, 8, 8, 8, 7, 8, 8, 8, 8, 8, 8, 8, 14, 14, 14, 14, 14, 14, 14, 14, 14, 14, 14, 14, 14, 14, 14, 14, 7, 7, 7, 4, 7, 3, 5, 7, 9, 10, 10, 7, 9, 10, 11, 13, 10, 7, 12, 8, 5, 5, 5, 5, 10, 10, 10, 10, 4, 12, 5, 8, 14, 11, 10, 10, 10, 10, 10, 10, 11, 9, 7, 9, 6, 4, 14, 8, 6, 9, 9, 9, 9, 3, 8, 6, 12, 12, 9, 7, 6, 15, 10, 15, 11, 14, 12, 8, 15, 11, 4, 14, 12, 7, 7, 7, 5, 5, 5, 5, 5, 5, 5, 5, 5, 5, 5, 5, 5, 5, 6, 6, 6, 6, 8, 4, 7, 8, 6, 5, 8, 8, 12, 12, 12, 12, 12, 12, 12, 12, 5, 8, 10, 8, 6, 5, 5, 7, 5, 5, 5, 8, 8, 7, 12, 11, 9, 11, 10, 14, 8, 8, 8, 11, 11, 11, 11, 11, 11, 11, 11, 11, 11, 11, 11, 11, 11, 11, 11, 12, 9, 5, 5, 9, 5, 14, 11, 10, 7, 11, 9, 11, 16, 11, 6, 7, 14, 14, 7, 7, 7, 7, 7, 7, 7, 7, 14, 8, 7, 8, 11, 13, 13, 7, 6, 4, 14, 15, 9, 6, 12, 12, 11, 3, 7, 9, 10, 10, 10, 10, 10, 6, 8, 5, 12, 8, 14, 10, 10, 10, 10, 10, 10, 10, 10, 10, 9, 10, 14, 13, 13, 13, 13, 12, 9, 13, 13, 13, 13, 13, 13, 8, 14, 7, 6, 12, 6, 6, 13, 9, 4, 4, 9, 8, 4, 8, 8, 8, 8, 8, 8, 8, 11, 5, 14, 8, 9, 8, 8, 8, 8, 15, 15, 14, 14, 14, 14, 14, 14, 14, 14, 14, 14, 14, 10, 4, 4, 14, 14, 9, 14, 8, 8, 6, 12, 8, 14, 14, 14, 7, 7, 7, 7, 11, 6, 10, 10, 7, 7, 7, 7, 7, 6, 6, 6, 6, 6, 6, 6, 7, 10, 14, 7, 10, 9, 9, 6, 8, 8, 8, 8, 11, 9, 4, 9, 8, 11, 7, 6, 4, 12, 12, 11, 11, 4, 4, 4, 4, 8, 8, 6, 6, 6, 6, 11, 6, 11, 10, 8, 10, 10, 10, 4, 6, 7, 7, 6, 9, 12, 12, 6, 6, 8, 14, 11, 8, 8, 10, 10, 8, 8, 8, 8, 8, 8, 8, 8, 8, 16, 16, 16, 16, 16, 16, 16, 16, 16, 16, 16, 16, 16, 14, 5, 5, 5, 5, 7, 7, 7, 7, 7, 6, 7, 7, 7, 9, 6, 6, 6, 15, 10, 6, 6, 6, 6, 6, 6, 6, 6, 6, 10, 7, 7, 6, 11, 10, 12, 7, 12, 12, 5, 4, 4, 13, 13, 13, 13, 13, 13, 12, 8, 5, 9, 7, 7, 14, 14, 13, 13, 6, 13, 4, 13, 10, 13, 13, 11, 11, 11, 6, 10, 6, 8, 8, 15, 15, 15, 13, 13, 13, 13, 13, 13, 13, 13, 13, 13, 13, 13, 13, 13, 10, 11, 11, 11, 9, 9, 14, 14, 6, 5, 5, 5, 5, 11, 4, 11, 9, 6, 5, 5, 5, 5, 5, 5, 5, 5, 5, 5, 13, 5, 7, 5, 5, 5, 5, 5, 10, 10, 10, 10, 10, 10, 10, 10, 10, 10, 13, 12, 11, 14, 10, 10, 10, 9, 7, 3, 3, 3, 3, 3, 3, 3, 3, 3, 3, 3, 3, 3, 16, 16, 16, 6, 5, 12, 12, 12, 12, 12, 12, 12, 12, 12, 12, 12, 8, 12, 12, 13, 13, 13, 13, 13, 13, 13, 13, 13, 13, 13, 13, 13, 13, 13, 10, 14, 10, 16, 16, 13, 9, 12, 12, 12, 13, 13, 13, 13, 13, 13, 13, 4, 4, 4, 4, 4, 10, 10, 12, 4, 12, 6, 3, 6, 10, 10, 11, 8, 13, 10, 10, 10, 10, 10, 10, 10, 10, 10, 10, 10, 13, 10, 10, 10, 11, 5, 8, 5, 13, 8, 12, 12, 13, 9, 12, 6, 14, 11, 11, 11, 14, 11, 10, 7, 8, 7, 5, 10, 10, 10, 10, 10, 10, 10, 10, 12, 10, 10, 9, 10, 12, 13, 13, 11, 10, 10, 8, 12, 6, 6, 9, 9, 9, 10, 10, 12, 12, 9, 12, 6, 10, 9, 12, 12, 12, 12, 12, 12, 11, 11, 11, 11, 11, 11, 11, 11, 11, 11, 11, 11, 11, 11, 11, 11, 8, 14, 9, 11, 11, 11, 11, 11, 11, 11, 11, 11, 11, 11, 6, 6, 6, 6, 6, 6, 6, 6, 6, 6, 6, 6, 8, 8, 8, 8, 8, 8, 6, 13, 9, 9, 12, 8, 8, 8, 8, 3, 3, 3, 7, 7, 7, 7, 9, 8, 6, 7, 7, 7, 7, 7, 7, 7, 7, 7, 7, 7, 7, 7, 7, 11, 6, 5, 10, 6, 6, 6, 6, 6, 5, 11, 8, 10, 7, 8, 6, 6, 6, 6, 6, 8, 4, 11, 3, 5, 7, 8, 8, 8, 13, 13, 13, 13, 13, 13, 13, 13, 13, 13, 6, 6, 12, 8, 14, 13, 8, 4, 14, 10, 13, 13, 13, 13, 7, 13, 13, 5, 9, 8, 11, 7, 5, 14, 7, 7, 5, 8, 15, 3, 14, 14, 14, 14, 14, 14, 14, 14, 14, 14, 14, 14, 8, 14, 14, 14, 14, 14, 14, 12, 9, 12, 12, 14, 4, 12, 12, 12, 12, 12, 12, 11, 11, 11, 3, 6, 6, 10, 9, 5, 5, 12, 11, 9, 6, 6, 13, 13, 6, 4, 11, 11, 4, 8, 7, 6, 11, 11, 11, 11, 11, 11, 10, 10, 10, 10, 10, 10, 9, 9, 9, 9, 9, 9, 9, 14, 11, 9, 9, 8, 13, 5, 7, 7, 7, 7, 7, 7, 7, 3, 3, 3, 10, 10, 10, 10, 10, 10, 10, 10, 10, 10, 10, 10, 10, 5, 10, 6, 5, 5, 5, 5, 5, 5, 5, 7, 4, 9, 12, 11, 10, 8, 9, 6, 11, 9, 6, 9, 11, 14, 12, 12, 12, 12, 6, 8, 13, 13, 16, 7, 8, 13, 15, 14, 7, 8, 11, 7, 7, 7, 7, 7, 7, 7, 15, 9, 14, 6, 11, 5, 11, 4, 4, 4, 4, 4, 10, 13, 11, 4, 4, 5, 9, 16, 16, 16, 13, 9, 10, 7, 9, 16, 16, 16, 16, 16, 16, 16, 16, 16, 16, 16, 16, 16, 16, 16, 16, 16, 16, 16, 16, 16, 16, 16, 16, 12, 12, 12, 12, 12, 12, 5, 12, 12, 12, 8, 7, 7, 7, 6, 6, 14, 11, 9, 5, 7, 3, 8, 7, 11, 13, 11, 11, 11, 7, 12, 11, 7, 10, 14, 14, 5, 9, 5, 11, 10, 6, 4, 9, 12, 12, 5, 7, 12, 9, 7, 9, 11, 11, 14, 9, 11, 7, 7, 14, 14, 14, 14, 14, 14, 6, 8, 7, 9, 9, 14, 9, 14, 11, 10, 14, 8, 12, 11, 11, 9, 12, 5, 6, 13, 5, 5, 13, 10, 10, 7, 11, 7, 10, 13, 13, 13, 13, 13, 13, 13, 10, 6, 12, 9, 6, 4, 5, 8, 9, 9, 9, 9, 10, 6, 9, 7, 11, 9, 9, 9, 9, 9, 5, 5, 5, 5, 5, 10, 5, 5, 5, 5, 5, 5, 5, 6, 11, 14, 7, 4, 6, 10, 9, 8, 7, 7, 11, 15, 15, 15, 15, 15, 15, 15, 15, 15, 7, 7, 14, 7, 8, 11, 10, 11, 6, 12, 5, 6, 6, 11, 11, 11, 11, 11, 11, 11, 11, 11, 11, 11, 11, 11, 11, 6, 12, 9, 5, 10, 5, 10, 3, 11, 11, 11, 7, 6, 6, 6, 8, 5, 12, 12, 12, 12, 12, 12, 12, 12, 12, 12, 12, 12, 12, 12, 12, 12, 12, 12, 11, 10, 14, 12, 12, 12, 12, 12, 12, 12, 12, 12, 12, 12, 12, 12, 12, 12, 12, 12, 12, 12, 8, 8, 9, 14, 8, 8, 5, 5, 14, 6, 10, 6, 10, 5, 5, 5, 5, 5, 5, 2, 6, 5, 14, 15, 15, 15, 15, 15, 15, 15, 15, 15, 15, 5, 7, 8, 9, 6, 15, 15, 15, 15, 15, 15, 15, 13, 13, 13, 13, 13, 13, 13, 13, 13, 13, 13, 15, 15, 15, 15, 15, 15, 15, 15, 5, 5, 5, 5, 5, 5, 5, 5, 5, 5, 5, 5, 3, 3, 4, 5, 8, 6, 13, 10, 10, 10, 10, 10, 10, 11, 10, 11, 6, 10, 10, 6, 6, 4, 8, 8, 10, 12, 12, 12, 12, 12, 10, 12, 12, 12, 12, 13, 6, 14, 13, 5, 5, 5, 5, 5, 5, 5, 9, 9, 9, 9, 9, 9, 12, 7, 13, 13, 5, 14, 6, 12, 12, 14, 13, 8, 9, 9, 9, 9, 9, 9, 9, 9, 9, 9, 9, 9, 9, 8, 8, 8, 8, 8, 8, 8, 8, 8, 8, 8, 8, 14, 14, 14, 14, 14, 14, 14, 14, 14, 14, 14, 14, 14, 14, 14, 14, 14, 14, 14, 14, 14, 14, 14, 14, 14, 10, 6, 8, 8, 8, 8, 12, 13, 13, 13, 13, 13, 13, 8, 11, 13, 13, 13, 7, 11, 11, 13, 7, 7, 11, 11, 5, 6, 7, 6, 8, 8, 6, 8, 14, 12, 12, 4, 4, 4, 9, 7, 7, 4, 2, 11, 8, 8, 10, 10, 11, 4, 14, 10, 3, 11, 11, 8, 5, 7, 7, 7, 8, 5, 4, 4, 11, 11, 11, 11, 11, 5, 12, 12, 12, 12, 12, 10, 10, 7, 14, 5, 5, 8, 3, 5, 5, 10, 5, 4, 10, 5, 12, 12, 12, 14, 11, 15, 15, 15, 11, 7, 7, 7, 10, 10, 12, 7, 11, 11, 11, 11, 11, 11, 11, 9, 11, 11, 11, 6, 8, 3, 3, 7, 8, 4, 15, 12, 15, 12, 5, 9, 9, 9, 9, 9, 9, 9, 9, 9, 9, 9, 9, 9, 9, 9, 9, 9, 5, 5, 5, 5, 5, 5, 5, 5, 6, 9, 6, 9, 7, 11, 3, 7, 15, 12, 11, 6, 6, 8, 8, 6, 13, 13, 13, 11, 11, 11, 11, 11, 11, 11, 11, 5, 5, 10, 11, 8, 10, 8, 11, 8, 8, 8, 7, 7, 7, 4, 12, 12, 12, 9, 7, 7, 9, 9, 14, 8, 8, 8, 8, 14, 8, 8, 8, 8, 8, 8, 8, 8, 8, 8, 8, 8, 8, 8, 8, 8, 14, 13, 4, 14, 5, 7, 7, 7, 7, 4, 6, 4, 8, 6, 8, 8, 8, 9, 8, 8, 14, 14, 4, 13, 14, 9, 11, 11, 11, 11, 11, 11, 11, 11, 11, 11, 11, 11, 11, 11, 9, 9, 9, 6, 6, 11, 3, 9, 10, 10, 10, 10, 10, 3, 3, 3, 4, 4, 9, 9, 5, 8, 7, 11, 10, 7, 12, 13, 12, 12, 12, 12, 12, 12, 12, 12, 12, 12, 12, 12, 12, 12, 12, 12, 12, 14, 14, 14, 14, 14, 14, 13, 4, 5, 14, 14, 15, 5, 10, 12, 14, 10, 10, 6, 6, 15, 8, 10, 10, 10, 10, 10, 10, 10, 10, 10, 10, 10, 10, 10, 9, 9, 11, 11, 4, 15, 15, 15, 15, 9, 5, 8, 5, 11, 8, 4, 8, 15, 8, 15, 15, 15, 15, 15, 12, 12, 8, 14, 6, 4, 14, 14, 14, 14, 14, 14, 14, 14, 14, 6, 10, 10, 9, 6, 5, 6, 13, 14, 14, 14, 14, 14, 14, 14, 15, 15, 15, 15, 15, 15, 15, 15, 15, 12, 7, 15, 15, 15, 12, 8, 11, 11, 10, 6, 10, 4, 10, 5, 11, 7, 8, 10, 10, 10, 10, 10, 7, 7, 7, 7, 10, 7, 7, 12, 7, 7, 7, 7, 7, 7, 7, 13, 13, 13, 13, 13, 13, 7, 10, 10, 10, 10, 10, 10, 10, 4, 4, 5, 3, 9, 9, 8, 5, 8, 12, 12, 8, 8, 7, 7, 5, 5, 4, 6, 5, 13, 13, 14, 5, 8, 14, 13, 13, 13, 13, 13, 13, 13, 13, 13, 13, 10, 11, 10, 9, 6, 6, 5, 5, 9, 7, 3, 7, 8, 13, 5, 3, 3, 3, 3, 3, 9, 9, 9, 9, 9, 9, 9, 7, 9, 14, 14, 14, 5, 6, 9, 9, 9, 7, 9, 9, 9, 9, 4, 4, 4, 6, 9, 14, 14, 13, 9, 9, 9, 7, 13, 10, 6, 7, 9, 5, 5, 5, 6, 5, 6, 6, 5, 6, 7, 10, 8, 8, 11, 6, 7, 9, 8, 10, 10, 4, 5, 11, 11, 8, 10, 7, 10, 11, 10, 10, 10, 10, 10, 10, 10, 10, 10, 10, 9, 9, 9, 9, 9, 9, 9, 9, 12, 6, 14, 14, 5, 16, 13, 13, 15, 15, 12, 7, 13, 9, 7, 5, 7, 7, 7, 7, 7, 7, 7, 7, 5, 6, 3, 3, 3, 3, 3, 5, 10, 12, 12, 12, 5, 12, 4, 6, 3, 8, 8, 8, 8, 8, 8, 11, 8, 5, 10, 10, 11, 8, 11, 8, 8, 11, 13, 10, 8, 10, 10, 10, 7, 8, 5, 5, 5, 5, 5, 5, 9, 7, 6, 6, 8, 8, 8, 6, 7, 9, 8, 14, 2, 10, 8, 11, 4, 3, 8, 11, 4, 5, 11, 8, 5, 7, 8, 14, 14, 14, 10, 10, 10, 10, 10, 10, 7, 5, 4, 4, 12, 6, 6, 6, 10, 10, 10, 10, 10, 10, 10, 10, 10, 10, 10, 9, 9, 9, 9, 9, 9, 9, 9, 9, 9, 9, 9, 9, 9, 9, 9, 9, 9, 9, 9, 6, 7, 14, 14, 3, 5, 9, 9, 9, 9, 9, 9, 7, 12, 15, 12, 11, 11, 15, 15, 11, 10, 5, 9, 9, 15, 15, 15, 3, 3, 8, 10, 14, 14, 14, 14, 14, 14, 14, 14, 14, 14, 14, 14, 14, 14, 14, 14, 14, 14, 14, 14, 7, 6, 12, 12, 6, 9, 9, 9, 3, 7, 12, 11, 11, 8, 10, 10, 10, 10, 10, 10, 10, 10, 10, 6, 13, 4, 10, 10, 10, 7, 5, 7, 4, 8, 15, 8, 13, 4, 5, 7, 7, 4, 8, 8, 6, 6, 14, 14, 14, 14, 14, 14, 14, 14, 14, 14, 14, 9, 5, 9, 9, 14, 14, 14, 14, 14, 9, 9, 9, 11, 7, 7, 7, 7, 10, 10, 10, 11, 5, 11, 11, 11, 11, 11, 11, 11, 3, 4, 3, 9, 11, 11, 9, 6, 10, 11, 11, 14, 5, 15, 15, 15, 15, 15, 15, 11, 7, 11, 8, 14, 12, 15, 15, 15, 15, 15, 15, 15, 15, 15, 15, 3, 3, 5, 5, 5, 5, 5, 5, 8, 5, 5, 5, 5, 5, 5, 9, 5, 5, 4, 5, 12, 5, 5, 7, 7, 7, 7, 7, 7, 7, 7, 7, 7, 4, 4, 4, 4, 3, 7, 7, 7, 7, 7, 7, 4, 6, 13, 11, 11, 7, 5, 6, 10, 10, 10, 10, 10, 7, 4, 4, 4, 4, 4, 10, 4, 11, 11, 11, 7, 7, 7, 7, 7, 7, 5, 10, 8, 10, 9, 8, 11, 13, 8, 8, 8, 8, 5, 5, 5, 5, 5, 5, 5, 5, 13, 8, 4, 4, 4, 4, 4, 4, 4, 15, 15, 15, 15, 4, 15, 15, 11, 11, 10, 10, 6, 6, 15, 15, 15, 15, 15, 15, 6, 6, 6, 6, 6, 6, 9, 12, 6, 6, 6, 6, 7, 5, 14, 8, 8, 8, 8, 6, 6, 6, 6, 6, 6, 8, 8, 8, 2, 10, 10, 4, 9, 8, 8, 8, 8, 8, 8, 8, 8, 8, 8, 8, 8, 8, 8, 7, 7, 7, 7, 7, 7, 7, 11, 7, 13, 13, 8, 7, 7, 5, 8, 7, 4, 11, 11, 9, 9, 7, 11, 11, 14, 13, 3, 3, 3, 3, 3, 3, 5, 8, 14, 3, 11, 5, 5, 5, 5, 5, 5, 5, 5, 5, 5, 5, 5, 5, 5, 5, 5, 5, 16, 14, 14, 12, 7, 7, 7, 7, 7, 7, 7, 7, 12, 7, 7, 7, 7, 7, 7, 7, 6, 6, 6, 6, 6, 6, 6, 6, 8, 8, 4, 4, 4, 4, 4, 4, 4, 12, 4, 8, 5, 12, 3, 7, 7, 5, 12, 10, 8, 7, 6, 7, 7, 8, 7, 5, 4, 5, 5, 12, 9, 9, 9, 9, 7, 7, 7, 7, 7, 7, 7, 7, 7, 7, 5, 7, 3, 3, 3, 10, 6, 9, 4, 4, 3, 3, 3, 3, 3, 3, 4, 10, 10, 12, 6, 6, 5, 7, 8, 8, 10, 10, 6, 10, 8, 7, 7, 7, 7, 10, 10, 11, 14, 14, 10, 10, 14, 14, 13, 12, 6, 12, 6, 6, 6, 6, 6, 12, 12, 9, 7, 7, 7, 10, 10, 4, 6, 6, 6, 6, 6, 6, 6, 6, 6, 6, 14, 8, 8, 13, 4, 4, 10, 6, 13, 13, 10, 8, 5, 5, 5, 12, 5, 14, 14, 14, 14, 14, 12, 12, 16, 16, 11, 12, 13, 15, 14, 14, 14, 14, 14, 14, 14, 14, 14, 14, 14, 14, 6, 6, 6, 6, 6, 6, 4, 12, 10, 7, 5, 5, 11, 11, 9, 5, 5, 5, 11, 11, 5, 14, 4, 4, 4, 4, 8, 8, 8, 8, 8, 8, 8, 14, 14, 14, 10, 8, 8, 8, 8, 8, 8, 8, 8, 8, 8, 8, 5, 5, 5, 5, 8, 8, 8, 8, 8, 8, 8, 8, 8, 8, 8, 8, 8, 8, 6, 6, 6, 6, 6, 6, 6, 6, 6, 8, 8, 8, 8, 15, 6, 6, 6, 11, 11, 11, 5, 5, 4, 15, 7, 11, 11, 11, 11, 7, 7, 7, 7, 7, 7, 7, 7, 8, 9, 12, 12, 12, 12, 8, 8, 8, 8, 8, 8, 8, 8, 8, 8, 7, 7, 7, 7, 7, 7, 12, 12, 12, 12, 12, 14, 12, 7, 6, 6, 6, 7, 7, 7, 7, 4, 12, 12, 12, 12, 12, 5, 12, 7, 7, 7, 7, 8, 14, 8, 5, 8, 13, 13, 9, 10, 14, 7, 6, 7, 7, 7, 7, 11, 5, 5, 5, 5, 5, 5, 7, 7, 7, 7, 7, 7, 7, 7, 6, 6, 6, 6, 6, 6, 6, 6, 6, 6, 6, 6, 6, 6, 6, 11, 11, 11, 11, 11, 5, 8, 10, 9, 7, 4, 13, 13, 13, 13, 13, 13, 13, 13, 13, 13, 14, 13, 13, 13, 13, 13, 13, 13, 13, 13, 13, 13, 13, 13, 13, 13, 13, 11, 9, 9, 9, 9, 9, 9, 9, 9, 9, 9, 9, 9, 9, 9, 9, 9, 9, 8, 8, 4, 8, 5, 5, 5, 5, 10, 9, 5, 5, 5, 2, 12, 6, 11, 7, 6, 6, 14, 11, 14, 7, 12, 8, 11, 8, 8, 8, 8, 8, 8, 10, 14, 14, 14, 14, 14, 14, 14, 11, 4, 4, 8, 15, 15, 15, 8, 9, 5, 5, 5, 5, 4, 4, 3, 6, 12, 12, 12, 12, 12, 12, 8, 9, 12, 12, 12, 12, 12, 8, 8, 8, 8, 8, 8, 8, 8, 8, 8, 4, 4, 14, 14, 14, 14, 14, 14, 14, 14, 14, 14, 14, 14, 14, 14, 14, 14, 14, 14, 14, 14, 14, 14, 14, 14, 14, 9, 9, 9, 9, 9, 9, 9, 7, 14, 5, 8, 10, 7, 6, 12, 9, 9, 6, 9, 13, 12, 13, 13, 13, 13, 13, 13, 12, 14, 10, 14, 13, 13, 13, 13, 13, 13, 4, 4, 4, 12, 12, 12, 12, 7, 8, 10, 12, 12, 12, 11, 8, 7, 12, 12, 6, 12, 12, 12, 12, 12, 12, 12, 12, 12, 6, 8, 9, 5, 5, 6, 14, 12, 14, 6, 6, 6, 8, 10, 10, 10, 10, 10, 10, 9, 9, 9, 9, 9, 9, 9, 9, 9, 9, 9, 9, 9, 9, 9, 9, 4, 9, 9, 9, 9, 7, 8, 11, 9, 9, 14, 14, 14, 14, 14, 14, 14, 14, 9, 14, 14, 14, 14, 14, 14, 9, 6, 7, 6, 7, 7, 14, 14, 14, 14, 14, 14, 14, 14, 14, 14, 14, 14, 14, 14, 8, 8, 8, 8, 8, 8, 8, 8, 8, 8, 8, 8, 8, 8, 8, 8, 8, 15, 15, 15, 15, 15, 15, 15, 5, 15, 13, 6, 15, 15, 15, 15, 15, 15, 15, 15, 15, 15, 15, 15, 15, 15, 3, 3, 3, 3, 3, 3, 6, 7, 14, 10, 9, 14, 10, 10, 10, 10, 10, 10, 10, 10, 10, 10, 10, 10, 10, 10, 10, 6, 7, 10, 10, 10, 10, 12, 12, 5, 5, 9, 7, 11, 11, 9, 9, 9, 9, 9, 9, 9, 9, 5, 9, 7, 7, 7, 9, 9, 9, 9, 9, 9, 9, 9, 9, 9, 9, 8, 8, 8, 8, 8, 8, 8, 8, 8, 4, 4, 4, 4, 4, 6, 5, 5, 5, 5, 5, 5, 5, 5, 13, 13, 13, 13, 13, 13, 13, 13, 13, 13, 13, 13, 8, 9, 11, 11, 8, 12, 13, 13, 13, 13, 13, 13, 13, 3, 3, 3, 8, 9, 3, 13, 13, 13, 13, 13, 13, 13, 13, 13, 13, 13, 13, 13, 13, 7, 14, 10, 10, 13, 13, 13, 13, 13, 13, 13, 13, 9, 9, 9, 9, 9, 9, 9, 9, 9, 9, 9, 9, 9, 9, 9, 9, 9, 9, 9, 16, 16, 16, 16, 16, 16, 16, 11, 13, 15, 15, 16, 16, 16, 16, 16, 16, 16, 16, 9, 10, 16, 16, 8, 8, 7, 7, 7, 7, 7, 7, 7, 7, 7, 14, 9, 13, 9, 9, 12, 12, 12, 4, 4, 4, 4, 4, 7, 7, 4, 11, 9, 8, 11, 6, 12, 5, 7, 7, 9, 14, 7, 7, 7, 7, 7, 7, 4, 13, 13, 13, 13, 13, 13, 8, 6, 6, 6, 6, 9, 9, 9, 9, 9, 9, 9, 9, 13, 13, 13, 13, 13, 13, 14, 14, 14, 14, 13, 10, 11, 8, 9, 9, 12, 12, 9, 8, 8, 7, 12, 8, 11, 9, 9, 5, 5, 11, 9, 8, 14, 12, 13, 2, 2, 2, 12, 12, 12, 12, 9, 3, 11, 12, 12, 12, 12, 12, 12, 12, 12, 12, 12, 12, 12, 12, 12, 12, 8, 8, 7, 11, 12, 12, 12, 12, 12, 6, 4, 4, 4, 4, 4, 6, 8, 8, 8, 8, 8, 8, 8, 3, 3, 11, 7, 13, 9, 8, 11, 5, 11, 11, 11, 11, 11, 11, 11, 5, 11, 5, 5, 5, 5, 5, 5, 5, 5, 5, 8, 8, 8, 9, 8, 7, 5, 8, 8, 3, 5, 8, 8, 9, 3, 11, 8, 8, 8, 8, 4, 14, 6, 5, 5, 12, 15, 4, 8, 10, 12, 8, 9, 6, 4, 6, 8, 14, 10, 10, 12, 8, 10, 7, 12, 8, 9, 9, 7, 9, 12, 10, 9, 6, 10, 10, 5, 6, 12, 11, 8, 3, 5, 6, 10, 10, 5, 5, 6, 6, 6, 6, 6, 6, 6, 6, 6, 6, 6, 6, 8, 8, 8, 8, 8, 8, 7, 6, 5, 5, 4, 4, 6, 6, 6, 13, 13, 6, 9, 11, 6, 7, 6, 6, 5, 12, 7, 7, 7, 7, 7, 7, 7, 7, 4, 14, 13, 8, 7, 7, 7, 10, 7, 7, 10, 11, 7, 4, 7, 7, 7, 7, 7, 7, 7, 7, 7, 4, 4, 4, 4, 4, 2, 2, 2, 6, 6, 6, 6, 6, 9, 9, 6, 8, 11, 8, 10, 11, 11, 8, 8, 8, 8, 8, 8, 8, 8, 8, 5, 5, 5, 5, 5, 5, 5, 5, 4, 4, 4, 4, 7, 7, 12, 12, 8, 10, 5, 9, 3, 3, 5, 4, 4, 5, 7, 9, 9, 3, 7, 6, 8, 6, 10, 10, 10, 10, 10, 10, 10, 10, 10, 10, 10, 10, 10, 10, 10, 10, 10, 10, 10, 12, 12, 12, 12, 12, 12, 12, 12, 12, 12, 12, 12, 12, 12, 12, 11, 8, 8, 8, 8, 8, 8, 8, 8, 8, 8, 8, 8, 8, 8, 8, 8, 8, 8, 8, 8, 8, 8, 8, 12, 12, 12, 12, 6, 7, 12, 12, 12, 12, 12, 12, 12, 12, 12, 4, 5, 9, 4, 4, 10, 7, 12, 6, 10, 10, 10, 10, 5, 10, 10, 10, 10, 10, 10, 10, 10, 10, 10, 10, 10, 10, 10, 10, 6, 6, 6, 8, 9, 8, 7, 9, 5, 2, 2, 7, 7, 8, 8, 10, 10, 10, 10, 10, 14, 7, 7, 7, 7, 7, 7, 7, 7, 7, 7, 7, 7, 7, 7, 7, 7, 7, 7, 11, 11, 4, 10, 11, 11, 11, 11, 11, 11, 11, 11, 11, 11, 11, 11, 11, 11, 11, 11, 11, 11, 11, 11, 11, 11, 11, 11, 11, 4, 7, 8, 14, 11, 4, 10, 11, 11, 3, 3, 10, 5, 11, 6, 10, 12, 5, 7, 4, 7, 4, 4, 4, 4, 4, 4, 4, 4, 4, 10, 10, 10, 10, 10, 10, 10, 10, 10, 10, 5, 8, 8, 8, 8, 4, 10, 10, 10, 10, 10, 10, 10, 10, 10, 10, 10, 10, 10, 5, 5, 15, 15, 10, 10, 9, 5, 5, 5, 5, 6, 6, 6, 6, 4, 4, 4, 4, 4, 2, 9, 4, 4, 8, 8, 3, 3, 3, 5, 5, 5, 8, 8, 8, 8, 8, 8, 8, 8, 8, 8, 8, 8, 8, 5, 4, 11, 8, 7, 7, 7, 7, 7, 7, 7, 7, 5, 5, 7, 10, 5, 5, 5, 5, 8, 5, 5, 5, 5, 9, 7, 8, 8, 5, 4, 5, 5, 5, 5, 5, 5, 5, 13, 5, 5, 9, 9, 9, 9, 9, 9, 9, 9, 9, 9, 9, 9, 9, 9, 9, 9, 9, 9, 4, 4, 4, 6, 10, 10, 10, 11, 3, 3, 5, 9, 9, 9, 9, 9, 9, 9, 9, 8, 9, 9, 9, 11, 11, 11, 9, 9, 11, 11, 11, 11, 11, 11, 5, 5, 5, 5, 5, 5, 5, 5, 5, 11, 8, 8, 8, 8, 8, 8, 8, 8, 8, 8, 8, 8, 8, 8, 8, 8, 8, 8, 2, 2, 2, 2, 2, 2, 8, 8, 12, 7, 7, 7, 7, 7, 7, 7, 7, 10, 15, 15, 4, 4, 4, 4, 4, 4, 4, 7, 7, 7, 7, 7, 7, 7, 7, 7, 7, 7, 7, 7, 7, 7, 7, 7, 4, 4, 4, 4, 7, 3, 4, 4, 7, 7, 7, 7, 5, 5, 5, 5, 5, 5, 5, 8, 6, 5, 6, 8, 6, 6, 6, 14, 10, 10, 5, 5, 5, 5, 5, 5, 5, 5, 10, 13, 16, 16, 16, 6, 9, 9, 8, 8, 7, 8, 8, 5, 5, 5, 5, 5, 5, 5, 8, 5, 5, 5, 8, 8, 8, 8, 8, 8, 8, 12, 6, 8, 8, 8, 8, 8, 8, 8, 8, 8, 8, 8, 8, 8, 10, 5, 7, 5, 5, 7, 4, 5, 8, 7, 6, 6, 5, 6, 6, 6, 5, 9, 9, 7, 5, 7, 9, 13, 8, 7, 5, 9, 13, 10, 8, 8, 8, 8, 7, 10, 9, 3, 3, 3, 6, 7, 10, 10, 9]}],\n",
              "                        {\"template\": {\"data\": {\"bar\": [{\"error_x\": {\"color\": \"#2a3f5f\"}, \"error_y\": {\"color\": \"#2a3f5f\"}, \"marker\": {\"line\": {\"color\": \"#E5ECF6\", \"width\": 0.5}}, \"type\": \"bar\"}], \"barpolar\": [{\"marker\": {\"line\": {\"color\": \"#E5ECF6\", \"width\": 0.5}}, \"type\": \"barpolar\"}], \"carpet\": [{\"aaxis\": {\"endlinecolor\": \"#2a3f5f\", \"gridcolor\": \"white\", \"linecolor\": \"white\", \"minorgridcolor\": \"white\", \"startlinecolor\": \"#2a3f5f\"}, \"baxis\": {\"endlinecolor\": \"#2a3f5f\", \"gridcolor\": \"white\", \"linecolor\": \"white\", \"minorgridcolor\": \"white\", \"startlinecolor\": \"#2a3f5f\"}, \"type\": \"carpet\"}], \"choropleth\": [{\"colorbar\": {\"outlinewidth\": 0, \"ticks\": \"\"}, \"type\": \"choropleth\"}], \"contour\": [{\"colorbar\": {\"outlinewidth\": 0, \"ticks\": \"\"}, \"colorscale\": [[0.0, \"#0d0887\"], [0.1111111111111111, \"#46039f\"], [0.2222222222222222, \"#7201a8\"], [0.3333333333333333, \"#9c179e\"], [0.4444444444444444, \"#bd3786\"], [0.5555555555555556, \"#d8576b\"], [0.6666666666666666, \"#ed7953\"], [0.7777777777777778, \"#fb9f3a\"], [0.8888888888888888, \"#fdca26\"], [1.0, \"#f0f921\"]], \"type\": \"contour\"}], \"contourcarpet\": [{\"colorbar\": {\"outlinewidth\": 0, \"ticks\": \"\"}, \"type\": \"contourcarpet\"}], \"heatmap\": [{\"colorbar\": {\"outlinewidth\": 0, \"ticks\": \"\"}, \"colorscale\": [[0.0, \"#0d0887\"], [0.1111111111111111, \"#46039f\"], [0.2222222222222222, \"#7201a8\"], [0.3333333333333333, \"#9c179e\"], [0.4444444444444444, \"#bd3786\"], [0.5555555555555556, \"#d8576b\"], [0.6666666666666666, \"#ed7953\"], [0.7777777777777778, \"#fb9f3a\"], [0.8888888888888888, \"#fdca26\"], [1.0, \"#f0f921\"]], \"type\": \"heatmap\"}], \"heatmapgl\": [{\"colorbar\": {\"outlinewidth\": 0, \"ticks\": \"\"}, \"colorscale\": [[0.0, \"#0d0887\"], [0.1111111111111111, \"#46039f\"], [0.2222222222222222, \"#7201a8\"], [0.3333333333333333, \"#9c179e\"], [0.4444444444444444, \"#bd3786\"], [0.5555555555555556, \"#d8576b\"], [0.6666666666666666, \"#ed7953\"], [0.7777777777777778, \"#fb9f3a\"], [0.8888888888888888, \"#fdca26\"], [1.0, \"#f0f921\"]], \"type\": \"heatmapgl\"}], \"histogram\": [{\"marker\": {\"colorbar\": {\"outlinewidth\": 0, \"ticks\": \"\"}}, \"type\": \"histogram\"}], \"histogram2d\": [{\"colorbar\": {\"outlinewidth\": 0, \"ticks\": \"\"}, \"colorscale\": [[0.0, \"#0d0887\"], [0.1111111111111111, \"#46039f\"], [0.2222222222222222, \"#7201a8\"], [0.3333333333333333, \"#9c179e\"], [0.4444444444444444, \"#bd3786\"], [0.5555555555555556, \"#d8576b\"], [0.6666666666666666, \"#ed7953\"], [0.7777777777777778, \"#fb9f3a\"], [0.8888888888888888, \"#fdca26\"], [1.0, \"#f0f921\"]], \"type\": \"histogram2d\"}], \"histogram2dcontour\": [{\"colorbar\": {\"outlinewidth\": 0, \"ticks\": \"\"}, \"colorscale\": [[0.0, \"#0d0887\"], [0.1111111111111111, \"#46039f\"], [0.2222222222222222, \"#7201a8\"], [0.3333333333333333, \"#9c179e\"], [0.4444444444444444, \"#bd3786\"], [0.5555555555555556, \"#d8576b\"], [0.6666666666666666, \"#ed7953\"], [0.7777777777777778, \"#fb9f3a\"], [0.8888888888888888, \"#fdca26\"], [1.0, \"#f0f921\"]], \"type\": \"histogram2dcontour\"}], \"mesh3d\": [{\"colorbar\": {\"outlinewidth\": 0, \"ticks\": \"\"}, \"type\": \"mesh3d\"}], \"parcoords\": [{\"line\": {\"colorbar\": {\"outlinewidth\": 0, \"ticks\": \"\"}}, \"type\": \"parcoords\"}], \"pie\": [{\"automargin\": true, \"type\": \"pie\"}], \"scatter\": [{\"marker\": {\"colorbar\": {\"outlinewidth\": 0, \"ticks\": \"\"}}, \"type\": \"scatter\"}], \"scatter3d\": [{\"line\": {\"colorbar\": {\"outlinewidth\": 0, \"ticks\": \"\"}}, \"marker\": {\"colorbar\": {\"outlinewidth\": 0, \"ticks\": \"\"}}, \"type\": \"scatter3d\"}], \"scattercarpet\": [{\"marker\": {\"colorbar\": {\"outlinewidth\": 0, \"ticks\": \"\"}}, \"type\": \"scattercarpet\"}], \"scattergeo\": [{\"marker\": {\"colorbar\": {\"outlinewidth\": 0, \"ticks\": \"\"}}, \"type\": \"scattergeo\"}], \"scattergl\": [{\"marker\": {\"colorbar\": {\"outlinewidth\": 0, \"ticks\": \"\"}}, \"type\": \"scattergl\"}], \"scattermapbox\": [{\"marker\": {\"colorbar\": {\"outlinewidth\": 0, \"ticks\": \"\"}}, \"type\": \"scattermapbox\"}], \"scatterpolar\": [{\"marker\": {\"colorbar\": {\"outlinewidth\": 0, \"ticks\": \"\"}}, \"type\": \"scatterpolar\"}], \"scatterpolargl\": [{\"marker\": {\"colorbar\": {\"outlinewidth\": 0, \"ticks\": \"\"}}, \"type\": \"scatterpolargl\"}], \"scatterternary\": [{\"marker\": {\"colorbar\": {\"outlinewidth\": 0, \"ticks\": \"\"}}, \"type\": \"scatterternary\"}], \"surface\": [{\"colorbar\": {\"outlinewidth\": 0, \"ticks\": \"\"}, \"colorscale\": [[0.0, \"#0d0887\"], [0.1111111111111111, \"#46039f\"], [0.2222222222222222, \"#7201a8\"], [0.3333333333333333, \"#9c179e\"], [0.4444444444444444, \"#bd3786\"], [0.5555555555555556, \"#d8576b\"], [0.6666666666666666, \"#ed7953\"], [0.7777777777777778, \"#fb9f3a\"], [0.8888888888888888, \"#fdca26\"], [1.0, \"#f0f921\"]], \"type\": \"surface\"}], \"table\": [{\"cells\": {\"fill\": {\"color\": \"#EBF0F8\"}, \"line\": {\"color\": \"white\"}}, \"header\": {\"fill\": {\"color\": \"#C8D4E3\"}, \"line\": {\"color\": \"white\"}}, \"type\": \"table\"}]}, \"layout\": {\"annotationdefaults\": {\"arrowcolor\": \"#2a3f5f\", \"arrowhead\": 0, \"arrowwidth\": 1}, \"coloraxis\": {\"colorbar\": {\"outlinewidth\": 0, \"ticks\": \"\"}}, \"colorscale\": {\"diverging\": [[0, \"#8e0152\"], [0.1, \"#c51b7d\"], [0.2, \"#de77ae\"], [0.3, \"#f1b6da\"], [0.4, \"#fde0ef\"], [0.5, \"#f7f7f7\"], [0.6, \"#e6f5d0\"], [0.7, \"#b8e186\"], [0.8, \"#7fbc41\"], [0.9, \"#4d9221\"], [1, \"#276419\"]], \"sequential\": [[0.0, \"#0d0887\"], [0.1111111111111111, \"#46039f\"], [0.2222222222222222, \"#7201a8\"], [0.3333333333333333, \"#9c179e\"], [0.4444444444444444, \"#bd3786\"], [0.5555555555555556, \"#d8576b\"], [0.6666666666666666, \"#ed7953\"], [0.7777777777777778, \"#fb9f3a\"], [0.8888888888888888, \"#fdca26\"], [1.0, \"#f0f921\"]], \"sequentialminus\": [[0.0, \"#0d0887\"], [0.1111111111111111, \"#46039f\"], [0.2222222222222222, \"#7201a8\"], [0.3333333333333333, \"#9c179e\"], [0.4444444444444444, \"#bd3786\"], [0.5555555555555556, \"#d8576b\"], [0.6666666666666666, \"#ed7953\"], [0.7777777777777778, \"#fb9f3a\"], [0.8888888888888888, \"#fdca26\"], [1.0, \"#f0f921\"]]}, \"colorway\": [\"#636efa\", \"#EF553B\", \"#00cc96\", \"#ab63fa\", \"#FFA15A\", \"#19d3f3\", \"#FF6692\", \"#B6E880\", \"#FF97FF\", \"#FECB52\"], \"font\": {\"color\": \"#2a3f5f\"}, \"geo\": {\"bgcolor\": \"white\", \"lakecolor\": \"white\", \"landcolor\": \"#E5ECF6\", \"showlakes\": true, \"showland\": true, \"subunitcolor\": \"white\"}, \"hoverlabel\": {\"align\": \"left\"}, \"hovermode\": \"closest\", \"mapbox\": {\"style\": \"light\"}, \"paper_bgcolor\": \"white\", \"plot_bgcolor\": \"#E5ECF6\", \"polar\": {\"angularaxis\": {\"gridcolor\": \"white\", \"linecolor\": \"white\", \"ticks\": \"\"}, \"bgcolor\": \"#E5ECF6\", \"radialaxis\": {\"gridcolor\": \"white\", \"linecolor\": \"white\", \"ticks\": \"\"}}, \"scene\": {\"xaxis\": {\"backgroundcolor\": \"#E5ECF6\", \"gridcolor\": \"white\", \"gridwidth\": 2, \"linecolor\": \"white\", \"showbackground\": true, \"ticks\": \"\", \"zerolinecolor\": \"white\"}, \"yaxis\": {\"backgroundcolor\": \"#E5ECF6\", \"gridcolor\": \"white\", \"gridwidth\": 2, \"linecolor\": \"white\", \"showbackground\": true, \"ticks\": \"\", \"zerolinecolor\": \"white\"}, \"zaxis\": {\"backgroundcolor\": \"#E5ECF6\", \"gridcolor\": \"white\", \"gridwidth\": 2, \"linecolor\": \"white\", \"showbackground\": true, \"ticks\": \"\", \"zerolinecolor\": \"white\"}}, \"shapedefaults\": {\"line\": {\"color\": \"#2a3f5f\"}}, \"ternary\": {\"aaxis\": {\"gridcolor\": \"white\", \"linecolor\": \"white\", \"ticks\": \"\"}, \"baxis\": {\"gridcolor\": \"white\", \"linecolor\": \"white\", \"ticks\": \"\"}, \"bgcolor\": \"#E5ECF6\", \"caxis\": {\"gridcolor\": \"white\", \"linecolor\": \"white\", \"ticks\": \"\"}}, \"title\": {\"x\": 0.05}, \"xaxis\": {\"automargin\": true, \"gridcolor\": \"white\", \"linecolor\": \"white\", \"ticks\": \"\", \"title\": {\"standoff\": 15}, \"zerolinecolor\": \"white\", \"zerolinewidth\": 2}, \"yaxis\": {\"automargin\": true, \"gridcolor\": \"white\", \"linecolor\": \"white\", \"ticks\": \"\", \"title\": {\"standoff\": 15}, \"zerolinecolor\": \"white\", \"zerolinewidth\": 2}}}},\n",
              "                        {\"responsive\": true}\n",
              "                    ).then(function(){\n",
              "                            \n",
              "var gd = document.getElementById('8e053bae-6c97-4e4d-9b80-a6d4baf5de1a');\n",
              "var x = new MutationObserver(function (mutations, observer) {{\n",
              "        var display = window.getComputedStyle(gd).display;\n",
              "        if (!display || display === 'none') {{\n",
              "            console.log([gd, 'removed!']);\n",
              "            Plotly.purge(gd);\n",
              "            observer.disconnect();\n",
              "        }}\n",
              "}});\n",
              "\n",
              "// Listen for the removal of the full notebook cells\n",
              "var notebookContainer = gd.closest('#notebook-container');\n",
              "if (notebookContainer) {{\n",
              "    x.observe(notebookContainer, {childList: true});\n",
              "}}\n",
              "\n",
              "// Listen for the clearing of the current output cell\n",
              "var outputEl = gd.closest('.output');\n",
              "if (outputEl) {{\n",
              "    x.observe(outputEl, {childList: true});\n",
              "}}\n",
              "\n",
              "                        })\n",
              "                };\n",
              "                \n",
              "            </script>\n",
              "        </div>\n",
              "</body>\n",
              "</html>"
            ]
          },
          "metadata": {
            "tags": []
          }
        },
        {
          "output_type": "display_data",
          "data": {
            "text/html": [
              "<html>\n",
              "<head><meta charset=\"utf-8\" /></head>\n",
              "<body>\n",
              "    <div>\n",
              "            <script src=\"https://cdnjs.cloudflare.com/ajax/libs/mathjax/2.7.5/MathJax.js?config=TeX-AMS-MML_SVG\"></script><script type=\"text/javascript\">if (window.MathJax) {MathJax.Hub.Config({SVG: {font: \"STIX-Web\"}});}</script>\n",
              "                <script type=\"text/javascript\">window.PlotlyConfig = {MathJaxConfig: 'local'};</script>\n",
              "        <script src=\"https://cdn.plot.ly/plotly-latest.min.js\"></script>    \n",
              "            <div id=\"22eb88f6-513c-4bd9-9f79-0b853d1e09be\" class=\"plotly-graph-div\" style=\"height:525px; width:100%;\"></div>\n",
              "            <script type=\"text/javascript\">\n",
              "                \n",
              "                    window.PLOTLYENV=window.PLOTLYENV || {};\n",
              "                    \n",
              "                if (document.getElementById(\"22eb88f6-513c-4bd9-9f79-0b853d1e09be\")) {\n",
              "                    Plotly.newPlot(\n",
              "                        '22eb88f6-513c-4bd9-9f79-0b853d1e09be',\n",
              "                        [{\"boxmean\": \"sd\", \"line\": {\"color\": \"rgb(8,81,156)\"}, \"marker\": {\"color\": \"rgb(8,81,156)\", \"line\": {\"outliercolor\": \"rgba(219, 64, 82, 0.6)\", \"outlierwidth\": 2}, \"outliercolor\": \"rgba(219, 64, 82, 0.6)\"}, \"name\": \"total_act\", \"type\": \"box\", \"y\": [28, 44, 37, 24, 32, 123, 123, 24, 28, 28, 42, 37, 13, 15, 14, 63, 50, 65, 11, 41, 42, 42, 42, 42, 48, 48, 48, 48, 72, 21, 50, 59, 33, 35, 48, 48, 48, 86, 86, 86, 86, 86, 86, 86, 86, 86, 86, 86, 86, 67, 58, 31, 55, 33, 31, 42, 24, 24, 76, 59, 59, 59, 59, 59, 59, 59, 59, 59, 59, 28, 33, 36, 25, 48, 66, 26, 48, 59, 18, 23, 52, 26, 77, 12, 42, 42, 61, 59, 80, 80, 74, 48, 51, 51, 60, 60, 25, 25, 51, 51, 51, 51, 51, 51, 51, 51, 51, 51, 51, 51, 52, 52, 22, 58, 35, 54, 61, 59, 33, 35, 59, 31, 40, 8, 23, 47, 33, 53, 62, 47, 44, 63, 63, 63, 63, 63, 63, 63, 63, 63, 47, 8, 47, 80, 47, 51, 66, 87, 87, 87, 87, 87, 87, 28, 51, 60, 41, 41, 75, 75, 62, 41, 45, 43, 58, 16, 16, 16, 36, 52, 44, 44, 44, 49, 57, 29, 44, 44, 41, 9, 67, 73, 54, 30, 64, 60, 37, 77, 38, 63, 87, 25, 38, 9, 55, 55, 55, 55, 55, 55, 55, 55, 55, 55, 39, 78, 78, 39, 39, 39, 39, 39, 78, 78, 78, 15, 20, 47, 29, 29, 45, 17, 17, 33, 33, 16, 35, 21, 21, 37, 27, 27, 46, 46, 39, 39, 46, 9, 9, 58, 25, 35, 33, 33, 33, 33, 33, 52, 52, 52, 52, 52, 34, 13, 15, 15, 31, 31, 30, 31, 18, 18, 23, 55, 55, 55, 55, 55, 55, 55, 38, 38, 38, 82, 82, 55, 30, 26, 63, 71, 46, 46, 52, 82, 82, 82, 82, 82, 45, 45, 45, 45, 45, 45, 45, 45, 45, 52, 44, 44, 45, 45, 45, 44, 44, 44, 44, 44, 44, 78, 26, 26, 74, 74, 47, 47, 47, 56, 54, 78, 78, 78, 23, 78, 78, 78, 78, 45, 34, 33, 33, 34, 64, 42, 36, 32, 11, 11, 11, 16, 102, 102, 102, 102, 102, 19, 102, 102, 102, 102, 13, 13, 68, 68, 68, 102, 102, 102, 102, 102, 102, 102, 59, 58, 68, 68, 68, 47, 47, 58, 58, 58, 45, 45, 45, 45, 45, 45, 45, 45, 45, 45, 47, 47, 47, 66, 33, 77, 77, 77, 33, 33, 33, 77, 77, 77, 77, 77, 77, 77, 33, 33, 53, 58, 54, 16, 16, 41, 13, 13, 47, 47, 47, 47, 47, 47, 47, 47, 47, 47, 47, 47, 47, 47, 47, 47, 47, 47, 47, 47, 47, 47, 47, 47, 47, 41, 41, 41, 41, 41, 41, 39, 39, 39, 39, 39, 39, 39, 39, 39, 22, 22, 22, 55, 55, 55, 54, 54, 39, 54, 54, 22, 47, 46, 46, 46, 46, 46, 26, 26, 26, 26, 11, 13, 46, 46, 46, 32, 32, 32, 32, 32, 43, 43, 43, 43, 13, 38, 38, 38, 38, 38, 38, 38, 38, 43, 43, 43, 43, 53, 51, 51, 51, 51, 52, 52, 52, 52, 53, 53, 53, 53, 53, 53, 53, 53, 53, 53, 53, 67, 67, 67, 67, 67, 67, 67, 67, 67, 67, 67, 67, 67, 67, 34, 34, 34, 34, 56, 56, 56, 56, 44, 31, 77, 77, 77, 77, 36, 25, 73, 73, 77, 77, 77, 77, 46, 46, 46, 46, 46, 46, 46, 46, 46, 73, 73, 73, 73, 16, 66, 66, 66, 66, 29, 29, 23, 32, 29, 38, 38, 38, 38, 29, 29, 46, 21, 39, 39, 19, 19, 19, 19, 36, 36, 36, 36, 36, 36, 46, 46, 46, 46, 44, 31, 42, 42, 25, 25, 42, 49, 41, 67, 42, 42, 42, 42, 42, 42, 42, 42, 42, 42, 42, 42, 42, 25, 67, 67, 30, 14, 21, 43, 43, 43, 43, 19, 25, 25, 19, 30, 30, 30, 36, 36, 36, 36, 36, 36, 36, 36, 36, 35, 35, 35, 35, 35, 35, 35, 35, 35, 35, 35, 22, 45, 45, 45, 45, 45, 45, 45, 45, 18, 18, 18, 18, 18, 18, 18, 37, 37, 37, 37, 37, 24, 37, 37, 37, 37, 37, 36, 36, 36, 36, 36, 36, 36, 33, 36, 33, 33, 33, 33, 33, 33, 36, 35, 36, 36, 36, 36, 35, 35, 35, 36, 40, 15, 15, 15, 15, 17, 36, 16, 16, 56, 56, 67, 28, 62, 62, 62, 39, 39, 22, 34, 34, 34, 29, 29, 29, 30, 30, 62, 62, 62, 32, 33, 33, 42, 62, 62, 62, 62, 62, 62, 62, 62, 62, 62, 62, 62, 42, 42, 42, 42, 17, 17, 17, 17, 50, 50, 49, 28, 28, 28, 28, 28, 33, 33, 28, 33, 19, 19, 19, 31, 56, 56, 56, 56, 56, 22, 33, 44, 44, 33, 33, 33, 33, 33, 44, 44, 41, 41, 41, 41, 41, 41, 44, 44, 60, 87, 87, 87, 87, 41, 87, 41, 41, 41, 41, 29, 29, 41, 56, 29, 29, 29, 29, 38, 38, 38, 38, 34, 56, 56, 56, 56, 56, 56, 56, 56, 56, 21, 34, 21, 21, 21, 21, 21, 36, 33, 33, 33, 33, 33, 33, 33, 33, 14, 14, 14, 14, 14, 14, 36, 36, 36, 36, 36, 68, 68, 68, 68, 68, 68, 30, 13, 32, 32, 32, 32, 32, 32, 13, 13, 13, 13, 29, 29, 29, 29, 29, 50, 50, 68, 68, 33, 33, 33, 33, 36, 36, 36, 36, 7, 7, 28, 28, 28, 37, 37, 37, 37, 41, 41, 73, 73, 73, 73, 73, 73, 73, 75, 75, 75, 75, 73, 73, 73, 73, 73, 73, 12, 75, 75, 75, 26, 26, 26, 26, 75, 75, 75, 26, 58, 26, 26, 75, 75, 75, 75, 38, 38, 38, 38, 38, 38, 38, 73, 87, 87, 87, 43, 43, 43, 87, 87, 87, 87, 87, 87, 87, 87, 87, 87, 87, 87, 87, 77, 77, 64, 26, 26, 38, 38, 38, 38, 59, 59, 42, 42, 59, 59, 76, 76, 70, 70, 35, 47, 47, 51, 51, 52, 95, 95, 95, 95, 77, 77, 77, 33, 33, 33, 33, 13, 13, 77, 77, 77, 44, 41, 44, 44, 44, 41, 36, 36, 36, 36, 36, 36, 36, 36, 36, 36, 36, 36, 10, 10, 10, 10, 20, 20, 18, 18, 18, 18, 59, 87, 87, 87, 87, 37, 37, 87, 87, 87, 87, 87, 87, 37, 37, 65, 65, 65, 65, 65, 65, 65, 65, 65, 65, 65, 65, 65, 87, 87, 20, 20, 20, 65, 65, 65, 65, 65, 65, 65, 65, 58, 58, 33, 33, 58, 58, 58, 58, 58, 58, 33, 58, 23, 60, 60, 40, 33, 27, 27, 27, 63, 27, 27, 17, 17, 17, 17, 17, 25, 25, 24, 24, 63, 63, 63, 63, 63, 63, 63, 63, 63, 63, 63, 63, 24, 24, 24, 47, 47, 47, 25, 27, 63, 63, 63, 63, 8, 48, 31, 31, 38, 19, 39, 31, 35, 39, 39, 39, 39, 39, 39, 39, 39, 39, 39, 39, 39, 39, 58, 37, 21, 73, 38, 39, 39, 44, 33, 52, 46, 30, 26, 50, 50, 50, 50, 50, 50, 36, 68, 50, 13, 77, 22, 18, 18, 18, 21, 52, 39, 33, 22, 45, 45, 29, 29, 42, 49, 26, 20, 19, 29, 31, 42, 42, 66, 43, 28, 22, 33, 22, 33, 31, 45, 92, 58, 35, 32, 31, 31, 31, 72, 17, 28, 18, 20, 20, 24, 20, 20, 24, 24, 24, 24, 24, 50, 44, 87, 44, 44, 44, 44, 35, 35, 35, 35, 35, 35, 35, 37, 37, 25, 21, 39, 39, 39, 39, 39, 39, 39, 39, 39, 39, 30, 30, 52, 13, 41, 39, 39, 47, 37, 48, 48, 48, 48, 48, 48, 48, 48, 48, 48, 48, 48, 48, 48, 46, 46, 46, 78, 64, 21, 41, 42, 42, 42, 42, 42, 42, 42, 39, 58, 42, 42, 15, 15, 15, 33, 33, 15, 15, 49, 49, 49, 49, 49, 49, 49, 43, 49, 49, 23, 66, 24, 24, 24, 24, 24, 24, 87, 52, 62, 62, 48, 6, 6, 36, 36, 36, 76, 76, 44, 44, 72, 36, 44, 78, 41, 41, 46, 67, 111, 48, 48, 48, 48, 48, 48, 48, 48, 48, 48, 48, 48, 33, 33, 111, 24, 24, 24, 42, 37, 22, 31, 39, 51, 46, 33, 33, 33, 40, 23, 23, 54, 54, 54, 54, 59, 59, 52, 48, 87, 20, 20, 87, 22, 20, 20, 20, 28, 20, 20, 20, 20, 61, 28, 28, 28, 40, 40, 25, 37, 37, 37, 37, 37, 37, 37, 25, 12, 26, 26, 26, 52, 40, 68, 27, 92, 53, 56, 46, 46, 46, 56, 87, 46, 59, 36, 65, 18, 33, 35, 60, 53, 77, 70, 72, 23, 59, 59, 59, 59, 28, 28, 28, 28, 28, 28, 43, 18, 31, 41, 56, 35, 47, 41, 15, 27, 123, 26, 49, 49, 49, 28, 50, 60, 49, 42, 34, 102, 102, 50, 50, 50, 50, 50, 50, 50, 50, 50, 50, 50, 50, 102, 13, 102, 41, 41, 41, 102, 102, 9, 9, 9, 9, 49, 60, 17, 16, 66, 37, 16, 16, 18, 18, 18, 18, 59, 18, 8, 8, 58, 92, 85, 8, 17, 17, 62, 62, 62, 62, 62, 62, 62, 62, 62, 62, 62, 62, 52, 67, 15, 26, 76, 51, 24, 24, 24, 29, 95, 37, 40, 31, 24, 24, 46, 21, 24, 44, 33, 34, 62, 7, 17, 28, 37, 64, 18, 18, 34, 34, 34, 34, 34, 54, 67, 59, 20, 34, 36, 36, 36, 36, 11, 32, 76, 76, 102, 102, 16, 16, 16, 16, 21, 70, 66, 12, 20, 20, 131, 53, 53, 74, 37, 37, 9, 72, 72, 72, 72, 72, 72, 72, 72, 72, 72, 72, 72, 72, 72, 72, 72, 72, 27, 53, 27, 14, 33, 27, 27, 27, 27, 27, 68, 41, 41, 41, 45, 49, 24, 24, 35, 35, 35, 35, 35, 35, 35, 20, 20, 19, 35, 20, 35, 35, 24, 67, 31, 42, 64, 64, 44, 44, 44, 44, 44, 44, 44, 131, 131, 131, 131, 131, 131, 131, 131, 131, 131, 131, 131, 131, 131, 44, 75, 58, 52, 34, 35, 52, 131, 131, 131, 131, 131, 131, 131, 131, 131, 131, 131, 80, 51, 8, 63, 64, 39, 30, 32, 30, 42, 48, 24, 24, 24, 24, 24, 24, 24, 24, 14, 28, 28, 28, 28, 16, 41, 21, 58, 58, 58, 58, 58, 58, 58, 58, 58, 58, 19, 19, 19, 19, 44, 44, 44, 44, 44, 44, 44, 44, 44, 44, 44, 44, 44, 44, 44, 30, 30, 30, 123, 123, 123, 66, 81, 25, 48, 13, 72, 55, 44, 30, 30, 30, 62, 53, 38, 38, 44, 38, 38, 38, 38, 38, 38, 38, 38, 38, 38, 19, 19, 39, 51, 87, 30, 26, 40, 44, 44, 44, 44, 44, 22, 59, 16, 27, 41, 80, 42, 20, 46, 47, 60, 76, 27, 26, 26, 26, 26, 26, 26, 26, 26, 51, 51, 51, 53, 54, 62, 41, 41, 6, 18, 23, 14, 41, 31, 39, 51, 42, 38, 17, 22, 70, 100, 51, 51, 51, 69, 18, 28, 31, 70, 39, 45, 50, 35, 29, 123, 17, 17, 25, 25, 25, 25, 18, 25, 55, 65, 20, 57, 57, 57, 57, 57, 57, 57, 57, 102, 45, 43, 29, 57, 57, 57, 57, 57, 11, 11, 12, 12, 23, 31, 57, 37, 45, 45, 45, 45, 45, 45, 45, 76, 52, 67, 47, 47, 21, 60, 47, 47, 47, 52, 31, 36, 14, 23, 57, 66, 30, 18, 92, 73, 54, 50, 37, 47, 47, 47, 47, 35, 35, 35, 35, 35, 42, 42, 58, 32, 32, 20, 20, 20, 20, 59, 54, 54, 37, 22, 55, 25, 10, 44, 32, 36, 36, 36, 36, 36, 36, 36, 36, 36, 36, 36, 10, 10, 10, 31, 36, 36, 36, 42, 35, 66, 52, 47, 76, 36, 26, 26, 26, 26, 26, 26, 26, 26, 27, 27, 27, 27, 27, 41, 72, 27, 27, 27, 9, 9, 9, 21, 35, 29, 52, 52, 68, 13, 67, 42, 78, 38, 48, 32, 27, 27, 27, 27, 66, 36, 23, 55, 55, 55, 81, 61, 29, 49, 43, 43, 43, 60, 60, 60, 42, 56, 60, 44, 43, 44, 88, 57, 60, 60, 60, 60, 60, 60, 60, 60, 60, 60, 60, 60, 60, 13, 57, 58, 41, 41, 41, 41, 41, 41, 41, 57, 48, 55, 44, 29, 9, 49, 49, 49, 49, 49, 53, 33, 54, 54, 49, 49, 54, 51, 87, 30, 35, 65, 63, 49, 47, 41, 33, 33, 33, 52, 52, 15, 46, 52, 53, 16, 28, 29, 52, 52, 30, 30, 30, 30, 30, 30, 30, 30, 67, 25, 25, 25, 76, 76, 76, 76, 76, 76, 76, 76, 76, 76, 76, 76, 76, 76, 53, 44, 66, 28, 34, 41, 41, 41, 41, 41, 41, 41, 25, 40, 47, 47, 47, 47, 47, 47, 47, 47, 22, 31, 58, 48, 47, 47, 47, 47, 63, 47, 47, 31, 31, 31, 31, 46, 46, 46, 46, 46, 46, 46, 24, 19, 87, 44, 45, 46, 46, 46, 46, 46, 46, 46, 46, 46, 46, 42, 42, 131, 29, 43, 66, 46, 52, 43, 33, 71, 55, 9, 35, 35, 35, 44, 54, 60, 43, 30, 29, 37, 29, 52, 65, 78, 39, 31, 30, 18, 58, 60, 37, 37, 32, 65, 74, 38, 67, 53, 87, 48, 48, 48, 48, 48, 48, 48, 48, 48, 48, 34, 33, 64, 68, 34, 34, 45, 27, 30, 26, 41, 39, 47, 67, 70, 28, 56, 44, 45, 21, 39, 39, 39, 39, 39, 39, 39, 39, 29, 72, 30, 72, 72, 72, 72, 72, 72, 72, 72, 72, 72, 72, 11, 25, 25, 45, 29, 66, 60, 42, 76, 76, 29, 29, 29, 29, 29, 25, 25, 43, 40, 40, 40, 40, 29, 29, 35, 42, 40, 30, 30, 30, 30, 30, 30, 31, 31, 31, 31, 31, 31, 34, 34, 34, 34, 34, 34, 34, 34, 34, 34, 34, 29, 29, 29, 29, 29, 93, 93, 40, 40, 16, 16, 93, 93, 93, 65, 32, 29, 70, 34, 34, 34, 34, 70, 12, 34, 34, 34, 16, 63, 16, 16, 29, 29, 29, 29, 29, 29, 72, 49, 49, 39, 39, 39, 39, 39, 39, 39, 41, 21, 21, 15, 19, 19, 19, 20, 20, 20, 20, 25, 25, 25, 25, 25, 25, 25, 41, 25, 15, 31, 6, 64, 64, 64, 64, 64, 43, 74, 74, 64, 64, 64, 64, 64, 57, 28, 20, 20, 49, 49, 49, 49, 49, 49, 49, 49, 49, 49, 49, 60, 60, 60, 60, 60, 60, 60, 60, 60, 60, 60, 31, 31, 68, 60, 15, 15, 15, 38, 44, 44, 44, 48, 24, 24, 24, 24, 29, 29, 29, 48, 48, 50, 29, 14, 14, 50, 50, 17, 14, 16, 16, 16, 28, 40, 40, 40, 34, 42, 40, 40, 40, 40, 40, 70, 70, 70, 70, 70, 70, 70, 59, 23, 63, 63, 87, 87, 44, 22, 55, 70, 70, 33, 33, 33, 33, 39, 82, 9, 68, 68, 39, 53, 77, 36, 31, 37, 18, 18, 36, 36, 36, 36, 31, 31, 33, 62, 62, 17, 33, 31, 27, 27, 27, 27, 27, 27, 18, 16, 33, 33, 36, 73, 26, 33, 20, 26, 44, 26, 33, 44, 44, 50, 29, 19, 29, 22, 31, 20, 44, 39, 12, 60, 36, 37, 37, 30, 23, 22, 28, 60, 34, 60, 60, 37, 27, 46, 46, 59, 41, 44, 44, 44, 27, 49, 50, 41, 22, 19, 34, 19, 18, 41, 24, 35, 35, 131, 26, 38, 51, 51, 25, 30, 47, 17, 43, 58, 49, 25, 41, 47, 14, 21, 57, 57, 57, 39, 40, 8, 13, 14, 70, 21, 29, 29, 29, 29, 29, 29, 16, 16, 16, 16, 21, 38, 38, 41, 27, 27, 10, 42, 36, 43, 35, 35, 35, 35, 35, 35, 35, 35, 35, 35, 35, 35, 12, 12, 35, 35, 35, 35, 35, 35, 35, 35, 35, 35, 13, 13, 13, 13, 13, 13, 63, 14, 38, 65, 65, 14, 25, 46, 47, 38, 76, 38, 38, 76, 33, 60, 60, 60, 60, 60, 60, 60, 60, 60, 60, 60, 60, 60, 60, 60, 60, 60, 60, 60, 60, 60, 60, 60, 60, 60, 50, 44, 50, 45, 23, 26, 45, 39, 25, 30, 60, 60, 40, 40, 40, 40, 40, 40, 40, 40, 40, 58, 58, 58, 58, 37, 37, 31, 37, 43, 54, 60, 65, 70, 70, 47, 15, 45, 23, 58, 58, 47, 34, 47, 47, 47, 47, 47, 47, 47, 47, 47, 23, 23, 23, 23, 41, 41, 41, 64, 19, 75, 47, 49, 20, 20, 20, 45, 45, 45, 45, 45, 32, 32, 32, 43, 17, 28, 102, 102, 102, 53, 59, 45, 23, 49, 58, 28, 28, 28, 28, 28, 52, 52, 52, 52, 52, 52, 52, 52, 52, 52, 58, 70, 52, 52, 52, 22, 26, 26, 26, 49, 54, 66, 33, 9, 45, 63, 28, 24, 23, 23, 29, 24, 26, 29, 41, 41, 41, 41, 41, 41, 41, 33, 64, 28, 41, 41, 41, 64, 26, 26, 24, 19, 54, 22, 27, 37, 25, 55, 16, 16, 59, 59, 24, 59, 59, 29, 24, 24, 15, 39, 16, 16, 37, 37, 41, 41, 45, 37, 34, 62, 19, 19, 19, 51, 70, 36, 36, 36, 36, 40, 79, 71, 54, 35, 25, 25, 25, 25, 25, 25, 25, 25, 25, 45, 43, 43, 43, 43, 43, 43, 45, 40, 37, 49, 22, 43, 31, 29, 38, 40, 15, 47, 60, 7, 13, 13, 68, 35, 10, 52, 52, 51, 56, 58, 58, 44, 30, 44, 29, 56, 56, 56, 56, 56, 56, 32, 46, 21, 30, 57, 27, 14, 32, 22, 22, 22, 22, 22, 31, 22, 22, 22, 22, 19, 19, 19, 21, 30, 30, 30, 29, 63, 48, 30, 30, 30, 30, 31, 31, 16, 16, 63, 63, 63, 63, 63, 63, 63, 63, 63, 14, 42, 42, 73, 73, 73, 63, 63, 63, 24, 24, 24, 24, 24, 24, 50, 50, 50, 50, 50, 50, 50, 50, 50, 50, 50, 50, 50, 73, 33, 41, 16, 35, 16, 18, 50, 29, 29, 71, 71, 71, 71, 71, 71, 71, 27, 38, 18, 12, 12, 12, 12, 22, 66, 66, 66, 66, 66, 48, 46, 46, 46, 46, 46, 46, 46, 38, 41, 36, 29, 37, 74, 32, 14, 51, 51, 51, 51, 51, 51, 51, 51, 51, 51, 51, 51, 40, 48, 48, 48, 48, 48, 48, 48, 48, 48, 48, 21, 48, 48, 48, 48, 48, 21, 21, 18, 18, 18, 29, 23, 37, 63, 51, 38, 38, 38, 45, 23, 23, 23, 30, 22, 22, 22, 58, 40, 40, 40, 28, 22, 22, 28, 28, 28, 28, 26, 39, 39, 33, 9, 20, 43, 49, 28, 41, 41, 41, 42, 42, 42, 30, 26, 26, 20, 19, 22, 36, 25, 15, 16, 76, 39, 39, 39, 39, 39, 39, 43, 39, 39, 72, 43, 43, 43, 43, 43, 23, 51, 51, 69, 18, 23, 23, 23, 23, 55, 32, 55, 22, 22, 22, 15, 15, 22, 22, 22, 33, 33, 33, 33, 33, 33, 26, 26, 22, 26, 26, 49, 49, 49, 49, 49, 49, 24, 66, 48, 26, 49, 49, 49, 49, 49, 49, 19, 19, 41, 41, 41, 41, 41, 41, 41, 41, 16, 46, 68, 62, 26, 14, 65, 41, 19, 19, 19, 23, 23, 23, 23, 49, 49, 77, 23, 23, 27, 27, 27, 27, 27, 27, 27, 27, 31, 59, 48, 31, 31, 31, 31, 31, 31, 10, 44, 50, 25, 44, 25, 46, 25, 25, 25, 29, 32, 40, 48, 36, 22, 13, 28, 24, 28, 42, 54, 70, 29, 43, 43, 57, 32, 70, 43, 43, 43, 43, 42, 54, 38, 35, 36, 40, 57, 62, 58, 52, 38, 38, 38, 38, 38, 38, 29, 21, 21, 21, 56, 56, 56, 56, 56, 56, 60, 21, 27, 31, 31, 31, 56, 56, 34, 56, 64, 20, 67, 44, 56, 37, 32, 42, 42, 42, 42, 42, 42, 42, 42, 42, 42, 42, 42, 42, 43, 25, 49, 49, 49, 49, 49, 49, 49, 49, 49, 49, 44, 44, 44, 44, 44, 44, 44, 44, 44, 44, 40, 40, 40, 40, 40, 40, 46, 39, 40, 40, 40, 40, 40, 46, 46, 46, 46, 46, 46, 46, 46, 46, 46, 46, 46, 46, 46, 26, 62, 20, 62, 46, 46, 42, 42, 42, 42, 42, 42, 42, 42, 14, 40, 40, 25, 58, 34, 24, 42, 37, 37, 37, 37, 37, 37, 37, 37, 24, 24, 31, 31, 58, 75, 75, 13, 47, 47, 78, 45, 62, 33, 47, 47, 47, 47, 47, 36, 42, 57, 57, 57, 18, 59, 20, 23, 29, 60, 57, 19, 47, 23, 45, 24, 16, 30, 47, 30, 63, 71, 48, 23, 20, 20, 20, 20, 20, 18, 18, 18, 18, 18, 18, 18, 27, 29, 25, 25, 29, 21, 76, 76, 40, 76, 76, 76, 7, 76, 33, 33, 33, 50, 36, 33, 23, 55, 55, 55, 64, 52, 64, 64, 11, 41, 20, 31, 73, 33, 33, 50, 73, 73, 56, 56, 56, 50, 50, 18, 18, 37, 37, 65, 47, 25, 23, 58, 58, 52, 43, 46, 50, 70, 44, 36, 36, 36, 36, 36, 36, 36, 36, 36, 36, 45, 45, 45, 45, 45, 45, 49, 45, 45, 37, 37, 36, 36, 17, 36, 36, 36, 36, 36, 36, 13, 27, 27, 27, 27, 27, 27, 27, 27, 27, 27, 33, 33, 33, 33, 33, 33, 33, 55, 33, 33, 16, 16, 23, 23, 23, 23, 56, 23, 45, 48, 48, 56, 56, 48, 40, 54, 54, 45, 45, 48, 35, 48, 48, 48, 48, 22, 45, 61, 41, 15, 47, 32, 13, 7, 7, 46, 50, 27, 53, 53, 53, 68, 68, 28, 20, 20, 20, 16, 56, 44, 44, 58, 55, 55, 55, 55, 58, 44, 44, 31, 30, 30, 30, 27, 62, 30, 55, 55, 30, 64, 36, 44, 44, 41, 14, 41, 64, 64, 64, 64, 64, 64, 64, 64, 64, 64, 16, 64, 31, 16, 18, 18, 31, 74, 74, 74, 74, 74, 74, 22, 29, 74, 46, 46, 21, 22, 29, 38, 38, 48, 48, 48, 48, 37, 37, 37, 38, 53, 53, 40, 26, 53, 43, 43, 43, 23, 29, 37, 37, 37, 46, 20, 41, 43, 42, 42, 42, 42, 42, 42, 28, 28, 28, 28, 28, 28, 28, 28, 20, 18, 18, 18, 36, 36, 36, 36, 41, 47, 22, 22, 14, 43, 34, 36, 36, 26, 26, 26, 26, 26, 26, 26, 22, 22, 22, 41, 41, 41, 13, 69, 41, 41, 41, 41, 25, 45, 45, 45, 45, 45, 45, 45, 45, 45, 54, 44, 19, 17, 45, 45, 8, 8, 8, 8, 54, 54, 54, 54, 54, 87, 72, 52, 16, 52, 52, 43, 43, 54, 54, 54, 54, 54, 54, 54, 54, 54, 54, 25, 25, 25, 25, 25, 39, 39, 39, 39, 39, 39, 42, 77, 64, 11, 65, 23, 39, 62, 39, 39, 39, 19, 31, 31, 31, 31, 31, 31, 31, 31, 13, 13, 13, 13, 13, 49, 59, 59, 59, 59, 36, 23, 19, 49, 49, 25, 25, 25, 25, 25, 15, 59, 74, 62, 28, 68, 31, 31, 33, 13, 13, 13, 52, 44, 11, 65, 65, 65, 65, 65, 31, 31, 31, 31, 31, 20, 20, 24, 37, 58, 40, 43, 45, 15, 26, 33, 60, 60, 60, 54, 27, 37, 38, 41, 60, 32, 60, 43, 62, 76, 39, 11, 43, 43, 39, 51, 60, 42, 21, 70, 23, 23, 58, 52, 46, 44, 37, 45, 52, 32, 32, 32, 32, 32, 32, 32, 62, 64, 68, 32, 42, 29, 32, 12, 12, 47, 47, 47, 47, 47, 47, 47, 47, 47, 52, 41, 29, 24, 38, 48, 37, 47, 47, 47, 47, 47, 33, 33, 33, 33, 33, 33, 32, 68, 57, 123, 44, 38, 41, 92, 92, 31, 31, 62, 34, 60, 45, 39, 57, 31, 37, 37, 37, 37, 37, 37, 37, 37, 37, 37, 37, 73, 73, 73, 73, 73, 73, 73, 73, 73, 73, 73, 73, 73, 73, 73, 73, 73, 73, 73, 72, 52, 87, 26, 76, 44, 61, 67, 40, 56, 70, 97, 53, 83, 59, 77, 59, 19, 59, 52, 51, 48, 48, 102, 80, 77, 21, 68, 56, 56, 56, 55, 55, 26, 39, 80, 32, 63, 61, 29, 41, 33, 33, 50, 49, 19, 131, 80, 30, 20, 25, 47, 80, 26, 80, 80, 80, 80, 80, 80, 80, 80, 80, 80, 80, 80, 80, 80, 80, 80, 80, 80, 53, 53, 53, 53, 53, 53, 60, 49, 70, 30, 53, 53, 65, 51, 43, 25, 23, 38, 19, 46, 35, 22, 54, 51, 51, 58, 51, 25, 51, 67, 51, 51, 51, 51, 51, 51, 51, 51, 51, 51, 51, 62, 62, 62, 62, 62, 56, 28, 71, 100, 41, 31, 30, 62, 62, 62, 62, 62, 62, 50, 50, 46, 21, 50, 50, 27, 50, 50, 50, 50, 50, 50, 50, 68, 50, 50, 26, 40, 31, 32, 30, 27, 32, 33, 41, 43, 42, 42, 43, 45, 25, 36, 74, 64, 21, 24, 30, 30, 30, 48, 41, 21, 45, 45, 42, 47, 30, 30, 30, 30, 30, 30, 30, 30, 30, 30, 58, 33, 67, 59, 29, 49, 47, 23, 42, 22, 34, 67, 123, 123, 123, 123, 44, 37, 37, 37, 37, 37, 37, 37, 30, 30, 30, 30, 30, 43, 43, 66, 43, 43, 43, 43, 43, 43, 43, 66, 28, 43, 38, 41, 44, 32, 43, 26, 26, 26, 41, 51, 88, 57, 27, 22, 62, 55, 25, 53, 25, 33, 54, 39, 60, 54, 30, 54, 54, 54, 54, 54, 54, 54, 54, 92, 92, 92, 92, 92, 92, 92, 92, 92, 92, 92, 92, 92, 92, 29, 8, 5, 38, 38, 38, 38, 38, 38, 51, 72, 87, 30, 37, 37, 30, 35, 37, 37, 41, 41, 41, 41, 41, 41, 41, 41, 65, 69, 55, 55, 55, 15, 42, 41, 41, 41, 55, 55, 47, 29, 52, 61, 46, 49, 75, 57, 55, 55, 55, 55, 55, 55, 55, 55, 55, 55, 55, 55, 55, 55, 55, 55, 27, 53, 53, 23, 28, 45, 60, 67, 21, 62, 32, 41, 47, 47, 10, 62, 61, 60, 60, 60, 60, 26, 26, 26, 26, 26, 26, 26, 26, 17, 33, 18, 92, 92, 92, 92, 92, 92, 92, 92, 92, 92, 92, 92, 92, 92, 92, 92, 92, 92, 92, 92, 92, 92, 92, 92, 92, 92, 92, 92, 33, 50, 23, 48, 13, 29, 43, 35, 20, 12, 28, 70, 60, 60, 60, 60, 60, 60, 60, 60, 60, 60, 31, 31, 31, 31, 31, 26, 47, 8, 33, 31, 31, 31, 31, 31, 27, 27, 27, 27, 27, 27, 27, 27, 27, 27, 27, 54, 43, 15, 54, 67, 60, 60, 45, 22, 37, 37, 37, 37, 37, 37, 37, 81, 81, 81, 81, 81, 81, 81, 81, 58, 36, 31, 81, 81, 81, 81, 81, 81, 65, 65, 65, 65, 65, 65, 65, 65, 65, 65, 65, 65, 65, 65, 65, 65, 65, 45, 44, 29, 19, 61, 39, 51, 92, 92, 59, 53, 16, 22, 16, 16, 16, 16, 16, 16, 56, 56, 56, 56, 56, 56, 56, 56, 65, 21, 41, 29, 51, 60, 43, 43, 43, 43, 43, 43, 43, 43, 43, 43, 43, 43, 70, 75, 38, 68, 42, 47, 47, 26, 31, 56, 63, 39, 25, 26, 42, 43, 43, 43, 43, 17, 17, 17, 42, 42, 42, 42, 60, 52, 62, 44, 35, 55, 33, 35, 49, 43, 17, 35, 42, 42, 42, 42, 29, 58, 58, 58, 58, 58, 58, 58, 58, 58, 58, 44, 18, 22, 32, 21, 58, 58, 58, 78, 78, 78, 78, 78, 78, 78, 78, 78, 83, 95, 19, 46, 43, 78, 78, 32, 32, 57, 66, 32, 11, 43, 43, 43, 43, 45, 47, 43, 43, 42, 25, 73, 41, 32, 21, 21, 21, 21, 21, 21, 21, 21, 21, 21, 13, 13, 13, 13, 43, 50, 56, 23, 23, 48, 52, 28, 58, 21, 21, 21, 70, 70, 70, 70, 70, 70, 70, 70, 70, 70, 70, 70, 70, 70, 70, 70, 70, 70, 70, 70, 70, 70, 58, 56, 29, 31, 70, 70, 70, 21, 42, 25, 25, 71, 61, 61, 41, 41, 42, 59, 37, 29, 20, 39, 39, 39, 20, 20, 20, 20, 23, 23, 23, 23, 23, 23, 49, 47, 29, 41, 46, 12, 28, 32, 57, 123, 123, 16, 31, 31, 31, 31, 31, 31, 47, 47, 47, 47, 47, 47, 47, 123, 59, 51, 66, 66, 66, 47, 44, 28, 28, 43, 50, 25, 25, 27, 88, 50, 38, 57, 57, 44, 44, 44, 8, 8, 13, 78, 46, 25, 25, 25, 25, 25, 13, 111, 33, 25, 25, 25, 66, 28, 28, 72, 28, 28, 28, 28, 28, 28, 28, 28, 28, 28, 28, 28, 28, 28, 28, 26, 54, 39, 32, 32, 32, 32, 32, 32, 32, 32, 32, 32, 22, 22, 22, 22, 22, 22, 22, 44, 28, 27, 51, 45, 45, 46, 43, 52, 63, 63, 23, 65, 44, 72, 44, 23, 23, 23, 58, 58, 23, 55, 55, 58, 58, 58, 41, 44, 38, 58, 58, 58, 58, 58, 58, 58, 58, 58, 9, 9, 67, 67, 67, 67, 67, 45, 52, 67, 52, 52, 67, 67, 67, 67, 67, 67, 38, 38, 38, 42, 30, 67, 49, 70, 37, 43, 38, 38, 38, 38, 74, 77, 53, 70, 70, 70, 70, 70, 15, 15, 15, 15, 15, 15, 15, 83, 40, 40, 72, 46, 73, 66, 20, 52, 48, 28, 28, 28, 28, 31, 61, 28, 14, 34, 34, 34, 67, 77, 106, 101, 42, 52, 52, 52, 52, 41, 41, 31, 26, 51, 52, 46, 72, 52, 52, 26, 31, 38, 57, 64, 20, 7, 78, 68, 32, 64, 64, 64, 64, 64, 64, 64, 64, 64, 64, 64, 64, 19, 19, 33, 18, 18, 18, 18, 10, 10, 10, 10, 10, 10, 10, 37, 37, 37, 37, 25, 25, 25, 25, 25, 25, 25, 29, 29, 29, 29, 29, 29, 29, 29, 29, 31, 49, 19, 19, 131, 131, 58, 30, 38, 44, 44, 44, 44, 44, 44, 44, 44, 44, 44, 44, 51, 51, 44, 44, 44, 44, 44, 44, 44, 44, 44, 24, 24, 24, 24, 24, 24, 24, 24, 24, 24, 51, 37, 37, 37, 45, 47, 15, 15, 15, 15, 35, 36, 19, 43, 29, 14, 8, 29, 39, 25, 14, 40, 36, 36, 36, 36, 36, 70, 11, 75, 75, 75, 11, 31, 31, 31, 23, 35, 47, 20, 20, 20, 24, 36, 30, 75, 75, 75, 24, 24, 24, 41, 47, 47, 47, 47, 43, 43, 23, 49, 41, 29, 42, 47, 47, 8, 8, 8, 8, 20, 20, 20, 20, 20, 20, 20, 20, 56, 56, 56, 56, 56, 56, 56, 56, 46, 50, 26, 25, 56, 56, 56, 56, 56, 56, 56, 56, 56, 56, 55, 55, 47, 33, 55, 49, 49, 49, 49, 49, 49, 73, 73, 73, 56, 80, 80, 60, 65, 65, 49, 49, 49, 49, 43, 43, 32, 58, 32, 43, 43, 70, 70, 39, 43, 43, 43, 43, 39, 23, 50, 50, 43, 43, 43, 21, 25, 28, 58, 67, 38, 38, 70, 58, 58, 58, 58, 34, 41, 18, 18, 18, 18, 18, 10, 46, 46, 28, 28, 41, 41, 42, 42, 42, 44, 20, 19, 19, 47, 17, 53, 53, 21, 46, 49, 49, 54, 58, 35, 102, 35, 48, 48, 22, 44, 59, 28, 23, 35, 52, 33, 33, 28, 26, 64, 64, 31, 19, 54, 54, 58, 58, 22, 25, 55, 59, 52, 53, 53, 53, 53, 53, 53, 53, 53, 53, 59, 59, 59, 35, 35, 56, 53, 53, 45, 39, 34, 63, 63, 62, 16, 16, 16, 16, 40, 79, 71, 54, 28, 54, 60, 45, 14, 14, 37, 37, 37, 37, 59, 59, 40, 40, 40, 11, 36, 29, 29, 31, 100, 34, 55, 49, 33, 33, 33, 33, 26, 26, 26, 26, 26, 22, 21, 21, 21, 21, 21, 21, 33, 51, 46, 46, 46, 46, 46, 46, 40, 31, 59, 26, 31, 72, 21, 46, 46, 46, 46, 21, 36, 10, 20, 51, 51, 56, 44, 58, 32, 21, 23, 23, 23, 49, 49, 49, 49, 49, 49, 49, 30, 27, 57, 57, 32, 31, 31, 39, 23, 21, 48, 44, 41, 44, 74, 74, 42, 42, 42, 42, 68, 30, 25, 73, 73, 73, 41, 74, 74, 74, 74, 74, 74, 74, 74, 74, 74, 47, 47, 47, 47, 47, 47, 47, 47, 47, 47, 47, 47, 47, 11, 11, 11, 11, 15, 15, 42, 16, 32, 42, 42, 38, 43, 45, 66, 54, 54, 54, 54, 54, 54, 54, 54, 54, 54, 54, 54, 66, 66, 66, 58, 66, 66, 25, 25, 48, 10, 70, 70, 70, 70, 70, 70, 70, 70, 70, 70, 48, 70, 41, 30, 70, 70, 70, 20, 20, 20, 37, 58, 58, 58, 58, 64, 30, 46, 58, 58, 58, 58, 58, 58, 58, 58, 16, 16, 19, 19, 19, 19, 19, 19, 19, 19, 17, 17, 17, 17, 21, 24, 15, 21, 29, 71, 71, 71, 48, 41, 37, 37, 34, 51, 51, 51, 48, 48, 48, 48, 48, 51, 32, 32, 48, 48, 34, 34, 32, 32, 34, 34, 34, 40, 61, 61, 61, 38, 38, 18, 54, 54, 48, 48, 48, 59, 41, 21, 44, 44, 44, 21, 21, 53, 30, 30, 45, 45, 46, 45, 42, 42, 66, 22, 22, 22, 38, 38, 38, 47, 47, 33, 40, 26, 59, 26, 39, 28, 37, 37, 46, 46, 46, 46, 19, 20, 43, 44, 49, 47, 47, 23, 33, 44, 29, 29, 29, 28, 20, 20, 14, 14, 14, 14, 19, 42, 42, 42, 42, 42, 42, 42, 42, 42, 42, 42, 42, 42, 42, 44, 44, 27, 41, 41, 67, 31, 31, 31, 44, 44, 44, 49, 49, 49, 49, 49, 49, 13, 46, 34, 61, 32, 28, 24, 49, 49, 24, 24, 27, 14, 26, 49, 30, 30, 30, 26, 26, 29, 29, 29, 29, 29, 29, 29, 29, 29, 29, 29, 29, 29, 15, 15, 15, 15, 26, 20, 68, 68, 20, 20, 12, 59, 59, 59, 59, 59, 59, 59, 59, 59, 59, 15, 15, 15, 15, 15, 15, 27, 27, 27, 27, 27, 13, 13, 13, 54, 29, 39, 28, 67, 45, 32, 54, 54, 54, 54, 54, 54, 54, 54, 54, 23, 43, 43, 43, 53, 53, 53, 53, 53, 53, 53, 23, 23, 53, 53, 25, 27, 47, 66, 66, 66, 66, 66, 6, 49, 15, 57, 66, 66, 66, 66, 66, 66, 66, 66, 66, 52, 52, 52, 52, 52, 52, 52, 52, 52, 52, 52, 52, 52, 52, 52, 57, 123, 123, 21, 44, 44, 44, 15, 15, 15, 15, 44, 44, 35, 16, 59, 24, 33, 33, 51, 35, 33, 30, 44, 44, 66, 66, 14, 26, 66, 66, 66, 66, 35, 25, 22, 18, 16, 37, 66, 66, 28, 19, 13, 18, 56, 56, 20, 40, 29, 46, 33, 9, 20, 68, 9, 45, 45, 68, 43, 45, 45, 81, 81, 36, 45, 45, 45, 45, 45, 45, 45, 19, 19, 19, 19, 19, 25, 32, 38, 38, 41, 63, 63, 63, 63, 63, 63, 63, 47, 47, 43, 43, 15, 21, 21, 44, 44, 44, 63, 63, 62, 62, 62, 62, 30, 30, 17, 69, 69, 36, 36, 62, 62, 62, 28, 22, 25, 62, 27, 88, 88, 62, 62, 62, 62, 62, 62, 62, 62, 57, 60, 87, 87, 87, 46, 46, 46, 46, 46, 46, 46, 46, 46, 46, 8, 61, 61, 61, 61, 61, 61, 61, 61, 61, 61, 61, 61, 48, 61, 48, 48, 61, 61, 61, 38, 27, 47, 33, 33, 33, 33, 33, 33, 16, 16, 16, 21, 21, 21, 21, 21, 21, 21, 21, 21, 21, 21, 35, 35, 35, 35, 35, 27, 27, 27, 27, 20, 47, 28, 28, 28, 28, 33, 45, 45, 45, 45, 48, 29, 43, 67, 39, 39, 39, 39, 39, 39, 67, 18, 76, 76, 76, 39, 39, 39, 39, 39, 49, 49, 49, 49, 49, 49, 49, 39, 37, 37, 57, 62, 36, 48, 48, 52, 8, 8, 8, 10, 10, 10, 16, 16, 16, 16, 16, 16, 18, 44, 72, 72, 37, 55, 43, 43, 44, 29, 29, 29, 29, 29, 62, 44, 29, 29, 16, 16, 35, 35, 35, 35, 35, 35, 35, 44, 21, 21, 34, 78, 62, 62, 46, 19, 29, 22, 22, 35, 29, 46, 67, 67, 67, 25, 16, 59, 32, 25, 26, 26, 26, 26, 15, 15, 15, 15, 15, 53, 25, 35, 13, 28, 28, 28, 28, 28, 28, 29, 26, 17, 40, 34, 28, 25, 18, 59, 56, 49, 52, 52, 50, 33, 32, 10, 44, 32, 52, 26, 17, 52, 52, 17, 16, 16, 42, 42, 11, 38, 38, 33, 33, 33, 33, 111, 92, 92, 92, 92, 92, 92, 33, 33, 33, 33, 33, 33, 33, 19, 64, 64, 64, 64, 64, 64, 32, 40, 40, 40, 40, 40, 33, 33, 24, 37, 42, 42, 65, 65, 39, 60, 60, 22, 22, 22, 22, 22, 22, 22, 43, 43, 43, 43, 72, 54, 54, 28, 47, 54, 54, 54, 30, 30, 30, 30, 21, 39, 41, 41, 41, 35, 35, 26, 35, 30, 26, 26, 26, 26, 26, 28, 28, 27, 22, 19, 59, 44, 31, 51, 51, 46, 46, 56, 56, 43, 43, 44, 64, 44, 44, 44, 39, 31, 53, 22, 22, 29, 28, 32, 28, 24, 24, 52, 31, 31, 31, 31, 31, 31, 31, 46, 46, 46, 46, 46, 46, 46, 46, 46, 46, 46, 46, 46, 46, 63, 16, 44, 44, 44, 44, 44, 44, 44, 48, 48, 44, 44, 29, 72, 60, 87, 87, 87, 87, 87, 29, 29, 29, 29, 29, 29, 29, 29, 29, 31, 31, 31, 87, 17, 17, 30, 30, 76, 76, 76, 19, 19, 63, 82, 35, 65, 65, 56, 44, 35, 63, 49, 49, 69, 29, 29, 21, 21, 41, 21, 58, 58, 58, 58, 58, 58, 58, 119, 72, 72, 44, 44, 23, 14, 23, 28, 55, 85, 85, 87, 87, 19, 15, 15, 44, 44, 36, 29, 42, 26, 37, 37, 38, 38, 38, 38, 38, 38, 37, 37, 37, 37, 37, 37, 37, 37, 38, 38, 41, 43, 47, 47, 25, 25, 25, 25, 25, 25, 25, 25, 25, 25, 52, 34, 35, 45, 29, 52, 35, 61, 67, 67, 67, 67, 67, 67, 45, 17, 55, 55, 55, 52, 52, 52, 55, 55, 55, 55, 55, 55, 55, 55, 55, 55, 55, 59, 14, 51, 16, 46, 46, 44, 25, 59, 59, 32, 32, 32, 52, 52, 52, 52, 52, 52, 52, 52, 52, 52, 52, 52, 52, 74, 30, 30, 23, 52, 52, 25, 25, 25, 25, 38, 50, 29, 25, 25, 25, 25, 59, 29, 67, 67, 67, 52, 50, 50, 50, 40, 40, 59, 60, 60, 43, 41, 32, 31, 31, 31, 68, 68, 59, 59, 59, 59, 59, 59, 59, 59, 59, 59, 59, 59, 59, 59, 59, 59, 59, 59, 59, 29, 29, 68, 68, 68, 29, 67, 67, 67, 67, 67, 67, 67, 67, 67, 67, 68, 66, 49, 30, 60, 60, 60, 60, 60, 60, 60, 60, 60, 60, 67, 67, 67, 67, 67, 67, 67, 35, 35, 35, 35, 35, 60, 60, 33, 56, 70, 70, 23, 57, 57, 57, 57, 75, 35, 35, 35, 39, 39, 39, 39, 39, 39, 39, 60, 46, 46, 31, 31, 37, 25, 60, 60, 60, 14, 75, 39, 56, 56, 56, 56, 56, 56, 56, 56, 56, 75, 58, 75, 101, 58, 52, 52, 52, 52, 38, 73, 56, 56, 56, 56, 56, 56, 56, 56, 56, 53, 73, 93, 93, 87, 87, 53, 53, 53, 53, 53, 53, 53, 53, 53, 53, 53, 53, 53, 53, 53, 53, 8, 8, 19, 19, 19, 19, 19, 19, 19, 19, 19, 87, 74, 74, 77, 77, 77, 77, 77, 64, 64, 45, 45, 45, 81, 97, 27, 32, 9, 9, 9, 9, 9, 9, 39, 39, 39, 39, 39, 39, 39, 39, 39, 38, 38, 23, 39, 39, 39, 39, 39, 44, 44, 44, 44, 44, 44, 44, 44, 44, 44, 44, 44, 44, 44, 44, 44, 44, 45, 45, 45, 45, 45, 45, 45, 45, 45, 45, 45, 45, 62, 62, 53, 34, 34, 53, 53, 53, 53, 56, 56, 56, 56, 56, 56, 56, 53, 53, 29, 29, 29, 49, 59, 59, 83, 83, 40, 56, 56, 56, 43, 43, 43, 43, 43, 43, 43, 43, 43, 43, 43, 63, 63, 63, 63, 63, 63, 63, 63, 63, 63, 63, 40, 33, 59, 59, 26, 26, 26, 70, 70, 63, 63, 63, 63, 63, 63, 63, 63, 63, 13, 13, 13, 13, 13, 13, 37, 37, 37, 55, 37, 37, 59, 59, 59, 59, 59, 55, 42, 20, 20, 59, 59, 59, 59, 59, 59, 59, 59, 59, 59, 59, 59, 59, 59, 17, 17, 20, 59, 50, 35, 47, 63, 61, 51, 51, 51, 71, 71, 62, 62, 62, 62, 62, 62, 62, 62, 62, 62, 62, 62, 62, 62, 62, 62, 62, 62, 62, 62, 51, 51, 51, 51, 51, 51, 51, 51, 51, 52, 31, 31, 19, 19, 72, 72, 51, 51, 51, 72, 25, 46, 46, 63, 70, 61, 73, 77, 66, 13, 36, 59, 59, 43, 43, 43, 43, 43, 65, 65, 70, 70, 70, 70, 65, 20, 6, 14, 49, 26, 26, 72, 20, 20, 20, 10, 10, 21, 25, 21, 52, 28, 62, 62, 51, 28, 31, 15, 31, 31, 31, 31, 31, 31, 31, 27, 48, 40, 40, 40, 40, 40, 40, 40, 40, 40, 40, 48, 13, 40, 40, 40, 40, 22, 79, 79, 79, 79, 79, 79, 79, 41, 79, 41, 31, 31, 21, 85, 50, 57, 57, 50, 50, 50, 71, 71, 37, 12, 12, 43, 71, 71, 71, 43, 39, 45, 77, 60, 71, 71, 71, 60, 60, 29, 71, 19, 19, 19, 19, 29, 87, 87, 87, 87, 48, 48, 48, 48, 48, 48, 48, 48, 48, 48, 48, 48, 48, 48, 48, 30, 12, 12, 12, 12, 12, 54, 54, 54, 43, 43, 61, 61, 61, 61, 67, 54, 54, 54, 54, 67, 67, 67, 102, 102, 61, 61, 61, 61, 61, 54, 54, 54, 54, 54, 61, 31, 31, 31, 31, 31, 31, 11, 11, 11, 11, 11, 11, 35, 35, 35, 80, 90, 20, 20, 20, 77, 77, 77, 77, 77, 25, 106, 106, 106, 21, 21, 101, 45, 42, 42, 42, 58, 60, 60, 60, 60, 60, 60, 60, 60, 60, 60, 23, 57, 24, 40, 40, 45, 45, 45, 45, 45, 45, 27, 21, 25, 25, 25, 12, 53, 38, 68, 68, 68, 68, 38, 38, 38, 38, 38, 38, 38, 38, 38, 29, 29, 29, 29, 68, 68, 29, 29, 29, 33, 41, 32, 31, 24, 26, 12, 29, 29, 29, 29, 68, 41, 40, 40, 40, 40, 40, 40, 40, 40, 40, 40, 11, 12, 26, 44, 15, 29, 29, 29, 29, 29, 27, 27, 27, 27, 27, 17, 17, 17, 40, 40, 39, 41, 29, 51, 31, 40, 46, 46, 47, 78, 78, 38, 80, 40, 40, 37, 37, 37, 37, 22, 26, 26, 13, 37, 37, 37, 37, 72, 72, 72, 47, 47, 18, 18, 24, 24, 24, 24, 24, 23, 23, 23, 23, 13, 13, 13, 35, 35, 35, 35, 35, 35, 35, 35, 35, 35, 35, 35, 35, 35, 35, 35, 13, 32, 32, 26, 22, 13, 7, 49, 49, 49, 49, 49, 49, 49, 52, 27, 47, 47, 22, 34, 33, 48, 8, 8, 49, 49, 49, 49, 49, 36, 36, 36, 31, 31, 32, 36, 36, 36, 16, 31, 31, 31, 31, 48, 48, 28, 48, 44, 44, 44, 44, 44, 44, 44, 44, 44, 44, 44, 48, 44, 44, 44, 44, 44, 48, 24, 24, 24, 24, 35, 35, 48, 50, 50, 50, 50, 35, 35, 35, 35, 35, 35, 35, 35, 50, 29, 29, 31, 28, 49, 55, 12, 24, 45, 60, 25, 14, 70, 11, 19, 19, 19, 20, 29, 56, 57, 31, 31, 31, 31, 31, 31, 31, 31, 31, 100, 100, 100, 100, 100, 100, 100, 100, 100, 100, 100, 100, 100, 100, 100, 100, 100, 100, 100, 100, 100, 100, 100, 100, 100, 100, 48, 48, 47, 73, 80, 58, 23, 100, 6, 6, 6, 25, 11, 22, 22, 22, 56, 56, 22, 22, 22, 22, 22, 22, 49, 35, 44, 31, 31, 31, 31, 31, 31, 31, 31, 31, 54, 54, 45, 62, 28, 31, 31, 31, 8, 8, 8, 32, 32, 32, 32, 32, 32, 32, 32, 32, 32, 32, 32, 32, 32, 26, 64, 64, 41, 41, 41, 41, 41, 41, 41, 41, 41, 41, 19, 19, 19, 19, 19, 44, 44, 44, 44, 44, 44, 44, 44, 44, 44, 44, 44, 19, 58, 25, 55, 59, 59, 39, 39, 56, 56, 56, 63, 51, 53, 71, 54, 29, 45, 45, 45, 29, 45, 45, 45, 45, 45, 17, 17, 17, 64, 64, 64, 64, 64, 64, 64, 64, 64, 64, 64, 64, 64, 64, 40, 18, 49, 31, 57, 32, 72, 72, 21, 21, 68, 52, 44, 22, 61, 30, 61, 61, 30, 27, 61, 61, 61, 31, 31, 31, 39, 30, 29, 48, 33, 61, 61, 61, 61, 61, 61, 61, 61, 61, 26, 26, 26, 26, 44, 44, 30, 11, 11, 10, 38, 38, 38, 38, 42, 42, 66, 25, 25, 38, 38, 38, 38, 41, 48, 41, 41, 36, 36, 74, 32, 32, 22, 24, 21, 41, 41, 29, 71, 71, 29, 41, 42, 42, 42, 42, 42, 42, 37, 37, 55, 51, 51, 32, 38, 55, 61, 55, 61, 61, 38, 48, 49, 49, 49, 49, 49, 49, 49, 49, 49, 59, 41, 21, 53, 53, 49, 49, 49, 34, 34, 53, 53, 53, 34, 34, 34, 34, 34, 34, 35, 45, 42, 38, 47, 35, 35, 35, 35, 35, 33, 33, 40, 26, 49, 47, 29, 20, 20, 27, 33, 31, 46, 34, 32, 28, 27, 67, 67, 67, 67, 51, 51, 53, 25, 57, 38, 38, 57, 38, 38, 123, 123, 123, 123, 44, 44, 33, 51, 33, 30, 71, 71, 71, 71, 66, 54, 54, 54, 54, 54, 54, 16, 66, 66, 31, 31, 31, 31, 31, 31, 31, 31, 18, 29, 46, 68, 81, 31, 25, 38, 43, 44, 44, 15, 15, 15, 30, 27, 27, 27, 27, 27, 27, 27, 27, 59, 59, 59, 59, 59, 59, 59, 59, 59, 59, 59, 59, 59, 59, 59, 59, 59, 59, 59, 59, 30, 92, 36, 57, 59, 21, 21, 21, 21, 21, 48, 22, 24, 24, 48, 48, 48, 47, 47, 29, 29, 29, 29, 29, 29, 29, 29, 47, 47, 47, 47, 47, 47, 47, 47, 47, 47, 47, 47, 47, 47, 47, 67, 39, 39, 37, 47, 47, 47, 47, 47, 37, 37, 57, 57, 39, 39, 39, 39, 39, 39, 39, 39, 57, 62, 39, 39, 39, 38, 38, 38, 38, 48, 38, 38, 38, 38, 38, 60, 60, 60, 60, 60, 60, 60, 60, 60, 52, 44, 72, 72, 72, 37, 55, 44, 60, 60, 60, 57, 57, 57, 57, 57, 57, 57, 57, 62, 44, 34, 62, 29, 59, 32, 25, 53, 53, 25, 13, 26, 32, 32, 32, 32, 26, 28, 50, 45, 44, 32, 37, 57, 57, 57, 57, 57, 57, 57, 57, 57, 57, 57, 57, 57, 57, 111, 111, 92, 33, 33, 33, 66, 57, 57, 25, 25, 25, 25, 25, 25, 42, 65, 65, 65, 25, 31, 31, 31, 31, 39, 39, 31, 31, 31, 31, 21, 60, 54, 54, 20, 20, 54, 24, 24, 24, 24, 24, 24, 24, 24, 24, 24, 24, 32, 32, 54, 30, 22, 51, 51, 32, 32, 32, 32, 32, 32, 32, 13, 51, 13, 44, 32, 28, 52, 52, 52, 52, 52, 48, 72, 12, 12, 12, 12, 12, 60, 87, 30, 30, 87, 87, 30, 30, 30, 76, 63, 30, 30, 30, 30, 30, 30, 30, 30, 30, 22, 69, 27, 27, 27, 27, 27, 27, 41, 41, 55, 55, 40, 40, 40, 40, 40, 40, 40, 40, 40, 55, 15, 40, 40, 40, 32, 32, 32, 32, 44, 47, 32, 32, 32, 32, 32, 45, 29, 52, 52, 52, 46, 46, 67, 16, 30, 67, 67, 32, 46, 46, 6, 72, 72, 72, 72, 72, 72, 72, 72, 72, 72, 72, 72, 72, 32, 72, 30, 56, 56, 70, 72, 72, 72, 75, 72, 72, 75, 57, 77, 31, 60, 60, 72, 72, 72, 29, 29, 29, 29, 29, 29, 29, 75, 75, 75, 52, 29, 19, 19, 19, 19, 19, 19, 19, 27, 53, 53, 21, 53, 83, 40, 50, 50, 50, 50, 50, 50, 50, 50, 50, 50, 50, 50, 50, 50, 50, 50, 40, 50, 50, 50, 50, 50, 50, 55, 72, 72, 72, 27, 27, 27, 72, 27, 73, 66, 27, 27, 27, 27, 35, 35, 35, 35, 35, 35, 60, 60, 60, 60, 60, 60, 60, 60, 59, 60, 60, 60, 60, 60, 60, 60, 60, 60, 60, 59, 68, 59, 65, 72, 52, 52, 35, 27, 27, 68, 68, 68, 68, 68, 68, 68, 68, 68, 68, 68, 36, 48, 48, 36, 36, 36, 36, 36, 36, 36, 36, 36, 36, 26, 48, 22, 28, 41, 31, 31, 85, 25, 26, 26, 26, 48, 48, 48, 48, 48, 48, 48, 48, 48, 48, 25, 57, 57, 50, 37, 43, 48, 48, 48, 48, 34, 34, 34, 34, 34, 39, 45, 45, 60, 29, 61, 61, 34, 34, 34, 34, 26, 26, 26, 26, 26, 26, 26, 26, 26, 26, 26, 30, 30, 30, 30, 30, 30, 52, 52, 52, 52, 52, 102, 61, 106, 106, 52, 106, 106, 106, 101, 101, 45, 12, 10, 10, 33, 41, 41, 41, 6, 6, 10, 10, 10, 41, 32, 26, 29, 68, 26, 44, 38, 38, 38, 38, 39, 29, 17, 17, 31, 46, 80, 80, 22, 10, 22, 72, 72, 28, 28, 28, 28, 28, 28, 72, 72, 47, 34, 48, 48, 48, 48, 48, 48, 40, 40, 40, 40, 40, 40, 40, 40, 40, 40, 40, 40, 40, 40, 48, 48, 48, 44, 31, 32, 32, 32, 32, 32, 32, 32, 32, 32, 32, 32, 32, 32, 32, 11, 17, 17, 28, 59, 28, 51, 32, 33, 31, 39, 47, 47, 60, 29, 47, 29, 52, 52, 25, 52, 52, 52, 14, 51, 40, 70, 51, 11, 11, 31, 31, 31, 31, 20, 20, 20, 41, 36, 51, 43, 30, 30, 30, 63, 63, 43, 23, 47, 39, 25, 25, 65, 32, 47, 31, 73, 56, 80, 43, 43, 60, 60, 60, 65, 43, 43, 43, 58, 78, 32, 43, 70, 70, 70, 70, 39, 23, 23, 28, 38, 58, 58, 58, 58, 58, 58, 38, 44, 56, 53, 23, 49, 58, 35, 35, 35, 44, 22, 58, 8, 8, 8, 8, 8, 8, 8, 22, 22, 49, 31, 49, 59, 59, 54, 62, 28, 29, 35, 26, 29, 29, 29, 52, 26, 26, 26, 64, 26, 44, 44, 44, 64, 19, 19, 58, 58, 58, 58, 22, 59, 52, 59, 35, 44, 44, 44, 44, 44, 44, 44, 41, 41, 41, 41, 41, 41, 41, 31, 39, 56, 56, 56, 53, 46, 28, 28, 28, 28, 28, 28, 28, 28, 28, 28, 28, 28, 53, 39, 56, 63, 63, 63, 62, 51, 51, 51, 51, 51, 51, 51, 51, 51, 51, 51, 51, 51, 62, 51, 30, 53, 71, 71, 54, 54, 30, 30, 30, 30, 30, 32, 32, 32, 32, 32, 32, 32, 29, 40, 32, 32, 11, 11, 37, 18, 49, 23, 31, 100, 8, 31, 32, 25, 64, 46, 46, 46, 46, 46, 49, 49, 46, 31, 31, 15, 46, 46, 46, 46, 31, 32, 72, 29, 68, 21, 36, 32, 32, 32, 32, 32, 32, 32, 32, 32, 32, 32, 32, 32, 32, 52, 10, 28, 44, 30, 30, 30, 30, 27, 57, 27, 32, 32, 31, 29, 63, 48, 33, 44, 41, 30, 14, 42, 11, 30, 30, 30, 30, 29, 42, 42, 42, 27, 27, 27, 27, 22, 27, 45, 25, 27, 27, 52, 48, 38, 41, 36, 30, 29, 57, 29, 37, 37, 74, 64, 30, 46, 22, 22, 24, 24, 24, 24, 10, 21, 21, 29, 71, 71, 71, 48, 17, 17, 17, 17, 17, 17, 17, 15, 15, 15, 15, 36, 36, 36, 36, 36, 41, 37, 37, 34, 50, 50, 50, 50, 50, 50, 50, 50, 50, 50, 15, 15, 15, 15, 15, 15, 27, 51, 51, 51, 51, 27, 27, 27, 27, 27, 27, 27, 37, 37, 37, 37, 37, 37, 37, 37, 37, 37, 37, 31, 23, 23, 23, 21, 21, 21, 21, 21, 21, 21, 21, 32, 32, 38, 61, 61, 61, 61, 61, 48, 48, 48, 59, 32, 32, 32, 32, 32, 32, 6, 6, 6, 16, 16, 59, 41, 16, 16, 16, 62, 62, 62, 62, 21, 21, 21, 53, 62, 62, 30, 62, 62, 62, 62, 62, 62, 11, 11, 11, 45, 45, 45, 45, 45, 45, 45, 45, 42, 45, 18, 42, 38, 47, 31, 31, 31, 31, 31, 26, 59, 26, 28, 28, 37, 29, 43, 47, 16, 16, 39, 39, 23, 23, 44, 29, 39, 39, 39, 39, 39, 39, 39, 39, 30, 30, 30, 30, 29, 20, 20, 27, 31, 31, 46, 34, 34, 30, 30, 61, 32, 32, 28, 47, 47, 47, 27, 27, 27, 27, 27, 27, 24, 27, 20, 68, 68, 29, 39, 39, 67, 67, 53, 34, 29, 29, 45, 32, 25, 27, 49, 15, 29, 29, 29, 29, 29, 63, 63, 63, 57, 57, 57, 57, 123, 123, 123, 123, 63, 63, 63, 63, 63, 63, 63, 63, 63, 63, 63, 63, 63, 63, 63, 48, 48, 48, 48, 48, 48, 48, 48, 48, 44, 44, 44, 16, 59, 48, 48, 48, 48, 48, 48, 48, 48, 48, 48, 19, 19, 19, 33, 51, 33, 30, 71, 66, 66, 14, 23, 33, 33, 33, 33, 33, 33, 33, 33, 33, 33, 33, 15, 15, 15, 15, 28, 16, 66, 66, 28, 28, 13, 42, 42, 36, 36, 36, 36, 36, 36, 36, 29, 46, 20, 68, 43, 81, 81, 81, 44, 44, 44, 81, 25, 32, 32, 38, 41, 47, 43, 43, 43, 44, 44, 41, 41, 43, 44, 30, 92, 92, 92, 69, 69, 69, 36, 28, 28, 25, 27, 14, 88, 57, 60, 87, 29, 29, 29, 29, 29, 48, 38, 47, 47, 47, 45, 44, 44, 44, 44, 44, 44, 48, 48, 29, 43, 67, 67, 67, 15, 15, 15, 37, 37, 37, 57, 57, 57, 57, 57, 42, 42, 42, 42, 68, 68, 68, 68, 68, 57, 57, 57, 57, 57, 62, 48, 52, 44, 72, 72, 37, 55, 44, 62, 41, 21, 21, 78, 62, 19, 10, 29, 20, 67, 25, 59, 59, 32, 20, 25, 53, 18, 18, 25, 25, 13, 26, 14, 14, 56, 50, 45, 44, 32, 111, 111, 111, 111, 111, 92, 92, 32, 33, 33, 33, 24, 73, 66, 66, 37, 65, 65, 65, 21, 21, 21, 21, 48, 48, 48, 48, 48, 65, 48, 65, 48, 48, 48, 60, 60, 72, 72, 72, 54, 33, 43, 43, 43, 43, 43, 43, 43, 43, 43, 54, 54, 54, 54, 54, 54, 47, 54, 30, 27, 22, 43, 43, 59, 44, 41, 41, 41, 51, 41, 41, 41, 41, 41, 43, 43, 32, 28, 48, 48, 52, 52, 20, 20, 20, 20, 20, 52, 52, 52, 63, 48, 48, 72, 60, 60, 60, 87, 87, 76, 42, 42, 42, 42, 42, 42, 42, 11, 76, 35, 65, 65, 44, 35, 23, 23, 23, 23, 63, 63, 69, 32, 32, 41, 119, 72, 72, 23, 23, 28, 28, 32, 32, 55, 55, 35, 55, 87, 15, 44, 44, 42, 10, 10, 26, 47, 27, 27, 47, 52, 27, 27, 27, 27, 27, 44, 44, 44, 44, 44, 44, 44, 44, 44, 44, 44, 44, 44, 44, 44, 44, 44, 44, 44, 44, 44, 44, 44, 33, 33, 33, 33, 33, 33, 45, 45, 33, 33, 33, 33, 33, 31, 31, 31, 31, 31, 31, 29, 31, 31, 31, 31, 31, 16, 52, 52, 16, 52, 16, 16, 16, 61, 67, 67, 24, 24, 24, 24, 24, 24, 24, 24, 67, 33, 33, 10, 52, 52, 40, 40, 40, 40, 40, 40, 40, 40, 40, 40, 40, 52, 51, 16, 46, 46, 42, 18, 18, 18, 18, 74, 30, 50, 29, 29, 29, 67, 67, 67, 52, 31, 31, 31, 31, 31, 31, 31, 31, 40, 40, 43, 41, 32, 32, 32, 32, 23, 23, 23, 23, 23, 33, 23, 23, 23, 29, 29, 56, 56, 70, 75, 57, 60, 40, 31, 37, 37, 60, 60, 24, 75, 22, 22, 17, 75, 74, 74, 30, 30, 77, 81, 97, 97, 58, 27, 27, 62, 62, 62, 62, 53, 53, 53, 53, 42, 42, 42, 42, 42, 42, 42, 48, 48, 48, 48, 48, 48, 48, 48, 48, 48, 53, 53, 38, 83, 12, 27, 27, 27, 27, 83, 40, 40, 59, 59, 77, 11, 17, 13, 13, 13, 13, 38, 38, 38, 38, 55, 55, 42, 23, 63, 61, 71, 72, 43, 43, 43, 43, 43, 43, 43, 43, 43, 72, 72, 72, 72, 43, 43, 72, 43, 43, 43, 43, 43, 25, 18, 46, 46, 73, 73, 77, 66, 22, 22, 45, 45, 66, 59, 65, 49, 49, 72, 72, 52, 28, 62, 25, 45, 45, 45, 45, 45, 45, 51, 35, 27, 34, 34, 48, 66, 66, 48, 22, 22, 28, 28, 41, 66, 41, 31, 21, 85, 25, 48, 50, 50, 50, 50, 50, 50, 37, 37, 39, 45, 45, 60, 60, 24, 29, 25, 25, 25, 52, 52, 52, 52, 61, 61, 67, 67, 67, 67, 52, 52, 52, 52, 52, 52, 52, 52, 52, 52, 48, 48, 48, 48, 48, 48, 67, 102, 102, 102, 61, 61, 38, 80, 90, 77, 77, 77, 77, 77, 25, 106, 21, 22, 22, 62, 101, 22, 22, 22, 22, 7, 7, 38, 38, 38, 38, 101, 38, 101, 45, 45, 38, 41, 41, 41, 41, 41, 41, 45, 42, 28, 28, 12, 53, 68, 68, 33, 41, 41, 41, 41, 18, 18, 18, 18, 41, 41, 41, 41, 32, 31, 26, 26, 36, 12, 36, 36, 26, 44, 39, 29, 29, 29, 29, 29, 29, 51, 31, 47, 44, 44, 44, 47, 46, 46, 80, 22, 72, 30, 30, 30, 30, 30, 30, 30, 72, 72, 30, 30, 30, 30, 30, 24, 24, 24, 32, 26, 22, 24, 47, 22, 48, 29, 29, 29, 29, 29, 29, 29, 29, 29, 37, 37, 37, 37, 48, 48, 48, 44, 31, 31, 37, 37, 37, 74, 74, 74, 74, 74, 74, 74, 74, 74, 74, 74, 74, 74, 74, 74, 32, 32, 17, 74, 74, 73, 42, 29, 131, 39, 74, 74, 74, 74, 74, 74, 74, 74, 74, 74, 74, 74, 64, 64, 64, 64, 64, 64, 64, 64, 64, 64, 64, 64, 64, 33, 23, 27, 64, 64, 67, 59, 16, 52, 64, 64, 64, 64, 64, 6, 6, 25, 25, 25, 25, 25, 25, 25, 25, 25, 25, 45, 45, 45, 45, 45, 45, 45, 45, 45, 45, 45, 45, 45, 45, 45, 45, 10, 10, 10, 33, 33, 30, 33, 20, 20, 21, 61, 35, 32, 32, 41, 32, 32, 32, 32, 32, 32, 32, 32, 30, 30, 30, 30, 30, 32, 28, 24, 30, 46, 46, 46, 46, 46, 46, 46, 46, 46, 57, 46, 35, 30, 41, 23, 41, 38, 47, 15, 66, 21, 21, 25, 87, 36, 46, 67, 54, 21, 21, 21, 21, 21, 31, 31, 20, 22, 72, 60, 28, 22, 43, 30, 47, 60, 62, 68, 15, 57, 32, 20, 20, 20, 20, 20, 20, 20, 32, 21, 21, 21, 21, 21, 21, 21, 65, 35, 43, 15, 25, 71, 29, 10, 10, 49, 12, 55, 30, 39, 66, 21, 21, 21, 21, 21, 21, 21, 42, 35, 38, 52, 50, 29, 29, 29, 29, 23, 41, 41, 29, 29, 29, 87, 63, 16, 77, 64, 53, 29, 42, 59, 31, 42, 78, 52, 22, 70, 60, 60, 71, 71, 71, 71, 71, 71, 71, 71, 71, 71, 71, 71, 71, 71, 48, 25, 48, 48, 48, 48, 23, 23, 23, 36, 42, 23, 44, 22, 23, 23, 23, 20, 20, 20, 20, 41, 41, 41, 41, 20, 20, 35, 40, 41, 41, 41, 41, 41, 41, 41, 37, 37, 37, 37, 37, 37, 37, 37, 37, 37, 37, 31, 31, 44, 60, 30, 40, 40, 42, 42, 57, 63, 63, 63, 52, 63, 63, 63, 63, 63, 63, 63, 63, 63, 63, 63, 63, 63, 63, 63, 63, 34, 34, 44, 50, 50, 34, 34, 34, 34, 34, 28, 28, 28, 37, 33, 50, 50, 50, 50, 28, 28, 51, 51, 51, 51, 51, 51, 51, 51, 51, 54, 47, 58, 51, 51, 16, 16, 16, 25, 20, 102, 32, 32, 70, 35, 47, 26, 24, 31, 54, 35, 63, 63, 62, 31, 46, 64, 64, 31, 31, 31, 31, 31, 31, 31, 58, 40, 56, 70, 40, 40, 70, 70, 40, 35, 45, 40, 11, 31, 31, 31, 31, 61, 38, 38, 38, 38, 38, 35, 40, 38, 38, 38, 38, 47, 47, 38, 38, 9, 13, 13, 60, 57, 22, 61, 51, 61, 61, 61, 61, 51, 61, 61, 61, 61, 63, 63, 38, 32, 32, 21, 61, 61, 61, 38, 38, 53, 37, 37, 16, 15, 92, 48, 13, 45, 45, 45, 45, 45, 45, 45, 45, 45, 45, 32, 58, 18, 18, 66, 66, 52, 18, 18, 18, 18, 87, 54, 54, 52, 48, 27, 35, 52, 49, 33, 49, 38, 77, 15, 14, 29, 59, 31, 31, 55, 55, 55, 25, 25, 47, 25, 52, 14, 14, 14, 14, 17, 17, 17, 17, 21, 21, 21, 21, 21, 59, 54, 18, 52, 59, 59, 59, 59, 59, 59, 59, 59, 59, 59, 59, 59, 59, 41, 41, 41, 41, 41, 41, 41, 41, 41, 41, 41, 47, 25, 52, 39, 25, 77, 46, 12, 39, 56, 22, 60, 27, 12, 56, 23, 50, 22, 60, 38, 68, 27, 70, 57, 52, 13, 38, 32, 41, 53, 53, 43, 64, 64, 58, 58, 59, 59, 53, 53, 53, 53, 53, 53, 53, 53, 53, 56, 70, 19, 19, 19, 19, 30, 30, 30, 30, 30, 29, 30, 15, 48, 30, 30, 30, 30, 30, 45, 45, 45, 45, 48, 48, 35, 46, 30, 45, 45, 17, 34, 34, 60, 30, 46, 46, 46, 46, 46, 46, 46, 46, 46, 45, 45, 45, 45, 45, 45, 45, 40, 47, 14, 45, 47, 76, 45, 42, 42, 42, 42, 42, 42, 45, 47, 19, 19, 74, 42, 42, 42, 42, 42, 42, 42, 30, 14, 30, 30, 30, 30, 30, 30, 30, 42, 42, 42, 42, 42, 42, 42, 54, 61, 32, 13, 22, 52, 56, 44, 46, 57, 30, 66, 66, 66, 66, 66, 66, 30, 63, 44, 25, 25, 10, 18, 18, 18, 47, 47, 47, 47, 47, 47, 47, 47, 47, 47, 47, 47, 47, 24, 47, 47, 47, 34, 34, 13, 34, 34, 34, 34, 34, 34, 34, 34, 35, 35, 35, 35, 35, 35, 35, 35, 35, 35, 40, 44, 27, 27, 27, 27, 27, 27, 27, 27, 27, 27, 27, 27, 27, 27, 27, 27, 27, 27, 58, 58, 58, 58, 58, 58, 18, 48, 31, 41, 41, 32, 41, 65, 58, 58, 58, 39, 22, 51, 51, 27, 40, 27, 33, 33, 33, 33, 33, 33, 45, 45, 31, 43, 50, 45, 55, 43, 43, 80, 53, 50, 40, 40, 40, 40, 26, 26, 26, 37, 54, 60, 26, 26, 26, 26, 26, 26, 26, 23, 23, 23, 23, 28, 28, 67, 67, 67, 67, 67, 67, 67, 67, 67, 67, 67, 41, 74, 24, 62, 23, 23, 26, 54, 56, 51, 70, 26, 71, 59, 59, 59, 59, 59, 59, 35, 40, 49, 44, 59, 59, 59, 59, 32, 32, 32, 32, 32, 32, 26, 26, 15, 39, 25, 21, 26, 26, 26, 15, 15, 15, 30, 46, 52, 58, 58, 58, 58, 58, 58, 58, 58, 58, 58, 58, 58, 58, 11, 32, 27, 57, 28, 28, 28, 45, 63, 38, 28, 28, 28, 28, 28, 16, 16, 16, 16, 16, 37, 37, 38, 37, 49, 123, 123, 41, 92, 51, 37, 29, 29, 29, 29, 29, 29, 29, 29, 22, 48, 13, 13, 13, 17, 17, 22, 22, 22, 22, 22, 22, 22, 22, 22, 22, 68, 68, 68, 68, 68, 68, 68, 68, 68, 68, 68, 68, 68, 12, 12, 12, 12, 12, 12, 41, 48, 29, 38, 77, 13, 74, 12, 32, 58, 30, 33, 40, 52, 19, 19, 19, 19, 40, 25, 17, 19, 19, 17, 62, 32, 49, 28, 49, 68, 77, 17, 44, 45, 63, 33, 20, 20, 20, 20, 43, 40, 28, 20, 43, 43, 43, 43, 43, 43, 43, 43, 43, 42, 44, 34, 43, 43, 43, 29, 29, 29, 29, 45, 40, 80, 20, 29, 29, 29, 44, 44, 44, 44, 44, 44, 55, 19, 101, 51, 40, 30, 19, 19, 19, 19, 19, 19, 19, 18, 18, 18, 18, 18, 18, 18, 18, 18, 49, 49, 49, 49, 49, 49, 49, 49, 49, 49, 17, 35, 22, 40, 12, 40, 49, 49, 49, 39, 14, 56, 44, 44, 41, 47, 47, 47, 47, 47, 47, 47, 66, 41, 87, 52, 52, 57, 47, 47, 47, 47, 47, 47, 53, 48, 67, 40, 18, 23, 23, 23, 23, 23, 33, 33, 33, 33, 41, 32, 47, 11, 7, 44, 100, 71, 70, 48, 30, 40, 48, 44, 44, 29, 29, 29, 29, 29, 29, 29, 15, 52, 49, 35, 43, 26, 81, 57, 29, 29, 29, 31, 31, 31, 62, 62, 35, 29, 35, 29, 28, 28, 28, 28, 28, 28, 28, 28, 28, 28, 28, 28, 11, 31, 20, 20, 20, 20, 20, 20, 34, 72, 72, 30, 36, 21, 29, 44, 41, 42, 12, 12, 36, 36, 36, 36, 36, 36, 36, 36, 36, 36, 35, 35, 29, 42, 48, 36, 41, 41, 46, 24, 34, 34, 38, 12, 12, 53, 53, 53, 53, 53, 53, 53, 53, 53, 53, 53, 53, 53, 19, 19, 41, 66, 66, 19, 19, 19, 42, 42, 42, 7, 46, 46, 19, 43, 23, 27, 42, 42, 42, 49, 49, 49, 27, 49, 31, 31, 46, 61, 30, 49, 49, 49, 49, 49, 26, 20, 67, 22, 53, 49, 23, 13, 18, 18, 18, 15, 57, 41, 41, 41, 41, 41, 41, 57, 123, 123, 41, 41, 41, 27, 27, 27, 27, 123, 49, 66, 66, 26, 23, 28, 37, 37, 66, 66, 28, 28, 46, 31, 19, 19, 31, 31, 31, 31, 31, 38, 69, 69, 31, 13, 36, 13, 11, 46, 57, 60, 52, 52, 52, 52, 46, 46, 62, 22, 22, 46, 46, 46, 46, 34, 34, 56, 39, 34, 39, 39, 34, 34, 34, 34, 34, 61, 61, 61, 61, 61, 61, 57, 36, 61, 61, 61, 61, 61, 61, 61, 61, 36, 61, 61, 61, 36, 48, 61, 61, 61, 32, 32, 32, 48, 18, 58, 21, 62, 28, 28, 28, 46, 46, 29, 51, 59, 30, 28, 28, 28, 28, 37, 37, 37, 37, 37, 37, 37, 37, 24, 24, 24, 24, 24, 24, 35, 59, 56, 49, 49, 24, 24, 33, 92, 92, 92, 65, 65, 22, 54, 27, 27, 27, 27, 54, 41, 27, 27, 27, 27, 44, 46, 46, 31, 63, 63, 35, 35, 35, 35, 35, 35, 35, 35, 85, 87, 47, 52, 27, 67, 39, 52, 33, 50, 40, 20, 20, 20, 68, 70, 75, 75, 20, 68, 68, 68, 68, 68, 75, 58, 68, 68, 68, 68, 101, 52, 87, 10, 10, 97, 21, 38, 31, 19, 19, 12, 43, 43, 13, 14, 77, 12, 12, 12, 29, 29, 29, 29, 29, 77, 44, 29, 59, 39, 39, 39, 39, 61, 102, 80, 74, 74, 74, 39, 39, 39, 39, 39, 39, 30, 30, 6, 28, 28, 28, 28, 28, 28, 28, 28, 28, 28, 58, 60, 21, 7, 67, 67, 67, 67, 67, 67, 67, 67, 67, 67, 67, 67, 67, 67, 67, 40, 31, 27, 24, 19, 55, 30, 67, 30, 27, 44, 36, 80, 44, 42, 17, 52, 53, 53, 53, 53, 53, 53, 53, 53, 53, 53, 53, 53, 53, 12, 26, 29, 69, 25, 34, 24, 43, 43, 54, 16, 16, 44, 53, 45, 45, 45, 45, 45, 45, 45, 45, 45, 45, 45, 72, 61, 45, 45, 32, 32, 32, 40, 48, 27, 25, 32, 32, 33, 77, 101, 38, 14, 23, 42, 42, 70, 32, 32, 32, 32, 32, 32, 32, 32, 32, 32, 32, 32, 32, 32, 32, 32, 32, 74, 13, 23, 23, 23, 23, 60, 60, 25, 25, 25, 25, 25, 25, 25, 25, 25, 19, 19, 19, 30, 27, 27, 27, 30, 61, 43, 36, 36, 47, 47, 36, 80, 80, 47, 58, 58, 66, 43, 26, 16, 49, 49, 49, 49, 49, 49, 49, 49, 41, 29, 11, 44, 72, 29, 49, 49, 49, 49, 39, 24, 44, 67, 15, 15, 15, 49, 47, 28, 48, 78, 51, 49, 46, 67, 16, 92, 46, 35, 20, 55, 38, 28, 55, 57, 57, 57, 57, 57, 57, 57, 57, 123, 123, 123, 123, 123, 123, 123, 123, 123, 123, 123, 123, 123, 123, 123, 123, 123, 123, 123, 123, 33, 53, 25, 18, 33, 39, 18, 62, 23, 30, 38, 60, 76, 29, 34, 40, 24, 37, 43, 56, 14, 23, 29, 53, 55, 33, 73, 53, 50, 37, 54, 60, 31, 15, 37, 65, 42, 43, 21, 39, 58, 52, 44, 29, 43, 74, 123, 54, 35, 30, 46, 52, 33, 64, 58, 67, 62, 51, 40, 60, 29, 40, 13, 36, 24, 31, 26, 34, 59, 39, 30, 46, 68, 27, 31, 39, 30, 48, 21, 21, 36, 44, 22, 25, 42, 32, 27, 18, 43, 18, 44, 44, 44, 74, 64, 24, 31, 38, 38, 45, 46, 23, 44, 29, 19, 44, 44, 44, 44, 44, 44, 44, 16, 61, 53, 123, 44, 16, 30, 20, 68, 72, 19, 19, 19, 19, 19, 81, 19, 59, 59, 59, 59, 59, 59, 59, 59, 59, 59, 59, 32, 64, 48, 45, 59, 59, 67, 72, 44, 62, 41, 24, 24, 24, 24, 24, 44, 21, 53, 24, 24, 24, 33, 33, 33, 111, 60, 54, 32, 33, 33, 33, 51, 51, 51, 51, 51, 51, 48, 63, 72, 17, 60, 29, 76, 56, 63, 69, 72, 51, 51, 26, 48, 60, 87, 35, 61, 52, 51, 33, 33, 33, 33, 33, 33, 33, 33, 33, 80, 40, 41, 30, 30, 30, 30, 33, 70, 75, 57, 44, 44, 44, 44, 44, 71, 71, 71, 71, 58, 38, 73, 71, 73, 93, 65, 53, 49, 38, 59, 77, 55, 42, 59, 19, 65, 72, 28, 85, 25, 60, 61, 102, 90, 106, 62, 28, 41, 40, 80, 78, 36, 40, 58, 26, 66, 15, 15, 67, 26, 20, 28, 18, 20, 60, 47, 41, 14, 14, 14, 27, 27, 26, 92, 35, 35, 25, 25, 25, 25, 23, 23, 23, 23, 23, 23, 23, 23, 87, 87, 35, 45, 13, 50, 50, 29, 54, 37, 46, 16, 18, 55, 21, 21, 12, 12, 10, 52, 26, 47, 16, 32, 102, 102, 14, 18, 41, 16, 16, 16, 16, 16, 41, 33, 51, 26, 26, 26, 56, 44, 33, 32, 40, 40, 54, 46, 37, 37, 66, 66, 66, 66, 66, 22, 22, 33, 33, 31, 31, 31, 31, 42, 49, 67, 67, 67, 67, 26, 66, 26, 26, 31, 31, 26, 20, 20, 20, 37, 37, 37, 37, 40, 62, 62, 62, 62, 62, 28, 28, 62, 62, 19, 19, 19, 19, 19, 19, 19, 19, 62, 19, 13, 62, 62, 62, 62, 62, 18, 62, 62, 13, 13, 13, 22, 17, 17, 17, 17, 17, 56, 56, 56, 56, 56, 56, 56, 56, 56, 56, 56, 56, 56, 17, 17, 37, 37, 42, 42, 42, 42, 42, 42, 42, 42, 42, 42, 42, 17, 63, 42, 42, 42, 29, 29, 38, 38, 60, 60, 75, 75, 75, 38, 87, 26, 26, 59, 95, 77, 87, 87, 58, 40, 29, 29, 29, 29, 29, 29, 29, 29, 58, 9, 58, 58, 37, 58, 58, 58, 37, 37, 27, 27, 27, 27, 27, 27, 27, 29, 29, 29, 29, 29, 58, 29, 7, 7, 46, 46, 58, 58, 24, 24, 24, 13, 48, 22, 42, 44, 60, 11, 52, 31, 31, 31, 66, 18, 50, 44, 102, 41, 68, 68, 68, 68, 68, 68, 68, 68, 68, 68, 68, 68, 68, 68, 72, 72, 72, 72, 72, 72, 72, 72, 72, 72, 72, 72, 72, 72, 72, 33, 87, 87, 87, 87, 54, 67, 87, 78, 53, 17, 41, 72, 72, 72, 72, 43, 43, 41, 12, 63, 31, 39, 50, 43, 43, 43, 43, 43, 43, 43, 43, 43, 43, 43, 43, 43, 43, 43, 35, 49, 36, 36, 30, 54, 22, 62, 18, 30, 25, 32, 81, 81, 81, 81, 81, 81, 81, 81, 81, 81, 81, 81, 81, 81, 33, 46, 57, 24, 81, 81, 81, 81, 81, 81, 81, 81, 81, 81, 81, 81, 47, 47, 47, 67, 26, 26, 15, 15, 15, 25, 25, 25, 25, 25, 25, 25, 42, 33, 62, 60, 18, 29, 29, 22, 29, 29, 100, 55, 33, 33, 24, 39, 26, 35, 56, 44, 32, 32, 31, 31, 57, 56, 56, 56, 56, 56, 56, 56, 56, 56, 56, 56, 56, 56, 56, 56, 56, 56, 56, 56, 56, 56, 56, 56, 57, 30, 63, 36, 44, 22, 73, 43, 38, 38, 38, 38, 38, 38, 38, 38, 38, 38, 41, 41, 23, 54, 14, 46, 22, 41, 41, 41, 41, 41, 41, 32, 32, 32, 32, 32, 32, 32, 32, 32, 32, 32, 32, 32, 32, 32, 47, 47, 47, 47, 47, 47, 47, 47, 30, 21, 16, 66, 35, 35, 37, 31, 72, 47, 47, 32, 92, 58, 43, 21, 21, 15, 42, 43, 87, 43, 43, 43, 43, 43, 26, 96, 43, 43, 43, 80, 50, 41, 46, 26, 74, 18, 18, 18, 38, 38, 38, 38, 38, 38, 56, 56, 81, 21, 43, 35, 35, 31, 28, 25, 61, 25, 48, 39, 60, 25, 25, 44, 44, 44, 44, 44, 44, 44, 44, 44, 64, 64, 64, 64, 64, 80, 50, 38, 26, 57, 32, 42, 28, 42, 21, 73, 25, 30, 30, 30, 30, 30, 30, 19, 72, 42, 42, 47, 33, 38, 29, 35, 45, 30, 37, 30, 53, 53, 92, 92, 92, 92, 92, 92, 92, 92, 92, 44, 21, 53, 22, 22, 22, 22, 44, 43, 22, 32, 32, 32, 32, 32, 44, 29, 32, 43, 43, 43, 43, 43, 43, 43, 43, 73, 22, 22, 22, 22, 22, 22, 22, 22, 22, 22, 22, 22, 22, 22, 60, 20, 10, 10, 10, 10, 14, 14, 14, 30, 46, 16, 18, 61, 40, 32, 33, 47, 22, 69, 78, 47, 61, 47, 62, 36, 36, 38, 36, 43, 28, 62, 62, 62, 62, 62, 62, 62, 62, 23, 44, 62, 62, 26, 28, 49, 26, 26, 26, 26, 26, 26, 17, 28, 28, 16, 40, 40, 51, 44, 39, 39, 39, 39, 39, 28, 28, 28, 28, 28, 39, 53, 25, 25, 7, 7, 84, 84, 84, 84, 84, 84, 84, 84, 84, 84, 84, 84, 84, 84, 84, 84, 84, 84, 84, 84, 12, 12, 12, 12, 12, 43, 43, 43, 43, 43, 43, 43, 43, 43, 43, 25, 43, 32, 36, 43, 42, 42, 42, 42, 42, 42, 42, 25, 25, 35, 34, 34, 34, 35, 76, 40, 47, 47, 34, 34, 34, 34, 34, 34, 27, 27, 27, 27, 27, 27, 27, 24, 42, 14, 14, 14, 41, 41, 41, 41, 41, 41, 41, 43, 41, 50, 41, 41, 41, 41, 41, 51, 51, 51, 51, 51, 51, 51, 50, 38, 21, 88, 23, 23, 16, 63, 63, 37, 54, 54, 88, 88, 88, 88, 88, 88, 38, 27, 48, 24, 48, 38, 46, 18, 57, 57, 57, 57, 57, 57, 57, 57, 57, 57, 57, 57, 57, 60, 60, 60, 60, 60, 60, 60, 33, 20, 27, 67, 67, 123, 123, 44, 60, 60, 60, 60, 60, 60, 60, 66, 66, 44, 60, 60, 60, 60, 60, 60, 60, 60, 44, 32, 69, 28, 87, 87, 87, 87, 87, 87, 87, 87, 87, 87, 87, 48, 62, 87, 62, 46, 25, 66, 54, 48, 48, 87, 87, 87, 87, 87, 87, 30, 30, 30, 30, 30, 30, 30, 87, 30, 31, 31, 31, 31, 31, 31, 31, 31, 65, 63, 63, 26, 26, 47, 52, 75, 52, 77, 77, 25, 19, 31, 31, 60, 29, 67, 74, 74, 74, 62, 62, 28, 53, 55, 55, 55, 55, 55, 55, 68, 40, 29, 78, 80, 26, 44, 42, 38, 15, 15, 15, 15, 15, 15, 15, 15, 48, 48, 48, 48, 48, 48, 51, 28, 24, 22, 44, 27, 42, 59, 63, 30, 19, 42, 42, 42, 42, 42, 42, 42, 42, 42, 42, 13, 13, 39, 39, 37, 28, 38, 39, 39, 39, 39, 39, 39, 27, 27, 27, 41, 42, 27, 27, 27, 27, 56, 56, 56, 56, 56, 56, 56, 56, 56, 56, 56, 56, 67, 67, 67, 67, 67, 67, 67, 67, 67, 67, 67, 67, 67, 67, 42, 42, 42, 33, 29, 62, 27, 131, 44, 44, 27, 60, 60, 39, 60, 24, 37, 47, 47, 47, 47, 47, 47, 47, 47, 47, 30, 30, 50, 48, 64, 36, 73, 50, 50, 50, 25, 58, 56, 56, 56, 56, 56, 56, 33, 33, 33, 33, 33, 33, 33, 33, 33, 33, 33, 33, 33, 33, 28, 33, 33, 48, 48, 48, 48, 48, 48, 48, 48, 48, 48, 48, 44, 44, 44, 49, 49, 49, 6, 6, 6, 45, 45, 45, 45, 45, 45, 45, 45, 45, 45, 45, 63, 61, 18, 29, 29, 29, 29, 29, 29, 26, 35, 35, 35, 35, 53, 50, 50, 50, 54, 40, 45, 32, 32, 29, 60, 52, 33, 33, 33, 33, 48, 48, 48, 48, 48, 31, 24, 48, 48, 32, 32, 32, 32, 32, 32, 32, 29, 29, 29, 29, 29, 29, 29, 29, 29, 29, 29, 45, 52, 36, 37, 43, 43, 43, 43, 43, 43, 43, 43, 48, 31, 61, 43, 33, 21, 23, 31, 67, 67, 67, 53, 53, 49, 123, 123, 44, 62, 88, 48, 45, 37, 48, 72, 37, 67, 67, 67, 67, 67, 67, 67, 41, 41, 41, 12, 12, 78, 51, 76, 76, 76, 76, 111, 54, 54, 54, 52, 52, 65, 83, 83, 40, 77, 61, 19, 65, 85, 29, 61, 80, 80, 80, 80, 29, 29, 29, 29, 26, 39, 62, 60, 37, 37, 37, 37, 37, 37, 42, 34, 32, 32, 72, 38, 41, 25, 31, 23, 30, 29, 64, 66, 30, 38, 49, 32, 35, 32, 63, 21, 26, 46, 43, 51, 53, 92, 51, 28, 24, 72, 57, 77, 23, 25, 57, 38, 43, 43, 51, 51, 57, 57, 57, 57, 57, 57, 57, 57, 57, 57, 57, 57, 57, 62, 62, 62, 62, 62, 62, 55, 39, 39, 82, 33, 19, 62, 62, 62, 62, 62, 62, 62, 68, 39, 43, 53, 29, 37, 28, 28, 36, 36, 36, 36, 36, 36, 36, 36, 42, 42, 36, 48, 48, 48, 48, 48, 48, 41, 33, 48, 42, 17, 37, 28, 24, 27, 131, 13, 52, 52, 52, 52, 52, 52, 131, 6, 30, 52, 52, 52, 52, 52, 52, 52, 52, 35, 45, 24, 36, 43, 41, 42, 44, 44, 44, 44, 44, 44, 44, 48, 48, 39, 56, 33, 33, 33, 33, 48, 48, 48, 48, 48, 48, 48, 48, 48, 48, 53, 53, 50, 43, 58, 48, 48, 48, 47, 23, 58, 38, 72, 72, 72, 72, 72, 72, 72, 49, 44, 44, 44, 22, 26, 29, 40, 40, 45, 22, 61, 61, 21, 29, 52, 32, 57, 18, 41, 72, 72, 58, 49, 49, 12, 72, 72, 72, 72, 72, 30, 30, 30, 30, 30, 30, 30, 26, 26, 37, 37, 37, 37, 37, 37, 37, 37, 37, 37, 37, 72, 32, 22, 22, 55, 55, 55, 32, 62, 41, 51, 60, 58, 55, 55, 55, 51, 55, 55, 55, 32, 32, 32, 32, 69, 11, 21, 15, 66, 52, 87, 26, 56, 44, 32, 32, 32, 32, 52, 30, 30, 30, 30, 30, 30, 30, 48, 50, 30, 30, 12, 80, 50, 77, 77, 67, 75, 11, 32, 81, 49, 38, 38, 58, 58, 58, 58, 58, 58, 58, 58, 58, 58, 58, 77, 77, 42, 59, 19, 59, 25, 43, 43, 43, 43, 43, 43, 49, 41, 41, 41, 51, 43, 44, 44, 44, 44, 44, 44, 44, 44, 15, 60, 59, 80, 74, 74, 25, 68, 41, 44, 44, 44, 41, 41, 44, 44, 44, 41, 44, 44, 42, 42, 42, 42, 42, 42, 41, 41, 38, 38, 38, 62, 62, 62, 62, 62, 62, 62, 62, 62, 62, 62, 62, 62, 41, 25, 52, 63, 57, 43, 54, 25, 68, 30, 38, 39, 51, 45, 45, 45, 45, 45, 45, 45, 45, 45, 19, 41, 41, 41, 44, 28, 30, 43, 37, 43, 51, 43, 42, 44, 44, 44, 44, 44, 44, 56, 38, 39, 39, 39, 39, 39, 39, 39, 39, 39, 21, 21, 21, 21, 26, 32, 16, 43, 60, 41, 41, 46, 32, 32, 32, 32, 32, 32, 32, 32, 34, 72, 41, 56, 32, 42, 34, 34, 34, 34, 42, 42, 21, 21, 21, 39, 27, 78, 78, 78, 78, 78, 22, 42, 28, 63, 24, 22, 16, 76, 15, 42, 78, 78, 78, 78, 78, 78, 78, 62, 62, 62, 62, 62, 62, 62, 62, 62, 62, 62, 62, 62, 62, 62, 62, 62, 62, 62, 13, 35, 54, 26, 38, 52, 87, 48, 15, 14, 46, 46, 46, 46, 46, 46, 46, 46, 46, 46, 46, 46, 46, 46, 46, 46, 46, 46, 60, 39, 17, 56, 63, 55, 39, 39, 16, 19, 19, 19, 19, 29, 29, 29, 29, 46, 37, 62, 33, 12, 17, 28, 29, 29, 29, 29, 29, 29, 62, 24, 22, 22, 35, 46, 46, 46, 46, 46, 46, 46, 46, 46, 37, 37, 20, 45, 27, 43, 29, 37, 37, 37, 20, 20, 13, 44, 30, 47, 20, 20, 30, 50, 43, 41, 29, 21, 57, 29, 36, 29, 29, 29, 29, 29, 29, 29, 29, 29, 29, 26, 26, 26, 26, 26, 26, 26, 26, 26, 26, 26, 55, 55, 54, 25, 30, 37, 32, 31, 56, 51, 46, 46, 46, 46, 46, 46, 46, 46, 46, 42, 42, 58, 32, 67, 67, 67, 67, 39, 67, 67, 67, 67, 67, 47, 23, 67, 58, 75, 32, 32, 32, 32, 32, 32, 32, 32, 32, 32, 32, 32, 32, 32, 32, 61, 61, 61, 61, 61, 61, 61, 61, 61, 61, 61, 61, 61, 61, 61, 61, 61, 61, 61, 61, 61, 61, 61, 61, 61, 49, 49, 74, 70, 35, 42, 25, 17, 17, 17, 17, 17, 45, 52, 40, 40, 64, 58, 58, 17, 59, 67, 35, 39, 48, 51, 51, 51, 51, 51, 51, 51, 27, 27, 27, 27, 27, 27, 27, 27, 27, 27, 27, 27, 27, 21, 21, 60, 45, 21, 21, 21, 21, 21, 16, 16, 16, 16, 28, 28, 34, 16, 69, 69, 69, 69, 69, 69, 69, 69, 69, 69, 69, 69, 69, 69, 69, 69, 69, 69, 41, 35, 38, 69, 69, 69, 11, 11, 59, 24, 72, 36, 26, 44, 11, 11, 59, 59, 59, 59, 59, 59, 59, 59, 59, 59, 59, 59, 59, 59, 31, 30, 48, 44, 68, 30, 30, 40, 32, 32, 32, 32, 32, 29, 48, 21, 71, 48, 32, 32, 32, 18, 18, 18, 31, 61, 18, 29, 20, 20, 42, 66, 58, 33, 67, 20, 21, 21, 21, 36, 67, 32, 15, 25, 25, 25, 25, 123, 25, 25, 123, 44, 44, 66, 66, 28, 15, 15, 16, 28, 13, 15, 39, 39, 39, 39, 39, 39, 39, 18, 18, 18, 18, 18, 18, 25, 32, 44, 53, 53, 53, 53, 53, 53, 53, 43, 67, 78, 46, 67, 11, 33, 72, 52, 63, 63, 41, 22, 22, 22, 22, 22, 22, 22, 22, 22, 22, 22, 25, 25, 25, 38, 45, 38, 38, 50, 50, 25, 25, 35, 35, 64, 53, 35, 35, 35, 28, 28, 28, 28, 28, 28, 28, 28, 28, 28, 28, 28, 63, 51, 31, 72, 13, 26, 26, 26, 26, 46, 34, 15, 48, 26, 28, 48, 50, 39, 80, 80, 28, 28, 68, 7, 68, 39, 40, 40, 40, 31, 78, 34, 34, 34, 34, 28, 28, 28, 10, 43, 39, 32, 28, 28, 28, 22, 22, 22, 22, 22, 22, 22, 47, 23, 44, 31, 23, 41, 47, 23, 51, 57, 51, 46, 123, 66, 32, 56, 67, 49, 52, 75, 38, 41, 31, 21, 35, 56, 56, 56, 56, 56, 56, 48, 56, 56, 56, 56, 49, 49, 49, 49, 49, 49, 22, 41, 8, 72, 36, 33, 61, 49, 49, 26, 26, 26, 26, 26, 26, 26, 26, 26, 26, 26, 50, 50, 18, 34, 50, 50, 50, 50, 50, 50, 50, 50, 50, 50, 50, 50, 50, 50, 50, 50, 50, 33, 33, 66, 26, 60, 38, 28, 45, 45, 45, 45, 45, 45, 45, 45, 45, 24, 43, 66, 29, 45, 45, 45, 45, 32, 32, 46, 32, 32, 32, 43, 65, 41, 27, 10, 29, 29, 43, 70, 49, 49, 35, 21, 44, 44, 44, 70, 44, 44, 44, 44, 44, 60, 22, 51, 22, 62, 35, 66, 66, 64, 61, 46, 19, 69, 60, 32, 32, 32, 32, 32, 32, 32, 32, 45, 18, 26, 35, 60, 60, 17, 87, 60, 58, 101, 52, 73, 16, 47, 65, 16, 42, 50, 49, 66, 42, 42, 42, 42, 42, 43, 42, 22, 22, 37, 22, 37, 31, 21, 57, 24, 33, 29, 26, 31, 41, 33, 54, 111, 111, 111, 111, 111, 111, 111, 47, 35, 47, 39, 111, 111, 43, 111, 111, 111, 111, 111, 111, 111, 111, 111, 111, 111, 111, 10, 46, 41, 31, 28, 42, 13, 25, 62, 32, 65, 111, 111, 39, 42, 22, 30, 30, 30, 30, 30, 92, 92, 92, 92, 92, 92, 92, 92, 92, 92, 34, 20, 47, 60, 57, 44, 31, 27, 41, 23, 40, 45, 37, 56, 63, 14, 42, 7, 47, 50, 44, 23, 55, 80, 51, 50, 54, 60, 92, 92, 92, 92, 92, 92, 32, 32, 32, 32, 32, 32, 32, 32, 32, 32, 32, 65, 43, 33, 70, 39, 25, 23, 58, 29, 49, 43, 19, 49, 74, 54, 35, 22, 30, 33, 33, 33, 33, 19, 19, 21, 62, 23, 35, 40, 28, 26, 35, 39, 56, 62, 70, 40, 71, 29, 45, 29, 38, 57, 22, 52, 30, 25, 46, 21, 32, 68, 18, 48, 66, 66, 66, 66, 66, 66, 66, 66, 66, 66, 32, 25, 48, 37, 37, 37, 37, 37, 42, 40, 61, 38, 46, 23, 35, 29, 25, 57, 57, 28, 46, 72, 92, 69, 10, 20, 20, 20, 20, 20, 20, 20, 51, 51, 51, 51, 51, 51, 51, 34, 41, 57, 47, 22, 67, 43, 62, 44, 25, 50, 92, 66, 60, 44, 29, 17, 26, 56, 69, 41, 14, 30, 31, 65, 65, 39, 39, 49, 49, 12, 60, 16, 57, 39, 39, 39, 39, 39, 39, 77, 26, 53, 49, 77, 42, 50, 31, 72, 43, 28, 39, 102, 80, 106, 60, 60, 60, 60, 60, 60, 60, 60, 60, 60, 60, 60, 60, 101, 28, 29, 40, 46, 78, 47, 44, 42, 22, 54, 21, 38, 49, 74, 35, 35, 58, 31, 45, 51, 24, 21, 72, 72, 72, 72, 72, 72, 72, 72, 72, 72, 54, 46, 41, 41, 25, 46, 35, 64, 19, 72, 72, 72, 72, 47, 54, 54, 47, 47, 47, 47, 74, 60, 60, 51, 51, 62, 30, 42, 21, 23, 58, 36, 75, 43, 35, 66, 49, 52, 52, 40, 54, 54, 54, 35, 47, 47, 47, 47, 47, 47, 47, 47, 47, 16, 16, 59, 59, 67, 47, 47, 47, 47, 47, 47, 47, 47, 44, 44, 44, 44, 44, 44, 44, 44, 44, 44, 34, 44, 44, 44, 44, 44, 54, 54, 54, 54, 54, 54, 54, 31, 49, 22, 26, 54, 54, 54, 54, 54, 54, 54, 54, 54, 54, 29, 51, 51, 47, 32, 22, 46, 52, 51, 56, 54, 54, 54, 54, 54, 39, 56, 56, 39, 39, 56, 44, 31, 31, 44, 23, 6, 57, 27, 32, 42, 42, 25, 25, 25, 25, 43, 43, 41, 32, 33, 33, 29, 29, 31, 22, 41, 41, 36, 29, 44, 24, 35, 35, 35, 35, 35, 35, 35, 35, 35, 35, 35, 74, 11, 46, 46, 24, 49, 24, 21, 31, 31, 38, 38, 16, 22, 22, 22, 22, 22, 22, 22, 22, 30, 48, 48, 48, 48, 30, 30, 30, 30, 30, 30, 30, 30, 30, 30, 30, 9, 40, 33, 33, 29, 33, 33, 44, 42, 28, 49, 49, 13, 27, 27, 27, 123, 49, 49, 27, 27, 27, 27, 27, 27, 49, 16, 28, 21, 22, 22, 22, 22, 22, 22, 22, 21, 44, 44, 44, 44, 44, 44, 44, 44, 44, 44, 44, 44, 13, 13, 13, 13, 92, 43, 76, 57, 43, 67, 67, 53, 34, 18, 20, 20, 20, 20, 20, 20, 20, 59, 59, 59, 59, 59, 59, 59, 59, 59, 59, 59, 59, 59, 59, 59, 59, 59, 59, 59, 59, 59, 59, 59, 59, 59, 26, 92, 92, 44, 44, 54, 72, 44, 44, 44, 44, 44, 44, 44, 44, 67, 14, 59, 43, 37, 28, 29, 49, 62, 131, 74, 21, 41, 29, 47, 51, 51, 51, 51, 51, 51, 51, 51, 72, 16, 46, 46, 46, 46, 46, 46, 28, 58, 59, 59, 59, 59, 67, 34, 79, 56, 71, 71, 35, 60, 35, 100, 10, 33, 43, 51, 40, 40, 24, 47, 43, 43, 43, 26, 7, 46, 68, 34, 34, 44, 44, 44, 44, 44, 44, 44, 39, 39, 39, 39, 39, 39, 25, 21, 27, 57, 57, 57, 57, 27, 62, 30, 44, 6, 6, 42, 30, 25, 43, 22, 22, 22, 10, 22, 29, 29, 29, 29, 29, 29, 29, 29, 31, 29, 29, 28, 28, 28, 28, 28, 22, 45, 66, 66, 28, 28, 28, 32, 32, 32, 66, 41, 22, 22, 22, 32, 32, 32, 32, 21, 21, 21, 21, 21, 21, 21, 28, 22, 71, 23, 63, 28, 28, 28, 28, 28, 28, 28, 28, 28, 28, 48, 48, 48, 48, 48, 38, 38, 24, 48, 48, 48, 48, 48, 48, 48, 48, 48, 48, 48, 52, 52, 52, 52, 52, 52, 52, 52, 52, 52, 52, 52, 52, 29, 28, 42, 30, 14, 52, 52, 21, 21, 21, 21, 21, 20, 47, 17, 17, 17, 52, 52, 52, 52, 52, 123, 31, 15, 41, 41, 47, 18, 44, 30, 62, 19, 29, 67, 59, 59, 25, 18, 18, 18, 25, 25, 25, 25, 25, 25, 25, 63, 63, 63, 63, 33, 32, 44, 92, 92, 43, 63, 63, 63, 63, 63, 63, 28, 28, 28, 28, 28, 28, 28, 28, 28, 28, 48, 48, 48, 48, 48, 48, 48, 48, 48, 43, 47, 41, 35, 28, 28, 19, 48, 48, 48, 51, 51, 51, 51, 51, 51, 51, 51, 51, 51, 51, 72, 72, 72, 72, 72, 72, 72, 72, 72, 72, 72, 72, 72, 72, 72, 72, 44, 31, 30, 63, 82, 63, 72, 85, 85, 87, 87, 34, 72, 72, 72, 72, 72, 72, 34, 34, 17, 17, 17, 17, 60, 60, 96, 16, 44, 38, 60, 60, 60, 50, 50, 60, 60, 60, 60, 60, 60, 60, 60, 60, 44, 44, 44, 44, 44, 87, 87, 87, 87, 87, 87, 87, 87, 87, 87, 87, 87, 87, 87, 87, 87, 87, 87, 40, 40, 31, 66, 49, 33, 60, 60, 62, 22, 56, 70, 60, 26, 14, 75, 42, 58, 58, 73, 77, 38, 56, 62, 29, 59, 61, 61, 61, 61, 76, 20, 50, 50, 23, 61, 61, 61, 61, 61, 61, 61, 61, 61, 61, 61, 61, 61, 47, 47, 51, 12, 28, 28, 28, 46, 46, 46, 46, 46, 51, 63, 63, 61, 66, 24, 62, 48, 13, 41, 26, 26, 43, 60, 29, 29, 29, 29, 29, 29, 29, 29, 29, 29, 29, 42, 40, 31, 27, 27, 44, 16, 31, 31, 61, 48, 51, 131, 27, 76, 76, 76, 62, 78, 30, 41, 49, 52, 37, 60, 74, 64, 14, 57, 97, 41, 49, 49, 56, 76, 76, 76, 76, 76, 76, 76, 76, 76, 76, 76, 50, 28, 22, 44, 44, 39, 53, 22, 10, 31, 26, 27, 61, 45, 82, 82, 82, 82, 82, 82, 82, 82, 82, 82, 82, 82, 82, 82, 82, 20, 81, 44, 82, 82, 82, 82, 82, 82, 35, 35, 35, 35, 35, 48, 52, 26, 69, 69, 55, 55, 35, 35, 35, 35, 35, 35, 35, 35, 35, 35, 65, 65, 65, 65, 65, 65, 65, 65, 65, 65, 65, 61, 80, 74, 74, 53, 55, 65, 65, 65, 65, 47, 60, 23, 65, 65, 65, 65, 65, 65, 65, 41, 46, 26, 33, 33, 33, 19, 46, 25, 56, 56, 56, 56, 56, 56, 56, 55, 58, 70, 25, 62, 43, 76, 56, 56, 56, 56, 56, 56, 56, 56, 56, 56, 56, 40, 40, 40, 40, 40, 40, 41, 40, 40, 40, 40, 40, 40, 40, 40, 40, 20, 55, 61, 26, 18, 44, 44, 44, 44, 44, 44, 44, 44, 44, 44, 44, 44, 44, 44, 44, 44, 44, 44, 44, 44, 15, 15, 15, 41, 57, 44, 58, 48, 35, 35, 35, 35, 36, 36, 52, 29, 58, 22, 87, 47, 49, 49, 50, 60, 47, 63, 63, 63, 63, 63, 63, 63, 63, 63, 63, 63, 63, 63, 63, 63, 63, 63, 63, 74, 14, 49, 70, 79, 49, 49, 49, 79, 38, 69, 69, 69, 69, 69, 69, 69, 69, 69, 69, 69, 69, 69, 69, 69, 69, 69, 46, 46, 44, 58, 6, 69, 30, 29, 42, 26, 41, 24, 24, 24, 24, 24, 24, 24, 24, 24, 41, 41, 41, 41, 50, 75, 75, 73, 51, 55, 62, 41, 41, 41, 41, 41, 41, 119, 119, 119, 119, 119, 119, 41, 54, 77, 41, 44, 32, 119, 119, 119, 119, 119, 119, 119, 119, 119, 119, 119, 119, 119, 119, 119, 119, 119, 119, 31, 31, 31, 31, 31, 77, 68, 56, 66, 21, 72, 72, 53, 64, 72, 72, 72, 72, 72, 72, 72, 28, 28, 28, 28, 28, 28, 44, 44, 44, 44, 101, 60, 50, 35, 28, 36, 47, 78, 53, 26, 21, 19, 21, 45, 87, 39, 78, 23, 64, 58, 23, 23, 23, 23, 23, 23, 18, 33, 14, 14, 14, 21, 21, 70, 60, 23, 23, 23, 23, 60, 44, 23, 23, 23, 28, 28, 28, 28, 66, 39, 33, 28, 52, 52, 52, 52, 52, 52, 42, 76, 48, 40, 54, 7, 32, 52, 52, 52, 52, 52, 52, 52, 52, 52, 52, 35, 35, 35, 95, 40, 23, 50, 30, 35, 35, 35, 35, 35, 47, 28, 66, 73, 54, 32, 37, 48, 48, 48, 48, 48, 48, 48, 48, 48, 48, 22, 16, 67, 67, 67, 60, 23, 34, 37, 55, 55, 55, 38, 38, 55, 43, 50, 71, 85, 85, 21, 26, 37, 29, 40, 68, 74, 60, 18, 85, 85, 85, 41, 41, 41, 41, 41, 41, 41, 52, 34, 48, 26, 59, 58, 75, 41, 41, 41, 41, 41, 32, 32, 32, 32, 32, 32, 32, 75, 75, 28, 59, 49, 6, 23, 18, 28, 59, 48, 10, 30, 57, 57, 32, 21, 34, 18, 38, 48, 20, 29, 47, 123, 87, 18, 44, 18, 43, 54, 41, 35, 49, 87, 87, 87, 87, 87, 87, 87, 87, 87, 87, 87, 87, 87, 87, 87, 28, 19, 19, 76, 63, 52, 52, 52, 52, 60, 60, 57, 44, 44, 44, 44, 44, 44, 44, 44, 44, 44, 44, 44, 58, 52, 52, 52, 73, 51, 63, 61, 61, 44, 44, 44, 36, 28, 24, 24, 36, 29, 24, 33, 61, 32, 27, 52, 25, 38, 16, 48, 75, 36, 49, 48, 42, 42, 42, 36, 42, 42, 42, 42, 42, 42, 42, 22, 22, 22, 22, 22, 30, 49, 39, 71, 32, 51, 44, 40, 31, 40, 42, 23, 123, 26, 92, 48, 41, 87, 52, 87, 77, 32, 21, 65, 76, 41, 41, 76, 72, 41, 41, 41, 41, 41, 56, 38, 41, 43, 43, 43, 43, 43, 43, 43, 43, 16, 21, 30, 63, 47, 47, 47, 47, 59, 47, 47, 47, 47, 19, 46, 32, 32, 41, 17, 25, 21, 58, 64, 47, 47, 47, 47, 79, 23, 41, 42, 53, 25, 52, 52, 52, 56, 73, 34, 49, 16, 34, 34, 42, 15, 23, 62, 51, 35, 35, 35, 35, 35, 35, 35, 35, 35, 35, 21, 49, 27, 27, 27, 27, 60, 49, 21, 16, 27, 27, 27, 27, 45, 45, 45, 45, 45, 81, 63, 57, 29, 34, 72, 30, 67, 54, 44, 44, 51, 63, 44, 39, 39, 29, 29, 29, 16, 13, 46, 36, 25, 29, 52, 52, 52, 52, 25, 45, 62, 56, 21, 12, 42, 42, 18, 39, 19, 15, 36, 37, 20, 37, 41, 16, 8, 18, 27, 10, 76, 61, 61, 76, 57, 61, 61, 61, 61, 61, 61, 61, 61, 61, 61, 61, 61, 61, 61, 61, 67, 67, 67, 57, 57, 57, 34, 39, 25, 27, 44, 27, 30, 40, 40, 47, 52, 52, 19, 25, 56, 22, 12, 23, 23, 23, 55, 67, 67, 67, 10, 96, 29, 57, 45, 45, 45, 45, 45, 45, 45, 39, 39, 43, 34, 40, 39, 39, 16, 11, 64, 64, 18, 27, 18, 15, 20, 33, 52, 82, 52, 62, 44, 35, 16, 24, 20, 46, 29, 28, 47, 28, 23, 23, 51, 51, 51, 51, 51, 51, 51, 26, 19, 51, 34, 62, 23, 51, 51, 16, 20, 20, 23, 34, 51, 82, 46, 46, 62, 20, 28, 47, 28, 19, 36, 33, 13, 37, 42, 42, 42, 42, 42, 27, 72, 50, 23, 42, 42, 42, 23, 23, 23, 23, 23, 23, 31, 31, 42, 54, 31, 31, 31, 31, 31, 31, 31, 55, 55, 55, 55, 55, 55, 55, 55, 55, 55, 55, 55, 55, 55, 55, 55, 44, 44, 54, 18, 25, 20, 31, 25, 41, 27, 27, 36, 54, 59, 57, 55, 36, 26, 53, 36, 19, 19, 19, 19, 74, 74, 74, 74, 9, 38, 21, 42, 60, 55, 74, 74, 74, 74, 74, 74, 44, 26, 24, 68, 49, 13, 67, 46, 21, 68, 68, 68, 68, 20, 48, 26, 55, 37, 68, 27, 15, 50, 43, 66, 39, 58, 44, 41, 62, 60, 30, 85, 25, 35, 30, 30, 24, 24, 24, 24, 24, 24, 24, 24, 24, 19, 19, 19, 19, 19, 34, 34, 34, 16, 42, 33, 31, 37, 24, 19, 23, 23, 38, 38, 38, 38, 38, 38, 38, 38, 45, 40, 45, 43, 33, 56, 56, 25, 14, 14, 14, 50, 50, 25, 49, 35, 40, 70, 41, 73, 32, 50, 50, 80, 80, 80, 80, 80, 80, 80, 80, 80, 80, 80, 80, 80, 80, 80, 32, 40, 26, 29, 29, 41, 20, 123, 80, 66, 36, 80, 48, 48, 53, 42, 16, 51, 87, 63, 67, 67, 67, 67, 67, 67, 67, 67, 65, 52, 61, 41, 31, 33, 75, 29, 12, 19, 65, 87, 61, 61, 42, 68, 78, 26, 43, 36, 52, 52, 52, 52, 52, 36, 32, 23, 64, 58, 74, 59, 52, 52, 52, 52, 52, 52, 52, 45, 27, 58, 56, 50, 50, 50, 50, 37, 51, 50, 50, 50, 50, 50, 50, 51, 72, 27, 21, 45, 18, 18, 42, 47, 21, 21, 27, 46, 30, 40, 40, 40, 40, 40, 40, 40, 63, 23, 54, 60, 49, 34, 40, 40, 40, 66, 66, 60, 60, 60, 60, 60, 60, 60, 60, 60, 60, 60, 62, 18, 18, 60, 60, 29, 58, 41, 41, 31, 45, 45, 60, 60, 60, 43, 43, 43, 43, 67, 44, 43, 52, 43, 43, 43, 43, 43, 41, 41, 41, 41, 41, 41, 41, 30, 41, 49, 31, 72, 40, 40, 41, 41, 41, 41, 41, 72, 45, 14, 46, 50, 80, 67, 33, 22, 70, 58, 76, 76, 32, 32, 32, 32, 30, 27, 68, 68, 68, 36, 80, 68, 31, 68, 35, 41, 68, 68, 22, 21, 30, 42, 23, 39, 47, 65, 23, 23, 33, 76, 60, 34, 34, 57, 52, 34, 34, 34, 34, 34, 34, 34, 34, 34, 66, 66, 66, 66, 66, 66, 66, 66, 66, 66, 66, 66, 66, 54, 22, 22, 22, 22, 47, 25, 49, 49, 49, 26, 49, 49, 26, 35, 30, 30, 30, 66, 63, 30, 30, 30, 30, 30, 30, 30, 30, 30, 51, 40, 41, 23, 44, 48, 38, 25, 46, 46, 18, 12, 12, 60, 60, 60, 60, 60, 60, 44, 49, 30, 67, 53, 53, 123, 123, 60, 60, 21, 92, 17, 87, 52, 62, 62, 48, 48, 48, 32, 58, 20, 49, 49, 111, 111, 111, 62, 62, 62, 62, 62, 62, 62, 62, 62, 62, 62, 62, 62, 62, 66, 50, 44, 31, 56, 56, 39, 87, 19, 42, 42, 42, 42, 76, 19, 35, 44, 36, 42, 42, 42, 42, 33, 33, 33, 33, 33, 33, 29, 26, 12, 33, 33, 33, 33, 33, 56, 56, 56, 56, 56, 56, 56, 56, 56, 56, 62, 60, 38, 93, 56, 56, 56, 36, 31, 14, 14, 14, 14, 14, 14, 14, 11, 11, 11, 11, 11, 11, 95, 95, 95, 13, 24, 44, 70, 70, 70, 70, 70, 70, 70, 70, 70, 70, 59, 70, 102, 75, 75, 75, 75, 75, 75, 75, 75, 75, 75, 75, 75, 75, 75, 75, 38, 80, 74, 101, 101, 75, 28, 40, 27, 27, 75, 75, 75, 75, 75, 75, 75, 11, 11, 11, 11, 11, 57, 57, 27, 12, 72, 46, 26, 32, 25, 57, 52, 31, 87, 57, 57, 57, 57, 57, 57, 57, 57, 57, 57, 57, 59, 23, 38, 38, 36, 56, 48, 45, 74, 29, 38, 66, 87, 56, 58, 28, 74, 75, 75, 58, 50, 75, 64, 41, 40, 44, 23, 77, 77, 77, 77, 77, 77, 77, 77, 75, 77, 77, 66, 41, 56, 71, 60, 35, 52, 44, 41, 81, 25, 26, 31, 31, 31, 77, 77, 60, 60, 31, 56, 28, 45, 47, 60, 60, 60, 60, 60, 60, 67, 67, 67, 67, 67, 67, 67, 67, 67, 67, 67, 67, 67, 67, 67, 67, 42, 60, 39, 67, 67, 67, 67, 67, 67, 67, 67, 67, 67, 67, 53, 53, 53, 53, 53, 53, 53, 53, 53, 53, 53, 53, 40, 40, 40, 40, 40, 40, 63, 62, 31, 44, 50, 40, 40, 40, 40, 9, 9, 9, 46, 46, 46, 46, 42, 52, 28, 61, 46, 46, 46, 46, 46, 46, 46, 46, 46, 31, 31, 31, 31, 38, 36, 31, 58, 37, 37, 37, 37, 37, 16, 53, 28, 45, 38, 46, 37, 37, 37, 37, 37, 25, 30, 44, 20, 31, 36, 25, 25, 25, 60, 60, 60, 60, 60, 60, 60, 60, 60, 60, 30, 24, 64, 33, 67, 60, 34, 21, 123, 51, 60, 60, 60, 60, 43, 92, 92, 28, 48, 57, 48, 54, 35, 65, 69, 14, 26, 47, 38, 5, 74, 74, 74, 74, 74, 74, 74, 74, 74, 74, 74, 74, 52, 74, 74, 74, 74, 74, 74, 43, 61, 43, 43, 74, 21, 43, 43, 43, 43, 43, 43, 75, 75, 75, 26, 38, 43, 64, 37, 56, 56, 50, 65, 43, 50, 28, 53, 54, 28, 25, 75, 75, 29, 27, 48, 28, 75, 75, 75, 75, 75, 75, 61, 61, 61, 61, 61, 61, 42, 42, 42, 42, 42, 42, 42, 56, 33, 42, 42, 48, 74, 24, 28, 28, 28, 28, 28, 28, 28, 6, 6, 6, 41, 41, 41, 41, 41, 41, 41, 41, 41, 41, 41, 41, 41, 22, 49, 20, 22, 22, 22, 22, 22, 22, 22, 46, 14, 67, 58, 57, 66, 62, 45, 13, 67, 39, 37, 37, 62, 34, 39, 39, 39, 39, 29, 37, 75, 75, 53, 25, 25, 75, 111, 92, 34, 52, 76, 34, 34, 34, 34, 34, 34, 34, 96, 68, 60, 41, 31, 42, 38, 21, 21, 21, 21, 21, 57, 60, 75, 21, 21, 23, 81, 101, 101, 101, 62, 77, 59, 50, 60, 101, 101, 101, 101, 101, 101, 101, 101, 101, 101, 101, 101, 101, 101, 101, 101, 101, 101, 101, 101, 101, 101, 101, 101, 58, 58, 58, 58, 58, 58, 29, 58, 58, 58, 59, 26, 26, 26, 61, 61, 80, 52, 41, 32, 39, 29, 72, 33, 65, 60, 52, 52, 52, 33, 44, 55, 25, 38, 123, 123, 16, 44, 19, 62, 38, 20, 21, 45, 73, 73, 15, 21, 38, 42, 46, 44, 50, 50, 63, 68, 51, 12, 12, 93, 93, 93, 93, 93, 58, 38, 32, 24, 68, 68, 93, 47, 58, 62, 38, 73, 45, 40, 67, 57, 68, 64, 23, 41, 87, 22, 42, 43, 38, 60, 15, 58, 43, 52, 87, 87, 87, 87, 87, 87, 87, 62, 14, 66, 29, 21, 9, 36, 35, 74, 74, 74, 27, 33, 30, 34, 40, 60, 74, 74, 74, 74, 74, 11, 11, 11, 11, 30, 57, 30, 30, 30, 30, 30, 30, 28, 29, 51, 56, 31, 16, 56, 41, 56, 18, 40, 20, 58, 77, 77, 77, 77, 77, 77, 77, 77, 77, 41, 46, 92, 41, 27, 80, 42, 51, 23, 64, 34, 30, 30, 81, 81, 81, 81, 81, 81, 81, 81, 81, 81, 81, 81, 81, 81, 36, 50, 60, 42, 70, 19, 41, 20, 81, 81, 81, 36, 26, 26, 26, 41, 36, 97, 97, 97, 97, 97, 97, 97, 97, 97, 97, 97, 97, 97, 97, 97, 97, 97, 97, 72, 77, 59, 97, 97, 97, 97, 97, 97, 97, 97, 97, 97, 97, 97, 97, 97, 97, 97, 97, 97, 97, 58, 58, 48, 74, 58, 58, 27, 27, 74, 25, 70, 52, 48, 27, 27, 27, 27, 27, 27, 11, 30, 22, 70, 65, 65, 65, 65, 65, 65, 65, 65, 65, 65, 16, 29, 29, 52, 31, 65, 65, 65, 65, 65, 65, 65, 46, 46, 46, 46, 46, 46, 46, 46, 46, 46, 46, 47, 47, 47, 47, 47, 47, 47, 47, 32, 32, 32, 32, 32, 32, 32, 32, 32, 32, 32, 32, 11, 28, 25, 20, 29, 63, 62, 38, 38, 38, 38, 38, 38, 57, 64, 60, 29, 45, 45, 19, 43, 23, 43, 56, 42, 56, 56, 56, 56, 56, 52, 56, 56, 56, 53, 74, 36, 54, 51, 23, 23, 23, 23, 23, 23, 23, 81, 81, 81, 81, 81, 81, 50, 30, 55, 55, 42, 78, 21, 75, 47, 74, 54, 35, 47, 81, 81, 81, 81, 81, 81, 81, 81, 81, 81, 81, 81, 30, 30, 30, 30, 30, 30, 30, 30, 30, 30, 30, 30, 73, 73, 73, 73, 73, 73, 73, 73, 73, 73, 73, 73, 73, 73, 73, 73, 73, 73, 73, 73, 73, 73, 73, 73, 73, 63, 52, 21, 21, 21, 21, 59, 62, 62, 62, 67, 67, 67, 40, 71, 62, 62, 60, 40, 51, 51, 62, 53, 53, 51, 51, 20, 22, 30, 32, 46, 46, 26, 40, 56, 44, 44, 11, 11, 11, 46, 53, 53, 27, 6, 33, 44, 44, 41, 41, 44, 30, 73, 41, 20, 33, 24, 45, 22, 36, 36, 36, 44, 23, 28, 28, 49, 49, 49, 49, 49, 31, 40, 40, 40, 40, 40, 54, 54, 27, 67, 19, 20, 29, 10, 36, 36, 42, 20, 20, 66, 31, 72, 72, 72, 69, 60, 38, 38, 38, 72, 43, 43, 43, 58, 58, 43, 43, 49, 49, 49, 49, 49, 49, 49, 51, 49, 49, 49, 18, 49, 22, 22, 43, 52, 17, 59, 61, 59, 61, 26, 46, 46, 46, 46, 46, 46, 46, 46, 46, 46, 46, 46, 46, 46, 46, 46, 46, 24, 24, 24, 24, 24, 24, 24, 26, 29, 40, 21, 35, 41, 38, 27, 35, 96, 38, 80, 50, 50, 40, 41, 23, 33, 62, 62, 83, 83, 83, 83, 83, 83, 83, 83, 42, 42, 77, 83, 40, 77, 40, 67, 40, 25, 26, 14, 28, 34, 21, 64, 64, 64, 81, 43, 43, 36, 36, 59, 40, 40, 40, 40, 59, 33, 33, 33, 33, 59, 59, 59, 59, 59, 59, 59, 59, 59, 59, 59, 59, 59, 43, 19, 61, 28, 41, 41, 51, 51, 15, 28, 20, 49, 30, 26, 26, 26, 70, 26, 26, 74, 74, 25, 62, 39, 41, 55, 55, 76, 76, 76, 76, 76, 76, 76, 76, 76, 76, 76, 76, 36, 36, 36, 11, 36, 80, 25, 36, 23, 23, 23, 23, 23, 25, 25, 25, 21, 21, 58, 58, 44, 44, 38, 38, 31, 18, 53, 74, 77, 77, 77, 77, 77, 77, 77, 77, 77, 77, 77, 77, 77, 77, 77, 77, 77, 70, 70, 70, 70, 70, 70, 74, 9, 30, 60, 60, 62, 31, 36, 75, 70, 55, 55, 28, 14, 21, 35, 55, 55, 55, 55, 55, 55, 55, 55, 55, 55, 55, 55, 55, 66, 66, 61, 49, 18, 42, 42, 42, 42, 40, 16, 54, 16, 25, 28, 8, 26, 42, 26, 42, 42, 42, 42, 42, 44, 34, 42, 60, 63, 20, 59, 59, 59, 59, 59, 59, 59, 59, 59, 30, 64, 45, 50, 43, 29, 36, 51, 59, 59, 59, 59, 59, 59, 59, 50, 50, 50, 50, 50, 50, 50, 50, 62, 50, 30, 50, 50, 50, 58, 35, 44, 44, 63, 7, 62, 18, 35, 26, 64, 29, 35, 35, 35, 35, 35, 35, 23, 23, 23, 23, 59, 40, 40, 22, 23, 23, 23, 23, 23, 23, 38, 43, 43, 43, 43, 43, 43, 41, 41, 39, 39, 39, 39, 39, 39, 30, 30, 14, 20, 47, 47, 42, 31, 29, 63, 63, 45, 45, 25, 36, 23, 23, 28, 18, 21, 61, 61, 67, 36, 49, 123, 61, 61, 61, 61, 61, 61, 61, 61, 61, 61, 66, 60, 47, 39, 32, 18, 21, 26, 35, 41, 27, 30, 40, 62, 33, 17, 17, 17, 17, 17, 71, 71, 71, 71, 71, 71, 71, 28, 81, 59, 59, 61, 28, 31, 71, 71, 71, 51, 71, 71, 71, 71, 37, 37, 37, 30, 70, 74, 74, 62, 41, 58, 58, 47, 67, 44, 63, 35, 49, 19, 19, 19, 23, 34, 30, 30, 45, 49, 29, 64, 49, 49, 60, 29, 24, 50, 22, 72, 72, 23, 29, 38, 38, 56, 31, 18, 72, 48, 72, 72, 72, 72, 72, 72, 72, 72, 72, 72, 23, 23, 23, 23, 23, 23, 23, 23, 53, 36, 54, 54, 30, 95, 51, 51, 62, 62, 50, 30, 55, 60, 42, 31, 42, 42, 42, 42, 42, 42, 42, 42, 42, 21, 25, 25, 25, 25, 25, 21, 70, 58, 70, 52, 19, 75, 16, 46, 25, 46, 46, 46, 46, 46, 46, 44, 59, 19, 63, 63, 49, 35, 64, 46, 46, 59, 67, 59, 28, 63, 63, 63, 40, 26, 16, 16, 16, 16, 16, 16, 59, 38, 25, 32, 46, 46, 46, 26, 48, 34, 40, 56, 6, 57, 36, 44, 30, 20, 42, 33, 24, 31, 24, 45, 22, 36, 44, 61, 61, 61, 73, 73, 73, 73, 73, 73, 32, 23, 28, 28, 40, 31, 18, 33, 73, 73, 73, 73, 73, 73, 73, 73, 73, 73, 73, 77, 77, 77, 77, 77, 77, 77, 77, 77, 77, 77, 77, 77, 77, 77, 77, 77, 77, 77, 77, 33, 27, 67, 67, 12, 36, 77, 77, 77, 77, 77, 77, 28, 72, 66, 72, 60, 60, 66, 66, 72, 58, 25, 51, 51, 66, 66, 66, 6, 6, 49, 66, 78, 78, 78, 78, 78, 78, 78, 78, 78, 78, 78, 78, 78, 78, 78, 78, 78, 78, 78, 78, 36, 16, 61, 61, 29, 40, 35, 48, 27, 35, 38, 80, 80, 40, 59, 59, 59, 59, 59, 59, 59, 59, 59, 23, 62, 22, 77, 77, 77, 28, 22, 34, 21, 43, 38, 40, 43, 19, 28, 41, 41, 20, 49, 49, 30, 30, 65, 65, 65, 65, 65, 65, 65, 65, 65, 65, 65, 60, 29, 70, 70, 80, 74, 65, 74, 60, 41, 41, 41, 55, 25, 25, 25, 25, 25, 25, 25, 80, 17, 49, 49, 49, 49, 49, 49, 80, 25, 21, 26, 58, 49, 49, 38, 22, 57, 43, 49, 76, 26, 72, 72, 72, 72, 72, 72, 57, 29, 58, 22, 50, 53, 72, 72, 72, 72, 72, 72, 72, 72, 72, 72, 7, 7, 21, 21, 21, 21, 21, 21, 37, 28, 28, 28, 28, 28, 28, 60, 42, 21, 21, 19, 43, 28, 28, 40, 40, 40, 40, 40, 40, 40, 40, 40, 40, 23, 23, 23, 23, 9, 41, 41, 41, 41, 41, 41, 16, 28, 54, 44, 44, 40, 23, 24, 54, 54, 54, 54, 54, 53, 24, 24, 24, 24, 24, 66, 15, 29, 29, 29, 22, 22, 22, 22, 22, 22, 29, 74, 35, 62, 50, 52, 64, 72, 52, 52, 52, 52, 25, 25, 25, 25, 25, 25, 25, 25, 52, 50, 28, 28, 28, 28, 28, 28, 28, 62, 62, 62, 62, 38, 62, 62, 38, 38, 43, 77, 25, 25, 62, 62, 62, 62, 62, 62, 25, 25, 25, 25, 25, 25, 37, 75, 25, 25, 31, 31, 33, 21, 61, 34, 38, 46, 46, 26, 31, 31, 31, 31, 31, 51, 51, 51, 6, 57, 48, 21, 40, 51, 51, 51, 51, 51, 51, 51, 51, 51, 51, 51, 51, 51, 51, 51, 51, 51, 51, 51, 51, 24, 43, 25, 62, 42, 36, 51, 51, 16, 44, 21, 14, 35, 35, 33, 37, 30, 35, 35, 42, 55, 22, 22, 22, 22, 22, 22, 27, 42, 74, 6, 51, 27, 27, 27, 27, 27, 27, 21, 21, 21, 21, 21, 21, 21, 21, 21, 21, 21, 51, 51, 56, 44, 34, 34, 34, 34, 34, 34, 54, 54, 44, 54, 54, 54, 54, 54, 54, 54, 47, 47, 47, 47, 47, 47, 47, 47, 12, 12, 14, 14, 14, 14, 12, 12, 12, 44, 30, 36, 31, 66, 9, 39, 37, 20, 44, 49, 29, 27, 13, 46, 46, 61, 24, 30, 14, 35, 20, 47, 49, 49, 49, 49, 48, 48, 48, 48, 48, 48, 48, 48, 28, 28, 31, 19, 22, 22, 22, 47, 21, 64, 17, 26, 22, 22, 22, 22, 22, 22, 16, 43, 47, 43, 21, 34, 21, 28, 40, 54, 41, 41, 16, 19, 44, 31, 31, 31, 31, 72, 72, 76, 63, 63, 82, 49, 85, 85, 41, 52, 28, 52, 28, 28, 28, 28, 41, 52, 52, 45, 61, 61, 61, 52, 52, 14, 50, 41, 41, 41, 41, 41, 17, 17, 31, 50, 60, 34, 34, 60, 22, 22, 56, 31, 75, 75, 57, 25, 21, 21, 22, 58, 21, 85, 85, 85, 85, 85, 58, 58, 101, 101, 52, 73, 87, 77, 85, 85, 85, 85, 85, 85, 85, 85, 85, 85, 85, 85, 20, 20, 20, 20, 20, 20, 10, 97, 38, 53, 25, 25, 49, 76, 14, 25, 25, 25, 51, 51, 19, 61, 20, 20, 20, 20, 49, 49, 49, 49, 49, 49, 49, 61, 61, 61, 73, 49, 49, 49, 49, 49, 49, 49, 49, 49, 49, 49, 12, 12, 12, 12, 50, 50, 50, 50, 50, 50, 50, 50, 50, 50, 50, 43, 50, 50, 30, 30, 30, 30, 30, 30, 30, 30, 30, 43, 43, 43, 43, 72, 30, 30, 30, 57, 57, 57, 28, 28, 28, 62, 48, 57, 57, 57, 57, 39, 39, 39, 39, 39, 39, 39, 39, 48, 61, 102, 102, 102, 102, 48, 48, 48, 48, 48, 48, 48, 48, 48, 48, 50, 50, 50, 50, 50, 50, 102, 102, 102, 102, 102, 58, 25, 40, 11, 46, 32, 50, 50, 50, 50, 6, 37, 37, 37, 37, 37, 32, 37, 20, 20, 20, 20, 44, 73, 48, 31, 43, 29, 29, 40, 28, 73, 43, 25, 43, 43, 43, 43, 50, 14, 26, 26, 26, 31, 31, 39, 39, 39, 39, 39, 39, 39, 39, 40, 45, 45, 45, 45, 45, 45, 45, 45, 45, 45, 45, 45, 45, 40, 60, 60, 60, 60, 60, 21, 49, 49, 35, 41, 20, 77, 77, 77, 77, 77, 77, 77, 77, 77, 77, 23, 31, 61, 61, 61, 61, 61, 61, 61, 61, 61, 61, 61, 61, 61, 61, 61, 42, 60, 60, 60, 60, 60, 60, 60, 60, 60, 60, 60, 60, 60, 60, 60, 60, 60, 17, 17, 39, 39, 29, 29, 29, 24, 52, 44, 24, 24, 24, 12, 44, 29, 62, 44, 29, 29, 87, 76, 87, 29, 53, 42, 46, 59, 59, 59, 59, 59, 59, 65, 16, 16, 16, 16, 16, 16, 16, 63, 39, 39, 42, 87, 87, 87, 31, 49, 28, 28, 28, 28, 13, 13, 28, 35, 43, 43, 43, 43, 43, 43, 44, 51, 43, 43, 43, 43, 43, 32, 32, 32, 32, 32, 32, 32, 32, 32, 32, 9, 9, 64, 64, 64, 64, 64, 64, 64, 64, 64, 64, 64, 64, 64, 64, 64, 64, 64, 64, 64, 64, 64, 64, 64, 64, 64, 61, 61, 61, 61, 61, 61, 47, 43, 76, 25, 40, 45, 26, 43, 53, 61, 61, 25, 37, 51, 70, 67, 67, 67, 67, 67, 67, 47, 74, 48, 54, 67, 67, 67, 67, 67, 67, 12, 12, 12, 102, 102, 102, 102, 17, 56, 56, 102, 102, 102, 71, 54, 40, 102, 102, 34, 102, 102, 102, 102, 102, 102, 102, 102, 102, 61, 33, 59, 21, 21, 28, 56, 44, 58, 61, 61, 61, 44, 38, 38, 38, 38, 38, 38, 70, 70, 70, 70, 70, 70, 70, 70, 70, 70, 70, 70, 70, 70, 70, 70, 24, 70, 70, 70, 70, 37, 41, 51, 38, 61, 80, 80, 80, 80, 80, 80, 80, 80, 61, 74, 74, 74, 74, 74, 74, 47, 20, 27, 31, 39, 53, 74, 74, 74, 74, 74, 74, 74, 74, 74, 74, 74, 74, 74, 74, 69, 69, 69, 69, 69, 69, 69, 69, 69, 69, 69, 69, 69, 69, 69, 69, 69, 90, 90, 90, 90, 90, 90, 90, 23, 90, 36, 32, 90, 90, 90, 90, 90, 90, 90, 90, 90, 90, 90, 90, 90, 90, 19, 19, 19, 19, 19, 19, 32, 36, 88, 47, 45, 76, 74, 74, 74, 74, 74, 74, 74, 74, 74, 74, 74, 74, 74, 74, 74, 37, 48, 36, 36, 36, 36, 20, 62, 19, 25, 51, 32, 67, 67, 77, 77, 77, 77, 77, 77, 77, 77, 24, 60, 43, 54, 54, 47, 77, 77, 77, 77, 77, 77, 77, 77, 77, 77, 30, 30, 30, 30, 30, 30, 30, 30, 30, 25, 25, 25, 25, 25, 27, 43, 15, 15, 15, 15, 15, 15, 15, 106, 106, 106, 106, 106, 106, 106, 106, 106, 106, 106, 106, 52, 48, 76, 72, 47, 52, 106, 106, 106, 106, 106, 106, 106, 21, 21, 21, 67, 46, 21, 62, 62, 62, 62, 62, 62, 62, 62, 62, 62, 62, 62, 62, 62, 67, 60, 56, 57, 60, 62, 62, 62, 62, 62, 62, 62, 35, 35, 35, 35, 35, 35, 35, 35, 45, 45, 45, 45, 45, 45, 45, 45, 45, 45, 45, 101, 101, 101, 101, 101, 101, 101, 75, 87, 77, 42, 101, 101, 101, 101, 101, 101, 101, 101, 71, 72, 101, 101, 46, 52, 45, 45, 45, 45, 45, 45, 45, 45, 45, 85, 61, 67, 77, 77, 42, 42, 42, 19, 19, 19, 19, 19, 40, 39, 31, 63, 52, 46, 63, 21, 68, 23, 47, 34, 43, 23, 14, 14, 14, 14, 14, 14, 10, 57, 57, 57, 57, 57, 57, 48, 24, 24, 24, 32, 28, 28, 28, 28, 28, 28, 28, 52, 48, 48, 48, 48, 48, 48, 39, 39, 60, 60, 67, 44, 37, 73, 41, 49, 40, 40, 51, 41, 60, 25, 52, 56, 63, 21, 21, 11, 11, 51, 61, 45, 67, 25, 92, 12, 12, 12, 53, 53, 53, 53, 51, 16, 76, 53, 53, 53, 53, 53, 53, 53, 53, 53, 53, 68, 68, 68, 68, 68, 52, 52, 61, 83, 68, 68, 68, 68, 68, 41, 33, 33, 33, 33, 33, 61, 25, 25, 25, 25, 25, 25, 25, 21, 29, 60, 45, 42, 54, 35, 42, 21, 63, 60, 35, 35, 35, 35, 35, 32, 60, 32, 32, 32, 32, 32, 32, 32, 32, 32, 31, 31, 36, 53, 31, 34, 29, 31, 31, 6, 29, 42, 44, 47, 6, 30, 26, 26, 26, 26, 21, 45, 63, 19, 19, 47, 111, 26, 57, 36, 56, 33, 35, 49, 14, 32, 30, 34, 60, 30, 42, 27, 58, 43, 53, 40, 34, 35, 29, 33, 77, 59, 34, 31, 38, 82, 28, 50, 39, 42, 40, 12, 23, 41, 42, 57, 43, 43, 68, 68, 68, 68, 68, 68, 68, 68, 68, 68, 68, 68, 41, 41, 41, 41, 41, 41, 41, 33, 56, 56, 12, 12, 26, 26, 26, 80, 80, 26, 60, 65, 44, 47, 50, 8, 38, 70, 40, 40, 40, 40, 40, 40, 40, 17, 16, 74, 58, 35, 40, 40, 40, 48, 40, 40, 44, 64, 29, 19, 39, 39, 39, 39, 39, 39, 39, 39, 39, 14, 14, 14, 14, 14, 17, 17, 17, 20, 20, 20, 20, 20, 17, 17, 52, 35, 63, 41, 59, 70, 70, 42, 42, 54, 54, 54, 42, 42, 42, 42, 30, 30, 30, 30, 30, 30, 30, 30, 22, 22, 22, 22, 49, 29, 100, 22, 38, 40, 31, 32, 29, 29, 31, 21, 21, 29, 48, 34, 34, 10, 30, 22, 42, 31, 73, 73, 73, 73, 73, 73, 73, 73, 73, 73, 73, 73, 73, 73, 73, 73, 73, 73, 73, 51, 51, 51, 51, 51, 51, 51, 51, 51, 51, 51, 51, 51, 51, 51, 24, 73, 73, 73, 73, 73, 73, 73, 73, 73, 73, 73, 73, 73, 73, 73, 48, 73, 73, 73, 73, 73, 73, 73, 72, 72, 72, 72, 30, 37, 72, 72, 72, 72, 72, 72, 72, 72, 72, 7, 31, 61, 31, 31, 54, 24, 46, 33, 47, 47, 47, 47, 28, 47, 47, 47, 47, 47, 47, 47, 47, 47, 47, 47, 47, 47, 47, 47, 46, 46, 46, 46, 47, 19, 27, 41, 28, 12, 12, 39, 39, 49, 49, 47, 47, 47, 47, 47, 123, 55, 55, 55, 55, 55, 55, 55, 55, 55, 55, 55, 55, 55, 55, 55, 55, 55, 55, 80, 80, 24, 51, 80, 80, 80, 80, 80, 80, 80, 80, 80, 80, 78, 78, 78, 78, 78, 78, 78, 78, 78, 78, 78, 78, 78, 78, 78, 18, 43, 22, 88, 60, 15, 47, 78, 78, 25, 25, 47, 22, 72, 21, 78, 62, 19, 32, 38, 32, 38, 38, 38, 38, 38, 38, 38, 38, 38, 80, 80, 80, 80, 80, 80, 80, 80, 80, 80, 15, 49, 49, 49, 49, 16, 80, 80, 80, 80, 80, 80, 80, 80, 80, 80, 80, 80, 80, 22, 22, 111, 111, 65, 65, 60, 22, 22, 22, 22, 18, 18, 18, 18, 21, 21, 21, 10, 10, 6, 56, 32, 32, 52, 30, 26, 26, 26, 21, 21, 21, 72, 72, 72, 72, 72, 72, 72, 72, 72, 72, 72, 72, 72, 35, 19, 35, 52, 41, 47, 47, 47, 47, 47, 47, 47, 39, 16, 47, 14, 32, 32, 32, 32, 31, 32, 32, 32, 32, 68, 30, 50, 50, 26, 32, 26, 26, 22, 22, 22, 22, 22, 62, 42, 22, 40, 40, 40, 40, 40, 40, 40, 40, 40, 40, 33, 33, 33, 33, 33, 33, 33, 33, 23, 23, 23, 37, 25, 25, 25, 75, 5, 5, 24, 58, 58, 58, 58, 58, 58, 58, 58, 58, 58, 58, 58, 52, 52, 52, 81, 81, 83, 83, 52, 52, 52, 52, 25, 25, 25, 25, 25, 25, 25, 25, 25, 83, 44, 44, 44, 44, 44, 44, 44, 44, 44, 44, 44, 44, 44, 44, 44, 44, 44, 13, 11, 11, 11, 11, 11, 11, 59, 59, 77, 47, 47, 47, 47, 47, 47, 47, 47, 72, 66, 66, 22, 22, 22, 22, 22, 22, 22, 48, 48, 48, 48, 54, 48, 48, 48, 48, 48, 48, 48, 48, 48, 48, 48, 48, 34, 34, 34, 34, 48, 22, 34, 34, 33, 33, 33, 33, 48, 48, 48, 48, 48, 48, 48, 49, 30, 48, 29, 59, 61, 61, 61, 74, 74, 74, 44, 44, 44, 44, 44, 44, 44, 8, 74, 106, 101, 101, 101, 24, 28, 41, 26, 31, 29, 31, 31, 32, 32, 32, 32, 32, 32, 32, 42, 32, 32, 32, 52, 52, 52, 52, 52, 52, 52, 72, 46, 52, 52, 52, 52, 52, 52, 52, 52, 52, 52, 52, 52, 52, 80, 22, 16, 26, 22, 47, 22, 48, 24, 39, 48, 32, 42, 48, 48, 48, 31, 13, 38, 59, 20, 43, 49, 53, 59, 32, 19, 35, 63, 64, 18, 50, 50, 50, 43, 27, 51, 17, 17, 17, 43, 47, 41, 82, 40]}],\n",
              "                        {\"template\": {\"data\": {\"bar\": [{\"error_x\": {\"color\": \"#2a3f5f\"}, \"error_y\": {\"color\": \"#2a3f5f\"}, \"marker\": {\"line\": {\"color\": \"#E5ECF6\", \"width\": 0.5}}, \"type\": \"bar\"}], \"barpolar\": [{\"marker\": {\"line\": {\"color\": \"#E5ECF6\", \"width\": 0.5}}, \"type\": \"barpolar\"}], \"carpet\": [{\"aaxis\": {\"endlinecolor\": \"#2a3f5f\", \"gridcolor\": \"white\", \"linecolor\": \"white\", \"minorgridcolor\": \"white\", \"startlinecolor\": \"#2a3f5f\"}, \"baxis\": {\"endlinecolor\": \"#2a3f5f\", \"gridcolor\": \"white\", \"linecolor\": \"white\", \"minorgridcolor\": \"white\", \"startlinecolor\": \"#2a3f5f\"}, \"type\": \"carpet\"}], \"choropleth\": [{\"colorbar\": {\"outlinewidth\": 0, \"ticks\": \"\"}, \"type\": \"choropleth\"}], \"contour\": [{\"colorbar\": {\"outlinewidth\": 0, \"ticks\": \"\"}, \"colorscale\": [[0.0, \"#0d0887\"], [0.1111111111111111, \"#46039f\"], [0.2222222222222222, \"#7201a8\"], [0.3333333333333333, \"#9c179e\"], [0.4444444444444444, \"#bd3786\"], [0.5555555555555556, \"#d8576b\"], [0.6666666666666666, \"#ed7953\"], [0.7777777777777778, \"#fb9f3a\"], [0.8888888888888888, \"#fdca26\"], [1.0, \"#f0f921\"]], \"type\": \"contour\"}], \"contourcarpet\": [{\"colorbar\": {\"outlinewidth\": 0, \"ticks\": \"\"}, \"type\": \"contourcarpet\"}], \"heatmap\": [{\"colorbar\": {\"outlinewidth\": 0, \"ticks\": \"\"}, \"colorscale\": [[0.0, \"#0d0887\"], [0.1111111111111111, \"#46039f\"], [0.2222222222222222, \"#7201a8\"], [0.3333333333333333, \"#9c179e\"], [0.4444444444444444, \"#bd3786\"], [0.5555555555555556, \"#d8576b\"], [0.6666666666666666, \"#ed7953\"], [0.7777777777777778, \"#fb9f3a\"], [0.8888888888888888, \"#fdca26\"], [1.0, \"#f0f921\"]], \"type\": \"heatmap\"}], \"heatmapgl\": [{\"colorbar\": {\"outlinewidth\": 0, \"ticks\": \"\"}, \"colorscale\": [[0.0, \"#0d0887\"], [0.1111111111111111, \"#46039f\"], [0.2222222222222222, \"#7201a8\"], [0.3333333333333333, \"#9c179e\"], [0.4444444444444444, \"#bd3786\"], [0.5555555555555556, \"#d8576b\"], [0.6666666666666666, \"#ed7953\"], [0.7777777777777778, \"#fb9f3a\"], [0.8888888888888888, \"#fdca26\"], [1.0, \"#f0f921\"]], \"type\": \"heatmapgl\"}], \"histogram\": [{\"marker\": {\"colorbar\": {\"outlinewidth\": 0, \"ticks\": \"\"}}, \"type\": \"histogram\"}], \"histogram2d\": [{\"colorbar\": {\"outlinewidth\": 0, \"ticks\": \"\"}, \"colorscale\": [[0.0, \"#0d0887\"], [0.1111111111111111, \"#46039f\"], [0.2222222222222222, \"#7201a8\"], [0.3333333333333333, \"#9c179e\"], [0.4444444444444444, \"#bd3786\"], [0.5555555555555556, \"#d8576b\"], [0.6666666666666666, \"#ed7953\"], [0.7777777777777778, \"#fb9f3a\"], [0.8888888888888888, \"#fdca26\"], [1.0, \"#f0f921\"]], \"type\": \"histogram2d\"}], \"histogram2dcontour\": [{\"colorbar\": {\"outlinewidth\": 0, \"ticks\": \"\"}, \"colorscale\": [[0.0, \"#0d0887\"], [0.1111111111111111, \"#46039f\"], [0.2222222222222222, \"#7201a8\"], [0.3333333333333333, \"#9c179e\"], [0.4444444444444444, \"#bd3786\"], [0.5555555555555556, \"#d8576b\"], [0.6666666666666666, \"#ed7953\"], [0.7777777777777778, \"#fb9f3a\"], [0.8888888888888888, \"#fdca26\"], [1.0, \"#f0f921\"]], \"type\": \"histogram2dcontour\"}], \"mesh3d\": [{\"colorbar\": {\"outlinewidth\": 0, \"ticks\": \"\"}, \"type\": \"mesh3d\"}], \"parcoords\": [{\"line\": {\"colorbar\": {\"outlinewidth\": 0, \"ticks\": \"\"}}, \"type\": \"parcoords\"}], \"pie\": [{\"automargin\": true, \"type\": \"pie\"}], \"scatter\": [{\"marker\": {\"colorbar\": {\"outlinewidth\": 0, \"ticks\": \"\"}}, \"type\": \"scatter\"}], \"scatter3d\": [{\"line\": {\"colorbar\": {\"outlinewidth\": 0, \"ticks\": \"\"}}, \"marker\": {\"colorbar\": {\"outlinewidth\": 0, \"ticks\": \"\"}}, \"type\": \"scatter3d\"}], \"scattercarpet\": [{\"marker\": {\"colorbar\": {\"outlinewidth\": 0, \"ticks\": \"\"}}, \"type\": \"scattercarpet\"}], \"scattergeo\": [{\"marker\": {\"colorbar\": {\"outlinewidth\": 0, \"ticks\": \"\"}}, \"type\": \"scattergeo\"}], \"scattergl\": [{\"marker\": {\"colorbar\": {\"outlinewidth\": 0, \"ticks\": \"\"}}, \"type\": \"scattergl\"}], \"scattermapbox\": [{\"marker\": {\"colorbar\": {\"outlinewidth\": 0, \"ticks\": \"\"}}, \"type\": \"scattermapbox\"}], \"scatterpolar\": [{\"marker\": {\"colorbar\": {\"outlinewidth\": 0, \"ticks\": \"\"}}, \"type\": \"scatterpolar\"}], \"scatterpolargl\": [{\"marker\": {\"colorbar\": {\"outlinewidth\": 0, \"ticks\": \"\"}}, \"type\": \"scatterpolargl\"}], \"scatterternary\": [{\"marker\": {\"colorbar\": {\"outlinewidth\": 0, \"ticks\": \"\"}}, \"type\": \"scatterternary\"}], \"surface\": [{\"colorbar\": {\"outlinewidth\": 0, \"ticks\": \"\"}, \"colorscale\": [[0.0, \"#0d0887\"], [0.1111111111111111, \"#46039f\"], [0.2222222222222222, \"#7201a8\"], [0.3333333333333333, \"#9c179e\"], [0.4444444444444444, \"#bd3786\"], [0.5555555555555556, \"#d8576b\"], [0.6666666666666666, \"#ed7953\"], [0.7777777777777778, \"#fb9f3a\"], [0.8888888888888888, \"#fdca26\"], [1.0, \"#f0f921\"]], \"type\": \"surface\"}], \"table\": [{\"cells\": {\"fill\": {\"color\": \"#EBF0F8\"}, \"line\": {\"color\": \"white\"}}, \"header\": {\"fill\": {\"color\": \"#C8D4E3\"}, \"line\": {\"color\": \"white\"}}, \"type\": \"table\"}]}, \"layout\": {\"annotationdefaults\": {\"arrowcolor\": \"#2a3f5f\", \"arrowhead\": 0, \"arrowwidth\": 1}, \"coloraxis\": {\"colorbar\": {\"outlinewidth\": 0, \"ticks\": \"\"}}, \"colorscale\": {\"diverging\": [[0, \"#8e0152\"], [0.1, \"#c51b7d\"], [0.2, \"#de77ae\"], [0.3, \"#f1b6da\"], [0.4, \"#fde0ef\"], [0.5, \"#f7f7f7\"], [0.6, \"#e6f5d0\"], [0.7, \"#b8e186\"], [0.8, \"#7fbc41\"], [0.9, \"#4d9221\"], [1, \"#276419\"]], \"sequential\": [[0.0, \"#0d0887\"], [0.1111111111111111, \"#46039f\"], [0.2222222222222222, \"#7201a8\"], [0.3333333333333333, \"#9c179e\"], [0.4444444444444444, \"#bd3786\"], [0.5555555555555556, \"#d8576b\"], [0.6666666666666666, \"#ed7953\"], [0.7777777777777778, \"#fb9f3a\"], [0.8888888888888888, \"#fdca26\"], [1.0, \"#f0f921\"]], \"sequentialminus\": [[0.0, \"#0d0887\"], [0.1111111111111111, \"#46039f\"], [0.2222222222222222, \"#7201a8\"], [0.3333333333333333, \"#9c179e\"], [0.4444444444444444, \"#bd3786\"], [0.5555555555555556, \"#d8576b\"], [0.6666666666666666, \"#ed7953\"], [0.7777777777777778, \"#fb9f3a\"], [0.8888888888888888, \"#fdca26\"], [1.0, \"#f0f921\"]]}, \"colorway\": [\"#636efa\", \"#EF553B\", \"#00cc96\", \"#ab63fa\", \"#FFA15A\", \"#19d3f3\", \"#FF6692\", \"#B6E880\", \"#FF97FF\", \"#FECB52\"], \"font\": {\"color\": \"#2a3f5f\"}, \"geo\": {\"bgcolor\": \"white\", \"lakecolor\": \"white\", \"landcolor\": \"#E5ECF6\", \"showlakes\": true, \"showland\": true, \"subunitcolor\": \"white\"}, \"hoverlabel\": {\"align\": \"left\"}, \"hovermode\": \"closest\", \"mapbox\": {\"style\": \"light\"}, \"paper_bgcolor\": \"white\", \"plot_bgcolor\": \"#E5ECF6\", \"polar\": {\"angularaxis\": {\"gridcolor\": \"white\", \"linecolor\": \"white\", \"ticks\": \"\"}, \"bgcolor\": \"#E5ECF6\", \"radialaxis\": {\"gridcolor\": \"white\", \"linecolor\": \"white\", \"ticks\": \"\"}}, \"scene\": {\"xaxis\": {\"backgroundcolor\": \"#E5ECF6\", \"gridcolor\": \"white\", \"gridwidth\": 2, \"linecolor\": \"white\", \"showbackground\": true, \"ticks\": \"\", \"zerolinecolor\": \"white\"}, \"yaxis\": {\"backgroundcolor\": \"#E5ECF6\", \"gridcolor\": \"white\", \"gridwidth\": 2, \"linecolor\": \"white\", \"showbackground\": true, \"ticks\": \"\", \"zerolinecolor\": \"white\"}, \"zaxis\": {\"backgroundcolor\": \"#E5ECF6\", \"gridcolor\": \"white\", \"gridwidth\": 2, \"linecolor\": \"white\", \"showbackground\": true, \"ticks\": \"\", \"zerolinecolor\": \"white\"}}, \"shapedefaults\": {\"line\": {\"color\": \"#2a3f5f\"}}, \"ternary\": {\"aaxis\": {\"gridcolor\": \"white\", \"linecolor\": \"white\", \"ticks\": \"\"}, \"baxis\": {\"gridcolor\": \"white\", \"linecolor\": \"white\", \"ticks\": \"\"}, \"bgcolor\": \"#E5ECF6\", \"caxis\": {\"gridcolor\": \"white\", \"linecolor\": \"white\", \"ticks\": \"\"}}, \"title\": {\"x\": 0.05}, \"xaxis\": {\"automargin\": true, \"gridcolor\": \"white\", \"linecolor\": \"white\", \"ticks\": \"\", \"title\": {\"standoff\": 15}, \"zerolinecolor\": \"white\", \"zerolinewidth\": 2}, \"yaxis\": {\"automargin\": true, \"gridcolor\": \"white\", \"linecolor\": \"white\", \"ticks\": \"\", \"title\": {\"standoff\": 15}, \"zerolinecolor\": \"white\", \"zerolinewidth\": 2}}}},\n",
              "                        {\"responsive\": true}\n",
              "                    ).then(function(){\n",
              "                            \n",
              "var gd = document.getElementById('22eb88f6-513c-4bd9-9f79-0b853d1e09be');\n",
              "var x = new MutationObserver(function (mutations, observer) {{\n",
              "        var display = window.getComputedStyle(gd).display;\n",
              "        if (!display || display === 'none') {{\n",
              "            console.log([gd, 'removed!']);\n",
              "            Plotly.purge(gd);\n",
              "            observer.disconnect();\n",
              "        }}\n",
              "}});\n",
              "\n",
              "// Listen for the removal of the full notebook cells\n",
              "var notebookContainer = gd.closest('#notebook-container');\n",
              "if (notebookContainer) {{\n",
              "    x.observe(notebookContainer, {childList: true});\n",
              "}}\n",
              "\n",
              "// Listen for the clearing of the current output cell\n",
              "var outputEl = gd.closest('.output');\n",
              "if (outputEl) {{\n",
              "    x.observe(outputEl, {childList: true});\n",
              "}}\n",
              "\n",
              "                        })\n",
              "                };\n",
              "                \n",
              "            </script>\n",
              "        </div>\n",
              "</body>\n",
              "</html>"
            ]
          },
          "metadata": {
            "tags": []
          }
        },
        {
          "output_type": "display_data",
          "data": {
            "text/html": [
              "<html>\n",
              "<head><meta charset=\"utf-8\" /></head>\n",
              "<body>\n",
              "    <div>\n",
              "            <script src=\"https://cdnjs.cloudflare.com/ajax/libs/mathjax/2.7.5/MathJax.js?config=TeX-AMS-MML_SVG\"></script><script type=\"text/javascript\">if (window.MathJax) {MathJax.Hub.Config({SVG: {font: \"STIX-Web\"}});}</script>\n",
              "                <script type=\"text/javascript\">window.PlotlyConfig = {MathJaxConfig: 'local'};</script>\n",
              "        <script src=\"https://cdn.plot.ly/plotly-latest.min.js\"></script>    \n",
              "            <div id=\"ea2a8cfd-3f61-49a5-8067-56c77cb6c689\" class=\"plotly-graph-div\" style=\"height:525px; width:100%;\"></div>\n",
              "            <script type=\"text/javascript\">\n",
              "                \n",
              "                    window.PLOTLYENV=window.PLOTLYENV || {};\n",
              "                    \n",
              "                if (document.getElementById(\"ea2a8cfd-3f61-49a5-8067-56c77cb6c689\")) {\n",
              "                    Plotly.newPlot(\n",
              "                        'ea2a8cfd-3f61-49a5-8067-56c77cb6c689',\n",
              "                        [{\"boxmean\": \"sd\", \"line\": {\"color\": \"rgb(8,81,156)\"}, \"marker\": {\"color\": \"rgb(8,81,156)\", \"line\": {\"outliercolor\": \"rgba(219, 64, 82, 0.6)\", \"outlierwidth\": 2}, \"outliercolor\": \"rgba(219, 64, 82, 0.6)\"}, \"name\": \"act_per_day\", \"type\": \"box\", \"y\": [4, 6, 6, 9, 5, 11, 18, 7, 8, 8, 8, 10, 4, 6, 9, 13, 8, 10, 5, 5, 20, 7, 7, 7, 4, 4, 4, 5, 15, 7, 9, 9, 5, 6, 2, 9, 5, 5, 15, 15, 15, 17, 17, 14, 14, 14, 14, 10, 10, 5, 5, 3, 2, 6, 8, 8, 6, 6, 13, 3, 4, 10, 10, 10, 10, 10, 10, 10, 10, 11, 10, 8, 15, 8, 2, 7, 6, 15, 3, 4, 4, 5, 7, 6, 8, 8, 8, 9, 10, 13, 10, 3, 2, 2, 11, 4, 8, 8, 9, 9, 9, 9, 9, 9, 3, 3, 7, 5, 5, 5, 10, 9, 9, 10, 6, 8, 4, 8, 4, 7, 15, 5, 7, 4, 6, 8, 14, 6, 9, 10, 5, 6, 6, 6, 2, 2, 7, 7, 7, 7, 8, 4, 10, 6, 8, 6, 4, 18, 18, 18, 18, 18, 18, 1, 6, 12, 2, 3, 8, 8, 9, 8, 8, 14, 4, 4, 4, 4, 4, 13, 4, 4, 4, 4, 9, 5, 5, 5, 5, 3, 10, 12, 7, 3, 6, 4, 6, 9, 8, 13, 5, 4, 11, 5, 9, 9, 9, 9, 8, 8, 7, 7, 7, 2, 6, 13, 5, 10, 9, 7, 7, 7, 15, 12, 7, 1, 6, 3, 4, 1, 3, 3, 4, 8, 8, 1, 7, 9, 3, 3, 5, 5, 5, 9, 8, 8, 9, 2, 1, 4, 4, 2, 6, 3, 6, 5, 4, 6, 5, 3, 9, 10, 5, 2, 9, 9, 6, 10, 4, 2, 9, 9, 2, 2, 2, 2, 8, 9, 7, 7, 12, 8, 8, 12, 13, 2, 11, 6, 8, 5, 8, 9, 6, 7, 3, 5, 5, 5, 13, 13, 13, 13, 13, 4, 4, 8, 7, 7, 6, 6, 5, 5, 5, 2, 5, 3, 6, 6, 2, 13, 5, 4, 8, 9, 6, 8, 8, 18, 9, 12, 12, 12, 5, 7, 2, 5, 5, 5, 8, 3, 7, 8, 5, 6, 6, 1, 4, 3, 2, 3, 6, 6, 3, 8, 8, 8, 8, 10, 10, 10, 2, 5, 12, 8, 8, 14, 14, 14, 4, 4, 8, 10, 5, 4, 5, 9, 3, 5, 5, 4, 5, 4, 3, 6, 4, 8, 8, 6, 6, 5, 5, 5, 6, 8, 9, 4, 7, 13, 5, 5, 2, 4, 7, 6, 14, 14, 14, 14, 6, 6, 7, 5, 6, 5, 4, 4, 6, 5, 6, 6, 6, 5, 5, 5, 4, 4, 4, 7, 7, 7, 7, 1, 3, 8, 8, 8, 8, 8, 6, 6, 6, 6, 3, 3, 3, 2, 2, 6, 3, 9, 7, 3, 4, 5, 5, 5, 2, 2, 3, 3, 2, 1, 3, 6, 5, 5, 12, 1, 5, 4, 4, 2, 4, 5, 5, 7, 7, 7, 6, 6, 4, 8, 3, 3, 1, 12, 3, 4, 4, 3, 6, 6, 7, 3, 3, 3, 4, 5, 5, 1, 6, 6, 12, 3, 6, 4, 7, 7, 7, 8, 1, 4, 4, 1, 8, 8, 2, 6, 7, 7, 7, 4, 4, 5, 6, 6, 9, 9, 9, 9, 9, 9, 9, 9, 9, 9, 6, 6, 8, 8, 8, 8, 6, 10, 5, 5, 5, 7, 7, 6, 1, 2, 9, 14, 14, 14, 14, 8, 6, 7, 4, 12, 9, 5, 5, 2, 4, 2, 6, 6, 10, 10, 5, 5, 6, 5, 5, 6, 6, 11, 10, 5, 7, 8, 8, 3, 3, 11, 6, 6, 1, 5, 1, 3, 3, 5, 7, 3, 3, 5, 10, 10, 7, 4, 4, 4, 8, 8, 7, 4, 8, 10, 7, 8, 11, 11, 5, 6, 11, 11, 4, 12, 5, 2, 4, 4, 3, 3, 2, 6, 9, 9, 9, 5, 5, 1, 12, 15, 7, 5, 11, 2, 1, 6, 1, 7, 5, 5, 4, 5, 3, 3, 2, 6, 4, 4, 4, 6, 6, 8, 8, 4, 4, 4, 5, 5, 5, 5, 5, 5, 3, 3, 3, 9, 9, 9, 9, 10, 10, 10, 3, 10, 10, 10, 10, 4, 4, 4, 3, 3, 7, 7, 7, 3, 6, 2, 3, 6, 3, 2, 2, 3, 3, 7, 7, 7, 1, 5, 7, 7, 5, 5, 5, 1, 6, 4, 6, 6, 4, 4, 5, 3, 3, 4, 3, 4, 5, 5, 5, 3, 2, 1, 1, 8, 4, 11, 7, 6, 7, 7, 3, 3, 2, 14, 2, 3, 2, 4, 6, 2, 3, 6, 6, 6, 6, 10, 11, 4, 2, 2, 2, 4, 4, 8, 8, 8, 8, 8, 2, 3, 2, 6, 7, 7, 2, 2, 1, 4, 5, 3, 1, 2, 1, 1, 1, 2, 4, 4, 1, 8, 2, 2, 1, 6, 8, 16, 6, 7, 6, 3, 9, 5, 5, 3, 4, 4, 4, 4, 5, 14, 7, 7, 7, 4, 7, 7, 14, 4, 6, 7, 8, 7, 2, 6, 6, 5, 5, 1, 1, 5, 5, 4, 2, 3, 1, 3, 2, 2, 5, 10, 1, 3, 6, 6, 1, 4, 3, 6, 6, 6, 6, 5, 2, 4, 4, 4, 1, 4, 4, 2, 3, 4, 2, 4, 4, 4, 4, 6, 6, 6, 2, 4, 4, 4, 6, 7, 4, 6, 6, 13, 13, 13, 13, 11, 5, 7, 5, 5, 4, 4, 3, 3, 7, 3, 3, 1, 5, 7, 3, 3, 5, 3, 5, 8, 8, 1, 1, 6, 1, 11, 11, 5, 4, 1, 1, 6, 4, 4, 8, 11, 11, 5, 15, 9, 13, 13, 14, 14, 14, 14, 14, 2, 3, 6, 6, 12, 10, 10, 8, 8, 6, 5, 8, 5, 5, 2, 3, 3, 2, 1, 20, 20, 8, 6, 8, 8, 4, 8, 9, 5, 3, 5, 5, 9, 9, 5, 1, 13, 8, 8, 5, 5, 5, 5, 5, 5, 5, 3, 7, 7, 14, 14, 8, 8, 1, 10, 10, 4, 5, 11, 5, 4, 2, 2, 3, 1, 4, 1, 10, 10, 6, 5, 9, 3, 7, 3, 6, 10, 10, 3, 1, 9, 16, 16, 2, 12, 2, 3, 3, 10, 6, 6, 4, 4, 4, 2, 2, 2, 3, 5, 3, 8, 5, 11, 4, 4, 5, 6, 6, 6, 6, 8, 8, 8, 4, 4, 2, 1, 6, 6, 4, 1, 7, 7, 7, 3, 3, 12, 10, 5, 5, 5, 5, 8, 8, 8, 3, 3, 6, 11, 4, 3, 3, 7, 7, 7, 10, 10, 10, 10, 7, 7, 5, 5, 2, 2, 1, 2, 2, 3, 4, 7, 7, 7, 5, 5, 5, 11, 11, 5, 3, 2, 2, 2, 2, 2, 6, 11, 13, 2, 7, 9, 2, 2, 3, 7, 5, 11, 7, 7, 3, 5, 5, 5, 2, 2, 2, 6, 3, 6, 11, 11, 11, 12, 12, 12, 12, 12, 12, 12, 12, 2, 1, 1, 5, 6, 5, 4, 9, 10, 10, 11, 11, 3, 7, 3, 3, 3, 3, 5, 7, 5, 3, 3, 3, 3, 9, 9, 9, 9, 9, 9, 5, 5, 5, 5, 6, 7, 5, 1, 5, 5, 6, 9, 10, 10, 6, 5, 18, 18, 18, 18, 18, 18, 7, 9, 8, 1, 11, 3, 4, 6, 4, 6, 6, 9, 9, 2, 9, 7, 7, 7, 3, 11, 4, 6, 3, 5, 9, 8, 3, 11, 10, 12, 9, 4, 3, 7, 6, 9, 3, 4, 8, 8, 5, 6, 6, 11, 7, 8, 3, 5, 5, 3, 4, 4, 5, 5, 6, 6, 6, 10, 6, 8, 6, 5, 2, 2, 5, 5, 4, 4, 4, 9, 9, 7, 7, 10, 7, 3, 3, 2, 8, 8, 8, 3, 3, 3, 1, 8, 9, 8, 3, 14, 3, 3, 1, 4, 4, 4, 4, 5, 5, 3, 3, 3, 3, 10, 10, 10, 8, 6, 4, 6, 4, 7, 11, 5, 6, 4, 1, 8, 4, 4, 7, 1, 7, 8, 4, 1, 6, 6, 6, 7, 7, 7, 7, 5, 7, 7, 7, 7, 6, 6, 7, 1, 8, 5, 6, 4, 6, 5, 5, 5, 9, 6, 3, 2, 10, 8, 2, 1, 9, 9, 5, 7, 7, 4, 7, 19, 5, 4, 5, 3, 6, 2, 3, 8, 8, 8, 8, 5, 5, 2, 9, 9, 5, 5, 5, 5, 4, 3, 8, 4, 6, 3, 10, 10, 6, 10, 14, 8, 3, 9, 9, 8, 9, 3, 3, 8, 8, 8, 8, 8, 8, 11, 8, 9, 3, 5, 10, 10, 6, 6, 4, 6, 6, 4, 4, 4, 5, 7, 4, 4, 3, 3, 4, 3, 3, 4, 4, 4, 4, 3, 1, 4, 11, 14, 14, 5, 10, 9, 3, 15, 12, 18, 5, 5, 5, 8, 5, 9, 8, 6, 9, 5, 7, 5, 7, 2, 7, 3, 9, 7, 9, 9, 12, 12, 12, 12, 12, 12, 12, 15, 6, 1, 8, 7, 9, 5, 9, 7, 3, 3, 11, 9, 8, 8, 8, 12, 9, 5, 3, 6, 8, 8, 8, 6, 6, 6, 6, 6, 6, 6, 5, 8, 8, 8, 3, 12, 4, 14, 5, 3, 4, 6, 10, 1, 4, 4, 3, 7, 13, 6, 3, 6, 3, 7, 1, 1, 3, 3, 5, 9, 5, 5, 3, 8, 15, 9, 1, 5, 5, 14, 14, 7, 7, 7, 7, 3, 3, 6, 6, 6, 6, 4, 10, 5, 9, 3, 2, 6, 6, 2, 3, 12, 4, 8, 10, 2, 2, 3, 4, 1, 4, 2, 3, 10, 3, 3, 3, 5, 4, 7, 7, 11, 11, 11, 11, 7, 8, 4, 5, 2, 11, 10, 7, 7, 6, 2, 7, 7, 6, 8, 8, 2, 2, 2, 2, 1, 4, 11, 5, 7, 7, 15, 2, 6, 10, 3, 5, 3, 5, 9, 9, 7, 10, 10, 10, 6, 10, 10, 10, 10, 9, 5, 5, 5, 6, 4, 5, 2, 6, 2, 5, 4, 4, 7, 7, 5, 6, 6, 8, 6, 6, 8, 5, 3, 3, 3, 7, 7, 7, 7, 2, 4, 4, 10, 8, 6, 6, 2, 11, 2, 6, 5, 18, 5, 5, 5, 7, 6, 2, 7, 9, 9, 9, 13, 13, 13, 13, 13, 8, 11, 11, 8, 8, 8, 7, 3, 4, 4, 6, 6, 6, 10, 11, 14, 14, 8, 8, 5, 5, 14, 14, 4, 4, 5, 5, 10, 12, 6, 5, 7, 5, 5, 12, 6, 3, 2, 1, 2, 3, 3, 3, 3, 1, 7, 3, 4, 5, 4, 7, 6, 6, 6, 4, 13, 13, 13, 13, 13, 13, 5, 1, 4, 3, 8, 8, 8, 8, 8, 8, 8, 4, 4, 4, 4, 4, 6, 6, 6, 3, 5, 5, 11, 11, 18, 8, 16, 8, 11, 4, 19, 8, 8, 5, 5, 5, 9, 5, 7, 7, 9, 4, 5, 5, 7, 7, 7, 5, 4, 4, 4, 3, 2, 8, 10, 6, 3, 9, 9, 10, 10, 10, 3, 3, 4, 5, 9, 11, 12, 13, 6, 7, 5, 9, 13, 5, 7, 1, 8, 8, 8, 8, 4, 4, 4, 4, 4, 3, 6, 7, 7, 8, 4, 4, 6, 2, 4, 3, 10, 3, 5, 3, 9, 6, 4, 8, 8, 3, 4, 4, 9, 5, 4, 6, 7, 7, 13, 8, 6, 9, 18, 5, 4, 11, 11, 11, 11, 7, 2, 10, 10, 8, 7, 7, 7, 8, 8, 10, 10, 10, 10, 12, 6, 9, 6, 6, 6, 5, 5, 3, 4, 4, 2, 8, 2, 7, 9, 16, 16, 16, 11, 11, 11, 11, 13, 3, 10, 6, 5, 6, 7, 4, 5, 5, 12, 6, 1, 3, 4, 5, 9, 9, 6, 6, 11, 7, 5, 7, 5, 6, 4, 4, 5, 5, 5, 7, 7, 9, 9, 5, 2, 5, 3, 9, 9, 9, 7, 18, 2, 10, 6, 6, 6, 6, 10, 4, 2, 10, 10, 8, 8, 8, 6, 8, 8, 2, 2, 5, 3, 3, 4, 6, 6, 5, 6, 5, 11, 9, 4, 4, 2, 9, 6, 6, 6, 6, 6, 2, 1, 3, 6, 6, 6, 6, 10, 4, 5, 5, 2, 3, 2, 4, 6, 5, 5, 8, 5, 13, 7, 15, 7, 4, 8, 9, 8, 3, 3, 7, 7, 10, 4, 5, 5, 8, 9, 17, 8, 12, 9, 6, 1, 2, 3, 4, 4, 8, 18, 4, 11, 8, 12, 4, 12, 6, 6, 6, 9, 9, 9, 9, 9, 7, 7, 7, 3, 3, 2, 7, 12, 3, 4, 4, 4, 5, 2, 2, 9, 7, 11, 10, 5, 3, 7, 7, 13, 13, 13, 8, 17, 7, 10, 6, 6, 10, 10, 6, 10, 13, 8, 8, 7, 11, 10, 3, 9, 4, 5, 5, 7, 11, 9, 12, 9, 8, 9, 10, 1, 4, 2, 3, 3, 4, 4, 4, 2, 5, 8, 8, 8, 8, 8, 8, 7, 7, 7, 7, 4, 4, 4, 4, 5, 5, 5, 13, 13, 5, 12, 2, 2, 7, 7, 5, 5, 5, 8, 4, 7, 5, 5, 2, 3, 3, 5, 4, 4, 8, 6, 8, 7, 1, 5, 5, 2, 4, 2, 2, 6, 7, 7, 7, 6, 6, 6, 6, 11, 11, 11, 6, 3, 6, 6, 9, 6, 6, 6, 6, 4, 4, 4, 3, 3, 4, 9, 8, 10, 5, 10, 11, 5, 8, 14, 5, 5, 6, 4, 5, 4, 7, 8, 6, 13, 5, 4, 10, 7, 6, 7, 9, 12, 4, 9, 5, 4, 6, 13, 3, 3, 3, 8, 8, 3, 11, 6, 7, 11, 5, 5, 5, 5, 5, 4, 4, 4, 4, 2, 3, 14, 7, 1, 10, 3, 5, 11, 5, 10, 5, 11, 10, 11, 12, 9, 11, 12, 6, 6, 3, 3, 7, 7, 7, 7, 7, 10, 2, 10, 7, 7, 7, 7, 8, 8, 4, 6, 4, 4, 9, 7, 3, 4, 9, 9, 8, 9, 4, 6, 5, 3, 3, 4, 4, 4, 4, 3, 8, 6, 6, 6, 3, 1, 3, 2, 9, 2, 14, 14, 14, 14, 14, 4, 6, 6, 5, 5, 8, 4, 2, 12, 12, 8, 8, 8, 6, 6, 6, 6, 6, 6, 6, 6, 10, 10, 7, 12, 4, 2, 3, 5, 12, 2, 7, 4, 11, 3, 5, 5, 9, 6, 6, 7, 6, 6, 6, 2, 2, 9, 6, 5, 5, 6, 6, 6, 5, 5, 8, 15, 9, 6, 6, 6, 7, 7, 7, 7, 6, 2, 2, 5, 7, 7, 7, 6, 6, 6, 6, 4, 4, 4, 5, 5, 5, 5, 5, 5, 3, 9, 3, 8, 8, 6, 9, 9, 9, 9, 11, 6, 6, 6, 7, 7, 9, 4, 7, 2, 6, 6, 4, 8, 8, 8, 8, 5, 5, 7, 7, 4, 5, 9, 9, 9, 6, 6, 7, 7, 7, 6, 7, 2, 10, 7, 4, 4, 3, 9, 6, 5, 3, 5, 6, 8, 8, 8, 1, 1, 9, 15, 12, 9, 7, 3, 5, 16, 1, 6, 6, 7, 7, 7, 4, 7, 7, 7, 3, 10, 6, 3, 8, 8, 8, 4, 7, 7, 7, 12, 2, 5, 15, 8, 13, 13, 14, 8, 11, 9, 15, 11, 5, 3, 7, 6, 6, 7, 9, 5, 16, 16, 4, 10, 12, 11, 3, 7, 8, 8, 1, 11, 2, 2, 3, 3, 6, 4, 9, 4, 8, 3, 1, 5, 5, 6, 3, 2, 7, 6, 8, 6, 11, 12, 8, 13, 5, 2, 2, 5, 11, 4, 3, 7, 4, 3, 10, 4, 7, 5, 9, 8, 3, 6, 5, 4, 7, 7, 11, 10, 7, 3, 4, 6, 6, 6, 5, 5, 4, 8, 8, 11, 5, 5, 5, 8, 2, 3, 6, 6, 11, 7, 6, 7, 3, 6, 10, 15, 4, 6, 12, 7, 1, 8, 22, 5, 14, 5, 4, 7, 3, 6, 5, 6, 11, 11, 6, 5, 9, 6, 4, 4, 11, 5, 3, 6, 4, 4, 8, 8, 3, 2, 2, 5, 2, 12, 6, 6, 3, 7, 3, 6, 7, 7, 6, 6, 1, 2, 3, 3, 3, 3, 7, 7, 7, 2, 3, 5, 3, 7, 7, 7, 6, 9, 3, 3, 7, 7, 3, 3, 7, 7, 7, 7, 10, 6, 5, 6, 2, 4, 6, 9, 7, 8, 13, 7, 7, 9, 5, 7, 7, 10, 10, 10, 10, 10, 10, 5, 5, 11, 11, 11, 11, 11, 11, 4, 9, 9, 9, 3, 9, 9, 9, 9, 4, 6, 3, 7, 5, 4, 9, 7, 9, 9, 9, 6, 7, 7, 7, 3, 3, 8, 8, 8, 8, 5, 5, 13, 13, 10, 6, 10, 10, 10, 4, 15, 10, 9, 6, 4, 6, 4, 10, 3, 4, 2, 8, 15, 15, 15, 15, 15, 15, 8, 8, 8, 8, 8, 8, 2, 5, 10, 3, 11, 1, 7, 7, 7, 7, 7, 7, 4, 4, 2, 5, 5, 4, 8, 8, 6, 6, 3, 3, 8, 8, 10, 7, 5, 5, 6, 7, 6, 5, 2, 5, 5, 7, 6, 6, 1, 3, 3, 7, 7, 7, 7, 4, 9, 8, 8, 8, 4, 6, 6, 5, 7, 7, 6, 4, 4, 5, 5, 11, 5, 4, 4, 10, 5, 5, 11, 6, 3, 3, 5, 1, 5, 5, 10, 5, 10, 4, 4, 4, 7, 6, 6, 4, 11, 7, 15, 7, 14, 8, 7, 5, 1, 12, 7, 5, 9, 5, 11, 9, 9, 6, 7, 4, 4, 8, 8, 1, 5, 8, 6, 5, 9, 6, 4, 4, 11, 7, 6, 6, 6, 6, 5, 6, 9, 18, 6, 1, 1, 6, 8, 8, 8, 8, 8, 8, 8, 7, 5, 8, 8, 8, 8, 7, 9, 10, 12, 3, 4, 7, 5, 3, 4, 6, 5, 4, 5, 3, 5, 7, 12, 5, 10, 6, 4, 6, 6, 7, 9, 11, 5, 8, 12, 12, 12, 12, 4, 4, 4, 6, 5, 8, 8, 5, 3, 5, 5, 5, 5, 5, 5, 10, 2, 2, 2, 2, 2, 5, 5, 11, 4, 5, 5, 14, 4, 4, 6, 3, 3, 2, 4, 4, 2, 2, 2, 8, 6, 6, 5, 5, 5, 5, 7, 7, 4, 6, 7, 5, 5, 6, 5, 5, 6, 6, 2, 3, 3, 5, 7, 7, 3, 3, 5, 5, 5, 5, 6, 5, 8, 8, 6, 4, 4, 10, 4, 6, 6, 3, 3, 6, 10, 9, 9, 9, 9, 9, 9, 9, 8, 5, 1, 9, 9, 9, 9, 5, 3, 3, 3, 10, 7, 12, 10, 10, 10, 10, 10, 13, 13, 4, 8, 6, 7, 11, 8, 3, 1, 4, 5, 4, 4, 6, 8, 8, 8, 8, 7, 4, 2, 4, 7, 7, 7, 13, 13, 13, 13, 13, 8, 8, 3, 6, 4, 4, 4, 5, 3, 8, 3, 3, 5, 7, 5, 9, 4, 11, 5, 3, 6, 6, 7, 7, 7, 2, 7, 7, 7, 8, 10, 10, 10, 5, 8, 2, 7, 7, 7, 7, 11, 7, 6, 9, 3, 11, 11, 11, 4, 8, 8, 8, 4, 9, 7, 8, 3, 3, 7, 1, 4, 2, 4, 5, 2, 6, 3, 4, 7, 3, 5, 3, 7, 7, 7, 7, 6, 6, 6, 7, 7, 5, 10, 10, 8, 3, 5, 5, 4, 4, 2, 1, 8, 3, 2, 2, 1, 7, 5, 10, 3, 2, 5, 5, 9, 9, 9, 5, 4, 4, 5, 6, 9, 9, 9, 9, 9, 3, 9, 12, 6, 5, 3, 7, 6, 6, 2, 3, 5, 5, 3, 10, 10, 10, 10, 10, 10, 10, 4, 11, 9, 5, 8, 2, 5, 2, 3, 5, 4, 7, 7, 7, 7, 6, 6, 7, 5, 5, 8, 3, 3, 5, 3, 1, 2, 3, 9, 4, 15, 6, 6, 7, 7, 7, 6, 3, 13, 2, 7, 4, 6, 9, 7, 7, 7, 7, 7, 10, 9, 7, 9, 4, 6, 7, 4, 3, 12, 5, 6, 9, 9, 5, 4, 11, 6, 6, 6, 6, 7, 7, 6, 4, 8, 6, 5, 9, 3, 6, 4, 4, 7, 4, 4, 4, 3, 4, 7, 7, 5, 5, 10, 10, 4, 4, 1, 6, 6, 8, 13, 13, 9, 9, 5, 10, 12, 5, 9, 4, 6, 8, 8, 5, 5, 5, 5, 6, 7, 7, 7, 7, 7, 4, 4, 3, 13, 2, 10, 10, 10, 10, 10, 10, 5, 3, 10, 10, 3, 2, 2, 7, 7, 7, 4, 5, 5, 3, 5, 5, 5, 5, 5, 6, 11, 5, 3, 3, 3, 7, 4, 5, 5, 5, 5, 5, 5, 5, 5, 5, 10, 10, 10, 5, 2, 8, 4, 11, 4, 3, 2, 9, 9, 9, 2, 3, 5, 5, 5, 5, 3, 3, 6, 5, 11, 1, 4, 6, 5, 5, 4, 13, 13, 13, 3, 7, 6, 3, 4, 8, 20, 20, 4, 4, 4, 13, 4, 2, 8, 11, 3, 7, 7, 7, 11, 10, 7, 7, 7, 5, 8, 5, 3, 7, 5, 6, 2, 6, 8, 12, 2, 8, 11, 7, 7, 8, 6, 3, 3, 4, 2, 6, 6, 6, 2, 3, 3, 2, 4, 4, 4, 3, 4, 8, 2, 4, 4, 9, 9, 1, 5, 5, 3, 4, 9, 6, 5, 2, 11, 5, 7, 2, 6, 7, 6, 5, 5, 5, 10, 1, 7, 8, 10, 10, 2, 3, 8, 7, 7, 9, 9, 9, 8, 5, 8, 8, 4, 4, 8, 11, 8, 10, 5, 4, 7, 5, 9, 5, 10, 8, 7, 3, 2, 1, 2, 4, 4, 2, 2, 4, 4, 4, 11, 5, 6, 4, 5, 14, 14, 14, 14, 1, 2, 2, 5, 5, 3, 6, 6, 5, 2, 3, 2, 2, 6, 6, 6, 4, 7, 7, 3, 7, 7, 7, 7, 7, 7, 4, 7, 2, 3, 4, 2, 2, 2, 6, 6, 13, 5, 8, 3, 3, 9, 3, 4, 4, 12, 12, 8, 7, 3, 2, 15, 15, 15, 15, 4, 2, 5, 8, 3, 5, 10, 4, 5, 5, 7, 4, 4, 7, 6, 6, 7, 5, 6, 5, 1, 2, 5, 6, 6, 6, 6, 5, 5, 5, 5, 8, 9, 5, 2, 10, 8, 8, 11, 7, 5, 7, 5, 7, 5, 8, 8, 6, 8, 7, 10, 5, 8, 8, 8, 6, 9, 9, 11, 11, 11, 4, 10, 7, 6, 3, 3, 12, 7, 10, 10, 10, 5, 7, 5, 6, 8, 3, 9, 6, 8, 7, 5, 3, 5, 4, 5, 4, 13, 13, 13, 8, 8, 5, 10, 11, 13, 6, 10, 10, 3, 5, 4, 4, 5, 12, 7, 9, 8, 9, 3, 3, 6, 6, 7, 7, 7, 7, 7, 4, 4, 5, 5, 2, 5, 3, 3, 10, 10, 10, 7, 8, 3, 4, 2, 1, 4, 5, 6, 6, 8, 8, 8, 3, 4, 4, 2, 8, 8, 1, 7, 7, 7, 3, 8, 6, 2, 5, 5, 3, 2, 14, 14, 14, 10, 10, 10, 8, 8, 7, 6, 2, 2, 9, 2, 2, 3, 3, 3, 7, 7, 2, 6, 6, 5, 11, 9, 4, 7, 3, 4, 4, 3, 4, 4, 4, 3, 3, 2, 2, 5, 4, 6, 6, 10, 10, 4, 2, 8, 8, 3, 3, 3, 3, 4, 5, 7, 5, 4, 7, 6, 3, 4, 4, 4, 4, 4, 8, 5, 2, 6, 6, 3, 5, 5, 3, 2, 2, 6, 6, 6, 5, 8, 5, 4, 7, 15, 9, 5, 5, 5, 5, 3, 9, 9, 10, 5, 3, 3, 3, 2, 3, 2, 3, 5, 5, 13, 3, 2, 7, 12, 12, 12, 5, 8, 8, 9, 4, 4, 4, 4, 7, 4, 7, 9, 7, 4, 5, 13, 4, 3, 3, 18, 13, 10, 8, 10, 1, 4, 7, 7, 9, 10, 11, 3, 7, 17, 7, 5, 13, 9, 11, 9, 4, 10, 5, 3, 9, 11, 3, 9, 7, 5, 5, 5, 7, 7, 7, 2, 9, 8, 8, 6, 6, 3, 5, 6, 6, 3, 8, 8, 8, 5, 5, 5, 5, 5, 11, 5, 7, 7, 9, 8, 8, 8, 8, 8, 8, 3, 7, 7, 7, 7, 4, 4, 5, 7, 7, 11, 11, 8, 8, 11, 5, 6, 4, 9, 5, 9, 13, 4, 9, 7, 5, 7, 7, 7, 3, 4, 1, 2, 3, 6, 6, 5, 6, 6, 6, 6, 8, 8, 5, 5, 3, 3, 3, 3, 3, 7, 7, 1, 7, 7, 6, 5, 8, 6, 19, 6, 12, 16, 6, 13, 11, 10, 12, 6, 9, 6, 9, 7, 15, 11, 9, 10, 8, 15, 8, 20, 14, 11, 11, 8, 8, 7, 2, 9, 9, 15, 7, 13, 5, 8, 6, 10, 7, 7, 8, 6, 15, 9, 8, 7, 7, 22, 2, 6, 5, 5, 5, 5, 3, 9, 9, 6, 6, 4, 10, 10, 10, 10, 10, 10, 4, 4, 8, 8, 8, 3, 4, 4, 6, 12, 8, 11, 7, 7, 8, 10, 2, 5, 3, 15, 6, 9, 6, 4, 7, 2, 2, 5, 5, 5, 6, 15, 3, 3, 3, 3, 3, 3, 3, 3, 3, 1, 1, 2, 4, 4, 6, 6, 13, 9, 4, 11, 6, 10, 3, 6, 6, 2, 9, 9, 9, 3, 3, 11, 7, 3, 6, 4, 6, 6, 6, 6, 6, 6, 3, 6, 4, 4, 5, 8, 4, 6, 8, 7, 4, 6, 8, 13, 5, 11, 4, 8, 2, 6, 8, 5, 3, 5, 2, 2, 2, 5, 8, 7, 7, 5, 4, 5, 4, 8, 8, 8, 8, 8, 4, 4, 3, 3, 9, 9, 6, 6, 5, 6, 11, 7, 7, 1, 9, 6, 11, 7, 18, 18, 4, 6, 4, 12, 12, 12, 5, 5, 4, 6, 4, 2, 4, 4, 4, 7, 11, 11, 5, 5, 3, 3, 3, 6, 6, 8, 8, 8, 12, 4, 8, 8, 8, 8, 3, 3, 4, 12, 4, 4, 7, 11, 5, 5, 13, 17, 9, 8, 4, 8, 5, 7, 7, 7, 7, 7, 5, 5, 5, 11, 8, 7, 5, 5, 5, 9, 6, 6, 6, 10, 4, 3, 8, 6, 4, 1, 4, 1, 7, 7, 7, 7, 10, 8, 6, 10, 11, 6, 10, 13, 5, 7, 9, 9, 9, 9, 4, 4, 4, 4, 8, 8, 2, 2, 7, 7, 9, 3, 3, 2, 5, 5, 8, 7, 15, 7, 11, 11, 6, 5, 2, 2, 3, 9, 9, 9, 9, 9, 9, 9, 9, 5, 3, 3, 5, 5, 10, 12, 12, 4, 8, 7, 16, 5, 14, 5, 10, 4, 7, 7, 5, 5, 4, 6, 7, 7, 4, 2, 3, 4, 2, 2, 1, 4, 4, 3, 2, 3, 7, 7, 7, 7, 8, 8, 8, 5, 5, 5, 7, 7, 7, 8, 8, 6, 8, 8, 8, 8, 8, 7, 6, 8, 8, 8, 8, 8, 7, 7, 14, 6, 1, 8, 6, 3, 11, 10, 7, 8, 8, 8, 8, 9, 9, 9, 9, 9, 5, 5, 11, 11, 11, 6, 6, 3, 3, 3, 5, 5, 5, 5, 5, 3, 5, 5, 6, 6, 4, 2, 3, 4, 4, 4, 1, 7, 5, 3, 5, 6, 7, 5, 2, 9, 3, 3, 5, 5, 5, 7, 7, 9, 11, 11, 11, 6, 6, 6, 6, 7, 4, 5, 8, 8, 8, 10, 9, 9, 6, 6, 6, 4, 4, 10, 10, 10, 10, 10, 10, 4, 4, 4, 2, 5, 5, 5, 7, 6, 4, 12, 12, 14, 9, 9, 12, 8, 5, 8, 7, 7, 3, 3, 4, 4, 5, 5, 9, 9, 6, 5, 5, 5, 2, 2, 10, 7, 7, 4, 4, 4, 6, 6, 6, 6, 3, 3, 3, 5, 5, 5, 5, 6, 4, 11, 6, 8, 8, 5, 3, 7, 12, 9, 7, 6, 10, 2, 7, 7, 7, 5, 6, 6, 12, 12, 12, 12, 15, 15, 9, 13, 7, 7, 11, 10, 6, 14, 5, 5, 9, 9, 9, 9, 8, 5, 5, 4, 4, 4, 6, 6, 7, 7, 12, 8, 7, 9, 6, 4, 11, 9, 9, 7, 7, 4, 4, 12, 12, 12, 7, 7, 21, 7, 8, 9, 14, 10, 10, 5, 8, 4, 7, 4, 5, 3, 3, 6, 6, 11, 22, 14, 17, 10, 9, 10, 7, 8, 7, 4, 4, 4, 3, 3, 3, 4, 4, 1, 2, 5, 4, 2, 9, 12, 9, 7, 7, 4, 15, 10, 12, 2, 2, 1, 9, 9, 9, 9, 9, 5, 5, 5, 4, 4, 4, 9, 9, 9, 9, 10, 10, 10, 10, 10, 10, 5, 5, 13, 4, 10, 4, 4, 4, 7, 11, 9, 9, 13, 7, 7, 2, 4, 7, 6, 8, 9, 11, 6, 6, 9, 4, 2, 3, 4, 4, 4, 4, 5, 5, 5, 11, 11, 9, 7, 10, 10, 4, 6, 7, 7, 10, 4, 4, 4, 4, 5, 5, 5, 5, 5, 4, 5, 9, 9, 9, 18, 10, 14, 6, 7, 9, 8, 12, 12, 12, 6, 12, 3, 8, 7, 11, 8, 5, 7, 9, 10, 9, 9, 5, 1, 5, 11, 9, 9, 7, 4, 4, 2, 10, 13, 17, 3, 3, 3, 10, 7, 2, 13, 5, 9, 6, 6, 6, 7, 7, 7, 5, 5, 3, 3, 5, 5, 5, 5, 13, 8, 6, 6, 6, 7, 7, 4, 4, 3, 3, 3, 3, 7, 7, 2, 2, 4, 2, 6, 8, 7, 6, 5, 5, 2, 11, 12, 13, 8, 3, 11, 6, 11, 14, 4, 4, 4, 6, 6, 8, 7, 7, 8, 8, 8, 10, 13, 3, 5, 8, 8, 8, 8, 9, 9, 9, 9, 7, 7, 10, 10, 10, 5, 5, 12, 15, 15, 8, 8, 4, 4, 4, 5, 5, 5, 7, 10, 10, 9, 7, 15, 8, 11, 11, 5, 5, 5, 5, 5, 12, 8, 9, 4, 4, 4, 5, 5, 3, 4, 4, 5, 3, 3, 3, 12, 9, 4, 14, 14, 11, 11, 4, 8, 12, 6, 6, 2, 7, 9, 13, 12, 4, 3, 7, 1, 11, 20, 13, 6, 10, 2, 6, 10, 10, 11, 11, 9, 9, 8, 7, 11, 15, 4, 4, 7, 8, 11, 7, 8, 4, 3, 13, 16, 5, 5, 5, 5, 6, 12, 12, 10, 10, 10, 8, 8, 8, 5, 5, 13, 5, 2, 1, 3, 2, 2, 2, 2, 2, 1, 3, 7, 7, 12, 12, 3, 7, 7, 2, 4, 4, 3, 7, 7, 7, 6, 5, 5, 5, 2, 10, 7, 6, 7, 7, 8, 10, 3, 8, 6, 2, 2, 4, 4, 4, 5, 5, 5, 7, 7, 7, 12, 12, 3, 3, 5, 5, 5, 5, 6, 6, 2, 7, 7, 10, 10, 10, 10, 10, 7, 7, 7, 7, 10, 10, 7, 11, 22, 2, 5, 5, 4, 5, 5, 5, 14, 6, 5, 6, 7, 3, 6, 6, 7, 5, 7, 7, 7, 5, 11, 5, 4, 5, 7, 5, 10, 8, 7, 8, 10, 10, 9, 9, 9, 5, 7, 8, 11, 11, 11, 7, 7, 7, 5, 3, 2, 6, 6, 17, 17, 7, 9, 14, 3, 10, 5, 5, 2, 5, 5, 5, 8, 8, 4, 4, 4, 5, 5, 2, 6, 6, 6, 14, 14, 14, 6, 6, 9, 4, 4, 9, 9, 9, 3, 3, 3, 3, 4, 4, 11, 11, 5, 4, 8, 6, 3, 2, 4, 4, 5, 7, 7, 10, 7, 11, 18, 13, 9, 15, 10, 10, 8, 8, 8, 8, 15, 15, 5, 11, 8, 9, 9, 9, 9, 8, 1, 4, 4, 6, 8, 10, 12, 8, 3, 3, 3, 9, 8, 5, 7, 10, 15, 15, 11, 5, 9, 8, 5, 4, 4, 7, 7, 4, 4, 4, 5, 3, 5, 4, 4, 7, 10, 4, 9, 10, 7, 8, 2, 8, 6, 5, 10, 10, 1, 9, 8, 8, 5, 8, 6, 8, 6, 4, 12, 7, 6, 11, 11, 5, 8, 15, 10, 10, 10, 12, 5, 12, 6, 11, 7, 8, 12, 12, 15, 8, 7, 12, 13, 3, 3, 9, 9, 9, 5, 4, 4, 4, 8, 9, 5, 8, 10, 13, 10, 8, 8, 5, 5, 7, 7, 9, 3, 3, 5, 5, 5, 5, 10, 12, 7, 12, 11, 6, 6, 4, 7, 6, 6, 6, 6, 4, 2, 11, 11, 7, 7, 8, 10, 5, 11, 7, 6, 7, 13, 13, 13, 10, 1, 3, 2, 3, 3, 6, 2, 4, 2, 4, 1, 1, 10, 1, 3, 12, 12, 12, 12, 12, 4, 10, 6, 8, 10, 11, 7, 4, 4, 8, 10, 5, 8, 6, 3, 4, 6, 6, 6, 8, 4, 5, 5, 5, 5, 5, 6, 3, 3, 3, 3, 3, 10, 11, 8, 14, 5, 7, 7, 7, 1, 11, 3, 6, 8, 7, 4, 4, 4, 6, 6, 5, 5, 11, 6, 12, 12, 12, 10, 5, 6, 6, 4, 10, 10, 6, 6, 2, 2, 3, 3, 5, 5, 4, 5, 5, 5, 4, 6, 6, 4, 4, 0, 6, 5, 5, 3, 3, 6, 4, 8, 9, 11, 11, 4, 3, 3, 7, 7, 3, 3, 5, 5, 2, 2, 3, 2, 3, 5, 3, 3, 10, 5, 8, 5, 9, 9, 12, 2, 8, 8, 2, 2, 5, 8, 8, 8, 8, 8, 8, 7, 8, 7, 11, 11, 11, 8, 8, 8, 11, 5, 2, 2, 6, 5, 4, 9, 8, 6, 6, 6, 6, 3, 5, 5, 5, 9, 3, 4, 4, 4, 4, 4, 3, 3, 5, 5, 5, 3, 3, 8, 5, 8, 7, 5, 13, 13, 8, 7, 9, 9, 7, 11, 3, 6, 7, 7, 5, 5, 4, 6, 3, 3, 5, 3, 7, 7, 4, 3, 6, 3, 5, 5, 7, 8, 7, 4, 3, 6, 6, 6, 7, 8, 8, 5, 8, 5, 5, 5, 1, 4, 4, 2, 6, 6, 9, 9, 3, 7, 7, 7, 8, 4, 4, 4, 5, 8, 3, 5, 4, 9, 10, 7, 6, 11, 7, 4, 8, 8, 7, 10, 10, 10, 4, 2, 11, 7, 6, 11, 11, 2, 5, 7, 4, 9, 9, 4, 4, 11, 2, 4, 7, 7, 2, 7, 4, 4, 5, 5, 5, 5, 3, 2, 5, 5, 5, 2, 2, 10, 10, 11, 4, 7, 8, 6, 6, 4, 3, 2, 6, 6, 6, 9, 9, 9, 6, 6, 10, 7, 6, 5, 15, 6, 4, 4, 3, 3, 9, 5, 4, 5, 6, 2, 2, 4, 4, 5, 5, 5, 4, 4, 5, 5, 5, 1, 5, 5, 4, 4, 3, 3, 2, 3, 4, 5, 7, 14, 3, 6, 10, 6, 6, 3, 3, 12, 12, 8, 10, 10, 4, 2, 4, 3, 4, 4, 4, 5, 5, 2, 4, 4, 3, 3, 3, 3, 8, 12, 4, 11, 5, 6, 10, 10, 5, 5, 4, 4, 2, 6, 6, 4, 11, 11, 7, 1, 4, 4, 4, 4, 4, 5, 6, 6, 5, 5, 3, 3, 4, 7, 6, 6, 8, 8, 4, 13, 5, 7, 7, 7, 7, 7, 7, 7, 7, 7, 7, 9, 9, 9, 9, 9, 9, 8, 8, 8, 7, 2, 6, 6, 10, 10, 4, 7, 10, 3, 4, 11, 11, 5, 6, 6, 6, 11, 6, 3, 5, 10, 7, 5, 5, 14, 3, 6, 6, 2, 4, 5, 6, 6, 5, 3, 13, 13, 1, 6, 5, 2, 4, 8, 10, 12, 5, 6, 1, 8, 8, 2, 5, 8, 6, 6, 12, 1, 2, 7, 7, 3, 5, 5, 7, 8, 5, 5, 6, 16, 9, 7, 7, 7, 6, 6, 6, 3, 2, 2, 3, 3, 5, 6, 8, 8, 8, 8, 4, 9, 9, 9, 9, 7, 7, 8, 8, 10, 4, 1, 8, 8, 12, 13, 13, 4, 5, 9, 9, 6, 6, 11, 11, 6, 6, 5, 6, 7, 9, 9, 9, 12, 9, 8, 4, 7, 11, 11, 6, 6, 6, 6, 6, 6, 5, 5, 12, 9, 5, 6, 10, 8, 10, 10, 10, 10, 10, 10, 4, 7, 7, 1, 4, 3, 3, 5, 6, 6, 7, 7, 7, 7, 5, 4, 8, 8, 11, 11, 5, 5, 8, 5, 4, 4, 4, 9, 9, 9, 2, 3, 4, 3, 3, 3, 3, 3, 3, 5, 5, 4, 4, 5, 5, 1, 5, 5, 5, 8, 4, 3, 6, 8, 8, 2, 10, 4, 8, 8, 8, 3, 13, 13, 13, 3, 11, 9, 12, 11, 9, 9, 9, 9, 5, 5, 7, 3, 5, 4, 7, 3, 4, 7, 3, 7, 9, 9, 9, 10, 2, 17, 17, 7, 9, 9, 9, 10, 2, 11, 11, 4, 2, 3, 1, 2, 2, 3, 2, 2, 3, 3, 2, 1, 4, 7, 7, 6, 13, 11, 6, 8, 10, 4, 4, 6, 6, 6, 5, 9, 10, 2, 7, 7, 2, 6, 6, 6, 6, 6, 6, 6, 10, 10, 11, 11, 9, 5, 5, 7, 12, 6, 3, 1, 3, 9, 8, 7, 4, 4, 7, 10, 11, 7, 5, 5, 4, 6, 5, 5, 3, 3, 1, 5, 13, 7, 10, 3, 4, 4, 4, 3, 2, 4, 7, 3, 1, 2, 5, 7, 6, 10, 10, 6, 6, 6, 3, 9, 9, 3, 6, 12, 13, 5, 4, 8, 8, 3, 7, 5, 5, 5, 4, 9, 3, 4, 8, 8, 8, 13, 4, 5, 15, 15, 5, 4, 10, 4, 1, 4, 4, 4, 2, 11, 11, 11, 5, 6, 6, 1, 5, 7, 7, 6, 6, 1, 17, 17, 9, 8, 6, 10, 16, 18, 8, 9, 7, 11, 3, 8, 4, 3, 3, 3, 9, 7, 8, 8, 13, 13, 10, 4, 8, 7, 8, 8, 1, 4, 7, 4, 3, 6, 10, 3, 7, 5, 5, 12, 3, 5, 5, 5, 5, 5, 5, 2, 8, 7, 6, 4, 6, 6, 5, 6, 10, 2, 3, 5, 7, 11, 14, 6, 4, 4, 4, 4, 3, 7, 12, 3, 3, 2, 9, 9, 6, 5, 4, 10, 5, 11, 11, 5, 5, 4, 4, 2, 5, 4, 4, 4, 6, 3, 5, 5, 9, 6, 6, 6, 2, 13, 4, 4, 4, 4, 4, 4, 4, 5, 9, 9, 5, 5, 9, 8, 7, 5, 6, 4, 8, 8, 3, 3, 6, 6, 6, 2, 2, 4, 4, 2, 6, 3, 6, 8, 6, 10, 5, 13, 19, 19, 11, 4, 8, 13, 13, 8, 4, 4, 6, 3, 8, 7, 6, 8, 7, 8, 4, 5, 10, 3, 6, 6, 6, 6, 12, 12, 12, 16, 11, 11, 4, 5, 8, 6, 8, 6, 7, 8, 5, 8, 8, 4, 5, 7, 13, 13, 11, 5, 9, 9, 4, 2, 3, 3, 6, 6, 5, 10, 14, 14, 4, 4, 4, 9, 9, 9, 2, 2, 6, 5, 8, 9, 6, 6, 6, 6, 6, 10, 10, 10, 10, 10, 10, 2, 4, 12, 7, 15, 4, 8, 15, 15, 15, 16, 16, 16, 5, 2, 2, 4, 4, 8, 8, 4, 3, 4, 4, 3, 3, 8, 8, 5, 5, 5, 5, 6, 4, 7, 7, 4, 11, 7, 6, 3, 5, 7, 7, 2, 7, 7, 5, 5, 5, 9, 9, 9, 9, 11, 11, 11, 11, 13, 7, 4, 3, 13, 13, 3, 3, 1, 2, 6, 8, 5, 4, 4, 5, 5, 7, 5, 15, 15, 15, 9, 4, 7, 8, 9, 6, 2, 8, 3, 11, 9, 6, 5, 5, 4, 9, 10, 4, 6, 7, 7, 7, 3, 7, 6, 6, 5, 5, 5, 5, 4, 4, 4, 4, 4, 1, 3, 3, 6, 11, 8, 3, 1, 4, 4, 6, 6, 6, 9, 4, 5, 5, 8, 4, 8, 3, 4, 4, 7, 3, 8, 8, 8, 5, 5, 3, 6, 2, 2, 4, 4, 2, 2, 2, 7, 7, 4, 4, 3, 3, 9, 13, 11, 11, 3, 12, 12, 5, 7, 7, 10, 4, 4, 9, 9, 9, 9, 6, 6, 6, 9, 11, 11, 5, 5, 11, 5, 10, 4, 2, 2, 14, 6, 8, 8, 8, 8, 8, 9, 9, 9, 9, 8, 7, 3, 5, 2, 6, 6, 6, 6, 3, 4, 7, 7, 7, 4, 4, 4, 7, 7, 4, 4, 5, 5, 12, 8, 8, 2, 2, 2, 2, 5, 5, 11, 11, 7, 7, 7, 7, 7, 5, 5, 5, 5, 5, 3, 3, 7, 7, 7, 9, 9, 9, 9, 3, 11, 12, 4, 5, 8, 8, 7, 4, 9, 2, 4, 4, 13, 7, 10, 11, 2, 1, 2, 2, 2, 2, 0, 10, 10, 10, 10, 4, 4, 4, 4, 2, 5, 4, 2, 4, 4, 3, 3, 2, 4, 4, 3, 3, 4, 3, 4, 2, 7, 7, 7, 7, 2, 5, 5, 8, 5, 5, 4, 4, 6, 8, 8, 6, 6, 6, 4, 3, 6, 7, 6, 6, 2, 12, 12, 11, 11, 5, 5, 7, 7, 9, 9, 9, 9, 9, 7, 7, 7, 4, 8, 4, 12, 21, 9, 11, 11, 11, 3, 3, 3, 3, 3, 3, 5, 5, 5, 1, 3, 5, 3, 6, 6, 6, 6, 5, 9, 9, 9, 1, 4, 9, 13, 9, 4, 5, 2, 7, 7, 13, 13, 13, 13, 13, 13, 10, 10, 10, 4, 3, 3, 4, 4, 1, 2, 12, 2, 8, 6, 6, 9, 9, 9, 8, 8, 8, 8, 8, 4, 7, 7, 7, 5, 5, 5, 4, 6, 6, 5, 5, 5, 9, 9, 8, 8, 7, 9, 6, 2, 5, 9, 8, 5, 12, 11, 11, 9, 3, 3, 3, 3, 9, 9, 9, 9, 10, 10, 10, 10, 10, 6, 5, 5, 5, 6, 6, 6, 3, 11, 11, 11, 11, 11, 6, 6, 6, 4, 7, 7, 5, 5, 14, 14, 6, 6, 2, 14, 15, 14, 14, 5, 10, 9, 10, 10, 11, 3, 6, 13, 15, 8, 8, 12, 4, 8, 9, 9, 6, 6, 6, 6, 4, 4, 4, 6, 9, 6, 8, 9, 3, 3, 1, 3, 3, 8, 2, 7, 11, 8, 4, 8, 9, 3, 3, 9, 3, 2, 3, 3, 3, 1, 1, 11, 10, 9, 9, 9, 9, 9, 9, 3, 8, 3, 3, 12, 6, 3, 10, 10, 10, 10, 8, 8, 5, 5, 7, 7, 7, 12, 7, 12, 9, 1, 5, 5, 5, 5, 5, 9, 9, 12, 3, 3, 4, 1, 4, 14, 6, 6, 6, 14, 9, 7, 11, 16, 8, 8, 9, 16, 5, 7, 5, 4, 4, 4, 2, 9, 4, 10, 5, 5, 12, 12, 12, 12, 12, 12, 6, 6, 6, 6, 6, 6, 5, 5, 4, 5, 1, 5, 5, 5, 5, 3, 6, 6, 9, 9, 13, 13, 5, 7, 11, 18, 18, 18, 18, 11, 11, 9, 5, 10, 14, 14, 14, 14, 15, 4, 4, 3, 3, 3, 15, 9, 9, 9, 2, 6, 2, 3, 3, 3, 4, 4, 4, 5, 6, 4, 3, 6, 6, 2, 2, 20, 20, 20, 20, 20, 10, 13, 13, 13, 14, 14, 13, 9, 10, 10, 10, 7, 6, 6, 6, 2, 7, 7, 7, 8, 8, 5, 4, 9, 8, 1, 9, 4, 5, 5, 6, 6, 6, 7, 6, 2, 2, 1, 8, 13, 3, 11, 11, 11, 11, 7, 7, 7, 1, 7, 6, 6, 3, 3, 4, 4, 4, 6, 10, 6, 8, 8, 8, 5, 8, 10, 9, 2, 11, 2, 5, 6, 6, 6, 22, 4, 7, 7, 7, 4, 6, 6, 6, 5, 5, 5, 2, 7, 9, 5, 7, 7, 7, 7, 7, 6, 2, 2, 1, 8, 8, 3, 4, 2, 8, 8, 9, 3, 7, 8, 7, 7, 10, 11, 5, 12, 12, 10, 15, 1, 6, 3, 3, 2, 2, 8, 14, 14, 4, 5, 3, 2, 3, 9, 15, 8, 7, 8, 6, 2, 2, 5, 5, 6, 6, 4, 4, 4, 6, 4, 4, 3, 4, 7, 7, 7, 7, 7, 7, 3, 3, 4, 4, 4, 4, 4, 3, 3, 4, 9, 7, 7, 6, 2, 2, 3, 6, 14, 14, 14, 14, 14, 10, 9, 7, 7, 9, 11, 4, 9, 3, 2, 4, 4, 4, 6, 6, 2, 4, 4, 8, 8, 7, 2, 2, 4, 2, 13, 13, 4, 2, 4, 15, 4, 7, 6, 7, 4, 4, 4, 8, 8, 8, 8, 8, 8, 7, 3, 3, 4, 4, 4, 12, 7, 7, 6, 6, 4, 4, 12, 2, 4, 11, 11, 7, 7, 7, 7, 6, 6, 6, 6, 5, 7, 3, 7, 7, 11, 4, 10, 7, 11, 6, 6, 6, 11, 5, 4, 4, 6, 9, 5, 10, 7, 5, 5, 5, 5, 5, 5, 5, 5, 5, 4, 8, 8, 8, 10, 10, 11, 11, 11, 7, 7, 7, 6, 9, 7, 7, 7, 8, 8, 8, 11, 11, 11, 11, 11, 11, 4, 4, 8, 10, 9, 11, 10, 8, 3, 3, 3, 8, 4, 3, 3, 3, 9, 9, 2, 5, 5, 5, 5, 5, 7, 6, 4, 16, 16, 16, 16, 16, 16, 16, 16, 16, 7, 7, 9, 9, 11, 7, 7, 7, 4, 4, 3, 3, 3, 3, 9, 9, 9, 9, 9, 2, 6, 7, 7, 7, 2, 12, 5, 7, 6, 6, 11, 5, 5, 5, 7, 7, 6, 6, 1, 3, 2, 2, 2, 8, 3, 3, 4, 4, 2, 7, 2, 4, 4, 4, 3, 11, 12, 8, 7, 12, 8, 7, 6, 13, 9, 7, 3, 11, 8, 7, 18, 6, 3, 3, 3, 4, 7, 7, 7, 3, 3, 6, 6, 7, 1, 8, 8, 7, 7, 7, 2, 8, 8, 9, 4, 4, 3, 3, 11, 7, 12, 7, 5, 10, 5, 11, 6, 5, 7, 12, 5, 3, 6, 10, 6, 5, 8, 11, 3, 3, 3, 10, 10, 7, 7, 6, 14, 3, 6, 3, 3, 5, 7, 7, 4, 4, 4, 4, 3, 4, 6, 6, 10, 10, 11, 7, 7, 5, 8, 8, 8, 8, 9, 11, 8, 9, 9, 8, 7, 4, 4, 8, 8, 8, 8, 6, 6, 8, 11, 11, 8, 5, 8, 5, 5, 7, 13, 13, 6, 7, 7, 4, 6, 6, 5, 6, 9, 9, 9, 11, 6, 4, 9, 5, 4, 9, 8, 7, 3, 7, 6, 12, 12, 9, 9, 9, 9, 6, 6, 5, 4, 7, 3, 8, 9, 9, 9, 4, 4, 2, 5, 10, 8, 8, 1, 3, 8, 8, 7, 9, 4, 8, 5, 3, 3, 3, 2, 1, 9, 9, 10, 7, 6, 11, 9, 11, 11, 11, 3, 6, 8, 9, 5, 15, 9, 11, 11, 5, 5, 7, 1, 13, 3, 11, 8, 6, 7, 5, 5, 11, 7, 10, 18, 4, 11, 5, 14, 6, 6, 8, 8, 4, 6, 11, 5, 2, 1, 8, 8, 3, 8, 12, 5, 2, 9, 9, 9, 9, 7, 7, 7, 8, 6, 12, 7, 6, 3, 6, 8, 4, 13, 13, 6, 4, 4, 11, 8, 8, 5, 5, 5, 3, 4, 6, 3, 10, 10, 10, 10, 11, 11, 11, 11, 11, 8, 8, 7, 7, 7, 11, 11, 11, 11, 1, 7, 9, 7, 12, 2, 6, 6, 3, 7, 2, 8, 3, 3, 2, 11, 11, 11, 4, 10, 4, 4, 4, 4, 1, 4, 3, 4, 1, 8, 8, 8, 7, 7, 3, 2, 2, 4, 6, 2, 3, 2, 3, 11, 3, 3, 9, 6, 6, 6, 6, 6, 9, 11, 9, 9, 7, 6, 6, 8, 8, 8, 8, 8, 11, 10, 4, 6, 6, 8, 8, 11, 11, 11, 10, 10, 10, 10, 10, 7, 7, 5, 6, 6, 6, 7, 7, 7, 4, 7, 19, 19, 6, 13, 11, 10, 3, 3, 4, 3, 9, 9, 9, 9, 6, 6, 7, 7, 10, 11, 9, 12, 12, 11, 7, 8, 5, 13, 10, 7, 10, 10, 10, 10, 7, 5, 3, 12, 6, 12, 11, 1, 9, 9, 9, 9, 9, 4, 4, 10, 10, 10, 5, 5, 3, 8, 13, 15, 17, 17, 17, 10, 8, 8, 5, 4, 4, 5, 5, 5, 10, 13, 16, 18, 6, 5, 5, 6, 6, 8, 8, 6, 6, 6, 4, 6, 9, 13, 7, 1, 5, 10, 7, 7, 7, 6, 6, 6, 5, 5, 5, 3, 3, 4, 4, 10, 5, 6, 10, 10, 10, 2, 8, 8, 8, 7, 7, 5, 10, 1, 4, 9, 6, 13, 12, 10, 10, 5, 9, 8, 5, 5, 3, 3, 2, 7, 6, 3, 3, 8, 6, 5, 5, 10, 13, 8, 5, 6, 6, 6, 6, 6, 6, 6, 2, 1, 8, 4, 3, 3, 3, 4, 2, 10, 10, 6, 7, 6, 3, 3, 3, 3, 3, 10, 10, 10, 7, 7, 3, 7, 1, 6, 6, 6, 6, 13, 8, 10, 4, 4, 4, 4, 12, 7, 15, 15, 15, 8, 8, 11, 7, 4, 15, 15, 6, 5, 5, 2, 2, 2, 12, 12, 12, 12, 12, 9, 9, 9, 8, 4, 6, 18, 4, 3, 13, 13, 11, 3, 3, 3, 4, 3, 11, 6, 12, 9, 5, 10, 4, 5, 5, 5, 5, 5, 10, 10, 10, 10, 10, 14, 8, 8, 6, 7, 4, 3, 4, 4, 3, 3, 4, 10, 12, 11, 7, 9, 12, 10, 10, 10, 10, 10, 4, 4, 4, 4, 4, 4, 4, 7, 7, 4, 4, 4, 4, 4, 4, 5, 5, 3, 3, 8, 8, 8, 14, 6, 6, 6, 14, 4, 11, 11, 3, 5, 5, 5, 8, 8, 8, 8, 5, 4, 4, 4, 4, 5, 6, 3, 3, 3, 8, 3, 3, 4, 8, 8, 8, 4, 4, 10, 10, 13, 2, 15, 9, 9, 11, 8, 9, 11, 11, 8, 9, 9, 8, 8, 8, 7, 7, 8, 8, 2, 4, 10, 12, 2, 2, 7, 4, 4, 6, 6, 2, 3, 3, 5, 12, 10, 8, 12, 9, 9, 5, 7, 7, 7, 3, 6, 6, 6, 10, 10, 10, 10, 6, 6, 6, 7, 12, 5, 12, 4, 7, 9, 5, 4, 8, 4, 1, 1, 3, 3, 9, 7, 7, 16, 9, 13, 7, 8, 2, 5, 5, 7, 7, 6, 6, 6, 7, 7, 6, 6, 6, 6, 5, 6, 4, 4, 7, 7, 5, 12, 12, 12, 3, 15, 14, 9, 13, 4, 13, 13, 8, 13, 6, 5, 8, 3, 2, 5, 8, 10, 10, 4, 2, 1, 2, 1, 11, 10, 11, 6, 22, 9, 12, 12, 12, 12, 12, 9, 12, 8, 4, 7, 10, 15, 15, 8, 1, 8, 9, 15, 3, 5, 5, 5, 7, 7, 15, 8, 9, 11, 5, 6, 2, 5, 5, 5, 3, 3, 3, 3, 13, 13, 13, 13, 13, 6, 6, 5, 5, 5, 9, 9, 5, 13, 8, 2, 2, 2, 5, 2, 3, 5, 5, 1, 7, 2, 3, 3, 1, 2, 6, 6, 9, 15, 10, 8, 5, 10, 7, 8, 2, 22, 6, 6, 6, 7, 5, 4, 6, 6, 2, 2, 6, 7, 7, 11, 2, 5, 5, 6, 10, 10, 7, 9, 9, 9, 6, 7, 2, 7, 6, 6, 8, 10, 10, 17, 7, 10, 7, 9, 9, 8, 13, 8, 10, 10, 18, 13, 10, 10, 15, 15, 13, 10, 15, 15, 15, 11, 7, 8, 9, 6, 6, 9, 9, 8, 10, 10, 5, 15, 4, 4, 3, 5, 4, 4, 15, 7, 9, 10, 7, 6, 8, 6, 6, 5, 8, 2, 4, 1, 1, 1, 1, 1, 1, 2, 7, 7, 7, 5, 5, 11, 11, 7, 9, 11, 10, 8, 5, 6, 4, 11, 15, 2, 4, 3, 5, 1, 10, 10, 4, 7, 11, 11, 12, 12, 12, 5, 15, 12, 13, 8, 8, 2, 2, 4, 4, 4, 2, 2, 5, 5, 4, 4, 7, 7, 5, 4, 7, 13, 13, 13, 8, 4, 3, 3, 8, 8, 8, 8, 8, 8, 8, 8, 8, 8, 7, 5, 7, 7, 7, 3, 9, 7, 7, 7, 9, 9, 9, 9, 9, 9, 2, 8, 3, 3, 9, 11, 3, 9, 8, 7, 12, 12, 5, 5, 6, 6, 3, 6, 6, 3, 3, 3, 6, 3, 4, 11, 4, 6, 7, 7, 10, 7, 12, 4, 5, 11, 3, 7, 2, 2, 8, 7, 7, 6, 5, 5, 9, 9, 6, 10, 10, 6, 5, 4, 4, 4, 10, 10, 4, 7, 7, 1, 8, 3, 3, 3, 3, 5, 5, 5, 1, 5, 5, 5, 4, 4, 4, 12, 5, 6, 9, 10, 10, 8, 5, 11, 8, 5, 4, 5, 10, 14, 8, 3, 6, 10, 8, 11, 5, 6, 7, 5, 5, 7, 7, 10, 9, 9, 11, 8, 6, 6, 6, 5, 7, 11, 9, 3, 3, 11, 8, 7, 8, 6, 7, 7, 3, 7, 11, 11, 8, 5, 4, 9, 8, 4, 7, 8, 8, 5, 5, 8, 8, 7, 5, 3, 13, 8, 5, 4, 4, 1, 2, 2, 2, 7, 5, 5, 5, 6, 6, 2, 2, 4, 7, 9, 9, 7, 7, 7, 7, 4, 4, 4, 3, 3, 7, 7, 2, 2, 3, 3, 3, 6, 4, 11, 6, 6, 7, 4, 4, 5, 2, 6, 6, 1, 3, 3, 3, 8, 4, 4, 2, 7, 7, 6, 6, 8, 3, 3, 2, 9, 9, 9, 9, 8, 8, 8, 8, 2, 2, 9, 5, 8, 9, 7, 7, 7, 8, 8, 5, 5, 3, 3, 3, 3, 2, 5, 5, 5, 1, 4, 5, 8, 3, 2, 2, 3, 9, 9, 9, 5, 7, 4, 5, 8, 8, 6, 8, 9, 9, 10, 10, 8, 6, 6, 6, 5, 5, 5, 5, 5, 9, 7, 6, 7, 1, 8, 7, 8, 4, 9, 9, 9, 9, 9, 7, 6, 11, 4, 4, 8, 9, 11, 11, 4, 3, 11, 11, 2, 7, 7, 4, 5, 5, 5, 7, 7, 5, 5, 5, 4, 4, 4, 4, 9, 5, 11, 11, 7, 6, 10, 9, 7, 7, 7, 6, 5, 5, 15, 8, 8, 5, 2, 4, 3, 5, 5, 5, 6, 9, 5, 7, 14, 8, 12, 12, 11, 5, 13, 4, 14, 14, 5, 6, 3, 3, 13, 5, 6, 6, 6, 6, 6, 4, 2, 2, 11, 11, 4, 4, 7, 10, 10, 18, 5, 6, 6, 6, 7, 7, 7, 7, 7, 7, 5, 5, 5, 5, 5, 3, 3, 3, 4, 9, 9, 9, 6, 6, 6, 4, 6, 5, 10, 3, 9, 9, 9, 9, 2, 5, 5, 5, 5, 5, 5, 4, 5, 14, 6, 6, 6, 5, 8, 6, 4, 1, 3, 4, 4, 4, 4, 4, 6, 6, 6, 6, 8, 8, 8, 4, 3, 8, 12, 9, 6, 6, 8, 7, 7, 2, 7, 7, 7, 7, 6, 6, 6, 12, 3, 7, 8, 6, 6, 16, 3, 3, 3, 16, 6, 8, 8, 8, 9, 8, 4, 10, 2, 7, 7, 9, 9, 4, 12, 11, 9, 11, 5, 6, 5, 5, 7, 12, 12, 3, 7, 3, 11, 12, 9, 6, 9, 9, 9, 6, 6, 8, 5, 4, 10, 10, 3, 4, 4, 4, 4, 4, 4, 11, 11, 9, 12, 7, 11, 7, 4, 1, 8, 10, 11, 11, 1, 7, 7, 7, 9, 7, 7, 7, 7, 10, 10, 5, 11, 1, 9, 11, 11, 11, 11, 10, 11, 4, 7, 19, 4, 13, 11, 10, 7, 8, 10, 5, 11, 9, 7, 2, 12, 4, 7, 9, 10, 10, 11, 4, 7, 8, 6, 6, 13, 13, 10, 7, 3, 3, 10, 3, 12, 6, 12, 8, 8, 13, 13, 7, 5, 15, 5, 17, 17, 17, 9, 12, 10, 10, 8, 13, 16, 16, 8, 9, 9, 9, 5, 5, 5, 6, 6, 18, 6, 18, 8, 4, 4, 9, 9, 13, 13, 13, 8, 2, 2, 8, 8, 7, 7, 7, 7, 7, 9, 13, 7, 7, 10, 10, 6, 8, 8, 5, 7, 6, 4, 4, 6, 6, 10, 10, 10, 10, 5, 4, 4, 7, 2, 11, 14, 9, 6, 2, 4, 13, 12, 4, 4, 5, 5, 5, 12, 10, 10, 13, 9, 9, 8, 7, 7, 5, 6, 8, 13, 4, 4, 7, 7, 7, 3, 3, 4, 19, 13, 8, 11, 6, 5, 8, 8, 7, 2, 8, 8, 8, 8, 8, 10, 16, 11, 11, 8, 8, 6, 6, 1, 3, 7, 7, 5, 7, 8, 7, 13, 13, 9, 4, 4, 9, 8, 3, 3, 9, 10, 1, 4, 5, 4, 2, 3, 7, 7, 7, 7, 3, 3, 3, 3, 3, 3, 3, 6, 6, 4, 4, 6, 6, 6, 3, 5, 5, 1, 5, 5, 5, 8, 8, 2, 12, 12, 5, 5, 5, 2, 2, 3, 6, 6, 6, 6, 6, 7, 7, 7, 8, 8, 5, 6, 15, 5, 2, 5, 6, 6, 6, 8, 15, 15, 9, 8, 8, 8, 8, 8, 6, 6, 16, 4, 1, 1, 8, 8, 4, 6, 2, 3, 3, 3, 4, 4, 7, 7, 7, 4, 7, 7, 3, 11, 9, 4, 4, 4, 4, 13, 7, 8, 2, 3, 3, 15, 15, 10, 9, 8, 8, 8, 4, 4, 4, 4, 4, 9, 9, 11, 9, 6, 6, 18, 18, 2, 4, 4, 4, 5, 9, 3, 7, 7, 2, 2, 13, 13, 11, 6, 12, 9, 9, 5, 11, 11, 10, 4, 6, 8, 3, 2, 3, 8, 12, 12, 2, 6, 4, 13, 7, 10, 7, 10, 10, 6, 7, 7, 5, 12, 12, 11, 11, 2, 4, 4, 4, 4, 4, 4, 7, 4, 2, 6, 6, 6, 7, 7, 7, 7, 9, 9, 4, 12, 1, 2, 4, 4, 4, 6, 9, 4, 13, 5, 6, 3, 5, 4, 4, 6, 3, 2, 1, 3, 5, 8, 8, 8, 4, 9, 8, 9, 6, 5, 5, 5, 5, 9, 9, 9, 9, 9, 6, 14, 14, 14, 3, 3, 3, 3, 7, 7, 5, 5, 15, 1, 14, 14, 10, 11, 10, 3, 4, 4, 5, 5, 11, 15, 9, 15, 15, 9, 9, 11, 8, 4, 5, 7, 7, 7, 7, 4, 4, 10, 9, 11, 7, 7, 10, 7, 7, 10, 10, 10, 8, 8, 5, 3, 12, 9, 5, 5, 7, 6, 9, 9, 12, 12, 12, 12, 4, 4, 9, 7, 7, 16, 5, 7, 9, 2, 4, 1, 7, 7, 5, 5, 13, 13, 11, 11, 11, 9, 11, 11, 8, 8, 8, 8, 10, 10, 10, 10, 5, 5, 8, 8, 8, 8, 5, 10, 5, 15, 14, 15, 11, 3, 6, 20, 20, 20, 20, 20, 10, 13, 14, 5, 5, 5, 6, 5, 5, 5, 1, 1, 2, 4, 4, 7, 7, 6, 5, 6, 5, 5, 5, 7, 7, 5, 5, 9, 9, 7, 6, 7, 1, 8, 13, 11, 3, 5, 8, 2, 2, 2, 2, 8, 8, 8, 10, 11, 11, 11, 10, 9, 11, 11, 2, 7, 8, 8, 9, 12, 9, 7, 5, 5, 5, 3, 12, 8, 7, 7, 10, 4, 4, 4, 10, 5, 15, 8, 9, 7, 7, 5, 7, 7, 7, 7, 15, 8, 2, 2, 6, 6, 6, 5, 5, 6, 9, 5, 6, 5, 7, 9, 5, 7, 4, 4, 3, 3, 4, 4, 6, 6, 6, 6, 6, 6, 9, 9, 9, 5, 8, 8, 5, 5, 9, 6, 6, 6, 6, 12, 12, 12, 12, 12, 12, 12, 12, 7, 4, 4, 7, 7, 6, 5, 5, 12, 1, 10, 15, 4, 5, 5, 5, 6, 6, 6, 9, 9, 5, 5, 5, 4, 10, 10, 10, 10, 10, 10, 10, 10, 10, 10, 10, 3, 3, 7, 7, 8, 5, 5, 5, 3, 8, 4, 6, 6, 6, 6, 7, 2, 2, 4, 3, 3, 3, 3, 3, 3, 2, 7, 7, 8, 8, 8, 8, 5, 5, 8, 8, 8, 9, 9, 9, 7, 7, 7, 7, 6, 6, 6, 7, 7, 8, 4, 11, 11, 3, 7, 2, 5, 7, 8, 3, 5, 5, 5, 5, 3, 3, 3, 9, 9, 9, 9, 6, 7, 10, 7, 5, 2, 4, 4, 4, 5, 5, 5, 5, 5, 11, 4, 10, 8, 6, 2, 3, 6, 7, 3, 8, 4, 6, 8, 10, 5, 8, 6, 7, 2, 2, 2, 3, 3, 3, 6, 8, 8, 5, 16, 9, 4, 7, 6, 10, 15, 9, 7, 8, 14, 11, 4, 4, 6, 6, 6, 2, 2, 8, 2, 1, 1, 6, 6, 6, 6, 8, 8, 9, 5, 4, 10, 14, 3, 3, 5, 2, 5, 11, 7, 5, 7, 7, 7, 7, 7, 4, 4, 4, 7, 4, 9, 8, 7, 7, 3, 3, 10, 10, 10, 7, 3, 1, 4, 13, 8, 8, 9, 11, 7, 8, 15, 10, 6, 8, 8, 8, 10, 2, 4, 8, 8, 6, 6, 6, 5, 4, 4, 4, 4, 4, 6, 6, 6, 5, 2, 7, 7, 7, 3, 4, 9, 9, 11, 9, 1, 4, 4, 5, 5, 5, 4, 4, 4, 5, 2, 8, 8, 8, 5, 5, 5, 8, 5, 5, 10, 10, 4, 4, 4, 5, 5, 8, 8, 8, 5, 5, 5, 10, 10, 10, 8, 7, 6, 5, 9, 9, 9, 5, 8, 7, 10, 10, 10, 9, 3, 6, 6, 6, 6, 6, 6, 9, 9, 9, 9, 9, 4, 1, 4, 4, 8, 8, 3, 3, 5, 7, 7, 7, 3, 3, 9, 9, 9, 7, 6, 3, 3, 4, 8, 6, 6, 5, 5, 5, 4, 4, 4, 3, 3, 2, 7, 11, 6, 7, 6, 4, 4, 2, 3, 8, 8, 4, 3, 9, 5, 7, 6, 7, 3, 7, 4, 5, 8, 9, 13, 6, 14, 12, 13, 13, 13, 13, 4, 4, 3, 6, 5, 7, 8, 5, 5, 8, 7, 3, 3, 6, 7, 5, 7, 7, 7, 6, 5, 3, 6, 6, 6, 6, 5, 7, 6, 6, 6, 6, 7, 5, 3, 2, 5, 5, 6, 4, 8, 2, 4, 4, 6, 6, 6, 6, 4, 9, 9, 9, 9, 4, 4, 11, 3, 3, 8, 8, 8, 8, 7, 5, 3, 8, 5, 5, 4, 15, 3, 4, 5, 5, 7, 8, 8, 5, 5, 5, 5, 6, 12, 8, 4, 4, 12, 12, 7, 4, 4, 4, 4, 6, 6, 6, 9, 6, 11, 6, 10, 3, 9, 6, 7, 11, 3, 9, 11, 9, 7, 7, 4, 13, 7, 13, 8, 7, 4, 1, 5, 5, 5, 1, 5, 5, 3, 8, 2, 2, 2, 4, 4, 5, 7, 4, 8, 5, 2, 1, 6, 7, 7, 5, 5, 5, 5, 7, 7, 3, 4, 4, 9, 9, 9, 9, 9, 2, 2, 3, 3, 4, 4, 2, 8, 7, 9, 11, 6, 6, 9, 15, 5, 13, 6, 4, 5, 4, 2, 4, 2, 16, 2, 4, 4, 4, 4, 4, 3, 2, 8, 8, 9, 14, 4, 12, 5, 7, 7, 10, 10, 10, 4, 4, 4, 2, 6, 3, 9, 10, 2, 3, 3, 1, 7, 7, 7, 7, 3, 10, 4, 1, 5, 4, 4, 3, 3, 3, 3, 2, 2, 3, 6, 4, 5, 5, 11, 4, 4, 4, 9, 3, 7, 2, 5, 5, 5, 2, 7, 4, 4, 4, 2, 11, 11, 11, 10, 10, 10, 10, 3, 6, 2, 5, 8, 7, 5, 2, 4, 3, 7, 7, 1, 3, 6, 2, 3, 5, 4, 4, 4, 4, 8, 8, 8, 3, 2, 4, 4, 2, 5, 4, 5, 5, 3, 8, 8, 8, 8, 2, 5, 7, 4, 6, 4, 4, 12, 4, 6, 5, 9, 5, 6, 6, 7, 7, 7, 7, 7, 5, 3, 3, 4, 1, 4, 4, 3, 5, 5, 10, 10, 10, 10, 10, 10, 7, 7, 5, 5, 5, 3, 6, 6, 6, 6, 6, 8, 2, 2, 2, 2, 7, 6, 3, 3, 7, 7, 4, 4, 11, 11, 4, 7, 7, 7, 13, 3, 3, 3, 3, 2, 2, 5, 5, 5, 3, 3, 3, 5, 5, 5, 5, 6, 6, 6, 3, 2, 6, 6, 6, 8, 6, 9, 3, 7, 6, 5, 6, 8, 8, 4, 6, 6, 2, 12, 12, 4, 9, 6, 2, 5, 5, 5, 2, 3, 12, 5, 3, 4, 8, 7, 5, 10, 8, 7, 5, 4, 6, 4, 5, 5, 5, 5, 3, 6, 4, 6, 6, 6, 6, 5, 5, 5, 5, 5, 3, 3, 3, 1, 1, 6, 6, 6, 6, 6, 6, 5, 5, 2, 5, 5, 3, 7, 7, 9, 4, 4, 3, 3, 9, 3, 8, 7, 7, 3, 3, 2, 9, 9, 9, 6, 4, 12, 3, 6, 6, 6, 6, 2, 2, 5, 5, 5, 5, 11, 11, 6, 4, 6, 8, 11, 7, 6, 2, 2, 2, 3, 11, 5, 4, 8, 10, 10, 10, 10, 10, 5, 5, 5, 8, 8, 8, 5, 6, 11, 3, 8, 8, 8, 5, 5, 3, 10, 10, 10, 5, 5, 6, 6, 6, 5, 5, 8, 8, 6, 2, 6, 7, 7, 8, 15, 3, 6, 2, 2, 9, 9, 9, 9, 6, 6, 4, 5, 2, 4, 3, 3, 2, 4, 4, 4, 3, 6, 6, 6, 6, 6, 3, 4, 7, 3, 3, 8, 8, 6, 10, 7, 4, 4, 4, 2, 2, 7, 7, 7, 7, 3, 10, 6, 5, 3, 11, 2, 6, 1, 3, 6, 2, 13, 3, 3, 2, 5, 5, 5, 2, 3, 3, 7, 7, 6, 6, 5, 5, 8, 12, 16, 9, 6, 5, 4, 4, 2, 1, 4, 4, 2, 1, 5, 3, 5, 3, 8, 8, 8, 8, 6, 6, 6, 11, 10, 5, 5, 6, 6, 6, 2, 1, 2, 2, 4, 5, 3, 5, 5, 5, 7, 3, 3, 4, 5, 8, 8, 4, 2, 5, 7, 7, 5, 8, 8, 6, 6, 5, 5, 5, 6, 6, 7, 7, 7, 5, 5, 5, 5, 2, 3, 3, 9, 9, 9, 5, 5, 5, 4, 3, 3, 15, 4, 5, 12, 6, 6, 6, 8, 4, 3, 5, 4, 5, 3, 9, 9, 9, 6, 6, 6, 8, 7, 6, 9, 9, 12, 3, 3, 7, 7, 7, 7, 11, 10, 9, 5, 9, 6, 6, 6, 4, 4, 9, 9, 9, 2, 2, 3, 6, 5, 2, 8, 11, 13, 9, 10, 11, 5, 10, 8, 8, 4, 4, 6, 6, 3, 3, 3, 3, 5, 8, 6, 8, 9, 7, 9, 3, 6, 6, 1, 2, 2, 4, 5, 3, 8, 6, 8, 6, 6, 6, 4, 4, 4, 5, 5, 5, 5, 7, 7, 1, 7, 3, 3, 2, 4, 4, 4, 4, 6, 11, 1, 4, 2, 14, 8, 8, 3, 2, 5, 5, 11, 11, 11, 11, 11, 11, 11, 8, 8, 4, 6, 10, 11, 8, 1, 8, 5, 7, 8, 7, 7, 6, 2, 3, 6, 6, 6, 4, 4, 6, 6, 6, 12, 12, 12, 12, 6, 4, 4, 1, 6, 11, 8, 8, 8, 6, 6, 5, 2, 5, 10, 7, 7, 7, 3, 3, 2, 11, 8, 11, 11, 2, 11, 3, 7, 5, 13, 8, 10, 10, 10, 10, 10, 7, 6, 5, 2, 4, 1, 3, 4, 5, 7, 7, 5, 5, 7, 7, 7, 7, 7, 3, 4, 11, 10, 7, 3, 3, 2, 3, 3, 3, 18, 6, 8, 4, 9, 5, 4, 14, 14, 3, 9, 6, 5, 12, 3, 3, 3, 8, 8, 8, 8, 6, 8, 6, 6, 4, 3, 4, 2, 4, 5, 12, 6, 10, 8, 9, 9, 5, 5, 10, 8, 3, 12, 12, 12, 1, 4, 4, 12, 3, 9, 3, 7, 4, 4, 2, 2, 2, 7, 7, 7, 7, 5, 5, 11, 5, 13, 13, 13, 13, 13, 13, 13, 13, 5, 13, 12, 12, 6, 5, 12, 12, 3, 10, 10, 7, 5, 4, 10, 10, 9, 2, 7, 2, 5, 1, 12, 2, 10, 5, 15, 15, 15, 2, 8, 7, 7, 7, 4, 7, 7, 7, 9, 4, 4, 5, 5, 5, 7, 9, 13, 13, 13, 3, 5, 10, 5, 6, 4, 16, 18, 8, 7, 8, 8, 7, 7, 8, 10, 9, 9, 9, 3, 6, 2, 9, 8, 3, 12, 3, 10, 10, 8, 6, 12, 12, 12, 9, 8, 7, 10, 11, 11, 14, 4, 2, 12, 5, 2, 7, 7, 8, 5, 2, 7, 5, 10, 10, 9, 9, 9, 14, 6, 5, 9, 9, 14, 10, 10, 5, 3, 2, 7, 4, 7, 7, 2, 6, 2, 12, 8, 6, 4, 8, 3, 6, 6, 11, 11, 11, 3, 3, 1, 9, 8, 4, 3, 4, 5, 12, 13, 5, 1, 9, 9, 11, 9, 9, 5, 5, 5, 1, 4, 4, 2, 6, 6, 6, 4, 4, 4, 6, 3, 4, 4, 11, 9, 11, 5, 3, 11, 11, 11, 10, 10, 10, 10, 10, 10, 6, 6, 6, 6, 6, 3, 7, 3, 6, 6, 7, 4, 9, 7, 6, 5, 16, 11, 13, 4, 8, 5, 6, 6, 6, 12, 12, 12, 12, 10, 10, 10, 10, 3, 3, 3, 2, 6, 5, 7, 3, 6, 9, 9, 3, 8, 8, 4, 5, 2, 8, 10, 10, 10, 10, 10, 10, 8, 8, 3, 8, 8, 6, 6, 12, 12, 12, 3, 9, 11, 6, 3, 3, 6, 9, 5, 9, 4, 6, 8, 3, 10, 3, 11, 11, 11, 11, 11, 11, 11, 6, 6, 6, 2, 2, 6, 6, 6, 4, 2, 4, 4, 4, 4, 4, 5, 11, 10, 10, 10, 10, 10, 8, 8, 8, 8, 13, 13, 2, 4, 3, 3, 4, 1, 7, 7, 2, 3, 4, 4, 16, 11, 4, 6, 10, 10, 6, 8, 7, 6, 10, 10, 10, 3, 9, 9, 7, 7, 10, 2, 3, 6, 13, 3, 13, 13, 5, 5, 7, 9, 10, 5, 6, 6, 6, 7, 2, 4, 9, 12, 7, 10, 9, 6, 4, 15, 11, 5, 2, 4, 11, 5, 7, 5, 7, 7, 7, 7, 7, 7, 5, 4, 4, 12, 12, 12, 12, 12, 8, 8, 8, 8, 8, 8, 8, 8, 8, 13, 7, 7, 7, 5, 10, 5, 1, 7, 6, 2, 3, 2, 8, 4, 4, 3, 5, 3, 3, 2, 2, 7, 12, 4, 7, 4, 5, 7, 5, 7, 7, 2, 6, 7, 5, 6, 5, 3, 4, 9, 7, 11, 8, 5, 4, 7, 5, 5, 5, 10, 5, 2, 2, 6, 7, 10, 4, 5, 6, 5, 5, 3, 7, 3, 12, 1, 7, 1, 7, 3, 6, 6, 4, 5, 6, 6, 3, 7, 7, 5, 4, 6, 6, 8, 6, 8, 4, 6, 4, 3, 3, 3, 3, 8, 8, 8, 5, 5, 7, 5, 5, 1, 5, 4, 4, 7, 6, 4, 6, 6, 6, 6, 6, 3, 3, 4, 12, 5, 6, 11, 5, 6, 3, 6, 1, 7, 7, 7, 7, 7, 5, 4, 10, 10, 10, 11, 11, 11, 7, 7, 9, 9, 9, 3, 4, 3, 2, 10, 10, 5, 4, 10, 5, 8, 11, 11, 11, 11, 7, 4, 10, 8, 3, 3, 3, 2, 9, 9, 6, 4, 8, 9, 2, 3, 2, 10, 10, 3, 7, 7, 7, 2, 13, 4, 7, 5, 5, 19, 4, 8, 10, 5, 7, 7, 8, 4, 3, 7, 4, 7, 4, 7, 8, 8, 4, 6, 6, 6, 6, 6, 6, 9, 3, 9, 10, 10, 5, 3, 2, 5, 6, 7, 3, 7, 7, 6, 5, 5, 5, 4, 5, 3, 4, 13, 4, 13, 7, 2, 6, 4, 7, 9, 4, 8, 3, 9, 1, 8, 4, 5, 7, 7, 4, 7, 10, 7, 8, 5, 4, 3, 4, 11, 4, 3, 3, 5, 14, 14, 4, 3, 8, 3, 5, 10, 5, 4, 4, 9, 6, 5, 5, 2, 5, 3, 4, 11, 3, 3, 8, 5, 3, 3, 2, 7, 7, 7, 7, 5, 5, 5, 4, 14, 10, 5, 6, 5, 8, 6, 6, 2, 9, 6, 9, 5, 5, 2, 5, 5, 4, 6, 5, 8, 2, 4, 8, 8, 6, 8, 2, 6, 6, 6, 2, 2, 11, 10, 11, 2, 2, 4, 4, 4, 2, 4, 5, 5, 3, 5, 2, 2, 8, 8, 6, 6, 6, 2, 3, 5, 1, 10, 3, 6, 8, 9, 11, 15, 4, 5, 3, 4, 5, 4, 7, 10, 10, 7, 3, 6, 6, 14, 14, 14, 14, 10, 8, 8, 8, 6, 6, 6, 6, 4, 4, 12, 12, 12, 12, 12, 4, 4, 4, 7, 2, 2, 3, 3, 4, 4, 10, 5, 2, 2, 1, 5, 2, 6, 3, 4, 4, 7, 7, 5, 7, 7, 7, 6, 6, 7, 7, 2, 5, 5, 6, 3, 7, 7, 6, 3, 3, 3, 6, 7, 7, 5, 5, 6, 6, 6, 6, 3, 8, 6, 6, 6, 4, 5, 10, 10, 3, 5, 9, 6, 8, 6, 7, 5, 4, 9, 12, 3, 10, 5, 6, 10, 2, 2, 5, 5, 8, 8, 8, 8, 6, 2, 11, 11, 4, 11, 2, 6, 6, 8, 8, 3, 3, 10, 6, 6, 6, 4, 4, 9, 9, 5, 13, 4, 6, 6, 2, 4, 7, 5, 6, 3, 2, 5, 12, 1, 20, 6, 9, 3, 8, 2, 5, 2, 4, 7, 18, 5, 4, 12, 6, 6, 6, 6, 7, 7, 15, 15, 15, 6, 6, 13, 13, 13, 5, 10, 10, 10, 10, 10, 10, 8, 9, 9, 9, 9, 9, 3, 4, 4, 11, 1, 5, 5, 12, 8, 3, 15, 4, 4, 7, 10, 10, 4, 4, 7, 7, 6, 6, 13, 5, 6, 5, 9, 9, 9, 9, 9, 3, 3, 3, 3, 5, 5, 8, 8, 8, 8, 10, 6, 3, 2, 3, 12, 3, 6, 7, 8, 7, 4, 5, 5, 9, 9, 9, 3, 3, 3, 3, 6, 6, 6, 6, 6, 6, 9, 9, 2, 16, 16, 16, 9, 9, 9, 9, 9, 9, 10, 10, 10, 10, 10, 3, 6, 5, 2, 6, 6, 6, 4, 10, 10, 10, 5, 5, 5, 6, 4, 4, 11, 7, 4, 8, 6, 5, 10, 11, 4, 13, 10, 8, 4, 4, 4, 4, 4, 4, 4, 3, 9, 14, 3, 4, 4, 7, 7, 6, 6, 11, 11, 11, 6, 6, 6, 8, 8, 8, 8, 4, 4, 4, 4, 3, 3, 6, 6, 8, 8, 6, 8, 12, 13, 5, 5, 6, 6, 6, 4, 4, 6, 6, 1, 8, 9, 4, 8, 1, 3, 7, 3, 4, 6, 6, 6, 6, 7, 7, 7, 10, 10, 10, 10, 10, 7, 7, 7, 7, 7, 6, 2, 6, 5, 5, 5, 8, 8, 3, 3, 5, 11, 5, 4, 3, 2, 7, 8, 15, 1, 3, 10, 9, 10, 4, 6, 7, 8, 1, 9, 5, 11, 11, 11, 11, 7, 8, 9, 5, 5, 5, 9, 11, 8, 11, 3, 6, 5, 7, 7, 7, 9, 2, 1, 4, 5, 4, 8, 13, 4, 2, 4, 6, 7, 9, 7, 5, 10, 5, 7, 3, 13, 13, 13, 4, 6, 6, 8, 8, 8, 8, 8, 1, 2, 2, 10, 11, 15, 4, 9, 8, 6, 5, 6, 8, 8, 4, 12, 4, 7, 7, 10, 10, 10, 10, 2, 16, 2, 7, 5, 2, 6, 4, 5, 3, 7, 10, 7, 6, 13, 5, 6, 6, 9, 9, 9, 6, 8, 3, 4, 6, 6, 1, 2, 2, 3, 6, 7, 3, 3, 2, 4, 7, 7, 4, 6, 4, 7, 7, 6, 6, 6, 7, 7, 7, 12, 5, 5, 5, 5, 8, 8, 8, 8, 8, 8, 8, 5, 5, 2, 7, 9, 1, 4, 2, 2, 10, 10, 10, 6, 9, 7, 7, 5, 8, 11, 9, 11, 6, 4, 8, 8, 4, 5, 5, 7, 7, 5, 7, 6, 7, 9, 9, 9, 10, 10, 10, 10, 5, 7, 12, 7, 7, 14, 7, 7, 14, 7, 7, 7, 7, 4, 6, 7, 7, 1, 12, 12, 7, 11, 15, 15, 9, 9, 5, 8, 6, 6, 6, 1, 5, 10, 5, 7, 3, 3, 11, 6, 6, 5, 6, 6, 6, 6, 8, 6, 6, 9, 9, 9, 9, 9, 9, 9, 5, 7, 2, 2, 2, 3, 2, 8, 8, 3, 4, 4, 5, 5, 5, 3, 3, 7, 2, 8, 9, 6, 4, 9, 9, 9, 10, 10, 10, 7, 7, 10, 9, 9, 9, 10, 10, 9, 10, 10, 4, 4, 4, 6, 6, 2, 4, 5, 5, 11, 11, 11, 11, 5, 8, 5, 5, 5, 6, 6, 6, 6, 6, 4, 4, 10, 3, 6, 5, 3, 8, 8, 2, 7, 7, 7, 5, 7, 1, 2, 8, 6, 4, 3, 10, 10, 7, 7, 10, 14, 18, 18, 1, 8, 8, 5, 9, 9, 8, 2, 9, 9, 12, 4, 4, 6, 5, 5, 8, 8, 8, 6, 3, 3, 3, 5, 3, 3, 3, 3, 3, 6, 6, 6, 6, 6, 4, 11, 11, 6, 6, 11, 7, 6, 12, 12, 12, 12, 12, 12, 12, 6, 11, 12, 7, 7, 7, 7, 6, 6, 6, 6, 12, 5, 9, 12, 9, 9, 9, 9, 9, 6, 6, 10, 6, 6, 6, 7, 7, 6, 7, 8, 13, 12, 10, 4, 4, 7, 6, 6, 11, 11, 11, 6, 5, 5, 2, 4, 4, 4, 6, 10, 8, 8, 4, 11, 11, 11, 6, 6, 8, 8, 8, 9, 9, 8, 3, 14, 8, 11, 11, 15, 7, 10, 10, 16, 11, 5, 10, 9, 11, 5, 5, 7, 13, 9, 9, 5, 5, 7, 7, 10, 8, 10, 12, 15, 14, 13, 9, 11, 3, 4, 4, 4, 4, 3, 5, 5, 8, 8, 8, 2, 8, 2, 6, 11, 8, 8, 5, 8, 20, 15, 12, 11, 7, 4, 6, 6, 6, 3, 2, 5, 5, 5, 4, 5, 2, 8, 4, 7, 10, 5, 3, 3, 4, 4, 2, 5, 4, 4, 4, 6, 4, 6, 5, 5, 5, 5, 4, 6, 10, 10, 10, 10, 10, 4, 2, 1, 5, 8, 8, 7, 7, 7, 6, 6, 3, 5, 5, 1, 6, 6, 6, 7, 7, 7, 10, 10, 6, 4, 10, 7, 7, 5, 6, 6, 11, 6, 5, 5, 6, 6, 6, 7, 7, 5, 5, 3, 3, 11, 11, 4, 15, 5, 9, 11, 8, 12, 8, 5, 7, 4, 2, 3, 6, 6, 6, 2, 3, 3, 3, 2, 2, 4, 4, 4, 5, 5, 5, 5, 5, 12, 4, 4, 2, 12, 12, 12, 12, 12, 12, 4, 5, 5, 5, 11, 11, 11, 4, 5, 5, 2, 2, 2, 7, 7, 7, 7, 6, 6, 3, 3, 9, 9, 9, 7, 8, 4, 4, 6, 6, 4, 11, 11, 12, 10, 10, 10, 10, 7, 4, 4, 5, 18, 11, 12, 10, 10, 7, 4, 5, 4, 3, 3, 6, 7, 9, 9, 9, 9, 3, 6, 11, 4, 5, 8, 4, 4, 3, 2, 2, 3, 7, 7, 7, 7, 7, 9, 9, 9, 9, 9, 4, 11, 6, 11, 2, 1, 2, 2, 1, 3, 3, 6, 8, 8, 7, 2, 6, 5, 7, 7, 6, 6, 11, 13, 13, 13, 11, 18, 12, 9, 4, 11, 13, 11, 5, 19, 13, 9, 9, 9, 4, 5, 5, 13, 4, 4, 4, 6, 6, 11, 12, 5, 5, 5, 8, 7, 8, 7, 10, 12, 12, 5, 12, 12, 10, 7, 8, 5, 8, 4, 9, 15, 13, 13, 12, 3, 12, 12, 12, 10, 14, 11, 9, 9, 1, 5, 5, 10, 10, 10, 9, 7, 5, 12, 15, 15, 10, 5, 10, 10, 8, 10, 10, 10, 11, 15, 8, 13, 4, 8, 13, 7, 8, 9, 10, 14, 7, 15, 14, 10, 5, 19, 11, 13, 10, 5, 4, 15, 10, 17, 4, 7, 9, 9, 9, 7, 7, 7, 7, 7, 7, 9, 9, 9, 9, 3, 14, 14, 14, 7, 7, 15, 15, 15, 9, 5, 7, 10, 3, 9, 9, 6, 6, 6, 16, 8, 5, 10, 6, 7, 9, 10, 9, 11, 3, 3, 4, 6, 6, 6, 4, 5, 6, 12, 12, 12, 12, 5, 5, 6, 7, 7, 5, 5, 7, 15, 7, 4, 10, 6, 3, 6, 8, 8, 8, 8, 15, 1, 8, 2, 8, 8, 8, 8, 4, 6, 2, 10, 12, 5, 7, 7, 14, 10, 11, 11, 11, 8, 8, 8, 4, 3, 4, 7, 9, 5, 7, 7, 7, 1, 3, 5, 5, 5, 5, 9, 9, 5, 5, 7, 4, 4, 15, 11, 5, 5, 5, 11, 10, 7, 15, 6, 16, 16, 16, 16, 16, 16, 8, 11, 8, 8, 4, 12, 9, 7, 12, 7, 9, 6, 5, 8, 7, 5, 6, 14, 5, 12, 2, 6, 8, 11, 11, 10, 4, 4, 4, 4, 4, 10, 10, 10, 4, 9, 9, 9, 8, 8, 4, 4, 2, 2, 4, 3, 3, 3, 3, 4, 6, 15, 10, 4, 5, 6, 6, 6, 5, 9, 3, 4, 9, 10, 8, 8, 2, 12, 10, 10, 7, 7, 7, 7, 2, 8, 5, 7, 8, 12, 7, 5, 8, 9, 6, 4, 4, 4, 2, 9, 5, 3, 2, 2, 2, 4, 4, 4, 8, 9, 9, 8, 9, 11, 13, 13, 9, 14, 7, 11, 13, 6, 7, 4, 3, 3, 8, 5, 5, 5, 6, 6, 10, 10, 10, 4, 7, 8, 9, 7, 8, 2, 3, 3, 4, 4, 5, 5, 15, 6, 5, 6, 10, 6, 5, 5, 7, 7, 7, 7, 3, 3, 9, 16, 6, 3, 6, 9, 10, 11, 8, 5, 5, 5, 10, 11, 8, 8, 8, 11, 4, 4, 6, 2, 2, 4, 4, 3, 11, 11, 7, 5, 5, 2, 6, 6, 3, 3, 13, 13, 13, 3, 3, 4, 4, 9, 1, 13, 10, 13, 14, 2, 7, 9, 7, 11, 15, 8, 14, 5, 9, 9, 9, 7, 7, 7, 3, 2, 7, 13, 13, 13, 11, 15, 11, 10, 14, 10, 14, 17, 10, 5, 5, 7, 7, 7, 7, 18, 15, 1, 5, 6, 6, 2, 3, 3, 4, 5, 3, 3, 3, 3, 5, 5, 2, 13, 16, 10, 10, 11, 4, 5, 3, 3, 6, 6, 4, 4, 1, 15, 6, 10, 5, 4, 4, 4, 4, 7, 3, 5, 5, 6, 6, 6, 4, 12, 12, 12, 12, 5, 4, 10, 9, 10, 8, 6, 3, 6, 3, 10, 6, 6, 6, 7, 14, 7, 7, 3, 3, 9, 9, 9, 8, 8, 7, 6, 6, 3, 3, 4, 4, 4, 4, 4, 4, 3, 4, 6, 8, 6, 5, 15, 8, 5, 2, 5, 2, 8, 8, 8, 8, 8, 7, 7, 7, 4, 5, 5, 13, 13, 13, 13, 13, 1, 5, 5, 3, 4, 13, 15, 8, 7, 4, 4, 4, 2, 5, 2, 5, 5, 5, 11, 6, 7, 11, 6, 5, 15, 6, 6, 6, 6, 3, 3, 6, 5, 3, 3, 10, 8, 2, 1, 4, 3, 6, 4, 2, 2, 7, 7, 6, 11, 5, 14, 8, 4, 4, 2, 5, 5, 5, 5, 3, 6, 2, 2, 8, 7, 17, 14, 9, 4, 6, 6, 4, 1, 2, 2, 2, 2, 1, 4, 3, 1, 3, 8, 8, 8, 3, 3, 3, 9, 9, 9, 3, 3, 7, 7, 6, 9, 9, 6, 13, 10, 9, 10, 4, 4, 4, 4, 5, 5, 4, 4, 4, 11, 9, 11, 8, 8, 4, 7, 7, 5, 5, 3, 3, 4, 4, 4, 5, 10, 4, 7, 2, 2, 8, 8, 8, 8, 8, 8, 5, 5, 5, 3, 6, 6, 3, 5, 5, 8, 8, 7, 7, 7, 7, 4, 5, 4, 4, 7, 7, 7, 13, 13, 13, 13, 13, 13, 7, 7, 7, 7, 6, 8, 4, 10, 5, 6, 5, 6, 4, 4, 5, 5, 5, 13, 7, 5, 12, 12, 5, 5, 5, 15, 8, 5, 7, 5, 5, 3, 9, 9, 9, 5, 2, 2, 6, 6, 3, 3, 2, 8, 8, 8, 6, 6, 6, 4, 4, 11, 6, 6, 5, 5, 5, 3, 7, 7, 7, 7, 8, 4, 7, 2, 6, 6, 6, 13, 13, 13, 13, 13, 13, 9, 9, 9, 9, 15, 15, 15, 15, 8, 8, 5, 9, 11, 11, 11, 4, 4, 6, 4, 4, 8, 5, 6, 2, 2, 4, 4, 8, 6, 4, 4, 4, 2, 4, 4, 4, 4, 4, 4, 4, 6, 4, 8, 7, 8, 11, 5, 3, 3, 3, 3, 2, 10, 12, 3, 5, 8, 4, 8, 8, 6, 6, 6, 5, 7, 2, 4, 2, 8, 7, 8, 9, 9, 6, 3, 8, 4, 4, 11, 11, 6, 5, 3, 5, 3, 2, 7, 5, 5, 10, 4, 11, 5, 8, 6, 3, 3, 8, 6, 8, 8, 4, 6, 6, 3, 4, 7, 7, 3, 5, 7, 7, 7, 7, 6, 3, 13, 4, 7, 7, 7, 7, 4, 4, 7, 7, 11, 5, 4, 5, 17, 13, 4, 13, 12, 10, 5, 5, 5, 4, 4, 4, 3, 3, 7, 7, 7, 3, 3, 3, 3, 12, 6, 3, 7, 11, 13, 5, 5, 2, 5, 11, 2, 1, 1, 1, 4, 4, 4, 6, 6, 6, 5, 5, 2, 4, 6, 9, 11, 7, 6, 3, 7, 7, 4, 4, 14, 8, 9, 12, 7, 8, 8, 12, 9, 10, 12, 7, 4, 11, 3, 6, 9, 5, 5, 7, 7, 12, 2, 3, 3, 3, 6, 7, 7, 5, 10, 8, 8, 4, 4, 6, 5, 5, 4, 4, 8, 8, 1, 4, 7, 4, 4, 3, 3, 6, 7, 4, 9, 7, 7, 6, 11, 8, 12, 4, 2, 10, 7, 4, 6, 3, 9, 7, 13, 13, 7, 7, 7, 10, 6, 16, 16, 16, 7, 8, 8, 8, 10, 10, 10, 6, 8, 3, 9, 11, 6, 3, 3, 3, 2, 3, 3, 9, 9, 4, 5, 5, 5, 5, 5, 3, 3, 9, 4, 7, 7, 7, 7, 6, 6, 6, 11, 11, 11, 5, 5, 5, 5, 7, 7, 7, 8, 8, 6, 7, 7, 2, 8, 10, 10, 10, 3, 3, 6, 6, 6, 4, 9, 4, 7, 2, 12, 4, 4, 4, 4, 4, 4, 5, 4, 2, 6, 8, 4, 4, 3, 9, 5, 7, 9, 5, 5, 5, 2, 9, 9, 14, 8, 14, 6, 3, 3, 4, 4, 4, 5, 6, 8, 3, 11, 10, 5, 7, 7, 5, 6, 3, 12, 10, 10, 10, 10, 9, 9, 9, 2, 4, 5, 8, 4, 3, 5, 8, 4, 7, 10, 2, 13, 7, 5, 3, 5, 6, 11, 5, 9, 7, 7, 7, 7, 3, 14, 5, 3, 1, 11, 9, 6, 3, 6, 11, 5, 5, 2, 5, 3, 5, 5, 7, 8, 8, 9, 9, 9, 9, 9, 4, 5, 9, 11, 9, 9, 2, 4, 10, 10, 10, 10, 10, 10, 5, 5, 5, 5, 1, 5, 2, 7, 3, 5, 12, 1, 4, 7, 3, 8, 5, 5, 6, 4, 5, 6, 6, 6, 12, 5, 9, 9, 9, 8, 8, 8, 8, 8, 14, 14, 7, 3, 5, 4, 8, 5, 10, 2, 3, 3, 2, 3, 5, 3, 10, 5, 4, 4, 6, 4, 3, 2, 6, 7, 5, 2, 2, 5, 4, 4, 4, 4, 5, 5, 4, 4, 5, 5, 3, 3, 3, 3, 3, 3, 6, 8, 2, 17, 6, 4, 2, 5, 8, 5, 3, 3, 3, 4, 8, 7, 5, 4, 5, 12, 12, 3, 3, 7, 1, 6, 4, 4, 5, 5, 5, 3, 8, 3, 7, 5, 4, 4, 8, 4, 7, 4, 1, 5, 6, 3, 6, 4, 6, 5, 4, 7, 4, 6, 7, 6, 6, 2, 10, 10, 10, 10, 10, 4, 5, 2, 8, 8, 9, 11, 9, 9, 1, 3, 7, 5, 5, 4, 6, 2, 4, 5, 4, 2, 12, 2, 11, 4, 5, 4, 4, 3, 3, 4, 4, 4, 3, 4, 2, 2, 9, 6, 6, 3, 3, 12, 4, 3, 11, 6, 7, 6, 4, 2, 6, 9, 7, 4, 5, 2, 5, 4, 10, 6, 5, 5, 3, 4, 6, 3, 8, 6, 8, 3, 5, 2, 5, 4, 5, 5, 5, 4, 7, 2, 8, 6, 2, 6, 3, 6, 4, 8, 8, 5, 4, 9, 3, 8, 9, 9, 5, 5, 4, 4, 6, 6, 13, 13, 13, 13, 3, 6, 3, 6, 4, 7, 12, 7, 10, 6, 3, 7, 4, 5, 6, 5, 3, 3, 8, 6, 1, 4, 5, 4, 2, 2, 2, 3, 3, 6, 2, 7, 7, 6, 12, 9, 3, 7, 10, 9, 7, 9, 3, 5, 5, 4, 4, 7, 8, 8, 6, 6, 4, 4, 5, 5, 9, 10, 5, 4, 4, 9, 11, 5, 12, 3, 3, 2, 4, 4, 5, 13, 13, 5, 6, 6, 6, 8, 6, 6, 6, 7, 7, 7, 6, 6, 4, 4, 6, 7, 1, 6, 8, 8, 4, 4, 4, 4, 4, 2, 8, 8, 8, 8, 11, 11, 11, 8, 8, 8, 5, 5, 5, 5, 4, 2, 9, 9, 4, 4, 8, 8, 7, 3, 12, 4, 3, 8, 8, 8, 5, 5, 8, 11, 11, 11, 11, 7, 9, 7, 9, 6, 11, 6, 12, 3, 5, 5, 5, 5, 5, 5, 5, 5, 6, 2, 3, 1, 6, 3, 4, 6, 5, 2, 4, 5, 5, 4, 5, 1, 3, 6, 1, 9, 9, 4, 5, 6, 6, 4, 3, 3, 5, 8, 5, 4, 6, 10, 5, 5, 5, 5, 5, 5, 7, 7, 3, 3, 3, 3, 5, 3, 7, 3, 1, 8, 3, 8, 5, 5, 5, 3, 1, 6, 6, 6, 6, 5, 5, 5, 5, 2, 7, 4, 6, 4, 2, 2, 4, 4, 4, 10, 10, 10, 3, 3, 4, 3, 6, 9, 7, 5, 7, 7, 7, 11, 3, 8, 4, 6, 4, 4, 3, 6, 3, 3, 7, 7, 4, 4, 3, 6, 4, 2, 2, 2, 3, 5, 5, 8, 8, 8, 8, 8, 12, 3, 3, 5, 7, 5, 3, 3, 6, 6, 6, 4, 4, 4, 5, 5, 11, 6, 5, 4, 6, 7, 4, 2, 3, 6, 4, 4, 4, 9, 9, 9, 1, 3, 6, 6, 6, 6, 6, 10, 10, 10, 10, 4, 4, 4, 4, 4, 4, 4, 4, 4, 4, 6, 6, 6, 10, 10, 7, 6, 3, 3, 7, 8, 8, 9, 4, 4, 3, 3, 4, 4, 4, 9, 1, 6, 10, 7, 9, 1, 12, 7, 10, 8, 8, 7, 7, 2, 3, 3, 4, 4, 7, 7, 7, 7, 6, 5, 4, 4, 5, 5, 5, 1, 11, 5, 12, 8, 9, 5, 15, 5, 7, 7, 9, 10, 6, 11, 6, 11, 3, 13, 12, 9, 4, 1, 4, 9, 14, 4, 4, 8, 5, 7, 5, 8, 8, 9, 5, 13, 13, 13, 13, 13, 1, 6, 6, 9, 9, 4, 2, 5, 11, 3, 6, 8, 8, 5, 7, 5, 10, 3, 2, 5, 8, 6, 9, 4, 2, 2, 5, 1, 3, 5, 5, 3, 4, 4, 3, 5, 3, 4, 3, 7, 7, 7, 7, 7, 5, 11, 3, 5, 5, 5, 5, 5, 6, 6, 3, 5, 3, 3, 6, 12, 12, 12, 12, 1, 4, 4, 5, 5, 6, 2, 5, 6, 13, 5, 2, 5, 5, 3, 3, 2, 3, 3, 3, 3, 3, 4, 4, 4, 4, 2, 5, 6, 2, 2, 2, 10, 9, 9, 9, 9, 9, 3, 3, 5, 9, 9, 9, 9, 9, 4, 4, 5, 5, 7, 7, 7, 2, 3, 4, 7, 5, 2, 5, 5, 8, 8, 1, 4, 4, 6, 4, 7, 7, 7, 5, 5, 2, 2, 13, 7, 10, 4, 8, 3, 8, 4, 7, 4, 3, 7, 4, 4, 10, 12, 7, 5, 6, 3, 2, 4, 4, 4, 4, 4, 4, 6, 6, 6, 6, 9, 9, 6, 5, 15, 4, 10, 10, 9, 9, 9, 9, 6, 12, 12, 12, 12, 12, 8, 8, 8, 8, 6, 6, 6, 6, 8, 8, 8, 7, 7, 7, 8, 7, 3, 8, 8, 2, 8, 6, 6, 7, 7, 8, 8, 8, 7, 7, 3, 4, 4, 1, 14, 14, 14, 14, 12, 12, 12, 12, 12, 12, 12, 9, 9, 9, 9, 9, 4, 8, 2, 12, 13, 8, 6, 9, 8, 7, 8, 5, 6, 6, 3, 3, 3, 8, 3, 7, 3, 3, 3, 4, 5, 5, 11, 7, 7, 3, 7, 5, 5, 4, 7, 7, 7, 7, 7, 7, 9, 9, 13, 13, 5, 5, 7, 5, 6, 5, 5, 2, 2, 8, 8, 8, 9, 9, 9, 9, 11, 7, 7, 7, 7, 4, 5, 9, 6, 4, 4, 11, 6, 3, 5, 5, 4, 13, 11, 9, 8, 1, 8, 3, 8, 3, 4, 4, 5, 4, 6, 7, 9, 5, 2, 2, 8, 11, 8, 6, 6, 4, 7, 5, 5, 5, 5, 4, 8, 8, 8, 8, 8, 7, 7, 2, 5, 5, 3, 11, 11, 8, 10, 9, 9, 9, 9, 11, 8, 8, 9, 3, 11, 8, 10, 6, 12, 3, 4, 14, 16, 8, 8, 8, 8, 8, 6, 6, 6, 2, 2, 2, 10, 8, 7, 9, 3, 5, 2, 13, 4, 5, 8, 4, 10, 13, 10, 10, 10, 10, 15, 8, 7, 8, 7, 7, 6, 5, 5, 3, 5, 7, 5, 9, 9, 10, 6, 6, 9, 9, 9, 9, 6, 6, 5, 5, 2, 8, 12, 7, 10, 10, 7, 7, 9, 3, 10, 3, 8, 7, 5, 3, 13, 13, 13, 13, 13, 7, 9, 6, 11, 11, 13, 13, 13, 13, 5, 5, 12, 13, 13, 13, 7, 7, 7, 2, 8, 8, 8, 8, 10, 12, 5, 8, 10, 6, 11, 13, 13, 9, 9, 9, 9, 9, 9, 3, 3, 2, 6, 6, 7, 7, 7, 7, 4, 4, 8, 8, 15, 13, 10, 9, 13, 2, 2, 3, 3, 3, 9, 6, 10, 3, 3, 4, 4, 4, 3, 7, 8, 12, 6, 6, 8, 8, 9, 9, 10, 6, 6, 5, 5, 5, 6, 6, 5, 11, 4, 5, 7, 13, 6, 2, 3, 3, 6, 6, 11, 11, 11, 11, 4, 4, 4, 4, 4, 3, 3, 3, 11, 3, 3, 3, 5, 5, 4, 4, 8, 8, 11, 5, 15, 14, 6, 1, 9, 9, 9, 9, 9, 6, 6, 6, 6, 6, 8, 8, 8, 8, 6, 6, 6, 6, 6, 3, 2, 2, 7, 14, 1, 9, 8, 7, 7, 7, 7, 5, 5, 8, 2, 4, 9, 10, 22, 13, 12, 2, 15, 2, 8, 8, 8, 8, 3, 3, 3, 5, 8, 8, 6, 6, 6, 9, 9, 9, 9, 1, 7, 6, 6, 4, 6, 4, 6, 6, 7, 8, 13, 9, 9, 9, 9, 9, 14, 14, 14, 14, 14, 14, 14, 14, 8, 7, 7, 1, 8, 4, 4, 4, 10, 6, 6, 9, 6, 6, 4, 4, 10, 10, 10, 10, 10, 10, 3, 8, 8, 8, 10, 10, 6, 6, 5, 5, 1, 9, 11, 11, 11, 5, 5, 5, 14, 14, 14, 14, 14, 14, 11, 7, 10, 8, 8, 12, 12, 12, 12, 12, 12, 12, 7, 7, 20, 20, 20, 20, 20, 20, 11, 8, 8, 8, 8, 16, 16, 16, 16, 10, 22, 8, 6, 7, 7, 7, 3, 9, 7, 7, 2, 14, 14, 9, 5, 2, 10, 10, 10, 8, 8, 3, 3, 4, 4, 13, 3, 2, 6, 4, 7, 9, 15, 5, 4, 8, 8, 4, 6, 8, 15, 5, 8, 5, 5, 8, 7, 7, 7, 7, 3, 8, 10, 2, 5, 5, 2, 2, 7, 11, 6, 9, 9, 9, 7, 6, 8, 8, 8, 17, 17, 17, 17, 8, 7, 9, 6, 6, 6, 6, 6, 7, 7, 7, 10, 7, 5, 8, 5, 11, 5, 13, 13, 13, 13, 13, 13, 6, 5, 5, 4, 3, 3, 16, 7, 2, 5, 4, 4, 4, 4, 6, 6, 4, 2, 5, 10, 4, 11, 6, 4, 4, 4, 2, 11, 3, 3, 5, 5, 5, 3, 2, 10, 10, 4, 6, 4, 3, 8, 11, 11, 11, 8, 8, 5, 4, 6, 13, 6, 6, 6, 3, 10, 5, 8, 7, 9, 4, 3, 9, 7, 9, 9, 9, 9, 4, 5, 5, 5, 4, 4, 6, 2, 2, 12, 7, 6, 6, 6, 6, 6, 4, 4, 4, 10, 6, 6, 2, 5, 7, 7, 4, 5, 1, 1, 7, 4, 9, 3, 6, 5, 6, 8, 7, 11, 5, 3, 6, 3, 7, 2, 5, 6, 8, 4, 8, 6, 4, 8, 7, 5, 5, 5, 5, 11, 11, 11, 11, 11, 6, 6, 6, 3, 13, 13, 13, 13, 2, 3, 2, 13, 12, 4, 3, 5, 3, 8, 3, 12, 5, 7, 7, 7, 7, 7, 7, 7, 7, 4, 4, 4, 2, 10, 10, 8, 10, 4, 5, 9, 6, 6, 6, 6, 5, 8, 5, 8, 11, 4, 5, 6, 3, 3, 8, 11, 10, 5, 7, 10, 7, 6, 6, 12, 7, 7, 7, 6, 4, 4, 12, 12, 12, 3, 7, 3, 3, 10, 3, 2, 6, 8, 6, 10, 7, 6, 5, 5, 5, 10, 7, 6, 7, 9, 9, 7, 3, 8, 7, 8, 8, 8, 2, 8, 6, 3, 4, 10, 19, 6, 6, 7, 7, 8, 12, 3, 6, 2, 4, 2, 8, 8, 1, 11, 6, 1, 7, 8, 11, 5, 5, 5, 7, 3, 5, 5, 5, 5, 4, 3, 10, 10, 7, 3, 3, 3, 7, 5, 9, 9, 7, 7, 7, 5, 7, 4, 10, 7, 2, 2, 2, 6, 12, 3, 5, 6, 3, 3, 5, 2, 6, 7, 14, 8, 8, 9, 9, 9, 13, 13, 13, 13, 13, 7, 9, 8, 8, 11, 11, 15, 5, 6, 4, 8, 8, 8, 8, 3, 9, 6, 6, 4, 6, 13, 9, 8, 5, 4, 7, 15, 12, 6, 6, 4, 13, 11, 10, 8, 5, 6, 10, 4, 4, 11, 11, 8, 1, 11, 11, 11, 3, 5, 10, 9, 10, 4, 1, 4, 2, 5, 6, 3, 5, 6, 4, 6, 6, 3, 5, 1, 7, 4, 3, 6, 5, 5, 10, 1, 12, 12, 12, 11, 11, 11, 11, 11, 9, 9, 9, 9, 9, 9, 9, 11, 11, 11, 11, 5, 6, 5, 5, 5, 1, 6, 6, 3, 9, 2, 2, 6, 2, 4, 8, 12, 1, 2, 5, 6, 7, 4, 11, 11, 5, 3, 11, 3, 12, 6, 6, 6, 3, 6, 3, 6, 6, 14, 6, 5, 8, 7, 7, 2, 3, 19, 9, 5, 5, 1, 2, 2, 4, 8, 9, 3, 9, 7, 3, 6, 3, 6, 9, 8, 6, 7, 7, 5, 5, 8, 8, 8, 7, 2, 8, 8, 5, 3, 14, 6, 7, 11, 7, 4, 1, 6, 7, 5, 5, 14, 9, 8, 8, 7, 6, 6, 7, 5, 3, 2, 7, 4, 2, 16, 16, 16, 16, 16, 5, 15, 7, 5, 13, 13, 13, 10, 10, 10, 2, 6, 3, 2, 2, 7, 13, 8, 4, 4, 5, 2, 5, 5, 4, 4, 6, 6, 1, 4, 4, 7, 3, 4, 7, 7, 3, 4, 3, 3, 5, 9, 13, 7, 6, 9, 3, 4, 11, 2, 3, 6, 12, 7, 9, 10, 3, 3, 6, 6, 4, 2, 4, 4, 12, 12, 12, 12, 3, 4, 4, 5, 4, 9, 5, 5, 11, 4, 4, 3, 4, 2, 7, 9, 12, 5, 6, 9, 5, 6, 9, 9, 9, 7, 6, 6, 7, 6, 13, 4, 1, 3, 2, 4, 2, 4, 6, 6, 2, 5, 5, 4, 4, 5, 7, 7, 1, 10, 10, 10, 6, 6, 5, 2, 2, 7, 7, 4, 5, 2, 6, 6, 6, 6, 4, 13, 7, 7, 7, 7, 3, 3, 3, 3, 9, 9, 9, 3, 5, 2, 11, 9, 5, 6, 6, 18, 18, 8, 2, 4, 2, 10, 5, 8, 8, 5, 7, 7, 12, 5, 8, 7, 7, 6, 6, 6, 6, 9, 9, 9, 7, 7, 7, 7, 7, 7, 7, 9, 4, 5, 7, 9, 9, 7, 5, 11, 4, 7, 6, 7, 11, 7, 5, 5, 8, 6, 8, 3, 8, 8, 8, 8, 8, 8, 8, 8, 4, 15, 7, 8, 5, 6, 5, 7, 6, 4, 9, 10, 5, 14, 10, 6, 12, 14, 14, 5, 10, 10, 10, 10, 3, 7, 8, 7, 3, 7, 10, 8, 4, 4, 7, 7, 3, 7, 5, 12, 3, 8, 6, 4, 4, 6, 6, 6, 7, 5, 4, 4, 9, 9, 3, 9, 5, 1, 4, 6, 6, 6, 2, 22, 7, 7, 1, 9, 5, 5, 5, 6, 6, 6, 5, 5, 10, 7, 3, 5, 7, 5, 4, 4, 4, 6, 6, 12, 6, 6, 6, 6, 3, 3, 3, 3, 3, 3, 9, 8, 2, 5, 5, 11, 7, 8, 5, 5, 6, 7, 5, 5, 5, 10, 10, 10, 10, 15, 12, 7, 10, 6, 6, 5, 5, 7, 6, 6, 5, 5, 12, 12, 12, 5, 3, 3, 7, 8, 4, 8, 4, 8, 8, 8, 8, 5, 12, 4, 5, 5, 4, 16, 8, 8, 4, 7, 11, 11, 4, 4, 4, 4, 4, 6, 22, 22, 11, 3, 11, 11, 2, 2, 3, 5, 10, 10, 15, 1, 7, 9, 11, 4, 4, 8, 4, 2, 6, 10, 8, 3, 3, 12, 6, 12, 12, 4, 4, 5, 5, 6, 2, 2, 6, 4, 5, 5, 8, 8, 8, 9, 9, 7, 5, 5, 4, 7, 4, 4, 4, 3, 9, 8, 11, 7, 7, 5, 6, 6, 8, 7, 3, 6, 6, 2, 10, 7, 7, 8, 8, 8, 8, 8, 3, 3, 5, 4, 8, 4, 4, 5, 11, 4, 3, 5, 6, 2, 3, 5, 5, 8, 8, 5, 5, 6, 11, 7, 6, 13, 13, 11, 11, 8, 8, 1, 9, 7, 10, 10, 5, 5, 5, 6, 4, 12, 10, 6, 6, 3, 13, 13, 13, 5, 5, 2, 2, 3, 3, 2, 2, 6, 4, 4, 10, 10, 10, 12, 10, 6, 5, 6, 6, 4, 4, 5, 4, 4, 10, 10, 19, 4, 3, 4, 5, 10, 10, 12, 6, 2, 10, 10, 10, 10, 10, 5, 9, 3, 9, 9, 10, 2, 2, 5, 10, 10, 10, 2, 4, 4, 3, 3, 7, 10, 9, 6, 7, 4, 4, 1, 4, 7, 4, 7, 7, 7, 7, 3, 3, 3, 6, 6, 6, 6, 2, 16, 7, 12, 6, 7, 5, 5, 5, 5, 8, 8, 8, 8, 8, 8, 8, 9, 2, 9, 8, 8, 8, 8, 5, 6, 6, 6, 6, 6, 6, 3, 10, 10, 10, 11, 13, 11, 6, 3, 6, 4, 2, 7, 7, 4, 9, 9, 9, 9, 4, 4, 5, 5, 5, 2, 3, 4, 4, 2, 7, 12, 5, 14, 8, 4, 4, 10, 4, 10, 7, 7, 7, 7, 7, 4, 4, 4, 9, 9, 4, 4, 1, 6, 8, 5, 11, 5, 11, 7, 3, 11, 11, 10, 16, 4, 5, 7, 8, 8, 6, 4, 5, 10, 8, 6, 13, 3, 8, 8, 7, 7, 9, 9, 9, 7, 7, 9, 9, 10, 3, 6, 8, 4, 5, 8, 6, 7, 7, 6, 8, 6, 3, 6, 9, 9, 9, 9, 3, 8, 3, 7, 22, 6, 4, 3, 3, 3, 2, 7, 7, 7, 3, 3, 11, 11, 11, 11, 11, 3, 10, 10, 10, 10, 9, 5, 3, 5, 8, 8, 8, 8, 3, 9, 9, 9, 3, 3, 1, 8, 9, 9, 9, 9, 12, 12, 12, 9, 9, 6, 6, 11, 11, 5, 5, 5, 5, 13, 6, 3, 14, 4, 7, 7, 7, 7, 6, 6, 2, 6, 7, 7, 6, 5, 7, 11, 7, 11, 11, 11, 3, 3, 3, 6, 6, 6, 6, 3, 3, 8, 4, 9, 6, 12, 7, 8, 8, 8, 8, 4, 8, 9, 12, 8, 8, 11, 6, 6, 3, 2, 2, 8, 6, 11, 12, 6, 6, 3, 3, 4, 4, 7, 7, 6, 6, 4, 5, 5, 5, 7, 5, 3, 9, 6, 4, 9, 11, 18, 14, 4, 4, 8, 2, 8, 9, 11, 12, 11, 7, 7, 13, 13, 11, 10, 2, 5, 8, 2, 1, 3, 9, 6, 6, 6, 2, 8, 8, 9, 9, 9, 9, 11, 5, 5, 6, 6, 2, 2, 5, 5, 4, 4, 9, 6, 5, 5, 5, 5, 5, 1, 12, 12, 7, 14, 8, 17, 5, 6, 10, 9, 8, 10, 15, 8, 7, 10, 5, 11, 8, 10, 10, 5, 4, 9, 6, 3, 3, 4, 4, 4, 4, 9, 6, 6, 5, 3, 3, 8, 8, 6, 6, 2, 3, 3, 6, 7, 6, 6, 12, 4, 8, 4, 4, 3, 3, 5, 4, 4, 2, 3, 3, 3, 7, 8, 8, 3, 4, 4, 4, 1, 2, 7, 5, 5, 7, 11, 11, 6, 4, 4, 4, 4, 4, 4, 8, 5, 6, 7, 11, 5, 9, 13, 3, 7, 7, 11, 13, 5, 11, 4, 4, 4, 4, 12, 7, 11, 11, 8, 13, 3, 8, 13, 15, 6, 12, 13, 10, 10, 4, 4, 4, 4, 3, 9, 9, 3, 9, 4, 10, 3, 5, 5, 8, 8, 8, 12, 10, 14, 4, 4, 4, 13, 5, 5, 5, 6, 10, 13, 12, 16, 8, 8, 8, 8, 7, 7, 7, 7, 7, 7, 4, 3, 8, 8, 8, 8, 8, 8, 8, 6, 9, 9, 9, 2, 10, 10, 12, 12, 1, 5, 11, 5, 4, 4, 9, 4, 4, 1, 14, 15, 10, 6, 11, 10, 9, 12, 15, 4, 8, 11, 4, 2, 2, 10, 6, 9, 5, 9, 11, 18, 9, 14, 6, 7, 2, 4, 8, 3, 4, 7, 8, 2, 5, 11, 8, 8, 9, 9, 8, 9, 4, 2, 2, 10, 2, 10, 10, 10, 5, 8, 5, 6, 13, 11, 12, 9, 3, 9, 6, 12, 4, 3, 8, 7, 6, 4, 8, 7, 5, 8, 9, 12, 2, 4, 1, 2, 2, 9, 7, 6, 6, 6, 6, 7, 7, 4, 2, 4, 2, 6, 5, 11, 6, 3, 14, 11, 5, 3, 8, 9, 9, 5, 7, 12, 12, 6, 4, 6, 6, 6, 2, 3, 9, 6, 17, 17, 17, 17, 17, 8, 7, 4, 4, 6, 8, 13, 3, 6, 4, 8, 4, 7, 9, 5, 5, 6, 6, 5, 2, 2, 7, 8, 5, 15, 8, 4, 4, 8, 5, 11, 11, 7, 8, 8, 9, 9, 9, 9, 13, 13, 13, 13, 5, 5, 10, 10, 10, 8, 9, 5, 13, 11, 9, 5, 12, 11, 3, 6, 6, 4, 5, 5, 5, 7, 11, 6, 6, 6, 6, 10, 10, 11, 11, 11, 11, 11, 11, 11, 11, 8, 8, 8, 7, 16, 13, 9, 10, 10, 5, 5, 5, 5, 9, 9, 9, 8, 8, 8, 8, 8, 8, 8, 8, 8, 8, 4, 7, 9, 9, 7, 10, 5, 5, 9, 9, 9, 7, 7, 10, 4, 4, 4, 3, 3, 7, 3, 8, 7, 3, 3, 7, 7, 5, 7, 7, 7, 9, 4, 4, 8, 10, 11, 5, 9, 9, 1, 3, 3, 2, 1, 2, 4, 4, 4, 3, 4, 5, 5, 4, 4, 3, 4, 4, 2, 6, 6, 5, 6, 6, 5, 5, 3, 3, 7, 7, 7, 7, 7, 6, 6, 6, 5, 15, 8, 11, 5, 13, 6, 3, 9, 9, 9, 9, 5, 9, 9, 7, 9, 12, 12, 3, 7, 7, 6, 9, 8, 10, 10, 10, 10, 6, 7, 12, 12, 4, 7, 9, 9, 6, 10, 8, 8, 8, 8, 8, 6, 6, 9, 9, 9, 9, 4, 4, 5, 7, 5, 10, 11, 7, 7, 7, 7, 7, 7, 4, 5, 5, 5, 5, 16, 16, 16, 6, 6, 6, 7, 7, 7, 3, 3, 4, 5, 5, 3, 5, 5, 5, 6, 6, 6, 9, 9, 9, 9, 4, 4, 8, 5, 5, 9, 9, 9, 3, 2, 2, 5, 5, 5, 5, 5, 8, 5, 5, 2, 2, 5, 13, 4, 2, 2, 1, 12, 6, 5, 5, 15, 15, 15, 7, 8, 6, 6, 11, 12, 9, 11, 7, 12, 12, 4, 4, 5, 6, 5, 10, 6, 8, 3, 8, 6, 4, 2, 3, 3, 2, 5, 2, 2, 7, 4, 7, 10, 10, 12, 12, 6, 6, 12, 5, 11, 5, 6, 8, 8, 4, 6, 6, 10, 7, 4, 9, 4, 4, 5, 9, 9, 8, 2, 5, 5, 4, 5, 3, 8, 3, 9, 7, 11, 5, 2, 11, 11, 3, 5, 5, 6, 8, 15, 15, 15, 5, 9, 3, 3, 3, 16, 6, 10, 10, 10, 8, 4, 11, 6, 6, 8, 8, 8, 8, 6, 10, 7, 5, 5, 6, 13, 8, 11, 11, 4, 7, 8, 8, 5, 8, 8, 7, 7, 5, 5, 5, 2, 2, 12, 12, 12, 5, 5, 7, 7, 7, 4, 2, 4, 4, 7, 7, 4, 4, 2, 6, 6, 7, 2, 8, 10, 2, 11, 6, 9, 3, 9, 12, 11, 6, 8, 5, 6, 9, 10, 5, 5, 3, 11, 11, 11, 10, 10, 10, 10, 13, 6, 7, 13, 5, 9, 9, 5, 3, 1, 3, 6, 4, 7, 9, 9, 13, 6, 6, 5, 4, 4, 1, 2, 2, 2, 9, 4, 4, 9, 4, 3, 7, 7, 5, 5, 11, 11, 11, 11, 6, 6, 6, 9, 7, 6, 8, 9, 6, 6, 10, 10, 9, 5, 8, 9, 10, 3, 3, 3, 10, 4, 4, 9, 9, 10, 5, 7, 11, 7, 3, 9, 10, 11, 11, 11, 11, 9, 9, 9, 9, 9, 7, 6, 6, 5, 6, 16, 6, 13, 3, 1, 2, 2, 5, 3, 13, 13, 8, 6, 6, 14, 10, 13, 10, 8, 5, 8, 3, 7, 8, 4, 4, 4, 4, 4, 13, 3, 4, 4, 9, 9, 9, 9, 9, 9, 9, 3, 10, 10, 7, 5, 8, 8, 10, 1, 8, 5, 9, 6, 6, 4, 5, 7, 4, 4, 7, 6, 1, 6, 8, 6, 6, 6, 10, 6, 6, 5, 5, 4, 4, 6, 6, 14, 10, 4, 1, 8, 6, 6, 6, 3, 7, 5, 4, 1, 5, 9, 2, 5, 3, 3, 3, 7, 7, 1, 1, 2, 5, 7, 5, 13, 7, 6, 6, 6, 2, 3, 3, 4, 4, 4, 8, 5, 12, 7, 17, 9, 9, 10, 4, 4, 2, 6, 6, 6, 5, 3, 13, 1, 2, 1, 3, 4, 2, 6, 4, 4, 3, 3, 1, 5, 6, 11, 11, 10, 2, 9, 4, 4, 12, 14, 9, 10, 7, 7, 7, 7, 2, 2, 4, 4, 4, 5, 12, 9, 9, 3, 3, 7, 7, 7, 2, 8, 2, 4, 4, 4, 4, 2, 8, 12, 4, 4, 2, 2, 7, 7, 6, 6, 5, 11, 7, 7, 5, 12, 10, 2, 3, 8, 8, 4, 4, 7, 7, 9, 6, 5, 6, 3, 6, 11, 13, 18, 6, 6, 6, 6, 6, 2, 5, 5, 3, 4, 6, 6, 4, 5, 12, 6, 7, 8, 8, 10, 11, 7, 3, 10, 9, 9, 9, 9, 4, 4, 7, 7, 8, 8, 8, 8, 8, 3, 13, 4, 9, 8, 9, 10, 9, 9, 9, 10, 11, 11, 11, 1, 15, 7, 7, 10, 10, 9, 6, 5, 11, 10, 10, 10, 15, 7, 13, 10, 6, 8, 8, 8, 11, 11, 8, 8, 11, 12, 8, 9, 10, 6, 7, 9, 3, 7, 8, 7, 7, 7, 9, 5, 5, 9, 8, 3, 9, 3, 9, 9, 9, 9, 5, 5, 5, 7, 7, 7, 2, 4, 4, 5, 4, 2, 2, 5, 7, 9, 6, 6, 8, 7, 10, 5, 6, 6, 4, 7, 5, 13, 5, 6, 10, 10, 10, 10, 9, 9, 4, 4, 11, 7, 4, 6, 6, 6, 6, 11, 9, 5, 11, 6, 5, 7, 1, 9, 15, 6, 6, 6, 8, 8, 8, 11, 11, 7, 5, 10, 5, 8, 14, 2, 6, 9, 15, 5, 9, 9, 9, 9, 9, 5, 2, 2, 2, 9, 9, 9, 6, 3, 6, 10, 6, 7, 11, 3, 9, 8, 8, 6, 4, 6, 8, 6, 6, 11, 7, 5, 9, 12, 6, 8, 8, 6, 10, 4, 4, 4, 7, 7, 9, 9, 9, 8, 11, 7, 4, 9, 5, 5, 4, 4, 11, 9, 9, 9, 5, 5, 5, 7, 7, 7, 3, 4, 4, 12, 12, 12, 12, 12, 12, 12, 12, 6, 6, 6, 6, 6, 6, 5, 9, 9, 9, 6, 3, 9, 3, 3, 11, 14, 14, 11, 11, 11, 11, 4, 15, 2, 15, 9, 6, 9, 9, 16, 10, 4, 10, 10, 11, 11, 4, 3, 3, 13, 12, 9, 9, 6, 1, 2, 4, 10, 10, 8, 8, 8, 8, 5, 5, 5, 11, 11, 9, 9, 3, 3, 8, 8, 8, 6, 7, 8, 9, 11, 6, 6, 9, 7, 6, 15, 15, 5, 5, 5, 3, 6, 6, 5, 5, 9, 4, 4, 13, 13, 3, 6, 6, 4, 4, 7, 9, 7, 6, 9, 6, 5, 8, 9, 9, 10, 10, 10, 10, 10, 5, 6, 6, 6, 6, 6, 4, 4, 16, 7, 10, 10, 2, 10, 3, 6, 11, 11, 11, 11, 3, 3, 3, 3, 3, 6, 6, 2, 6, 6, 9, 9, 9, 9, 6, 15, 11, 13, 6, 6, 14, 15, 15, 3, 1, 6, 5, 2, 6, 10, 8, 8, 8, 8, 4, 4, 9, 8, 8, 8, 11, 7, 4, 5, 2, 5, 5, 5, 7, 7, 7, 7, 3, 2, 4, 4, 4, 4, 5, 4, 3, 4, 4, 4, 7, 7, 7, 13, 11, 4, 7, 5, 5, 5, 5, 5, 6, 6, 9, 9, 9, 9, 7, 5, 2, 8, 7, 4, 4, 5, 6, 6, 7, 7, 7, 7, 7, 9, 5, 11, 11, 11, 7, 5, 3, 8, 8, 12, 12, 13, 4, 4, 5, 5, 4, 7, 5, 4, 4, 4, 2, 2, 3, 3, 2, 2, 7, 6, 6, 9, 7, 4, 7, 11, 4, 4, 5, 5, 8, 8, 8, 8, 6, 3, 7, 7, 2, 8, 5, 9, 9, 9, 6, 6, 6, 3, 4, 4, 6, 15, 3, 3, 5, 5, 9, 13, 7, 2, 5, 5, 5, 4, 4, 3, 6, 6, 6, 4, 2, 2, 6, 7, 4, 4, 6, 6, 7, 11, 5, 6, 4, 11, 11, 5, 7, 7, 7, 5, 5, 8, 8, 8, 4, 14, 7, 5, 7, 5, 7, 7, 7, 7, 7, 3, 3, 7, 7, 7, 7, 5, 5, 3, 8, 8, 10, 6, 6, 4, 5, 1, 9, 4, 5, 11, 11, 5, 7, 5, 5, 3, 3, 5, 7, 7, 3, 3, 3, 10, 7, 7, 6, 9, 9, 9, 3, 4, 5, 4, 5, 11, 6, 6, 6, 6, 6, 3, 3, 5, 5, 5, 2, 7, 7, 7, 7, 7, 3, 7, 6, 6, 9, 9, 9, 9, 9, 4, 8, 8, 6, 8, 8, 10, 10, 11, 11, 11, 8, 8, 8, 5, 5, 11, 11, 11, 2, 4, 6, 2, 3, 3, 4, 2, 5, 6, 8, 4, 12, 11, 2, 7, 8, 11, 7, 6, 4, 11, 6, 10, 5, 6, 6, 5, 5, 6, 5, 4, 6, 6, 10, 1, 4, 8, 8, 8, 8, 7, 7, 7, 4, 4, 6, 4, 4, 4, 4, 3, 8, 19, 7, 14, 10, 8, 8, 8, 8, 8, 6, 4, 10, 8, 10, 2, 6, 4, 9, 7, 10, 3, 3, 2, 4, 8, 8, 7, 5, 6, 4, 19, 4, 12, 13, 6, 3, 10, 7, 4, 5, 10, 4, 4, 4, 4, 5, 8, 3, 4, 8, 7, 5, 4, 4, 4, 10, 7, 7, 7, 7, 7, 9, 9, 9, 8, 3, 12, 12, 7, 6, 8, 7, 9, 6, 6, 1, 5, 3, 8, 6, 6, 5, 15, 15, 15, 12, 12, 4, 3, 10, 10, 6, 5, 8, 4, 4, 4, 4, 3, 3, 16, 16, 16, 16, 16, 9, 9, 4, 4, 4, 7, 7, 2, 3, 7, 3, 11, 5, 5, 8, 9, 1, 7, 7, 2, 5, 3, 8, 5, 7, 7, 7, 1, 8, 8, 8, 7, 7, 7, 6, 2, 8, 8, 10, 9, 9, 7, 7, 7, 8, 8, 8, 8, 2, 2, 8, 8, 8, 1, 9, 9, 7, 7, 7, 11, 11, 11, 4, 3, 5, 12, 5, 5, 8, 8, 8, 3, 5, 5, 5, 5, 5, 12, 12, 3, 8, 4, 10, 3, 3, 5, 7, 12, 3, 7, 5, 8, 10, 1, 6, 3, 11, 9, 8, 4, 10, 10, 6, 3, 2, 6, 13, 10, 10, 9, 9, 6, 8, 8, 7, 7, 7, 7, 6, 6, 6, 2, 10, 10, 5, 5, 5, 10, 10, 10, 15, 15, 1, 5, 8, 6, 10, 7, 5, 5, 7, 7, 2, 2, 3, 2, 3, 6, 7, 3, 6, 6, 1, 2, 4, 12, 8, 13, 7, 4, 3, 7, 4, 5, 7, 6, 7, 3, 3, 2, 5, 8, 7, 7, 7, 8, 8, 7, 6, 6, 4, 4, 8, 8, 8, 3, 10, 10, 3, 8, 8, 8, 8, 11, 11, 11, 6, 6, 6, 10, 9, 6, 6, 6, 6, 7, 13, 6, 4, 10, 8, 2, 8, 8, 8, 11, 11, 11, 11, 11, 2, 1, 7, 5, 5, 5, 4, 4, 4, 7, 11, 11, 3, 3, 5, 5, 7, 11, 4, 5, 6, 4, 4, 5, 5, 5, 5, 12, 12, 12, 12, 12, 12, 12, 5, 5, 4, 4, 9, 11, 11, 3, 3, 4, 12, 10, 9, 3, 3, 5, 8, 9, 10, 6, 2, 3, 8, 19, 8, 7, 13, 6, 9, 14, 14, 6, 6, 8, 8, 16, 2, 2, 2, 7, 7, 5, 5, 13, 15, 8, 9, 6, 6, 6, 5, 6, 6, 6, 6, 7, 5, 5, 15, 6, 3, 5, 5, 3, 3, 3, 7, 6, 6, 6, 3, 2, 2, 4, 4, 6, 6, 6, 2, 2, 4, 2, 2, 2, 4, 3, 7, 7, 1, 3, 3, 2, 4, 4, 7, 7, 7, 4, 4, 7, 7, 6, 6, 6, 6, 11, 11, 11, 11, 11, 3, 3, 9, 9, 9, 9, 22, 14, 10, 6, 9, 12, 9, 17, 6, 7, 7, 9, 10, 5, 11, 6, 6, 6, 9, 9, 9, 7, 7, 12, 7, 7, 7, 2, 4, 5, 3, 3, 4, 4, 8, 8, 8, 8, 5, 13, 7, 10, 10, 10, 7, 12, 11, 15, 15, 7, 6, 8, 8, 8, 8, 11, 11, 11, 1, 17, 10, 6, 6, 7, 6, 4, 4, 8, 15, 5, 5, 10, 6, 6, 11, 11, 11, 5, 17, 17, 17, 17, 17, 11, 11, 11, 11, 3, 3, 3, 6, 6, 6, 6, 9, 14, 14, 14, 14, 11, 7, 7, 5, 8, 9, 9, 9, 9, 2, 4, 4, 1, 7, 12, 12, 12, 12, 12, 12, 11, 5, 11, 6, 12, 13, 4, 4, 4, 8, 8, 8, 8, 8, 7, 7, 4, 8, 8, 8, 6, 6, 6, 10, 10, 10, 16, 16, 16, 10, 10, 10, 10, 10, 10, 9, 9, 11, 11, 11, 11, 11, 11, 4, 5, 13, 9, 10, 3, 4, 4, 4, 8, 12, 12, 5, 5, 3, 3, 2, 4, 4, 8, 8, 7, 7, 4, 4, 10, 7, 11, 10, 13, 7, 8, 8, 8, 10, 10, 10, 10, 10, 10, 12, 12, 12, 8, 8, 8, 11, 11, 5, 5, 5, 4, 3, 9, 7, 9, 10, 11, 10, 8, 5, 5, 5, 5, 6, 6, 8, 5, 9, 9, 7, 13, 13, 8, 7, 7, 7, 7, 10, 10, 10, 10, 10, 10, 3, 3, 4, 4, 5, 5, 5, 6, 4, 6, 6, 6, 8, 8, 7, 11, 2, 4, 3, 3, 4, 4, 4, 7, 7, 7, 11, 11, 11, 7, 7, 9, 9, 9, 9, 13, 9, 13, 11, 9, 10, 8, 7, 3, 5, 5, 8, 9, 5, 5, 5, 15, 11, 14, 7, 7, 7, 5, 5, 8, 4, 4, 4, 3, 6, 2, 4, 4, 15, 8, 13, 12, 10, 2, 6, 6, 6, 6, 6, 5, 4, 4, 3, 5, 5, 5, 4, 7, 11, 11, 11, 9, 9, 2, 5, 2, 5, 7, 7, 12, 12, 12, 12, 12, 7, 6, 14, 8, 8, 8, 6, 7, 7, 2, 6, 6, 6, 7, 9, 14, 10, 2, 14, 11, 7, 8, 8, 8, 7, 7, 7, 7, 7, 4, 13, 11, 20, 20, 5, 5, 6, 5, 3, 8, 8, 8, 8, 9, 7, 12, 11, 5, 13, 7, 16, 6, 7, 6, 15, 4, 4, 4, 2, 2, 2, 1, 5, 1, 6, 9, 9, 9, 9, 12, 8, 8, 3, 10, 4, 4, 4, 2, 6, 6, 1, 7, 15, 15, 15, 15, 15, 15, 5, 7, 4, 4, 9, 7, 6, 12, 3, 5, 6, 7, 8, 7, 15, 8, 6, 13, 7, 1, 3, 7, 7, 7, 8, 7, 3, 2, 15, 8, 4, 4, 2, 3, 3, 3, 12, 7, 13, 2, 2, 9, 9, 9, 4, 4, 5, 5, 5, 4, 3, 3, 8, 8, 5, 5, 8, 12, 10, 10, 10, 7, 7, 12, 10, 10, 14, 14, 14, 3, 4, 1, 2, 7, 7, 2, 2, 14, 7, 9, 9, 3, 6, 8, 10, 11, 13, 9, 6, 2, 3, 6, 5, 3, 5, 10, 4, 10, 10, 10, 10, 5, 5, 5, 6, 6, 9, 10, 4, 2, 3, 2, 2, 2, 6, 9, 5, 22, 1, 2, 1, 5, 2, 2, 7, 7, 13, 8, 4, 9, 13, 14, 9, 5, 3, 6, 10, 9, 2, 6, 2, 11, 4, 1, 4, 2, 2, 7, 6, 5, 7, 5, 5, 8, 11, 5, 5, 4, 7, 7, 9, 7, 8, 5, 9, 2, 7, 14, 8, 12, 10, 10, 9, 9, 9, 9, 9, 9, 9, 9, 7, 7, 7, 7, 5, 5, 6, 6, 7, 7, 8, 6, 18, 18, 3, 1, 10, 10, 10, 7, 7, 9, 6, 4, 5, 11, 8, 5, 15, 11, 3, 3, 11, 11, 11, 11, 11, 5, 7, 8, 8, 5, 8, 8, 8, 12, 4, 4, 10, 14, 9, 11, 9, 9, 9, 9, 12, 12, 12, 3, 3, 8, 8, 8, 8, 8, 8, 9, 9, 7, 4, 4, 3, 3, 4, 4, 13, 10, 7, 4, 5, 8, 8, 7, 7, 18, 18, 18, 7, 7, 6, 6, 5, 5, 5, 10, 8, 8, 6, 6, 3, 3, 8, 8, 12, 8, 8, 9, 9, 3, 10, 7, 10, 10, 10, 8, 8, 7, 9, 8, 8, 4, 2, 8, 6, 7, 4, 7, 7, 7, 7, 7, 7, 4, 9, 10, 10, 10, 10, 10, 10, 10, 10, 5, 5, 5, 5, 7, 7, 7, 5, 4, 3, 3, 5, 5, 1, 6, 6, 6, 6, 16, 16, 16, 16, 16, 7, 7, 7, 7, 7, 15, 15, 15, 15, 15, 12, 8, 6, 7, 7, 7, 7, 7, 7, 7, 7, 7, 7, 11, 4, 4, 11, 11, 11, 7, 7, 7, 4, 4, 8, 4, 10, 10, 12, 6, 3, 9, 5, 5, 7, 7, 4, 2, 10, 10, 10, 10, 10, 4, 4, 4, 4, 7, 7, 4, 4, 4, 10, 10, 10, 10, 11, 8, 11, 7, 15, 10, 10, 12, 12, 13, 13, 6, 6, 6, 6, 5, 7, 7, 7, 7, 7, 7, 7, 7, 8, 8, 8, 12, 12, 12, 12, 12, 7, 7, 7, 9, 9, 7, 14, 8, 8, 8, 9, 9, 9, 6, 6, 9, 11, 8, 5, 12, 12, 12, 12, 12, 6, 6, 5, 5, 5, 5, 5, 5, 2, 8, 3, 11, 9, 5, 10, 8, 8, 4, 4, 6, 6, 19, 10, 11, 9, 7, 11, 10, 11, 9, 9, 9, 9, 12, 12, 12, 7, 7, 4, 9, 9, 7, 7, 7, 8, 7, 7, 15, 8, 6, 13, 13, 13, 7, 15, 9, 9, 9, 8, 8, 8, 8, 11, 11, 11, 11, 2, 5, 5, 13, 8, 13, 16, 7, 5, 5, 3, 3, 3, 7, 3, 2, 2, 6, 6, 4, 5, 5, 8, 9, 9, 12, 10, 6, 6, 6, 2, 9, 9, 3, 13, 13, 13, 13, 13, 4, 4, 9, 11, 11, 11, 11, 13, 4, 3, 9, 10, 3, 3, 6, 6, 5, 5, 5, 14, 7, 8, 4, 5, 9, 9, 9, 8, 9, 8, 8, 8, 6, 7, 5, 8, 12, 18, 2, 2, 4, 4, 7, 7, 7, 10, 10, 6, 3, 3, 3, 3, 7, 7, 7, 7, 6, 6, 7, 7, 3, 2, 8, 8, 4, 4, 3, 9, 9, 11, 2, 1, 2, 14, 1, 4, 6, 4, 4, 10, 10, 10, 5, 4, 4, 7, 5, 3, 3, 8, 7, 7, 17, 17, 12, 12, 2, 2, 2, 2, 7, 7, 7, 7, 7, 7, 7, 2, 2, 21, 1, 11, 11, 11, 11, 11, 3, 8, 8, 8, 8, 8, 8, 8, 6, 6, 5, 2, 6, 6, 5, 5, 5, 5, 13, 13, 11, 7, 7, 7, 7, 9, 9, 9, 5, 7, 10, 10, 4, 4, 7, 7, 7, 7, 7, 4, 4, 8, 8, 8, 10, 10, 10, 10, 13, 13, 13, 13, 7, 7, 7, 7, 9, 13, 13, 13, 12, 10, 11, 11, 8, 8, 8, 8, 6, 19, 19, 19, 19, 19, 9, 9, 10, 5, 9, 6, 14, 15, 15, 10, 9, 11, 12, 12, 12, 12, 10, 10, 10, 2, 8, 8, 13, 13, 6, 8, 7, 11, 11, 1, 6, 1, 3, 8, 8, 6, 6, 6, 6, 4, 4, 7, 7, 7, 3, 3, 11, 11, 11, 11, 11, 12, 11, 9, 9, 9, 5, 5, 5, 10, 10, 10, 10, 5, 5, 2, 15, 8, 1, 7, 6, 2, 9, 9, 3, 7, 6, 10, 11, 15, 15, 15, 3, 4, 6, 15, 5, 10, 7, 10, 11, 11, 7, 10, 5, 5, 5, 16, 16, 16, 10, 2, 7, 10, 10, 10, 17, 10, 5, 7, 5]}],\n",
              "                        {\"template\": {\"data\": {\"bar\": [{\"error_x\": {\"color\": \"#2a3f5f\"}, \"error_y\": {\"color\": \"#2a3f5f\"}, \"marker\": {\"line\": {\"color\": \"#E5ECF6\", \"width\": 0.5}}, \"type\": \"bar\"}], \"barpolar\": [{\"marker\": {\"line\": {\"color\": \"#E5ECF6\", \"width\": 0.5}}, \"type\": \"barpolar\"}], \"carpet\": [{\"aaxis\": {\"endlinecolor\": \"#2a3f5f\", \"gridcolor\": \"white\", \"linecolor\": \"white\", \"minorgridcolor\": \"white\", \"startlinecolor\": \"#2a3f5f\"}, \"baxis\": {\"endlinecolor\": \"#2a3f5f\", \"gridcolor\": \"white\", \"linecolor\": \"white\", \"minorgridcolor\": \"white\", \"startlinecolor\": \"#2a3f5f\"}, \"type\": \"carpet\"}], \"choropleth\": [{\"colorbar\": {\"outlinewidth\": 0, \"ticks\": \"\"}, \"type\": \"choropleth\"}], \"contour\": [{\"colorbar\": {\"outlinewidth\": 0, \"ticks\": \"\"}, \"colorscale\": [[0.0, \"#0d0887\"], [0.1111111111111111, \"#46039f\"], [0.2222222222222222, \"#7201a8\"], [0.3333333333333333, \"#9c179e\"], [0.4444444444444444, \"#bd3786\"], [0.5555555555555556, \"#d8576b\"], [0.6666666666666666, \"#ed7953\"], [0.7777777777777778, \"#fb9f3a\"], [0.8888888888888888, \"#fdca26\"], [1.0, \"#f0f921\"]], \"type\": \"contour\"}], \"contourcarpet\": [{\"colorbar\": {\"outlinewidth\": 0, \"ticks\": \"\"}, \"type\": \"contourcarpet\"}], \"heatmap\": [{\"colorbar\": {\"outlinewidth\": 0, \"ticks\": \"\"}, \"colorscale\": [[0.0, \"#0d0887\"], [0.1111111111111111, \"#46039f\"], [0.2222222222222222, \"#7201a8\"], [0.3333333333333333, \"#9c179e\"], [0.4444444444444444, \"#bd3786\"], [0.5555555555555556, \"#d8576b\"], [0.6666666666666666, \"#ed7953\"], [0.7777777777777778, \"#fb9f3a\"], [0.8888888888888888, \"#fdca26\"], [1.0, \"#f0f921\"]], \"type\": \"heatmap\"}], \"heatmapgl\": [{\"colorbar\": {\"outlinewidth\": 0, \"ticks\": \"\"}, \"colorscale\": [[0.0, \"#0d0887\"], [0.1111111111111111, \"#46039f\"], [0.2222222222222222, \"#7201a8\"], [0.3333333333333333, \"#9c179e\"], [0.4444444444444444, \"#bd3786\"], [0.5555555555555556, \"#d8576b\"], [0.6666666666666666, \"#ed7953\"], [0.7777777777777778, \"#fb9f3a\"], [0.8888888888888888, \"#fdca26\"], [1.0, \"#f0f921\"]], \"type\": \"heatmapgl\"}], \"histogram\": [{\"marker\": {\"colorbar\": {\"outlinewidth\": 0, \"ticks\": \"\"}}, \"type\": \"histogram\"}], \"histogram2d\": [{\"colorbar\": {\"outlinewidth\": 0, \"ticks\": \"\"}, \"colorscale\": [[0.0, \"#0d0887\"], [0.1111111111111111, \"#46039f\"], [0.2222222222222222, \"#7201a8\"], [0.3333333333333333, \"#9c179e\"], [0.4444444444444444, \"#bd3786\"], [0.5555555555555556, \"#d8576b\"], [0.6666666666666666, \"#ed7953\"], [0.7777777777777778, \"#fb9f3a\"], [0.8888888888888888, \"#fdca26\"], [1.0, \"#f0f921\"]], \"type\": \"histogram2d\"}], \"histogram2dcontour\": [{\"colorbar\": {\"outlinewidth\": 0, \"ticks\": \"\"}, \"colorscale\": [[0.0, \"#0d0887\"], [0.1111111111111111, \"#46039f\"], [0.2222222222222222, \"#7201a8\"], [0.3333333333333333, \"#9c179e\"], [0.4444444444444444, \"#bd3786\"], [0.5555555555555556, \"#d8576b\"], [0.6666666666666666, \"#ed7953\"], [0.7777777777777778, \"#fb9f3a\"], [0.8888888888888888, \"#fdca26\"], [1.0, \"#f0f921\"]], \"type\": \"histogram2dcontour\"}], \"mesh3d\": [{\"colorbar\": {\"outlinewidth\": 0, \"ticks\": \"\"}, \"type\": \"mesh3d\"}], \"parcoords\": [{\"line\": {\"colorbar\": {\"outlinewidth\": 0, \"ticks\": \"\"}}, \"type\": \"parcoords\"}], \"pie\": [{\"automargin\": true, \"type\": \"pie\"}], \"scatter\": [{\"marker\": {\"colorbar\": {\"outlinewidth\": 0, \"ticks\": \"\"}}, \"type\": \"scatter\"}], \"scatter3d\": [{\"line\": {\"colorbar\": {\"outlinewidth\": 0, \"ticks\": \"\"}}, \"marker\": {\"colorbar\": {\"outlinewidth\": 0, \"ticks\": \"\"}}, \"type\": \"scatter3d\"}], \"scattercarpet\": [{\"marker\": {\"colorbar\": {\"outlinewidth\": 0, \"ticks\": \"\"}}, \"type\": \"scattercarpet\"}], \"scattergeo\": [{\"marker\": {\"colorbar\": {\"outlinewidth\": 0, \"ticks\": \"\"}}, \"type\": \"scattergeo\"}], \"scattergl\": [{\"marker\": {\"colorbar\": {\"outlinewidth\": 0, \"ticks\": \"\"}}, \"type\": \"scattergl\"}], \"scattermapbox\": [{\"marker\": {\"colorbar\": {\"outlinewidth\": 0, \"ticks\": \"\"}}, \"type\": \"scattermapbox\"}], \"scatterpolar\": [{\"marker\": {\"colorbar\": {\"outlinewidth\": 0, \"ticks\": \"\"}}, \"type\": \"scatterpolar\"}], \"scatterpolargl\": [{\"marker\": {\"colorbar\": {\"outlinewidth\": 0, \"ticks\": \"\"}}, \"type\": \"scatterpolargl\"}], \"scatterternary\": [{\"marker\": {\"colorbar\": {\"outlinewidth\": 0, \"ticks\": \"\"}}, \"type\": \"scatterternary\"}], \"surface\": [{\"colorbar\": {\"outlinewidth\": 0, \"ticks\": \"\"}, \"colorscale\": [[0.0, \"#0d0887\"], [0.1111111111111111, \"#46039f\"], [0.2222222222222222, \"#7201a8\"], [0.3333333333333333, \"#9c179e\"], [0.4444444444444444, \"#bd3786\"], [0.5555555555555556, \"#d8576b\"], [0.6666666666666666, \"#ed7953\"], [0.7777777777777778, \"#fb9f3a\"], [0.8888888888888888, \"#fdca26\"], [1.0, \"#f0f921\"]], \"type\": \"surface\"}], \"table\": [{\"cells\": {\"fill\": {\"color\": \"#EBF0F8\"}, \"line\": {\"color\": \"white\"}}, \"header\": {\"fill\": {\"color\": \"#C8D4E3\"}, \"line\": {\"color\": \"white\"}}, \"type\": \"table\"}]}, \"layout\": {\"annotationdefaults\": {\"arrowcolor\": \"#2a3f5f\", \"arrowhead\": 0, \"arrowwidth\": 1}, \"coloraxis\": {\"colorbar\": {\"outlinewidth\": 0, \"ticks\": \"\"}}, \"colorscale\": {\"diverging\": [[0, \"#8e0152\"], [0.1, \"#c51b7d\"], [0.2, \"#de77ae\"], [0.3, \"#f1b6da\"], [0.4, \"#fde0ef\"], [0.5, \"#f7f7f7\"], [0.6, \"#e6f5d0\"], [0.7, \"#b8e186\"], [0.8, \"#7fbc41\"], [0.9, \"#4d9221\"], [1, \"#276419\"]], \"sequential\": [[0.0, \"#0d0887\"], [0.1111111111111111, \"#46039f\"], [0.2222222222222222, \"#7201a8\"], [0.3333333333333333, \"#9c179e\"], [0.4444444444444444, \"#bd3786\"], [0.5555555555555556, \"#d8576b\"], [0.6666666666666666, \"#ed7953\"], [0.7777777777777778, \"#fb9f3a\"], [0.8888888888888888, \"#fdca26\"], [1.0, \"#f0f921\"]], \"sequentialminus\": [[0.0, \"#0d0887\"], [0.1111111111111111, \"#46039f\"], [0.2222222222222222, \"#7201a8\"], [0.3333333333333333, \"#9c179e\"], [0.4444444444444444, \"#bd3786\"], [0.5555555555555556, \"#d8576b\"], [0.6666666666666666, \"#ed7953\"], [0.7777777777777778, \"#fb9f3a\"], [0.8888888888888888, \"#fdca26\"], [1.0, \"#f0f921\"]]}, \"colorway\": [\"#636efa\", \"#EF553B\", \"#00cc96\", \"#ab63fa\", \"#FFA15A\", \"#19d3f3\", \"#FF6692\", \"#B6E880\", \"#FF97FF\", \"#FECB52\"], \"font\": {\"color\": \"#2a3f5f\"}, \"geo\": {\"bgcolor\": \"white\", \"lakecolor\": \"white\", \"landcolor\": \"#E5ECF6\", \"showlakes\": true, \"showland\": true, \"subunitcolor\": \"white\"}, \"hoverlabel\": {\"align\": \"left\"}, \"hovermode\": \"closest\", \"mapbox\": {\"style\": \"light\"}, \"paper_bgcolor\": \"white\", \"plot_bgcolor\": \"#E5ECF6\", \"polar\": {\"angularaxis\": {\"gridcolor\": \"white\", \"linecolor\": \"white\", \"ticks\": \"\"}, \"bgcolor\": \"#E5ECF6\", \"radialaxis\": {\"gridcolor\": \"white\", \"linecolor\": \"white\", \"ticks\": \"\"}}, \"scene\": {\"xaxis\": {\"backgroundcolor\": \"#E5ECF6\", \"gridcolor\": \"white\", \"gridwidth\": 2, \"linecolor\": \"white\", \"showbackground\": true, \"ticks\": \"\", \"zerolinecolor\": \"white\"}, \"yaxis\": {\"backgroundcolor\": \"#E5ECF6\", \"gridcolor\": \"white\", \"gridwidth\": 2, \"linecolor\": \"white\", \"showbackground\": true, \"ticks\": \"\", \"zerolinecolor\": \"white\"}, \"zaxis\": {\"backgroundcolor\": \"#E5ECF6\", \"gridcolor\": \"white\", \"gridwidth\": 2, \"linecolor\": \"white\", \"showbackground\": true, \"ticks\": \"\", \"zerolinecolor\": \"white\"}}, \"shapedefaults\": {\"line\": {\"color\": \"#2a3f5f\"}}, \"ternary\": {\"aaxis\": {\"gridcolor\": \"white\", \"linecolor\": \"white\", \"ticks\": \"\"}, \"baxis\": {\"gridcolor\": \"white\", \"linecolor\": \"white\", \"ticks\": \"\"}, \"bgcolor\": \"#E5ECF6\", \"caxis\": {\"gridcolor\": \"white\", \"linecolor\": \"white\", \"ticks\": \"\"}}, \"title\": {\"x\": 0.05}, \"xaxis\": {\"automargin\": true, \"gridcolor\": \"white\", \"linecolor\": \"white\", \"ticks\": \"\", \"title\": {\"standoff\": 15}, \"zerolinecolor\": \"white\", \"zerolinewidth\": 2}, \"yaxis\": {\"automargin\": true, \"gridcolor\": \"white\", \"linecolor\": \"white\", \"ticks\": \"\", \"title\": {\"standoff\": 15}, \"zerolinecolor\": \"white\", \"zerolinewidth\": 2}}}},\n",
              "                        {\"responsive\": true}\n",
              "                    ).then(function(){\n",
              "                            \n",
              "var gd = document.getElementById('ea2a8cfd-3f61-49a5-8067-56c77cb6c689');\n",
              "var x = new MutationObserver(function (mutations, observer) {{\n",
              "        var display = window.getComputedStyle(gd).display;\n",
              "        if (!display || display === 'none') {{\n",
              "            console.log([gd, 'removed!']);\n",
              "            Plotly.purge(gd);\n",
              "            observer.disconnect();\n",
              "        }}\n",
              "}});\n",
              "\n",
              "// Listen for the removal of the full notebook cells\n",
              "var notebookContainer = gd.closest('#notebook-container');\n",
              "if (notebookContainer) {{\n",
              "    x.observe(notebookContainer, {childList: true});\n",
              "}}\n",
              "\n",
              "// Listen for the clearing of the current output cell\n",
              "var outputEl = gd.closest('.output');\n",
              "if (outputEl) {{\n",
              "    x.observe(outputEl, {childList: true});\n",
              "}}\n",
              "\n",
              "                        })\n",
              "                };\n",
              "                \n",
              "            </script>\n",
              "        </div>\n",
              "</body>\n",
              "</html>"
            ]
          },
          "metadata": {
            "tags": []
          }
        },
        {
          "output_type": "display_data",
          "data": {
            "text/html": [
              "<html>\n",
              "<head><meta charset=\"utf-8\" /></head>\n",
              "<body>\n",
              "    <div>\n",
              "            <script src=\"https://cdnjs.cloudflare.com/ajax/libs/mathjax/2.7.5/MathJax.js?config=TeX-AMS-MML_SVG\"></script><script type=\"text/javascript\">if (window.MathJax) {MathJax.Hub.Config({SVG: {font: \"STIX-Web\"}});}</script>\n",
              "                <script type=\"text/javascript\">window.PlotlyConfig = {MathJaxConfig: 'local'};</script>\n",
              "        <script src=\"https://cdn.plot.ly/plotly-latest.min.js\"></script>    \n",
              "            <div id=\"22b2c383-9d63-43da-9f8a-45dead5bd5e2\" class=\"plotly-graph-div\" style=\"height:525px; width:100%;\"></div>\n",
              "            <script type=\"text/javascript\">\n",
              "                \n",
              "                    window.PLOTLYENV=window.PLOTLYENV || {};\n",
              "                    \n",
              "                if (document.getElementById(\"22b2c383-9d63-43da-9f8a-45dead5bd5e2\")) {\n",
              "                    Plotly.newPlot(\n",
              "                        '22b2c383-9d63-43da-9f8a-45dead5bd5e2',\n",
              "                        [{\"boxmean\": \"sd\", \"line\": {\"color\": \"rgb(8,81,156)\"}, \"marker\": {\"color\": \"rgb(8,81,156)\", \"line\": {\"outliercolor\": \"rgba(219, 64, 82, 0.6)\", \"outlierwidth\": 2}, \"outliercolor\": \"rgba(219, 64, 82, 0.6)\"}, \"name\": \"act_duration\", \"type\": \"box\", \"y\": [54, 103, 127, 63, 85, 75, 92, 24, 14, 108, 31, 117, 221, 30, 45, 24, 37, 15, 28, 18, 75, 14, 37, 52, 14, 22, 143, 52, 37, 25, 23, 16, 26, 74, 87, 42, 144, 106, 45, 21, 41, 12, 18, 152, 12, 13, 115, 25, 16, 23, 202, 120, 27, 108, 12, 97, 34, 29, 72, 49, 118, 139, 47, 186, 113, 72, 66, 62, 184, 60, 71, 52, 35, 27, 99, 63, 52, 111, 107, 279, 104, 15, 173, 95, 99, 150, 30, 66, 190, 70, 52, 11, 200, 20, 186, 48, 31, 26, 120, 85, 20, 20, 24, 23, 409, 34, 96, 16, 80, 17, 21, 96, 11, 11, 20, 98, 17, 42, 26, 34, 60, 38, 28, 18, 68, 166, 38, 17, 60, 48, 65, 44, 17, 160, 284, 465, 18, 16, 11, 88, 30, 49, 237, 15, 41, 133, 123, 51, 15, 48, 12, 24, 23, 28, 153, 76, 293, 84, 40, 51, 189, 16, 29, 27, 29, 30, 42, 41, 139, 43, 77, 32, 116, 91, 27, 14, 33, 23, 180, 20, 30, 350, 50, 208, 42, 11, 65, 54, 57, 16, 52, 37, 12, 31, 29, 27, 28, 46, 18, 39, 87, 131, 14, 13, 15, 39, 15, 59, 208, 48, 71, 20, 47, 27, 32, 76, 18, 60, 60, 46, 22, 70, 60, 25, 55, 30, 225, 33, 58, 26, 60, 360, 45, 13, 64, 16, 57, 31, 32, 22, 60, 60, 32, 43, 22, 36, 52, 57, 67, 54, 38, 47, 20, 37, 26, 26, 29, 25, 130, 30, 139, 36, 60, 37, 15, 21, 42, 47, 38, 29, 26, 17, 18, 52, 127, 84, 19, 110, 129, 53, 48, 17, 70, 53, 240, 80, 27, 80, 28, 15, 21, 20, 17, 11, 143, 25, 30, 22, 54, 14, 24, 17, 16, 34, 19, 15, 57, 15, 55, 80, 101, 20, 85, 28, 16, 22, 29, 27, 57, 99, 36, 13, 12, 11, 42, 19, 39, 14, 44, 14, 14, 26, 30, 55, 74, 118, 53, 28, 70, 59, 12, 62, 20, 33, 20, 13, 27, 91, 57, 13, 60, 97, 18, 20, 34, 14, 46, 34, 180, 85, 63, 32, 72, 24, 230, 15, 190, 13, 100, 21, 30, 14, 84, 80, 118, 38, 13, 22, 69, 55, 118, 54, 91, 58, 82, 58, 82, 109, 223, 61, 58, 89, 36, 13, 71, 23, 15, 56, 127, 22, 65, 68, 90, 42, 33, 18, 63, 47, 11, 14, 310, 30, 198, 159, 215, 15, 92, 74, 53, 105, 174, 470, 250, 13, 110, 50, 157, 212, 225, 35, 24, 285, 18, 204, 376, 191, 50, 35, 36, 39, 82, 15, 20, 14, 36, 67, 91, 112, 15, 11, 35, 60, 23, 14, 105, 43, 33, 13, 122, 25, 44, 135, 35, 45, 95, 61, 48, 128, 120, 98, 82, 19, 134, 35, 156, 115, 115, 349, 395, 94, 91, 43, 31, 11, 16, 344, 43, 221, 21, 210, 198, 20, 197, 204, 35, 13, 20, 24, 60, 20, 190, 265, 104, 130, 35, 22, 26, 44, 24, 33, 26, 33, 45, 89, 15, 49, 46, 16, 11, 85, 26, 53, 37, 19, 36, 41, 47, 15, 70, 71, 29, 11, 95, 51, 145, 59, 45, 21, 17, 73, 186, 73, 49, 18, 11, 14, 63, 11, 35, 41, 362, 32, 76, 50, 170, 138, 59, 180, 64, 137, 26, 166, 174, 54, 348, 30, 64, 21, 35, 46, 42, 33, 37, 81, 77, 31, 53, 87, 70, 17, 144, 55, 32, 293, 174, 60, 70, 135, 12, 66, 63, 91, 11, 172, 12, 26, 25, 34, 22, 46, 45, 53, 75, 92, 41, 21, 65, 60, 30, 38, 24, 90, 26, 43, 227, 22, 226, 149, 285, 310, 18, 19, 83, 31, 26, 44, 76, 40, 39, 120, 13, 30, 150, 60, 150, 46, 25, 46, 64, 37, 215, 52, 15, 14, 63, 20, 21, 30, 20, 29, 17, 87, 165, 62, 189, 16, 28, 18, 101, 48, 219, 109, 65, 60, 75, 60, 15, 60, 38, 11, 47, 28, 69, 21, 24, 159, 61, 15, 101, 40, 78, 14, 70, 40, 73, 119, 85, 16, 102, 131, 20, 90, 172, 89, 36, 24, 168, 30, 32, 54, 46, 38, 118, 89, 128, 109, 34, 23, 180, 115, 240, 133, 235, 140, 22, 94, 22, 47, 118, 18, 60, 60, 60, 36, 50, 77, 20, 16, 77, 120, 85, 85, 170, 46, 170, 50, 40, 35, 78, 45, 103, 88, 71, 99, 47, 143, 21, 110, 110, 60, 420, 23, 122, 23, 50, 54, 21, 97, 70, 30, 110, 62, 180, 230, 381, 32, 496, 51, 37, 46, 145, 50, 130, 40, 140, 140, 17, 20, 140, 82, 55, 120, 140, 41, 37, 14, 25, 27, 11, 80, 37, 23, 47, 20, 180, 165, 120, 130, 51, 42, 21, 15, 13, 128, 91, 20, 17, 43, 74, 20, 18, 45, 150, 50, 61, 152, 30, 335, 74, 39, 24, 47, 200, 219, 60, 40, 70, 295, 91, 77, 290, 80, 28, 20, 28, 182, 199, 33, 13, 58, 33, 132, 140, 73, 25, 120, 33, 39, 75, 237, 65, 62, 164, 79, 83, 89, 34, 103, 64, 38, 115, 183, 111, 50, 65, 50, 46, 49, 61, 72, 77, 19, 18, 78, 50, 46, 19, 98, 180, 90, 162, 29, 45, 59, 85, 145, 103, 58, 80, 140, 27, 80, 120, 41, 34, 55, 145, 55, 145, 26, 20, 82, 87, 80, 140, 18, 108, 69, 37, 27, 15, 80, 13, 166, 18, 56, 20, 31, 38, 24, 13, 17, 85, 145, 159, 11, 14, 22, 11, 70, 81, 147, 61, 22, 60, 15, 105, 60, 149, 150, 52, 12, 37, 34, 82, 91, 16, 57, 51, 105, 19, 86, 25, 36, 24, 19, 66, 27, 153, 126, 166, 60, 75, 50, 97, 145, 85, 150, 106, 13, 139, 26, 129, 55, 145, 121, 89, 60, 145, 17, 25, 85, 55, 145, 55, 145, 14, 60, 47, 12, 44, 37, 55, 145, 52, 67, 66, 59, 19, 40, 145, 33, 24, 12, 87, 20, 85, 115, 55, 70, 16, 39, 14, 94, 38, 66, 295, 235, 65, 96, 36, 130, 70, 15, 335, 295, 338, 178, 12, 44, 138, 73, 24, 54, 337, 17, 49, 90, 12, 19, 36, 100, 29, 38, 45, 230, 30, 156, 130, 80, 99, 270, 60, 43, 42, 145, 240, 150, 40, 31, 15, 15, 253, 13, 129, 42, 27, 58, 18, 35, 12, 15, 13, 47, 110, 80, 148, 268, 148, 219, 13, 33, 31, 20, 162, 22, 25, 13, 20, 28, 11, 60, 145, 60, 145, 55, 145, 16, 26, 134, 42, 25, 120, 94, 17, 59, 16, 62, 93, 87, 68, 30, 26, 127, 28, 75, 80, 78, 59, 33, 51, 21, 11, 13, 25, 90, 11, 18, 13, 12, 26, 88, 58, 118, 14, 51, 52, 12, 65, 131, 17, 17, 97, 12, 19, 80, 179, 32, 20, 119, 83, 76, 79, 47, 216, 250, 41, 47, 44, 40, 15, 102, 28, 42, 16, 45, 156, 148, 30, 48, 70, 86, 32, 60, 58, 39, 44, 18, 65, 31, 14, 26, 20, 13, 82, 69, 101, 24, 29, 211, 47, 56, 119, 65, 114, 14, 15, 17, 35, 104, 18, 19, 42, 86, 36, 39, 64, 38, 45, 78, 27, 28, 19, 49, 24, 31, 19, 51, 13, 54, 113, 112, 37, 35, 32, 22, 13, 39, 54, 31, 12, 12, 54, 29, 31, 82, 47, 218, 21, 31, 28, 160, 30, 60, 37, 22, 70, 50, 58, 23, 61, 12, 153, 74, 25, 111, 26, 20, 65, 102, 102, 348, 70, 60, 80, 27, 138, 30, 482, 33, 14, 79, 54, 13, 66, 275, 60, 53, 21, 24, 156, 24, 40, 122, 77, 92, 139, 25, 13, 182, 45, 56, 24, 19, 12, 135, 137, 76, 30, 11, 329, 14, 28, 126, 122, 395, 70, 78, 26, 467, 63, 81, 100, 29, 52, 132, 43, 129, 28, 58, 18, 28, 176, 43, 25, 46, 190, 30, 162, 75, 70, 136, 60, 27, 26, 102, 55, 53, 25, 36, 25, 321, 12, 11, 148, 102, 13, 50, 55, 27, 45, 61, 82, 20, 18, 41, 24, 69, 35, 40, 86, 100, 24, 15, 16, 23, 79, 34, 120, 11, 74, 173, 56, 63, 87, 40, 30, 147, 50, 96, 45, 69, 80, 47, 53, 30, 35, 140, 44, 106, 19, 74, 39, 28, 11, 30, 81, 58, 166, 28, 33, 24, 58, 53, 113, 56, 60, 30, 65, 309, 111, 75, 33, 232, 28, 101, 40, 78, 103, 14, 86, 37, 28, 114, 43, 25, 37, 152, 37, 60, 21, 158, 17, 13, 11, 18, 90, 75, 90, 36, 75, 111, 105, 17, 18, 61, 61, 65, 75, 30, 124, 66, 93, 14, 27, 17, 30, 51, 31, 23, 17, 11, 56, 28, 36, 87, 36, 32, 29, 90, 35, 44, 125, 66, 39, 19, 255, 20, 90, 11, 68, 82, 145, 23, 25, 65, 50, 33, 59, 125, 49, 25, 57, 129, 74, 36, 12, 42, 216, 57, 330, 72, 13, 76, 38, 65, 17, 180, 101, 120, 243, 73, 48, 17, 86, 28, 39, 53, 22, 19, 17, 12, 17, 30, 31, 169, 18, 19, 23, 18, 11, 113, 183, 65, 14, 30, 90, 80, 70, 84, 47, 65, 86, 12, 87, 60, 20, 49, 17, 27, 64, 36, 165, 21, 70, 32, 15, 14, 22, 123, 90, 269, 143, 173, 289, 122, 105, 147, 120, 111, 87, 101, 157, 19, 11, 24, 15, 85, 38, 45, 78, 135, 241, 157, 53, 90, 84, 43, 19, 46, 173, 122, 92, 20, 16, 40, 62, 18, 24, 11, 21, 25, 49, 15, 36, 66, 64, 77, 19, 18, 121, 45, 15, 50, 15, 32, 31, 46, 20, 60, 39, 124, 36, 146, 76, 23, 61, 32, 18, 80, 101, 240, 13, 39, 21, 110, 120, 42, 110, 17, 141, 126, 82, 31, 35, 52, 23, 36, 74, 95, 78, 40, 22, 22, 214, 96, 20, 54, 33, 57, 61, 311, 13, 118, 78, 93, 11, 76, 109, 196, 154, 168, 187, 55, 36, 71, 40, 65, 49, 50, 61, 140, 40, 96, 13, 71, 27, 93, 11, 145, 69, 28, 68, 34, 25, 43, 78, 36, 23, 48, 45, 116, 64, 45, 30, 134, 58, 74, 61, 55, 31, 74, 35, 54, 71, 97, 58, 18, 365, 111, 105, 47, 187, 90, 34, 192, 105, 40, 80, 59, 181, 33, 55, 15, 19, 71, 14, 26, 19, 15, 15, 23, 26, 52, 185, 100, 75, 135, 16, 20, 98, 60, 26, 67, 21, 319, 75, 32, 222, 34, 157, 13, 83, 109, 59, 41, 18, 43, 60, 15, 66, 27, 48, 56, 65, 62, 61, 12, 12, 24, 113, 64, 84, 28, 141, 12, 22, 28, 14, 24, 153, 79, 139, 23, 17, 26, 25, 26, 46, 48, 71, 34, 28, 12, 26, 120, 90, 17, 40, 53, 26, 26, 37, 56, 66, 11, 23, 23, 35, 49, 220, 12, 52, 28, 91, 75, 75, 100, 100, 33, 23, 28, 167, 14, 74, 40, 114, 78, 210, 63, 122, 195, 236, 439, 300, 173, 184, 52, 28, 27, 15, 21, 20, 22, 101, 34, 20, 118, 80, 95, 117, 75, 53, 20, 206, 195, 57, 25, 34, 38, 47, 49, 80, 117, 20, 25, 25, 12, 29, 31, 36, 21, 51, 21, 32, 31, 26, 120, 110, 31, 41, 109, 104, 44, 11, 252, 37, 93, 24, 101, 14, 13, 27, 26, 18, 76, 136, 44, 132, 35, 50, 57, 12, 23, 12, 16, 15, 34, 50, 135, 27, 22, 15, 92, 30, 30, 36, 98, 45, 11, 205, 165, 11, 67, 27, 110, 14, 99, 75, 25, 14, 35, 54, 120, 13, 50, 24, 79, 17, 27, 24, 43, 31, 32, 22, 11, 92, 17, 75, 43, 26, 21, 54, 22, 70, 24, 23, 32, 17, 99, 11, 265, 120, 17, 128, 87, 80, 37, 26, 104, 11, 12, 66, 30, 18, 49, 16, 25, 65, 60, 214, 310, 24, 97, 66, 15, 19, 14, 27, 140, 47, 37, 192, 120, 233, 26, 22, 13, 21, 35, 21, 63, 127, 155, 42, 37, 26, 11, 176, 276, 17, 86, 23, 29, 54, 23, 36, 35, 22, 18, 42, 16, 46, 85, 115, 25, 77, 186, 15, 14, 205, 29, 47, 16, 36, 51, 46, 27, 59, 47, 12, 28, 64, 32, 71, 22, 60, 126, 76, 45, 96, 57, 45, 58, 23, 32, 49, 15, 21, 23, 55, 39, 46, 133, 12, 99, 26, 64, 19, 134, 77, 30, 22, 30, 62, 50, 51, 18, 36, 51, 17, 46, 24, 171, 70, 21, 110, 101, 49, 147, 79, 15, 15, 33, 24, 22, 36, 21, 20, 50, 16, 169, 179, 302, 346, 105, 60, 121, 26, 25, 117, 39, 15, 61, 74, 82, 18, 18, 275, 94, 44, 75, 72, 20, 83, 63, 24, 36, 32, 33, 63, 12, 46, 105, 101, 60, 140, 18, 68, 23, 37, 33, 44, 25, 305, 159, 121, 52, 14, 22, 30, 193, 313, 178, 77, 154, 47, 48, 22, 13, 112, 23, 43, 80, 50, 30, 105, 38, 27, 29, 13, 138, 23, 44, 59, 46, 21, 170, 30, 210, 60, 30, 180, 120, 60, 29, 74, 19, 45, 24, 14, 35, 25, 23, 13, 241, 137, 84, 52, 38, 46, 12, 113, 24, 44, 27, 16, 34, 36, 12, 32, 17, 116, 203, 88, 17, 13, 21, 129, 262, 86, 47, 64, 82, 61, 108, 135, 12, 183, 17, 16, 60, 75, 132, 105, 59, 190, 40, 29, 41, 33, 60, 20, 40, 40, 12, 11, 13, 50, 22, 35, 18, 17, 14, 11, 19, 30, 276, 12, 263, 17, 44, 171, 78, 89, 34, 118, 36, 23, 68, 33, 76, 107, 132, 136, 128, 213, 80, 18, 55, 90, 136, 16, 25, 19, 14, 294, 49, 49, 155, 130, 140, 120, 97, 75, 90, 61, 49, 68, 45, 90, 90, 45, 60, 12, 60, 22, 51, 122, 28, 73, 32, 51, 22, 13, 42, 25, 52, 17, 37, 26, 15, 18, 35, 22, 76, 31, 152, 27, 15, 56, 22, 19, 17, 18, 29, 67, 105, 36, 12, 77, 34, 46, 45, 43, 73, 76, 84, 70, 34, 24, 78, 44, 245, 60, 25, 23, 100, 22, 240, 30, 26, 11, 31, 58, 33, 56, 14, 15, 31, 17, 56, 118, 31, 153, 46, 42, 22, 34, 71, 15, 49, 128, 103, 130, 17, 23, 39, 80, 65, 238, 25, 12, 19, 97, 21, 48, 89, 29, 75, 30, 18, 270, 360, 15, 55, 61, 63, 31, 44, 151, 29, 36, 66, 29, 24, 95, 56, 167, 72, 14, 13, 21, 35, 79, 54, 19, 65, 52, 77, 42, 31, 54, 145, 124, 32, 47, 55, 95, 22, 11, 165, 130, 60, 65, 29, 63, 49, 220, 43, 158, 47, 103, 27, 300, 120, 40, 61, 63, 54, 31, 59, 34, 79, 31, 38, 20, 121, 13, 36, 97, 149, 114, 30, 65, 51, 28, 103, 36, 21, 17, 19, 42, 56, 48, 20, 131, 12, 22, 83, 30, 39, 67, 50, 24, 21, 21, 28, 13, 31, 60, 23, 17, 18, 30, 16, 13, 80, 22, 14, 12, 20, 35, 87, 20, 11, 16, 42, 17, 348, 240, 37, 44, 20, 30, 60, 71, 96, 71, 20, 133, 175, 50, 132, 54, 23, 29, 108, 24, 23, 42, 38, 29, 15, 141, 20, 46, 296, 154, 75, 55, 116, 42, 87, 77, 58, 89, 21, 57, 141, 28, 190, 15, 42, 18, 85, 47, 296, 27, 152, 39, 138, 20, 30, 16, 26, 72, 18, 26, 115, 143, 11, 317, 60, 38, 42, 13, 35, 105, 27, 96, 23, 24, 13, 60, 28, 37, 46, 55, 336, 30, 38, 55, 28, 328, 34, 25, 30, 19, 28, 130, 26, 61, 108, 75, 140, 75, 120, 46, 13, 36, 38, 150, 89, 26, 13, 32, 77, 372, 21, 122, 83, 83, 30, 26, 37, 96, 58, 41, 53, 51, 41, 275, 17, 44, 140, 60, 45, 150, 15, 15, 75, 178, 12, 230, 39, 15, 12, 11, 36, 167, 11, 35, 43, 26, 27, 35, 46, 46, 99, 14, 23, 53, 16, 95, 137, 27, 39, 27, 17, 13, 57, 17, 15, 102, 87, 29, 37, 80, 24, 24, 11, 190, 39, 20, 14, 214, 53, 29, 13, 22, 68, 29, 20, 63, 36, 66, 50, 17, 196, 20, 21, 22, 28, 55, 116, 18, 13, 47, 22, 22, 22, 50, 39, 119, 21, 83, 19, 20, 16, 52, 23, 93, 20, 87, 60, 63, 31, 13, 16, 90, 17, 15, 18, 14, 63, 60, 73, 89, 56, 92, 201, 43, 57, 32, 15, 23, 40, 54, 82, 130, 55, 71, 44, 30, 70, 54, 24, 55, 23, 33, 22, 82, 13, 37, 48, 26, 34, 125, 165, 194, 67, 94, 53, 11, 17, 32, 30, 100, 46, 49, 15, 99, 45, 28, 85, 33, 77, 27, 195, 189, 116, 11, 232, 19, 228, 69, 14, 11, 105, 32, 24, 27, 169, 117, 88, 98, 21, 176, 64, 50, 14, 12, 75, 33, 26, 30, 30, 77, 91, 141, 30, 12, 70, 14, 27, 170, 192, 33, 231, 201, 148, 18, 29, 86, 12, 11, 100, 166, 20, 53, 38, 37, 12, 18, 28, 32, 23, 83, 14, 33, 78, 14, 56, 39, 18, 30, 21, 92, 178, 84, 24, 105, 30, 212, 80, 124, 52, 22, 64, 25, 33, 81, 110, 21, 24, 168, 33, 45, 14, 138, 25, 291, 36, 19, 33, 37, 41, 297, 22, 12, 124, 19, 23, 74, 37, 63, 130, 43, 71, 17, 59, 65, 32, 19, 26, 120, 36, 16, 26, 91, 24, 15, 22, 88, 35, 29, 92, 27, 39, 49, 24, 53, 123, 158, 15, 11, 33, 74, 28, 15, 12, 69, 31, 46, 210, 15, 34, 38, 129, 45, 30, 58, 170, 30, 84, 15, 41, 38, 41, 15, 87, 141, 244, 140, 52, 41, 72, 38, 56, 67, 68, 21, 45, 25, 200, 30, 116, 240, 67, 25, 149, 17, 28, 63, 53, 57, 83, 176, 116, 18, 162, 30, 35, 129, 52, 338, 146, 200, 103, 205, 24, 21, 106, 204, 12, 51, 14, 24, 241, 71, 19, 154, 70, 167, 103, 110, 30, 27, 14, 42, 18, 46, 31, 13, 30, 30, 160, 67, 17, 13, 58, 19, 14, 14, 16, 23, 17, 14, 50, 32, 30, 51, 121, 30, 36, 110, 40, 11, 30, 16, 51, 27, 11, 32, 26, 12, 156, 28, 21, 22, 36, 17, 30, 17, 54, 21, 43, 143, 115, 35, 12, 105, 12, 60, 39, 50, 188, 58, 12, 171, 159, 15, 14, 15, 15, 13, 51, 63, 20, 95, 58, 14, 109, 71, 35, 12, 164, 288, 215, 27, 166, 20, 120, 11, 45, 35, 29, 13, 98, 124, 63, 30, 11, 40, 117, 47, 28, 30, 20, 31, 159, 125, 41, 22, 78, 50, 34, 35, 35, 33, 24, 22, 68, 30, 108, 120, 52, 24, 28, 42, 151, 57, 380, 30, 50, 40, 50, 60, 60, 25, 80, 36, 150, 150, 107, 150, 72, 120, 285, 90, 50, 11, 55, 16, 71, 198, 25, 101, 17, 16, 20, 180, 79, 54, 82, 179, 69, 32, 40, 22, 97, 49, 100, 46, 20, 21, 134, 24, 149, 23, 65, 57, 28, 46, 200, 28, 16, 60, 125, 11, 40, 32, 30, 21, 14, 25, 19, 25, 83, 22, 20, 80, 110, 179, 33, 24, 18, 34, 15, 148, 60, 20, 28, 38, 105, 28, 38, 90, 94, 100, 66, 327, 248, 199, 178, 31, 65, 17, 15, 29, 29, 98, 14, 46, 48, 58, 63, 30, 34, 39, 19, 29, 31, 21, 29, 30, 30, 33, 84, 28, 123, 18, 22, 47, 29, 200, 33, 183, 48, 61, 30, 15, 52, 37, 55, 62, 34, 75, 88, 149, 77, 48, 17, 74, 23, 98, 196, 19, 300, 15, 45, 191, 81, 56, 25, 87, 16, 122, 12, 37, 104, 49, 167, 91, 120, 22, 13, 37, 11, 170, 15, 169, 213, 108, 11, 47, 87, 73, 123, 124, 30, 63, 24, 22, 29, 25, 50, 108, 105, 209, 77, 131, 12, 13, 55, 120, 26, 95, 142, 51, 26, 209, 44, 56, 36, 23, 65, 13, 163, 111, 17, 70, 35, 73, 68, 36, 20, 111, 63, 106, 281, 18, 173, 165, 274, 86, 25, 55, 91, 140, 19, 163, 19, 91, 13, 48, 74, 55, 20, 18, 12, 19, 299, 19, 153, 150, 97, 82, 96, 38, 43, 96, 161, 59, 81, 29, 15, 80, 268, 21, 27, 18, 60, 88, 222, 32, 83, 13, 97, 289, 179, 79, 11, 27, 59, 131, 34, 158, 300, 145, 91, 17, 39, 22, 23, 11, 22, 44, 170, 23, 47, 367, 152, 44, 18, 23, 225, 75, 42, 12, 145, 207, 51, 65, 381, 17, 417, 50, 37, 36, 66, 30, 228, 96, 44, 248, 210, 24, 126, 14, 240, 96, 83, 28, 379, 22, 37, 11, 38, 181, 64, 285, 123, 16, 290, 15, 74, 72, 73, 57, 59, 50, 153, 189, 25, 249, 43, 173, 105, 22, 114, 121, 69, 249, 96, 143, 129, 275, 25, 39, 92, 50, 60, 32, 92, 82, 166, 148, 36, 254, 71, 206, 156, 19, 105, 75, 21, 18, 310, 141, 15, 63, 14, 61, 55, 15, 66, 116, 75, 46, 220, 270, 71, 12, 121, 23, 41, 30, 75, 101, 178, 36, 86, 36, 61, 65, 115, 150, 136, 15, 150, 126, 146, 150, 60, 90, 80, 196, 189, 228, 19, 12, 36, 99, 13, 269, 325, 455, 106, 106, 230, 79, 31, 335, 12, 16, 45, 50, 16, 60, 46, 59, 72, 34, 12, 13, 37, 15, 21, 28, 71, 157, 42, 283, 208, 321, 138, 152, 197, 90, 133, 11, 224, 38, 24, 105, 50, 12, 30, 118, 22, 46, 15, 23, 84, 234, 83, 31, 18, 46, 122, 83, 24, 51, 21, 67, 71, 150, 75, 60, 35, 115, 54, 34, 177, 44, 16, 132, 35, 37, 132, 37, 189, 27, 20, 22, 142, 56, 124, 66, 59, 110, 14, 18, 364, 45, 24, 15, 32, 16, 100, 95, 50, 115, 92, 13, 130, 89, 15, 62, 25, 38, 21, 300, 47, 54, 112, 96, 49, 20, 72, 20, 120, 203, 80, 80, 120, 55, 237, 34, 20, 111, 36, 50, 75, 188, 11, 250, 77, 240, 37, 44, 23, 160, 130, 48, 150, 143, 23, 88, 19, 75, 34, 64, 14, 34, 22, 37, 24, 45, 65, 330, 21, 12, 21, 12, 22, 28, 95, 55, 41, 131, 104, 19, 109, 51, 69, 125, 60, 117, 11, 54, 47, 50, 63, 150, 90, 119, 129, 32, 144, 29, 230, 24, 35, 165, 160, 150, 319, 77, 76, 64, 57, 92, 29, 47, 149, 239, 78, 90, 96, 39, 83, 90, 13, 192, 44, 61, 62, 120, 11, 115, 37, 32, 13, 34, 51, 192, 47, 170, 182, 110, 210, 44, 83, 274, 85, 245, 64, 20, 33, 60, 37, 49, 19, 17, 24, 90, 70, 140, 150, 60, 70, 50, 370, 111, 240, 94, 194, 60, 64, 17, 49, 36, 36, 15, 92, 108, 25, 267, 255, 81, 233, 240, 195, 98, 37, 12, 110, 154, 100, 200, 19, 366, 14, 63, 136, 95, 124, 100, 36, 162, 111, 472, 18, 226, 240, 105, 37, 109, 137, 107, 260, 63, 60, 31, 18, 24, 58, 128, 59, 40, 260, 51, 25, 68, 13, 135, 68, 270, 300, 44, 265, 309, 135, 72, 11, 421, 74, 160, 56, 21, 46, 88, 44, 164, 17, 49, 200, 62, 74, 51, 23, 118, 226, 36, 245, 80, 74, 68, 143, 17, 62, 24, 149, 42, 77, 240, 358, 48, 25, 60, 13, 85, 148, 36, 27, 55, 50, 28, 25, 30, 63, 23, 33, 47, 32, 93, 25, 393, 120, 70, 59, 71, 59, 92, 81, 89, 276, 74, 19, 28, 93, 40, 18, 15, 187, 12, 39, 129, 19, 11, 49, 98, 33, 23, 43, 80, 30, 13, 77, 63, 18, 17, 34, 24, 83, 296, 339, 80, 61, 87, 18, 33, 76, 24, 52, 31, 117, 19, 12, 39, 55, 51, 19, 40, 50, 40, 33, 49, 110, 22, 198, 144, 21, 64, 113, 169, 231, 38, 30, 132, 14, 103, 342, 110, 28, 36, 133, 13, 201, 122, 85, 101, 122, 110, 27, 231, 46, 13, 180, 89, 110, 18, 70, 69, 17, 22, 75, 45, 30, 19, 29, 32, 36, 110, 17, 32, 93, 19, 67, 15, 41, 16, 19, 24, 37, 71, 15, 18, 28, 30, 76, 68, 66, 150, 27, 14, 22, 22, 75, 142, 114, 210, 20, 13, 53, 16, 23, 18, 42, 43, 112, 37, 48, 240, 136, 129, 16, 31, 66, 426, 20, 19, 90, 11, 275, 30, 20, 14, 15, 70, 100, 70, 13, 23, 155, 203, 53, 190, 140, 36, 79, 11, 73, 23, 21, 59, 47, 157, 160, 18, 38, 18, 71, 94, 29, 86, 130, 58, 127, 203, 25, 21, 20, 127, 230, 90, 115, 169, 15, 140, 50, 150, 180, 115, 43, 77, 117, 220, 367, 19, 23, 86, 54, 24, 40, 223, 115, 17, 113, 67, 24, 44, 150, 270, 37, 24, 59, 154, 125, 97, 96, 28, 102, 24, 21, 174, 23, 127, 44, 112, 59, 53, 35, 135, 61, 22, 138, 116, 14, 69, 121, 38, 111, 100, 40, 40, 37, 75, 59, 75, 105, 330, 140, 61, 88, 18, 43, 51, 95, 28, 27, 33, 41, 37, 35, 315, 55, 99, 83, 52, 62, 91, 64, 45, 50, 34, 120, 23, 19, 65, 46, 83, 151, 22, 83, 53, 19, 51, 85, 14, 52, 135, 15, 25, 26, 17, 277, 15, 12, 234, 85, 28, 28, 154, 126, 180, 32, 58, 33, 52, 43, 84, 83, 18, 27, 90, 136, 341, 65, 90, 60, 28, 22, 17, 90, 25, 24, 26, 51, 31, 47, 15, 114, 63, 29, 98, 12, 13, 50, 20, 23, 60, 77, 21, 55, 47, 85, 28, 12, 90, 11, 67, 121, 16, 21, 16, 20, 37, 45, 29, 23, 173, 277, 16, 73, 12, 86, 46, 50, 105, 26, 25, 178, 29, 28, 43, 122, 18, 155, 64, 15, 62, 189, 48, 22, 28, 70, 45, 76, 69, 26, 60, 255, 45, 208, 13, 186, 22, 50, 12, 20, 38, 45, 43, 63, 147, 290, 213, 20, 25, 30, 14, 73, 46, 76, 85, 225, 236, 36, 34, 16, 40, 54, 61, 60, 35, 71, 30, 31, 22, 43, 22, 155, 22, 140, 37, 60, 196, 154, 101, 131, 206, 99, 252, 125, 129, 36, 240, 125, 180, 40, 54, 59, 44, 11, 15, 41, 127, 26, 60, 337, 327, 25, 32, 26, 110, 43, 29, 14, 11, 77, 52, 13, 117, 154, 244, 47, 72, 14, 329, 23, 61, 80, 41, 33, 54, 12, 21, 72, 18, 47, 65, 49, 89, 287, 35, 41, 31, 13, 44, 30, 23, 100, 77, 18, 17, 25, 49, 60, 62, 106, 26, 25, 128, 31, 16, 130, 300, 20, 240, 149, 275, 240, 335, 150, 75, 75, 270, 46, 73, 72, 95, 47, 41, 129, 404, 109, 101, 108, 260, 250, 55, 111, 19, 25, 16, 16, 44, 15, 65, 18, 52, 33, 195, 105, 18, 78, 18, 28, 22, 12, 62, 198, 64, 30, 116, 33, 15, 13, 24, 18, 13, 35, 29, 55, 326, 289, 61, 39, 23, 80, 60, 26, 105, 63, 17, 31, 117, 99, 132, 144, 237, 161, 51, 51, 52, 87, 12, 49, 83, 82, 40, 135, 30, 19, 143, 90, 118, 50, 11, 61, 162, 99, 152, 34, 43, 30, 185, 70, 65, 120, 70, 30, 76, 56, 55, 17, 123, 18, 28, 190, 263, 240, 47, 37, 21, 37, 77, 47, 76, 29, 105, 189, 221, 139, 22, 81, 97, 57, 141, 20, 33, 14, 37, 23, 34, 81, 44, 18, 26, 68, 26, 42, 26, 86, 17, 108, 156, 70, 41, 92, 43, 24, 263, 33, 95, 67, 33, 28, 114, 45, 53, 60, 108, 151, 16, 34, 239, 74, 28, 103, 18, 103, 67, 84, 30, 145, 69, 114, 84, 18, 30, 176, 89, 15, 39, 12, 15, 13, 32, 15, 17, 14, 27, 91, 34, 35, 44, 60, 135, 89, 149, 195, 420, 60, 90, 135, 315, 120, 13, 38, 164, 85, 40, 44, 67, 43, 33, 12, 14, 11, 17, 150, 235, 255, 17, 11, 24, 105, 66, 13, 55, 22, 66, 13, 75, 61, 14, 27, 11, 53, 25, 113, 102, 67, 20, 154, 12, 11, 39, 52, 178, 70, 102, 24, 34, 13, 27, 15, 34, 57, 66, 13, 120, 85, 17, 37, 12, 20, 100, 53, 18, 12, 265, 330, 97, 101, 25, 22, 67, 131, 21, 23, 34, 12, 52, 50, 27, 14, 73, 27, 55, 55, 14, 159, 116, 220, 25, 73, 56, 31, 347, 25, 24, 34, 20, 11, 21, 13, 14, 76, 26, 18, 21, 38, 21, 20, 153, 44, 28, 18, 11, 81, 11, 63, 31, 79, 26, 11, 178, 360, 278, 17, 55, 55, 19, 29, 124, 93, 25, 12, 18, 150, 60, 30, 50, 110, 34, 18, 95, 24, 52, 12, 68, 18, 119, 83, 74, 71, 52, 155, 14, 160, 76, 162, 33, 42, 32, 126, 65, 260, 75, 82, 30, 70, 90, 45, 359, 87, 42, 231, 469, 387, 350, 11, 16, 46, 78, 235, 32, 18, 37, 66, 59, 28, 160, 120, 15, 29, 41, 55, 74, 72, 31, 44, 15, 122, 121, 18, 20, 60, 13, 16, 58, 40, 17, 197, 80, 43, 14, 52, 40, 27, 58, 82, 35, 19, 129, 54, 115, 20, 13, 15, 24, 314, 90, 105, 32, 180, 120, 50, 11, 16, 22, 16, 107, 17, 18, 28, 12, 17, 93, 80, 40, 54, 12, 17, 32, 238, 22, 13, 14, 38, 72, 40, 80, 220, 21, 124, 12, 18, 16, 60, 25, 14, 62, 11, 12, 16, 61, 249, 20, 238, 80, 43, 27, 90, 91, 270, 33, 55, 21, 14, 22, 75, 26, 16, 33, 12, 15, 13, 15, 15, 82, 12, 253, 25, 17, 25, 40, 12, 32, 83, 15, 159, 105, 41, 71, 21, 83, 15, 90, 130, 120, 95, 69, 33, 130, 35, 73, 30, 54, 34, 40, 11, 12, 223, 185, 65, 14, 44, 113, 53, 83, 152, 45, 19, 97, 72, 17, 130, 127, 95, 128, 323, 46, 250, 52, 83, 62, 100, 32, 33, 87, 387, 19, 26, 134, 64, 39, 45, 37, 21, 49, 23, 373, 38, 108, 20, 19, 21, 82, 99, 57, 78, 116, 21, 16, 220, 27, 55, 82, 17, 40, 97, 34, 136, 74, 53, 18, 19, 12, 72, 45, 138, 195, 55, 32, 22, 78, 107, 16, 13, 288, 108, 38, 116, 99, 83, 29, 160, 188, 40, 23, 15, 20, 64, 88, 58, 145, 275, 121, 14, 47, 78, 39, 47, 70, 126, 51, 47, 208, 124, 249, 24, 20, 48, 51, 37, 75, 26, 22, 45, 13, 83, 46, 83, 15, 200, 74, 105, 97, 41, 14, 45, 89, 39, 18, 81, 22, 208, 37, 84, 11, 30, 118, 49, 12, 27, 48, 95, 113, 39, 97, 35, 38, 27, 60, 48, 22, 83, 60, 58, 17, 30, 51, 74, 65, 59, 28, 199, 40, 73, 12, 23, 40, 50, 43, 25, 81, 45, 56, 50, 108, 48, 86, 198, 121, 53, 99, 41, 12, 68, 51, 15, 88, 18, 36, 34, 147, 70, 104, 36, 122, 68, 20, 68, 38, 12, 43, 50, 172, 20, 86, 30, 14, 23, 42, 80, 151, 171, 56, 149, 38, 48, 25, 25, 19, 50, 118, 61, 73, 97, 241, 130, 31, 26, 13, 40, 155, 12, 74, 13, 180, 20, 15, 11, 100, 43, 26, 34, 36, 73, 65, 92, 137, 32, 21, 95, 16, 39, 17, 64, 25, 30, 32, 73, 77, 72, 23, 51, 60, 64, 88, 41, 188, 52, 39, 19, 40, 50, 44, 237, 21, 124, 57, 14, 36, 26, 34, 44, 91, 38, 15, 21, 42, 90, 86, 40, 12, 15, 15, 45, 31, 71, 35, 81, 17, 94, 46, 113, 65, 46, 41, 48, 17, 60, 120, 65, 80, 65, 207, 29, 57, 28, 25, 125, 153, 23, 232, 11, 27, 28, 103, 72, 12, 13, 16, 82, 35, 43, 19, 41, 50, 42, 113, 50, 136, 22, 81, 75, 15, 362, 395, 255, 356, 52, 27, 162, 93, 175, 12, 60, 21, 26, 19, 49, 26, 14, 133, 216, 13, 86, 51, 53, 109, 50, 30, 12, 141, 191, 330, 193, 56, 72, 153, 65, 44, 117, 224, 231, 97, 24, 20, 133, 42, 53, 125, 58, 173, 122, 117, 101, 41, 50, 143, 86, 39, 56, 47, 48, 48, 183, 14, 100, 15, 62, 74, 15, 100, 70, 28, 27, 44, 148, 27, 43, 14, 40, 19, 21, 128, 161, 30, 214, 22, 77, 73, 56, 106, 138, 302, 211, 193, 60, 31, 63, 201, 30, 71, 53, 110, 168, 120, 18, 100, 204, 29, 108, 50, 81, 11, 19, 67, 74, 40, 60, 32, 33, 45, 53, 30, 200, 29, 48, 186, 129, 60, 316, 306, 119, 14, 75, 47, 22, 55, 85, 33, 36, 129, 25, 11, 110, 120, 180, 13, 29, 19, 32, 101, 120, 13, 16, 30, 44, 17, 11, 16, 12, 28, 22, 30, 11, 139, 14, 110, 45, 22, 147, 163, 54, 13, 19, 62, 152, 156, 85, 198, 137, 121, 25, 23, 40, 50, 122, 130, 12, 20, 70, 42, 118, 13, 143, 60, 19, 15, 15, 23, 21, 59, 30, 57, 119, 16, 17, 35, 74, 17, 11, 45, 16, 132, 31, 276, 94, 34, 31, 187, 123, 84, 40, 12, 152, 42, 47, 19, 128, 56, 110, 171, 21, 97, 143, 40, 77, 33, 35, 32, 70, 37, 82, 249, 92, 60, 77, 23, 62, 12, 25, 189, 49, 13, 14, 43, 62, 58, 97, 50, 19, 74, 68, 52, 33, 42, 31, 34, 37, 30, 13, 66, 56, 103, 79, 39, 51, 53, 20, 52, 38, 30, 31, 46, 30, 131, 43, 80, 17, 30, 42, 107, 35, 210, 175, 90, 130, 43, 39, 41, 113, 70, 80, 130, 48, 80, 54, 39, 190, 102, 75, 73, 40, 89, 45, 46, 123, 131, 91, 20, 19, 39, 174, 11, 72, 53, 16, 32, 19, 106, 116, 30, 25, 50, 133, 16, 146, 280, 53, 102, 150, 22, 58, 33, 49, 145, 159, 180, 85, 12, 17, 37, 20, 45, 59, 50, 24, 43, 22, 39, 86, 56, 12, 160, 130, 84, 418, 41, 81, 16, 11, 14, 124, 95, 27, 14, 57, 50, 120, 52, 65, 35, 32, 25, 25, 331, 169, 86, 137, 20, 38, 88, 23, 182, 116, 278, 345, 285, 75, 50, 19, 12, 43, 28, 30, 57, 56, 49, 50, 187, 45, 134, 83, 82, 208, 26, 67, 56, 124, 36, 23, 30, 144, 182, 170, 36, 26, 78, 152, 67, 75, 178, 120, 33, 17, 20, 39, 84, 36, 59, 67, 81, 40, 90, 29, 35, 57, 16, 80, 72, 14, 13, 36, 37, 114, 32, 78, 82, 30, 20, 170, 90, 27, 59, 54, 48, 166, 19, 117, 49, 27, 65, 20, 97, 11, 46, 72, 30, 45, 147, 72, 20, 63, 122, 121, 273, 60, 26, 43, 35, 101, 18, 40, 60, 119, 81, 13, 80, 72, 71, 90, 94, 54, 180, 18, 27, 80, 252, 48, 16, 290, 31, 30, 72, 25, 23, 210, 165, 83, 12, 153, 177, 45, 31, 41, 86, 105, 104, 61, 62, 224, 18, 91, 27, 94, 33, 69, 241, 195, 52, 50, 68, 55, 69, 27, 35, 84, 219, 76, 15, 21, 37, 57, 12, 40, 20, 55, 25, 109, 22, 134, 68, 14, 11, 105, 196, 85, 164, 171, 16, 21, 43, 86, 55, 190, 210, 66, 149, 77, 147, 65, 28, 32, 145, 19, 74, 49, 137, 192, 36, 31, 64, 145, 191, 48, 20, 21, 102, 57, 106, 219, 15, 69, 14, 49, 17, 104, 240, 13, 54, 136, 50, 65, 85, 52, 90, 49, 23, 25, 20, 25, 96, 149, 39, 69, 12, 31, 80, 39, 12, 15, 40, 19, 63, 76, 97, 14, 30, 42, 56, 30, 50, 96, 38, 121, 145, 53, 268, 191, 372, 210, 140, 110, 39, 127, 26, 32, 26, 140, 32, 43, 70, 102, 38, 28, 92, 34, 42, 52, 112, 61, 180, 75, 65, 36, 178, 40, 65, 45, 15, 146, 22, 15, 69, 11, 15, 310, 78, 178, 110, 12, 85, 55, 35, 12, 40, 53, 136, 39, 74, 50, 26, 14, 27, 45, 60, 16, 12, 73, 24, 37, 20, 21, 42, 40, 418, 230, 46, 42, 21, 37, 79, 85, 94, 110, 69, 29, 71, 40, 41, 50, 102, 78, 111, 44, 153, 141, 41, 384, 24, 65, 86, 412, 52, 13, 37, 207, 114, 14, 30, 21, 112, 56, 56, 18, 15, 39, 50, 73, 90, 34, 401, 20, 45, 51, 80, 29, 34, 63, 57, 83, 70, 70, 39, 11, 51, 38, 85, 52, 119, 192, 50, 16, 57, 26, 171, 49, 13, 45, 22, 46, 29, 60, 73, 66, 20, 96, 40, 29, 28, 73, 24, 159, 60, 40, 50, 184, 80, 25, 87, 60, 46, 31, 191, 85, 27, 19, 120, 60, 41, 29, 44, 18, 14, 59, 20, 72, 221, 137, 22, 172, 210, 65, 26, 210, 30, 45, 101, 27, 90, 209, 68, 19, 38, 22, 13, 80, 85, 161, 212, 240, 150, 340, 65, 20, 60, 37, 122, 106, 26, 16, 67, 28, 35, 50, 305, 94, 273, 474, 12, 394, 29, 206, 12, 18, 16, 24, 114, 76, 86, 65, 71, 20, 45, 77, 13, 67, 137, 58, 28, 110, 33, 68, 151, 16, 32, 67, 125, 136, 45, 29, 27, 90, 46, 55, 25, 100, 50, 50, 236, 116, 20, 30, 51, 72, 47, 28, 13, 54, 89, 92, 85, 39, 53, 125, 76, 105, 130, 82, 53, 37, 25, 71, 30, 133, 160, 26, 72, 47, 73, 42, 214, 340, 12, 60, 15, 80, 14, 120, 24, 13, 21, 101, 139, 24, 17, 90, 128, 87, 288, 130, 180, 90, 22, 100, 43, 23, 270, 90, 261, 55, 92, 34, 25, 242, 33, 16, 122, 39, 18, 27, 172, 80, 225, 37, 220, 185, 39, 196, 64, 176, 35, 19, 41, 65, 40, 55, 50, 136, 252, 57, 19, 110, 205, 75, 28, 244, 56, 56, 60, 55, 44, 152, 34, 115, 14, 140, 30, 64, 100, 65, 22, 14, 103, 92, 37, 23, 51, 347, 38, 28, 41, 28, 36, 98, 115, 64, 29, 150, 12, 28, 38, 46, 67, 129, 22, 17, 23, 22, 271, 265, 45, 236, 385, 121, 32, 29, 15, 90, 165, 11, 25, 83, 295, 115, 15, 24, 84, 57, 39, 100, 66, 71, 51, 123, 11, 19, 25, 56, 74, 30, 63, 59, 50, 29, 85, 78, 23, 75, 38, 34, 29, 24, 17, 21, 240, 173, 30, 44, 32, 96, 83, 90, 68, 61, 92, 32, 54, 76, 133, 105, 164, 103, 90, 29, 58, 48, 82, 54, 35, 102, 18, 56, 34, 105, 45, 210, 45, 203, 34, 12, 70, 290, 12, 70, 40, 53, 67, 91, 28, 20, 36, 96, 38, 11, 20, 96, 424, 42, 68, 59, 23, 18, 46, 48, 24, 52, 57, 57, 68, 69, 140, 93, 68, 20, 28, 277, 184, 155, 28, 78, 30, 43, 40, 160, 90, 126, 242, 240, 39, 18, 70, 28, 255, 68, 115, 139, 180, 49, 141, 80, 95, 60, 40, 20, 75, 92, 288, 110, 378, 133, 160, 64, 17, 25, 38, 134, 21, 81, 15, 29, 11, 34, 45, 40, 171, 197, 110, 36, 140, 12, 57, 31, 46, 119, 112, 194, 260, 110, 17, 22, 290, 70, 92, 12, 82, 119, 27, 15, 103, 30, 39, 146, 22, 145, 18, 23, 11, 41, 80, 80, 206, 120, 22, 69, 34, 53, 66, 83, 61, 136, 37, 22, 120, 25, 44, 166, 65, 35, 35, 57, 11, 113, 100, 149, 33, 25, 16, 15, 97, 21, 89, 34, 35, 60, 19, 114, 129, 55, 109, 51, 89, 80, 59, 74, 15, 106, 212, 30, 90, 113, 91, 36, 160, 25, 55, 19, 55, 329, 185, 165, 150, 188, 165, 45, 13, 12, 87, 42, 113, 42, 28, 26, 15, 108, 166, 85, 46, 188, 32, 68, 59, 22, 51, 59, 37, 30, 75, 50, 47, 135, 12, 125, 165, 118, 144, 100, 98, 11, 40, 34, 33, 103, 43, 220, 215, 105, 170, 177, 12, 15, 39, 103, 76, 108, 185, 186, 48, 40, 105, 156, 32, 17, 160, 160, 41, 86, 86, 271, 139, 279, 221, 166, 136, 33, 12, 17, 130, 127, 164, 315, 41, 118, 53, 84, 104, 117, 17, 42, 36, 35, 116, 111, 320, 15, 118, 70, 157, 250, 19, 161, 77, 133, 51, 120, 112, 122, 76, 39, 175, 27, 32, 60, 29, 99, 59, 94, 126, 36, 33, 59, 40, 20, 169, 250, 23, 100, 195, 61, 99, 21, 71, 26, 25, 51, 24, 34, 30, 49, 46, 25, 66, 39, 190, 32, 170, 70, 70, 32, 37, 50, 50, 48, 95, 89, 18, 62, 71, 44, 87, 15, 72, 100, 24, 54, 293, 12, 128, 22, 197, 22, 143, 200, 17, 110, 211, 17, 26, 44, 72, 146, 12, 32, 70, 24, 19, 19, 69, 131, 27, 22, 106, 42, 43, 32, 88, 178, 12, 159, 15, 11, 75, 14, 70, 83, 117, 81, 36, 80, 104, 76, 51, 63, 312, 134, 114, 82, 55, 50, 47, 43, 35, 74, 22, 18, 14, 122, 91, 42, 65, 86, 36, 159, 27, 12, 106, 12, 35, 112, 45, 27, 27, 123, 14, 41, 160, 22, 36, 85, 31, 55, 23, 27, 53, 73, 119, 237, 30, 56, 62, 85, 26, 80, 129, 14, 31, 63, 45, 83, 33, 65, 66, 55, 13, 22, 45, 39, 100, 142, 32, 31, 48, 136, 31, 29, 53, 25, 150, 63, 39, 57, 165, 241, 79, 119, 90, 53, 86, 102, 194, 39, 173, 240, 284, 15, 82, 270, 360, 24, 12, 63, 11, 60, 31, 28, 86, 98, 15, 41, 146, 18, 106, 188, 190, 26, 54, 50, 29, 61, 122, 60, 164, 94, 69, 20, 50, 14, 59, 81, 27, 53, 38, 70, 59, 64, 38, 18, 158, 100, 27, 103, 93, 41, 13, 135, 59, 21, 12, 45, 50, 48, 123, 44, 16, 58, 88, 12, 59, 100, 35, 51, 71, 110, 97, 13, 238, 48, 19, 17, 19, 35, 16, 195, 150, 23, 88, 22, 33, 64, 69, 59, 81, 12, 155, 13, 103, 33, 11, 49, 20, 62, 34, 17, 38, 39, 15, 16, 66, 41, 13, 51, 38, 16, 24, 14, 25, 114, 38, 28, 98, 18, 34, 103, 17, 192, 134, 120, 130, 53, 14, 351, 209, 315, 291, 25, 20, 90, 70, 85, 35, 25, 61, 53, 120, 54, 11, 78, 127, 37, 21, 46, 12, 17, 27, 57, 48, 20, 14, 14, 57, 80, 21, 53, 88, 51, 50, 98, 175, 166, 71, 90, 15, 150, 83, 86, 80, 11, 32, 180, 79, 34, 203, 89, 114, 29, 24, 71, 47, 165, 86, 100, 38, 52, 18, 31, 58, 51, 59, 12, 19, 22, 109, 92, 236, 11, 60, 199, 24, 37, 24, 133, 26, 24, 63, 69, 55, 21, 58, 81, 152, 135, 35, 142, 50, 62, 16, 112, 13, 35, 78, 75, 85, 74, 29, 14, 39, 34, 33, 35, 92, 21, 42, 13, 194, 15, 85, 75, 40, 130, 59, 90, 90, 120, 17, 20, 175, 267, 88, 29, 109, 80, 87, 25, 117, 39, 124, 108, 66, 12, 13, 79, 73, 51, 110, 223, 145, 240, 174, 47, 47, 48, 95, 27, 138, 301, 192, 78, 76, 43, 27, 66, 64, 189, 205, 69, 77, 94, 24, 263, 50, 13, 239, 60, 165, 87, 16, 159, 34, 140, 55, 203, 20, 50, 290, 148, 142, 43, 224, 35, 145, 190, 345, 74, 34, 87, 59, 351, 75, 59, 354, 50, 39, 89, 43, 30, 19, 47, 77, 62, 72, 31, 204, 137, 100, 160, 95, 87, 141, 92, 86, 289, 35, 133, 67, 60, 83, 424, 350, 418, 70, 125, 11, 70, 29, 39, 73, 123, 84, 63, 72, 120, 166, 62, 60, 15, 45, 60, 60, 60, 42, 52, 121, 43, 101, 104, 72, 85, 59, 11, 74, 90, 124, 44, 41, 60, 39, 66, 32, 110, 43, 110, 24, 40, 19, 36, 269, 73, 20, 17, 55, 405, 163, 17, 33, 128, 212, 66, 30, 41, 87, 224, 15, 157, 50, 25, 38, 84, 275, 95, 75, 67, 208, 38, 195, 158, 41, 44, 104, 15, 112, 125, 24, 104, 37, 37, 22, 76, 71, 179, 64, 136, 103, 56, 131, 14, 80, 13, 12, 22, 11, 58, 29, 25, 21, 155, 92, 22, 43, 30, 41, 38, 16, 35, 43, 19, 56, 75, 27, 40, 46, 150, 140, 73, 17, 185, 16, 143, 20, 40, 45, 16, 19, 24, 77, 23, 15, 25, 90, 51, 85, 21, 72, 63, 32, 47, 91, 16, 26, 25, 14, 209, 42, 95, 51, 102, 80, 58, 30, 79, 78, 113, 59, 27, 37, 40, 45, 71, 93, 170, 42, 220, 46, 328, 57, 15, 347, 41, 40, 274, 97, 20, 38, 215, 250, 216, 305, 255, 176, 218, 145, 255, 50, 150, 25, 54, 73, 29, 70, 92, 19, 47, 30, 52, 140, 26, 14, 25, 56, 85, 17, 281, 17, 77, 65, 100, 48, 107, 12, 165, 50, 43, 15, 49, 55, 26, 120, 23, 75, 260, 153, 71, 33, 41, 52, 225, 35, 55, 11, 138, 19, 128, 60, 44, 20, 40, 119, 19, 66, 86, 29, 29, 55, 20, 45, 58, 51, 22, 78, 198, 56, 48, 22, 14, 21, 21, 45, 102, 76, 176, 79, 48, 211, 345, 32, 93, 30, 105, 186, 129, 151, 101, 38, 23, 29, 24, 19, 12, 69, 62, 13, 100, 34, 128, 39, 22, 62, 33, 118, 56, 43, 55, 49, 42, 52, 29, 90, 12, 13, 126, 91, 26, 111, 44, 27, 16, 30, 58, 34, 16, 32, 25, 34, 135, 58, 20, 43, 55, 38, 27, 29, 101, 120, 94, 30, 90, 80, 20, 25, 150, 18, 18, 13, 35, 106, 41, 20, 105, 24, 31, 18, 104, 88, 59, 18, 31, 11, 177, 352, 167, 11, 215, 22, 115, 165, 177, 72, 66, 24, 35, 135, 89, 64, 56, 60, 135, 145, 67, 96, 42, 16, 40, 63, 34, 11, 43, 44, 15, 11, 12, 36, 119, 14, 14, 33, 18, 60, 33, 31, 22, 38, 27, 102, 17, 62, 72, 18, 315, 75, 118, 28, 11, 213, 11, 25, 53, 101, 17, 118, 89, 174, 56, 14, 51, 22, 37, 46, 33, 27, 46, 70, 32, 60, 79, 25, 74, 133, 60, 18, 145, 12, 45, 99, 216, 21, 272, 85, 147, 45, 123, 27, 97, 15, 400, 21, 25, 136, 190, 77, 26, 181, 271, 95, 24, 22, 36, 15, 34, 51, 65, 16, 28, 11, 12, 103, 100, 19, 49, 52, 34, 29, 29, 84, 54, 131, 25, 44, 195, 91, 147, 69, 45, 267, 11, 77, 87, 170, 28, 50, 17, 28, 31, 260, 260, 60, 30, 210, 120, 60, 34, 56, 50, 21, 41, 40, 40, 176, 80, 83, 88, 131, 260, 80, 320, 367, 47, 20, 15, 33, 175, 20, 41, 16, 79, 32, 33, 144, 35, 59, 244, 139, 76, 133, 25, 34, 96, 67, 145, 145, 38, 32, 30, 53, 50, 20, 17, 113, 20, 47, 21, 22, 94, 36, 120, 42, 19, 42, 22, 30, 15, 14, 55, 11, 47, 118, 27, 38, 40, 64, 114, 135, 40, 18, 118, 32, 35, 160, 16, 18, 45, 33, 17, 55, 28, 50, 24, 102, 118, 51, 17, 77, 24, 121, 14, 15, 30, 173, 45, 25, 17, 39, 30, 13, 76, 16, 37, 16, 19, 39, 157, 101, 15, 84, 14, 33, 195, 36, 15, 30, 39, 67, 16, 14, 84, 38, 157, 32, 171, 30, 174, 67, 38, 15, 62, 74, 124, 16, 15, 41, 292, 200, 46, 19, 316, 13, 22, 190, 11, 136, 94, 14, 44, 64, 27, 64, 41, 187, 46, 181, 90, 68, 148, 17, 102, 135, 22, 63, 12, 104, 55, 89, 37, 113, 142, 142, 37, 46, 107, 170, 16, 76, 135, 11, 19, 164, 34, 43, 81, 112, 50, 78, 25, 39, 228, 350, 27, 96, 100, 66, 71, 49, 93, 54, 35, 38, 50, 17, 142, 131, 43, 22, 87, 56, 144, 75, 23, 46, 315, 55, 90, 70, 87, 83, 155, 216, 63, 28, 14, 47, 229, 178, 275, 81, 256, 299, 16, 93, 64, 38, 11, 178, 314, 230, 95, 70, 51, 29, 37, 11, 32, 48, 70, 171, 14, 14, 57, 40, 104, 28, 30, 27, 15, 69, 64, 16, 11, 49, 153, 254, 45, 20, 28, 20, 111, 35, 51, 13, 80, 112, 21, 145, 96, 140, 65, 315, 17, 44, 12, 46, 35, 42, 54, 11, 205, 57, 42, 65, 15, 175, 60, 45, 155, 30, 144, 45, 35, 46, 24, 33, 114, 35, 92, 11, 16, 25, 45, 14, 135, 25, 11, 140, 19, 80, 13, 153, 15, 47, 153, 175, 28, 47, 32, 41, 35, 14, 69, 37, 22, 194, 190, 22, 25, 245, 205, 35, 82, 60, 78, 29, 72, 110, 173, 15, 38, 21, 105, 87, 122, 18, 53, 14, 54, 87, 13, 65, 117, 29, 13, 17, 124, 112, 31, 19, 125, 125, 100, 100, 158, 265, 33, 46, 257, 27, 56, 268, 140, 39, 172, 11, 378, 163, 17, 116, 16, 13, 18, 14, 27, 50, 25, 55, 61, 13, 89, 188, 32, 44, 153, 159, 105, 63, 19, 94, 48, 14, 72, 36, 78, 109, 76, 102, 78, 98, 52, 164, 280, 40, 32, 12, 11, 36, 22, 54, 33, 15, 11, 91, 162, 107, 363, 269, 35, 36, 39, 24, 15, 80, 91, 120, 12, 71, 33, 13, 104, 24, 112, 454, 366, 147, 177, 285, 98, 106, 36, 72, 20, 19, 12, 46, 45, 43, 209, 240, 110, 80, 53, 167, 59, 32, 82, 136, 69, 80, 11, 45, 86, 53, 31, 396, 22, 123, 67, 12, 42, 91, 18, 282, 33, 19, 44, 12, 215, 30, 50, 98, 58, 33, 38, 47, 280, 12, 82, 18, 68, 25, 91, 27, 211, 270, 102, 12, 23, 14, 34, 11, 85, 55, 26, 19, 18, 13, 17, 105, 31, 64, 34, 43, 12, 41, 31, 228, 14, 17, 35, 193, 29, 109, 340, 24, 55, 21, 14, 82, 82, 43, 17, 95, 13, 12, 13, 144, 13, 206, 188, 54, 24, 181, 12, 59, 114, 187, 20, 59, 171, 24, 26, 36, 23, 94, 165, 300, 105, 18, 90, 105, 82, 60, 75, 171, 225, 36, 21, 96, 15, 19, 13, 91, 12, 11, 38, 32, 17, 77, 45, 12, 27, 73, 46, 84, 14, 119, 30, 62, 40, 60, 210, 85, 163, 94, 53, 166, 88, 102, 33, 155, 62, 42, 14, 59, 89, 16, 106, 360, 37, 39, 161, 65, 51, 33, 29, 34, 34, 59, 26, 29, 42, 47, 241, 119, 52, 52, 30, 81, 58, 29, 110, 267, 70, 26, 115, 12, 39, 27, 30, 29, 14, 53, 14, 44, 16, 89, 77, 131, 55, 140, 150, 90, 52, 165, 135, 27, 70, 91, 111, 84, 88, 148, 109, 43, 34, 32, 38, 161, 380, 425, 355, 373, 475, 422, 310, 40, 98, 40, 468, 115, 18, 11, 40, 90, 93, 61, 22, 13, 69, 117, 50, 14, 40, 201, 127, 60, 126, 38, 35, 129, 70, 95, 61, 29, 21, 29, 55, 29, 24, 85, 48, 69, 281, 25, 235, 15, 45, 200, 165, 151, 173, 118, 92, 54, 61, 221, 215, 53, 50, 53, 46, 81, 18, 14, 460, 19, 88, 195, 236, 130, 387, 131, 13, 13, 200, 36, 130, 71, 27, 55, 33, 131, 40, 48, 60, 52, 62, 41, 98, 55, 13, 84, 34, 25, 214, 23, 83, 345, 37, 70, 16, 100, 46, 25, 124, 124, 102, 54, 269, 62, 145, 52, 56, 130, 275, 110, 20, 65, 122, 22, 44, 12, 27, 81, 97, 60, 21, 98, 59, 122, 28, 208, 79, 108, 83, 17, 144, 34, 31, 39, 63, 53, 31, 24, 72, 22, 35, 128, 41, 86, 49, 64, 123, 51, 39, 117, 240, 235, 100, 60, 30, 450, 166, 125, 78, 75, 145, 102, 39, 15, 69, 74, 71, 163, 56, 87, 66, 14, 44, 185, 39, 51, 12, 23, 85, 185, 53, 98, 102, 12, 32, 134, 148, 53, 170, 56, 11, 27, 29, 16, 174, 11, 48, 150, 70, 109, 23, 44, 84, 76, 69, 22, 78, 47, 116, 95, 114, 89, 70, 51, 11, 147, 230, 11, 59, 34, 134, 56, 45, 23, 189, 145, 11, 22, 111, 28, 80, 47, 354, 328, 232, 75, 230, 243, 290, 206, 112, 21, 83, 50, 100, 55, 135, 23, 123, 30, 40, 65, 34, 31, 24, 135, 150, 80, 55, 136, 140, 18, 17, 246, 237, 20, 125, 63, 55, 117, 79, 48, 142, 21, 169, 75, 26, 25, 98, 22, 40, 30, 68, 43, 22, 153, 113, 156, 43, 16, 97, 147, 157, 225, 99, 30, 11, 57, 28, 52, 84, 43, 13, 42, 228, 30, 156, 111, 18, 97, 68, 26, 45, 102, 143, 61, 85, 45, 42, 160, 190, 132, 57, 26, 16, 400, 111, 40, 102, 33, 14, 90, 11, 29, 34, 98, 40, 79, 44, 17, 51, 23, 17, 25, 44, 33, 29, 63, 22, 14, 37, 26, 35, 243, 197, 146, 21, 44, 205, 86, 13, 83, 82, 56, 24, 45, 68, 57, 22, 37, 11, 99, 100, 126, 11, 22, 19, 200, 13, 81, 162, 276, 23, 135, 100, 39, 83, 70, 29, 222, 123, 95, 18, 163, 28, 25, 140, 50, 120, 135, 35, 79, 94, 138, 28, 93, 30, 55, 30, 18, 103, 30, 12, 81, 79, 14, 25, 41, 152, 22, 94, 130, 14, 59, 13, 15, 93, 55, 12, 80, 92, 33, 12, 43, 39, 73, 36, 38, 35, 95, 86, 60, 43, 50, 59, 44, 44, 37, 24, 23, 304, 101, 27, 65, 79, 158, 45, 38, 35, 23, 75, 70, 45, 30, 32, 57, 51, 45, 38, 152, 59, 35, 32, 100, 135, 16, 158, 31, 190, 34, 23, 34, 139, 21, 89, 283, 30, 14, 126, 131, 110, 205, 16, 24, 130, 45, 150, 75, 45, 68, 41, 240, 24, 20, 39, 18, 25, 11, 90, 48, 44, 177, 20, 66, 109, 70, 40, 30, 118, 14, 133, 15, 17, 101, 29, 48, 191, 13, 41, 21, 153, 120, 61, 26, 28, 101, 236, 21, 225, 71, 25, 33, 40, 18, 35, 85, 142, 85, 52, 75, 18, 112, 186, 14, 100, 46, 20, 76, 24, 76, 54, 77, 105, 44, 64, 156, 126, 25, 79, 90, 113, 55, 60, 45, 179, 32, 56, 17, 110, 29, 26, 282, 114, 19, 21, 20, 112, 36, 81, 442, 12, 72, 38, 30, 64, 85, 90, 132, 16, 155, 105, 40, 80, 75, 51, 24, 39, 110, 23, 59, 217, 176, 43, 60, 40, 143, 121, 43, 13, 115, 142, 14, 31, 23, 29, 188, 14, 18, 58, 330, 47, 269, 26, 14, 25, 49, 78, 101, 65, 32, 100, 70, 33, 31, 16, 14, 11, 134, 37, 37, 233, 120, 96, 100, 12, 40, 76, 49, 135, 105, 90, 49, 56, 37, 46, 102, 61, 136, 285, 90, 52, 25, 85, 114, 20, 40, 143, 14, 53, 62, 108, 61, 45, 13, 65, 81, 87, 16, 67, 82, 16, 60, 105, 30, 11, 29, 16, 16, 23, 34, 39, 12, 115, 15, 14, 29, 31, 28, 19, 50, 65, 24, 55, 114, 153, 155, 92, 120, 76, 55, 102, 24, 33, 22, 112, 67, 225, 195, 69, 36, 136, 57, 21, 135, 46, 60, 16, 36, 80, 35, 133, 36, 59, 59, 54, 11, 92, 19, 91, 35, 24, 131, 183, 90, 105, 53, 25, 16, 80, 14, 178, 80, 120, 104, 29, 28, 42, 149, 70, 19, 31, 70, 61, 68, 99, 112, 90, 60, 89, 40, 49, 109, 167, 11, 37, 55, 33, 15, 45, 24, 11, 41, 107, 135, 104, 65, 20, 120, 58, 85, 42, 13, 59, 11, 36, 57, 173, 113, 57, 20, 46, 61, 26, 32, 134, 38, 19, 25, 147, 42, 103, 120, 80, 34, 40, 208, 18, 112, 24, 75, 358, 27, 185, 130, 104, 74, 141, 230, 108, 71, 280, 79, 17, 152, 15, 186, 281, 14, 116, 128, 68, 95, 55, 27, 92, 21, 187, 17, 98, 91, 51, 11, 12, 13, 180, 75, 12, 30, 45, 49, 83, 104, 54, 120, 11, 23, 99, 70, 140, 35, 132, 148, 189, 179, 42, 31, 24, 150, 25, 18, 37, 27, 121, 41, 42, 130, 44, 55, 124, 285, 25, 61, 149, 76, 280, 370, 188, 96, 64, 390, 270, 97, 67, 101, 71, 22, 106, 34, 24, 17, 84, 108, 80, 114, 60, 65, 35, 289, 66, 66, 89, 16, 27, 129, 11, 17, 41, 60, 89, 40, 170, 175, 99, 15, 13, 103, 29, 24, 16, 43, 181, 73, 29, 90, 110, 13, 101, 84, 27, 60, 93, 57, 14, 19, 35, 71, 20, 46, 85, 77, 45, 100, 45, 180, 26, 115, 62, 17, 11, 29, 29, 95, 11, 45, 39, 12, 29, 52, 77, 35, 152, 39, 23, 75, 86, 58, 15, 81, 28, 18, 11, 33, 14, 54, 37, 34, 73, 206, 26, 12, 42, 110, 52, 12, 16, 51, 45, 100, 191, 30, 74, 36, 138, 41, 63, 177, 50, 40, 48, 53, 107, 66, 128, 31, 86, 190, 80, 58, 26, 12, 40, 67, 57, 40, 11, 235, 98, 25, 25, 36, 34, 15, 15, 50, 13, 109, 36, 64, 67, 12, 26, 139, 158, 100, 270, 57, 92, 31, 55, 87, 45, 39, 15, 61, 77, 134, 84, 185, 130, 104, 14, 14, 35, 97, 65, 11, 40, 46, 68, 59, 50, 15, 38, 83, 57, 12, 26, 180, 14, 13, 45, 29, 14, 171, 38, 146, 24, 90, 36, 39, 35, 58, 17, 21, 47, 29, 65, 25, 82, 42, 67, 100, 47, 46, 166, 75, 27, 28, 30, 22, 50, 50, 103, 50, 310, 223, 285, 35, 151, 77, 126, 17, 55, 95, 42, 14, 17, 24, 45, 36, 12, 56, 93, 13, 13, 94, 52, 20, 50, 147, 41, 44, 114, 42, 54, 69, 52, 14, 20, 13, 75, 55, 11, 35, 22, 15, 17, 48, 126, 25, 34, 64, 13, 49, 95, 41, 34, 94, 150, 102, 100, 42, 44, 55, 47, 89, 50, 28, 85, 110, 11, 83, 37, 28, 29, 41, 89, 40, 23, 240, 67, 170, 12, 30, 40, 45, 75, 50, 80, 11, 16, 11, 54, 62, 114, 19, 31, 37, 19, 48, 14, 480, 48, 95, 53, 70, 28, 65, 14, 50, 20, 80, 130, 27, 43, 31, 90, 49, 69, 106, 120, 101, 30, 21, 137, 86, 100, 60, 103, 40, 30, 90, 50, 51, 50, 195, 176, 170, 94, 102, 40, 110, 14, 42, 11, 106, 24, 69, 21, 149, 27, 59, 150, 17, 33, 50, 57, 107, 53, 80, 85, 100, 31, 53, 18, 74, 39, 72, 66, 44, 156, 18, 50, 50, 19, 139, 26, 38, 32, 42, 53, 38, 43, 13, 76, 33, 77, 65, 38, 143, 41, 74, 34, 23, 164, 38, 138, 41, 35, 17, 11, 152, 35, 238, 35, 75, 25, 22, 42, 11, 14, 58, 48, 52, 33, 25, 52, 44, 43, 36, 68, 52, 56, 22, 15, 37, 47, 54, 61, 148, 95, 23, 42, 239, 33, 16, 70, 105, 39, 37, 129, 23, 26, 132, 30, 11, 42, 11, 69, 37, 70, 161, 92, 37, 35, 45, 29, 159, 26, 26, 45, 31, 54, 65, 129, 126, 97, 103, 45, 48, 231, 11, 75, 65, 33, 410, 111, 62, 75, 65, 62, 31, 25, 22, 12, 66, 41, 69, 12, 17, 56, 31, 152, 49, 34, 220, 226, 37, 11, 130, 75, 26, 17, 127, 92, 14, 201, 51, 151, 19, 93, 22, 153, 17, 31, 114, 55, 121, 98, 105, 21, 168, 35, 33, 39, 200, 30, 75, 100, 255, 35, 25, 23, 11, 43, 17, 210, 26, 24, 22, 31, 25, 89, 20, 27, 60, 68, 14, 133, 18, 26, 34, 60, 25, 53, 39, 106, 30, 18, 27, 13, 52, 23, 12, 26, 22, 59, 30, 165, 135, 115, 199, 115, 14, 14, 30, 28, 53, 39, 45, 42, 28, 232, 65, 23, 24, 15, 20, 35, 61, 62, 29, 33, 73, 45, 121, 260, 95, 35, 27, 60, 62, 55, 73, 15, 100, 43, 43, 55, 59, 73, 18, 55, 12, 35, 31, 36, 36, 99, 149, 27, 105, 60, 80, 63, 53, 41, 49, 96, 16, 12, 48, 17, 19, 167, 20, 26, 35, 41, 11, 120, 16, 11, 78, 16, 24, 22, 68, 70, 11, 27, 98, 22, 36, 43, 17, 45, 34, 80, 29, 52, 57, 83, 30, 110, 22, 15, 36, 184, 42, 75, 42, 11, 29, 63, 12, 100, 23, 21, 18, 40, 22, 53, 15, 29, 52, 20, 14, 14, 13, 50, 11, 137, 31, 73, 21, 32, 14, 15, 84, 72, 11, 11, 25, 144, 43, 14, 26, 50, 21, 35, 18, 23, 274, 118, 157, 59, 22, 150, 33, 44, 23, 16, 18, 34, 33, 35, 17, 18, 33, 120, 120, 50, 30, 106, 120, 14, 129, 11, 45, 31, 116, 143, 66, 220, 30, 48, 35, 88, 15, 26, 16, 13, 39, 145, 37, 14, 28, 81, 34, 37, 167, 39, 21, 43, 41, 38, 115, 40, 45, 40, 13, 43, 15, 114, 94, 26, 37, 12, 101, 13, 12, 34, 19, 70, 34, 113, 25, 19, 182, 58, 118, 29, 39, 12, 19, 42, 16, 27, 119, 24, 53, 47, 82, 48, 80, 50, 13, 23, 11, 316, 33, 33, 27, 55, 40, 14, 44, 91, 64, 67, 14, 52, 22, 28, 51, 35, 31, 42, 43, 64, 48, 23, 14, 41, 45, 22, 18, 33, 42, 58, 25, 59, 27, 31, 159, 26, 36, 128, 18, 11, 84, 92, 130, 40, 15, 17, 65, 51, 21, 37, 79, 214, 14, 33, 11, 21, 12, 20, 80, 105, 36, 45, 20, 29, 25, 23, 43, 24, 37, 17, 11, 22, 24, 15, 12, 44, 23, 121, 59, 40, 110, 49, 31, 29, 14, 257, 30, 60, 47, 29, 39, 385, 113, 51, 50, 85, 204, 44, 94, 114, 11, 214, 50, 112, 11, 40, 40, 30, 140, 109, 50, 12, 105, 220, 13, 100, 15, 38, 19, 90, 119, 126, 21, 31, 77, 23, 11, 24, 11, 21, 93, 17, 19, 252, 185, 13, 155, 126, 14, 25, 25, 55, 45, 45, 128, 140, 18, 66, 101, 17, 54, 40, 12, 50, 31, 41, 101, 26, 40, 157, 60, 12, 105, 155, 62, 12, 32, 38, 18, 44, 44, 44, 85, 47, 31, 35, 110, 60, 63, 14, 67, 145, 95, 30, 40, 225, 75, 90, 200, 26, 20, 15, 60, 148, 52, 44, 12, 13, 112, 11, 84, 77, 32, 29, 211, 38, 80, 105, 50, 62, 42, 85, 37, 67, 25, 26, 11, 19, 85, 250, 140, 13, 12, 180, 31, 104, 165, 17, 89, 90, 11, 13, 29, 62, 48, 180, 76, 89, 61, 44, 60, 58, 240, 18, 51, 30, 28, 82, 14, 12, 22, 26, 89, 97, 20, 14, 55, 24, 23, 11, 24, 40, 15, 16, 15, 40, 30, 42, 25, 13, 60, 104, 96, 70, 14, 26, 47, 20, 25, 30, 50, 66, 44, 71, 64, 72, 42, 65, 15, 23, 34, 24, 38, 34, 89, 15, 102, 46, 107, 30, 30, 21, 16, 87, 47, 16, 40, 41, 31, 12, 55, 25, 103, 26, 25, 15, 30, 94, 93, 82, 34, 12, 26, 30, 60, 74, 56, 100, 105, 64, 22, 126, 120, 70, 85, 105, 70, 60, 35, 13, 32, 31, 13, 79, 100, 91, 42, 124, 35, 50, 77, 31, 47, 48, 45, 32, 138, 260, 23, 35, 84, 73, 13, 84, 21, 88, 439, 136, 77, 103, 67, 170, 15, 27, 334, 370, 139, 15, 304, 111, 31, 13, 200, 191, 73, 74, 149, 62, 42, 40, 150, 59, 85, 22, 120, 20, 40, 14, 90, 21, 63, 31, 38, 15, 38, 75, 100, 50, 52, 13, 42, 54, 74, 43, 51, 281, 54, 64, 50, 26, 16, 180, 84, 60, 335, 13, 74, 178, 40, 193, 24, 179, 18, 144, 146, 23, 32, 16, 35, 91, 60, 84, 153, 52, 25, 60, 270, 49, 66, 70, 80, 29, 30, 17, 152, 17, 93, 14, 300, 17, 140, 110, 90, 168, 38, 38, 60, 26, 31, 12, 37, 49, 25, 11, 48, 11, 21, 28, 24, 200, 23, 12, 88, 32, 169, 16, 225, 100, 24, 83, 68, 41, 12, 102, 30, 58, 17, 46, 28, 23, 41, 12, 27, 50, 75, 25, 22, 14, 180, 34, 92, 39, 29, 11, 45, 42, 27, 93, 100, 45, 54, 19, 21, 35, 20, 50, 17, 11, 225, 26, 32, 65, 78, 122, 80, 35, 50, 49, 30, 44, 120, 58, 42, 60, 57, 32, 50, 55, 245, 36, 51, 28, 55, 110, 21, 40, 12, 25, 19, 150, 17, 301, 90, 73, 60, 27, 29, 55, 13, 14, 21, 180, 105, 180, 90, 39, 12, 24, 12, 20, 50, 30, 28, 19, 22, 142, 90, 75, 15, 35, 380, 40, 41, 175, 38, 26, 60, 55, 22, 71, 21, 27, 63, 35, 49, 12, 64, 11, 45, 100, 47, 60, 14, 58, 40, 90, 195, 85, 92, 165, 36, 66, 77, 11, 40, 100, 70, 70, 25, 75, 36, 132, 24, 57, 16, 18, 28, 23, 56, 15, 30, 140, 30, 19, 55, 45, 14, 159, 45, 45, 44, 12, 23, 16, 300, 65, 154, 30, 46, 40, 25, 53, 20, 44, 11, 35, 70, 38, 157, 105, 11, 29, 105, 150, 125, 64, 12, 33, 55, 54, 70, 17, 107, 40, 84, 59, 39, 22, 20, 11, 49, 39, 28, 63, 30, 23, 34, 47, 12, 51, 23, 15, 85, 20, 290, 55, 38, 45, 23, 40, 90, 67, 28, 34, 16, 39, 20, 14, 21, 16, 32, 17, 24, 25, 16, 83, 58, 69, 47, 82, 115, 150, 15, 52, 14, 18, 63, 17, 51, 45, 68, 23, 168, 120, 135, 170, 70, 38, 40, 16, 18, 15, 37, 14, 50, 190, 20, 30, 26, 104, 55, 100, 81, 17, 87, 18, 50, 15, 16, 23, 21, 74, 11, 27, 14, 40, 27, 67, 12, 40, 11, 47, 130, 95, 21, 28, 69, 50, 16, 38, 180, 40, 16, 33, 13, 23, 23, 21, 28, 163, 19, 14, 13, 22, 31, 24, 14, 18, 21, 42, 22, 27, 76, 77, 19, 16, 30, 27, 16, 24, 36, 22, 105, 70, 15, 20, 15, 59, 86, 12, 15, 12, 74, 19, 14, 76, 32, 16, 47, 20, 29, 12, 16, 24, 20, 14, 120, 24, 14, 21, 35, 23, 68, 12, 21, 33, 22, 16, 21, 15, 14, 89, 26, 225, 22, 16, 20, 36, 31, 12, 21, 77, 106, 14, 17, 69, 135, 19, 13, 29, 52, 145, 135, 73, 224, 16, 23, 17, 13, 24, 142, 14, 19, 20, 19, 24, 19, 38, 20, 17, 19, 202, 40, 40, 28, 44, 67, 39, 18, 20, 21, 12, 86, 21, 12, 140, 74, 145, 17, 30, 30, 16, 14, 31, 153, 37, 30, 26, 55, 77, 57, 18, 205, 151, 17, 11, 59, 23, 59, 59, 70, 45, 160, 180, 25, 184, 19, 22, 71, 132, 55, 14, 36, 45, 15, 17, 11, 16, 12, 33, 14, 44, 108, 56, 27, 45, 53, 25, 55, 78, 59, 131, 12, 143, 22, 37, 19, 25, 40, 107, 25, 34, 30, 33, 24, 38, 25, 69, 45, 18, 61, 26, 12, 26, 13, 38, 99, 70, 195, 46, 20, 23, 150, 35, 25, 41, 58, 20, 80, 20, 35, 15, 30, 43, 23, 154, 14, 28, 17, 30, 43, 17, 89, 53, 59, 19, 26, 46, 59, 245, 115, 27, 37, 29, 27, 21, 126, 44, 37, 50, 110, 34, 11, 21, 16, 12, 20, 20, 27, 117, 17, 25, 55, 13, 21, 235, 78, 37, 38, 14, 25, 23, 19, 213, 15, 12, 20, 81, 30, 48, 23, 136, 14, 87, 18, 17, 17, 47, 30, 39, 36, 22, 40, 34, 29, 11, 25, 29, 29, 13, 26, 81, 65, 92, 17, 46, 45, 60, 32, 13, 14, 150, 24, 26, 202, 25, 17, 17, 27, 40, 16, 35, 54, 30, 32, 111, 20, 13, 24, 90, 13, 31, 50, 37, 23, 20, 65, 31, 20, 46, 19, 68, 27, 14, 11, 11, 12, 21, 67, 140, 86, 26, 47, 32, 50, 66, 72, 69, 107, 136, 33, 62, 68, 19, 19, 19, 13, 48, 71, 23, 15, 42, 42, 35, 27, 20, 203, 19, 68, 72, 23, 54, 102, 34, 39, 15, 21, 17, 126, 89, 78, 29, 175, 17, 38, 12, 50, 21, 14, 35, 20, 46, 35, 13, 80, 22, 29, 85, 14, 11, 64, 16, 31, 82, 20, 152, 20, 20, 22, 38, 157, 25, 40, 165, 31, 74, 11, 105, 190, 65, 64, 40, 53, 46, 12, 35, 50, 35, 169, 33, 15, 13, 17, 34, 15, 13, 130, 21, 14, 33, 67, 79, 22, 53, 37, 33, 110, 75, 80, 150, 90, 28, 21, 48, 31, 18, 13, 15, 32, 18, 31, 26, 105, 27, 46, 32, 90, 120, 125, 14, 19, 14, 16, 45, 210, 80, 30, 18, 35, 50, 40, 30, 77, 19, 95, 103, 43, 71, 55, 24, 15, 22, 128, 37, 20, 30, 19, 18, 69, 45, 47, 31, 85, 18, 66, 86, 40, 20, 58, 132, 36, 17, 139, 19, 115, 14, 38, 27, 41, 13, 60, 20, 54, 68, 79, 86, 141, 56, 168, 94, 93, 33, 27, 38, 24, 52, 120, 180, 70, 23, 39, 12, 15, 36, 26, 42, 16, 69, 27, 31, 299, 20, 26, 52, 194, 74, 118, 103, 82, 99, 216, 30, 109, 52, 150, 220, 145, 116, 138, 224, 140, 237, 153, 94, 165, 117, 94, 129, 106, 181, 285, 212, 169, 302, 143, 139, 241, 237, 181, 82, 136, 254, 45, 96, 201, 78, 176, 100, 220, 143, 196, 138, 210, 211, 120, 229, 98, 316, 218, 100, 139, 176, 227, 225, 230, 165, 171, 135, 102, 200, 116, 282, 212, 200, 167, 115, 121, 120, 120, 205, 90, 118, 146, 150, 105, 30, 75, 133, 242, 112, 145, 72, 146, 120, 234, 120, 229, 150, 19, 78, 137, 129, 188, 140, 154, 153, 197, 156, 153, 114, 150, 150, 40, 75, 45, 40, 35, 48, 91, 20, 90, 137, 165, 139, 30, 227, 164, 180, 405, 22, 45, 34, 13, 12, 141, 149, 25, 67, 15, 18, 32, 37, 63, 82, 279, 56, 26, 122, 153, 255, 160, 55, 28, 290, 170, 128, 216, 117, 23, 16, 51, 19, 17, 140, 230, 160, 305, 130, 246, 113, 47, 11, 288, 265, 123, 131, 194, 62, 170, 43, 65, 134, 58, 130, 15, 343, 104, 159, 140, 263, 180, 183, 119, 145, 100, 237, 33, 22, 43, 200, 160, 262, 145, 163, 225, 134, 40, 81, 87, 48, 16, 38, 40, 15, 20, 266, 171, 127, 137, 238, 45, 70, 135, 262, 93, 149, 206, 47, 58, 12, 120, 90, 130, 11, 110, 182, 150, 14, 23, 46, 150, 82, 238, 185, 253, 143, 160, 141, 182, 117, 74, 173, 199, 229, 167, 95, 129, 134, 129, 224, 237, 113, 155, 165, 192, 210, 313, 270, 392, 19, 245, 56, 127, 160, 50, 157, 27, 13, 141, 145, 16, 16, 170, 40, 55, 24, 87, 123, 50, 26, 120, 160, 19, 11, 407, 35, 21, 44, 91, 43, 100, 20, 32, 23, 131, 80, 65, 129, 138, 11, 168, 42, 60, 25, 50, 71, 29, 141, 62, 104, 94, 30, 68, 15, 21, 99, 28, 36, 34, 31, 16, 129, 50, 191, 22, 36, 40, 54, 46, 26, 30, 29, 193, 30, 244, 245, 345, 124, 116, 68, 42, 53, 107, 33, 15, 70, 49, 27, 175, 116, 400, 265, 417, 92, 195, 140, 102, 92, 28, 40, 80, 115, 175, 312, 172, 302, 70, 43, 108, 83, 458, 293, 296, 37, 24, 30, 17, 59, 100, 23, 28, 41, 16, 90, 85, 109, 35, 24, 21, 55, 27, 110, 114, 85, 30, 112, 164, 44, 85, 52, 42, 35, 27, 21, 83, 27, 19, 14, 14, 107, 86, 253, 296, 23, 239, 41, 16, 30, 160, 40, 13, 127, 30, 70, 51, 32, 12, 19, 179, 96, 23, 272, 29, 26, 67, 97, 17, 126, 30, 11, 25, 19, 12, 288, 29, 40, 45, 132, 62, 97, 25, 23, 210, 119, 45, 31, 66, 24, 18, 122, 179, 45, 15, 175, 169, 21, 253, 24, 120, 120, 19, 116, 31, 14, 19, 45, 105, 18, 14, 110, 197, 16, 78, 21, 87, 18, 24, 90, 35, 56, 75, 17, 66, 39, 97, 28, 96, 32, 207, 40, 101, 11, 100, 13, 48, 31, 25, 180, 165, 67, 20, 24, 14, 139, 47, 204, 20, 16, 40, 26, 36, 31, 201, 86, 135, 149, 152, 28, 115, 28, 148, 90, 18, 51, 35, 101, 21, 15, 13, 34, 30, 25, 17, 55, 25, 40, 18, 26, 61, 13, 47, 54, 39, 30, 36, 48, 12, 56, 250, 60, 14, 12, 50, 63, 30, 40, 13, 50, 34, 105, 35, 23, 43, 12, 22, 18, 55, 28, 36, 68, 21, 28, 48, 38, 280, 280, 230, 40, 46, 59, 17, 17, 25, 56, 18, 11, 60, 29, 40, 59, 12, 35, 41, 25, 35, 11, 195, 51, 195, 24, 64, 53, 42, 140, 80, 135, 80, 55, 50, 135, 103, 15, 67, 90, 20, 63, 47, 34, 100, 34, 75, 91, 42, 20, 11, 72, 15, 72, 34, 28, 112, 142, 98, 153, 54, 41, 63, 44, 13, 68, 32, 210, 105, 81, 30, 130, 24, 21, 34, 45, 18, 79, 11, 217, 43, 36, 74, 20, 198, 101, 120, 119, 121, 94, 47, 31, 29, 150, 155, 28, 11, 22, 104, 37, 101, 34, 99, 163, 95, 45, 104, 23, 11, 45, 159, 205, 246, 41, 45, 27, 12, 19, 17, 13, 94, 83, 14, 25, 96, 105, 91, 210, 34, 95, 50, 168, 54, 190, 11, 13, 154, 19, 29, 35, 29, 200, 17, 16, 55, 39, 45, 15, 34, 20, 48, 78, 41, 34, 85, 142, 20, 16, 16, 75, 58, 90, 42, 24, 246, 45, 26, 23, 18, 90, 56, 110, 81, 15, 40, 40, 57, 85, 18, 285, 330, 28, 60, 30, 60, 12, 28, 30, 90, 62, 72, 22, 12, 59, 35, 35, 27, 24, 105, 40, 55, 18, 38, 14, 18, 26, 43, 28, 44, 28, 13, 139, 105, 65, 121, 60, 24, 19, 19, 63, 39, 45, 52, 19, 27, 23, 16, 12, 15, 40, 31, 13, 22, 38, 30, 31, 144, 115, 53, 83, 42, 22, 129, 35, 90, 11, 75, 24, 54, 15, 153, 17, 36, 45, 46, 39, 106, 50, 11, 92, 80, 22, 34, 23, 91, 95, 32, 135, 30, 22, 315, 93, 80, 47, 13, 11, 20, 36, 41, 13, 190, 29, 19, 17, 57, 40, 80, 17, 180, 11, 23, 12, 78, 135, 41, 166, 26, 16, 155, 55, 360, 27, 167, 122, 11, 15, 86, 20, 14, 55, 166, 35, 23, 130, 47, 24, 75, 438, 66, 86, 34, 148, 38, 19, 49, 205, 96, 27, 409, 15, 11, 44, 25, 18, 280, 80, 44, 12, 68, 12, 30, 37, 24, 222, 60, 106, 27, 12, 40, 60, 50, 78, 133, 25, 118, 60, 123, 33, 21, 36, 23, 31, 26, 25, 83, 43, 26, 20, 21, 12, 32, 49, 23, 50, 54, 59, 47, 18, 207, 140, 20, 75, 71, 23, 91, 84, 39, 33, 19, 69, 20, 12, 32, 63, 42, 13, 90, 39, 90, 66, 15, 61, 21, 57, 135, 135, 21, 26, 27, 122, 13, 60, 33, 25, 46, 32, 52, 24, 11, 45, 37, 36, 15, 43, 38, 24, 282, 11, 202, 258, 77, 20, 20, 80, 105, 90, 240, 25, 15, 110, 70, 49, 119, 17, 14, 64, 310, 84, 46, 206, 13, 46, 18, 222, 60, 22, 13, 100, 22, 39, 27, 33, 28, 44, 64, 44, 123, 109, 135, 121, 69, 155, 43, 135, 35, 30, 35, 60, 102, 68, 22, 29, 63, 16, 35, 69, 85, 75, 47, 14, 260, 98, 82, 240, 12, 184, 40, 28, 152, 96, 64, 91, 451, 360, 33, 51, 50, 80, 19, 26, 23, 15, 13, 19, 39, 16, 20, 14, 60, 97, 74, 15, 42, 209, 47, 122, 28, 95, 48, 28, 128, 14, 26, 43, 25, 37, 126, 28, 104, 152, 202, 84, 163, 150, 45, 21, 19, 80, 39, 49, 12, 16, 19, 61, 69, 56, 15, 26, 25, 21, 15, 16, 24, 50, 30, 14, 39, 19, 25, 19, 91, 16, 31, 115, 44, 110, 20, 43, 20, 21, 30, 16, 40, 23, 13, 51, 98, 38, 62, 91, 36, 40, 26, 385, 73, 12, 20, 49, 208, 155, 50, 87, 65, 22, 53, 46, 17, 126, 13, 54, 196, 145, 50, 105, 43, 24, 28, 69, 190, 63, 15, 61, 29, 36, 24, 17, 16, 96, 49, 15, 120, 49, 208, 72, 19, 19, 25, 96, 92, 19, 18, 15, 32, 109, 29, 15, 38, 290, 30, 126, 24, 92, 11, 19, 97, 20, 15, 18, 19, 22, 20, 15, 25, 28, 103, 296, 12, 17, 32, 238, 209, 18, 169, 71, 71, 32, 65, 113, 51, 74, 66, 39, 23, 37, 25, 30, 36, 26, 35, 134, 49, 24, 55, 87, 75, 117, 32, 42, 209, 194, 81, 99, 88, 11, 18, 17, 220, 165, 60, 19, 371, 65, 170, 115, 70, 35, 200, 175, 71, 20, 55, 47, 59, 14, 67, 20, 39, 53, 115, 122, 307, 315, 388, 56, 74, 126, 20, 73, 157, 27, 180, 60, 43, 383, 19, 11, 143, 186, 100, 180, 32, 31, 12, 132, 36, 32, 33, 24, 39, 35, 29, 46, 60, 87, 33, 111, 89, 174, 20, 30, 28, 165, 55, 78, 21, 22, 83, 37, 45, 83, 32, 24, 118, 51, 18, 48, 20, 16, 47, 14, 31, 78, 225, 75, 25, 90, 140, 55, 20, 150, 37, 91, 30, 14, 47, 25, 17, 81, 122, 15, 80, 25, 20, 27, 60, 155, 184, 78, 17, 156, 77, 35, 108, 97, 87, 33, 23, 77, 17, 26, 49, 13, 116, 91, 95, 105, 57, 13, 135, 22, 85, 28, 181, 83, 256, 207, 50, 89, 39, 13, 45, 45, 11, 71, 25, 140, 85, 23, 18, 41, 54, 90, 21, 57, 40, 120, 147, 105, 36, 27, 91, 47, 84, 71, 80, 54, 33, 213, 12, 77, 18, 42, 46, 13, 12, 33, 165, 45, 40, 60, 103, 28, 104, 20, 75, 44, 203, 29, 37, 13, 21, 35, 33, 30, 13, 48, 75, 19, 29, 36, 44, 46, 36, 50, 20, 16, 38, 23, 198, 45, 20, 16, 50, 49, 12, 49, 38, 12, 28, 59, 52, 13, 28, 91, 23, 27, 191, 113, 55, 22, 170, 50, 115, 100, 16, 33, 21, 99, 119, 71, 67, 43, 14, 139, 92, 69, 36, 43, 12, 78, 13, 58, 33, 45, 16, 18, 18, 11, 35, 45, 22, 118, 92, 14, 41, 26, 30, 93, 65, 211, 50, 115, 48, 76, 29, 68, 21, 116, 82, 35, 28, 24, 51, 23, 27, 79, 41, 46, 28, 21, 14, 15, 17, 25, 43, 66, 41, 36, 38, 36, 33, 11, 35, 16, 44, 21, 11, 27, 50, 15, 17, 16, 102, 18, 19, 48, 265, 44, 69, 32, 15, 51, 26, 42, 55, 21, 22, 29, 29, 15, 47, 12, 40, 36, 43, 108, 78, 67, 11, 49, 45, 36, 58, 12, 71, 45, 17, 147, 39, 140, 14, 84, 70, 42, 69, 11, 23, 17, 39, 67, 150, 105, 55, 190, 55, 13, 47, 25, 25, 30, 19, 92, 20, 130, 170, 18, 32, 76, 45, 14, 74, 21, 44, 84, 23, 59, 13, 62, 27, 24, 36, 85, 51, 33, 42, 140, 38, 38, 89, 19, 168, 50, 104, 48, 42, 75, 30, 87, 25, 42, 25, 14, 25, 67, 112, 28, 23, 14, 216, 19, 68, 121, 23, 105, 102, 36, 14, 60, 80, 160, 70, 68, 130, 48, 33, 172, 120, 18, 15, 37, 60, 110, 60, 57, 52, 104, 31, 45, 25, 39, 17, 31, 27, 15, 12, 58, 55, 27, 50, 61, 15, 35, 25, 69, 29, 60, 100, 138, 45, 75, 162, 22, 26, 43, 368, 97, 42, 37, 40, 49, 179, 100, 55, 70, 310, 37, 33, 214, 437, 27, 14, 45, 81, 40, 49, 23, 125, 120, 100, 275, 95, 253, 85, 38, 59, 52, 46, 96, 209, 22, 26, 12, 142, 54, 90, 45, 31, 24, 123, 14, 247, 32, 11, 65, 288, 81, 47, 57, 53, 29, 14, 60, 35, 99, 112, 25, 55, 54, 68, 46, 14, 37, 150, 80, 53, 30, 100, 165, 50, 126, 11, 170, 27, 18, 130, 130, 61, 27, 11, 12, 16, 132, 20, 31, 58, 29, 86, 120, 210, 180, 26, 154, 15, 12, 28, 18, 39, 29, 76, 32, 57, 17, 36, 47, 34, 150, 75, 65, 175, 24, 136, 26, 34, 96, 59, 36, 103, 102, 63, 172, 52, 60, 83, 120, 105, 70, 32, 63, 25, 105, 44, 23, 116, 57, 16, 70, 66, 312, 42, 26, 43, 60, 79, 165, 22, 210, 23, 110, 115, 37, 90, 250, 22, 74, 16, 85, 80, 175, 191, 112, 130, 12, 46, 26, 11, 150, 130, 83, 103, 36, 75, 52, 26, 93, 27, 46, 90, 54, 29, 20, 30, 17, 11, 18, 16, 11, 25, 78, 130, 110, 215, 89, 23, 20, 16, 26, 59, 22, 23, 29, 94, 32, 27, 87, 13, 63, 105, 101, 47, 27, 11, 13, 64, 37, 13, 23, 47, 30, 200, 135, 37, 45, 140, 135, 150, 60, 55, 100, 62, 23, 47, 56, 12, 15, 154, 47, 111, 121, 43, 32, 36, 106, 260, 44, 201, 31, 58, 206, 210, 130, 131, 115, 130, 75, 130, 105, 103, 28, 81, 16, 50, 24, 72, 188, 20, 20, 52, 19, 80, 71, 186, 45, 17, 39, 91, 12, 32, 70, 75, 140, 44, 53, 87, 37, 30, 46, 25, 139, 55, 26, 27, 31, 43, 186, 87, 50, 41, 14, 60, 208, 17, 86, 120, 36, 98, 165, 75, 38, 14, 20, 37, 34, 72, 19, 14, 30, 16, 158, 92, 173, 19, 143, 14, 49, 27, 53, 21, 129, 50, 25, 150, 205, 11, 55, 35, 199, 48, 19, 77, 242, 12, 105, 170, 23, 20, 28, 17, 106, 12, 45, 17, 17, 20, 160, 40, 276, 130, 140, 45, 65, 135, 150, 43, 24, 168, 132, 340, 62, 21, 118, 85, 225, 26, 20, 19, 28, 106, 27, 109, 186, 15, 159, 136, 102, 43, 93, 70, 75, 39, 217, 125, 15, 17, 78, 22, 13, 20, 47, 95, 258, 111, 30, 310, 80, 275, 70, 60, 194, 170, 61, 50, 21, 270, 100, 135, 28, 25, 103, 196, 32, 103, 46, 31, 22, 39, 38, 105, 14, 42, 11, 193, 105, 215, 341, 48, 169, 110, 55, 165, 11, 26, 24, 20, 185, 217, 93, 71, 44, 145, 140, 140, 75, 140, 58, 16, 30, 30, 54, 150, 160, 28, 27, 15, 250, 14, 50, 305, 11, 52, 270, 340, 27, 365, 14, 42, 18, 115, 13, 30, 38, 96, 13, 38, 38, 81, 24, 19, 26, 29, 26, 20, 70, 16, 13, 15, 54, 26, 75, 66, 79, 45, 22, 140, 40, 136, 306, 414, 19, 44, 62, 40, 69, 11, 148, 62, 38, 29, 89, 22, 45, 67, 60, 143, 140, 15, 60, 43, 16, 158, 190, 50, 108, 64, 76, 51, 109, 349, 22, 15, 22, 160, 13, 130, 55, 41, 41, 70, 63, 15, 95, 137, 90, 148, 12, 65, 50, 38, 107, 20, 40, 73, 65, 32, 147, 25, 103, 20, 19, 38, 31, 11, 98, 151, 75, 32, 78, 15, 71, 27, 56, 21, 192, 43, 101, 45, 18, 32, 80, 38, 48, 43, 45, 120, 120, 105, 79, 16, 58, 95, 17, 215, 205, 16, 40, 103, 110, 152, 43, 194, 41, 75, 121, 70, 11, 38, 76, 66, 130, 107, 70, 50, 16, 78, 20, 46, 36, 170, 235, 17, 31, 125, 62, 20, 130, 92, 110, 61, 49, 12, 108, 157, 108, 31, 35, 109, 70, 25, 40, 11, 20, 55, 16, 70, 90, 172, 132, 70, 51, 152, 46, 68, 16, 13, 191, 21, 115, 27, 55, 13, 90, 77, 31, 32, 43, 442, 111, 32, 13, 176, 180, 13, 16, 46, 50, 66, 11, 80, 50, 41, 31, 52, 151, 75, 164, 142, 32, 15, 50, 69, 12, 46, 107, 33, 59, 23, 225, 30, 165, 35, 195, 125, 200, 213, 20, 40, 126, 54, 88, 20, 50, 12, 119, 56, 40, 22, 33, 60, 83, 49, 48, 99, 126, 358, 479, 145, 99, 65, 88, 104, 25, 145, 55, 119, 159, 44, 26, 57, 15, 172, 115, 70, 34, 11, 295, 49, 94, 31, 16, 16, 140, 115, 139, 29, 86, 21, 47, 34, 100, 12, 107, 178, 30, 14, 222, 208, 48, 13, 199, 222, 135, 42, 16, 75, 34, 112, 67, 30, 78, 19, 61, 112, 334, 47, 141, 272, 218, 225, 200, 63, 15, 214, 116, 250, 105, 94, 111, 160, 31, 26, 38, 90, 12, 90, 37, 140, 35, 72, 171, 270, 111, 349, 20, 16, 28, 59, 100, 11, 150, 255, 28, 30, 44, 16, 25, 16, 44, 39, 28, 11, 18, 80, 17, 46, 13, 16, 29, 52, 115, 208, 146, 303, 167, 94, 337, 105, 12, 15, 16, 60, 255, 39, 14, 33, 16, 26, 145, 52, 16, 13, 31, 14, 41, 21, 90, 99, 24, 47, 60, 94, 73, 20, 62, 76, 56, 147, 74, 93, 244, 45, 118, 55, 233, 70, 40, 55, 144, 195, 105, 179, 133, 210, 167, 25, 405, 60, 137, 36, 95, 158, 143, 139, 81, 50, 110, 87, 24, 68, 200, 136, 23, 87, 83, 122, 79, 41, 23, 57, 94, 14, 12, 138, 17, 13, 134, 12, 29, 45, 20, 93, 103, 179, 47, 128, 88, 114, 80, 80, 89, 26, 92, 223, 54, 29, 14, 181, 165, 190, 219, 78, 130, 269, 197, 207, 88, 275, 101, 434, 125, 37, 119, 252, 276, 192, 43, 68, 149, 112, 147, 65, 124, 90, 11, 64, 19, 303, 29, 25, 13, 37, 67, 38, 60, 13, 225, 115, 431, 34, 60, 18, 46, 66, 53, 13, 72, 22, 23, 109, 132, 217, 66, 209, 142, 210, 148, 60, 33, 39, 58, 29, 69, 120, 20, 144, 92, 223, 92, 260, 154, 169, 53, 88, 102, 66, 165, 225, 24, 284, 173, 104, 244, 113, 118, 29, 14, 19, 35, 36, 88, 24, 140, 182, 57, 24, 161, 13, 163, 16, 184, 107, 95, 90, 219, 109, 322, 92, 240, 356, 346, 110, 325, 154, 85, 279, 150, 59, 283, 215, 147, 363, 205, 199, 153, 211, 167, 160, 20, 145, 105, 140, 110, 71, 42, 100, 110, 225, 120, 55, 150, 30, 25, 12, 220, 300, 70, 319, 346, 40, 157, 282, 136, 127, 95, 162, 130, 378, 120, 219, 143, 277, 97, 200, 115, 85, 309, 222, 208, 264, 195, 167, 169, 186, 144, 144, 98, 119, 130, 209, 161, 245, 183, 343, 267, 186, 200, 200, 223, 78, 183, 134, 287, 80, 270, 96, 166, 154, 95, 163, 35, 44, 17, 82, 35, 60, 158, 147, 90, 108, 93, 73, 64, 77, 40, 45, 180, 204, 462, 197, 191, 190, 215, 157, 186, 261, 230, 129, 368, 154, 158, 133, 56, 48, 248, 45, 181, 107, 154, 43, 36, 110, 17, 11, 72, 152, 255, 130, 137, 221, 194, 178, 116, 163, 184, 120, 274, 219, 174, 243, 170, 129, 230, 156, 82, 168, 52, 156, 130, 213, 35, 42, 37, 25, 152, 171, 254, 104, 68, 222, 106, 82, 36, 159, 25, 78, 236, 70, 250, 141, 166, 196, 155, 271, 251, 143, 131, 111, 136, 191, 192, 52, 67, 74, 260, 322, 15, 23, 71, 25, 19, 77, 23, 125, 213, 197, 178, 123, 262, 14, 140, 63, 73, 55, 125, 108, 80, 66, 131, 54, 86, 13, 130, 14, 180, 23, 59, 210, 138, 90, 163, 105, 90, 67, 16, 11, 20, 55, 20, 29, 43, 164, 60, 18, 42, 49, 55, 57, 93, 54, 35, 42, 187, 23, 15, 55, 80, 23, 65, 41, 49, 53, 119, 20, 38, 28, 59, 50, 130, 42, 13, 57, 81, 110, 46, 49, 69, 107, 23, 23, 77, 239, 53, 49, 131, 178, 73, 257, 131, 42, 80, 26, 91, 116, 51, 178, 25, 11, 393, 21, 36, 58, 196, 25, 171, 55, 48, 104, 30, 14, 60, 105, 50, 83, 210, 115, 50, 30, 210, 96, 33, 38, 401, 149, 265, 67, 111, 24, 85, 75, 95, 78, 40, 138, 45, 21, 12, 89, 27, 14, 19, 16, 35, 17, 25, 37, 60, 47, 115, 85, 42, 156, 76, 108, 78, 91, 30, 18, 103, 170, 24, 18, 120, 112, 75, 13, 90, 105, 45, 140, 75, 42, 62, 212, 33, 65, 33, 44, 179, 77, 58, 48, 47, 26, 135, 65, 31, 120, 195, 95, 36, 24, 22, 34, 51, 36, 71, 49, 73, 57, 21, 80, 100, 74, 40, 60, 70, 75, 13, 65, 33, 45, 32, 19, 57, 174, 145, 21, 230, 37, 30, 230, 110, 47, 54, 68, 110, 19, 65, 19, 89, 40, 130, 110, 120, 12, 49, 72, 72, 228, 34, 29, 36, 55, 60, 13, 53, 18, 20, 317, 40, 15, 25, 37, 22, 90, 135, 57, 145, 92, 29, 228, 53, 69, 140, 147, 75, 115, 15, 210, 235, 129, 63, 75, 68, 40, 15, 90, 132, 120, 107, 88, 59, 195, 117, 168, 157, 50, 28, 240, 70, 26, 24, 100, 20, 129, 22, 30, 55, 130, 105, 100, 140, 18, 35, 129, 24, 59, 60, 31, 95, 111, 31, 96, 21, 142, 67, 13, 147, 38, 90, 225, 40, 120, 20, 200, 100, 220, 110, 45, 55, 143, 102, 38, 149, 32, 193, 110, 125, 191, 43, 80, 66, 108, 50, 165, 180, 80, 85, 80, 52, 90, 102, 36, 53, 167, 360, 35, 85, 11, 12, 18, 12, 62, 77, 150, 150, 250, 53, 15, 45, 15, 141, 24, 101, 14, 71, 150, 54, 21, 19, 25, 60, 15, 12, 23, 16, 52, 90, 11, 22, 37, 20, 17, 129, 24, 13, 23, 29, 176, 68, 51, 61, 100, 25, 90, 55, 55, 30, 70, 105, 19, 11, 26, 65, 12, 30, 27, 12, 40, 18, 161, 35, 83, 108, 14, 135, 97, 97, 37, 61, 125, 13, 159, 95, 15, 90, 45, 116, 150, 63, 17, 17, 16, 166, 170, 25, 199, 70, 15, 30, 23, 78, 125, 38, 116, 47, 62, 115, 195, 49, 20, 105, 202, 16, 110, 14, 105, 95, 52, 28, 127, 34, 58, 11, 100, 80, 17, 23, 40, 91, 19, 67, 12, 57, 121, 59, 154, 64, 374, 33, 22, 17, 11, 15, 46, 76, 39, 180, 121, 267, 170, 84, 113, 91, 110, 59, 29, 58, 47, 165, 20, 13, 24, 180, 160, 26, 103, 134, 42, 25, 14, 194, 367, 170, 104, 26, 21, 202, 11, 105, 90, 323, 14, 44, 25, 161, 292, 80, 15, 47, 56, 45, 102, 161, 40, 48, 220, 210, 40, 12, 29, 118, 97, 110, 186, 63, 119, 140, 184, 80, 55, 18, 36, 54, 35, 115, 80, 124, 83, 11, 170, 110, 96, 28, 87, 146, 40, 160, 165, 33, 65, 50, 120, 100, 100, 25, 40, 127, 101, 118, 18, 23, 80, 24, 11, 79, 96, 247, 13, 11, 24, 15, 55, 34, 80, 40, 101, 66, 24, 106, 50, 124, 68, 12, 127, 42, 20, 19, 23, 22, 11, 81, 57, 26, 77, 17, 75, 79, 13, 160, 49, 25, 33, 108, 34, 41, 135, 20, 53, 12, 80, 49, 18, 114, 25, 95, 29, 42, 40, 63, 42, 54, 13, 16, 12, 134, 136, 220, 75, 47, 16, 101, 45, 73, 46, 128, 58, 77, 187, 46, 190, 160, 210, 190, 89, 130, 49, 170, 59, 11, 278, 40, 25, 13, 16, 79, 170, 63, 105, 107, 105, 58, 54, 53, 13, 95, 11, 15, 150, 16, 115, 80, 11, 16, 64, 52, 25, 21, 12, 105, 83, 21, 38, 65, 45, 62, 100, 54, 46, 66, 52, 65, 125, 27, 11, 13, 75, 40, 107, 105, 190, 88, 40, 69, 62, 90, 80, 19, 120, 112, 110, 112, 113, 70, 80, 75, 17, 151, 147, 94, 19, 96, 112, 55, 151, 48, 42, 11, 40, 49, 14, 190, 32, 156, 19, 59, 62, 48, 91, 43, 93, 84, 78, 28, 45, 225, 31, 139, 75, 11, 24, 51, 63, 89, 37, 62, 12, 20, 41, 38, 22, 44, 125, 48, 25, 23, 14, 15, 100, 70, 180, 13, 56, 180, 42, 24, 100, 190, 175, 16, 35, 71, 19, 48, 34, 13, 13, 11, 43, 124, 80, 61, 109, 18, 21, 24, 130, 98, 43, 266, 28, 132, 16, 18, 23, 17, 36, 45, 15, 22, 42, 17, 29, 64, 253, 23, 38, 50, 67, 26, 53, 114, 209, 207, 83, 18, 59, 14, 131, 32, 52, 37, 149, 52, 30, 47, 81, 166, 45, 56, 18, 52, 39, 19, 47, 74, 127, 213, 36, 18, 52, 120, 91, 15, 148, 26, 31, 13, 37, 30, 39, 48, 25, 88, 17, 26, 15, 42, 57, 129, 80, 20, 75, 145, 153, 37, 19, 91, 19, 264, 11, 41, 215, 369, 289, 92, 73, 32, 20, 20, 26, 105, 60, 62, 84, 36, 136, 22, 100, 44, 39, 233, 115, 155, 150, 56, 88, 58, 170, 50, 120, 110, 20, 225, 83, 17, 22, 44, 20, 19, 13, 20, 50, 37, 138, 60, 149, 70, 142, 40, 56, 68, 59, 167, 34, 40, 100, 40, 255, 100, 90, 17, 17, 205, 43, 27, 82, 18, 100, 190, 150, 15, 45, 210, 120, 63, 240, 90, 90, 32, 66, 194, 21, 81, 29, 38, 11, 19, 20, 21, 315, 110, 26, 106, 33, 24, 46, 20, 28, 48, 47, 53, 25, 49, 55, 13, 11, 30, 256, 31, 70, 265, 280, 16, 15, 127, 54, 163, 36, 31, 57, 32, 45, 27, 81, 62, 57, 89, 109, 36, 66, 39, 59, 40, 78, 67, 70, 109, 42, 265, 117, 22, 76, 103, 166, 80, 68, 197, 125, 33, 34, 149, 212, 62, 45, 104, 73, 50, 60, 15, 21, 74, 114, 145, 42, 16, 21, 66, 61, 15, 21, 20, 54, 24, 22, 35, 42, 20, 193, 43, 90, 34, 50, 75, 90, 55, 128, 130, 133, 34, 155, 44, 32, 102, 24, 58, 30, 60, 23, 121, 47, 94, 151, 59, 57, 66, 44, 26, 57, 92, 126, 25, 17, 83, 11, 71, 37, 22, 65, 85, 23, 33, 90, 17, 100, 32, 24, 54, 25, 19, 39, 12, 81, 12, 167, 309, 21, 78, 49, 47, 46, 215, 46, 13, 15, 84, 82, 81, 16, 40, 14, 34, 15, 32, 38, 29, 39, 96, 174, 17, 66, 58, 149, 256, 17, 108, 196, 218, 11, 60, 114, 40, 45, 168, 44, 45, 48, 32, 36, 183, 90, 257, 114, 19, 142, 92, 102, 96, 83, 86, 80, 96, 45, 20, 149, 16, 22, 12, 48, 14, 220, 71, 65, 35, 88, 29, 320, 110, 145, 65, 284, 54, 40, 47, 145, 63, 61, 31, 33, 22, 51, 15, 22, 77, 16, 100, 106, 110, 107, 183, 14, 82, 70, 53, 45, 95, 15, 29, 88, 20, 18, 60, 41, 217, 63, 12, 255, 36, 32, 53, 241, 168, 49, 55, 36, 29, 66, 16, 79, 67, 45, 139, 99, 20, 50, 150, 98, 248, 145, 114, 25, 11, 32, 86, 103, 180, 120, 36, 100, 70, 16, 32, 150, 179, 37, 14, 85, 43, 47, 18, 246, 147, 70, 108, 48, 100, 77, 423, 77, 121, 40, 134, 101, 195, 88, 91, 230, 232, 119, 23, 245, 60, 110, 20, 67, 23, 27, 28, 240, 27, 89, 147, 160, 160, 45, 90, 50, 96, 75, 27, 142, 26, 52, 34, 51, 160, 55, 30, 172, 45, 181, 11, 85, 21, 31, 36, 136, 140, 21, 154, 77, 54, 16, 14, 129, 177, 36, 37, 82, 161, 103, 25, 123, 160, 21, 110, 184, 75, 119, 110, 245, 104, 111, 39, 119, 12, 52, 22, 11, 27, 18, 42, 178, 48, 12, 148, 33, 28, 41, 14, 120, 68, 130, 77, 26, 177, 107, 120, 100, 76, 125, 108, 118, 46, 118, 165, 80, 19, 61, 263, 26, 194, 123, 133, 114, 33, 183, 98, 62, 75, 105, 12, 74, 113, 146, 50, 66, 125, 140, 111, 70, 37, 18, 140, 35, 165, 35, 35, 73, 18, 64, 52, 201, 25, 86, 103, 29, 260, 42, 34, 138, 25, 45, 66, 38, 111, 15, 25, 12, 12, 87, 17, 22, 29, 19, 93, 45, 154, 44, 30, 61, 162, 107, 126, 132, 111, 93, 40, 111, 83, 137, 138, 190, 22, 27, 19, 26, 34, 60, 15, 47, 51, 33, 88, 138, 11, 39, 16, 16, 55, 15, 239, 31, 44, 11, 42, 150, 51, 32, 20, 51, 41, 160, 25, 30, 45, 40, 110, 165, 155, 180, 45, 50, 21, 13, 55, 27, 24, 90, 48, 26, 35, 68, 216, 100, 34, 17, 18, 11, 50, 85, 145, 135, 155, 18, 109, 47, 40, 130, 135, 190, 107, 14, 122, 83, 81, 178, 29, 396, 11, 62, 105, 12, 38, 29, 31, 28, 145, 23, 48, 122, 16, 324, 84, 11, 17, 103, 23, 51, 150, 43, 41, 75, 135, 126, 12, 33, 75, 49, 85, 75, 58, 152, 30, 27, 270, 25, 18, 207, 22, 230, 110, 312, 45, 16, 36, 74, 129, 180, 32, 70, 177, 180, 246, 178, 25, 16, 371, 298, 53, 50, 16, 199, 26, 25, 67, 66, 125, 153, 247, 152, 29, 80, 166, 170, 61, 145, 144, 70, 152, 21, 17, 39, 19, 32, 12, 83, 68, 238, 13, 41, 17, 102, 330, 16, 58, 60, 36, 22, 310, 38, 65, 12, 79, 148, 127, 317, 91, 52, 98, 194, 293, 13, 457, 74, 183, 346, 246, 150, 80, 21, 99, 41, 25, 116, 17, 62, 11, 29, 67, 79, 130, 95, 111, 92, 194, 47, 88, 21, 130, 31, 18, 197, 59, 300, 24, 58, 19, 40, 128, 243, 115, 29, 158, 75, 180, 137, 41, 376, 37, 24, 90, 25, 60, 70, 30, 28, 16, 33, 334, 45, 13, 44, 239, 31, 35, 12, 40, 96, 96, 14, 40, 189, 141, 25, 100, 20, 93, 70, 11, 40, 167, 215, 59, 120, 158, 43, 105, 35, 15, 72, 56, 210, 34, 15, 49, 14, 117, 100, 46, 57, 16, 16, 36, 17, 81, 58, 25, 355, 14, 111, 30, 210, 27, 101, 107, 197, 39, 43, 160, 220, 45, 31, 111, 96, 78, 190, 95, 26, 91, 43, 110, 65, 21, 156, 113, 135, 93, 27, 12, 57, 105, 16, 60, 82, 110, 86, 31, 30, 113, 17, 58, 18, 36, 128, 315, 91, 253, 148, 15, 115, 42, 408, 12, 34, 22, 105, 115, 135, 85, 48, 66, 368, 69, 16, 12, 221, 89, 14, 150, 21, 23, 114, 128, 53, 130, 294, 130, 24, 14, 54, 105, 186, 232, 48, 28, 42, 100, 140, 112, 113, 18, 163, 163, 120, 215, 147, 53, 121, 113, 120, 110, 81, 186, 14, 70, 57, 98, 276, 47, 187, 90, 14, 70, 163, 288, 222, 16, 45, 20, 31, 89, 120, 18, 107, 14, 212, 214, 11, 170, 41, 147, 98, 201, 44, 125, 201, 181, 128, 164, 205, 147, 203, 24, 25, 133, 19, 27, 42, 36, 88, 14, 128, 61, 129, 24, 56, 101, 52, 153, 42, 72, 21, 32, 23, 44, 70, 45, 145, 138, 12, 35, 16, 122, 76, 154, 76, 111, 42, 52, 125, 54, 20, 26, 164, 95, 69, 105, 104, 55, 78, 105, 82, 148, 169, 95, 95, 14, 12, 112, 51, 138, 42, 73, 188, 98, 110, 76, 80, 75, 165, 226, 67, 191, 92, 188, 74, 25, 107, 138, 218, 17, 130, 149, 142, 32, 60, 43, 133, 30, 17, 18, 285, 90, 74, 20, 97, 43, 22, 37, 54, 106, 177, 16, 250, 21, 77, 130, 45, 107, 38, 31, 22, 126, 210, 155, 124, 28, 189, 15, 16, 16, 42, 44, 60, 105, 16, 26, 28, 225, 149, 40, 21, 22, 17, 25, 50, 12, 22, 13, 15, 87, 60, 17, 92, 152, 30, 150, 82, 12, 103, 23, 45, 11, 32, 234, 284, 116, 262, 120, 20, 326, 16, 57, 48, 190, 38, 25, 59, 172, 40, 45, 11, 140, 110, 75, 75, 52, 156, 21, 27, 12, 20, 38, 138, 88, 79, 77, 59, 65, 90, 44, 140, 235, 17, 29, 84, 24, 30, 44, 20, 15, 90, 45, 92, 37, 33, 107, 33, 238, 60, 15, 21, 70, 76, 16, 76, 41, 85, 38, 22, 102, 74, 208, 13, 139, 69, 39, 65, 35, 56, 30, 88, 28, 128, 16, 58, 29, 53, 93, 75, 125, 50, 101, 34, 31, 78, 27, 240, 18, 68, 39, 15, 323, 11, 71, 62, 14, 75, 193, 52, 326, 44, 129, 22, 165, 94, 59, 71, 215, 63, 109, 50, 133, 35, 12, 15, 60, 105, 15, 66, 86, 12, 115, 16, 16, 224, 16, 61, 57, 14, 67, 13, 13, 38, 31, 237, 22, 22, 52, 42, 64, 35, 20, 46, 46, 11, 17, 88, 12, 11, 57, 139, 12, 88, 18, 28, 17, 36, 96, 90, 90, 34, 55, 105, 93, 77, 40, 13, 35, 88, 20, 20, 15, 15, 132, 54, 105, 20, 18, 15, 14, 11, 21, 275, 145, 54, 27, 20, 45, 13, 38, 11, 39, 100, 150, 120, 240, 180, 300, 105, 169, 444, 329, 161, 139, 139, 51, 19, 21, 19, 76, 61, 52, 18, 79, 46, 57, 39, 32, 30, 20, 11, 200, 16, 72, 29, 63, 94, 23, 26, 40, 35, 88, 51, 45, 42, 141, 27, 56, 89, 36, 69, 35, 97, 13, 78, 57, 35, 240, 130, 173, 95, 123, 117, 48, 39, 39, 121, 101, 113, 47, 140, 23, 44, 27, 75, 123, 170, 41, 81, 159, 54, 22, 165, 72, 145, 34, 156, 86, 17, 11, 15, 51, 58, 27, 89, 24, 119, 178, 100, 224, 96, 24, 25, 33, 185, 13, 35, 56, 182, 11, 49, 16, 109, 100, 165, 156, 48, 35, 23, 24, 17, 11, 29, 52, 221, 37, 225, 114, 31, 232, 38, 25, 103, 16, 20, 115, 175, 110, 101, 135, 27, 55, 25, 41, 12, 29, 44, 31, 60, 42, 58, 60, 113, 29, 86, 136, 20, 136, 43, 155, 29, 40, 58, 42, 52, 43, 45, 17, 73, 31, 14, 17, 44, 16, 16, 40, 111, 18, 141, 60, 22, 42, 29, 84, 19, 156, 25, 39, 44, 25, 25, 43, 18, 29, 38, 150, 16, 15, 26, 128, 14, 32, 13, 38, 50, 119, 21, 71, 74, 29, 17, 36, 26, 23, 53, 130, 318, 98, 165, 40, 164, 88, 196, 164, 79, 40, 17, 16, 30, 87, 235, 89, 293, 13, 12, 65, 206, 377, 39, 36, 145, 20, 51, 283, 285, 33, 32, 23, 173, 180, 269, 70, 207, 90, 88, 19, 407, 165, 125, 30, 387, 40, 45, 21, 19, 22, 30, 40, 22, 37, 13, 12, 55, 40, 151, 14, 17, 25, 15, 25, 127, 15, 30, 32, 13, 22, 238, 23, 17, 53, 30, 69, 52, 35, 221, 50, 225, 42, 13, 14, 30, 117, 56, 60, 14, 133, 150, 21, 61, 165, 105, 40, 110, 40, 69, 44, 17, 12, 76, 112, 38, 137, 14, 100, 122, 31, 50, 41, 13, 96, 160, 50, 180, 270, 375, 40, 25, 24, 12, 34, 12, 160, 155, 36, 21, 61, 16, 23, 28, 49, 148, 38, 45, 20, 41, 46, 25, 73, 300, 60, 13, 12, 23, 20, 16, 29, 127, 12, 90, 20, 37, 16, 70, 85, 53, 13, 41, 46, 26, 55, 42, 30, 12, 23, 39, 219, 22, 26, 343, 139, 26, 357, 18, 35, 145, 56, 92, 36, 183, 59, 237, 55, 19, 16, 16, 162, 169, 41, 20, 30, 90, 105, 60, 60, 25, 11, 42, 11, 66, 16, 50, 69, 49, 13, 17, 66, 17, 39, 32, 20, 36, 19, 14, 18, 46, 18, 41, 16, 54, 130, 53, 39, 143, 21, 368, 20, 28, 135, 25, 119, 83, 51, 62, 59, 28, 270, 195, 170, 162, 20, 129, 17, 45, 38, 43, 89, 59, 69, 59, 215, 101, 112, 113, 70, 290, 46, 102, 107, 92, 175, 150, 66, 25, 135, 164, 146, 157, 52, 38, 17, 17, 83, 119, 150, 65, 135, 120, 20, 12, 23, 73, 107, 51, 23, 49, 12, 22, 18, 80, 58, 31, 15, 54, 215, 89, 56, 110, 38, 22, 69, 58, 28, 33, 60, 58, 15, 37, 64, 103, 31, 48, 40, 85, 25, 19, 120, 180, 29, 12, 26, 49, 75, 20, 69, 46, 25, 80, 30, 12, 37, 37, 56, 91, 45, 45, 32, 105, 100, 60, 14, 24, 30, 27, 48, 12, 50, 86, 140, 156, 149, 68, 16, 71, 34, 165, 150, 90, 123, 70, 187, 38, 28, 17, 107, 17, 28, 40, 248, 162, 16, 307, 20, 298, 250, 24, 325, 146, 80, 19, 96, 50, 70, 19, 11, 21, 51, 105, 53, 48, 88, 25, 26, 19, 36, 34, 236, 115, 16, 160, 61, 37, 51, 15, 11, 42, 15, 84, 20, 125, 100, 33, 220, 104, 115, 77, 42, 23, 13, 27, 24, 66, 37, 77, 85, 48, 63, 20, 145, 178, 72, 89, 53, 31, 26, 56, 18, 11, 120, 46, 56, 94, 31, 39, 59, 51, 43, 63, 17, 88, 65, 30, 16, 105, 35, 33, 163, 145, 158, 143, 90, 33, 12, 15, 192, 45, 52, 23, 28, 21, 16, 60, 31, 240, 34, 14, 21, 57, 25, 65, 34, 19, 12, 31, 11, 14, 30, 80, 25, 125, 15, 124, 240, 172, 50, 97, 150, 140, 66, 13, 58, 11, 50, 52, 53, 25, 66, 19, 16, 28, 18, 50, 36, 33, 21, 42, 84, 120, 114, 37, 33, 13, 49, 139, 19, 40, 70, 72, 30, 25, 146, 78, 65, 50, 12, 49, 12, 19, 37, 16, 19, 16, 23, 94, 43, 165, 23, 229, 111, 67, 149, 52, 155, 19, 14, 60, 13, 35, 130, 21, 11, 225, 44, 199, 40, 12, 12, 34, 12, 15, 23, 43, 14, 32, 36, 99, 22, 93, 23, 24, 13, 37, 69, 59, 12, 142, 20, 18, 16, 12, 60, 98, 68, 206, 31, 79, 11, 17, 145, 42, 12, 20, 30, 20, 32, 96, 20, 31, 52, 17, 29, 110, 70, 107, 98, 45, 80, 334, 20, 38, 23, 41, 70, 116, 235, 85, 115, 80, 200, 116, 42, 75, 12, 13, 53, 35, 22, 324, 118, 11, 132, 61, 283, 136, 21, 11, 36, 60, 71, 77, 120, 90, 120, 21, 60, 23, 102, 176, 69, 85, 137, 208, 30, 205, 14, 130, 142, 86, 16, 90, 48, 146, 206, 76, 95, 91, 150, 19, 155, 65, 120, 70, 105, 162, 26, 107, 12, 13, 45, 20, 65, 58, 70, 29, 27, 36, 32, 14, 50, 47, 67, 20, 30, 52, 43, 69, 60, 30, 35, 51, 45, 79, 86, 39, 53, 65, 90, 79, 98, 207, 140, 109, 35, 54, 51, 13, 22, 15, 16, 31, 19, 90, 108, 26, 102, 41, 11, 47, 24, 90, 80, 18, 51, 260, 90, 58, 59, 132, 50, 132, 99, 166, 96, 116, 38, 99, 54, 36, 11, 94, 32, 34, 22, 15, 13, 233, 131, 108, 60, 30, 106, 35, 29, 17, 35, 64, 30, 23, 63, 25, 16, 86, 146, 37, 76, 44, 33, 163, 154, 175, 105, 61, 50, 45, 33, 81, 36, 105, 28, 11, 39, 58, 74, 17, 30, 224, 24, 32, 127, 13, 97, 25, 25, 196, 11, 27, 68, 17, 59, 82, 66, 128, 33, 34, 130, 113, 50, 35, 55, 98, 75, 39, 116, 72, 260, 73, 279, 100, 148, 259, 40, 195, 134, 32, 85, 15, 60, 18, 24, 17, 79, 152, 11, 81, 51, 23, 42, 56, 35, 197, 198, 106, 54, 16, 15, 60, 14, 54, 108, 55, 42, 55, 205, 70, 12, 70, 218, 76, 57, 80, 83, 37, 17, 80, 25, 85, 23, 315, 67, 220, 84, 64, 13, 34, 15, 50, 70, 40, 105, 120, 29, 51, 53, 48, 43, 49, 75, 51, 233, 47, 80, 164, 139, 29, 77, 26, 38, 104, 35, 15, 25, 53, 15, 123, 65, 39, 21, 56, 140, 159, 14, 88, 29, 204, 53, 60, 175, 52, 90, 56, 13, 178, 21, 84, 210, 33, 208, 61, 43, 77, 156, 20, 130, 105, 225, 18, 30, 70, 61, 63, 52, 175, 21, 32, 28, 118, 41, 81, 238, 18, 18, 60, 125, 64, 13, 98, 43, 222, 41, 93, 70, 25, 239, 23, 29, 31, 270, 33, 23, 52, 12, 64, 40, 30, 43, 110, 73, 35, 75, 89, 203, 21, 188, 56, 136, 205, 41, 370, 180, 60, 103, 25, 113, 199, 142, 94, 30, 31, 75, 84, 140, 17, 21, 37, 84, 12, 51, 119, 16, 58, 23, 160, 79, 20, 36, 12, 20, 21, 15, 25, 50, 60, 220, 50, 100, 57, 80, 120, 15, 47, 23, 22, 157, 14, 24, 90, 21, 193, 72, 48, 21, 20, 16, 131, 47, 40, 32, 82, 34, 110, 196, 115, 71, 40, 28, 70, 92, 18, 137, 95, 18, 14, 46, 29, 115, 44, 26, 70, 38, 33, 79, 50, 120, 75, 50, 26, 51, 53, 232, 113, 42, 20, 431, 15, 15, 70, 14, 78, 15, 81, 142, 14, 11, 97, 75, 268, 257, 12, 203, 70, 310, 55, 190, 30, 184, 46, 300, 224, 106, 451, 85, 105, 99, 188, 76, 24, 271, 73, 60, 24, 93, 54, 17, 321, 240, 41, 163, 59, 90, 106, 153, 185, 125, 42, 13, 28, 23, 131, 60, 60, 150, 100, 82, 25, 125, 39, 70, 122, 12, 38, 409, 60, 186, 138, 40, 43, 12, 93, 11, 37, 58, 415, 175, 40, 239, 32, 43, 21, 27, 93, 52, 12, 43, 29, 46, 64, 179, 36, 105, 18, 166, 152, 137, 31, 113, 60, 145, 166, 137, 360, 38, 146, 39, 110, 45, 145, 28, 75, 39, 63, 59, 120, 12, 220, 65, 52, 50, 34, 29, 155, 25, 23, 49, 37, 27, 154, 15, 20, 16, 23, 103, 18, 180, 120, 125, 52, 60, 275, 43, 34, 11, 283, 40, 39, 65, 29, 19, 180, 69, 135, 74, 23, 87, 23, 75, 90, 19, 75, 60, 23, 18, 18, 175, 150, 71, 29, 66, 80, 27, 24, 18, 25, 79, 72, 73, 72, 34, 17, 18, 11, 25, 165, 129, 68, 167, 70, 24, 88, 333, 19, 16, 40, 12, 34, 24, 23, 46, 34, 63, 25, 21, 126, 17, 12, 143, 32, 14, 26, 19, 12, 32, 21, 20, 41, 64, 100, 67, 11, 11, 38, 15, 68, 25, 160, 69, 97, 48, 197, 36, 60, 47, 84, 15, 40, 15, 12, 16, 71, 13, 13, 35, 30, 81, 11, 34, 63, 124, 151, 146, 60, 82, 64, 122, 32, 51, 103, 15, 78, 18, 136, 25, 16, 17, 104, 98, 115, 159, 109, 67, 24, 53, 138, 123, 40, 180, 31, 361, 24, 79, 59, 27, 123, 25, 82, 11, 50, 25, 235, 75, 13, 12, 270, 178, 54, 29, 225, 142, 11, 91, 43, 41, 28, 224, 27, 18, 87, 80, 42, 117, 82, 92, 23, 45, 48, 90, 117, 20, 109, 155, 178, 136, 11, 18, 16, 21, 46, 32, 24, 57, 17, 38, 75, 78, 76, 12, 46, 19, 103, 87, 95, 63, 73, 100, 85, 12, 86, 67, 30, 25, 102, 46, 109, 40, 58, 138, 89, 15, 68, 71, 36, 53, 30, 102, 103, 41, 85, 39, 49, 94, 42, 40, 80, 12, 36, 59, 106, 30, 46, 44, 75, 35, 42, 15, 92, 70, 94, 150, 26, 51, 106, 12, 19, 27, 26, 120, 90, 80, 43, 37, 19, 63, 25, 187, 80, 75, 13, 76, 19, 105, 70, 175, 91, 228, 29, 152, 247, 179, 30, 88, 39, 58, 136, 26, 18, 129, 86, 14, 26, 51, 17, 144, 35, 349, 20, 25, 110, 115, 38, 150, 118, 22, 63, 109, 90, 27, 67, 85, 49, 156, 20, 52, 28, 58, 15, 60, 25, 204, 79, 40, 12, 115, 90, 30, 12, 18, 112, 60, 16, 56, 26, 159, 25, 48, 47, 59, 48, 26, 131, 54, 204, 42, 271, 29, 176, 27, 12, 181, 84, 66, 29, 14, 44, 22, 325, 287, 28, 17, 16, 35, 70, 41, 54, 30, 42, 115, 25, 23, 13, 35, 48, 39, 177, 50, 110, 43, 13, 49, 17, 28, 62, 12, 17, 12, 70, 40, 73, 52, 290, 11, 66, 22, 61, 14, 51, 65, 41, 102, 28, 80, 45, 22, 20, 19, 159, 81, 24, 74, 210, 28, 171, 33, 29, 21, 28, 45, 100, 13, 12, 11, 34, 13, 73, 11, 120, 180, 202, 70, 85, 99, 17, 164, 150, 73, 40, 31, 43, 129, 98, 70, 55, 11, 56, 79, 23, 25, 13, 53, 223, 24, 30, 65, 11, 23, 81, 12, 34, 19, 175, 202, 62, 27, 24, 72, 15, 96, 14, 27, 205, 16, 98, 150, 99, 94, 26, 14, 25, 41, 23, 82, 80, 20, 30, 46, 77, 95, 62, 108, 24, 112, 11, 18, 17, 11, 68, 16, 111, 116, 58, 28, 59, 14, 43, 25, 93, 116, 110, 163, 190, 96, 45, 85, 87, 126, 11, 28, 196, 16, 114, 14, 11, 45, 159, 30, 31, 15, 15, 13, 13, 29, 89, 73, 45, 18, 60, 55, 87, 40, 62, 17, 50, 85, 141, 20, 45, 59, 50, 31, 95, 30, 57, 20, 22, 30, 57, 136, 25, 11, 187, 53, 30, 73, 28, 14, 25, 75, 45, 79, 38, 19, 49, 118, 34, 109, 22, 20, 45, 39, 14, 44, 50, 104, 57, 11, 148, 11, 54, 106, 27, 50, 20, 60, 64, 193, 67, 60, 25, 40, 55, 83, 23, 82, 87, 83, 169, 33, 59, 77, 72, 27, 37, 45, 48, 19, 15, 15, 65, 25, 117, 72, 116, 39, 221, 142, 70, 19, 90, 56, 16, 44, 35, 200, 204, 12, 22, 15, 15, 243, 46, 32, 11, 29, 87, 256, 61, 75, 47, 56, 30, 91, 12, 45, 23, 68, 122, 51, 42, 66, 59, 13, 11, 62, 53, 270, 55, 14, 31, 100, 220, 57, 13, 31, 137, 19, 149, 138, 18, 26, 71, 15, 57, 42, 82, 98, 71, 43, 81, 86, 55, 26, 25, 175, 102, 80, 50, 45, 44, 25, 73, 96, 29, 20, 29, 32, 96, 50, 35, 11, 18, 34, 282, 15, 31, 119, 157, 39, 15, 19, 180, 38, 15, 69, 30, 138, 165, 31, 20, 30, 220, 33, 57, 247, 197, 15, 55, 242, 186, 28, 21, 47, 182, 14, 55, 35, 14, 90, 112, 29, 110, 125, 15, 57, 26, 125, 16, 23, 51, 90, 50, 119, 12, 157, 103, 85, 70, 31, 47, 173, 51, 84, 210, 240, 17, 154, 52, 100, 75, 150, 105, 105, 38, 12, 24, 68, 58, 55, 18, 35, 54, 38, 32, 110, 88, 31, 12, 80, 33, 60, 71, 100, 116, 100, 118, 140, 79, 26, 43, 13, 68, 73, 34, 40, 54, 79, 57, 25, 51, 109, 14, 57, 79, 175, 130, 80, 50, 317, 13, 33, 21, 215, 20, 35, 30, 105, 75, 135, 45, 17, 91, 23, 33, 28, 42, 56, 21, 12, 147, 12, 17, 46, 11, 18, 18, 76, 12, 28, 48, 74, 79, 58, 40, 22, 170, 13, 39, 102, 80, 44, 132, 58, 22, 107, 77, 62, 14, 73, 107, 45, 64, 17, 109, 77, 19, 52, 53, 23, 27, 197, 23, 81, 33, 140, 30, 89, 60, 60, 135, 19, 22, 18, 69, 66, 190, 12, 100, 340, 17, 105, 55, 168, 19, 24, 194, 137, 40, 38, 45, 53, 73, 111, 73, 61, 15, 11, 32, 55, 12, 18, 161, 33, 30, 66, 17, 85, 40, 30, 227, 80, 146, 44, 22, 21, 86, 101, 74, 88, 32, 166, 293, 184, 54, 22, 294, 62, 85, 132, 15, 154, 110, 15, 40, 36, 50, 26, 38, 53, 25, 22, 72, 53, 162, 185, 32, 121, 22, 11, 39, 91, 53, 310, 31, 190, 56, 201, 11, 34, 38, 23, 455, 386, 286, 76, 45, 57, 45, 50, 70, 55, 11, 24, 81, 50, 245, 57, 16, 20, 85, 80, 52, 78, 40, 19, 36, 21, 23, 35, 72, 134, 21, 70, 27, 51, 79, 46, 70, 58, 114, 79, 27, 140, 26, 50, 183, 131, 34, 48, 13, 82, 70, 90, 42, 21, 11, 17, 41, 20, 47, 18, 62, 131, 165, 14, 11, 320, 25, 165, 124, 65, 246, 30, 190, 26, 22, 26, 132, 67, 159, 23, 108, 21, 67, 45, 114, 47, 150, 106, 16, 20, 81, 120, 20, 34, 40, 24, 115, 33, 29, 50, 23, 18, 40, 24, 16, 98, 30, 45, 12, 58, 83, 36, 63, 255, 211, 23, 64, 45, 250, 150, 59, 27, 45, 20, 18, 55, 11, 14, 124, 133, 12, 166, 36, 139, 19, 38, 55, 48, 269, 73, 175, 59, 59, 108, 28, 37, 13, 11, 17, 72, 13, 52, 94, 86, 117, 57, 12, 11, 13, 90, 81, 197, 22, 13, 218, 12, 240, 34, 18, 12, 12, 14, 142, 174, 46, 15, 13, 14, 11, 15, 43, 70, 20, 122, 34, 194, 51, 21, 51, 201, 113, 15, 38, 127, 117, 21, 23, 12, 15, 182, 20, 201, 34, 26, 321, 20, 25, 15, 78, 24, 19, 61, 100, 113, 30, 15, 66, 14, 16, 48, 66, 16, 99, 192, 46, 95, 56, 13, 113, 62, 193, 93, 249, 91, 43, 92, 104, 16, 419, 154, 111, 32, 37, 25, 23, 22, 68, 120, 58, 152, 226, 115, 18, 91, 148, 27, 15, 20, 146, 162, 54, 16, 15, 32, 30, 22, 16, 14, 31, 25, 68, 170, 15, 15, 16, 46, 17, 57, 42, 11, 26, 35, 11, 33, 89, 135, 30, 30, 107, 33, 17, 30, 14, 34, 19, 280, 156, 48, 145, 63, 48, 67, 36, 148, 38, 62, 29, 27, 13, 13, 80, 163, 11, 33, 26, 42, 21, 25, 97, 90, 78, 108, 13, 151, 46, 41, 17, 29, 48, 17, 20, 13, 62, 15, 16, 18, 95, 11, 34, 15, 58, 108, 19, 23, 45, 86, 40, 40, 40, 70, 25, 17, 40, 44, 70, 34, 122, 78, 225, 55, 110, 35, 14, 15, 16, 24, 60, 30, 23, 17, 21, 20, 50, 110, 36, 21, 70, 120, 60, 420, 23, 16, 14, 28, 12, 80, 19, 21, 11, 13, 13, 12, 23, 60, 90, 110, 50, 65, 20, 30, 22, 27, 90, 118, 31, 123, 87, 22, 85, 103, 201, 169, 30, 15, 49, 20, 76, 81, 24, 120, 20, 19, 12, 73, 28, 30, 45, 20, 23, 17, 63, 18, 19, 17, 18, 145, 187, 126, 49, 73, 12, 12, 220, 24, 220, 115, 220, 155, 140, 26, 53, 280, 54, 26, 200, 11, 21, 27, 14, 32, 16, 38, 15, 52, 48, 13, 25, 45, 49, 37, 28, 26, 43, 113, 127, 45, 15, 22, 210, 100, 110, 240, 228, 23, 13, 11, 13, 17, 105, 80, 16, 41, 70, 53, 131, 72, 11, 17, 22, 11, 18, 13, 22, 16, 70, 62, 37, 70, 165, 83, 60, 65, 213, 26, 120, 20, 84, 166, 103, 235, 105, 150, 325, 207, 30, 35, 329, 24, 27, 18, 79, 54, 74, 21, 73, 94, 14, 48, 29, 62, 181, 29, 19, 91, 56, 36, 30, 32, 56, 13, 28, 20, 27, 17, 14, 38, 168, 150, 376, 22, 78, 243, 154, 17, 79, 32, 35, 112, 15, 27, 110, 195, 29, 144, 117, 66, 30, 144, 99, 90, 56, 22, 20, 17, 15, 16, 13, 203, 85, 98, 31, 22, 65, 86, 235, 57, 80, 135, 93, 22, 54, 35, 38, 41, 101, 96, 14, 219, 90, 260, 347, 135, 18, 34, 43, 12, 39, 53, 236, 34, 21, 12, 32, 16, 93, 44, 129, 88, 56, 30, 157, 45, 25, 56, 84, 50, 34, 24, 107, 165, 97, 14, 43, 25, 25, 125, 60, 20, 18, 31, 18, 23, 124, 54, 194, 49, 84, 121, 34, 13, 14, 12, 56, 23, 36, 15, 25, 96, 30, 21, 11, 30, 16, 75, 201, 88, 263, 80, 110, 222, 206, 110, 61, 113, 11, 17, 16, 11, 56, 73, 29, 59, 156, 46, 94, 108, 17, 175, 195, 19, 28, 15, 311, 48, 33, 63, 201, 21, 105, 135, 28, 27, 40, 13, 14, 18, 160, 30, 87, 18, 27, 25, 23, 48, 21, 176, 157, 14, 16, 50, 22, 12, 24, 77, 22, 55, 135, 90, 28, 59, 24, 285, 19, 29, 39, 107, 85, 59, 32, 60, 93, 121, 21, 58, 16, 104, 20, 87, 46, 49, 40, 33, 11, 18, 39, 49, 33, 134, 30, 12, 96, 36, 43, 33, 23, 28, 20, 89, 11, 63, 17, 165, 285, 32, 13, 13, 25, 220, 229, 30, 26, 49, 15, 14, 36, 217, 32, 29, 56, 29, 17, 109, 43, 40, 16, 23, 39, 55, 11, 38, 17, 27, 14, 41, 383, 312, 338, 165, 210, 154, 83, 13, 76, 11, 106, 47, 55, 40, 165, 90, 15, 19, 33, 80, 67, 20, 17, 28, 13, 12, 90, 102, 45, 64, 191, 182, 275, 175, 36, 158, 429, 200, 30, 16, 283, 40, 33, 40, 134, 29, 11, 71, 15, 24, 26, 11, 49, 17, 15, 24, 15, 23, 16, 17, 18, 19, 11, 13, 29, 33, 50, 24, 45, 45, 53, 19, 90, 67, 85, 22, 11, 111, 20, 36, 22, 170, 24, 16, 15, 13, 54, 356, 50, 20, 91, 16, 12, 29, 11, 25, 12, 22, 18, 14, 20, 11, 65, 41, 28, 59, 11, 20, 63, 24, 14, 23, 29, 14, 32, 64, 89, 25, 125, 80, 16, 21, 11, 19, 13, 78, 103, 35, 46, 15, 55, 242, 310, 28, 12, 122, 15, 71, 14, 17, 16, 28, 210, 120, 70, 105, 165, 115, 35, 15, 16, 248, 16, 45, 39, 188, 36, 24, 11, 16, 49, 50, 31, 35, 40, 16, 20, 18, 98, 112, 378, 99, 32, 154, 97, 51, 19, 14, 57, 27, 15, 21, 21, 14, 48, 18, 17, 20, 12, 20, 29, 26, 16, 31, 13, 17, 25, 23, 45, 62, 14, 46, 28, 29, 20, 29, 185, 40, 36, 102, 23, 33, 25, 60, 80, 86, 157, 98, 21, 13, 13, 103, 64, 39, 182, 30, 140, 33, 99, 12, 39, 35, 18, 135, 16, 19, 12, 49, 117, 162, 39, 27, 186, 26, 44, 50, 54, 14, 40, 63, 153, 117, 95, 49, 141, 127, 233, 62, 23, 173, 25, 18, 248, 59, 98, 63, 47, 180, 47, 25, 113, 45, 17, 106, 13, 158, 17, 22, 23, 35, 191, 29, 151, 12, 16, 207, 14, 44, 34, 12, 18, 20, 34, 52, 31, 137, 35, 180, 55, 159, 36, 53, 32, 52, 11, 11, 18, 12, 15, 16, 17, 17, 12, 20, 34, 26, 81, 98, 15, 12, 17, 92, 39, 139, 21, 181, 96, 32, 184, 22, 71, 35, 169, 28, 165, 93, 185, 14, 212, 25, 58, 12, 11, 123, 61, 60, 91, 20, 38, 22, 11, 38, 61, 35, 109, 77, 11, 16, 26, 11, 94, 15, 105, 128, 30, 166, 52, 61, 18, 26, 30, 13, 17, 18, 52, 41, 100, 110, 114, 13, 45, 12, 17, 33, 26, 23, 28, 130, 50, 23, 53, 92, 26, 35, 59, 22, 169, 65, 37, 17, 90, 92, 106, 32, 232, 240, 35, 24, 13, 23, 16, 14, 15, 32, 45, 95, 75, 131, 22, 98, 269, 45, 32, 57, 25, 118, 32, 19, 30, 13, 16, 36, 18, 19, 89, 16, 313, 214, 340, 150, 17, 18, 97, 46, 151, 81, 39, 216, 20, 11, 24, 18, 17, 32, 99, 58, 28, 13, 23, 42, 60, 23, 31, 137, 48, 289, 16, 14, 35, 91, 40, 12, 12, 12, 19, 11, 14, 94, 24, 99, 13, 153, 13, 42, 16, 15, 80, 66, 47, 104, 96, 106, 16, 52, 137, 130, 33, 21, 14, 15, 17, 20, 21, 140, 145, 34, 107, 55, 108, 43, 58, 13, 90, 75, 94, 88, 90, 92, 52, 79, 43, 84, 95, 109, 41, 124, 189, 38, 73, 155, 175, 201, 62, 27, 33, 179, 270, 82, 12, 150, 28, 40, 112, 51, 50, 52, 23, 88, 370, 69, 16, 49, 152, 84, 31, 183, 13, 37, 20, 18, 14, 147, 81, 170, 174, 79, 34, 116, 91, 49, 55, 11, 63, 37, 13, 38, 117, 61, 87, 83, 12, 43, 75, 125, 24, 59, 207, 67, 11, 11, 120, 35, 90, 88, 55, 116, 135, 132, 25, 13, 17, 26, 250, 44, 27, 137, 40, 59, 57, 135, 13, 17, 20, 287, 90, 24, 80, 86, 51, 130, 24, 100, 46, 61, 56, 12, 15, 18, 11, 79, 26, 65, 29, 70, 28, 58, 20, 25, 147, 14, 30, 13, 19, 16, 51, 90, 46, 20, 74, 50, 32, 21, 12, 22, 33, 13, 17, 19, 33, 27, 15, 18, 12, 19, 11, 15, 30, 32, 77, 38, 55, 35, 24, 24, 36, 23, 26, 42, 15, 27, 30, 30, 19, 11, 250, 12, 287, 37, 25, 66, 14, 13, 23, 240, 242, 14, 12, 27, 97, 47, 48, 53, 27, 11, 123, 139, 11, 29, 100, 40, 34, 134, 16, 68, 26, 16, 36, 54, 64, 53, 14, 21, 25, 145, 12, 16, 24, 17, 17, 70, 53, 25, 17, 11, 11, 19, 26, 29, 75, 32, 23, 30, 18, 19, 17, 14, 15, 57, 27, 30, 17, 59, 11, 39, 15, 23, 40, 49, 47, 24, 18, 12, 17, 136, 30, 42]}],\n",
              "                        {\"template\": {\"data\": {\"bar\": [{\"error_x\": {\"color\": \"#2a3f5f\"}, \"error_y\": {\"color\": \"#2a3f5f\"}, \"marker\": {\"line\": {\"color\": \"#E5ECF6\", \"width\": 0.5}}, \"type\": \"bar\"}], \"barpolar\": [{\"marker\": {\"line\": {\"color\": \"#E5ECF6\", \"width\": 0.5}}, \"type\": \"barpolar\"}], \"carpet\": [{\"aaxis\": {\"endlinecolor\": \"#2a3f5f\", \"gridcolor\": \"white\", \"linecolor\": \"white\", \"minorgridcolor\": \"white\", \"startlinecolor\": \"#2a3f5f\"}, \"baxis\": {\"endlinecolor\": \"#2a3f5f\", \"gridcolor\": \"white\", \"linecolor\": \"white\", \"minorgridcolor\": \"white\", \"startlinecolor\": \"#2a3f5f\"}, \"type\": \"carpet\"}], \"choropleth\": [{\"colorbar\": {\"outlinewidth\": 0, \"ticks\": \"\"}, \"type\": \"choropleth\"}], \"contour\": [{\"colorbar\": {\"outlinewidth\": 0, \"ticks\": \"\"}, \"colorscale\": [[0.0, \"#0d0887\"], [0.1111111111111111, \"#46039f\"], [0.2222222222222222, \"#7201a8\"], [0.3333333333333333, \"#9c179e\"], [0.4444444444444444, \"#bd3786\"], [0.5555555555555556, \"#d8576b\"], [0.6666666666666666, \"#ed7953\"], [0.7777777777777778, \"#fb9f3a\"], [0.8888888888888888, \"#fdca26\"], [1.0, \"#f0f921\"]], \"type\": \"contour\"}], \"contourcarpet\": [{\"colorbar\": {\"outlinewidth\": 0, \"ticks\": \"\"}, \"type\": \"contourcarpet\"}], \"heatmap\": [{\"colorbar\": {\"outlinewidth\": 0, \"ticks\": \"\"}, \"colorscale\": [[0.0, \"#0d0887\"], [0.1111111111111111, \"#46039f\"], [0.2222222222222222, \"#7201a8\"], [0.3333333333333333, \"#9c179e\"], [0.4444444444444444, \"#bd3786\"], [0.5555555555555556, \"#d8576b\"], [0.6666666666666666, \"#ed7953\"], [0.7777777777777778, \"#fb9f3a\"], [0.8888888888888888, \"#fdca26\"], [1.0, \"#f0f921\"]], \"type\": \"heatmap\"}], \"heatmapgl\": [{\"colorbar\": {\"outlinewidth\": 0, \"ticks\": \"\"}, \"colorscale\": [[0.0, \"#0d0887\"], [0.1111111111111111, \"#46039f\"], [0.2222222222222222, \"#7201a8\"], [0.3333333333333333, \"#9c179e\"], [0.4444444444444444, \"#bd3786\"], [0.5555555555555556, \"#d8576b\"], [0.6666666666666666, \"#ed7953\"], [0.7777777777777778, \"#fb9f3a\"], [0.8888888888888888, \"#fdca26\"], [1.0, \"#f0f921\"]], \"type\": \"heatmapgl\"}], \"histogram\": [{\"marker\": {\"colorbar\": {\"outlinewidth\": 0, \"ticks\": \"\"}}, \"type\": \"histogram\"}], \"histogram2d\": [{\"colorbar\": {\"outlinewidth\": 0, \"ticks\": \"\"}, \"colorscale\": [[0.0, \"#0d0887\"], [0.1111111111111111, \"#46039f\"], [0.2222222222222222, \"#7201a8\"], [0.3333333333333333, \"#9c179e\"], [0.4444444444444444, \"#bd3786\"], [0.5555555555555556, \"#d8576b\"], [0.6666666666666666, \"#ed7953\"], [0.7777777777777778, \"#fb9f3a\"], [0.8888888888888888, \"#fdca26\"], [1.0, \"#f0f921\"]], \"type\": \"histogram2d\"}], \"histogram2dcontour\": [{\"colorbar\": {\"outlinewidth\": 0, \"ticks\": \"\"}, \"colorscale\": [[0.0, \"#0d0887\"], [0.1111111111111111, \"#46039f\"], [0.2222222222222222, \"#7201a8\"], [0.3333333333333333, \"#9c179e\"], [0.4444444444444444, \"#bd3786\"], [0.5555555555555556, \"#d8576b\"], [0.6666666666666666, \"#ed7953\"], [0.7777777777777778, \"#fb9f3a\"], [0.8888888888888888, \"#fdca26\"], [1.0, \"#f0f921\"]], \"type\": \"histogram2dcontour\"}], \"mesh3d\": [{\"colorbar\": {\"outlinewidth\": 0, \"ticks\": \"\"}, \"type\": \"mesh3d\"}], \"parcoords\": [{\"line\": {\"colorbar\": {\"outlinewidth\": 0, \"ticks\": \"\"}}, \"type\": \"parcoords\"}], \"pie\": [{\"automargin\": true, \"type\": \"pie\"}], \"scatter\": [{\"marker\": {\"colorbar\": {\"outlinewidth\": 0, \"ticks\": \"\"}}, \"type\": \"scatter\"}], \"scatter3d\": [{\"line\": {\"colorbar\": {\"outlinewidth\": 0, \"ticks\": \"\"}}, \"marker\": {\"colorbar\": {\"outlinewidth\": 0, \"ticks\": \"\"}}, \"type\": \"scatter3d\"}], \"scattercarpet\": [{\"marker\": {\"colorbar\": {\"outlinewidth\": 0, \"ticks\": \"\"}}, \"type\": \"scattercarpet\"}], \"scattergeo\": [{\"marker\": {\"colorbar\": {\"outlinewidth\": 0, \"ticks\": \"\"}}, \"type\": \"scattergeo\"}], \"scattergl\": [{\"marker\": {\"colorbar\": {\"outlinewidth\": 0, \"ticks\": \"\"}}, \"type\": \"scattergl\"}], \"scattermapbox\": [{\"marker\": {\"colorbar\": {\"outlinewidth\": 0, \"ticks\": \"\"}}, \"type\": \"scattermapbox\"}], \"scatterpolar\": [{\"marker\": {\"colorbar\": {\"outlinewidth\": 0, \"ticks\": \"\"}}, \"type\": \"scatterpolar\"}], \"scatterpolargl\": [{\"marker\": {\"colorbar\": {\"outlinewidth\": 0, \"ticks\": \"\"}}, \"type\": \"scatterpolargl\"}], \"scatterternary\": [{\"marker\": {\"colorbar\": {\"outlinewidth\": 0, \"ticks\": \"\"}}, \"type\": \"scatterternary\"}], \"surface\": [{\"colorbar\": {\"outlinewidth\": 0, \"ticks\": \"\"}, \"colorscale\": [[0.0, \"#0d0887\"], [0.1111111111111111, \"#46039f\"], [0.2222222222222222, \"#7201a8\"], [0.3333333333333333, \"#9c179e\"], [0.4444444444444444, \"#bd3786\"], [0.5555555555555556, \"#d8576b\"], [0.6666666666666666, \"#ed7953\"], [0.7777777777777778, \"#fb9f3a\"], [0.8888888888888888, \"#fdca26\"], [1.0, \"#f0f921\"]], \"type\": \"surface\"}], \"table\": [{\"cells\": {\"fill\": {\"color\": \"#EBF0F8\"}, \"line\": {\"color\": \"white\"}}, \"header\": {\"fill\": {\"color\": \"#C8D4E3\"}, \"line\": {\"color\": \"white\"}}, \"type\": \"table\"}]}, \"layout\": {\"annotationdefaults\": {\"arrowcolor\": \"#2a3f5f\", \"arrowhead\": 0, \"arrowwidth\": 1}, \"coloraxis\": {\"colorbar\": {\"outlinewidth\": 0, \"ticks\": \"\"}}, \"colorscale\": {\"diverging\": [[0, \"#8e0152\"], [0.1, \"#c51b7d\"], [0.2, \"#de77ae\"], [0.3, \"#f1b6da\"], [0.4, \"#fde0ef\"], [0.5, \"#f7f7f7\"], [0.6, \"#e6f5d0\"], [0.7, \"#b8e186\"], [0.8, \"#7fbc41\"], [0.9, \"#4d9221\"], [1, \"#276419\"]], \"sequential\": [[0.0, \"#0d0887\"], [0.1111111111111111, \"#46039f\"], [0.2222222222222222, \"#7201a8\"], [0.3333333333333333, \"#9c179e\"], [0.4444444444444444, \"#bd3786\"], [0.5555555555555556, \"#d8576b\"], [0.6666666666666666, \"#ed7953\"], [0.7777777777777778, \"#fb9f3a\"], [0.8888888888888888, \"#fdca26\"], [1.0, \"#f0f921\"]], \"sequentialminus\": [[0.0, \"#0d0887\"], [0.1111111111111111, \"#46039f\"], [0.2222222222222222, \"#7201a8\"], [0.3333333333333333, \"#9c179e\"], [0.4444444444444444, \"#bd3786\"], [0.5555555555555556, \"#d8576b\"], [0.6666666666666666, \"#ed7953\"], [0.7777777777777778, \"#fb9f3a\"], [0.8888888888888888, \"#fdca26\"], [1.0, \"#f0f921\"]]}, \"colorway\": [\"#636efa\", \"#EF553B\", \"#00cc96\", \"#ab63fa\", \"#FFA15A\", \"#19d3f3\", \"#FF6692\", \"#B6E880\", \"#FF97FF\", \"#FECB52\"], \"font\": {\"color\": \"#2a3f5f\"}, \"geo\": {\"bgcolor\": \"white\", \"lakecolor\": \"white\", \"landcolor\": \"#E5ECF6\", \"showlakes\": true, \"showland\": true, \"subunitcolor\": \"white\"}, \"hoverlabel\": {\"align\": \"left\"}, \"hovermode\": \"closest\", \"mapbox\": {\"style\": \"light\"}, \"paper_bgcolor\": \"white\", \"plot_bgcolor\": \"#E5ECF6\", \"polar\": {\"angularaxis\": {\"gridcolor\": \"white\", \"linecolor\": \"white\", \"ticks\": \"\"}, \"bgcolor\": \"#E5ECF6\", \"radialaxis\": {\"gridcolor\": \"white\", \"linecolor\": \"white\", \"ticks\": \"\"}}, \"scene\": {\"xaxis\": {\"backgroundcolor\": \"#E5ECF6\", \"gridcolor\": \"white\", \"gridwidth\": 2, \"linecolor\": \"white\", \"showbackground\": true, \"ticks\": \"\", \"zerolinecolor\": \"white\"}, \"yaxis\": {\"backgroundcolor\": \"#E5ECF6\", \"gridcolor\": \"white\", \"gridwidth\": 2, \"linecolor\": \"white\", \"showbackground\": true, \"ticks\": \"\", \"zerolinecolor\": \"white\"}, \"zaxis\": {\"backgroundcolor\": \"#E5ECF6\", \"gridcolor\": \"white\", \"gridwidth\": 2, \"linecolor\": \"white\", \"showbackground\": true, \"ticks\": \"\", \"zerolinecolor\": \"white\"}}, \"shapedefaults\": {\"line\": {\"color\": \"#2a3f5f\"}}, \"ternary\": {\"aaxis\": {\"gridcolor\": \"white\", \"linecolor\": \"white\", \"ticks\": \"\"}, \"baxis\": {\"gridcolor\": \"white\", \"linecolor\": \"white\", \"ticks\": \"\"}, \"bgcolor\": \"#E5ECF6\", \"caxis\": {\"gridcolor\": \"white\", \"linecolor\": \"white\", \"ticks\": \"\"}}, \"title\": {\"x\": 0.05}, \"xaxis\": {\"automargin\": true, \"gridcolor\": \"white\", \"linecolor\": \"white\", \"ticks\": \"\", \"title\": {\"standoff\": 15}, \"zerolinecolor\": \"white\", \"zerolinewidth\": 2}, \"yaxis\": {\"automargin\": true, \"gridcolor\": \"white\", \"linecolor\": \"white\", \"ticks\": \"\", \"title\": {\"standoff\": 15}, \"zerolinecolor\": \"white\", \"zerolinewidth\": 2}}}},\n",
              "                        {\"responsive\": true}\n",
              "                    ).then(function(){\n",
              "                            \n",
              "var gd = document.getElementById('22b2c383-9d63-43da-9f8a-45dead5bd5e2');\n",
              "var x = new MutationObserver(function (mutations, observer) {{\n",
              "        var display = window.getComputedStyle(gd).display;\n",
              "        if (!display || display === 'none') {{\n",
              "            console.log([gd, 'removed!']);\n",
              "            Plotly.purge(gd);\n",
              "            observer.disconnect();\n",
              "        }}\n",
              "}});\n",
              "\n",
              "// Listen for the removal of the full notebook cells\n",
              "var notebookContainer = gd.closest('#notebook-container');\n",
              "if (notebookContainer) {{\n",
              "    x.observe(notebookContainer, {childList: true});\n",
              "}}\n",
              "\n",
              "// Listen for the clearing of the current output cell\n",
              "var outputEl = gd.closest('.output');\n",
              "if (outputEl) {{\n",
              "    x.observe(outputEl, {childList: true});\n",
              "}}\n",
              "\n",
              "                        })\n",
              "                };\n",
              "                \n",
              "            </script>\n",
              "        </div>\n",
              "</body>\n",
              "</html>"
            ]
          },
          "metadata": {
            "tags": []
          }
        }
      ]
    },
    {
      "cell_type": "code",
      "metadata": {
        "id": "fuPCDcQEgJKK"
      },
      "source": [
        "def get_outliers(df, series):\n",
        "  q1 = series.quantile(0.25)\n",
        "  q3 = series.quantile(0.75)\n",
        "\n",
        "  if q1*q3 == 0:\n",
        "    iqr = abs(2*(q1+q3))\n",
        "    toprange = iqr\n",
        "    botrange = -toprange\n",
        "  else:\n",
        "    iqr = q3-q1\n",
        "    toprange = q3 + iqr * 1.5\n",
        "    botrange = q1 - iqr * 1.5\n",
        "\n",
        "  outliers_top=df[series > toprange]\n",
        "  outliers_bot= df[series < botrange]\n",
        "  outliers = pd.concat([outliers_bot, outliers_top], axis=0)\n",
        "\n",
        "  return (botrange, toprange, outliers)"
      ],
      "execution_count": null,
      "outputs": []
    },
    {
      "cell_type": "code",
      "metadata": {
        "id": "HbpF_CSFgWut",
        "colab": {
          "base_uri": "https://localhost:8080/"
        },
        "outputId": "eed42a50-3a8e-4a98-d763-abfa13342910"
      },
      "source": [
        "act_duration_botrange, act_duration_toprange, act_duration_outliers = get_outliers(activities, activities.act_duration)\n",
        "print(\"act_duration col top range = \", act_duration_toprange)\n",
        "print(\"act_duration col bottom range = \",act_duration_botrange)\n",
        "\n",
        "print(act_duration_outliers['act_duration'])"
      ],
      "execution_count": null,
      "outputs": [
        {
          "output_type": "stream",
          "text": [
            "act_duration col top range =  211.0\n",
            "act_duration col bottom range =  -85.0\n",
            "21       221\n",
            "123      279\n",
            "154      409\n",
            "198      284\n",
            "200      465\n",
            "        ... \n",
            "31370    287\n",
            "31506    250\n",
            "31509    287\n",
            "31517    240\n",
            "31518    242\n",
            "Name: act_duration, Length: 1127, dtype: int64\n"
          ],
          "name": "stdout"
        }
      ]
    },
    {
      "cell_type": "code",
      "metadata": {
        "id": "O66OOlwqzrhM",
        "colab": {
          "base_uri": "https://localhost:8080/"
        },
        "outputId": "ff02db77-c746-44d3-b14b-cf43d2a048c9"
      },
      "source": [
        "#total_visit_days, total_act_days ,total_act,act_per_day, act_duration\n",
        "total_visit_days_botrange, total_visit_days_toprange, total_visit_days_outliers = get_outliers(activities, activities.total_visit_days)\n",
        "total_act_days_botrange, total_act_days_toprange, total_act_days_outliers = get_outliers(activities, activities.total_act_days)\n",
        "total_act_botrange, total_act_toprange, total_act_outliers = get_outliers(activities, activities.total_act)\n",
        "act_per_day_botrange, act_per_day_toprange, act_per_day_outliers = get_outliers(activities, activities.act_per_day)\n",
        "\n",
        "\n",
        "print(\"total_visit_days col top range = \", total_visit_days_toprange)\n",
        "print(\"total_visit_days col bottom range = \",total_visit_days_botrange)\n",
        "\n",
        "print(\"total_act_days col top range = \", total_act_days_toprange)\n",
        "print(\"total_act_days col bottom range = \",total_act_days_botrange)\n",
        "\n",
        "print(\"total_act col top range = \", total_act_toprange)\n",
        "print(\"total_act col bottom range = \",total_act_botrange)\n",
        "\n",
        "print(\"act_per_day col top range = \", act_per_day_toprange)\n",
        "print(\"act_per_day col bottom range = \",act_per_day_botrange)"
      ],
      "execution_count": null,
      "outputs": [
        {
          "output_type": "stream",
          "text": [
            "total_visit_days col top range =  19.5\n",
            "total_visit_days col bottom range =  -0.5\n",
            "total_act_days col top range =  17.0\n",
            "total_act_days col bottom range =  1.0\n",
            "total_act col top range =  102.5\n",
            "total_act col bottom range =  -13.5\n",
            "act_per_day col top range =  16.5\n",
            "act_per_day col bottom range =  -3.5\n"
          ],
          "name": "stdout"
        }
      ]
    },
    {
      "cell_type": "markdown",
      "metadata": {
        "id": "ZojwE41zPH84"
      },
      "source": [
        "###Drop all the outliers we found"
      ]
    },
    {
      "cell_type": "code",
      "metadata": {
        "id": "tGsZ3jPHgZt-"
      },
      "source": [
        "total_visit_days_index_list = [i for i in activities.index if i not in total_visit_days_outliers.index]\n",
        "total_act_days_index_list = [i for i in activities.index if i not in total_act_days_outliers.index]\n",
        "total_act_index_list = [i for i in activities.index if i not in total_act_outliers.index]\n",
        "act_per_day_index_list = [i for i in activities.index if i not in act_per_day_outliers.index]\n",
        "\n",
        "\n",
        "no_outliers_df = activities.loc[total_visit_days_index_list]\n",
        "no_outliers_df = activities.loc[total_act_days_index_list]\n",
        "no_outliers_df = activities.loc[total_act_index_list]\n",
        "no_outliers_df = activities.loc[act_per_day_index_list]\n",
        "\n",
        "\n",
        "no_outliers_df.reset_index(inplace=True, drop=True)\n",
        "activities=no_outliers_df"
      ],
      "execution_count": null,
      "outputs": []
    },
    {
      "cell_type": "markdown",
      "metadata": {
        "id": "9PzG2Kl4PQT9"
      },
      "source": [
        "###standard normalization for numeric columns\n"
      ]
    },
    {
      "cell_type": "code",
      "metadata": {
        "id": "FaYh7TsrXmit"
      },
      "source": [
        "\n",
        "mean=activities.total_visit_days.mean()\n",
        "activities.total_visit_days-=mean\n",
        "std=activities.total_visit_days.std()\n",
        "activities.total_visit_days/=std\n",
        "\n",
        "mean=activities.total_act_days.mean()\n",
        "activities.total_act_days-=mean\n",
        "std=activities.total_act_days.std()\n",
        "activities.total_act_days/=std\n",
        "\n",
        "mean=activities.total_act.mean()\n",
        "activities.total_act-=mean\n",
        "std=activities.total_act.std()\n",
        "activities.total_act/=std\n",
        "\n",
        "mean=activities.act_per_day.mean()\n",
        "activities.act_per_day-=mean\n",
        "std=activities.act_per_day.std()\n",
        "activities.act_per_day/=std\n",
        "\n",
        "mean=activities.act_duration.mean()\n",
        "activities.act_duration-=mean\n",
        "std=activities.act_duration.std()\n",
        "activities.act_duration/=std"
      ],
      "execution_count": null,
      "outputs": []
    },
    {
      "cell_type": "code",
      "metadata": {
        "id": "RLhHOM9P48fZ",
        "colab": {
          "base_uri": "https://localhost:8080/"
        },
        "outputId": "1e0fb257-49f8-41b0-e835-8ffd7c086fe0"
      },
      "source": [
        "activities.shape"
      ],
      "execution_count": null,
      "outputs": [
        {
          "output_type": "execute_result",
          "data": {
            "text/plain": [
              "(20826, 70)"
            ]
          },
          "metadata": {
            "tags": []
          },
          "execution_count": 80
        }
      ]
    },
    {
      "cell_type": "code",
      "metadata": {
        "id": "baTLu1JL62Ox"
      },
      "source": [
        "# convert string % to float values\n",
        "activities['organized_transportation_precent'] = activities['organized_transportation_precent'].str.rstrip('%').astype('float') / 100.0\n",
        "activities['taxi_precent'] = activities['taxi_precent'].str.rstrip('%').astype('float') / 100.0\n",
        "activities['private_vehicle_precent'] = activities['private_vehicle_precent'].str.rstrip('%').astype('float') / 100.0\n",
        "activities['public_tranport_precent'] = activities['public_tranport_precent'].str.rstrip('%').astype('float') / 100.0"
      ],
      "execution_count": null,
      "outputs": []
    },
    {
      "cell_type": "markdown",
      "metadata": {
        "id": "OiZkpQ0JRg2R"
      },
      "source": [
        "###add the last 2 places column the turist was in befor the current activities "
      ]
    },
    {
      "cell_type": "code",
      "metadata": {
        "id": "SAyglGFB62Gu"
      },
      "source": [
        "#the column \"is_1st_act_of_the_day\" not show correct values because we delete on the data preparation some records, and that is why we put 1 at the 1st act for each tourist_id and put 0 in the column \"is_act_during_the_day\"\n",
        "\n",
        "activities[\"act_place_before\"] = activities.groupby(['tourist_id'])['act_place'].shift(1)\n",
        "activities[\"act_place_before\"]=np.where(activities['act_place_before'].isnull(),16,activities.act_place_before)\n",
        "activities[\"is_first_act_of_day\"]=np.where(activities['act_place_before']==16 ,1,0)\n",
        "activities[\"is_act_during_day\"]=np.where(activities['is_first_act_of_day']==1 ,0,activities.is_act_during_day)\n",
        "\n",
        "activities[\"act_place_before2\"] = activities.groupby(['tourist_id'])['act_place'].shift(2)\n",
        "activities[\"act_place_before2\"]=np.where(activities['act_place_before2'].isnull(),16,activities.act_place_before2)"
      ],
      "execution_count": null,
      "outputs": []
    },
    {
      "cell_type": "code",
      "metadata": {
        "id": "AG8B7UTxiG_b",
        "colab": {
          "base_uri": "https://localhost:8080/",
          "height": 241
        },
        "outputId": "e79c60ea-d305-4d1b-961a-5717565cbd64"
      },
      "source": [
        "activities.head(5)"
      ],
      "execution_count": null,
      "outputs": [
        {
          "output_type": "execute_result",
          "data": {
            "text/html": [
              "<div>\n",
              "<style scoped>\n",
              "    .dataframe tbody tr th:only-of-type {\n",
              "        vertical-align: middle;\n",
              "    }\n",
              "\n",
              "    .dataframe tbody tr th {\n",
              "        vertical-align: top;\n",
              "    }\n",
              "\n",
              "    .dataframe thead th {\n",
              "        text-align: right;\n",
              "    }\n",
              "</style>\n",
              "<table border=\"1\" class=\"dataframe\">\n",
              "  <thead>\n",
              "    <tr style=\"text-align: right;\">\n",
              "      <th></th>\n",
              "      <th>tourist_id</th>\n",
              "      <th>act_id</th>\n",
              "      <th>act_date</th>\n",
              "      <th>act_name</th>\n",
              "      <th>is_first_visit</th>\n",
              "      <th>is_long_visit</th>\n",
              "      <th>is_first_act_of_day</th>\n",
              "      <th>is_last_act_of_day</th>\n",
              "      <th>is_act_during_day</th>\n",
              "      <th>arrival_date</th>\n",
              "      <th>total_visit_days</th>\n",
              "      <th>total_act_days</th>\n",
              "      <th>total_act</th>\n",
              "      <th>act_per_day</th>\n",
              "      <th>act_duration</th>\n",
              "      <th>act_start_hour</th>\n",
              "      <th>act_place</th>\n",
              "      <th>is_organized_day_trip</th>\n",
              "      <th>organized_transportation_precent</th>\n",
              "      <th>taxi_precent</th>\n",
              "      <th>private_vehicle_precent</th>\n",
              "      <th>public_tranport_precent</th>\n",
              "      <th>accomodation_place</th>\n",
              "      <th>visit_purpose_Family&amp;Friends</th>\n",
              "      <th>visit_purpose_Travel&amp;Religion</th>\n",
              "      <th>visit_purpose_business</th>\n",
              "      <th>religion_Christian</th>\n",
              "      <th>religion_Jewish</th>\n",
              "      <th>religion_JewishReligious</th>\n",
              "      <th>religion_Other</th>\n",
              "      <th>origin_Africa</th>\n",
              "      <th>origin_East_Asia</th>\n",
              "      <th>origin_Europe</th>\n",
              "      <th>origin_North_America</th>\n",
              "      <th>origin_Oceania</th>\n",
              "      <th>origin_Other</th>\n",
              "      <th>origin_South_Central_America</th>\n",
              "      <th>arrival_season_Christmas</th>\n",
              "      <th>arrival_season_Spring</th>\n",
              "      <th>arrival_season_Summer</th>\n",
              "      <th>arrival_season_Tishrei_Holidays</th>\n",
              "      <th>arrival_season_Winter</th>\n",
              "      <th>act_weekday_Friday</th>\n",
              "      <th>act_weekday_Monday</th>\n",
              "      <th>act_weekday_Saturday</th>\n",
              "      <th>act_weekday_Sunday</th>\n",
              "      <th>act_weekday_Thursday</th>\n",
              "      <th>act_weekday_Tuesday</th>\n",
              "      <th>act_weekday_Wednesday</th>\n",
              "      <th>act_month_1</th>\n",
              "      <th>act_month_2</th>\n",
              "      <th>act_month_3</th>\n",
              "      <th>act_month_4</th>\n",
              "      <th>act_month_5</th>\n",
              "      <th>act_month_6</th>\n",
              "      <th>act_month_7</th>\n",
              "      <th>act_month_8</th>\n",
              "      <th>act_month_9</th>\n",
              "      <th>act_month_10</th>\n",
              "      <th>act_month_11</th>\n",
              "      <th>act_month_12</th>\n",
              "      <th>act_year_2015</th>\n",
              "      <th>act_year_2016</th>\n",
              "      <th>act_year_2017</th>\n",
              "      <th>day_category_First_Day</th>\n",
              "      <th>day_category_Last_Day</th>\n",
              "      <th>day_category_Normal_Day</th>\n",
              "      <th>jerusalem_visiting_category_0</th>\n",
              "      <th>jerusalem_visiting_category_1</th>\n",
              "      <th>jerusalem_visiting_category_More_than_one</th>\n",
              "      <th>act_place_before</th>\n",
              "      <th>act_place_before2</th>\n",
              "    </tr>\n",
              "  </thead>\n",
              "  <tbody>\n",
              "    <tr>\n",
              "      <th>0</th>\n",
              "      <td>17556</td>\n",
              "      <td>59463</td>\n",
              "      <td>12/2/2015</td>\n",
              "      <td>חוף הים</td>\n",
              "      <td>0</td>\n",
              "      <td>1</td>\n",
              "      <td>1</td>\n",
              "      <td>0</td>\n",
              "      <td>0</td>\n",
              "      <td>12/2/2015</td>\n",
              "      <td>-1.454847</td>\n",
              "      <td>-1.247900</td>\n",
              "      <td>-0.854205</td>\n",
              "      <td>-0.837902</td>\n",
              "      <td>-0.302516</td>\n",
              "      <td>13</td>\n",
              "      <td>12</td>\n",
              "      <td>0</td>\n",
              "      <td>0.0</td>\n",
              "      <td>0.57</td>\n",
              "      <td>0.0</td>\n",
              "      <td>0.0</td>\n",
              "      <td>NaN</td>\n",
              "      <td>0</td>\n",
              "      <td>1</td>\n",
              "      <td>0</td>\n",
              "      <td>0</td>\n",
              "      <td>1</td>\n",
              "      <td>0</td>\n",
              "      <td>0</td>\n",
              "      <td>0</td>\n",
              "      <td>0</td>\n",
              "      <td>1</td>\n",
              "      <td>0</td>\n",
              "      <td>0</td>\n",
              "      <td>0</td>\n",
              "      <td>0</td>\n",
              "      <td>1</td>\n",
              "      <td>0</td>\n",
              "      <td>0</td>\n",
              "      <td>0</td>\n",
              "      <td>0</td>\n",
              "      <td>0</td>\n",
              "      <td>0</td>\n",
              "      <td>0</td>\n",
              "      <td>0</td>\n",
              "      <td>0</td>\n",
              "      <td>0</td>\n",
              "      <td>1</td>\n",
              "      <td>0</td>\n",
              "      <td>0</td>\n",
              "      <td>0</td>\n",
              "      <td>0</td>\n",
              "      <td>0</td>\n",
              "      <td>0</td>\n",
              "      <td>0</td>\n",
              "      <td>0</td>\n",
              "      <td>0</td>\n",
              "      <td>0</td>\n",
              "      <td>0</td>\n",
              "      <td>1</td>\n",
              "      <td>1</td>\n",
              "      <td>0</td>\n",
              "      <td>0</td>\n",
              "      <td>1</td>\n",
              "      <td>0</td>\n",
              "      <td>0</td>\n",
              "      <td>0</td>\n",
              "      <td>0</td>\n",
              "      <td>1</td>\n",
              "      <td>16</td>\n",
              "      <td>16</td>\n",
              "    </tr>\n",
              "    <tr>\n",
              "      <th>1</th>\n",
              "      <td>92435</td>\n",
              "      <td>846034</td>\n",
              "      <td>4/26/2017</td>\n",
              "      <td>אודיטוריום</td>\n",
              "      <td>0</td>\n",
              "      <td>1</td>\n",
              "      <td>1</td>\n",
              "      <td>0</td>\n",
              "      <td>0</td>\n",
              "      <td>4/23/2017</td>\n",
              "      <td>-0.492598</td>\n",
              "      <td>-0.603250</td>\n",
              "      <td>-0.063430</td>\n",
              "      <td>-0.204238</td>\n",
              "      <td>0.403026</td>\n",
              "      <td>13</td>\n",
              "      <td>14</td>\n",
              "      <td>0</td>\n",
              "      <td>0.0</td>\n",
              "      <td>0.00</td>\n",
              "      <td>0.0</td>\n",
              "      <td>1.0</td>\n",
              "      <td>ירושלים</td>\n",
              "      <td>0</td>\n",
              "      <td>1</td>\n",
              "      <td>0</td>\n",
              "      <td>1</td>\n",
              "      <td>0</td>\n",
              "      <td>0</td>\n",
              "      <td>0</td>\n",
              "      <td>0</td>\n",
              "      <td>0</td>\n",
              "      <td>1</td>\n",
              "      <td>0</td>\n",
              "      <td>0</td>\n",
              "      <td>0</td>\n",
              "      <td>0</td>\n",
              "      <td>0</td>\n",
              "      <td>1</td>\n",
              "      <td>0</td>\n",
              "      <td>0</td>\n",
              "      <td>0</td>\n",
              "      <td>0</td>\n",
              "      <td>0</td>\n",
              "      <td>0</td>\n",
              "      <td>0</td>\n",
              "      <td>0</td>\n",
              "      <td>0</td>\n",
              "      <td>1</td>\n",
              "      <td>0</td>\n",
              "      <td>0</td>\n",
              "      <td>0</td>\n",
              "      <td>1</td>\n",
              "      <td>0</td>\n",
              "      <td>0</td>\n",
              "      <td>0</td>\n",
              "      <td>0</td>\n",
              "      <td>0</td>\n",
              "      <td>0</td>\n",
              "      <td>0</td>\n",
              "      <td>0</td>\n",
              "      <td>0</td>\n",
              "      <td>0</td>\n",
              "      <td>1</td>\n",
              "      <td>0</td>\n",
              "      <td>0</td>\n",
              "      <td>1</td>\n",
              "      <td>0</td>\n",
              "      <td>0</td>\n",
              "      <td>1</td>\n",
              "      <td>16</td>\n",
              "      <td>16</td>\n",
              "    </tr>\n",
              "    <tr>\n",
              "      <th>2</th>\n",
              "      <td>20726</td>\n",
              "      <td>266821</td>\n",
              "      <td>4/28/2016</td>\n",
              "      <td>אולם אירועים</td>\n",
              "      <td>0</td>\n",
              "      <td>1</td>\n",
              "      <td>1</td>\n",
              "      <td>0</td>\n",
              "      <td>0</td>\n",
              "      <td>4/27/2016</td>\n",
              "      <td>-0.171849</td>\n",
              "      <td>-0.280924</td>\n",
              "      <td>-0.409394</td>\n",
              "      <td>-0.204238</td>\n",
              "      <td>0.748598</td>\n",
              "      <td>19</td>\n",
              "      <td>14</td>\n",
              "      <td>0</td>\n",
              "      <td>0.0</td>\n",
              "      <td>1.00</td>\n",
              "      <td>0.0</td>\n",
              "      <td>0.0</td>\n",
              "      <td>ירושלים</td>\n",
              "      <td>1</td>\n",
              "      <td>0</td>\n",
              "      <td>0</td>\n",
              "      <td>0</td>\n",
              "      <td>1</td>\n",
              "      <td>0</td>\n",
              "      <td>0</td>\n",
              "      <td>0</td>\n",
              "      <td>0</td>\n",
              "      <td>1</td>\n",
              "      <td>0</td>\n",
              "      <td>0</td>\n",
              "      <td>0</td>\n",
              "      <td>0</td>\n",
              "      <td>0</td>\n",
              "      <td>1</td>\n",
              "      <td>0</td>\n",
              "      <td>0</td>\n",
              "      <td>0</td>\n",
              "      <td>0</td>\n",
              "      <td>0</td>\n",
              "      <td>0</td>\n",
              "      <td>0</td>\n",
              "      <td>1</td>\n",
              "      <td>0</td>\n",
              "      <td>0</td>\n",
              "      <td>0</td>\n",
              "      <td>0</td>\n",
              "      <td>0</td>\n",
              "      <td>1</td>\n",
              "      <td>0</td>\n",
              "      <td>0</td>\n",
              "      <td>0</td>\n",
              "      <td>0</td>\n",
              "      <td>0</td>\n",
              "      <td>0</td>\n",
              "      <td>0</td>\n",
              "      <td>0</td>\n",
              "      <td>0</td>\n",
              "      <td>1</td>\n",
              "      <td>0</td>\n",
              "      <td>0</td>\n",
              "      <td>0</td>\n",
              "      <td>1</td>\n",
              "      <td>0</td>\n",
              "      <td>0</td>\n",
              "      <td>1</td>\n",
              "      <td>16</td>\n",
              "      <td>16</td>\n",
              "    </tr>\n",
              "    <tr>\n",
              "      <th>3</th>\n",
              "      <td>153888</td>\n",
              "      <td>1554936</td>\n",
              "      <td>10/8/2017</td>\n",
              "      <td>אולפנה?</td>\n",
              "      <td>0</td>\n",
              "      <td>1</td>\n",
              "      <td>1</td>\n",
              "      <td>0</td>\n",
              "      <td>0</td>\n",
              "      <td>10/8/2017</td>\n",
              "      <td>-0.492598</td>\n",
              "      <td>-0.603250</td>\n",
              "      <td>-1.051899</td>\n",
              "      <td>0.746257</td>\n",
              "      <td>-0.172927</td>\n",
              "      <td>20</td>\n",
              "      <td>14</td>\n",
              "      <td>0</td>\n",
              "      <td>0.0</td>\n",
              "      <td>1.00</td>\n",
              "      <td>0.0</td>\n",
              "      <td>0.0</td>\n",
              "      <td>NaN</td>\n",
              "      <td>1</td>\n",
              "      <td>0</td>\n",
              "      <td>0</td>\n",
              "      <td>0</td>\n",
              "      <td>0</td>\n",
              "      <td>1</td>\n",
              "      <td>0</td>\n",
              "      <td>0</td>\n",
              "      <td>0</td>\n",
              "      <td>0</td>\n",
              "      <td>1</td>\n",
              "      <td>0</td>\n",
              "      <td>0</td>\n",
              "      <td>0</td>\n",
              "      <td>0</td>\n",
              "      <td>0</td>\n",
              "      <td>0</td>\n",
              "      <td>1</td>\n",
              "      <td>0</td>\n",
              "      <td>0</td>\n",
              "      <td>0</td>\n",
              "      <td>0</td>\n",
              "      <td>1</td>\n",
              "      <td>0</td>\n",
              "      <td>0</td>\n",
              "      <td>0</td>\n",
              "      <td>0</td>\n",
              "      <td>0</td>\n",
              "      <td>0</td>\n",
              "      <td>0</td>\n",
              "      <td>0</td>\n",
              "      <td>0</td>\n",
              "      <td>0</td>\n",
              "      <td>0</td>\n",
              "      <td>0</td>\n",
              "      <td>1</td>\n",
              "      <td>0</td>\n",
              "      <td>0</td>\n",
              "      <td>0</td>\n",
              "      <td>0</td>\n",
              "      <td>1</td>\n",
              "      <td>1</td>\n",
              "      <td>0</td>\n",
              "      <td>0</td>\n",
              "      <td>0</td>\n",
              "      <td>0</td>\n",
              "      <td>1</td>\n",
              "      <td>16</td>\n",
              "      <td>16</td>\n",
              "    </tr>\n",
              "    <tr>\n",
              "      <th>4</th>\n",
              "      <td>24131</td>\n",
              "      <td>504374</td>\n",
              "      <td>11/3/2016</td>\n",
              "      <td>אוניברסיטה</td>\n",
              "      <td>1</td>\n",
              "      <td>1</td>\n",
              "      <td>1</td>\n",
              "      <td>0</td>\n",
              "      <td>0</td>\n",
              "      <td>10/26/2016</td>\n",
              "      <td>-0.171849</td>\n",
              "      <td>-0.280924</td>\n",
              "      <td>-0.656511</td>\n",
              "      <td>-0.521070</td>\n",
              "      <td>0.143847</td>\n",
              "      <td>16</td>\n",
              "      <td>14</td>\n",
              "      <td>0</td>\n",
              "      <td>1.0</td>\n",
              "      <td>0.00</td>\n",
              "      <td>0.0</td>\n",
              "      <td>0.0</td>\n",
              "      <td>ירושלים</td>\n",
              "      <td>0</td>\n",
              "      <td>1</td>\n",
              "      <td>0</td>\n",
              "      <td>1</td>\n",
              "      <td>0</td>\n",
              "      <td>0</td>\n",
              "      <td>0</td>\n",
              "      <td>0</td>\n",
              "      <td>0</td>\n",
              "      <td>0</td>\n",
              "      <td>1</td>\n",
              "      <td>0</td>\n",
              "      <td>0</td>\n",
              "      <td>0</td>\n",
              "      <td>0</td>\n",
              "      <td>0</td>\n",
              "      <td>0</td>\n",
              "      <td>1</td>\n",
              "      <td>0</td>\n",
              "      <td>0</td>\n",
              "      <td>0</td>\n",
              "      <td>0</td>\n",
              "      <td>0</td>\n",
              "      <td>1</td>\n",
              "      <td>0</td>\n",
              "      <td>0</td>\n",
              "      <td>0</td>\n",
              "      <td>0</td>\n",
              "      <td>0</td>\n",
              "      <td>0</td>\n",
              "      <td>0</td>\n",
              "      <td>0</td>\n",
              "      <td>0</td>\n",
              "      <td>0</td>\n",
              "      <td>0</td>\n",
              "      <td>0</td>\n",
              "      <td>1</td>\n",
              "      <td>0</td>\n",
              "      <td>0</td>\n",
              "      <td>1</td>\n",
              "      <td>0</td>\n",
              "      <td>0</td>\n",
              "      <td>1</td>\n",
              "      <td>0</td>\n",
              "      <td>0</td>\n",
              "      <td>0</td>\n",
              "      <td>1</td>\n",
              "      <td>16</td>\n",
              "      <td>16</td>\n",
              "    </tr>\n",
              "  </tbody>\n",
              "</table>\n",
              "</div>"
            ],
            "text/plain": [
              "   tourist_id   act_id  ... act_place_before act_place_before2\n",
              "0       17556    59463  ...               16                16\n",
              "1       92435   846034  ...               16                16\n",
              "2       20726   266821  ...               16                16\n",
              "3      153888  1554936  ...               16                16\n",
              "4       24131   504374  ...               16                16\n",
              "\n",
              "[5 rows x 72 columns]"
            ]
          },
          "metadata": {
            "tags": []
          },
          "execution_count": 83
        }
      ]
    },
    {
      "cell_type": "markdown",
      "metadata": {
        "id": "uB7eBT6vQbpD"
      },
      "source": [
        "###change the activities hour column to dummy "
      ]
    },
    {
      "cell_type": "code",
      "metadata": {
        "id": "MFuqtczqckl3"
      },
      "source": [
        "activities[['act_start_hour_morning','act_start_hour_afternoon','act_start_hour_evening','act_start_hour_night']] = np.NaN\n",
        "\n",
        "activities['act_start_hour_morning'] = np.where((activities['act_start_hour'] >= 5) & (activities['act_start_hour'] <= 12) , 1, 0)\n",
        "activities['act_start_hour_afternoon'] = np.where((activities['act_start_hour'] > 12) & (activities['act_start_hour'] <= 18) , 1, 0)\n",
        "activities['act_start_hour_evening'] = np.where((activities['act_start_hour'] > 18) & (activities['act_start_hour'] <= 24) , 1, 0)\n",
        "activities['act_start_hour_night'] = np.where((activities['act_start_hour'] >= 0) & (activities['act_start_hour'] < 5) , 1, 0)\n"
      ],
      "execution_count": null,
      "outputs": []
    },
    {
      "cell_type": "code",
      "metadata": {
        "id": "PquNTUwmdQPy",
        "colab": {
          "base_uri": "https://localhost:8080/",
          "height": 131
        },
        "outputId": "1289d3b3-4ed4-4c46-eb30-334241a01664"
      },
      "source": [
        "activities.head(2)"
      ],
      "execution_count": null,
      "outputs": [
        {
          "output_type": "execute_result",
          "data": {
            "text/html": [
              "<div>\n",
              "<style scoped>\n",
              "    .dataframe tbody tr th:only-of-type {\n",
              "        vertical-align: middle;\n",
              "    }\n",
              "\n",
              "    .dataframe tbody tr th {\n",
              "        vertical-align: top;\n",
              "    }\n",
              "\n",
              "    .dataframe thead th {\n",
              "        text-align: right;\n",
              "    }\n",
              "</style>\n",
              "<table border=\"1\" class=\"dataframe\">\n",
              "  <thead>\n",
              "    <tr style=\"text-align: right;\">\n",
              "      <th></th>\n",
              "      <th>tourist_id</th>\n",
              "      <th>act_id</th>\n",
              "      <th>act_date</th>\n",
              "      <th>act_name</th>\n",
              "      <th>is_first_visit</th>\n",
              "      <th>is_long_visit</th>\n",
              "      <th>is_first_act_of_day</th>\n",
              "      <th>is_last_act_of_day</th>\n",
              "      <th>is_act_during_day</th>\n",
              "      <th>arrival_date</th>\n",
              "      <th>total_visit_days</th>\n",
              "      <th>total_act_days</th>\n",
              "      <th>total_act</th>\n",
              "      <th>act_per_day</th>\n",
              "      <th>act_duration</th>\n",
              "      <th>act_start_hour</th>\n",
              "      <th>act_place</th>\n",
              "      <th>is_organized_day_trip</th>\n",
              "      <th>organized_transportation_precent</th>\n",
              "      <th>taxi_precent</th>\n",
              "      <th>private_vehicle_precent</th>\n",
              "      <th>public_tranport_precent</th>\n",
              "      <th>accomodation_place</th>\n",
              "      <th>visit_purpose_Family&amp;Friends</th>\n",
              "      <th>visit_purpose_Travel&amp;Religion</th>\n",
              "      <th>visit_purpose_business</th>\n",
              "      <th>religion_Christian</th>\n",
              "      <th>religion_Jewish</th>\n",
              "      <th>religion_JewishReligious</th>\n",
              "      <th>religion_Other</th>\n",
              "      <th>origin_Africa</th>\n",
              "      <th>origin_East_Asia</th>\n",
              "      <th>origin_Europe</th>\n",
              "      <th>origin_North_America</th>\n",
              "      <th>origin_Oceania</th>\n",
              "      <th>origin_Other</th>\n",
              "      <th>origin_South_Central_America</th>\n",
              "      <th>arrival_season_Christmas</th>\n",
              "      <th>arrival_season_Spring</th>\n",
              "      <th>arrival_season_Summer</th>\n",
              "      <th>arrival_season_Tishrei_Holidays</th>\n",
              "      <th>arrival_season_Winter</th>\n",
              "      <th>act_weekday_Friday</th>\n",
              "      <th>act_weekday_Monday</th>\n",
              "      <th>act_weekday_Saturday</th>\n",
              "      <th>act_weekday_Sunday</th>\n",
              "      <th>act_weekday_Thursday</th>\n",
              "      <th>act_weekday_Tuesday</th>\n",
              "      <th>act_weekday_Wednesday</th>\n",
              "      <th>act_month_1</th>\n",
              "      <th>act_month_2</th>\n",
              "      <th>act_month_3</th>\n",
              "      <th>act_month_4</th>\n",
              "      <th>act_month_5</th>\n",
              "      <th>act_month_6</th>\n",
              "      <th>act_month_7</th>\n",
              "      <th>act_month_8</th>\n",
              "      <th>act_month_9</th>\n",
              "      <th>act_month_10</th>\n",
              "      <th>act_month_11</th>\n",
              "      <th>act_month_12</th>\n",
              "      <th>act_year_2015</th>\n",
              "      <th>act_year_2016</th>\n",
              "      <th>act_year_2017</th>\n",
              "      <th>day_category_First_Day</th>\n",
              "      <th>day_category_Last_Day</th>\n",
              "      <th>day_category_Normal_Day</th>\n",
              "      <th>jerusalem_visiting_category_0</th>\n",
              "      <th>jerusalem_visiting_category_1</th>\n",
              "      <th>jerusalem_visiting_category_More_than_one</th>\n",
              "      <th>act_place_before</th>\n",
              "      <th>act_place_before2</th>\n",
              "      <th>act_start_hour_morning</th>\n",
              "      <th>act_start_hour_afternoon</th>\n",
              "      <th>act_start_hour_evening</th>\n",
              "      <th>act_start_hour_night</th>\n",
              "    </tr>\n",
              "  </thead>\n",
              "  <tbody>\n",
              "    <tr>\n",
              "      <th>0</th>\n",
              "      <td>17556</td>\n",
              "      <td>59463</td>\n",
              "      <td>12/2/2015</td>\n",
              "      <td>חוף הים</td>\n",
              "      <td>0</td>\n",
              "      <td>1</td>\n",
              "      <td>1</td>\n",
              "      <td>0</td>\n",
              "      <td>0</td>\n",
              "      <td>12/2/2015</td>\n",
              "      <td>-1.454847</td>\n",
              "      <td>-1.24790</td>\n",
              "      <td>-0.854205</td>\n",
              "      <td>-0.837902</td>\n",
              "      <td>-0.302516</td>\n",
              "      <td>13</td>\n",
              "      <td>12</td>\n",
              "      <td>0</td>\n",
              "      <td>0.0</td>\n",
              "      <td>0.57</td>\n",
              "      <td>0.0</td>\n",
              "      <td>0.0</td>\n",
              "      <td>NaN</td>\n",
              "      <td>0</td>\n",
              "      <td>1</td>\n",
              "      <td>0</td>\n",
              "      <td>0</td>\n",
              "      <td>1</td>\n",
              "      <td>0</td>\n",
              "      <td>0</td>\n",
              "      <td>0</td>\n",
              "      <td>0</td>\n",
              "      <td>1</td>\n",
              "      <td>0</td>\n",
              "      <td>0</td>\n",
              "      <td>0</td>\n",
              "      <td>0</td>\n",
              "      <td>1</td>\n",
              "      <td>0</td>\n",
              "      <td>0</td>\n",
              "      <td>0</td>\n",
              "      <td>0</td>\n",
              "      <td>0</td>\n",
              "      <td>0</td>\n",
              "      <td>0</td>\n",
              "      <td>0</td>\n",
              "      <td>0</td>\n",
              "      <td>0</td>\n",
              "      <td>1</td>\n",
              "      <td>0</td>\n",
              "      <td>0</td>\n",
              "      <td>0</td>\n",
              "      <td>0</td>\n",
              "      <td>0</td>\n",
              "      <td>0</td>\n",
              "      <td>0</td>\n",
              "      <td>0</td>\n",
              "      <td>0</td>\n",
              "      <td>0</td>\n",
              "      <td>0</td>\n",
              "      <td>1</td>\n",
              "      <td>1</td>\n",
              "      <td>0</td>\n",
              "      <td>0</td>\n",
              "      <td>1</td>\n",
              "      <td>0</td>\n",
              "      <td>0</td>\n",
              "      <td>0</td>\n",
              "      <td>0</td>\n",
              "      <td>1</td>\n",
              "      <td>16</td>\n",
              "      <td>16</td>\n",
              "      <td>0</td>\n",
              "      <td>1</td>\n",
              "      <td>0</td>\n",
              "      <td>0</td>\n",
              "    </tr>\n",
              "    <tr>\n",
              "      <th>1</th>\n",
              "      <td>92435</td>\n",
              "      <td>846034</td>\n",
              "      <td>4/26/2017</td>\n",
              "      <td>אודיטוריום</td>\n",
              "      <td>0</td>\n",
              "      <td>1</td>\n",
              "      <td>1</td>\n",
              "      <td>0</td>\n",
              "      <td>0</td>\n",
              "      <td>4/23/2017</td>\n",
              "      <td>-0.492598</td>\n",
              "      <td>-0.60325</td>\n",
              "      <td>-0.063430</td>\n",
              "      <td>-0.204238</td>\n",
              "      <td>0.403026</td>\n",
              "      <td>13</td>\n",
              "      <td>14</td>\n",
              "      <td>0</td>\n",
              "      <td>0.0</td>\n",
              "      <td>0.00</td>\n",
              "      <td>0.0</td>\n",
              "      <td>1.0</td>\n",
              "      <td>ירושלים</td>\n",
              "      <td>0</td>\n",
              "      <td>1</td>\n",
              "      <td>0</td>\n",
              "      <td>1</td>\n",
              "      <td>0</td>\n",
              "      <td>0</td>\n",
              "      <td>0</td>\n",
              "      <td>0</td>\n",
              "      <td>0</td>\n",
              "      <td>1</td>\n",
              "      <td>0</td>\n",
              "      <td>0</td>\n",
              "      <td>0</td>\n",
              "      <td>0</td>\n",
              "      <td>0</td>\n",
              "      <td>1</td>\n",
              "      <td>0</td>\n",
              "      <td>0</td>\n",
              "      <td>0</td>\n",
              "      <td>0</td>\n",
              "      <td>0</td>\n",
              "      <td>0</td>\n",
              "      <td>0</td>\n",
              "      <td>0</td>\n",
              "      <td>0</td>\n",
              "      <td>1</td>\n",
              "      <td>0</td>\n",
              "      <td>0</td>\n",
              "      <td>0</td>\n",
              "      <td>1</td>\n",
              "      <td>0</td>\n",
              "      <td>0</td>\n",
              "      <td>0</td>\n",
              "      <td>0</td>\n",
              "      <td>0</td>\n",
              "      <td>0</td>\n",
              "      <td>0</td>\n",
              "      <td>0</td>\n",
              "      <td>0</td>\n",
              "      <td>0</td>\n",
              "      <td>1</td>\n",
              "      <td>0</td>\n",
              "      <td>0</td>\n",
              "      <td>1</td>\n",
              "      <td>0</td>\n",
              "      <td>0</td>\n",
              "      <td>1</td>\n",
              "      <td>16</td>\n",
              "      <td>16</td>\n",
              "      <td>0</td>\n",
              "      <td>1</td>\n",
              "      <td>0</td>\n",
              "      <td>0</td>\n",
              "    </tr>\n",
              "  </tbody>\n",
              "</table>\n",
              "</div>"
            ],
            "text/plain": [
              "   tourist_id  act_id  ... act_start_hour_evening act_start_hour_night\n",
              "0       17556   59463  ...                      0                    0\n",
              "1       92435  846034  ...                      0                    0\n",
              "\n",
              "[2 rows x 76 columns]"
            ]
          },
          "metadata": {
            "tags": []
          },
          "execution_count": 85
        }
      ]
    },
    {
      "cell_type": "markdown",
      "metadata": {
        "id": "k2StVM_ysqct"
      },
      "source": [
        "## Adding columns to indicate if the tourist had been in every place before"
      ]
    },
    {
      "cell_type": "code",
      "metadata": {
        "id": "Ovtls891sqK1"
      },
      "source": [
        "tourists_ids=activities.tourist_id.unique()\n",
        "activities_ids=activities.act_id.unique()\n",
        "\n",
        "#Create a dictionary to save the activities by ID \n",
        "ls={} \n",
        "for i in range(len(tourists_ids)):\n",
        "  tmp=activities[\"act_place\"].loc[activities[\"tourist_id\"]==tourists_ids[i]]\n",
        "  ls[str(tourists_ids[i])]=tmp.to_numpy()"
      ],
      "execution_count": null,
      "outputs": []
    },
    {
      "cell_type": "code",
      "metadata": {
        "id": "68BVnLs0Mze8"
      },
      "source": [
        "#print(ls)"
      ],
      "execution_count": null,
      "outputs": []
    },
    {
      "cell_type": "markdown",
      "metadata": {
        "id": "1amXRraMQ6Z5"
      },
      "source": [
        "###add dummy columns for check where is the place the turist was (not neccesarly the last 2 activities)"
      ]
    },
    {
      "cell_type": "code",
      "metadata": {
        "id": "ykmwZtVtsqFX",
        "colab": {
          "base_uri": "https://localhost:8080/"
        },
        "outputId": "af5bc4a2-a062-48d1-8fbf-0043db676759"
      },
      "source": [
        "g = activities.groupby(\"tourist_id\")\n",
        "for c in activities[\"act_place\"].unique():\n",
        "    activities[\"was_in_{}\".format(c)] = g[\"act_place\"].transform(\n",
        "        lambda x: (x == c)\n",
        "        .shift()\n",
        "        .replace(False, np.nan)\n",
        "        .ffill()\n",
        "        .fillna(0)\n",
        "        .astype(int)\n",
        "    )\n",
        "\n",
        "print(activities)\n"
      ],
      "execution_count": null,
      "outputs": [
        {
          "output_type": "stream",
          "text": [
            "       tourist_id   act_id    act_date  ... was_in_8 was_in_0 was_in_3\n",
            "0           17556    59463   12/2/2015  ...        0        0        0\n",
            "1           92435   846034   4/26/2017  ...        0        0        0\n",
            "2           20726   266821   4/28/2016  ...        0        0        0\n",
            "3          153888  1554936   10/8/2017  ...        0        0        0\n",
            "4           24131   504374   11/3/2016  ...        0        0        0\n",
            "...           ...      ...         ...  ...      ...      ...      ...\n",
            "20821      193295  1622756  11/24/2017  ...        0        0        0\n",
            "20822      173769  1608111   11/2/2017  ...        1        0        0\n",
            "20823       22423   403852   8/12/2016  ...        0        0        0\n",
            "20824       17689    73505  12/16/2015  ...        0        0        0\n",
            "20825       22232   390355    8/1/2016  ...        0        0        0\n",
            "\n",
            "[20826 rows x 91 columns]\n"
          ],
          "name": "stdout"
        }
      ]
    },
    {
      "cell_type": "code",
      "metadata": {
        "colab": {
          "base_uri": "https://localhost:8080/",
          "height": 208
        },
        "id": "MyYvF4ITspYq",
        "outputId": "9d5d3b98-94e2-464f-e390-6bf7b49e1d24"
      },
      "source": [
        "activities.head(3)"
      ],
      "execution_count": null,
      "outputs": [
        {
          "output_type": "execute_result",
          "data": {
            "text/html": [
              "<div>\n",
              "<style scoped>\n",
              "    .dataframe tbody tr th:only-of-type {\n",
              "        vertical-align: middle;\n",
              "    }\n",
              "\n",
              "    .dataframe tbody tr th {\n",
              "        vertical-align: top;\n",
              "    }\n",
              "\n",
              "    .dataframe thead th {\n",
              "        text-align: right;\n",
              "    }\n",
              "</style>\n",
              "<table border=\"1\" class=\"dataframe\">\n",
              "  <thead>\n",
              "    <tr style=\"text-align: right;\">\n",
              "      <th></th>\n",
              "      <th>tourist_id</th>\n",
              "      <th>act_id</th>\n",
              "      <th>act_date</th>\n",
              "      <th>act_name</th>\n",
              "      <th>is_first_visit</th>\n",
              "      <th>is_long_visit</th>\n",
              "      <th>is_first_act_of_day</th>\n",
              "      <th>is_last_act_of_day</th>\n",
              "      <th>is_act_during_day</th>\n",
              "      <th>arrival_date</th>\n",
              "      <th>total_visit_days</th>\n",
              "      <th>total_act_days</th>\n",
              "      <th>total_act</th>\n",
              "      <th>act_per_day</th>\n",
              "      <th>act_duration</th>\n",
              "      <th>act_start_hour</th>\n",
              "      <th>act_place</th>\n",
              "      <th>is_organized_day_trip</th>\n",
              "      <th>organized_transportation_precent</th>\n",
              "      <th>taxi_precent</th>\n",
              "      <th>private_vehicle_precent</th>\n",
              "      <th>public_tranport_precent</th>\n",
              "      <th>accomodation_place</th>\n",
              "      <th>visit_purpose_Family&amp;Friends</th>\n",
              "      <th>visit_purpose_Travel&amp;Religion</th>\n",
              "      <th>visit_purpose_business</th>\n",
              "      <th>religion_Christian</th>\n",
              "      <th>religion_Jewish</th>\n",
              "      <th>religion_JewishReligious</th>\n",
              "      <th>religion_Other</th>\n",
              "      <th>origin_Africa</th>\n",
              "      <th>origin_East_Asia</th>\n",
              "      <th>origin_Europe</th>\n",
              "      <th>origin_North_America</th>\n",
              "      <th>origin_Oceania</th>\n",
              "      <th>origin_Other</th>\n",
              "      <th>origin_South_Central_America</th>\n",
              "      <th>arrival_season_Christmas</th>\n",
              "      <th>arrival_season_Spring</th>\n",
              "      <th>arrival_season_Summer</th>\n",
              "      <th>...</th>\n",
              "      <th>act_month_3</th>\n",
              "      <th>act_month_4</th>\n",
              "      <th>act_month_5</th>\n",
              "      <th>act_month_6</th>\n",
              "      <th>act_month_7</th>\n",
              "      <th>act_month_8</th>\n",
              "      <th>act_month_9</th>\n",
              "      <th>act_month_10</th>\n",
              "      <th>act_month_11</th>\n",
              "      <th>act_month_12</th>\n",
              "      <th>act_year_2015</th>\n",
              "      <th>act_year_2016</th>\n",
              "      <th>act_year_2017</th>\n",
              "      <th>day_category_First_Day</th>\n",
              "      <th>day_category_Last_Day</th>\n",
              "      <th>day_category_Normal_Day</th>\n",
              "      <th>jerusalem_visiting_category_0</th>\n",
              "      <th>jerusalem_visiting_category_1</th>\n",
              "      <th>jerusalem_visiting_category_More_than_one</th>\n",
              "      <th>act_place_before</th>\n",
              "      <th>act_place_before2</th>\n",
              "      <th>act_start_hour_morning</th>\n",
              "      <th>act_start_hour_afternoon</th>\n",
              "      <th>act_start_hour_evening</th>\n",
              "      <th>act_start_hour_night</th>\n",
              "      <th>was_in_12</th>\n",
              "      <th>was_in_14</th>\n",
              "      <th>was_in_11</th>\n",
              "      <th>was_in_13</th>\n",
              "      <th>was_in_7</th>\n",
              "      <th>was_in_9</th>\n",
              "      <th>was_in_10</th>\n",
              "      <th>was_in_6</th>\n",
              "      <th>was_in_2</th>\n",
              "      <th>was_in_4</th>\n",
              "      <th>was_in_5</th>\n",
              "      <th>was_in_1</th>\n",
              "      <th>was_in_8</th>\n",
              "      <th>was_in_0</th>\n",
              "      <th>was_in_3</th>\n",
              "    </tr>\n",
              "  </thead>\n",
              "  <tbody>\n",
              "    <tr>\n",
              "      <th>0</th>\n",
              "      <td>17556</td>\n",
              "      <td>59463</td>\n",
              "      <td>12/2/2015</td>\n",
              "      <td>חוף הים</td>\n",
              "      <td>0</td>\n",
              "      <td>1</td>\n",
              "      <td>1</td>\n",
              "      <td>0</td>\n",
              "      <td>0</td>\n",
              "      <td>12/2/2015</td>\n",
              "      <td>-1.454847</td>\n",
              "      <td>-1.247900</td>\n",
              "      <td>-0.854205</td>\n",
              "      <td>-0.837902</td>\n",
              "      <td>-0.302516</td>\n",
              "      <td>13</td>\n",
              "      <td>12</td>\n",
              "      <td>0</td>\n",
              "      <td>0.0</td>\n",
              "      <td>0.57</td>\n",
              "      <td>0.0</td>\n",
              "      <td>0.0</td>\n",
              "      <td>NaN</td>\n",
              "      <td>0</td>\n",
              "      <td>1</td>\n",
              "      <td>0</td>\n",
              "      <td>0</td>\n",
              "      <td>1</td>\n",
              "      <td>0</td>\n",
              "      <td>0</td>\n",
              "      <td>0</td>\n",
              "      <td>0</td>\n",
              "      <td>1</td>\n",
              "      <td>0</td>\n",
              "      <td>0</td>\n",
              "      <td>0</td>\n",
              "      <td>0</td>\n",
              "      <td>1</td>\n",
              "      <td>0</td>\n",
              "      <td>0</td>\n",
              "      <td>...</td>\n",
              "      <td>0</td>\n",
              "      <td>0</td>\n",
              "      <td>0</td>\n",
              "      <td>0</td>\n",
              "      <td>0</td>\n",
              "      <td>0</td>\n",
              "      <td>0</td>\n",
              "      <td>0</td>\n",
              "      <td>0</td>\n",
              "      <td>1</td>\n",
              "      <td>1</td>\n",
              "      <td>0</td>\n",
              "      <td>0</td>\n",
              "      <td>1</td>\n",
              "      <td>0</td>\n",
              "      <td>0</td>\n",
              "      <td>0</td>\n",
              "      <td>0</td>\n",
              "      <td>1</td>\n",
              "      <td>16</td>\n",
              "      <td>16</td>\n",
              "      <td>0</td>\n",
              "      <td>1</td>\n",
              "      <td>0</td>\n",
              "      <td>0</td>\n",
              "      <td>0</td>\n",
              "      <td>0</td>\n",
              "      <td>0</td>\n",
              "      <td>0</td>\n",
              "      <td>0</td>\n",
              "      <td>0</td>\n",
              "      <td>0</td>\n",
              "      <td>0</td>\n",
              "      <td>0</td>\n",
              "      <td>0</td>\n",
              "      <td>0</td>\n",
              "      <td>0</td>\n",
              "      <td>0</td>\n",
              "      <td>0</td>\n",
              "      <td>0</td>\n",
              "    </tr>\n",
              "    <tr>\n",
              "      <th>1</th>\n",
              "      <td>92435</td>\n",
              "      <td>846034</td>\n",
              "      <td>4/26/2017</td>\n",
              "      <td>אודיטוריום</td>\n",
              "      <td>0</td>\n",
              "      <td>1</td>\n",
              "      <td>1</td>\n",
              "      <td>0</td>\n",
              "      <td>0</td>\n",
              "      <td>4/23/2017</td>\n",
              "      <td>-0.492598</td>\n",
              "      <td>-0.603250</td>\n",
              "      <td>-0.063430</td>\n",
              "      <td>-0.204238</td>\n",
              "      <td>0.403026</td>\n",
              "      <td>13</td>\n",
              "      <td>14</td>\n",
              "      <td>0</td>\n",
              "      <td>0.0</td>\n",
              "      <td>0.00</td>\n",
              "      <td>0.0</td>\n",
              "      <td>1.0</td>\n",
              "      <td>ירושלים</td>\n",
              "      <td>0</td>\n",
              "      <td>1</td>\n",
              "      <td>0</td>\n",
              "      <td>1</td>\n",
              "      <td>0</td>\n",
              "      <td>0</td>\n",
              "      <td>0</td>\n",
              "      <td>0</td>\n",
              "      <td>0</td>\n",
              "      <td>1</td>\n",
              "      <td>0</td>\n",
              "      <td>0</td>\n",
              "      <td>0</td>\n",
              "      <td>0</td>\n",
              "      <td>0</td>\n",
              "      <td>1</td>\n",
              "      <td>0</td>\n",
              "      <td>...</td>\n",
              "      <td>0</td>\n",
              "      <td>1</td>\n",
              "      <td>0</td>\n",
              "      <td>0</td>\n",
              "      <td>0</td>\n",
              "      <td>0</td>\n",
              "      <td>0</td>\n",
              "      <td>0</td>\n",
              "      <td>0</td>\n",
              "      <td>0</td>\n",
              "      <td>0</td>\n",
              "      <td>0</td>\n",
              "      <td>1</td>\n",
              "      <td>0</td>\n",
              "      <td>0</td>\n",
              "      <td>1</td>\n",
              "      <td>0</td>\n",
              "      <td>0</td>\n",
              "      <td>1</td>\n",
              "      <td>16</td>\n",
              "      <td>16</td>\n",
              "      <td>0</td>\n",
              "      <td>1</td>\n",
              "      <td>0</td>\n",
              "      <td>0</td>\n",
              "      <td>0</td>\n",
              "      <td>0</td>\n",
              "      <td>0</td>\n",
              "      <td>0</td>\n",
              "      <td>0</td>\n",
              "      <td>0</td>\n",
              "      <td>0</td>\n",
              "      <td>0</td>\n",
              "      <td>0</td>\n",
              "      <td>0</td>\n",
              "      <td>0</td>\n",
              "      <td>0</td>\n",
              "      <td>0</td>\n",
              "      <td>0</td>\n",
              "      <td>0</td>\n",
              "    </tr>\n",
              "    <tr>\n",
              "      <th>2</th>\n",
              "      <td>20726</td>\n",
              "      <td>266821</td>\n",
              "      <td>4/28/2016</td>\n",
              "      <td>אולם אירועים</td>\n",
              "      <td>0</td>\n",
              "      <td>1</td>\n",
              "      <td>1</td>\n",
              "      <td>0</td>\n",
              "      <td>0</td>\n",
              "      <td>4/27/2016</td>\n",
              "      <td>-0.171849</td>\n",
              "      <td>-0.280924</td>\n",
              "      <td>-0.409394</td>\n",
              "      <td>-0.204238</td>\n",
              "      <td>0.748598</td>\n",
              "      <td>19</td>\n",
              "      <td>14</td>\n",
              "      <td>0</td>\n",
              "      <td>0.0</td>\n",
              "      <td>1.00</td>\n",
              "      <td>0.0</td>\n",
              "      <td>0.0</td>\n",
              "      <td>ירושלים</td>\n",
              "      <td>1</td>\n",
              "      <td>0</td>\n",
              "      <td>0</td>\n",
              "      <td>0</td>\n",
              "      <td>1</td>\n",
              "      <td>0</td>\n",
              "      <td>0</td>\n",
              "      <td>0</td>\n",
              "      <td>0</td>\n",
              "      <td>1</td>\n",
              "      <td>0</td>\n",
              "      <td>0</td>\n",
              "      <td>0</td>\n",
              "      <td>0</td>\n",
              "      <td>0</td>\n",
              "      <td>1</td>\n",
              "      <td>0</td>\n",
              "      <td>...</td>\n",
              "      <td>0</td>\n",
              "      <td>1</td>\n",
              "      <td>0</td>\n",
              "      <td>0</td>\n",
              "      <td>0</td>\n",
              "      <td>0</td>\n",
              "      <td>0</td>\n",
              "      <td>0</td>\n",
              "      <td>0</td>\n",
              "      <td>0</td>\n",
              "      <td>0</td>\n",
              "      <td>1</td>\n",
              "      <td>0</td>\n",
              "      <td>0</td>\n",
              "      <td>0</td>\n",
              "      <td>1</td>\n",
              "      <td>0</td>\n",
              "      <td>0</td>\n",
              "      <td>1</td>\n",
              "      <td>16</td>\n",
              "      <td>16</td>\n",
              "      <td>0</td>\n",
              "      <td>0</td>\n",
              "      <td>1</td>\n",
              "      <td>0</td>\n",
              "      <td>0</td>\n",
              "      <td>0</td>\n",
              "      <td>0</td>\n",
              "      <td>0</td>\n",
              "      <td>0</td>\n",
              "      <td>0</td>\n",
              "      <td>0</td>\n",
              "      <td>0</td>\n",
              "      <td>0</td>\n",
              "      <td>0</td>\n",
              "      <td>0</td>\n",
              "      <td>0</td>\n",
              "      <td>0</td>\n",
              "      <td>0</td>\n",
              "      <td>0</td>\n",
              "    </tr>\n",
              "  </tbody>\n",
              "</table>\n",
              "<p>3 rows × 91 columns</p>\n",
              "</div>"
            ],
            "text/plain": [
              "   tourist_id  act_id   act_date  ... was_in_8 was_in_0 was_in_3\n",
              "0       17556   59463  12/2/2015  ...        0        0        0\n",
              "1       92435  846034  4/26/2017  ...        0        0        0\n",
              "2       20726  266821  4/28/2016  ...        0        0        0\n",
              "\n",
              "[3 rows x 91 columns]"
            ]
          },
          "metadata": {
            "tags": []
          },
          "execution_count": 89
        }
      ]
    },
    {
      "cell_type": "markdown",
      "metadata": {
        "id": "vRn5e20ATHYW"
      },
      "source": [
        "##Build and run the Neural Network \n",
        "####(3 hidden layers and softmax output for classification)"
      ]
    },
    {
      "cell_type": "code",
      "metadata": {
        "id": "N4eOVHqT1Uq0"
      },
      "source": [
        "from keras import models\n",
        "from keras import layers\n",
        "from keras import regularizers\n",
        "from keras.layers import Dropout"
      ],
      "execution_count": null,
      "outputs": []
    },
    {
      "cell_type": "code",
      "metadata": {
        "id": "fCVD_PKK5TiJ"
      },
      "source": [
        "def build_model():\n",
        "  model=models.Sequential()\n",
        "  model.add(layers.Dense(128,activation='sigmoid',input_shape=(train_data.shape[1],))) #input layer\n",
        "  model.add(Dropout(0.3))\n",
        "  model.add(layers.Dense(512,activation='tanh')) #hidden layer\n",
        "  model.add(Dropout(0.4))\n",
        "  model.add(layers.Dense(512,activation='tanh')) #hidden layer\n",
        "  model.add(Dropout(0.4))\n",
        "  model.add(layers.Dense(512,activation='tanh')) #hidden layer\n",
        "  model.add(Dropout(0.3))\n",
        "  model.add(layers.Dense(15,activation='softmax')) #output layer\n",
        "  model.compile(optimizer='rmsprop',loss='categorical_crossentropy',metrics=['accuracy'])\n",
        "  print(\"model compiled succesfully\")\n",
        "  return model"
      ],
      "execution_count": null,
      "outputs": []
    },
    {
      "cell_type": "code",
      "metadata": {
        "id": "3z6B3Xt-5ZU6",
        "colab": {
          "base_uri": "https://localhost:8080/"
        },
        "outputId": "1782190b-53ea-4782-dbac-bc24ce195453"
      },
      "source": [
        "#droping: 'organized_transportation_precent','taxi_precent','private_vehicle_precent','public_tranport_precent','act_month_1','act_month_2', 'act_month_3', 'act_month_4', 'act_month_5','act_month_6', 'act_month_7', 'act_month_8', 'act_month_9','act_month_10',\n",
        "# 'act_month_11', 'act_month_12', 'act_year_2015','act_year_2016', 'act_year_2017',\n",
        "from sklearn.model_selection import train_test_split\n",
        "X=activities[['is_first_visit','is_long_visit','is_first_act_of_day','is_last_act_of_day','is_act_during_day','total_visit_days','total_act_days','total_act','act_per_day','act_duration','act_start_hour','is_organized_day_trip',\n",
        "              'visit_purpose_Family&Friends','visit_purpose_Travel&Religion','visit_purpose_business','religion_Christian','religion_Jewish','religion_JewishReligious','religion_Other','origin_Africa','origin_East_Asia','origin_Europe',\n",
        "              'origin_North_America','origin_Oceania','origin_Other','origin_South_Central_America','arrival_season_Christmas','arrival_season_Spring','arrival_season_Summer','arrival_season_Tishrei_Holidays','arrival_season_Winter',\n",
        "              'act_weekday_Friday','act_weekday_Monday','act_weekday_Saturday','act_weekday_Sunday','act_weekday_Thursday','act_weekday_Tuesday','act_weekday_Wednesday','day_category_First_Day','day_category_Last_Day','day_category_Normal_Day',\n",
        "              'jerusalem_visiting_category_0','jerusalem_visiting_category_1','jerusalem_visiting_category_More_than_one','act_start_hour_morning','act_start_hour_afternoon','act_start_hour_evening','act_start_hour_night','act_place_before',\n",
        "              'act_place_before2','was_in_0','was_in_1','was_in_2','was_in_3','was_in_4','was_in_5','was_in_6','was_in_7','was_in_8','was_in_9','was_in_10','was_in_11','was_in_12','was_in_13','was_in_14']]  # predictors\n",
        "X = np.asarray(X).astype(np.float32)\n",
        "print(X.shape)\n",
        "y=activities['act_place'] # response variable\n",
        "\n",
        "train_data, test_data, train_targets, test_targets = train_test_split(X, y, test_size=0.2, random_state=123)"
      ],
      "execution_count": null,
      "outputs": [
        {
          "output_type": "stream",
          "text": [
            "(20826, 65)\n"
          ],
          "name": "stdout"
        }
      ]
    },
    {
      "cell_type": "code",
      "metadata": {
        "id": "MFBDjToi7Hvb"
      },
      "source": [
        "#train_targets"
      ],
      "execution_count": null,
      "outputs": []
    },
    {
      "cell_type": "code",
      "metadata": {
        "id": "I7uLp9pQ7KbW"
      },
      "source": [
        "from tensorflow.keras.utils import to_categorical\n",
        "train_targets = to_categorical(train_targets)\n",
        "test_targets=to_categorical(test_targets)"
      ],
      "execution_count": null,
      "outputs": []
    },
    {
      "cell_type": "code",
      "metadata": {
        "id": "W-ce_xsx7O3_",
        "colab": {
          "base_uri": "https://localhost:8080/"
        },
        "outputId": "435ffccd-a5d5-41ae-e13f-9468be20f3b9"
      },
      "source": [
        "print(\"train targets: \",train_targets.shape)\n",
        "print(\"test targets: \",test_targets.shape)\n",
        "print('train data shape: ',train_data.shape)\n",
        "print('test data shape: ',test_data.shape)"
      ],
      "execution_count": null,
      "outputs": [
        {
          "output_type": "stream",
          "text": [
            "train targets:  (16660, 15)\n",
            "test targets:  (4166, 15)\n",
            "train data shape:  (16660, 65)\n",
            "test data shape:  (4166, 65)\n"
          ],
          "name": "stdout"
        }
      ]
    },
    {
      "cell_type": "markdown",
      "metadata": {
        "id": "S9i0_SxKX1FY"
      },
      "source": [
        "####Option to run the network with K-fold"
      ]
    },
    {
      "cell_type": "code",
      "metadata": {
        "id": "suECOT1K7Qf-"
      },
      "source": [
        "k=4\n",
        "num_val_samples=len(train_data)\n",
        "num_epochs=100\n",
        "all_scores=[]"
      ],
      "execution_count": null,
      "outputs": []
    },
    {
      "cell_type": "code",
      "metadata": {
        "id": "AUverMYwX0YZ"
      },
      "source": [
        "# for i in range (1,k):\n",
        "#   print('processing fold #', i)\n",
        "#   partial_train_data, val_data, partial_train_targets, val_targets = train_test_split(train_data, train_targets, test_size=0.2, random_state=123*k) \n",
        "#   print(partial_train_data.shape, partial_train_targets.shape)\n",
        "#   model=build_model()\n",
        "#   model.summary()\n",
        "#   history= model.fit(partial_train_data,\n",
        "#                      partial_train_targets,\n",
        "#                      epochs=100,\n",
        "#                      batch_size=512,\n",
        "#                      validation_data=(val_data,val_targets),\n",
        "#                      verbose=0)\n",
        "#   val_loss, val_acc= model.evaluate(val_data,val_targets,verbose=0)\n",
        "#   all_scores.append(val_acc)"
      ],
      "execution_count": null,
      "outputs": []
    },
    {
      "cell_type": "code",
      "metadata": {
        "id": "PXPDWcpi7T1X",
        "colab": {
          "base_uri": "https://localhost:8080/"
        },
        "outputId": "89a18c58-0262-4528-9f57-dbbacc6a643f"
      },
      "source": [
        "partial_train_data, val_data, partial_train_targets, val_targets = train_test_split(train_data, train_targets, test_size=0.2, random_state=123*k)\n",
        "model=build_model()\n",
        "history= model.fit(partial_train_data,\n",
        "                     partial_train_targets,\n",
        "                     epochs=200,\n",
        "                     batch_size=512,\n",
        "                     validation_data=(val_data,val_targets),\n",
        "                     verbose=0)\n",
        "val_loss, val_acc= model.evaluate(val_data,val_targets,verbose=0)"
      ],
      "execution_count": null,
      "outputs": [
        {
          "output_type": "stream",
          "text": [
            "model compiled succesfully\n"
          ],
          "name": "stdout"
        }
      ]
    },
    {
      "cell_type": "code",
      "metadata": {
        "id": "LBITu9ED7V5Q",
        "colab": {
          "base_uri": "https://localhost:8080/"
        },
        "outputId": "c5d18b00-0348-444c-a193-9b832311b7ed"
      },
      "source": [
        "print(\"validation acc: \",val_acc)\n",
        "print(\"validation loss: \",val_loss)"
      ],
      "execution_count": null,
      "outputs": [
        {
          "output_type": "stream",
          "text": [
            "validation acc:  0.6785714030265808\n",
            "validation loss:  1.0619255304336548\n"
          ],
          "name": "stdout"
        }
      ]
    },
    {
      "cell_type": "code",
      "metadata": {
        "id": "KsliL5KlFyIq",
        "colab": {
          "base_uri": "https://localhost:8080/",
          "height": 295
        },
        "outputId": "b3ee4d61-2d93-4d7c-efd2-bcf8c82a417d"
      },
      "source": [
        "loss = history.history['loss']\n",
        "val_loss = history.history['val_loss']\n",
        "\n",
        "epochs = range(1, len(loss) + 1)\n",
        "\n",
        "plt.plot(epochs, loss, 'bo', label='Training Loss')\n",
        "plt.plot(epochs, val_loss, 'b', label='Validation Loss')\n",
        "plt.title('Training And Validation Loss')\n",
        "plt.xlabel('Epochs')\n",
        "plt.ylabel('Loss')\n",
        "plt.legend()\n",
        "\n",
        "plt.show()"
      ],
      "execution_count": null,
      "outputs": [
        {
          "output_type": "display_data",
          "data": {
            "image/png": "[encoded data removed]",
            "text/plain": [
              "<Figure size 432x288 with 1 Axes>"
            ]
          },
          "metadata": {
            "tags": [],
            "needs_background": "light"
          }
        }
      ]
    },
    {
      "cell_type": "code",
      "metadata": {
        "id": "bC-YjfGrF30O",
        "colab": {
          "base_uri": "https://localhost:8080/",
          "height": 295
        },
        "outputId": "78cdad83-8213-4236-8a85-a004398f8fb8"
      },
      "source": [
        "plt.clf()   # clear figure\n",
        "\n",
        "acc = history.history['accuracy']\n",
        "val_acc = history.history['val_accuracy']\n",
        "\n",
        "plt.plot(epochs, acc, 'bo', label='Training Accuracy')\n",
        "plt.plot(epochs, val_acc, 'b', label='Validation Accuracy')\n",
        "plt.title('Training And Validation Accuracy')\n",
        "plt.xlabel('Epochs')\n",
        "plt.ylabel('Accuracy')\n",
        "plt.legend()\n",
        "\n",
        "plt.show()"
      ],
      "execution_count": null,
      "outputs": [
        {
          "output_type": "display_data",
          "data": {
            "image/png": "[encoded data removed]",
            "text/plain": [
              "<Figure size 432x288 with 1 Axes>"
            ]
          },
          "metadata": {
            "tags": [],
            "needs_background": "light"
          }
        }
      ]
    },
    {
      "cell_type": "code",
      "metadata": {
        "id": "4pLnwzCLcDCq",
        "colab": {
          "base_uri": "https://localhost:8080/"
        },
        "outputId": "61b7f5a2-133e-4b03-ea32-06ac1a18ceb4"
      },
      "source": [
        "test_loss, test_acc = model.evaluate(test_data, test_targets)"
      ],
      "execution_count": null,
      "outputs": [
        {
          "output_type": "stream",
          "text": [
            "131/131 [==============================] - 0s 2ms/step - loss: 1.0707 - accuracy: 0.6791\n"
          ],
          "name": "stdout"
        }
      ]
    },
    {
      "cell_type": "code",
      "metadata": {
        "colab": {
          "base_uri": "https://localhost:8080/"
        },
        "id": "_YgGfIE_9n7P",
        "outputId": "c23692ee-9d3a-4ac0-cb72-e21ae9a256c0"
      },
      "source": [
        "print(\"test acc: \",test_acc)\n",
        "print(\"test loss: \",test_loss)"
      ],
      "execution_count": null,
      "outputs": [
        {
          "output_type": "stream",
          "text": [
            "test acc:  0.6790686249732971\n",
            "test loss:  1.0706793069839478\n"
          ],
          "name": "stdout"
        }
      ]
    },
    {
      "cell_type": "code",
      "metadata": {
        "id": "MOqJlw3m_gDp"
      },
      "source": [
        "from sklearn.metrics import confusion_matrix,classification_report"
      ],
      "execution_count": null,
      "outputs": []
    },
    {
      "cell_type": "code",
      "metadata": {
        "id": "sggdAZrBAakV"
      },
      "source": [
        "def to_classes(arr):\n",
        "  rows, cols = (arr.shape[0],arr.shape[1]) \n",
        "  result=np.zeros(arr.shape[0],)\n",
        "  max=0\n",
        "  index=0\n",
        "  for i in range(rows):\n",
        "    for j in range(cols):\n",
        "      if arr[i][j]>max:\n",
        "           max=arr[i][j]\n",
        "           index=j\n",
        "    result[i]=index\n",
        "    max=0 \n",
        "  return result"
      ],
      "execution_count": null,
      "outputs": []
    },
    {
      "cell_type": "code",
      "metadata": {
        "colab": {
          "base_uri": "https://localhost:8080/"
        },
        "id": "EJ9uPmxV9pWS",
        "outputId": "e53f4017-4264-496c-b219-dbae6c64c288"
      },
      "source": [
        "test_pred= model.predict(test_data,verbose=0)\n",
        "test_pred_classes=to_classes(test_pred)\n",
        "test_targets_classes=to_classes(test_targets)\n",
        "#print(val_pred_classes.shape,val_targets_classes.shape)\n",
        "#print(val_pred_classes,val_targets_classes)\n",
        "#print(confusion_matrix(test_targets_classes,test_pred_classes,normalize='all'))\n",
        "report = classification_report(test_targets_classes, test_pred_classes)\n",
        "print(report)"
      ],
      "execution_count": null,
      "outputs": [
        {
          "output_type": "stream",
          "text": [
            "              precision    recall  f1-score   support\n",
            "\n",
            "         0.0       0.25      0.08      0.12        24\n",
            "         1.0       0.40      0.07      0.12        27\n",
            "         2.0       0.33      0.24      0.28        33\n",
            "         3.0       0.44      0.39      0.41        31\n",
            "         4.0       0.31      0.05      0.09        73\n",
            "         5.0       0.35      0.09      0.14        67\n",
            "         6.0       0.36      0.20      0.25        51\n",
            "         7.0       0.20      0.12      0.15        41\n",
            "         8.0       0.58      0.55      0.56        33\n",
            "         9.0       0.64      0.20      0.30       106\n",
            "        10.0       0.52      0.69      0.60       159\n",
            "        11.0       0.49      0.48      0.49       258\n",
            "        12.0       0.63      0.24      0.35       579\n",
            "        13.0       0.54      0.82      0.65       882\n",
            "        14.0       0.85      0.91      0.88      1802\n",
            "\n",
            "    accuracy                           0.68      4166\n",
            "   macro avg       0.46      0.34      0.36      4166\n",
            "weighted avg       0.67      0.68      0.65      4166\n",
            "\n"
          ],
          "name": "stdout"
        }
      ]
    },
    {
      "cell_type": "code",
      "metadata": {
        "id": "G9v7eJLZ_cXF"
      },
      "source": [],
      "execution_count": null,
      "outputs": []
    }
  ]
}